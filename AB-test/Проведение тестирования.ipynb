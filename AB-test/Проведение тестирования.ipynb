{
 "cells": [
  {
   "cell_type": "markdown",
   "metadata": {},
   "source": [
    "# Проведение А/В-тестирования"
   ]
  },
  {
   "cell_type": "markdown",
   "metadata": {},
   "source": [
    "Вместе с отделом маркетинга подготовили список гипотез для увеличения выручки.\n",
    "\n",
    "У нас в наличии три датафрейма: 1) с расчитанными параметрами Reach, Impact, Confidence, Efforts; 2) остальные данные получены в ходе проведённого А/В-теста и описывают сколько, в какие даты и какими пользователями было сделано заказов и общее количество посетителей сервиса. \n",
    "\n",
    "Необходимо приоритизировать гипотезы.\n",
    "\n",
    "- Приоритизируем гипотезы с помощью фреймворка ICE.\n",
    "- Приоритизируем гипотезы с помощью фреймворка RICE.\n",
    "- Рассмотрим получившиеся данные.\n",
    "\n",
    "Затем необходимо проанализировать результаты проведённого A/B-теста.\n",
    "\n",
    "- Рассмотрим кумулятивную выручку, средний чек и конверсию по группам.\n",
    "- Рассмотрим относительное изменение кумулятивного среднего чека и конверсии экспериментальной группы относительно стандартной.\n",
    "- Посчитаем статистическую значимость различий в конверсии и в среднем чеке заказа между группами.\n",
    "- Если будут аномалии, посчитаем статистическую значимость различий в конверсии и в среднем чеке заказа между группами по уже \"очищенным\" данным. Рассмотрим как изменятся выводы.\n",
    "- Примем решение по итогам проведённых действий."
   ]
  },
  {
   "cell_type": "markdown",
   "metadata": {},
   "source": [
    "## Приоритизация гипотез"
   ]
  },
  {
   "cell_type": "code",
   "execution_count": 1,
   "metadata": {},
   "outputs": [],
   "source": [
    "import pandas as pd\n",
    "import datetime as dt\n",
    "import matplotlib.pyplot as plt\n",
    "import numpy as np\n",
    "import scipy.stats as stats"
   ]
  },
  {
   "cell_type": "code",
   "execution_count": 2,
   "metadata": {},
   "outputs": [
    {
     "name": "stdout",
     "output_type": "stream",
     "text": [
      "<class 'pandas.core.frame.DataFrame'>\n",
      "RangeIndex: 9 entries, 0 to 8\n",
      "Data columns (total 5 columns):\n",
      " #   Column      Non-Null Count  Dtype \n",
      "---  ------      --------------  ----- \n",
      " 0   Hypothesis  9 non-null      object\n",
      " 1   Reach       9 non-null      int64 \n",
      " 2   Impact      9 non-null      int64 \n",
      " 3   Confidence  9 non-null      int64 \n",
      " 4   Efforts     9 non-null      int64 \n",
      "dtypes: int64(4), object(1)\n",
      "memory usage: 488.0+ bytes\n"
     ]
    },
    {
     "data": {
      "text/html": [
       "<div>\n",
       "<style scoped>\n",
       "    .dataframe tbody tr th:only-of-type {\n",
       "        vertical-align: middle;\n",
       "    }\n",
       "\n",
       "    .dataframe tbody tr th {\n",
       "        vertical-align: top;\n",
       "    }\n",
       "\n",
       "    .dataframe thead th {\n",
       "        text-align: right;\n",
       "    }\n",
       "</style>\n",
       "<table border=\"1\" class=\"dataframe\">\n",
       "  <thead>\n",
       "    <tr style=\"text-align: right;\">\n",
       "      <th></th>\n",
       "      <th>Hypothesis</th>\n",
       "      <th>Reach</th>\n",
       "      <th>Impact</th>\n",
       "      <th>Confidence</th>\n",
       "      <th>Efforts</th>\n",
       "    </tr>\n",
       "  </thead>\n",
       "  <tbody>\n",
       "    <tr>\n",
       "      <th>0</th>\n",
       "      <td>Добавить два новых канала привлечения трафика,...</td>\n",
       "      <td>3</td>\n",
       "      <td>10</td>\n",
       "      <td>8</td>\n",
       "      <td>6</td>\n",
       "    </tr>\n",
       "    <tr>\n",
       "      <th>1</th>\n",
       "      <td>Запустить собственную службу доставки, что сок...</td>\n",
       "      <td>2</td>\n",
       "      <td>5</td>\n",
       "      <td>4</td>\n",
       "      <td>10</td>\n",
       "    </tr>\n",
       "    <tr>\n",
       "      <th>2</th>\n",
       "      <td>Добавить блоки рекомендаций товаров на сайт ин...</td>\n",
       "      <td>8</td>\n",
       "      <td>3</td>\n",
       "      <td>7</td>\n",
       "      <td>3</td>\n",
       "    </tr>\n",
       "    <tr>\n",
       "      <th>3</th>\n",
       "      <td>Изменить структура категорий, что увеличит кон...</td>\n",
       "      <td>8</td>\n",
       "      <td>3</td>\n",
       "      <td>3</td>\n",
       "      <td>8</td>\n",
       "    </tr>\n",
       "    <tr>\n",
       "      <th>4</th>\n",
       "      <td>Изменить цвет фона главной страницы, чтобы уве...</td>\n",
       "      <td>3</td>\n",
       "      <td>1</td>\n",
       "      <td>1</td>\n",
       "      <td>1</td>\n",
       "    </tr>\n",
       "    <tr>\n",
       "      <th>5</th>\n",
       "      <td>Добавить страницу отзывов клиентов о магазине,...</td>\n",
       "      <td>3</td>\n",
       "      <td>2</td>\n",
       "      <td>2</td>\n",
       "      <td>3</td>\n",
       "    </tr>\n",
       "    <tr>\n",
       "      <th>6</th>\n",
       "      <td>Показать на главной странице баннеры с актуаль...</td>\n",
       "      <td>5</td>\n",
       "      <td>3</td>\n",
       "      <td>8</td>\n",
       "      <td>3</td>\n",
       "    </tr>\n",
       "    <tr>\n",
       "      <th>7</th>\n",
       "      <td>Добавить форму подписки на все основные страни...</td>\n",
       "      <td>10</td>\n",
       "      <td>7</td>\n",
       "      <td>8</td>\n",
       "      <td>5</td>\n",
       "    </tr>\n",
       "    <tr>\n",
       "      <th>8</th>\n",
       "      <td>Запустить акцию, дающую скидку на товар в день...</td>\n",
       "      <td>1</td>\n",
       "      <td>9</td>\n",
       "      <td>9</td>\n",
       "      <td>5</td>\n",
       "    </tr>\n",
       "  </tbody>\n",
       "</table>\n",
       "</div>"
      ],
      "text/plain": [
       "                                          Hypothesis  Reach  Impact  \\\n",
       "0  Добавить два новых канала привлечения трафика,...      3      10   \n",
       "1  Запустить собственную службу доставки, что сок...      2       5   \n",
       "2  Добавить блоки рекомендаций товаров на сайт ин...      8       3   \n",
       "3  Изменить структура категорий, что увеличит кон...      8       3   \n",
       "4  Изменить цвет фона главной страницы, чтобы уве...      3       1   \n",
       "5  Добавить страницу отзывов клиентов о магазине,...      3       2   \n",
       "6  Показать на главной странице баннеры с актуаль...      5       3   \n",
       "7  Добавить форму подписки на все основные страни...     10       7   \n",
       "8  Запустить акцию, дающую скидку на товар в день...      1       9   \n",
       "\n",
       "   Confidence  Efforts  \n",
       "0           8        6  \n",
       "1           4       10  \n",
       "2           7        3  \n",
       "3           3        8  \n",
       "4           1        1  \n",
       "5           2        3  \n",
       "6           8        3  \n",
       "7           8        5  \n",
       "8           9        5  "
      ]
     },
     "execution_count": 2,
     "metadata": {},
     "output_type": "execute_result"
    }
   ],
   "source": [
    "hypothesis = pd.read_csv('/datasets/hypothesis.csv')\n",
    "hypothesis.info()\n",
    "hypothesis"
   ]
  },
  {
   "cell_type": "markdown",
   "metadata": {},
   "source": [
    "Расчёт ICE и сортировка по убыванию."
   ]
  },
  {
   "cell_type": "code",
   "execution_count": 3,
   "metadata": {
    "scrolled": false
   },
   "outputs": [
    {
     "data": {
      "text/html": [
       "<style  type=\"text/css\" >\n",
       "#T_41368_row0_col0,#T_41368_row1_col0,#T_41368_row2_col0,#T_41368_row3_col0,#T_41368_row4_col0,#T_41368_row5_col0,#T_41368_row6_col0,#T_41368_row7_col0,#T_41368_row8_col0{\n",
       "            width:  300px;\n",
       "        }</style><table id=\"T_41368_\" ><thead>    <tr>        <th class=\"blank level0\" ></th>        <th class=\"col_heading level0 col0\" >Hypothesis</th>        <th class=\"col_heading level0 col1\" >Reach</th>        <th class=\"col_heading level0 col2\" >Impact</th>        <th class=\"col_heading level0 col3\" >Confidence</th>        <th class=\"col_heading level0 col4\" >Efforts</th>        <th class=\"col_heading level0 col5\" >ICE</th>    </tr></thead><tbody>\n",
       "                <tr>\n",
       "                        <th id=\"T_41368_level0_row0\" class=\"row_heading level0 row0\" >8</th>\n",
       "                        <td id=\"T_41368_row0_col0\" class=\"data row0 col0\" >Запустить акцию, дающую скидку на товар в день рождения</td>\n",
       "                        <td id=\"T_41368_row0_col1\" class=\"data row0 col1\" >1</td>\n",
       "                        <td id=\"T_41368_row0_col2\" class=\"data row0 col2\" >9</td>\n",
       "                        <td id=\"T_41368_row0_col3\" class=\"data row0 col3\" >9</td>\n",
       "                        <td id=\"T_41368_row0_col4\" class=\"data row0 col4\" >5</td>\n",
       "                        <td id=\"T_41368_row0_col5\" class=\"data row0 col5\" >16.200000</td>\n",
       "            </tr>\n",
       "            <tr>\n",
       "                        <th id=\"T_41368_level0_row1\" class=\"row_heading level0 row1\" >0</th>\n",
       "                        <td id=\"T_41368_row1_col0\" class=\"data row1 col0\" >Добавить два новых канала привлечения трафика, что позволит привлекать на 30% больше пользователей</td>\n",
       "                        <td id=\"T_41368_row1_col1\" class=\"data row1 col1\" >3</td>\n",
       "                        <td id=\"T_41368_row1_col2\" class=\"data row1 col2\" >10</td>\n",
       "                        <td id=\"T_41368_row1_col3\" class=\"data row1 col3\" >8</td>\n",
       "                        <td id=\"T_41368_row1_col4\" class=\"data row1 col4\" >6</td>\n",
       "                        <td id=\"T_41368_row1_col5\" class=\"data row1 col5\" >13.333333</td>\n",
       "            </tr>\n",
       "            <tr>\n",
       "                        <th id=\"T_41368_level0_row2\" class=\"row_heading level0 row2\" >7</th>\n",
       "                        <td id=\"T_41368_row2_col0\" class=\"data row2 col0\" >Добавить форму подписки на все основные страницы, чтобы собрать базу клиентов для email-рассылок</td>\n",
       "                        <td id=\"T_41368_row2_col1\" class=\"data row2 col1\" >10</td>\n",
       "                        <td id=\"T_41368_row2_col2\" class=\"data row2 col2\" >7</td>\n",
       "                        <td id=\"T_41368_row2_col3\" class=\"data row2 col3\" >8</td>\n",
       "                        <td id=\"T_41368_row2_col4\" class=\"data row2 col4\" >5</td>\n",
       "                        <td id=\"T_41368_row2_col5\" class=\"data row2 col5\" >11.200000</td>\n",
       "            </tr>\n",
       "            <tr>\n",
       "                        <th id=\"T_41368_level0_row3\" class=\"row_heading level0 row3\" >6</th>\n",
       "                        <td id=\"T_41368_row3_col0\" class=\"data row3 col0\" >Показать на главной странице баннеры с актуальными акциями и распродажами, чтобы увеличить конверсию</td>\n",
       "                        <td id=\"T_41368_row3_col1\" class=\"data row3 col1\" >5</td>\n",
       "                        <td id=\"T_41368_row3_col2\" class=\"data row3 col2\" >3</td>\n",
       "                        <td id=\"T_41368_row3_col3\" class=\"data row3 col3\" >8</td>\n",
       "                        <td id=\"T_41368_row3_col4\" class=\"data row3 col4\" >3</td>\n",
       "                        <td id=\"T_41368_row3_col5\" class=\"data row3 col5\" >8.000000</td>\n",
       "            </tr>\n",
       "            <tr>\n",
       "                        <th id=\"T_41368_level0_row4\" class=\"row_heading level0 row4\" >2</th>\n",
       "                        <td id=\"T_41368_row4_col0\" class=\"data row4 col0\" >Добавить блоки рекомендаций товаров на сайт интернет магазина, чтобы повысить конверсию и средний чек заказа</td>\n",
       "                        <td id=\"T_41368_row4_col1\" class=\"data row4 col1\" >8</td>\n",
       "                        <td id=\"T_41368_row4_col2\" class=\"data row4 col2\" >3</td>\n",
       "                        <td id=\"T_41368_row4_col3\" class=\"data row4 col3\" >7</td>\n",
       "                        <td id=\"T_41368_row4_col4\" class=\"data row4 col4\" >3</td>\n",
       "                        <td id=\"T_41368_row4_col5\" class=\"data row4 col5\" >7.000000</td>\n",
       "            </tr>\n",
       "            <tr>\n",
       "                        <th id=\"T_41368_level0_row5\" class=\"row_heading level0 row5\" >1</th>\n",
       "                        <td id=\"T_41368_row5_col0\" class=\"data row5 col0\" >Запустить собственную службу доставки, что сократит срок доставки заказов</td>\n",
       "                        <td id=\"T_41368_row5_col1\" class=\"data row5 col1\" >2</td>\n",
       "                        <td id=\"T_41368_row5_col2\" class=\"data row5 col2\" >5</td>\n",
       "                        <td id=\"T_41368_row5_col3\" class=\"data row5 col3\" >4</td>\n",
       "                        <td id=\"T_41368_row5_col4\" class=\"data row5 col4\" >10</td>\n",
       "                        <td id=\"T_41368_row5_col5\" class=\"data row5 col5\" >2.000000</td>\n",
       "            </tr>\n",
       "            <tr>\n",
       "                        <th id=\"T_41368_level0_row6\" class=\"row_heading level0 row6\" >5</th>\n",
       "                        <td id=\"T_41368_row6_col0\" class=\"data row6 col0\" >Добавить страницу отзывов клиентов о магазине, что позволит увеличить количество заказов</td>\n",
       "                        <td id=\"T_41368_row6_col1\" class=\"data row6 col1\" >3</td>\n",
       "                        <td id=\"T_41368_row6_col2\" class=\"data row6 col2\" >2</td>\n",
       "                        <td id=\"T_41368_row6_col3\" class=\"data row6 col3\" >2</td>\n",
       "                        <td id=\"T_41368_row6_col4\" class=\"data row6 col4\" >3</td>\n",
       "                        <td id=\"T_41368_row6_col5\" class=\"data row6 col5\" >1.333333</td>\n",
       "            </tr>\n",
       "            <tr>\n",
       "                        <th id=\"T_41368_level0_row7\" class=\"row_heading level0 row7\" >3</th>\n",
       "                        <td id=\"T_41368_row7_col0\" class=\"data row7 col0\" >Изменить структура категорий, что увеличит конверсию, т.к. пользователи быстрее найдут нужный товар</td>\n",
       "                        <td id=\"T_41368_row7_col1\" class=\"data row7 col1\" >8</td>\n",
       "                        <td id=\"T_41368_row7_col2\" class=\"data row7 col2\" >3</td>\n",
       "                        <td id=\"T_41368_row7_col3\" class=\"data row7 col3\" >3</td>\n",
       "                        <td id=\"T_41368_row7_col4\" class=\"data row7 col4\" >8</td>\n",
       "                        <td id=\"T_41368_row7_col5\" class=\"data row7 col5\" >1.125000</td>\n",
       "            </tr>\n",
       "            <tr>\n",
       "                        <th id=\"T_41368_level0_row8\" class=\"row_heading level0 row8\" >4</th>\n",
       "                        <td id=\"T_41368_row8_col0\" class=\"data row8 col0\" >Изменить цвет фона главной страницы, чтобы увеличить вовлеченность пользователей</td>\n",
       "                        <td id=\"T_41368_row8_col1\" class=\"data row8 col1\" >3</td>\n",
       "                        <td id=\"T_41368_row8_col2\" class=\"data row8 col2\" >1</td>\n",
       "                        <td id=\"T_41368_row8_col3\" class=\"data row8 col3\" >1</td>\n",
       "                        <td id=\"T_41368_row8_col4\" class=\"data row8 col4\" >1</td>\n",
       "                        <td id=\"T_41368_row8_col5\" class=\"data row8 col5\" >1.000000</td>\n",
       "            </tr>\n",
       "    </tbody></table>"
      ],
      "text/plain": [
       "<pandas.io.formats.style.Styler at 0x7fa79b366eb0>"
      ]
     },
     "execution_count": 3,
     "metadata": {},
     "output_type": "execute_result"
    }
   ],
   "source": [
    "hypothesis['ICE'] = (hypothesis['Impact'] * hypothesis['Confidence']) / hypothesis['Efforts']\n",
    "hypothesis.sort_values(by='ICE', ascending=False).style.set_properties(subset=['Hypothesis'], **{'width': '300px'})"
   ]
  },
  {
   "cell_type": "markdown",
   "metadata": {},
   "source": [
    "Лучший результат у восьмой гипотезы.\n",
    "\n",
    "Расчёт RICE."
   ]
  },
  {
   "cell_type": "code",
   "execution_count": 4,
   "metadata": {
    "scrolled": false
   },
   "outputs": [
    {
     "data": {
      "text/html": [
       "<style  type=\"text/css\" >\n",
       "#T_d16f0_row0_col0,#T_d16f0_row1_col0,#T_d16f0_row2_col0,#T_d16f0_row3_col0,#T_d16f0_row4_col0,#T_d16f0_row5_col0,#T_d16f0_row6_col0,#T_d16f0_row7_col0,#T_d16f0_row8_col0{\n",
       "            width:  300px;\n",
       "        }</style><table id=\"T_d16f0_\" ><thead>    <tr>        <th class=\"blank level0\" ></th>        <th class=\"col_heading level0 col0\" >Hypothesis</th>        <th class=\"col_heading level0 col1\" >Reach</th>        <th class=\"col_heading level0 col2\" >Impact</th>        <th class=\"col_heading level0 col3\" >Confidence</th>        <th class=\"col_heading level0 col4\" >Efforts</th>        <th class=\"col_heading level0 col5\" >ICE</th>        <th class=\"col_heading level0 col6\" >RICE</th>    </tr></thead><tbody>\n",
       "                <tr>\n",
       "                        <th id=\"T_d16f0_level0_row0\" class=\"row_heading level0 row0\" >7</th>\n",
       "                        <td id=\"T_d16f0_row0_col0\" class=\"data row0 col0\" >Добавить форму подписки на все основные страницы, чтобы собрать базу клиентов для email-рассылок</td>\n",
       "                        <td id=\"T_d16f0_row0_col1\" class=\"data row0 col1\" >10</td>\n",
       "                        <td id=\"T_d16f0_row0_col2\" class=\"data row0 col2\" >7</td>\n",
       "                        <td id=\"T_d16f0_row0_col3\" class=\"data row0 col3\" >8</td>\n",
       "                        <td id=\"T_d16f0_row0_col4\" class=\"data row0 col4\" >5</td>\n",
       "                        <td id=\"T_d16f0_row0_col5\" class=\"data row0 col5\" >11.200000</td>\n",
       "                        <td id=\"T_d16f0_row0_col6\" class=\"data row0 col6\" >112.000000</td>\n",
       "            </tr>\n",
       "            <tr>\n",
       "                        <th id=\"T_d16f0_level0_row1\" class=\"row_heading level0 row1\" >2</th>\n",
       "                        <td id=\"T_d16f0_row1_col0\" class=\"data row1 col0\" >Добавить блоки рекомендаций товаров на сайт интернет магазина, чтобы повысить конверсию и средний чек заказа</td>\n",
       "                        <td id=\"T_d16f0_row1_col1\" class=\"data row1 col1\" >8</td>\n",
       "                        <td id=\"T_d16f0_row1_col2\" class=\"data row1 col2\" >3</td>\n",
       "                        <td id=\"T_d16f0_row1_col3\" class=\"data row1 col3\" >7</td>\n",
       "                        <td id=\"T_d16f0_row1_col4\" class=\"data row1 col4\" >3</td>\n",
       "                        <td id=\"T_d16f0_row1_col5\" class=\"data row1 col5\" >7.000000</td>\n",
       "                        <td id=\"T_d16f0_row1_col6\" class=\"data row1 col6\" >56.000000</td>\n",
       "            </tr>\n",
       "            <tr>\n",
       "                        <th id=\"T_d16f0_level0_row2\" class=\"row_heading level0 row2\" >0</th>\n",
       "                        <td id=\"T_d16f0_row2_col0\" class=\"data row2 col0\" >Добавить два новых канала привлечения трафика, что позволит привлекать на 30% больше пользователей</td>\n",
       "                        <td id=\"T_d16f0_row2_col1\" class=\"data row2 col1\" >3</td>\n",
       "                        <td id=\"T_d16f0_row2_col2\" class=\"data row2 col2\" >10</td>\n",
       "                        <td id=\"T_d16f0_row2_col3\" class=\"data row2 col3\" >8</td>\n",
       "                        <td id=\"T_d16f0_row2_col4\" class=\"data row2 col4\" >6</td>\n",
       "                        <td id=\"T_d16f0_row2_col5\" class=\"data row2 col5\" >13.333333</td>\n",
       "                        <td id=\"T_d16f0_row2_col6\" class=\"data row2 col6\" >40.000000</td>\n",
       "            </tr>\n",
       "            <tr>\n",
       "                        <th id=\"T_d16f0_level0_row3\" class=\"row_heading level0 row3\" >6</th>\n",
       "                        <td id=\"T_d16f0_row3_col0\" class=\"data row3 col0\" >Показать на главной странице баннеры с актуальными акциями и распродажами, чтобы увеличить конверсию</td>\n",
       "                        <td id=\"T_d16f0_row3_col1\" class=\"data row3 col1\" >5</td>\n",
       "                        <td id=\"T_d16f0_row3_col2\" class=\"data row3 col2\" >3</td>\n",
       "                        <td id=\"T_d16f0_row3_col3\" class=\"data row3 col3\" >8</td>\n",
       "                        <td id=\"T_d16f0_row3_col4\" class=\"data row3 col4\" >3</td>\n",
       "                        <td id=\"T_d16f0_row3_col5\" class=\"data row3 col5\" >8.000000</td>\n",
       "                        <td id=\"T_d16f0_row3_col6\" class=\"data row3 col6\" >40.000000</td>\n",
       "            </tr>\n",
       "            <tr>\n",
       "                        <th id=\"T_d16f0_level0_row4\" class=\"row_heading level0 row4\" >8</th>\n",
       "                        <td id=\"T_d16f0_row4_col0\" class=\"data row4 col0\" >Запустить акцию, дающую скидку на товар в день рождения</td>\n",
       "                        <td id=\"T_d16f0_row4_col1\" class=\"data row4 col1\" >1</td>\n",
       "                        <td id=\"T_d16f0_row4_col2\" class=\"data row4 col2\" >9</td>\n",
       "                        <td id=\"T_d16f0_row4_col3\" class=\"data row4 col3\" >9</td>\n",
       "                        <td id=\"T_d16f0_row4_col4\" class=\"data row4 col4\" >5</td>\n",
       "                        <td id=\"T_d16f0_row4_col5\" class=\"data row4 col5\" >16.200000</td>\n",
       "                        <td id=\"T_d16f0_row4_col6\" class=\"data row4 col6\" >16.200000</td>\n",
       "            </tr>\n",
       "            <tr>\n",
       "                        <th id=\"T_d16f0_level0_row5\" class=\"row_heading level0 row5\" >3</th>\n",
       "                        <td id=\"T_d16f0_row5_col0\" class=\"data row5 col0\" >Изменить структура категорий, что увеличит конверсию, т.к. пользователи быстрее найдут нужный товар</td>\n",
       "                        <td id=\"T_d16f0_row5_col1\" class=\"data row5 col1\" >8</td>\n",
       "                        <td id=\"T_d16f0_row5_col2\" class=\"data row5 col2\" >3</td>\n",
       "                        <td id=\"T_d16f0_row5_col3\" class=\"data row5 col3\" >3</td>\n",
       "                        <td id=\"T_d16f0_row5_col4\" class=\"data row5 col4\" >8</td>\n",
       "                        <td id=\"T_d16f0_row5_col5\" class=\"data row5 col5\" >1.125000</td>\n",
       "                        <td id=\"T_d16f0_row5_col6\" class=\"data row5 col6\" >9.000000</td>\n",
       "            </tr>\n",
       "            <tr>\n",
       "                        <th id=\"T_d16f0_level0_row6\" class=\"row_heading level0 row6\" >1</th>\n",
       "                        <td id=\"T_d16f0_row6_col0\" class=\"data row6 col0\" >Запустить собственную службу доставки, что сократит срок доставки заказов</td>\n",
       "                        <td id=\"T_d16f0_row6_col1\" class=\"data row6 col1\" >2</td>\n",
       "                        <td id=\"T_d16f0_row6_col2\" class=\"data row6 col2\" >5</td>\n",
       "                        <td id=\"T_d16f0_row6_col3\" class=\"data row6 col3\" >4</td>\n",
       "                        <td id=\"T_d16f0_row6_col4\" class=\"data row6 col4\" >10</td>\n",
       "                        <td id=\"T_d16f0_row6_col5\" class=\"data row6 col5\" >2.000000</td>\n",
       "                        <td id=\"T_d16f0_row6_col6\" class=\"data row6 col6\" >4.000000</td>\n",
       "            </tr>\n",
       "            <tr>\n",
       "                        <th id=\"T_d16f0_level0_row7\" class=\"row_heading level0 row7\" >5</th>\n",
       "                        <td id=\"T_d16f0_row7_col0\" class=\"data row7 col0\" >Добавить страницу отзывов клиентов о магазине, что позволит увеличить количество заказов</td>\n",
       "                        <td id=\"T_d16f0_row7_col1\" class=\"data row7 col1\" >3</td>\n",
       "                        <td id=\"T_d16f0_row7_col2\" class=\"data row7 col2\" >2</td>\n",
       "                        <td id=\"T_d16f0_row7_col3\" class=\"data row7 col3\" >2</td>\n",
       "                        <td id=\"T_d16f0_row7_col4\" class=\"data row7 col4\" >3</td>\n",
       "                        <td id=\"T_d16f0_row7_col5\" class=\"data row7 col5\" >1.333333</td>\n",
       "                        <td id=\"T_d16f0_row7_col6\" class=\"data row7 col6\" >4.000000</td>\n",
       "            </tr>\n",
       "            <tr>\n",
       "                        <th id=\"T_d16f0_level0_row8\" class=\"row_heading level0 row8\" >4</th>\n",
       "                        <td id=\"T_d16f0_row8_col0\" class=\"data row8 col0\" >Изменить цвет фона главной страницы, чтобы увеличить вовлеченность пользователей</td>\n",
       "                        <td id=\"T_d16f0_row8_col1\" class=\"data row8 col1\" >3</td>\n",
       "                        <td id=\"T_d16f0_row8_col2\" class=\"data row8 col2\" >1</td>\n",
       "                        <td id=\"T_d16f0_row8_col3\" class=\"data row8 col3\" >1</td>\n",
       "                        <td id=\"T_d16f0_row8_col4\" class=\"data row8 col4\" >1</td>\n",
       "                        <td id=\"T_d16f0_row8_col5\" class=\"data row8 col5\" >1.000000</td>\n",
       "                        <td id=\"T_d16f0_row8_col6\" class=\"data row8 col6\" >3.000000</td>\n",
       "            </tr>\n",
       "    </tbody></table>"
      ],
      "text/plain": [
       "<pandas.io.formats.style.Styler at 0x7fa79b366970>"
      ]
     },
     "execution_count": 4,
     "metadata": {},
     "output_type": "execute_result"
    }
   ],
   "source": [
    "hypothesis['RICE'] = (hypothesis['Reach'] * hypothesis['Impact'] * hypothesis['Confidence']) / hypothesis['Efforts']\n",
    "hypothesis.sort_values(by='RICE', ascending=False).style.set_properties(subset=['Hypothesis'], **{'width': '300px'})"
   ]
  },
  {
   "cell_type": "markdown",
   "metadata": {},
   "source": [
    "При расчёте RICE лучше уже седьмая гипотеза. "
   ]
  },
  {
   "cell_type": "markdown",
   "metadata": {},
   "source": [
    "### Вывод"
   ]
  },
  {
   "cell_type": "markdown",
   "metadata": {},
   "source": [
    "При расчёте ICE лучший результат у восьмой гипотезы.\n",
    "\n",
    "При расчёте RICE лучше уже седьмая гипотеза. \n",
    "\n",
    "При расчёте ICE и RICE в топе находятся одни и те же гипотезы, различается их приоритетность. В RICE появляется параметр Reach (Охват - скольких пользователей затронет измененение), чем этот параметр выше, тем будет выше итоговый расчёт приоритетности."
   ]
  },
  {
   "cell_type": "markdown",
   "metadata": {},
   "source": [
    "## Анализ A/B-теста"
   ]
  },
  {
   "cell_type": "code",
   "execution_count": 5,
   "metadata": {
    "scrolled": false
   },
   "outputs": [
    {
     "name": "stdout",
     "output_type": "stream",
     "text": [
      "<class 'pandas.core.frame.DataFrame'>\n",
      "RangeIndex: 1197 entries, 0 to 1196\n",
      "Data columns (total 5 columns):\n",
      " #   Column         Non-Null Count  Dtype \n",
      "---  ------         --------------  ----- \n",
      " 0   transactionId  1197 non-null   int64 \n",
      " 1   visitorId      1197 non-null   int64 \n",
      " 2   date           1197 non-null   object\n",
      " 3   revenue        1197 non-null   int64 \n",
      " 4   group          1197 non-null   object\n",
      "dtypes: int64(3), object(2)\n",
      "memory usage: 46.9+ KB\n"
     ]
    },
    {
     "data": {
      "text/html": [
       "<div>\n",
       "<style scoped>\n",
       "    .dataframe tbody tr th:only-of-type {\n",
       "        vertical-align: middle;\n",
       "    }\n",
       "\n",
       "    .dataframe tbody tr th {\n",
       "        vertical-align: top;\n",
       "    }\n",
       "\n",
       "    .dataframe thead th {\n",
       "        text-align: right;\n",
       "    }\n",
       "</style>\n",
       "<table border=\"1\" class=\"dataframe\">\n",
       "  <thead>\n",
       "    <tr style=\"text-align: right;\">\n",
       "      <th></th>\n",
       "      <th>transactionId</th>\n",
       "      <th>visitorId</th>\n",
       "      <th>date</th>\n",
       "      <th>revenue</th>\n",
       "      <th>group</th>\n",
       "    </tr>\n",
       "  </thead>\n",
       "  <tbody>\n",
       "    <tr>\n",
       "      <th>0</th>\n",
       "      <td>3667963787</td>\n",
       "      <td>3312258926</td>\n",
       "      <td>2019-08-15</td>\n",
       "      <td>1650</td>\n",
       "      <td>B</td>\n",
       "    </tr>\n",
       "    <tr>\n",
       "      <th>1</th>\n",
       "      <td>2804400009</td>\n",
       "      <td>3642806036</td>\n",
       "      <td>2019-08-15</td>\n",
       "      <td>730</td>\n",
       "      <td>B</td>\n",
       "    </tr>\n",
       "    <tr>\n",
       "      <th>2</th>\n",
       "      <td>2961555356</td>\n",
       "      <td>4069496402</td>\n",
       "      <td>2019-08-15</td>\n",
       "      <td>400</td>\n",
       "      <td>A</td>\n",
       "    </tr>\n",
       "    <tr>\n",
       "      <th>3</th>\n",
       "      <td>3797467345</td>\n",
       "      <td>1196621759</td>\n",
       "      <td>2019-08-15</td>\n",
       "      <td>9759</td>\n",
       "      <td>B</td>\n",
       "    </tr>\n",
       "    <tr>\n",
       "      <th>4</th>\n",
       "      <td>2282983706</td>\n",
       "      <td>2322279887</td>\n",
       "      <td>2019-08-15</td>\n",
       "      <td>2308</td>\n",
       "      <td>B</td>\n",
       "    </tr>\n",
       "  </tbody>\n",
       "</table>\n",
       "</div>"
      ],
      "text/plain": [
       "   transactionId   visitorId        date  revenue group\n",
       "0     3667963787  3312258926  2019-08-15     1650     B\n",
       "1     2804400009  3642806036  2019-08-15      730     B\n",
       "2     2961555356  4069496402  2019-08-15      400     A\n",
       "3     3797467345  1196621759  2019-08-15     9759     B\n",
       "4     2282983706  2322279887  2019-08-15     2308     B"
      ]
     },
     "execution_count": 5,
     "metadata": {},
     "output_type": "execute_result"
    }
   ],
   "source": [
    "orders = pd.read_csv('/datasets/orders.csv')\n",
    "orders.info()\n",
    "orders.head()"
   ]
  },
  {
   "cell_type": "markdown",
   "metadata": {},
   "source": [
    "Приведём названия столбцов к \"змеиному регистру\" и уберём прописные буквы."
   ]
  },
  {
   "cell_type": "code",
   "execution_count": 6,
   "metadata": {},
   "outputs": [],
   "source": [
    "orders.columns = [x.lower().replace('id', '_id') for x in orders.columns]"
   ]
  },
  {
   "cell_type": "code",
   "execution_count": 7,
   "metadata": {},
   "outputs": [
    {
     "name": "stdout",
     "output_type": "stream",
     "text": [
      "<class 'pandas.core.frame.DataFrame'>\n",
      "RangeIndex: 62 entries, 0 to 61\n",
      "Data columns (total 3 columns):\n",
      " #   Column    Non-Null Count  Dtype \n",
      "---  ------    --------------  ----- \n",
      " 0   date      62 non-null     object\n",
      " 1   group     62 non-null     object\n",
      " 2   visitors  62 non-null     int64 \n",
      "dtypes: int64(1), object(2)\n",
      "memory usage: 1.6+ KB\n"
     ]
    },
    {
     "data": {
      "text/html": [
       "<div>\n",
       "<style scoped>\n",
       "    .dataframe tbody tr th:only-of-type {\n",
       "        vertical-align: middle;\n",
       "    }\n",
       "\n",
       "    .dataframe tbody tr th {\n",
       "        vertical-align: top;\n",
       "    }\n",
       "\n",
       "    .dataframe thead th {\n",
       "        text-align: right;\n",
       "    }\n",
       "</style>\n",
       "<table border=\"1\" class=\"dataframe\">\n",
       "  <thead>\n",
       "    <tr style=\"text-align: right;\">\n",
       "      <th></th>\n",
       "      <th>date</th>\n",
       "      <th>group</th>\n",
       "      <th>visitors</th>\n",
       "    </tr>\n",
       "  </thead>\n",
       "  <tbody>\n",
       "    <tr>\n",
       "      <th>0</th>\n",
       "      <td>2019-08-01</td>\n",
       "      <td>A</td>\n",
       "      <td>719</td>\n",
       "    </tr>\n",
       "    <tr>\n",
       "      <th>1</th>\n",
       "      <td>2019-08-02</td>\n",
       "      <td>A</td>\n",
       "      <td>619</td>\n",
       "    </tr>\n",
       "    <tr>\n",
       "      <th>2</th>\n",
       "      <td>2019-08-03</td>\n",
       "      <td>A</td>\n",
       "      <td>507</td>\n",
       "    </tr>\n",
       "    <tr>\n",
       "      <th>3</th>\n",
       "      <td>2019-08-04</td>\n",
       "      <td>A</td>\n",
       "      <td>717</td>\n",
       "    </tr>\n",
       "    <tr>\n",
       "      <th>4</th>\n",
       "      <td>2019-08-05</td>\n",
       "      <td>A</td>\n",
       "      <td>756</td>\n",
       "    </tr>\n",
       "  </tbody>\n",
       "</table>\n",
       "</div>"
      ],
      "text/plain": [
       "         date group  visitors\n",
       "0  2019-08-01     A       719\n",
       "1  2019-08-02     A       619\n",
       "2  2019-08-03     A       507\n",
       "3  2019-08-04     A       717\n",
       "4  2019-08-05     A       756"
      ]
     },
     "execution_count": 7,
     "metadata": {},
     "output_type": "execute_result"
    }
   ],
   "source": [
    "visitors = pd.read_csv('/datasets/visitors.csv')\n",
    "visitors.info()\n",
    "visitors.head()"
   ]
  },
  {
   "cell_type": "code",
   "execution_count": 8,
   "metadata": {
    "scrolled": true
   },
   "outputs": [],
   "source": [
    "group_a = orders[orders['group'] == 'A']\n",
    "group_b = orders[orders['group'] == 'B']"
   ]
  },
  {
   "cell_type": "code",
   "execution_count": 9,
   "metadata": {},
   "outputs": [
    {
     "data": {
      "text/plain": [
       "58"
      ]
     },
     "execution_count": 9,
     "metadata": {},
     "output_type": "execute_result"
    }
   ],
   "source": [
    "doubled_visitors = list(np.intersect1d(group_a['visitor_id'], group_b['visitor_id']))\n",
    "len(doubled_visitors)"
   ]
  },
  {
   "cell_type": "code",
   "execution_count": 10,
   "metadata": {
    "scrolled": false
   },
   "outputs": [],
   "source": [
    "group_double = orders[orders['visitor_id'].isin(doubled_visitors)]"
   ]
  },
  {
   "cell_type": "code",
   "execution_count": 11,
   "metadata": {
    "scrolled": true
   },
   "outputs": [
    {
     "name": "stdout",
     "output_type": "stream",
     "text": [
      "Доля задвоенных пользователей от общего числа: 5.63\n",
      "Доля задвоенных пользователей в группе А: 11.53\n",
      "Доля задвоенных пользователей в группе B: 9.90\n"
     ]
    }
   ],
   "source": [
    "print('Доля задвоенных пользователей от общего числа: {0:.2f}'.format(len(doubled_visitors) / orders['visitor_id'].nunique() * 100))\n",
    "print('Доля задвоенных пользователей в группе А: {0:.2f}'.format(len(doubled_visitors) / group_a['visitor_id'].nunique() * 100))\n",
    "print('Доля задвоенных пользователей в группе B: {0:.2f}'.format(len(doubled_visitors) / group_b['visitor_id'].nunique() * 100))"
   ]
  },
  {
   "cell_type": "markdown",
   "metadata": {},
   "source": [
    "Думаю, возможно удалить этих пользователей и продолжить анализ."
   ]
  },
  {
   "cell_type": "code",
   "execution_count": 12,
   "metadata": {
    "scrolled": false
   },
   "outputs": [
    {
     "data": {
      "text/html": [
       "<div>\n",
       "<style scoped>\n",
       "    .dataframe tbody tr th:only-of-type {\n",
       "        vertical-align: middle;\n",
       "    }\n",
       "\n",
       "    .dataframe tbody tr th {\n",
       "        vertical-align: top;\n",
       "    }\n",
       "\n",
       "    .dataframe thead th {\n",
       "        text-align: right;\n",
       "    }\n",
       "</style>\n",
       "<table border=\"1\" class=\"dataframe\">\n",
       "  <thead>\n",
       "    <tr style=\"text-align: right;\">\n",
       "      <th></th>\n",
       "      <th>transaction_id</th>\n",
       "      <th>visitor_id</th>\n",
       "      <th>date</th>\n",
       "      <th>revenue</th>\n",
       "      <th>group</th>\n",
       "    </tr>\n",
       "  </thead>\n",
       "  <tbody>\n",
       "    <tr>\n",
       "      <th>0</th>\n",
       "      <td>3667963787</td>\n",
       "      <td>3312258926</td>\n",
       "      <td>2019-08-15</td>\n",
       "      <td>1650</td>\n",
       "      <td>B</td>\n",
       "    </tr>\n",
       "    <tr>\n",
       "      <th>1</th>\n",
       "      <td>2804400009</td>\n",
       "      <td>3642806036</td>\n",
       "      <td>2019-08-15</td>\n",
       "      <td>730</td>\n",
       "      <td>B</td>\n",
       "    </tr>\n",
       "    <tr>\n",
       "      <th>2</th>\n",
       "      <td>3797467345</td>\n",
       "      <td>1196621759</td>\n",
       "      <td>2019-08-15</td>\n",
       "      <td>9759</td>\n",
       "      <td>B</td>\n",
       "    </tr>\n",
       "    <tr>\n",
       "      <th>3</th>\n",
       "      <td>2282983706</td>\n",
       "      <td>2322279887</td>\n",
       "      <td>2019-08-15</td>\n",
       "      <td>2308</td>\n",
       "      <td>B</td>\n",
       "    </tr>\n",
       "    <tr>\n",
       "      <th>4</th>\n",
       "      <td>182168103</td>\n",
       "      <td>935554773</td>\n",
       "      <td>2019-08-15</td>\n",
       "      <td>2210</td>\n",
       "      <td>B</td>\n",
       "    </tr>\n",
       "    <tr>\n",
       "      <th>...</th>\n",
       "      <td>...</td>\n",
       "      <td>...</td>\n",
       "      <td>...</td>\n",
       "      <td>...</td>\n",
       "      <td>...</td>\n",
       "    </tr>\n",
       "    <tr>\n",
       "      <th>1011</th>\n",
       "      <td>3592955527</td>\n",
       "      <td>608641596</td>\n",
       "      <td>2019-08-14</td>\n",
       "      <td>16490</td>\n",
       "      <td>B</td>\n",
       "    </tr>\n",
       "    <tr>\n",
       "      <th>1012</th>\n",
       "      <td>2662137336</td>\n",
       "      <td>3733762160</td>\n",
       "      <td>2019-08-14</td>\n",
       "      <td>6490</td>\n",
       "      <td>B</td>\n",
       "    </tr>\n",
       "    <tr>\n",
       "      <th>1013</th>\n",
       "      <td>2203539145</td>\n",
       "      <td>370388673</td>\n",
       "      <td>2019-08-14</td>\n",
       "      <td>3190</td>\n",
       "      <td>A</td>\n",
       "    </tr>\n",
       "    <tr>\n",
       "      <th>1014</th>\n",
       "      <td>1807773912</td>\n",
       "      <td>573423106</td>\n",
       "      <td>2019-08-14</td>\n",
       "      <td>10550</td>\n",
       "      <td>A</td>\n",
       "    </tr>\n",
       "    <tr>\n",
       "      <th>1015</th>\n",
       "      <td>3936777065</td>\n",
       "      <td>2108080724</td>\n",
       "      <td>2019-08-15</td>\n",
       "      <td>202740</td>\n",
       "      <td>B</td>\n",
       "    </tr>\n",
       "  </tbody>\n",
       "</table>\n",
       "<p>1016 rows × 5 columns</p>\n",
       "</div>"
      ],
      "text/plain": [
       "      transaction_id  visitor_id        date  revenue group\n",
       "0         3667963787  3312258926  2019-08-15     1650     B\n",
       "1         2804400009  3642806036  2019-08-15      730     B\n",
       "2         3797467345  1196621759  2019-08-15     9759     B\n",
       "3         2282983706  2322279887  2019-08-15     2308     B\n",
       "4          182168103   935554773  2019-08-15     2210     B\n",
       "...              ...         ...         ...      ...   ...\n",
       "1011      3592955527   608641596  2019-08-14    16490     B\n",
       "1012      2662137336  3733762160  2019-08-14     6490     B\n",
       "1013      2203539145   370388673  2019-08-14     3190     A\n",
       "1014      1807773912   573423106  2019-08-14    10550     A\n",
       "1015      3936777065  2108080724  2019-08-15   202740     B\n",
       "\n",
       "[1016 rows x 5 columns]"
      ]
     },
     "execution_count": 12,
     "metadata": {},
     "output_type": "execute_result"
    }
   ],
   "source": [
    "orders_filtered = orders.drop(index=list(group_double.index)).reset_index(drop=True)\n",
    "orders_filtered"
   ]
  },
  {
   "cell_type": "markdown",
   "metadata": {},
   "source": [
    "Теперь необходимо убрать посещения этих пользователей из датафрейма \"visitors\" в дни когда они делали заказы."
   ]
  },
  {
   "cell_type": "code",
   "execution_count": 13,
   "metadata": {},
   "outputs": [],
   "source": [
    "double_visitors_per_date = group_double.groupby(['date', 'group'])['revenue'].count()\n",
    "visitors = visitors.merge(double_visitors_per_date, on=['date', 'group'], how='outer')\n",
    "visitors['revenue'] = visitors['revenue'].fillna(0).astype('float')\n",
    "visitors['visitors'] = visitors['visitors'] - visitors['revenue']\n",
    "visitors = visitors[['date', 'group', 'visitors']]"
   ]
  },
  {
   "cell_type": "markdown",
   "metadata": {},
   "source": [
    "### Вывод "
   ]
  },
  {
   "cell_type": "markdown",
   "metadata": {},
   "source": [
    "Изменили стиль заголовков столбцов. Пропусков нет, можно приступать к дальнейшим шагам."
   ]
  },
  {
   "cell_type": "markdown",
   "metadata": {},
   "source": [
    "### Кумулятивная выручка по группам"
   ]
  },
  {
   "cell_type": "code",
   "execution_count": 14,
   "metadata": {},
   "outputs": [
    {
     "data": {
      "image/png": "[encoded data removed]",
      "text/plain": [
       "<Figure size 432x288 with 1 Axes>"
      ]
     },
     "metadata": {
      "needs_background": "light"
     },
     "output_type": "display_data"
    }
   ],
   "source": [
    "orders_filtered['date'] = pd.to_datetime(orders_filtered['date'], format = '%Y/%m/%d')\n",
    "visitors['date'] = pd.to_datetime(visitors['date'], format = '%Y/%m/%d')\n",
    "\n",
    "dates_groups = orders_filtered[['date', 'group']].drop_duplicates()\n",
    "\n",
    "orders_agg = dates_groups.apply(lambda x: orders_filtered[np.logical_and(orders_filtered['date'] <= x['date'], orders_filtered['group'] == x['group'])]\\\n",
    "                                   .agg({'date' : 'max', 'group' : 'max', 'transaction_id' : 'nunique', 'visitor_id' : 'nunique', 'revenue': 'sum'}), axis=1).sort_values(by=['date', 'group'])\n",
    "\n",
    "visitors_agg = dates_groups.apply(lambda x: visitors[np.logical_and(visitors['date'] <= x['date'], visitors['group'] == x['group'])].agg({'date' : 'max', 'group' : 'max', 'visitors' : 'sum'}), axis=1).sort_values(by=['date', 'group'])\n",
    "\n",
    "cumulative_data = orders_agg.merge(visitors_agg, left_on=['date', 'group'], right_on=['date', 'group'])\n",
    "\n",
    "cumulative_data.columns = ['date', 'group', 'orders', 'buyers', 'revenue', 'visitors']\n",
    "\n",
    "cumulative_rev_a = cumulative_data[cumulative_data['group'] == 'A'][['date', 'revenue', 'orders']]\n",
    "cumulative_rev_b = cumulative_data[cumulative_data['group'] == 'B'][['date', 'revenue', 'orders']]\n",
    "\n",
    "plt.plot(cumulative_rev_a['date'], cumulative_rev_a['revenue'], label='A')\n",
    "plt.plot(cumulative_rev_b['date'], cumulative_rev_b['revenue'], label='B')\n",
    "plt.legend()\n",
    "plt.xticks(rotation=45)\n",
    "plt.title('Кумулятивная выручка по группам', fontsize=15)\n",
    "plt.ylabel('Выручка', fontsize=12)\n",
    "plt.grid()\n",
    "plt.show()"
   ]
  },
  {
   "cell_type": "markdown",
   "metadata": {},
   "source": [
    "Вначале выручки групп А и В были очень близки по значениям, c шестого дня выручка группы В начала показывать больший рост. 19 августа видим резкий рост выручки группы В, вероятно влияние аномально больших заказов. График выручки группы А показывает стабильный рост с небольшими колебаниями, что говорит о том, что каких то \"всплесков\" продаж не наблюдалось. "
   ]
  },
  {
   "cell_type": "markdown",
   "metadata": {},
   "source": [
    "### Кумулятивный средний чек по группам"
   ]
  },
  {
   "cell_type": "code",
   "execution_count": 15,
   "metadata": {},
   "outputs": [
    {
     "data": {
      "image/png": "[encoded data removed]",
      "text/plain": [
       "<Figure size 432x288 with 1 Axes>"
      ]
     },
     "metadata": {
      "needs_background": "light"
     },
     "output_type": "display_data"
    }
   ],
   "source": [
    "plt.plot(cumulative_rev_a['date'], cumulative_rev_a['revenue'] / cumulative_rev_a['orders'], label='A')\n",
    "plt.plot(cumulative_rev_b['date'], cumulative_rev_b['revenue'] / cumulative_rev_b['orders'], label='B')\n",
    "plt.legend()\n",
    "plt.xticks(rotation=45)\n",
    "plt.title('Кумулятивный средний чек по группам', fontsize=15)\n",
    "plt.ylabel('Средний чек', fontsize=12)\n",
    "plt.grid()\n",
    "plt.show()"
   ]
  },
  {
   "cell_type": "markdown",
   "metadata": {},
   "source": [
    "Также как и с выручкой видим резкий рост 19 августа на 50% среднего чека группы В. До этого дня показатели, в основном, были лучше у группы В, но к 14 августа они примерно выравнились."
   ]
  },
  {
   "cell_type": "markdown",
   "metadata": {},
   "source": [
    "### Изменение кумулятивного среднего чека группы B по отношению к группе A"
   ]
  },
  {
   "cell_type": "code",
   "execution_count": 16,
   "metadata": {
    "scrolled": true
   },
   "outputs": [
    {
     "data": {
      "image/png": "[encoded data removed]",
      "text/plain": [
       "<Figure size 432x288 with 1 Axes>"
      ]
     },
     "metadata": {
      "needs_background": "light"
     },
     "output_type": "display_data"
    }
   ],
   "source": [
    "merged_cumulative_rev = cumulative_rev_a.merge(cumulative_rev_b, left_on='date', right_on='date', how='left', suffixes=['A', 'B'])\n",
    "\n",
    "plt.plot(merged_cumulative_rev['date'], (merged_cumulative_rev['revenueB'] / merged_cumulative_rev['ordersB']) / (merged_cumulative_rev['revenueA'] / merged_cumulative_rev['ordersA']) - 1)\n",
    "plt.axhline(y=0, color='black', linestyle='--')\n",
    "plt.xticks(rotation=45)\n",
    "plt.title('Соотношение среднего чека группы B по отношению к группе A',fontsize=15)\n",
    "plt.ylabel('Cоотношение, в %', fontsize=12)\n",
    "plt.grid()\n",
    "plt.show()"
   ]
  },
  {
   "cell_type": "markdown",
   "metadata": {},
   "source": [
    "Видим очень резкие колебания. Необходимо посмотреть на наличие аномальных значений, которые могут повлиять на общую картину."
   ]
  },
  {
   "cell_type": "markdown",
   "metadata": {},
   "source": [
    "### Кумулятивная конверсия по группам"
   ]
  },
  {
   "cell_type": "code",
   "execution_count": 17,
   "metadata": {
    "scrolled": true
   },
   "outputs": [
    {
     "data": {
      "image/png": "[encoded data removed]",
      "text/plain": [
       "<Figure size 432x288 with 1 Axes>"
      ]
     },
     "metadata": {
      "needs_background": "light"
     },
     "output_type": "display_data"
    }
   ],
   "source": [
    "cumulative_data['conversion'] = cumulative_data['orders'] / cumulative_data['visitors']\n",
    "cumulative_data_a = cumulative_data[cumulative_data['group'] == 'A']\n",
    "cumulative_data_b = cumulative_data[cumulative_data['group'] == 'B']\n",
    "\n",
    "plt.plot(cumulative_data_a['date'], cumulative_data_a['conversion'], label='A')\n",
    "plt.plot(cumulative_data_b['date'], cumulative_data_b['conversion'], label='B')\n",
    "plt.legend()\n",
    "plt.xticks(rotation=45)\n",
    "#plt.axis([dt.datetime(2019, 7, 31), dt.datetime(2019, 9, 1), 0.02, 0.038])\n",
    "plt.title('Кумулятивная конверсия по группам', fontsize=15)\n",
    "plt.ylabel('Конверсия', fontsize=12)\n",
    "plt.grid()\n",
    "plt.show()"
   ]
  },
  {
   "cell_type": "markdown",
   "metadata": {},
   "source": [
    "После первых пяти дней кумулятивная конверсия группы В стабильно выше конверсии группы А."
   ]
  },
  {
   "cell_type": "markdown",
   "metadata": {},
   "source": [
    "### Изменение кумулятивной конверсии группы B по отношению к группе A"
   ]
  },
  {
   "cell_type": "code",
   "execution_count": 18,
   "metadata": {
    "scrolled": true
   },
   "outputs": [
    {
     "data": {
      "image/png": "[encoded data removed]",
      "text/plain": [
       "<Figure size 432x288 with 1 Axes>"
      ]
     },
     "metadata": {
      "needs_background": "light"
     },
     "output_type": "display_data"
    }
   ],
   "source": [
    "merged_cumulative_conversion = cumulative_data_a[['date', 'conversion']].merge(cumulative_data_b[['date', 'conversion']], left_on='date', right_on='date', how='left', suffixes=['A', 'B'])\n",
    "\n",
    "plt.plot(merged_cumulative_conversion['date'], merged_cumulative_conversion['conversionB'] / merged_cumulative_conversion['conversionA'] - 1, label='Относительный прирост конверсии группы B относительно группы A') \n",
    "plt.xticks(rotation=45)\n",
    "#plt.axis([dt.datetime(2019, 7, 31), dt.datetime(2019, 9, 1), -0.2, 0.25])\n",
    "plt.axhline(y=0, color='black', linestyle='--')\n",
    "plt.axhline(y=0.11, color='grey', linestyle='--')\n",
    "plt.title('Соотношение среднего чека группы B по отношению к группе A',fontsize=15)\n",
    "plt.ylabel('Cоотношение, в %', fontsize=12)\n",
    "plt.grid()           \n",
    "plt.show()"
   ]
  },
  {
   "cell_type": "markdown",
   "metadata": {},
   "source": [
    "Результаты группы B после 8 августа лучше группы A более чем на 11%."
   ]
  },
  {
   "cell_type": "markdown",
   "metadata": {},
   "source": [
    "### Количество заказов по пользователям"
   ]
  },
  {
   "cell_type": "code",
   "execution_count": 19,
   "metadata": {},
   "outputs": [
    {
     "data": {
      "image/png": "[encoded data removed]",
      "text/plain": [
       "<Figure size 432x288 with 1 Axes>"
      ]
     },
     "metadata": {
      "needs_background": "light"
     },
     "output_type": "display_data"
    }
   ],
   "source": [
    "orders_by_users = orders_filtered.groupby('visitor_id', as_index=False).agg({'transaction_id' : 'nunique'})\n",
    "\n",
    "x_values = pd.Series(range(0, len(orders_by_users)))\n",
    "plt.scatter(x_values, orders_by_users['transaction_id'])\n",
    "plt.title('Количество заказов по пользователям', fontsize=15)\n",
    "plt.xlabel('Порядковый номер пользователя', fontsize=12)\n",
    "plt.ylabel('Количество заказов', fontsize=12)\n",
    "plt.show()"
   ]
  },
  {
   "cell_type": "markdown",
   "metadata": {},
   "source": [
    "Основная масса пользователей совершают 1 заказ. Но есть пользователи с 2 и 3 заказами."
   ]
  },
  {
   "cell_type": "markdown",
   "metadata": {},
   "source": [
    "### Определяем границу для выявления аномальных пользователей по количеству заказов"
   ]
  },
  {
   "cell_type": "code",
   "execution_count": 20,
   "metadata": {
    "scrolled": true
   },
   "outputs": [
    {
     "data": {
      "text/plain": [
       "array([1., 2.])"
      ]
     },
     "execution_count": 20,
     "metadata": {},
     "output_type": "execute_result"
    }
   ],
   "source": [
    "np.percentile(orders_by_users['transaction_id'], [95, 99])"
   ]
  },
  {
   "cell_type": "markdown",
   "metadata": {},
   "source": [
    "95% пользователей совершают 1 заказ, 1% - совершает более 2 и более заказов."
   ]
  },
  {
   "cell_type": "markdown",
   "metadata": {},
   "source": [
    "### Стоимость заказов по пользователям"
   ]
  },
  {
   "cell_type": "code",
   "execution_count": 21,
   "metadata": {},
   "outputs": [
    {
     "data": {
      "image/png": "[encoded data removed]",
      "text/plain": [
       "<Figure size 432x288 with 1 Axes>"
      ]
     },
     "metadata": {
      "needs_background": "light"
     },
     "output_type": "display_data"
    }
   ],
   "source": [
    "x_values = pd.Series(range(0, len(orders_filtered['revenue'])))\n",
    "plt.scatter(x_values, orders_filtered['revenue'])\n",
    "plt.title('Стоимость заказов по пользователям', fontsize=15)\n",
    "plt.xlabel('Порядковый номер пользователя', fontsize=12)\n",
    "plt.ylabel('Стоимость заказов', fontsize=12)\n",
    "plt.show()"
   ]
  },
  {
   "cell_type": "markdown",
   "metadata": {},
   "source": [
    "Видим заказ стоимостью свыше 1.2 млн, который и вызвал резкое колебание выручки и среднего чека. "
   ]
  },
  {
   "cell_type": "markdown",
   "metadata": {},
   "source": [
    "### Определяем границу для выявления аномальных пользователей по стоимости заказа"
   ]
  },
  {
   "cell_type": "code",
   "execution_count": 22,
   "metadata": {
    "scrolled": true
   },
   "outputs": [
    {
     "data": {
      "text/plain": [
       "array([26785., 53904.])"
      ]
     },
     "execution_count": 22,
     "metadata": {},
     "output_type": "execute_result"
    }
   ],
   "source": [
    "np.percentile(orders_filtered['revenue'], [95, 99])"
   ]
  },
  {
   "cell_type": "markdown",
   "metadata": {},
   "source": [
    "95% пользователей совершают заказы стоимостью до 26785, у 1% - стоимость заказов более почти 54000. Тем значительнее выглядит самый крупный заказ на 1.2 млн. "
   ]
  },
  {
   "cell_type": "markdown",
   "metadata": {},
   "source": [
    "###  Cтатистическая значимость различий в конверсии между группами по «сырым» данным"
   ]
  },
  {
   "cell_type": "markdown",
   "metadata": {},
   "source": [
    "Подготовим данные. Делаем общую таблицу с кумулятивными данными по выручке, заказам, посещениям по каждой группе и по каждому дню."
   ]
  },
  {
   "cell_type": "code",
   "execution_count": 23,
   "metadata": {},
   "outputs": [
    {
     "data": {
      "text/html": [
       "<div>\n",
       "<style scoped>\n",
       "    .dataframe tbody tr th:only-of-type {\n",
       "        vertical-align: middle;\n",
       "    }\n",
       "\n",
       "    .dataframe tbody tr th {\n",
       "        vertical-align: top;\n",
       "    }\n",
       "\n",
       "    .dataframe thead th {\n",
       "        text-align: right;\n",
       "    }\n",
       "</style>\n",
       "<table border=\"1\" class=\"dataframe\">\n",
       "  <thead>\n",
       "    <tr style=\"text-align: right;\">\n",
       "      <th></th>\n",
       "      <th>date</th>\n",
       "      <th>orders_per_date_a</th>\n",
       "      <th>rev_per_date_a</th>\n",
       "      <th>orders_per_date_b</th>\n",
       "      <th>rev_per_date_b</th>\n",
       "      <th>orders_cumulative_a</th>\n",
       "      <th>rev_cumulative_a</th>\n",
       "      <th>orders_cumulative_b</th>\n",
       "      <th>rev_cumulative_b</th>\n",
       "      <th>visitors_per_date_a</th>\n",
       "      <th>visitors_per_date_b</th>\n",
       "      <th>visitors_cumulative_a</th>\n",
       "      <th>visitors_cumulative_b</th>\n",
       "    </tr>\n",
       "  </thead>\n",
       "  <tbody>\n",
       "    <tr>\n",
       "      <th>0</th>\n",
       "      <td>2019-08-01</td>\n",
       "      <td>23</td>\n",
       "      <td>142779</td>\n",
       "      <td>17</td>\n",
       "      <td>59758</td>\n",
       "      <td>23</td>\n",
       "      <td>142779</td>\n",
       "      <td>17</td>\n",
       "      <td>59758</td>\n",
       "      <td>718.0</td>\n",
       "      <td>709.0</td>\n",
       "      <td>718.0</td>\n",
       "      <td>709.0</td>\n",
       "    </tr>\n",
       "    <tr>\n",
       "      <th>1</th>\n",
       "      <td>2019-08-02</td>\n",
       "      <td>19</td>\n",
       "      <td>91602</td>\n",
       "      <td>23</td>\n",
       "      <td>162043</td>\n",
       "      <td>42</td>\n",
       "      <td>234381</td>\n",
       "      <td>40</td>\n",
       "      <td>221801</td>\n",
       "      <td>618.0</td>\n",
       "      <td>580.0</td>\n",
       "      <td>1336.0</td>\n",
       "      <td>1289.0</td>\n",
       "    </tr>\n",
       "    <tr>\n",
       "      <th>2</th>\n",
       "      <td>2019-08-03</td>\n",
       "      <td>24</td>\n",
       "      <td>112473</td>\n",
       "      <td>14</td>\n",
       "      <td>67049</td>\n",
       "      <td>66</td>\n",
       "      <td>346854</td>\n",
       "      <td>54</td>\n",
       "      <td>288850</td>\n",
       "      <td>507.0</td>\n",
       "      <td>507.0</td>\n",
       "      <td>1843.0</td>\n",
       "      <td>1796.0</td>\n",
       "    </tr>\n",
       "    <tr>\n",
       "      <th>3</th>\n",
       "      <td>2019-08-04</td>\n",
       "      <td>11</td>\n",
       "      <td>41176</td>\n",
       "      <td>14</td>\n",
       "      <td>96890</td>\n",
       "      <td>77</td>\n",
       "      <td>388030</td>\n",
       "      <td>68</td>\n",
       "      <td>385740</td>\n",
       "      <td>712.0</td>\n",
       "      <td>767.0</td>\n",
       "      <td>2555.0</td>\n",
       "      <td>2563.0</td>\n",
       "    </tr>\n",
       "    <tr>\n",
       "      <th>4</th>\n",
       "      <td>2019-08-05</td>\n",
       "      <td>22</td>\n",
       "      <td>86383</td>\n",
       "      <td>21</td>\n",
       "      <td>89908</td>\n",
       "      <td>99</td>\n",
       "      <td>474413</td>\n",
       "      <td>89</td>\n",
       "      <td>475648</td>\n",
       "      <td>753.0</td>\n",
       "      <td>705.0</td>\n",
       "      <td>3308.0</td>\n",
       "      <td>3268.0</td>\n",
       "    </tr>\n",
       "  </tbody>\n",
       "</table>\n",
       "</div>"
      ],
      "text/plain": [
       "        date  orders_per_date_a  rev_per_date_a  orders_per_date_b  \\\n",
       "0 2019-08-01                 23          142779                 17   \n",
       "1 2019-08-02                 19           91602                 23   \n",
       "2 2019-08-03                 24          112473                 14   \n",
       "3 2019-08-04                 11           41176                 14   \n",
       "4 2019-08-05                 22           86383                 21   \n",
       "\n",
       "   rev_per_date_b  orders_cumulative_a  rev_cumulative_a  orders_cumulative_b  \\\n",
       "0           59758                   23            142779                   17   \n",
       "1          162043                   42            234381                   40   \n",
       "2           67049                   66            346854                   54   \n",
       "3           96890                   77            388030                   68   \n",
       "4           89908                   99            474413                   89   \n",
       "\n",
       "   rev_cumulative_b  visitors_per_date_a  visitors_per_date_b  \\\n",
       "0             59758                718.0                709.0   \n",
       "1            221801                618.0                580.0   \n",
       "2            288850                507.0                507.0   \n",
       "3            385740                712.0                767.0   \n",
       "4            475648                753.0                705.0   \n",
       "\n",
       "   visitors_cumulative_a  visitors_cumulative_b  \n",
       "0                  718.0                  709.0  \n",
       "1                 1336.0                 1289.0  \n",
       "2                 1843.0                 1796.0  \n",
       "3                 2555.0                 2563.0  \n",
       "4                 3308.0                 3268.0  "
      ]
     },
     "execution_count": 23,
     "metadata": {},
     "output_type": "execute_result"
    }
   ],
   "source": [
    "visitors_daily_a = visitors[visitors['group'] == 'A'][['date', 'visitors']]\n",
    "visitors_daily_a.columns = ['date', 'visitors_per_date_a']\n",
    "\n",
    "visitors_cumulative_a = visitors_daily_a.apply(lambda x: visitors_daily_a[visitors_daily_a['date'] <= x['date']].agg({'date': 'max', 'visitors_per_date_a': 'sum'}), axis=1)\n",
    "visitors_cumulative_a.columns = ['date', 'visitors_cumulative_a']\n",
    "\n",
    "visitors_daily_b = visitors[visitors['group'] == 'B'][['date', 'visitors']]\n",
    "visitors_daily_b.columns = ['date', 'visitors_per_date_b']\n",
    "\n",
    "visitors_cumulative_b = visitors_daily_b.apply(lambda x: visitors_daily_b[visitors_daily_b['date'] <= x['date']].agg({'date': 'max', 'visitors_per_date_b': 'sum'}), axis=1)\n",
    "visitors_cumulative_b.columns = ['date', 'visitors_cumulative_b']\n",
    "\n",
    "orders_daily_a = orders_filtered[orders_filtered['group'] == 'A'].groupby('date', as_index=False).agg({'transaction_id': 'nunique', 'revenue': 'sum'})\n",
    "orders_daily_a.columns = ['date', 'orders_per_date_a', 'rev_per_date_a']\n",
    "\n",
    "orders_cumulative_a = orders_daily_a.apply(lambda x: orders_daily_a[orders_daily_a['date'] <= x['date']].agg({'date': 'max', 'orders_per_date_a': 'sum', 'rev_per_date_a': 'sum'}), axis=1)\n",
    "orders_cumulative_a.columns = ['date', 'orders_cumulative_a', 'rev_cumulative_a']\n",
    "\n",
    "orders_daily_b = orders_filtered[orders_filtered['group'] == 'B'].groupby('date', as_index=False).agg({'transaction_id': 'nunique', 'revenue': 'sum'})\n",
    "orders_daily_b.columns = ['date', 'orders_per_date_b', 'rev_per_date_b']\n",
    "\n",
    "orders_cumulative_b = orders_daily_b.apply(lambda x: orders_daily_b[orders_daily_b['date'] <= x['date']].agg({'date': 'max', 'orders_per_date_b': 'sum', 'rev_per_date_b': 'sum'}), axis=1)\n",
    "orders_cumulative_b.columns = ['date', 'orders_cumulative_b', 'rev_cumulative_b']\n",
    "\n",
    "df = (orders_daily_a.merge(orders_daily_b, left_on='date', right_on='date', how='left')\n",
    ".merge(orders_cumulative_a, left_on='date', right_on='date', how='left')\n",
    ".merge(orders_cumulative_b, left_on='date', right_on='date', how='left')\n",
    ".merge(visitors_daily_a, left_on='date', right_on='date', how='left')\n",
    ".merge(visitors_daily_b, left_on='date', right_on='date', how='left')\n",
    ".merge(visitors_cumulative_a, left_on='date', right_on='date', how='left')\n",
    ".merge(visitors_cumulative_b, left_on='date', right_on='date', how='left'))\n",
    "df.head()\n"
   ]
  },
  {
   "cell_type": "markdown",
   "metadata": {},
   "source": [
    "Сформулируем гипотезы.\n",
    "\n",
    "Н0: различий в конверсии между группами нет. \n",
    "\n",
    "Н1: различия в конверсии между группами есть."
   ]
  },
  {
   "cell_type": "markdown",
   "metadata": {},
   "source": [
    "В данном случае выбираем stats.mannwhitneyu, так как в данных есть выбросы, которые существенно влияют на общую картину."
   ]
  },
  {
   "cell_type": "code",
   "execution_count": 24,
   "metadata": {},
   "outputs": [
    {
     "name": "stdout",
     "output_type": "stream",
     "text": [
      "p-значение: 0.01096\n",
      "Отвергаем нулевую гипотезу\n",
      "Относительный прирост конверсии группы В к группе А: 15.993\n"
     ]
    }
   ],
   "source": [
    "orders_by_users_a = orders_filtered[orders_filtered['group'] == 'A'].groupby('visitor_id', as_index=False).agg({'transaction_id': 'nunique'})\n",
    "orders_by_users_a.columns = ['visitor_id', 'orders']\n",
    "\n",
    "orders_by_users_b = orders_filtered[orders_filtered['group'] == 'B'].groupby('visitor_id', as_index=False).agg({'transaction_id': 'nunique'})\n",
    "orders_by_users_b.columns = ['visitor_id', 'orders']\n",
    "\n",
    "sample_a = pd.concat([orders_by_users_a['orders'], pd.Series(0, index=np.arange(df['visitors_per_date_a'].sum() - len(orders_by_users_a['orders'])), name='orders')], axis=0)\n",
    "sample_b = pd.concat([orders_by_users_b['orders'], pd.Series(0, index=np.arange(df['visitors_per_date_b'].sum() - len(orders_by_users_b['orders'])), name='orders')], axis=0)\n",
    "\n",
    "alpha = .05\n",
    "results = stats.mannwhitneyu(sample_a, sample_b)[1]\n",
    "print('p-значение: {0:.5f}'.format(results))\n",
    "\n",
    "if results < alpha:\n",
    "    print('Отвергаем нулевую гипотезу')\n",
    "else:\n",
    "    print('Не получилось отвергнуть нулевую гипотезу')\n",
    "    \n",
    "print('Относительный прирост конверсии группы В к группе А: {0:.3f}'.format((sample_b.mean() / sample_a.mean() - 1) * 100))    "
   ]
  },
  {
   "cell_type": "markdown",
   "metadata": {},
   "source": [
    "В конверсии между группами есть статистически значимые различия, нулевую гипотезу отвергаем."
   ]
  },
  {
   "cell_type": "markdown",
   "metadata": {},
   "source": [
    "### Cтатистическая значимость различий в среднем чеке заказа между группами по «сырым» данным"
   ]
  },
  {
   "cell_type": "markdown",
   "metadata": {},
   "source": [
    "Нулевая гипотеза: различий в среднем чеке между группами нет. \n",
    "\n",
    "Альтернативная гипотеза: различия в среднем чеке между группами есть."
   ]
  },
  {
   "cell_type": "code",
   "execution_count": 25,
   "metadata": {},
   "outputs": [
    {
     "name": "stdout",
     "output_type": "stream",
     "text": [
      "p-значение: 0.82949\n",
      "Не получилось отвергнуть нулевую гипотезу\n",
      "Относительный прирост среднего чека группы В к группе А: 28.660\n"
     ]
    }
   ],
   "source": [
    "results = stats.mannwhitneyu(orders_filtered[orders_filtered['group'] == 'A']['revenue'], orders_filtered[orders_filtered['group'] == 'B']['revenue'])[1]\n",
    "print('p-значение: {0:.5f}'.format(results))\n",
    "\n",
    "if results < alpha:\n",
    "    print('Отвергаем нулевую гипотезу')\n",
    "else:\n",
    "    print('Не получилось отвергнуть нулевую гипотезу')\n",
    "    \n",
    "print('Относительный прирост среднего чека группы В к группе А: {0:.3f}'.format((orders_filtered[orders_filtered['group'] == 'B']['revenue'].mean() / orders_filtered[orders_filtered['group'] == 'A']['revenue'].mean() - 1) * 100))    "
   ]
  },
  {
   "cell_type": "markdown",
   "metadata": {},
   "source": [
    "Статистически значимых отличий среднего чека между группами нет. При этом прирост среднего чека составил почти 29%."
   ]
  },
  {
   "cell_type": "markdown",
   "metadata": {},
   "source": [
    "### Cтатистическая значимость различий в конверсии между группами по «очищенным» данным"
   ]
  },
  {
   "cell_type": "markdown",
   "metadata": {},
   "source": [
    "\"Очищаем\" данные от аномалий.\n",
    "\n",
    "Основываясь на процентном соотношении количества пользователей по количеству заказов и по стоимости заказа, установим границу заказов в 2 и более, а стоимость заказов 27000. Так мы уберём 1% пользователей с наибольшим числом заказов и от 1% до 5% заказов с наибольшей стоимостью. "
   ]
  },
  {
   "cell_type": "code",
   "execution_count": 26,
   "metadata": {},
   "outputs": [],
   "source": [
    "users_many_orders = pd.concat([orders_by_users_a[orders_by_users_a['orders'] > 1]['visitor_id'], orders_by_users_b[orders_by_users_b['orders'] > 1]['visitor_id']], axis=0)\n",
    "\n",
    "users_expensive_orders = orders_filtered[orders_filtered['revenue'] >= 27000]['visitor_id']\n",
    "\n",
    "abnormal_users = pd.concat([users_many_orders, users_expensive_orders], axis=0).drop_duplicates()"
   ]
  },
  {
   "cell_type": "markdown",
   "metadata": {},
   "source": [
    "Сформулируем гипотезы.\n",
    "\n",
    "Нулевая: различий в конверсии между группами нет.\n",
    "\n",
    "Альтернативная: различия в конверсии между группами есть."
   ]
  },
  {
   "cell_type": "code",
   "execution_count": 27,
   "metadata": {},
   "outputs": [
    {
     "name": "stdout",
     "output_type": "stream",
     "text": [
      "p-значение: 0.01585\n",
      "Отвергаем нулевую гипотезу\n",
      "Относительный прирост конверсии группы В к группе А: 17.407\n"
     ]
    }
   ],
   "source": [
    "sample_a_filtered = pd.concat([orders_by_users_a[np.logical_not(orders_by_users_a['visitor_id'].isin(abnormal_users))]['orders'], pd.Series(0, index=np.arange(df['visitors_per_date_a'].sum() - len(orders_by_users_a['orders'])), name='orders')], axis=0)\n",
    "\n",
    "sample_b_filtered = pd.concat([orders_by_users_b[np.logical_not(orders_by_users_b['visitor_id'].isin(abnormal_users))]['orders'], pd.Series(0, index=np.arange(df['visitors_per_date_b'].sum() - len(orders_by_users_b['orders'])), name='orders')], axis=0)\n",
    "\n",
    "results = stats.mannwhitneyu(sample_a_filtered, sample_b_filtered)[1]\n",
    "print('p-значение: {0:.5f}'.format(results))\n",
    "\n",
    "if results < alpha:\n",
    "    print('Отвергаем нулевую гипотезу')\n",
    "else:\n",
    "    print('Не получилось отвергнуть нулевую гипотезу')\n",
    "    \n",
    "print('Относительный прирост конверсии группы В к группе А: {0:.3f}'.format((sample_b_filtered.mean() / sample_a_filtered.mean() - 1) * 100))    "
   ]
  },
  {
   "cell_type": "markdown",
   "metadata": {},
   "source": [
    "Результат повторил итоги расчёта по \"сырым\" данным."
   ]
  },
  {
   "cell_type": "markdown",
   "metadata": {},
   "source": [
    "### Cтатистическая значимость различий в среднем чеке заказа между группами по «очищенным» данным"
   ]
  },
  {
   "cell_type": "markdown",
   "metadata": {},
   "source": [
    "Нулевая гипотеза: различий в среднем чеке между группами нет.\n",
    "\n",
    "Альтернативная гипотеза: различия в среднем чеке между группами есть."
   ]
  },
  {
   "cell_type": "code",
   "execution_count": 28,
   "metadata": {
    "scrolled": true
   },
   "outputs": [
    {
     "name": "stdout",
     "output_type": "stream",
     "text": [
      "p-значение: 0.72713\n",
      "Не получилось отвергнуть нулевую гипотезу\n",
      "Относительный прирост среднего чека группы В к группе А: -3.373\n"
     ]
    }
   ],
   "source": [
    "results = stats.mannwhitneyu(orders_filtered[np.logical_and(orders_filtered['group'] == 'A', np.logical_not(orders_filtered['visitor_id'].isin(abnormal_users)))]['revenue'], orders_filtered[np.logical_and(orders_filtered['group'] == 'B', np.logical_not(orders_filtered['visitor_id'].isin(abnormal_users)))]['revenue'])[1]\n",
    "print('p-значение: {0:.5f}'.format(results))\n",
    "\n",
    "if results < alpha:\n",
    "    print('Отвергаем нулевую гипотезу')\n",
    "else:\n",
    "    print('Не получилось отвергнуть нулевую гипотезу')\n",
    "    \n",
    "print('Относительный прирост среднего чека группы В к группе А: {0:.3f}'.format((orders_filtered[np.logical_and(orders_filtered['group'] == 'B', np.logical_not(orders_filtered['visitor_id'].isin(abnormal_users)))]['revenue'].mean() / orders_filtered[np.logical_and(orders_filtered['group'] == 'A', np.logical_not(orders_filtered['visitor_id'].isin(abnormal_users)))]['revenue'].mean() - 1) * 100))     "
   ]
  },
  {
   "cell_type": "markdown",
   "metadata": {},
   "source": [
    "Подтвердилась гипотеза о равенстве средних чеков, при этом в \"очищенных\" данных средний чек группы В ниже."
   ]
  },
  {
   "cell_type": "markdown",
   "metadata": {},
   "source": [
    "### Вывод по результатам теста"
   ]
  },
  {
   "cell_type": "markdown",
   "metadata": {},
   "source": [
    "- Есть статистически значимое различие по конверсии между группами как по сырым данным, так и после фильтрации аномалий.\n",
    "- По \"сырым\" данным нет статистически значимого различия по среднему чеку между группами. После удаления аномалий средний чек группы В оказался ниже.\n",
    "- График различия конверсии между группами сообщает, что результаты группы B лучше группы A более чем на 11%.\n",
    "- По графику различия среднего чека сложно сделать какие-либо определённые выводы, кроме выдвижения предположения о наличии аномалий.\n",
    "- Таким образом можно остановить тест и зафиксировать победу группы В."
   ]
  }
 ],
 "metadata": {
  "ExecuteTimeLog": [
   {
    "duration": 442,
    "start_time": "2022-04-15T12:10:03.771Z"
   },
   {
    "duration": 489,
    "start_time": "2022-04-15T12:10:10.499Z"
   },
   {
    "duration": 2,
    "start_time": "2022-04-15T12:10:14.043Z"
   },
   {
    "duration": 47,
    "start_time": "2022-04-15T12:11:38.915Z"
   },
   {
    "duration": 27,
    "start_time": "2022-04-15T12:12:06.288Z"
   },
   {
    "duration": 27,
    "start_time": "2022-04-15T12:12:45.155Z"
   },
   {
    "duration": 2,
    "start_time": "2022-04-15T15:01:02.726Z"
   },
   {
    "duration": 40,
    "start_time": "2022-04-15T15:01:46.414Z"
   },
   {
    "duration": 13,
    "start_time": "2022-04-15T15:09:40.100Z"
   },
   {
    "duration": 18,
    "start_time": "2022-04-15T15:11:57.533Z"
   },
   {
    "duration": 42,
    "start_time": "2022-04-15T15:18:50.680Z"
   },
   {
    "duration": 26,
    "start_time": "2022-04-15T15:19:21.760Z"
   },
   {
    "duration": 80,
    "start_time": "2022-04-15T15:22:52.733Z"
   },
   {
    "duration": 33,
    "start_time": "2022-04-15T15:23:41.434Z"
   },
   {
    "duration": 22,
    "start_time": "2022-04-15T15:24:42.746Z"
   },
   {
    "duration": 11,
    "start_time": "2022-04-15T15:25:05.699Z"
   },
   {
    "duration": 16,
    "start_time": "2022-04-15T15:26:17.243Z"
   },
   {
    "duration": 45,
    "start_time": "2022-04-15T15:58:37.670Z"
   },
   {
    "duration": 20,
    "start_time": "2022-04-15T15:59:30.919Z"
   },
   {
    "duration": 3,
    "start_time": "2022-04-15T17:37:30.493Z"
   },
   {
    "duration": 772,
    "start_time": "2022-04-15T17:43:21.457Z"
   },
   {
    "duration": 3,
    "start_time": "2022-04-15T17:44:21.464Z"
   },
   {
    "duration": 28,
    "start_time": "2022-04-15T17:44:21.472Z"
   },
   {
    "duration": 12,
    "start_time": "2022-04-15T17:44:21.502Z"
   },
   {
    "duration": 15,
    "start_time": "2022-04-15T17:44:21.517Z"
   },
   {
    "duration": 53,
    "start_time": "2022-04-15T17:44:21.533Z"
   },
   {
    "duration": 27,
    "start_time": "2022-04-15T17:44:21.588Z"
   },
   {
    "duration": 777,
    "start_time": "2022-04-15T17:44:21.617Z"
   },
   {
    "duration": 792,
    "start_time": "2022-04-15T17:46:39.520Z"
   },
   {
    "duration": 3,
    "start_time": "2022-04-15T17:49:03.768Z"
   },
   {
    "duration": 785,
    "start_time": "2022-04-15T17:49:36.361Z"
   },
   {
    "duration": 852,
    "start_time": "2022-04-15T17:51:53.538Z"
   },
   {
    "duration": 772,
    "start_time": "2022-04-15T17:52:30.290Z"
   },
   {
    "duration": 3,
    "start_time": "2022-04-15T17:53:31.005Z"
   },
   {
    "duration": 34,
    "start_time": "2022-04-15T17:53:31.010Z"
   },
   {
    "duration": 11,
    "start_time": "2022-04-15T17:53:31.046Z"
   },
   {
    "duration": 17,
    "start_time": "2022-04-15T17:53:31.058Z"
   },
   {
    "duration": 57,
    "start_time": "2022-04-15T17:53:31.077Z"
   },
   {
    "duration": 27,
    "start_time": "2022-04-15T17:53:31.136Z"
   },
   {
    "duration": 785,
    "start_time": "2022-04-15T17:53:31.164Z"
   },
   {
    "duration": 749,
    "start_time": "2022-04-15T17:55:50.179Z"
   },
   {
    "duration": 199,
    "start_time": "2022-04-15T17:57:12.592Z"
   },
   {
    "duration": 5,
    "start_time": "2022-04-15T17:57:46.613Z"
   },
   {
    "duration": 13,
    "start_time": "2022-04-15T17:58:00.600Z"
   },
   {
    "duration": 38,
    "start_time": "2022-04-15T17:59:08.946Z"
   },
   {
    "duration": 16,
    "start_time": "2022-04-15T17:59:19.733Z"
   },
   {
    "duration": 23,
    "start_time": "2022-04-15T18:01:44.026Z"
   },
   {
    "duration": 17,
    "start_time": "2022-04-15T18:02:39.127Z"
   },
   {
    "duration": 27,
    "start_time": "2022-04-15T18:05:26.575Z"
   },
   {
    "duration": 158,
    "start_time": "2022-04-15T18:06:38.279Z"
   },
   {
    "duration": 12,
    "start_time": "2022-04-15T19:10:10.454Z"
   },
   {
    "duration": 3,
    "start_time": "2022-04-15T19:11:58.271Z"
   },
   {
    "duration": 3,
    "start_time": "2022-04-15T19:12:28.951Z"
   },
   {
    "duration": 4,
    "start_time": "2022-04-15T19:12:36.895Z"
   },
   {
    "duration": 29,
    "start_time": "2022-04-15T19:13:25.484Z"
   },
   {
    "duration": 2,
    "start_time": "2022-04-15T19:13:34.584Z"
   },
   {
    "duration": 54,
    "start_time": "2022-04-15T19:13:34.589Z"
   },
   {
    "duration": 14,
    "start_time": "2022-04-15T19:13:34.646Z"
   },
   {
    "duration": 49,
    "start_time": "2022-04-15T19:13:34.662Z"
   },
   {
    "duration": 55,
    "start_time": "2022-04-15T19:13:34.714Z"
   },
   {
    "duration": 3,
    "start_time": "2022-04-15T19:13:34.771Z"
   },
   {
    "duration": 32,
    "start_time": "2022-04-15T19:13:34.775Z"
   },
   {
    "duration": 172,
    "start_time": "2022-04-15T19:13:34.809Z"
   },
   {
    "duration": 165,
    "start_time": "2022-04-15T19:14:13.794Z"
   },
   {
    "duration": 304,
    "start_time": "2022-04-15T19:18:19.477Z"
   },
   {
    "duration": 336,
    "start_time": "2022-04-15T19:18:37.820Z"
   },
   {
    "duration": 418,
    "start_time": "2022-04-15T19:21:51.453Z"
   },
   {
    "duration": 427,
    "start_time": "2022-04-15T19:23:49.011Z"
   },
   {
    "duration": 460,
    "start_time": "2022-04-15T19:29:31.133Z"
   },
   {
    "duration": 391,
    "start_time": "2022-04-15T19:29:39.349Z"
   },
   {
    "duration": 387,
    "start_time": "2022-04-15T19:30:03.288Z"
   },
   {
    "duration": 451,
    "start_time": "2022-04-15T19:39:15.921Z"
   },
   {
    "duration": 430,
    "start_time": "2022-04-15T19:39:38.931Z"
   },
   {
    "duration": 175,
    "start_time": "2022-04-15T19:49:37.942Z"
   },
   {
    "duration": 41,
    "start_time": "2022-04-16T14:35:57.028Z"
   },
   {
    "duration": 823,
    "start_time": "2022-04-16T14:36:00.268Z"
   },
   {
    "duration": 32,
    "start_time": "2022-04-16T14:36:01.093Z"
   },
   {
    "duration": 43,
    "start_time": "2022-04-16T14:36:01.127Z"
   },
   {
    "duration": 11,
    "start_time": "2022-04-16T14:36:01.172Z"
   },
   {
    "duration": 76,
    "start_time": "2022-04-16T14:36:01.184Z"
   },
   {
    "duration": 3,
    "start_time": "2022-04-16T14:36:01.261Z"
   },
   {
    "duration": 31,
    "start_time": "2022-04-16T14:36:01.266Z"
   },
   {
    "duration": 519,
    "start_time": "2022-04-16T14:36:01.298Z"
   },
   {
    "duration": 231,
    "start_time": "2022-04-16T14:36:01.820Z"
   },
   {
    "duration": 16,
    "start_time": "2022-04-16T14:36:02.054Z"
   },
   {
    "duration": 345,
    "start_time": "2022-04-16T14:40:19.638Z"
   },
   {
    "duration": 242,
    "start_time": "2022-04-16T14:40:41.458Z"
   },
   {
    "duration": 330,
    "start_time": "2022-04-16T14:41:41.179Z"
   },
   {
    "duration": 12,
    "start_time": "2022-04-16T14:45:03.630Z"
   },
   {
    "duration": 15,
    "start_time": "2022-04-16T14:46:00.064Z"
   },
   {
    "duration": 181,
    "start_time": "2022-04-16T14:50:42.765Z"
   },
   {
    "duration": 3,
    "start_time": "2022-04-16T14:54:54.179Z"
   },
   {
    "duration": 144,
    "start_time": "2022-04-16T14:57:03.207Z"
   },
   {
    "duration": 157,
    "start_time": "2022-04-16T14:57:28.499Z"
   },
   {
    "duration": 139,
    "start_time": "2022-04-16T14:57:35.669Z"
   },
   {
    "duration": 159,
    "start_time": "2022-04-16T14:57:42.943Z"
   },
   {
    "duration": 188,
    "start_time": "2022-04-16T14:59:06.043Z"
   },
   {
    "duration": 151,
    "start_time": "2022-04-16T14:59:30.942Z"
   },
   {
    "duration": 2,
    "start_time": "2022-04-16T15:01:18.607Z"
   },
   {
    "duration": 41,
    "start_time": "2022-04-16T15:01:18.611Z"
   },
   {
    "duration": 11,
    "start_time": "2022-04-16T15:01:18.654Z"
   },
   {
    "duration": 13,
    "start_time": "2022-04-16T15:01:18.667Z"
   },
   {
    "duration": 68,
    "start_time": "2022-04-16T15:01:18.682Z"
   },
   {
    "duration": 3,
    "start_time": "2022-04-16T15:01:18.752Z"
   },
   {
    "duration": 28,
    "start_time": "2022-04-16T15:01:18.756Z"
   },
   {
    "duration": 402,
    "start_time": "2022-04-16T15:01:18.786Z"
   },
   {
    "duration": 231,
    "start_time": "2022-04-16T15:01:19.190Z"
   },
   {
    "duration": 277,
    "start_time": "2022-04-16T15:01:19.423Z"
   },
   {
    "duration": 158,
    "start_time": "2022-04-16T15:01:19.702Z"
   },
   {
    "duration": 14,
    "start_time": "2022-04-16T15:07:12.963Z"
   },
   {
    "duration": 197,
    "start_time": "2022-04-16T15:13:47.921Z"
   },
   {
    "duration": 192,
    "start_time": "2022-04-16T15:15:15.913Z"
   },
   {
    "duration": 137,
    "start_time": "2022-04-16T15:15:31.020Z"
   },
   {
    "duration": 217,
    "start_time": "2022-04-16T15:18:45.940Z"
   },
   {
    "duration": 249,
    "start_time": "2022-04-16T15:19:52.653Z"
   },
   {
    "duration": 215,
    "start_time": "2022-04-16T15:20:05.139Z"
   },
   {
    "duration": 266,
    "start_time": "2022-04-16T15:20:37.245Z"
   },
   {
    "duration": 257,
    "start_time": "2022-04-16T15:21:00.528Z"
   },
   {
    "duration": 12,
    "start_time": "2022-04-16T15:30:52.912Z"
   },
   {
    "duration": 13,
    "start_time": "2022-04-16T15:31:16.712Z"
   },
   {
    "duration": 104,
    "start_time": "2022-04-16T15:35:07.319Z"
   },
   {
    "duration": 99,
    "start_time": "2022-04-16T15:35:19.564Z"
   },
   {
    "duration": 5,
    "start_time": "2022-04-16T15:38:40.329Z"
   },
   {
    "duration": 3,
    "start_time": "2022-04-16T15:40:00.596Z"
   },
   {
    "duration": 59,
    "start_time": "2022-04-16T15:40:00.603Z"
   },
   {
    "duration": 12,
    "start_time": "2022-04-16T15:40:00.664Z"
   },
   {
    "duration": 136,
    "start_time": "2022-04-16T15:40:00.677Z"
   },
   {
    "duration": 85,
    "start_time": "2022-04-16T15:40:00.816Z"
   },
   {
    "duration": 4,
    "start_time": "2022-04-16T15:40:00.903Z"
   },
   {
    "duration": 34,
    "start_time": "2022-04-16T15:40:00.909Z"
   },
   {
    "duration": 629,
    "start_time": "2022-04-16T15:40:00.945Z"
   },
   {
    "duration": 224,
    "start_time": "2022-04-16T15:40:01.576Z"
   },
   {
    "duration": 351,
    "start_time": "2022-04-16T15:40:01.802Z"
   },
   {
    "duration": 170,
    "start_time": "2022-04-16T15:40:02.156Z"
   },
   {
    "duration": 309,
    "start_time": "2022-04-16T15:40:02.327Z"
   },
   {
    "duration": 147,
    "start_time": "2022-04-16T15:40:02.638Z"
   },
   {
    "duration": 6,
    "start_time": "2022-04-16T15:40:02.787Z"
   },
   {
    "duration": 780,
    "start_time": "2022-04-17T10:33:00.948Z"
   },
   {
    "duration": 26,
    "start_time": "2022-04-17T10:33:01.730Z"
   },
   {
    "duration": 45,
    "start_time": "2022-04-17T10:33:01.758Z"
   },
   {
    "duration": 11,
    "start_time": "2022-04-17T10:33:01.805Z"
   },
   {
    "duration": 41,
    "start_time": "2022-04-17T10:33:01.818Z"
   },
   {
    "duration": 3,
    "start_time": "2022-04-17T10:33:01.860Z"
   },
   {
    "duration": 29,
    "start_time": "2022-04-17T10:33:01.865Z"
   },
   {
    "duration": 490,
    "start_time": "2022-04-17T10:33:01.896Z"
   },
   {
    "duration": 166,
    "start_time": "2022-04-17T10:33:02.388Z"
   },
   {
    "duration": 399,
    "start_time": "2022-04-17T10:33:02.557Z"
   },
   {
    "duration": 161,
    "start_time": "2022-04-17T10:33:02.957Z"
   },
   {
    "duration": 303,
    "start_time": "2022-04-17T10:33:03.120Z"
   },
   {
    "duration": 113,
    "start_time": "2022-04-17T10:33:03.424Z"
   },
   {
    "duration": 9,
    "start_time": "2022-04-17T10:33:03.539Z"
   },
   {
    "duration": 111,
    "start_time": "2022-04-17T10:33:03.550Z"
   },
   {
    "duration": 106,
    "start_time": "2022-04-17T10:36:34.077Z"
   },
   {
    "duration": 4,
    "start_time": "2022-04-17T10:39:45.882Z"
   },
   {
    "duration": 6,
    "start_time": "2022-04-17T10:42:36.407Z"
   },
   {
    "duration": 160,
    "start_time": "2022-04-17T11:02:46.480Z"
   },
   {
    "duration": 10,
    "start_time": "2022-04-17T11:08:15.824Z"
   },
   {
    "duration": 48,
    "start_time": "2022-04-17T11:12:34.594Z"
   },
   {
    "duration": 48,
    "start_time": "2022-04-17T11:15:29.995Z"
   },
   {
    "duration": 48,
    "start_time": "2022-04-17T11:15:45.561Z"
   },
   {
    "duration": 8,
    "start_time": "2022-04-17T11:21:23.981Z"
   },
   {
    "duration": 9,
    "start_time": "2022-04-17T11:21:39.248Z"
   },
   {
    "duration": 8,
    "start_time": "2022-04-17T11:21:55.545Z"
   },
   {
    "duration": 48,
    "start_time": "2022-04-17T11:24:24.033Z"
   },
   {
    "duration": 87,
    "start_time": "2022-04-17T11:28:54.180Z"
   },
   {
    "duration": 94,
    "start_time": "2022-04-17T11:35:26.492Z"
   },
   {
    "duration": 90,
    "start_time": "2022-04-17T11:36:54.288Z"
   },
   {
    "duration": 94,
    "start_time": "2022-04-17T11:39:33.475Z"
   },
   {
    "duration": 131,
    "start_time": "2022-04-17T11:44:15.159Z"
   },
   {
    "duration": 231,
    "start_time": "2022-04-17T11:52:16.997Z"
   },
   {
    "duration": 112,
    "start_time": "2022-04-17T12:00:44.286Z"
   },
   {
    "duration": 122,
    "start_time": "2022-04-17T12:01:13.469Z"
   },
   {
    "duration": 195,
    "start_time": "2022-04-17T12:01:30.975Z"
   },
   {
    "duration": 190,
    "start_time": "2022-04-17T12:02:01.493Z"
   },
   {
    "duration": 24,
    "start_time": "2022-04-17T12:05:39.939Z"
   },
   {
    "duration": 24,
    "start_time": "2022-04-17T12:07:41.065Z"
   },
   {
    "duration": 199,
    "start_time": "2022-04-17T12:09:21.292Z"
   },
   {
    "duration": 185,
    "start_time": "2022-04-17T13:32:25.407Z"
   },
   {
    "duration": 9,
    "start_time": "2022-04-17T13:35:27.081Z"
   },
   {
    "duration": 12,
    "start_time": "2022-04-17T13:37:25.546Z"
   },
   {
    "duration": 15,
    "start_time": "2022-04-17T13:40:17.751Z"
   },
   {
    "duration": 14,
    "start_time": "2022-04-17T13:47:48.910Z"
   },
   {
    "duration": 16,
    "start_time": "2022-04-17T13:48:02.201Z"
   },
   {
    "duration": 17,
    "start_time": "2022-04-17T13:54:00.858Z"
   },
   {
    "duration": 421,
    "start_time": "2022-04-17T13:54:54.475Z"
   },
   {
    "duration": 21,
    "start_time": "2022-04-17T13:54:54.898Z"
   },
   {
    "duration": 10,
    "start_time": "2022-04-17T13:54:54.920Z"
   },
   {
    "duration": 21,
    "start_time": "2022-04-17T13:54:54.932Z"
   },
   {
    "duration": 39,
    "start_time": "2022-04-17T13:54:54.954Z"
   },
   {
    "duration": 2,
    "start_time": "2022-04-17T13:54:54.995Z"
   },
   {
    "duration": 22,
    "start_time": "2022-04-17T13:54:54.999Z"
   },
   {
    "duration": 396,
    "start_time": "2022-04-17T13:54:55.022Z"
   },
   {
    "duration": 161,
    "start_time": "2022-04-17T13:54:55.420Z"
   },
   {
    "duration": 269,
    "start_time": "2022-04-17T13:54:55.584Z"
   },
   {
    "duration": 160,
    "start_time": "2022-04-17T13:54:55.854Z"
   },
   {
    "duration": 310,
    "start_time": "2022-04-17T13:54:56.015Z"
   },
   {
    "duration": 103,
    "start_time": "2022-04-17T13:54:56.327Z"
   },
   {
    "duration": 4,
    "start_time": "2022-04-17T13:54:56.432Z"
   },
   {
    "duration": 113,
    "start_time": "2022-04-17T13:54:56.447Z"
   },
   {
    "duration": 5,
    "start_time": "2022-04-17T13:54:56.562Z"
   },
   {
    "duration": 201,
    "start_time": "2022-04-17T13:54:56.568Z"
   },
   {
    "duration": 32,
    "start_time": "2022-04-17T13:54:56.771Z"
   },
   {
    "duration": 101,
    "start_time": "2022-04-17T13:57:21.444Z"
   },
   {
    "duration": 111,
    "start_time": "2022-04-17T13:58:17.772Z"
   },
   {
    "duration": 59,
    "start_time": "2022-04-17T13:59:00.997Z"
   },
   {
    "duration": 34,
    "start_time": "2022-04-17T13:59:23.708Z"
   },
   {
    "duration": 29,
    "start_time": "2022-04-17T13:59:40.748Z"
   },
   {
    "duration": 30,
    "start_time": "2022-04-17T14:00:22.375Z"
   },
   {
    "duration": 30,
    "start_time": "2022-04-17T14:01:47.420Z"
   },
   {
    "duration": 31,
    "start_time": "2022-04-17T14:01:57.604Z"
   },
   {
    "duration": 35,
    "start_time": "2022-04-17T14:03:36.218Z"
   },
   {
    "duration": 4,
    "start_time": "2022-04-17T14:05:24.591Z"
   },
   {
    "duration": 7,
    "start_time": "2022-04-17T14:05:31.589Z"
   },
   {
    "duration": 8,
    "start_time": "2022-04-17T14:05:54.140Z"
   },
   {
    "duration": 4,
    "start_time": "2022-04-17T14:06:15.689Z"
   },
   {
    "duration": 7,
    "start_time": "2022-04-17T14:18:10.557Z"
   },
   {
    "duration": 5,
    "start_time": "2022-04-17T15:57:21.630Z"
   },
   {
    "duration": 7,
    "start_time": "2022-04-17T16:07:37.614Z"
   },
   {
    "duration": 10,
    "start_time": "2022-04-17T16:09:31.894Z"
   },
   {
    "duration": 11,
    "start_time": "2022-04-17T16:11:41.552Z"
   },
   {
    "duration": 9,
    "start_time": "2022-04-17T16:11:55.451Z"
   },
   {
    "duration": 6,
    "start_time": "2022-04-17T16:15:21.445Z"
   },
   {
    "duration": 7,
    "start_time": "2022-04-17T16:15:26.989Z"
   },
   {
    "duration": 16,
    "start_time": "2022-04-17T16:21:38.195Z"
   },
   {
    "duration": 13,
    "start_time": "2022-04-17T16:21:52.747Z"
   },
   {
    "duration": 25,
    "start_time": "2022-04-17T16:24:42.664Z"
   },
   {
    "duration": 12,
    "start_time": "2022-04-17T16:32:26.719Z"
   },
   {
    "duration": 1430,
    "start_time": "2022-04-17T18:53:10.169Z"
   },
   {
    "duration": 69,
    "start_time": "2022-04-17T18:53:11.602Z"
   },
   {
    "duration": 47,
    "start_time": "2022-04-17T18:53:11.673Z"
   },
   {
    "duration": 15,
    "start_time": "2022-04-17T18:53:11.722Z"
   },
   {
    "duration": 98,
    "start_time": "2022-04-17T18:53:11.739Z"
   },
   {
    "duration": 5,
    "start_time": "2022-04-17T18:53:11.840Z"
   },
   {
    "duration": 59,
    "start_time": "2022-04-17T18:53:11.848Z"
   },
   {
    "duration": 813,
    "start_time": "2022-04-17T18:53:11.909Z"
   },
   {
    "duration": 228,
    "start_time": "2022-04-17T18:53:12.724Z"
   },
   {
    "duration": 299,
    "start_time": "2022-04-17T18:53:12.955Z"
   },
   {
    "duration": 227,
    "start_time": "2022-04-17T18:53:13.256Z"
   },
   {
    "duration": 307,
    "start_time": "2022-04-17T18:53:13.484Z"
   },
   {
    "duration": 115,
    "start_time": "2022-04-17T18:53:13.793Z"
   },
   {
    "duration": 5,
    "start_time": "2022-04-17T18:53:13.910Z"
   },
   {
    "duration": 215,
    "start_time": "2022-04-17T18:53:13.925Z"
   },
   {
    "duration": 5,
    "start_time": "2022-04-17T18:53:14.142Z"
   },
   {
    "duration": 229,
    "start_time": "2022-04-17T18:53:14.150Z"
   },
   {
    "duration": 47,
    "start_time": "2022-04-17T18:53:14.380Z"
   },
   {
    "duration": 12,
    "start_time": "2022-04-17T18:53:14.429Z"
   },
   {
    "duration": 11,
    "start_time": "2022-04-17T18:53:14.443Z"
   },
   {
    "duration": 28,
    "start_time": "2022-04-17T18:53:14.456Z"
   },
   {
    "duration": 10,
    "start_time": "2022-04-17T18:53:14.486Z"
   },
   {
    "duration": 3,
    "start_time": "2022-04-17T18:56:09.491Z"
   },
   {
    "duration": 703,
    "start_time": "2022-04-17T18:56:09.496Z"
   },
   {
    "duration": 11,
    "start_time": "2022-04-17T18:56:10.201Z"
   },
   {
    "duration": 12,
    "start_time": "2022-04-17T18:56:10.214Z"
   },
   {
    "duration": 1238,
    "start_time": "2022-04-17T18:56:10.235Z"
   },
   {
    "duration": 3,
    "start_time": "2022-04-17T18:56:11.475Z"
   },
   {
    "duration": 706,
    "start_time": "2022-04-17T18:56:11.480Z"
   },
   {
    "duration": 724,
    "start_time": "2022-04-17T18:56:12.188Z"
   },
   {
    "duration": 185,
    "start_time": "2022-04-17T18:56:12.922Z"
   },
   {
    "duration": 330,
    "start_time": "2022-04-17T18:56:13.109Z"
   },
   {
    "duration": 173,
    "start_time": "2022-04-17T18:56:13.446Z"
   },
   {
    "duration": 279,
    "start_time": "2022-04-17T18:56:13.621Z"
   },
   {
    "duration": 130,
    "start_time": "2022-04-17T18:56:13.902Z"
   },
   {
    "duration": 5,
    "start_time": "2022-04-17T18:56:14.034Z"
   },
   {
    "duration": 167,
    "start_time": "2022-04-17T18:56:14.040Z"
   },
   {
    "duration": 4,
    "start_time": "2022-04-17T18:56:14.209Z"
   },
   {
    "duration": 238,
    "start_time": "2022-04-17T18:56:14.223Z"
   },
   {
    "duration": 46,
    "start_time": "2022-04-17T18:56:14.465Z"
   },
   {
    "duration": 20,
    "start_time": "2022-04-17T18:56:14.513Z"
   },
   {
    "duration": 19,
    "start_time": "2022-04-17T18:56:14.535Z"
   },
   {
    "duration": 31,
    "start_time": "2022-04-17T18:56:14.559Z"
   },
   {
    "duration": 11,
    "start_time": "2022-04-17T18:56:14.592Z"
   },
   {
    "duration": 3,
    "start_time": "2022-04-17T18:57:34.100Z"
   },
   {
    "duration": 45,
    "start_time": "2022-04-17T18:57:34.106Z"
   },
   {
    "duration": 13,
    "start_time": "2022-04-17T18:57:34.153Z"
   },
   {
    "duration": 15,
    "start_time": "2022-04-17T18:57:34.168Z"
   },
   {
    "duration": 79,
    "start_time": "2022-04-17T18:57:34.185Z"
   },
   {
    "duration": 3,
    "start_time": "2022-04-17T18:57:34.266Z"
   },
   {
    "duration": 29,
    "start_time": "2022-04-17T18:57:34.271Z"
   },
   {
    "duration": 675,
    "start_time": "2022-04-17T18:57:34.301Z"
   },
   {
    "duration": 263,
    "start_time": "2022-04-17T18:57:34.978Z"
   },
   {
    "duration": 391,
    "start_time": "2022-04-17T18:57:35.244Z"
   },
   {
    "duration": 223,
    "start_time": "2022-04-17T18:57:35.638Z"
   },
   {
    "duration": 309,
    "start_time": "2022-04-17T18:57:35.862Z"
   },
   {
    "duration": 141,
    "start_time": "2022-04-17T18:57:36.173Z"
   },
   {
    "duration": 12,
    "start_time": "2022-04-17T18:57:36.315Z"
   },
   {
    "duration": 129,
    "start_time": "2022-04-17T18:57:36.331Z"
   },
   {
    "duration": 8,
    "start_time": "2022-04-17T18:57:36.461Z"
   },
   {
    "duration": 215,
    "start_time": "2022-04-17T18:57:36.471Z"
   },
   {
    "duration": 53,
    "start_time": "2022-04-17T18:57:36.688Z"
   },
   {
    "duration": 18,
    "start_time": "2022-04-17T18:57:36.743Z"
   },
   {
    "duration": 8,
    "start_time": "2022-04-17T18:57:36.764Z"
   },
   {
    "duration": 55,
    "start_time": "2022-04-17T18:57:36.774Z"
   },
   {
    "duration": 15,
    "start_time": "2022-04-17T18:57:36.832Z"
   },
   {
    "duration": 4,
    "start_time": "2022-04-17T19:00:52.081Z"
   },
   {
    "duration": 5,
    "start_time": "2022-04-17T19:01:07.349Z"
   },
   {
    "duration": 4,
    "start_time": "2022-04-17T19:01:46.221Z"
   },
   {
    "duration": 33,
    "start_time": "2022-04-17T19:01:46.230Z"
   },
   {
    "duration": 10,
    "start_time": "2022-04-17T19:01:46.265Z"
   },
   {
    "duration": 11,
    "start_time": "2022-04-17T19:01:46.277Z"
   },
   {
    "duration": 59,
    "start_time": "2022-04-17T19:01:46.290Z"
   },
   {
    "duration": 4,
    "start_time": "2022-04-17T19:01:46.350Z"
   },
   {
    "duration": 30,
    "start_time": "2022-04-17T19:01:46.355Z"
   },
   {
    "duration": 543,
    "start_time": "2022-04-17T19:01:46.386Z"
   },
   {
    "duration": 206,
    "start_time": "2022-04-17T19:01:46.934Z"
   },
   {
    "duration": 290,
    "start_time": "2022-04-17T19:01:47.142Z"
   },
   {
    "duration": 172,
    "start_time": "2022-04-17T19:01:47.436Z"
   },
   {
    "duration": 280,
    "start_time": "2022-04-17T19:01:47.609Z"
   },
   {
    "duration": 196,
    "start_time": "2022-04-17T19:01:47.891Z"
   },
   {
    "duration": 5,
    "start_time": "2022-04-17T19:01:48.089Z"
   },
   {
    "duration": 129,
    "start_time": "2022-04-17T19:01:48.095Z"
   },
   {
    "duration": 4,
    "start_time": "2022-04-17T19:01:48.226Z"
   },
   {
    "duration": 223,
    "start_time": "2022-04-17T19:01:48.233Z"
   },
   {
    "duration": 31,
    "start_time": "2022-04-17T19:01:48.458Z"
   },
   {
    "duration": 7,
    "start_time": "2022-04-17T19:01:48.490Z"
   },
   {
    "duration": 33,
    "start_time": "2022-04-17T19:01:48.498Z"
   },
   {
    "duration": 35,
    "start_time": "2022-04-17T19:01:48.535Z"
   },
   {
    "duration": 9,
    "start_time": "2022-04-17T19:01:48.572Z"
   },
   {
    "duration": 9,
    "start_time": "2022-04-17T19:02:56.881Z"
   },
   {
    "duration": 3,
    "start_time": "2022-04-17T19:03:00.288Z"
   },
   {
    "duration": 54,
    "start_time": "2022-04-17T19:03:00.293Z"
   },
   {
    "duration": 15,
    "start_time": "2022-04-17T19:03:00.350Z"
   },
   {
    "duration": 18,
    "start_time": "2022-04-17T19:03:00.367Z"
   },
   {
    "duration": 69,
    "start_time": "2022-04-17T19:03:00.387Z"
   },
   {
    "duration": 4,
    "start_time": "2022-04-17T19:03:00.457Z"
   },
   {
    "duration": 46,
    "start_time": "2022-04-17T19:03:00.463Z"
   },
   {
    "duration": 484,
    "start_time": "2022-04-17T19:03:00.510Z"
   },
   {
    "duration": 220,
    "start_time": "2022-04-17T19:03:00.996Z"
   },
   {
    "duration": 273,
    "start_time": "2022-04-17T19:03:01.218Z"
   },
   {
    "duration": 180,
    "start_time": "2022-04-17T19:03:01.493Z"
   },
   {
    "duration": 284,
    "start_time": "2022-04-17T19:03:01.674Z"
   },
   {
    "duration": 109,
    "start_time": "2022-04-17T19:03:01.960Z"
   },
   {
    "duration": 4,
    "start_time": "2022-04-17T19:03:02.071Z"
   },
   {
    "duration": 125,
    "start_time": "2022-04-17T19:03:02.077Z"
   },
   {
    "duration": 5,
    "start_time": "2022-04-17T19:03:02.203Z"
   },
   {
    "duration": 285,
    "start_time": "2022-04-17T19:03:02.209Z"
   },
   {
    "duration": 50,
    "start_time": "2022-04-17T19:03:02.496Z"
   },
   {
    "duration": 10,
    "start_time": "2022-04-17T19:03:02.548Z"
   },
   {
    "duration": 9,
    "start_time": "2022-04-17T19:03:02.560Z"
   },
   {
    "duration": 42,
    "start_time": "2022-04-17T19:03:02.571Z"
   },
   {
    "duration": 16,
    "start_time": "2022-04-17T19:03:02.615Z"
   },
   {
    "duration": 314,
    "start_time": "2022-04-17T19:13:13.492Z"
   },
   {
    "duration": 265,
    "start_time": "2022-04-17T19:13:33.473Z"
   },
   {
    "duration": 415,
    "start_time": "2022-04-17T19:17:00.759Z"
   },
   {
    "duration": 283,
    "start_time": "2022-04-17T19:18:47.920Z"
   },
   {
    "duration": 299,
    "start_time": "2022-04-17T19:19:00.683Z"
   },
   {
    "duration": 5,
    "start_time": "2022-04-17T19:21:00.244Z"
   },
   {
    "duration": 5,
    "start_time": "2022-04-17T19:22:02.401Z"
   },
   {
    "duration": 302,
    "start_time": "2022-04-17T19:22:39.261Z"
   },
   {
    "duration": 438,
    "start_time": "2022-04-17T19:24:18.036Z"
   },
   {
    "duration": 312,
    "start_time": "2022-04-17T19:24:41.576Z"
   },
   {
    "duration": 4,
    "start_time": "2022-04-17T19:25:03.325Z"
   },
   {
    "duration": 45,
    "start_time": "2022-04-17T19:25:03.332Z"
   },
   {
    "duration": 15,
    "start_time": "2022-04-17T19:25:03.379Z"
   },
   {
    "duration": 29,
    "start_time": "2022-04-17T19:25:03.396Z"
   },
   {
    "duration": 51,
    "start_time": "2022-04-17T19:25:03.429Z"
   },
   {
    "duration": 4,
    "start_time": "2022-04-17T19:25:03.482Z"
   },
   {
    "duration": 31,
    "start_time": "2022-04-17T19:25:03.489Z"
   },
   {
    "duration": 530,
    "start_time": "2022-04-17T19:25:03.521Z"
   },
   {
    "duration": 203,
    "start_time": "2022-04-17T19:25:04.055Z"
   },
   {
    "duration": 297,
    "start_time": "2022-04-17T19:25:04.262Z"
   },
   {
    "duration": 188,
    "start_time": "2022-04-17T19:25:04.565Z"
   },
   {
    "duration": 404,
    "start_time": "2022-04-17T19:25:04.755Z"
   },
   {
    "duration": 165,
    "start_time": "2022-04-17T19:25:05.161Z"
   },
   {
    "duration": 10,
    "start_time": "2022-04-17T19:25:05.328Z"
   },
   {
    "duration": 135,
    "start_time": "2022-04-17T19:25:05.341Z"
   },
   {
    "duration": 5,
    "start_time": "2022-04-17T19:25:05.478Z"
   },
   {
    "duration": 234,
    "start_time": "2022-04-17T19:25:05.485Z"
   },
   {
    "duration": 54,
    "start_time": "2022-04-17T19:25:05.725Z"
   },
   {
    "duration": 10,
    "start_time": "2022-04-17T19:25:05.781Z"
   },
   {
    "duration": 17,
    "start_time": "2022-04-17T19:25:05.793Z"
   },
   {
    "duration": 57,
    "start_time": "2022-04-17T19:25:05.812Z"
   },
   {
    "duration": 12,
    "start_time": "2022-04-17T19:25:05.871Z"
   },
   {
    "duration": 7,
    "start_time": "2022-04-17T19:52:14.394Z"
   },
   {
    "duration": 9,
    "start_time": "2022-04-17T19:52:34.534Z"
   },
   {
    "duration": 182,
    "start_time": "2022-04-17T20:02:10.158Z"
   },
   {
    "duration": 6,
    "start_time": "2022-04-17T20:02:49.628Z"
   },
   {
    "duration": 34,
    "start_time": "2022-04-17T20:02:49.642Z"
   },
   {
    "duration": 10,
    "start_time": "2022-04-17T20:02:49.678Z"
   },
   {
    "duration": 14,
    "start_time": "2022-04-17T20:02:49.689Z"
   },
   {
    "duration": 65,
    "start_time": "2022-04-17T20:02:49.704Z"
   },
   {
    "duration": 2,
    "start_time": "2022-04-17T20:02:49.771Z"
   },
   {
    "duration": 41,
    "start_time": "2022-04-17T20:02:49.775Z"
   },
   {
    "duration": 449,
    "start_time": "2022-04-17T20:02:49.818Z"
   },
   {
    "duration": 185,
    "start_time": "2022-04-17T20:02:50.269Z"
   },
   {
    "duration": 255,
    "start_time": "2022-04-17T20:02:50.455Z"
   },
   {
    "duration": 169,
    "start_time": "2022-04-17T20:02:50.712Z"
   },
   {
    "duration": 306,
    "start_time": "2022-04-17T20:02:50.883Z"
   },
   {
    "duration": 123,
    "start_time": "2022-04-17T20:02:51.191Z"
   },
   {
    "duration": 10,
    "start_time": "2022-04-17T20:02:51.315Z"
   },
   {
    "duration": 135,
    "start_time": "2022-04-17T20:02:51.329Z"
   },
   {
    "duration": 4,
    "start_time": "2022-04-17T20:02:51.466Z"
   },
   {
    "duration": 265,
    "start_time": "2022-04-17T20:02:51.472Z"
   },
   {
    "duration": 34,
    "start_time": "2022-04-17T20:02:51.739Z"
   },
   {
    "duration": 8,
    "start_time": "2022-04-17T20:02:51.775Z"
   },
   {
    "duration": 7,
    "start_time": "2022-04-17T20:02:51.785Z"
   },
   {
    "duration": 34,
    "start_time": "2022-04-17T20:02:51.822Z"
   },
   {
    "duration": 10,
    "start_time": "2022-04-17T20:02:51.857Z"
   },
   {
    "duration": 3,
    "start_time": "2022-04-17T20:04:36.992Z"
   },
   {
    "duration": 30,
    "start_time": "2022-04-17T20:04:36.997Z"
   },
   {
    "duration": 11,
    "start_time": "2022-04-17T20:04:37.029Z"
   },
   {
    "duration": 12,
    "start_time": "2022-04-17T20:04:37.042Z"
   },
   {
    "duration": 60,
    "start_time": "2022-04-17T20:04:37.056Z"
   },
   {
    "duration": 3,
    "start_time": "2022-04-17T20:04:37.117Z"
   },
   {
    "duration": 28,
    "start_time": "2022-04-17T20:04:37.122Z"
   },
   {
    "duration": 508,
    "start_time": "2022-04-17T20:04:37.152Z"
   },
   {
    "duration": 162,
    "start_time": "2022-04-17T20:04:37.662Z"
   },
   {
    "duration": 283,
    "start_time": "2022-04-17T20:04:37.825Z"
   },
   {
    "duration": 166,
    "start_time": "2022-04-17T20:04:38.122Z"
   },
   {
    "duration": 308,
    "start_time": "2022-04-17T20:04:38.290Z"
   },
   {
    "duration": 113,
    "start_time": "2022-04-17T20:04:38.600Z"
   },
   {
    "duration": 8,
    "start_time": "2022-04-17T20:04:38.715Z"
   },
   {
    "duration": 115,
    "start_time": "2022-04-17T20:04:38.725Z"
   },
   {
    "duration": 5,
    "start_time": "2022-04-17T20:04:38.842Z"
   },
   {
    "duration": 287,
    "start_time": "2022-04-17T20:04:38.849Z"
   },
   {
    "duration": 49,
    "start_time": "2022-04-17T20:04:39.138Z"
   },
   {
    "duration": 10,
    "start_time": "2022-04-17T20:04:39.189Z"
   },
   {
    "duration": 30,
    "start_time": "2022-04-17T20:04:39.200Z"
   },
   {
    "duration": 42,
    "start_time": "2022-04-17T20:04:39.232Z"
   },
   {
    "duration": 12,
    "start_time": "2022-04-17T20:04:39.276Z"
   },
   {
    "duration": 235,
    "start_time": "2022-04-17T20:35:55.203Z"
   },
   {
    "duration": 4,
    "start_time": "2022-04-17T20:36:20.520Z"
   },
   {
    "duration": 47,
    "start_time": "2022-04-17T20:36:20.526Z"
   },
   {
    "duration": 13,
    "start_time": "2022-04-17T20:36:20.575Z"
   },
   {
    "duration": 13,
    "start_time": "2022-04-17T20:36:20.590Z"
   },
   {
    "duration": 60,
    "start_time": "2022-04-17T20:36:20.606Z"
   },
   {
    "duration": 4,
    "start_time": "2022-04-17T20:36:20.669Z"
   },
   {
    "duration": 29,
    "start_time": "2022-04-17T20:36:20.675Z"
   },
   {
    "duration": 500,
    "start_time": "2022-04-17T20:36:20.706Z"
   },
   {
    "duration": 203,
    "start_time": "2022-04-17T20:36:21.208Z"
   },
   {
    "duration": 327,
    "start_time": "2022-04-17T20:36:21.414Z"
   },
   {
    "duration": 207,
    "start_time": "2022-04-17T20:36:21.750Z"
   },
   {
    "duration": 390,
    "start_time": "2022-04-17T20:36:21.959Z"
   },
   {
    "duration": 131,
    "start_time": "2022-04-17T20:36:22.353Z"
   },
   {
    "duration": 6,
    "start_time": "2022-04-17T20:36:22.486Z"
   },
   {
    "duration": 175,
    "start_time": "2022-04-17T20:36:22.494Z"
   },
   {
    "duration": 6,
    "start_time": "2022-04-17T20:36:22.671Z"
   },
   {
    "duration": 293,
    "start_time": "2022-04-17T20:36:22.679Z"
   },
   {
    "duration": 35,
    "start_time": "2022-04-17T20:36:22.974Z"
   },
   {
    "duration": 18,
    "start_time": "2022-04-17T20:36:23.011Z"
   },
   {
    "duration": 19,
    "start_time": "2022-04-17T20:36:23.031Z"
   },
   {
    "duration": 34,
    "start_time": "2022-04-17T20:36:23.052Z"
   },
   {
    "duration": 11,
    "start_time": "2022-04-17T20:36:23.088Z"
   },
   {
    "duration": 1137,
    "start_time": "2022-04-18T17:42:04.836Z"
   },
   {
    "duration": 27,
    "start_time": "2022-04-18T17:42:05.975Z"
   },
   {
    "duration": 64,
    "start_time": "2022-04-18T17:42:06.003Z"
   },
   {
    "duration": 12,
    "start_time": "2022-04-18T17:42:06.070Z"
   },
   {
    "duration": 36,
    "start_time": "2022-04-18T17:42:06.083Z"
   },
   {
    "duration": 3,
    "start_time": "2022-04-18T17:42:06.120Z"
   },
   {
    "duration": 29,
    "start_time": "2022-04-18T17:42:06.124Z"
   },
   {
    "duration": 487,
    "start_time": "2022-04-18T17:42:06.155Z"
   },
   {
    "duration": 164,
    "start_time": "2022-04-18T17:42:06.644Z"
   },
   {
    "duration": 257,
    "start_time": "2022-04-18T17:42:06.811Z"
   },
   {
    "duration": 160,
    "start_time": "2022-04-18T17:42:07.069Z"
   },
   {
    "duration": 299,
    "start_time": "2022-04-18T17:42:07.231Z"
   },
   {
    "duration": 100,
    "start_time": "2022-04-18T17:42:07.532Z"
   },
   {
    "duration": 4,
    "start_time": "2022-04-18T17:42:07.634Z"
   },
   {
    "duration": 122,
    "start_time": "2022-04-18T17:42:07.639Z"
   },
   {
    "duration": 5,
    "start_time": "2022-04-18T17:42:07.762Z"
   },
   {
    "duration": 199,
    "start_time": "2022-04-18T17:42:07.768Z"
   },
   {
    "duration": 32,
    "start_time": "2022-04-18T17:42:07.968Z"
   },
   {
    "duration": 8,
    "start_time": "2022-04-18T17:42:08.002Z"
   },
   {
    "duration": 11,
    "start_time": "2022-04-18T17:42:08.012Z"
   },
   {
    "duration": 52,
    "start_time": "2022-04-18T17:42:08.024Z"
   },
   {
    "duration": 10,
    "start_time": "2022-04-18T17:42:08.078Z"
   },
   {
    "duration": 127,
    "start_time": "2022-04-18T17:53:02.176Z"
   },
   {
    "duration": 125,
    "start_time": "2022-04-18T17:58:55.366Z"
   },
   {
    "duration": 72,
    "start_time": "2022-04-19T11:27:27.313Z"
   },
   {
    "duration": 1697,
    "start_time": "2022-04-19T11:27:45.742Z"
   },
   {
    "duration": 42,
    "start_time": "2022-04-19T11:27:47.441Z"
   },
   {
    "duration": 72,
    "start_time": "2022-04-19T11:27:47.485Z"
   },
   {
    "duration": 34,
    "start_time": "2022-04-19T11:27:47.559Z"
   },
   {
    "duration": 40,
    "start_time": "2022-04-19T11:27:47.595Z"
   },
   {
    "duration": 5,
    "start_time": "2022-04-19T11:27:47.638Z"
   },
   {
    "duration": 55,
    "start_time": "2022-04-19T11:27:47.645Z"
   },
   {
    "duration": 883,
    "start_time": "2022-04-19T11:27:47.703Z"
   },
   {
    "duration": 286,
    "start_time": "2022-04-19T11:27:48.589Z"
   },
   {
    "duration": 448,
    "start_time": "2022-04-19T11:27:48.879Z"
   },
   {
    "duration": 294,
    "start_time": "2022-04-19T11:27:49.329Z"
   },
   {
    "duration": 409,
    "start_time": "2022-04-19T11:27:49.625Z"
   },
   {
    "duration": 185,
    "start_time": "2022-04-19T11:27:50.036Z"
   },
   {
    "duration": 7,
    "start_time": "2022-04-19T11:27:50.223Z"
   },
   {
    "duration": 217,
    "start_time": "2022-04-19T11:27:50.232Z"
   },
   {
    "duration": 7,
    "start_time": "2022-04-19T11:27:50.451Z"
   },
   {
    "duration": 367,
    "start_time": "2022-04-19T11:27:50.460Z"
   },
   {
    "duration": 58,
    "start_time": "2022-04-19T11:27:50.829Z"
   },
   {
    "duration": 12,
    "start_time": "2022-04-19T11:27:50.889Z"
   },
   {
    "duration": 11,
    "start_time": "2022-04-19T11:27:50.903Z"
   },
   {
    "duration": 76,
    "start_time": "2022-04-19T11:27:50.916Z"
   },
   {
    "duration": 14,
    "start_time": "2022-04-19T11:27:50.995Z"
   },
   {
    "duration": 25,
    "start_time": "2022-04-19T11:29:39.149Z"
   },
   {
    "duration": 32,
    "start_time": "2022-04-19T11:46:17.367Z"
   },
   {
    "duration": 113,
    "start_time": "2022-04-19T11:46:43.525Z"
   },
   {
    "duration": 24,
    "start_time": "2022-04-19T11:49:13.131Z"
   },
   {
    "duration": 16,
    "start_time": "2022-04-19T11:49:51.131Z"
   },
   {
    "duration": 16,
    "start_time": "2022-04-19T11:50:17.299Z"
   },
   {
    "duration": 13,
    "start_time": "2022-04-19T11:50:44.541Z"
   },
   {
    "duration": 25,
    "start_time": "2022-04-19T11:51:29.668Z"
   },
   {
    "duration": 18,
    "start_time": "2022-04-19T11:52:16.944Z"
   },
   {
    "duration": 11,
    "start_time": "2022-04-19T11:53:24.412Z"
   },
   {
    "duration": 8,
    "start_time": "2022-04-19T11:53:56.102Z"
   },
   {
    "duration": 9,
    "start_time": "2022-04-19T11:58:51.668Z"
   },
   {
    "duration": 24,
    "start_time": "2022-04-19T12:00:44.055Z"
   },
   {
    "duration": 10,
    "start_time": "2022-04-19T12:01:12.311Z"
   },
   {
    "duration": 6,
    "start_time": "2022-04-19T12:01:18.663Z"
   },
   {
    "duration": 21,
    "start_time": "2022-04-19T12:01:21.263Z"
   },
   {
    "duration": 16,
    "start_time": "2022-04-19T12:02:58.867Z"
   },
   {
    "duration": 1253,
    "start_time": "2022-04-19T12:03:50.295Z"
   },
   {
    "duration": 8,
    "start_time": "2022-04-19T12:04:16.715Z"
   },
   {
    "duration": 8,
    "start_time": "2022-04-19T12:04:40.699Z"
   },
   {
    "duration": 16,
    "start_time": "2022-04-19T12:10:40.303Z"
   },
   {
    "duration": 8,
    "start_time": "2022-04-19T12:10:51.453Z"
   },
   {
    "duration": 10,
    "start_time": "2022-04-19T12:11:30.846Z"
   },
   {
    "duration": 10,
    "start_time": "2022-04-19T12:13:03.843Z"
   },
   {
    "duration": 15,
    "start_time": "2022-04-19T12:14:39.779Z"
   },
   {
    "duration": 13,
    "start_time": "2022-04-19T12:16:01.982Z"
   },
   {
    "duration": 8,
    "start_time": "2022-04-19T12:16:35.328Z"
   },
   {
    "duration": 9,
    "start_time": "2022-04-19T12:16:52.908Z"
   },
   {
    "duration": 8,
    "start_time": "2022-04-19T12:19:53.349Z"
   },
   {
    "duration": 9,
    "start_time": "2022-04-19T12:20:05.281Z"
   },
   {
    "duration": 12,
    "start_time": "2022-04-19T12:21:13.942Z"
   },
   {
    "duration": 9,
    "start_time": "2022-04-19T12:22:03.244Z"
   },
   {
    "duration": 9,
    "start_time": "2022-04-19T12:33:46.483Z"
   },
   {
    "duration": 8,
    "start_time": "2022-04-19T12:34:11.405Z"
   },
   {
    "duration": 9,
    "start_time": "2022-04-19T12:34:24.123Z"
   },
   {
    "duration": 13,
    "start_time": "2022-04-19T12:39:08.453Z"
   },
   {
    "duration": 9,
    "start_time": "2022-04-19T12:39:37.149Z"
   },
   {
    "duration": 12,
    "start_time": "2022-04-19T12:56:11.306Z"
   },
   {
    "duration": 13,
    "start_time": "2022-04-19T12:56:46.295Z"
   },
   {
    "duration": 12,
    "start_time": "2022-04-19T12:57:13.500Z"
   },
   {
    "duration": 14,
    "start_time": "2022-04-19T12:58:09.672Z"
   },
   {
    "duration": 13,
    "start_time": "2022-04-19T12:59:02.748Z"
   },
   {
    "duration": 106,
    "start_time": "2022-04-19T13:00:09.793Z"
   },
   {
    "duration": 13,
    "start_time": "2022-04-19T13:00:18.989Z"
   },
   {
    "duration": 1227,
    "start_time": "2022-04-20T10:18:43.899Z"
   },
   {
    "duration": 40,
    "start_time": "2022-04-20T10:18:45.128Z"
   },
   {
    "duration": 43,
    "start_time": "2022-04-20T10:18:45.169Z"
   },
   {
    "duration": 11,
    "start_time": "2022-04-20T10:18:45.214Z"
   },
   {
    "duration": 49,
    "start_time": "2022-04-20T10:18:45.226Z"
   },
   {
    "duration": 3,
    "start_time": "2022-04-20T10:18:45.276Z"
   },
   {
    "duration": 34,
    "start_time": "2022-04-20T10:18:45.280Z"
   },
   {
    "duration": 4,
    "start_time": "2022-04-20T10:18:45.316Z"
   },
   {
    "duration": 5,
    "start_time": "2022-04-20T10:18:45.321Z"
   },
   {
    "duration": 6,
    "start_time": "2022-04-20T10:18:45.329Z"
   },
   {
    "duration": 10,
    "start_time": "2022-04-20T10:18:45.336Z"
   },
   {
    "duration": 9,
    "start_time": "2022-04-20T10:18:45.347Z"
   },
   {
    "duration": 4,
    "start_time": "2022-04-20T10:18:45.357Z"
   },
   {
    "duration": 7,
    "start_time": "2022-04-20T10:18:45.363Z"
   },
   {
    "duration": 100,
    "start_time": "2022-04-20T10:18:45.371Z"
   },
   {
    "duration": 0,
    "start_time": "2022-04-20T10:18:45.472Z"
   },
   {
    "duration": 0,
    "start_time": "2022-04-20T10:18:45.473Z"
   },
   {
    "duration": 0,
    "start_time": "2022-04-20T10:18:45.474Z"
   },
   {
    "duration": 0,
    "start_time": "2022-04-20T10:18:45.475Z"
   },
   {
    "duration": 0,
    "start_time": "2022-04-20T10:18:45.476Z"
   },
   {
    "duration": 0,
    "start_time": "2022-04-20T10:18:45.477Z"
   },
   {
    "duration": 0,
    "start_time": "2022-04-20T10:18:45.478Z"
   },
   {
    "duration": 0,
    "start_time": "2022-04-20T10:18:45.480Z"
   },
   {
    "duration": 0,
    "start_time": "2022-04-20T10:18:45.482Z"
   },
   {
    "duration": 0,
    "start_time": "2022-04-20T10:18:45.500Z"
   },
   {
    "duration": 0,
    "start_time": "2022-04-20T10:18:45.501Z"
   },
   {
    "duration": 0,
    "start_time": "2022-04-20T10:18:45.502Z"
   },
   {
    "duration": 0,
    "start_time": "2022-04-20T10:18:45.503Z"
   },
   {
    "duration": 0,
    "start_time": "2022-04-20T10:18:45.504Z"
   },
   {
    "duration": 0,
    "start_time": "2022-04-20T10:18:45.505Z"
   },
   {
    "duration": 0,
    "start_time": "2022-04-20T10:18:45.506Z"
   },
   {
    "duration": 10,
    "start_time": "2022-04-20T10:19:06.497Z"
   },
   {
    "duration": 9,
    "start_time": "2022-04-20T10:19:13.665Z"
   },
   {
    "duration": 9,
    "start_time": "2022-04-20T10:19:53.800Z"
   },
   {
    "duration": 9,
    "start_time": "2022-04-20T10:22:08.578Z"
   },
   {
    "duration": 8,
    "start_time": "2022-04-20T10:22:15.813Z"
   },
   {
    "duration": 8,
    "start_time": "2022-04-20T10:23:16.001Z"
   },
   {
    "duration": 8,
    "start_time": "2022-04-20T10:23:55.933Z"
   },
   {
    "duration": 2416,
    "start_time": "2022-04-20T10:27:51.546Z"
   },
   {
    "duration": 2297,
    "start_time": "2022-04-20T10:28:14.043Z"
   },
   {
    "duration": 6,
    "start_time": "2022-04-20T10:29:51.992Z"
   },
   {
    "duration": 4,
    "start_time": "2022-04-20T10:30:07.207Z"
   },
   {
    "duration": 5,
    "start_time": "2022-04-20T10:30:44.984Z"
   },
   {
    "duration": 4,
    "start_time": "2022-04-20T10:30:58.971Z"
   },
   {
    "duration": 3,
    "start_time": "2022-04-20T10:33:34.908Z"
   },
   {
    "duration": 5,
    "start_time": "2022-04-20T10:33:40.397Z"
   },
   {
    "duration": 192,
    "start_time": "2022-04-20T10:34:27.217Z"
   },
   {
    "duration": 6,
    "start_time": "2022-04-20T10:34:42.945Z"
   },
   {
    "duration": 6,
    "start_time": "2022-04-20T10:34:53.457Z"
   },
   {
    "duration": 4,
    "start_time": "2022-04-20T10:35:27.973Z"
   },
   {
    "duration": 9,
    "start_time": "2022-04-20T10:35:35.737Z"
   },
   {
    "duration": 3,
    "start_time": "2022-04-20T10:36:12.518Z"
   },
   {
    "duration": 5,
    "start_time": "2022-04-20T10:39:11.192Z"
   },
   {
    "duration": 4,
    "start_time": "2022-04-20T10:39:21.052Z"
   },
   {
    "duration": 4,
    "start_time": "2022-04-20T10:39:30.568Z"
   },
   {
    "duration": 4,
    "start_time": "2022-04-20T10:39:58.448Z"
   },
   {
    "duration": 5,
    "start_time": "2022-04-20T10:42:23.769Z"
   },
   {
    "duration": 3,
    "start_time": "2022-04-20T10:42:43.162Z"
   },
   {
    "duration": 4,
    "start_time": "2022-04-20T10:43:02.218Z"
   },
   {
    "duration": 4,
    "start_time": "2022-04-20T10:43:50.881Z"
   },
   {
    "duration": 4,
    "start_time": "2022-04-20T10:52:24.092Z"
   },
   {
    "duration": 5,
    "start_time": "2022-04-20T10:53:45.044Z"
   },
   {
    "duration": 4,
    "start_time": "2022-04-20T10:54:04.597Z"
   },
   {
    "duration": 4,
    "start_time": "2022-04-20T10:54:17.370Z"
   },
   {
    "duration": 4,
    "start_time": "2022-04-20T10:54:41.045Z"
   },
   {
    "duration": 8,
    "start_time": "2022-04-20T10:55:11.337Z"
   },
   {
    "duration": 4,
    "start_time": "2022-04-20T10:55:26.081Z"
   },
   {
    "duration": 200,
    "start_time": "2022-04-20T10:57:55.244Z"
   },
   {
    "duration": 8,
    "start_time": "2022-04-20T10:58:29.787Z"
   },
   {
    "duration": 4,
    "start_time": "2022-04-20T10:58:53.626Z"
   },
   {
    "duration": 211,
    "start_time": "2022-04-20T10:59:43.899Z"
   },
   {
    "duration": 8,
    "start_time": "2022-04-20T10:59:53.758Z"
   },
   {
    "duration": 8,
    "start_time": "2022-04-20T11:00:09.146Z"
   },
   {
    "duration": 180,
    "start_time": "2022-04-20T11:00:26.983Z"
   },
   {
    "duration": 4,
    "start_time": "2022-04-20T11:04:17.996Z"
   },
   {
    "duration": 9,
    "start_time": "2022-04-20T11:05:08.856Z"
   },
   {
    "duration": 9,
    "start_time": "2022-04-20T11:05:28.768Z"
   },
   {
    "duration": 9,
    "start_time": "2022-04-20T11:07:20.129Z"
   },
   {
    "duration": 191,
    "start_time": "2022-04-20T11:08:06.890Z"
   },
   {
    "duration": 8,
    "start_time": "2022-04-20T11:08:17.653Z"
   },
   {
    "duration": 4,
    "start_time": "2022-04-20T11:08:30.690Z"
   },
   {
    "duration": 4,
    "start_time": "2022-04-20T11:09:50.167Z"
   },
   {
    "duration": 6,
    "start_time": "2022-04-20T11:10:22.257Z"
   },
   {
    "duration": 5,
    "start_time": "2022-04-20T11:13:40.396Z"
   },
   {
    "duration": 3,
    "start_time": "2022-04-20T11:15:25.316Z"
   },
   {
    "duration": 37,
    "start_time": "2022-04-20T11:15:25.323Z"
   },
   {
    "duration": 10,
    "start_time": "2022-04-20T11:15:25.362Z"
   },
   {
    "duration": 13,
    "start_time": "2022-04-20T11:15:25.373Z"
   },
   {
    "duration": 62,
    "start_time": "2022-04-20T11:15:25.387Z"
   },
   {
    "duration": 3,
    "start_time": "2022-04-20T11:15:25.450Z"
   },
   {
    "duration": 30,
    "start_time": "2022-04-20T11:15:25.455Z"
   },
   {
    "duration": 4,
    "start_time": "2022-04-20T11:15:25.487Z"
   },
   {
    "duration": 11,
    "start_time": "2022-04-20T11:15:25.492Z"
   },
   {
    "duration": 13,
    "start_time": "2022-04-20T11:15:25.505Z"
   },
   {
    "duration": 5,
    "start_time": "2022-04-20T11:15:25.521Z"
   },
   {
    "duration": 6,
    "start_time": "2022-04-20T11:15:25.528Z"
   },
   {
    "duration": 8,
    "start_time": "2022-04-20T11:15:25.535Z"
   },
   {
    "duration": 0,
    "start_time": "2022-04-20T11:15:25.544Z"
   },
   {
    "duration": 0,
    "start_time": "2022-04-20T11:15:25.545Z"
   },
   {
    "duration": 0,
    "start_time": "2022-04-20T11:15:25.547Z"
   },
   {
    "duration": 0,
    "start_time": "2022-04-20T11:15:25.548Z"
   },
   {
    "duration": 0,
    "start_time": "2022-04-20T11:15:25.549Z"
   },
   {
    "duration": 0,
    "start_time": "2022-04-20T11:15:25.550Z"
   },
   {
    "duration": 0,
    "start_time": "2022-04-20T11:15:25.550Z"
   },
   {
    "duration": 0,
    "start_time": "2022-04-20T11:15:25.551Z"
   },
   {
    "duration": 164,
    "start_time": "2022-04-20T11:15:25.554Z"
   },
   {
    "duration": 5,
    "start_time": "2022-04-20T11:15:25.720Z"
   },
   {
    "duration": 193,
    "start_time": "2022-04-20T11:15:25.727Z"
   },
   {
    "duration": 31,
    "start_time": "2022-04-20T11:15:25.923Z"
   },
   {
    "duration": 8,
    "start_time": "2022-04-20T11:15:25.955Z"
   },
   {
    "duration": 6,
    "start_time": "2022-04-20T11:15:25.965Z"
   },
   {
    "duration": 55,
    "start_time": "2022-04-20T11:15:25.973Z"
   },
   {
    "duration": 9,
    "start_time": "2022-04-20T11:15:26.029Z"
   },
   {
    "duration": 5,
    "start_time": "2022-04-20T11:18:56.261Z"
   },
   {
    "duration": 4,
    "start_time": "2022-04-20T11:19:11.450Z"
   },
   {
    "duration": 13,
    "start_time": "2022-04-20T11:19:58.109Z"
   },
   {
    "duration": 13,
    "start_time": "2022-04-20T11:30:02.956Z"
   },
   {
    "duration": 4,
    "start_time": "2022-04-20T11:30:19.234Z"
   },
   {
    "duration": 239,
    "start_time": "2022-04-20T11:32:44.512Z"
   },
   {
    "duration": 11,
    "start_time": "2022-04-20T11:32:51.562Z"
   },
   {
    "duration": 10,
    "start_time": "2022-04-20T11:33:01.908Z"
   },
   {
    "duration": 12,
    "start_time": "2022-04-20T11:33:47.002Z"
   },
   {
    "duration": 8,
    "start_time": "2022-04-20T11:36:05.730Z"
   },
   {
    "duration": 4,
    "start_time": "2022-04-20T11:37:08.663Z"
   },
   {
    "duration": 3,
    "start_time": "2022-04-20T11:37:11.599Z"
   },
   {
    "duration": 13,
    "start_time": "2022-04-20T11:37:22.646Z"
   },
   {
    "duration": 7,
    "start_time": "2022-04-20T11:37:59.523Z"
   },
   {
    "duration": 4,
    "start_time": "2022-04-20T11:38:17.767Z"
   },
   {
    "duration": 5,
    "start_time": "2022-04-20T11:38:32.245Z"
   },
   {
    "duration": 5,
    "start_time": "2022-04-20T11:38:49.756Z"
   },
   {
    "duration": 4,
    "start_time": "2022-04-20T11:39:12.685Z"
   },
   {
    "duration": 4,
    "start_time": "2022-04-20T11:39:27.927Z"
   },
   {
    "duration": 69,
    "start_time": "2022-04-20T16:36:51.322Z"
   },
   {
    "duration": 1716,
    "start_time": "2022-04-20T16:36:56.689Z"
   },
   {
    "duration": 75,
    "start_time": "2022-04-20T16:36:58.408Z"
   },
   {
    "duration": 75,
    "start_time": "2022-04-20T16:36:58.486Z"
   },
   {
    "duration": 38,
    "start_time": "2022-04-20T16:36:58.565Z"
   },
   {
    "duration": 91,
    "start_time": "2022-04-20T16:36:58.605Z"
   },
   {
    "duration": 6,
    "start_time": "2022-04-20T16:36:58.699Z"
   },
   {
    "duration": 66,
    "start_time": "2022-04-20T16:36:58.708Z"
   },
   {
    "duration": 7,
    "start_time": "2022-04-20T16:36:58.777Z"
   },
   {
    "duration": 89,
    "start_time": "2022-04-20T16:36:58.787Z"
   },
   {
    "duration": 0,
    "start_time": "2022-04-20T16:36:58.880Z"
   },
   {
    "duration": 0,
    "start_time": "2022-04-20T16:36:58.883Z"
   },
   {
    "duration": 0,
    "start_time": "2022-04-20T16:36:58.893Z"
   },
   {
    "duration": 0,
    "start_time": "2022-04-20T16:36:58.895Z"
   },
   {
    "duration": 1,
    "start_time": "2022-04-20T16:36:58.897Z"
   },
   {
    "duration": 0,
    "start_time": "2022-04-20T16:36:58.900Z"
   },
   {
    "duration": 0,
    "start_time": "2022-04-20T16:36:58.902Z"
   },
   {
    "duration": 0,
    "start_time": "2022-04-20T16:36:58.904Z"
   },
   {
    "duration": 0,
    "start_time": "2022-04-20T16:36:58.906Z"
   },
   {
    "duration": 0,
    "start_time": "2022-04-20T16:36:58.909Z"
   },
   {
    "duration": 0,
    "start_time": "2022-04-20T16:36:58.911Z"
   },
   {
    "duration": 0,
    "start_time": "2022-04-20T16:36:58.913Z"
   },
   {
    "duration": 0,
    "start_time": "2022-04-20T16:36:58.915Z"
   },
   {
    "duration": 0,
    "start_time": "2022-04-20T16:36:58.917Z"
   },
   {
    "duration": 0,
    "start_time": "2022-04-20T16:36:58.920Z"
   },
   {
    "duration": 0,
    "start_time": "2022-04-20T16:36:58.922Z"
   },
   {
    "duration": 0,
    "start_time": "2022-04-20T16:36:58.924Z"
   },
   {
    "duration": 0,
    "start_time": "2022-04-20T16:36:58.926Z"
   },
   {
    "duration": 0,
    "start_time": "2022-04-20T16:36:58.929Z"
   },
   {
    "duration": 8,
    "start_time": "2022-04-20T16:37:40.753Z"
   },
   {
    "duration": 5,
    "start_time": "2022-04-20T16:37:47.697Z"
   },
   {
    "duration": 49,
    "start_time": "2022-04-20T16:37:47.705Z"
   },
   {
    "duration": 18,
    "start_time": "2022-04-20T16:37:47.756Z"
   },
   {
    "duration": 35,
    "start_time": "2022-04-20T16:37:47.776Z"
   },
   {
    "duration": 58,
    "start_time": "2022-04-20T16:37:47.814Z"
   },
   {
    "duration": 5,
    "start_time": "2022-04-20T16:37:47.874Z"
   },
   {
    "duration": 46,
    "start_time": "2022-04-20T16:37:47.881Z"
   },
   {
    "duration": 7,
    "start_time": "2022-04-20T16:37:47.929Z"
   },
   {
    "duration": 11,
    "start_time": "2022-04-20T16:37:47.938Z"
   },
   {
    "duration": 11,
    "start_time": "2022-04-20T16:37:47.951Z"
   },
   {
    "duration": 34,
    "start_time": "2022-04-20T16:37:47.966Z"
   },
   {
    "duration": 13,
    "start_time": "2022-04-20T16:37:48.002Z"
   },
   {
    "duration": 0,
    "start_time": "2022-04-20T16:37:48.017Z"
   },
   {
    "duration": 0,
    "start_time": "2022-04-20T16:37:48.019Z"
   },
   {
    "duration": 0,
    "start_time": "2022-04-20T16:37:48.021Z"
   },
   {
    "duration": 0,
    "start_time": "2022-04-20T16:37:48.022Z"
   },
   {
    "duration": 0,
    "start_time": "2022-04-20T16:37:48.024Z"
   },
   {
    "duration": 0,
    "start_time": "2022-04-20T16:37:48.026Z"
   },
   {
    "duration": 0,
    "start_time": "2022-04-20T16:37:48.028Z"
   },
   {
    "duration": 0,
    "start_time": "2022-04-20T16:37:48.029Z"
   },
   {
    "duration": 0,
    "start_time": "2022-04-20T16:37:48.031Z"
   },
   {
    "duration": 0,
    "start_time": "2022-04-20T16:37:48.032Z"
   },
   {
    "duration": 0,
    "start_time": "2022-04-20T16:37:48.034Z"
   },
   {
    "duration": 0,
    "start_time": "2022-04-20T16:37:48.035Z"
   },
   {
    "duration": 0,
    "start_time": "2022-04-20T16:37:48.036Z"
   },
   {
    "duration": 0,
    "start_time": "2022-04-20T16:37:48.037Z"
   },
   {
    "duration": 0,
    "start_time": "2022-04-20T16:37:48.039Z"
   },
   {
    "duration": 0,
    "start_time": "2022-04-20T16:37:48.093Z"
   },
   {
    "duration": 8,
    "start_time": "2022-04-20T16:38:18.905Z"
   },
   {
    "duration": 13,
    "start_time": "2022-04-20T16:38:42.707Z"
   },
   {
    "duration": 6,
    "start_time": "2022-04-20T16:38:47.894Z"
   },
   {
    "duration": 11,
    "start_time": "2022-04-20T16:38:54.099Z"
   },
   {
    "duration": 7,
    "start_time": "2022-04-20T16:38:58.367Z"
   },
   {
    "duration": 7,
    "start_time": "2022-04-20T16:39:22.313Z"
   },
   {
    "duration": 4,
    "start_time": "2022-04-20T16:39:38.070Z"
   },
   {
    "duration": 37,
    "start_time": "2022-04-20T16:39:38.077Z"
   },
   {
    "duration": 19,
    "start_time": "2022-04-20T16:39:38.117Z"
   },
   {
    "duration": 21,
    "start_time": "2022-04-20T16:39:38.138Z"
   },
   {
    "duration": 56,
    "start_time": "2022-04-20T16:39:38.195Z"
   },
   {
    "duration": 4,
    "start_time": "2022-04-20T16:39:38.253Z"
   },
   {
    "duration": 42,
    "start_time": "2022-04-20T16:39:38.259Z"
   },
   {
    "duration": 7,
    "start_time": "2022-04-20T16:39:38.303Z"
   },
   {
    "duration": 13,
    "start_time": "2022-04-20T16:39:38.312Z"
   },
   {
    "duration": 11,
    "start_time": "2022-04-20T16:39:38.327Z"
   },
   {
    "duration": 8,
    "start_time": "2022-04-20T16:39:38.342Z"
   },
   {
    "duration": 880,
    "start_time": "2022-04-20T16:39:38.353Z"
   },
   {
    "duration": 278,
    "start_time": "2022-04-20T16:39:39.236Z"
   },
   {
    "duration": 379,
    "start_time": "2022-04-20T16:39:39.517Z"
   },
   {
    "duration": 270,
    "start_time": "2022-04-20T16:39:39.898Z"
   },
   {
    "duration": 385,
    "start_time": "2022-04-20T16:39:40.170Z"
   },
   {
    "duration": 183,
    "start_time": "2022-04-20T16:39:40.558Z"
   },
   {
    "duration": 7,
    "start_time": "2022-04-20T16:39:40.743Z"
   },
   {
    "duration": 221,
    "start_time": "2022-04-20T16:39:40.753Z"
   },
   {
    "duration": 7,
    "start_time": "2022-04-20T16:39:40.976Z"
   },
   {
    "duration": 445,
    "start_time": "2022-04-20T16:39:40.985Z"
   },
   {
    "duration": 61,
    "start_time": "2022-04-20T16:39:41.432Z"
   },
   {
    "duration": 13,
    "start_time": "2022-04-20T16:39:41.495Z"
   },
   {
    "duration": 11,
    "start_time": "2022-04-20T16:39:41.510Z"
   },
   {
    "duration": 36,
    "start_time": "2022-04-20T16:39:41.523Z"
   },
   {
    "duration": 43,
    "start_time": "2022-04-20T16:39:41.561Z"
   },
   {
    "duration": 16,
    "start_time": "2022-04-20T16:41:43.003Z"
   },
   {
    "duration": 15,
    "start_time": "2022-04-20T16:42:33.149Z"
   },
   {
    "duration": 5,
    "start_time": "2022-04-20T16:43:07.452Z"
   },
   {
    "duration": 5,
    "start_time": "2022-04-20T16:43:21.472Z"
   },
   {
    "duration": 12,
    "start_time": "2022-04-20T16:45:32.638Z"
   },
   {
    "duration": 10,
    "start_time": "2022-04-20T16:45:44.465Z"
   },
   {
    "duration": 4,
    "start_time": "2022-04-20T16:45:52.941Z"
   },
   {
    "duration": 47,
    "start_time": "2022-04-20T16:45:52.949Z"
   },
   {
    "duration": 16,
    "start_time": "2022-04-20T16:45:52.999Z"
   },
   {
    "duration": 20,
    "start_time": "2022-04-20T16:45:53.017Z"
   },
   {
    "duration": 69,
    "start_time": "2022-04-20T16:45:53.040Z"
   },
   {
    "duration": 4,
    "start_time": "2022-04-20T16:45:53.111Z"
   },
   {
    "duration": 37,
    "start_time": "2022-04-20T16:45:53.117Z"
   },
   {
    "duration": 6,
    "start_time": "2022-04-20T16:45:53.156Z"
   },
   {
    "duration": 31,
    "start_time": "2022-04-20T16:45:53.164Z"
   },
   {
    "duration": 7,
    "start_time": "2022-04-20T16:45:53.198Z"
   },
   {
    "duration": 8,
    "start_time": "2022-04-20T16:45:53.209Z"
   },
   {
    "duration": 11,
    "start_time": "2022-04-20T16:45:53.219Z"
   },
   {
    "duration": 0,
    "start_time": "2022-04-20T16:45:53.232Z"
   },
   {
    "duration": 0,
    "start_time": "2022-04-20T16:45:53.233Z"
   },
   {
    "duration": 0,
    "start_time": "2022-04-20T16:45:53.235Z"
   },
   {
    "duration": 0,
    "start_time": "2022-04-20T16:45:53.236Z"
   },
   {
    "duration": 0,
    "start_time": "2022-04-20T16:45:53.238Z"
   },
   {
    "duration": 0,
    "start_time": "2022-04-20T16:45:53.239Z"
   },
   {
    "duration": 0,
    "start_time": "2022-04-20T16:45:53.241Z"
   },
   {
    "duration": 0,
    "start_time": "2022-04-20T16:45:53.242Z"
   },
   {
    "duration": 0,
    "start_time": "2022-04-20T16:45:53.244Z"
   },
   {
    "duration": 0,
    "start_time": "2022-04-20T16:45:53.293Z"
   },
   {
    "duration": 0,
    "start_time": "2022-04-20T16:45:53.295Z"
   },
   {
    "duration": 0,
    "start_time": "2022-04-20T16:45:53.296Z"
   },
   {
    "duration": 0,
    "start_time": "2022-04-20T16:45:53.298Z"
   },
   {
    "duration": 0,
    "start_time": "2022-04-20T16:45:53.299Z"
   },
   {
    "duration": 0,
    "start_time": "2022-04-20T16:45:53.301Z"
   },
   {
    "duration": 11,
    "start_time": "2022-04-20T16:47:35.033Z"
   },
   {
    "duration": 11,
    "start_time": "2022-04-20T16:47:50.925Z"
   },
   {
    "duration": 16,
    "start_time": "2022-04-20T16:48:14.837Z"
   },
   {
    "duration": 6,
    "start_time": "2022-04-20T16:48:32.341Z"
   },
   {
    "duration": 10,
    "start_time": "2022-04-20T16:48:37.797Z"
   },
   {
    "duration": 15,
    "start_time": "2022-04-20T16:49:05.842Z"
   },
   {
    "duration": 15,
    "start_time": "2022-04-20T16:51:09.138Z"
   },
   {
    "duration": 16,
    "start_time": "2022-04-20T16:51:23.023Z"
   },
   {
    "duration": 16,
    "start_time": "2022-04-20T16:51:45.418Z"
   },
   {
    "duration": 5,
    "start_time": "2022-04-20T16:51:52.558Z"
   },
   {
    "duration": 50,
    "start_time": "2022-04-20T16:51:52.568Z"
   },
   {
    "duration": 18,
    "start_time": "2022-04-20T16:51:52.620Z"
   },
   {
    "duration": 44,
    "start_time": "2022-04-20T16:51:52.640Z"
   },
   {
    "duration": 71,
    "start_time": "2022-04-20T16:51:52.687Z"
   },
   {
    "duration": 4,
    "start_time": "2022-04-20T16:51:52.761Z"
   },
   {
    "duration": 48,
    "start_time": "2022-04-20T16:51:52.767Z"
   },
   {
    "duration": 7,
    "start_time": "2022-04-20T16:51:52.816Z"
   },
   {
    "duration": 26,
    "start_time": "2022-04-20T16:51:52.825Z"
   },
   {
    "duration": 15,
    "start_time": "2022-04-20T16:51:52.854Z"
   },
   {
    "duration": 13,
    "start_time": "2022-04-20T16:51:52.873Z"
   },
   {
    "duration": 17,
    "start_time": "2022-04-20T16:51:52.888Z"
   },
   {
    "duration": 737,
    "start_time": "2022-04-20T16:51:52.908Z"
   },
   {
    "duration": 269,
    "start_time": "2022-04-20T16:51:53.648Z"
   },
   {
    "duration": 349,
    "start_time": "2022-04-20T16:51:53.920Z"
   },
   {
    "duration": 282,
    "start_time": "2022-04-20T16:51:54.271Z"
   },
   {
    "duration": 391,
    "start_time": "2022-04-20T16:51:54.555Z"
   },
   {
    "duration": 170,
    "start_time": "2022-04-20T16:51:54.948Z"
   },
   {
    "duration": 6,
    "start_time": "2022-04-20T16:51:55.121Z"
   },
   {
    "duration": 201,
    "start_time": "2022-04-20T16:51:55.129Z"
   },
   {
    "duration": 6,
    "start_time": "2022-04-20T16:51:55.333Z"
   },
   {
    "duration": 358,
    "start_time": "2022-04-20T16:51:55.341Z"
   },
   {
    "duration": 45,
    "start_time": "2022-04-20T16:51:55.701Z"
   },
   {
    "duration": 11,
    "start_time": "2022-04-20T16:51:55.749Z"
   },
   {
    "duration": 38,
    "start_time": "2022-04-20T16:51:55.762Z"
   },
   {
    "duration": 37,
    "start_time": "2022-04-20T16:51:55.803Z"
   },
   {
    "duration": 14,
    "start_time": "2022-04-20T16:51:55.842Z"
   },
   {
    "duration": 10,
    "start_time": "2022-04-20T16:55:27.717Z"
   },
   {
    "duration": 10,
    "start_time": "2022-04-20T16:56:12.450Z"
   },
   {
    "duration": 10,
    "start_time": "2022-04-20T16:56:33.355Z"
   },
   {
    "duration": 12,
    "start_time": "2022-04-20T16:57:36.103Z"
   },
   {
    "duration": 11,
    "start_time": "2022-04-20T16:58:40.573Z"
   },
   {
    "duration": 11,
    "start_time": "2022-04-20T16:59:09.122Z"
   },
   {
    "duration": 19,
    "start_time": "2022-04-20T16:59:34.874Z"
   },
   {
    "duration": 20,
    "start_time": "2022-04-20T16:59:57.358Z"
   },
   {
    "duration": 20,
    "start_time": "2022-04-20T17:01:00.100Z"
   },
   {
    "duration": 20,
    "start_time": "2022-04-20T17:01:31.139Z"
   },
   {
    "duration": 19,
    "start_time": "2022-04-20T17:01:47.303Z"
   },
   {
    "duration": 19,
    "start_time": "2022-04-20T17:02:00.622Z"
   },
   {
    "duration": 5,
    "start_time": "2022-04-20T17:02:06.391Z"
   },
   {
    "duration": 40,
    "start_time": "2022-04-20T17:02:06.399Z"
   },
   {
    "duration": 18,
    "start_time": "2022-04-20T17:02:06.443Z"
   },
   {
    "duration": 47,
    "start_time": "2022-04-20T17:02:06.464Z"
   },
   {
    "duration": 58,
    "start_time": "2022-04-20T17:02:06.514Z"
   },
   {
    "duration": 19,
    "start_time": "2022-04-20T17:02:06.574Z"
   },
   {
    "duration": 37,
    "start_time": "2022-04-20T17:02:06.596Z"
   },
   {
    "duration": 7,
    "start_time": "2022-04-20T17:02:06.636Z"
   },
   {
    "duration": 9,
    "start_time": "2022-04-20T17:02:06.646Z"
   },
   {
    "duration": 36,
    "start_time": "2022-04-20T17:02:06.657Z"
   },
   {
    "duration": 8,
    "start_time": "2022-04-20T17:02:06.698Z"
   },
   {
    "duration": 19,
    "start_time": "2022-04-20T17:02:06.708Z"
   },
   {
    "duration": 14,
    "start_time": "2022-04-20T17:02:06.729Z"
   },
   {
    "duration": 0,
    "start_time": "2022-04-20T17:02:06.745Z"
   },
   {
    "duration": 0,
    "start_time": "2022-04-20T17:02:06.747Z"
   },
   {
    "duration": 0,
    "start_time": "2022-04-20T17:02:06.749Z"
   },
   {
    "duration": 0,
    "start_time": "2022-04-20T17:02:06.750Z"
   },
   {
    "duration": 0,
    "start_time": "2022-04-20T17:02:06.752Z"
   },
   {
    "duration": 0,
    "start_time": "2022-04-20T17:02:06.793Z"
   },
   {
    "duration": 0,
    "start_time": "2022-04-20T17:02:06.795Z"
   },
   {
    "duration": 0,
    "start_time": "2022-04-20T17:02:06.797Z"
   },
   {
    "duration": 0,
    "start_time": "2022-04-20T17:02:06.799Z"
   },
   {
    "duration": 0,
    "start_time": "2022-04-20T17:02:06.800Z"
   },
   {
    "duration": 0,
    "start_time": "2022-04-20T17:02:06.801Z"
   },
   {
    "duration": 0,
    "start_time": "2022-04-20T17:02:06.803Z"
   },
   {
    "duration": 0,
    "start_time": "2022-04-20T17:02:06.804Z"
   },
   {
    "duration": 0,
    "start_time": "2022-04-20T17:02:06.806Z"
   },
   {
    "duration": 0,
    "start_time": "2022-04-20T17:02:06.807Z"
   },
   {
    "duration": 31,
    "start_time": "2022-04-20T17:02:27.855Z"
   },
   {
    "duration": 6,
    "start_time": "2022-04-20T17:03:38.811Z"
   },
   {
    "duration": 73,
    "start_time": "2022-04-20T17:07:17.518Z"
   },
   {
    "duration": 1553,
    "start_time": "2022-04-20T17:07:22.054Z"
   },
   {
    "duration": 43,
    "start_time": "2022-04-20T17:07:23.609Z"
   },
   {
    "duration": 91,
    "start_time": "2022-04-20T17:07:23.654Z"
   },
   {
    "duration": 20,
    "start_time": "2022-04-20T17:07:23.749Z"
   },
   {
    "duration": 59,
    "start_time": "2022-04-20T17:07:23.792Z"
   },
   {
    "duration": 6,
    "start_time": "2022-04-20T17:07:23.853Z"
   },
   {
    "duration": 39,
    "start_time": "2022-04-20T17:07:23.862Z"
   },
   {
    "duration": 7,
    "start_time": "2022-04-20T17:07:23.904Z"
   },
   {
    "duration": 11,
    "start_time": "2022-04-20T17:07:23.914Z"
   },
   {
    "duration": 7,
    "start_time": "2022-04-20T17:07:23.930Z"
   },
   {
    "duration": 10,
    "start_time": "2022-04-20T17:07:23.940Z"
   },
   {
    "duration": 57,
    "start_time": "2022-04-20T17:07:23.953Z"
   },
   {
    "duration": 885,
    "start_time": "2022-04-20T17:07:24.013Z"
   },
   {
    "duration": 283,
    "start_time": "2022-04-20T17:07:24.901Z"
   },
   {
    "duration": 369,
    "start_time": "2022-04-20T17:07:25.186Z"
   },
   {
    "duration": 398,
    "start_time": "2022-04-20T17:07:25.557Z"
   },
   {
    "duration": 393,
    "start_time": "2022-04-20T17:07:25.957Z"
   },
   {
    "duration": 189,
    "start_time": "2022-04-20T17:07:26.352Z"
   },
   {
    "duration": 7,
    "start_time": "2022-04-20T17:07:26.543Z"
   },
   {
    "duration": 221,
    "start_time": "2022-04-20T17:07:26.551Z"
   },
   {
    "duration": 21,
    "start_time": "2022-04-20T17:07:26.774Z"
   },
   {
    "duration": 349,
    "start_time": "2022-04-20T17:07:26.798Z"
   },
   {
    "duration": 60,
    "start_time": "2022-04-20T17:07:27.149Z"
   },
   {
    "duration": 13,
    "start_time": "2022-04-20T17:07:27.211Z"
   },
   {
    "duration": 11,
    "start_time": "2022-04-20T17:07:27.226Z"
   },
   {
    "duration": 67,
    "start_time": "2022-04-20T17:07:27.239Z"
   },
   {
    "duration": 17,
    "start_time": "2022-04-20T17:07:27.308Z"
   },
   {
    "duration": 20,
    "start_time": "2022-04-20T17:07:52.546Z"
   },
   {
    "duration": 18,
    "start_time": "2022-04-20T17:08:41.819Z"
   },
   {
    "duration": 21,
    "start_time": "2022-04-20T17:12:38.345Z"
   },
   {
    "duration": 21,
    "start_time": "2022-04-20T17:13:38.216Z"
   },
   {
    "duration": 103,
    "start_time": "2022-04-20T17:14:25.333Z"
   },
   {
    "duration": 20,
    "start_time": "2022-04-20T17:14:39.337Z"
   },
   {
    "duration": 19,
    "start_time": "2022-04-20T17:14:45.441Z"
   },
   {
    "duration": 17,
    "start_time": "2022-04-20T17:14:57.745Z"
   },
   {
    "duration": 18,
    "start_time": "2022-04-20T17:15:10.609Z"
   },
   {
    "duration": 18,
    "start_time": "2022-04-20T17:15:34.760Z"
   },
   {
    "duration": 20,
    "start_time": "2022-04-20T17:15:52.617Z"
   },
   {
    "duration": 18,
    "start_time": "2022-04-20T17:16:19.937Z"
   },
   {
    "duration": 18,
    "start_time": "2022-04-20T17:16:32.669Z"
   },
   {
    "duration": 18,
    "start_time": "2022-04-20T17:16:47.384Z"
   },
   {
    "duration": 19,
    "start_time": "2022-04-20T17:17:05.429Z"
   },
   {
    "duration": 21,
    "start_time": "2022-04-20T17:17:51.984Z"
   },
   {
    "duration": 11,
    "start_time": "2022-04-20T17:18:24.234Z"
   },
   {
    "duration": 6,
    "start_time": "2022-04-20T17:18:32.946Z"
   },
   {
    "duration": 18,
    "start_time": "2022-04-20T17:18:53.818Z"
   },
   {
    "duration": 22,
    "start_time": "2022-04-20T17:19:12.723Z"
   },
   {
    "duration": 20,
    "start_time": "2022-04-20T17:19:40.310Z"
   },
   {
    "duration": 21,
    "start_time": "2022-04-20T17:19:48.383Z"
   },
   {
    "duration": 18,
    "start_time": "2022-04-20T17:19:58.446Z"
   },
   {
    "duration": 3671,
    "start_time": "2022-04-20T17:20:34.683Z"
   },
   {
    "duration": 6,
    "start_time": "2022-04-20T17:20:42.879Z"
   },
   {
    "duration": 23,
    "start_time": "2022-04-20T17:21:06.505Z"
   },
   {
    "duration": 6,
    "start_time": "2022-04-20T17:33:54.607Z"
   },
   {
    "duration": 4,
    "start_time": "2022-04-20T17:34:37.160Z"
   },
   {
    "duration": 39,
    "start_time": "2022-04-20T17:34:37.167Z"
   },
   {
    "duration": 18,
    "start_time": "2022-04-20T17:34:37.209Z"
   },
   {
    "duration": 23,
    "start_time": "2022-04-20T17:34:37.231Z"
   },
   {
    "duration": 57,
    "start_time": "2022-04-20T17:34:37.294Z"
   },
   {
    "duration": 4,
    "start_time": "2022-04-20T17:34:37.353Z"
   },
   {
    "duration": 39,
    "start_time": "2022-04-20T17:34:37.359Z"
   },
   {
    "duration": 7,
    "start_time": "2022-04-20T17:34:37.400Z"
   },
   {
    "duration": 14,
    "start_time": "2022-04-20T17:34:37.409Z"
   },
   {
    "duration": 6,
    "start_time": "2022-04-20T17:34:37.425Z"
   },
   {
    "duration": 7,
    "start_time": "2022-04-20T17:34:37.435Z"
   },
   {
    "duration": 49,
    "start_time": "2022-04-20T17:34:37.444Z"
   },
   {
    "duration": 5,
    "start_time": "2022-04-20T17:34:37.495Z"
   },
   {
    "duration": 784,
    "start_time": "2022-04-20T17:34:37.503Z"
   },
   {
    "duration": 417,
    "start_time": "2022-04-20T17:34:38.295Z"
   },
   {
    "duration": 343,
    "start_time": "2022-04-20T17:34:38.715Z"
   },
   {
    "duration": 269,
    "start_time": "2022-04-20T17:34:39.060Z"
   },
   {
    "duration": 413,
    "start_time": "2022-04-20T17:34:39.331Z"
   },
   {
    "duration": 177,
    "start_time": "2022-04-20T17:34:39.746Z"
   },
   {
    "duration": 7,
    "start_time": "2022-04-20T17:34:39.925Z"
   },
   {
    "duration": 204,
    "start_time": "2022-04-20T17:34:39.934Z"
   },
   {
    "duration": 7,
    "start_time": "2022-04-20T17:34:40.140Z"
   },
   {
    "duration": 370,
    "start_time": "2022-04-20T17:34:40.149Z"
   },
   {
    "duration": 47,
    "start_time": "2022-04-20T17:34:40.521Z"
   },
   {
    "duration": 30,
    "start_time": "2022-04-20T17:34:40.570Z"
   },
   {
    "duration": 10,
    "start_time": "2022-04-20T17:34:40.602Z"
   },
   {
    "duration": 37,
    "start_time": "2022-04-20T17:34:40.615Z"
   },
   {
    "duration": 46,
    "start_time": "2022-04-20T17:34:40.655Z"
   },
   {
    "duration": 19,
    "start_time": "2022-04-20T17:35:58.445Z"
   },
   {
    "duration": 20,
    "start_time": "2022-04-20T17:36:55.241Z"
   },
   {
    "duration": 19,
    "start_time": "2022-04-20T17:37:34.857Z"
   },
   {
    "duration": 6,
    "start_time": "2022-04-20T17:46:20.477Z"
   },
   {
    "duration": 4,
    "start_time": "2022-04-20T17:50:50.938Z"
   },
   {
    "duration": 42,
    "start_time": "2022-04-20T17:50:50.945Z"
   },
   {
    "duration": 19,
    "start_time": "2022-04-20T17:50:50.990Z"
   },
   {
    "duration": 19,
    "start_time": "2022-04-20T17:50:51.011Z"
   },
   {
    "duration": 60,
    "start_time": "2022-04-20T17:50:51.033Z"
   },
   {
    "duration": 4,
    "start_time": "2022-04-20T17:50:51.095Z"
   },
   {
    "duration": 35,
    "start_time": "2022-04-20T17:50:51.100Z"
   },
   {
    "duration": 6,
    "start_time": "2022-04-20T17:50:51.137Z"
   },
   {
    "duration": 8,
    "start_time": "2022-04-20T17:50:51.145Z"
   },
   {
    "duration": 6,
    "start_time": "2022-04-20T17:50:51.155Z"
   },
   {
    "duration": 9,
    "start_time": "2022-04-20T17:50:51.193Z"
   },
   {
    "duration": 20,
    "start_time": "2022-04-20T17:50:51.204Z"
   },
   {
    "duration": 721,
    "start_time": "2022-04-20T17:50:51.226Z"
   },
   {
    "duration": 281,
    "start_time": "2022-04-20T17:50:51.950Z"
   },
   {
    "duration": 417,
    "start_time": "2022-04-20T17:50:52.234Z"
   },
   {
    "duration": 392,
    "start_time": "2022-04-20T17:50:52.653Z"
   },
   {
    "duration": 410,
    "start_time": "2022-04-20T17:50:53.047Z"
   },
   {
    "duration": 215,
    "start_time": "2022-04-20T17:50:53.459Z"
   },
   {
    "duration": 7,
    "start_time": "2022-04-20T17:50:53.676Z"
   },
   {
    "duration": 215,
    "start_time": "2022-04-20T17:50:53.685Z"
   },
   {
    "duration": 7,
    "start_time": "2022-04-20T17:50:53.902Z"
   },
   {
    "duration": 363,
    "start_time": "2022-04-20T17:50:53.912Z"
   },
   {
    "duration": 52,
    "start_time": "2022-04-20T17:50:54.277Z"
   },
   {
    "duration": 12,
    "start_time": "2022-04-20T17:50:54.331Z"
   },
   {
    "duration": 11,
    "start_time": "2022-04-20T17:50:54.345Z"
   },
   {
    "duration": 72,
    "start_time": "2022-04-20T17:50:54.358Z"
   },
   {
    "duration": 15,
    "start_time": "2022-04-20T17:50:54.432Z"
   },
   {
    "duration": 21,
    "start_time": "2022-04-20T17:52:50.710Z"
   },
   {
    "duration": 11,
    "start_time": "2022-04-20T17:54:05.283Z"
   },
   {
    "duration": 12,
    "start_time": "2022-04-20T18:00:28.031Z"
   },
   {
    "duration": 8,
    "start_time": "2022-04-20T18:00:42.057Z"
   },
   {
    "duration": 13,
    "start_time": "2022-04-20T18:00:42.068Z"
   },
   {
    "duration": 24,
    "start_time": "2022-04-20T18:00:42.083Z"
   },
   {
    "duration": 21,
    "start_time": "2022-04-20T18:00:42.110Z"
   },
   {
    "duration": 742,
    "start_time": "2022-04-20T18:00:42.133Z"
   },
   {
    "duration": 306,
    "start_time": "2022-04-20T18:00:42.878Z"
   },
   {
    "duration": 363,
    "start_time": "2022-04-20T18:00:43.186Z"
   },
   {
    "duration": 275,
    "start_time": "2022-04-20T18:00:43.552Z"
   },
   {
    "duration": 411,
    "start_time": "2022-04-20T18:00:43.832Z"
   },
   {
    "duration": 277,
    "start_time": "2022-04-20T18:00:44.245Z"
   },
   {
    "duration": 6,
    "start_time": "2022-04-20T18:00:44.525Z"
   },
   {
    "duration": 303,
    "start_time": "2022-04-20T18:00:44.533Z"
   },
   {
    "duration": 6,
    "start_time": "2022-04-20T18:00:44.838Z"
   },
   {
    "duration": 481,
    "start_time": "2022-04-20T18:00:44.847Z"
   },
   {
    "duration": 45,
    "start_time": "2022-04-20T18:00:45.330Z"
   },
   {
    "duration": 18,
    "start_time": "2022-04-20T18:00:45.393Z"
   },
   {
    "duration": 13,
    "start_time": "2022-04-20T18:00:45.413Z"
   },
   {
    "duration": 35,
    "start_time": "2022-04-20T18:00:45.428Z"
   },
   {
    "duration": 36,
    "start_time": "2022-04-20T18:00:45.465Z"
   },
   {
    "duration": 9,
    "start_time": "2022-04-20T18:02:41.882Z"
   },
   {
    "duration": 21,
    "start_time": "2022-04-20T18:02:52.382Z"
   },
   {
    "duration": 24,
    "start_time": "2022-04-20T18:03:43.227Z"
   },
   {
    "duration": 3377,
    "start_time": "2022-04-20T18:06:17.396Z"
   },
   {
    "duration": 8,
    "start_time": "2022-04-20T18:06:35.632Z"
   },
   {
    "duration": 24,
    "start_time": "2022-04-20T18:06:35.643Z"
   },
   {
    "duration": 708,
    "start_time": "2022-04-20T18:06:35.669Z"
   },
   {
    "duration": 264,
    "start_time": "2022-04-20T18:06:36.379Z"
   },
   {
    "duration": 376,
    "start_time": "2022-04-20T18:06:36.646Z"
   },
   {
    "duration": 270,
    "start_time": "2022-04-20T18:06:37.024Z"
   },
   {
    "duration": 349,
    "start_time": "2022-04-20T18:06:37.297Z"
   },
   {
    "duration": 168,
    "start_time": "2022-04-20T18:06:37.648Z"
   },
   {
    "duration": 7,
    "start_time": "2022-04-20T18:06:37.818Z"
   },
   {
    "duration": 200,
    "start_time": "2022-04-20T18:06:37.827Z"
   },
   {
    "duration": 6,
    "start_time": "2022-04-20T18:06:38.031Z"
   },
   {
    "duration": 355,
    "start_time": "2022-04-20T18:06:38.039Z"
   },
   {
    "duration": 40,
    "start_time": "2022-04-20T18:06:38.396Z"
   },
   {
    "duration": 10,
    "start_time": "2022-04-20T18:06:38.438Z"
   },
   {
    "duration": 42,
    "start_time": "2022-04-20T18:06:38.451Z"
   },
   {
    "duration": 38,
    "start_time": "2022-04-20T18:06:38.495Z"
   },
   {
    "duration": 13,
    "start_time": "2022-04-20T18:06:38.535Z"
   },
   {
    "duration": 23,
    "start_time": "2022-04-20T18:07:09.281Z"
   },
   {
    "duration": 25,
    "start_time": "2022-04-20T18:09:50.595Z"
   },
   {
    "duration": 4,
    "start_time": "2022-04-20T18:10:17.677Z"
   },
   {
    "duration": 40,
    "start_time": "2022-04-20T18:10:17.685Z"
   },
   {
    "duration": 20,
    "start_time": "2022-04-20T18:10:17.729Z"
   },
   {
    "duration": 52,
    "start_time": "2022-04-20T18:10:17.752Z"
   },
   {
    "duration": 61,
    "start_time": "2022-04-20T18:10:17.808Z"
   },
   {
    "duration": 6,
    "start_time": "2022-04-20T18:10:17.872Z"
   },
   {
    "duration": 53,
    "start_time": "2022-04-20T18:10:17.880Z"
   },
   {
    "duration": 6,
    "start_time": "2022-04-20T18:10:17.935Z"
   },
   {
    "duration": 27,
    "start_time": "2022-04-20T18:10:17.944Z"
   },
   {
    "duration": 15,
    "start_time": "2022-04-20T18:10:17.973Z"
   },
   {
    "duration": 7,
    "start_time": "2022-04-20T18:10:17.992Z"
   },
   {
    "duration": 18,
    "start_time": "2022-04-20T18:10:18.001Z"
   },
   {
    "duration": 19,
    "start_time": "2022-04-20T18:10:18.021Z"
   },
   {
    "duration": 50,
    "start_time": "2022-04-20T18:10:18.043Z"
   },
   {
    "duration": 470,
    "start_time": "2022-04-20T18:10:18.096Z"
   },
   {
    "duration": 0,
    "start_time": "2022-04-20T18:10:18.568Z"
   },
   {
    "duration": 0,
    "start_time": "2022-04-20T18:10:18.570Z"
   },
   {
    "duration": 0,
    "start_time": "2022-04-20T18:10:18.571Z"
   },
   {
    "duration": 0,
    "start_time": "2022-04-20T18:10:18.573Z"
   },
   {
    "duration": 0,
    "start_time": "2022-04-20T18:10:18.593Z"
   },
   {
    "duration": 0,
    "start_time": "2022-04-20T18:10:18.594Z"
   },
   {
    "duration": 0,
    "start_time": "2022-04-20T18:10:18.595Z"
   },
   {
    "duration": 0,
    "start_time": "2022-04-20T18:10:18.597Z"
   },
   {
    "duration": 0,
    "start_time": "2022-04-20T18:10:18.598Z"
   },
   {
    "duration": 0,
    "start_time": "2022-04-20T18:10:18.599Z"
   },
   {
    "duration": 0,
    "start_time": "2022-04-20T18:10:18.601Z"
   },
   {
    "duration": 0,
    "start_time": "2022-04-20T18:10:18.602Z"
   },
   {
    "duration": 0,
    "start_time": "2022-04-20T18:10:18.603Z"
   },
   {
    "duration": 0,
    "start_time": "2022-04-20T18:10:18.605Z"
   },
   {
    "duration": 19,
    "start_time": "2022-04-20T18:12:39.285Z"
   },
   {
    "duration": 18,
    "start_time": "2022-04-20T18:13:06.530Z"
   },
   {
    "duration": 4,
    "start_time": "2022-04-20T18:13:28.499Z"
   },
   {
    "duration": 52,
    "start_time": "2022-04-20T18:13:28.506Z"
   },
   {
    "duration": 19,
    "start_time": "2022-04-20T18:13:28.560Z"
   },
   {
    "duration": 22,
    "start_time": "2022-04-20T18:13:28.593Z"
   },
   {
    "duration": 60,
    "start_time": "2022-04-20T18:13:28.617Z"
   },
   {
    "duration": 15,
    "start_time": "2022-04-20T18:13:28.679Z"
   },
   {
    "duration": 33,
    "start_time": "2022-04-20T18:13:28.696Z"
   },
   {
    "duration": 6,
    "start_time": "2022-04-20T18:13:28.731Z"
   },
   {
    "duration": 8,
    "start_time": "2022-04-20T18:13:28.741Z"
   },
   {
    "duration": 13,
    "start_time": "2022-04-20T18:13:28.751Z"
   },
   {
    "duration": 7,
    "start_time": "2022-04-20T18:13:28.794Z"
   },
   {
    "duration": 22,
    "start_time": "2022-04-20T18:13:28.803Z"
   },
   {
    "duration": 20,
    "start_time": "2022-04-20T18:13:28.827Z"
   },
   {
    "duration": 55,
    "start_time": "2022-04-20T18:13:28.850Z"
   },
   {
    "duration": 476,
    "start_time": "2022-04-20T18:13:28.907Z"
   },
   {
    "duration": 0,
    "start_time": "2022-04-20T18:13:29.385Z"
   },
   {
    "duration": 0,
    "start_time": "2022-04-20T18:13:29.393Z"
   },
   {
    "duration": 0,
    "start_time": "2022-04-20T18:13:29.394Z"
   },
   {
    "duration": 0,
    "start_time": "2022-04-20T18:13:29.395Z"
   },
   {
    "duration": 0,
    "start_time": "2022-04-20T18:13:29.397Z"
   },
   {
    "duration": 0,
    "start_time": "2022-04-20T18:13:29.398Z"
   },
   {
    "duration": 0,
    "start_time": "2022-04-20T18:13:29.399Z"
   },
   {
    "duration": 0,
    "start_time": "2022-04-20T18:13:29.401Z"
   },
   {
    "duration": 0,
    "start_time": "2022-04-20T18:13:29.403Z"
   },
   {
    "duration": 0,
    "start_time": "2022-04-20T18:13:29.404Z"
   },
   {
    "duration": 0,
    "start_time": "2022-04-20T18:13:29.406Z"
   },
   {
    "duration": 0,
    "start_time": "2022-04-20T18:13:29.407Z"
   },
   {
    "duration": 0,
    "start_time": "2022-04-20T18:13:29.408Z"
   },
   {
    "duration": 0,
    "start_time": "2022-04-20T18:13:29.410Z"
   },
   {
    "duration": 20,
    "start_time": "2022-04-20T18:14:06.998Z"
   },
   {
    "duration": 4,
    "start_time": "2022-04-20T18:17:51.570Z"
   },
   {
    "duration": 499,
    "start_time": "2022-04-20T18:17:51.579Z"
   },
   {
    "duration": 24,
    "start_time": "2022-04-20T18:17:52.081Z"
   },
   {
    "duration": 29,
    "start_time": "2022-04-20T18:17:52.108Z"
   },
   {
    "duration": 67,
    "start_time": "2022-04-20T18:17:52.141Z"
   },
   {
    "duration": 5,
    "start_time": "2022-04-20T18:17:52.211Z"
   },
   {
    "duration": 47,
    "start_time": "2022-04-20T18:17:52.219Z"
   },
   {
    "duration": 29,
    "start_time": "2022-04-20T18:17:52.269Z"
   },
   {
    "duration": 10,
    "start_time": "2022-04-20T18:17:52.300Z"
   },
   {
    "duration": 8,
    "start_time": "2022-04-20T18:17:52.313Z"
   },
   {
    "duration": 12,
    "start_time": "2022-04-20T18:17:52.326Z"
   },
   {
    "duration": 53,
    "start_time": "2022-04-20T18:17:52.341Z"
   },
   {
    "duration": 25,
    "start_time": "2022-04-20T18:17:52.398Z"
   },
   {
    "duration": 29,
    "start_time": "2022-04-20T18:17:52.426Z"
   },
   {
    "duration": 0,
    "start_time": "2022-04-20T18:17:52.458Z"
   },
   {
    "duration": 0,
    "start_time": "2022-04-20T18:17:52.460Z"
   },
   {
    "duration": 0,
    "start_time": "2022-04-20T18:17:52.461Z"
   },
   {
    "duration": 0,
    "start_time": "2022-04-20T18:17:52.463Z"
   },
   {
    "duration": 0,
    "start_time": "2022-04-20T18:17:52.464Z"
   },
   {
    "duration": 0,
    "start_time": "2022-04-20T18:17:52.493Z"
   },
   {
    "duration": 0,
    "start_time": "2022-04-20T18:17:52.495Z"
   },
   {
    "duration": 0,
    "start_time": "2022-04-20T18:17:52.496Z"
   },
   {
    "duration": 0,
    "start_time": "2022-04-20T18:17:52.498Z"
   },
   {
    "duration": 0,
    "start_time": "2022-04-20T18:17:52.499Z"
   },
   {
    "duration": 0,
    "start_time": "2022-04-20T18:17:52.501Z"
   },
   {
    "duration": 0,
    "start_time": "2022-04-20T18:17:52.502Z"
   },
   {
    "duration": 0,
    "start_time": "2022-04-20T18:17:52.504Z"
   },
   {
    "duration": 0,
    "start_time": "2022-04-20T18:17:52.505Z"
   },
   {
    "duration": 0,
    "start_time": "2022-04-20T18:17:52.506Z"
   },
   {
    "duration": 0,
    "start_time": "2022-04-20T18:17:52.509Z"
   },
   {
    "duration": 17,
    "start_time": "2022-04-20T18:21:09.381Z"
   },
   {
    "duration": 20,
    "start_time": "2022-04-20T18:21:59.476Z"
   },
   {
    "duration": 19,
    "start_time": "2022-04-20T18:22:18.992Z"
   },
   {
    "duration": 20,
    "start_time": "2022-04-20T18:22:25.560Z"
   },
   {
    "duration": 25,
    "start_time": "2022-04-20T18:23:27.922Z"
   },
   {
    "duration": 19,
    "start_time": "2022-04-20T18:23:38.552Z"
   },
   {
    "duration": 28,
    "start_time": "2022-04-20T18:26:53.667Z"
   },
   {
    "duration": 30,
    "start_time": "2022-04-20T18:28:06.713Z"
   },
   {
    "duration": 34,
    "start_time": "2022-04-20T18:28:26.136Z"
   },
   {
    "duration": 4,
    "start_time": "2022-04-20T18:28:38.348Z"
   },
   {
    "duration": 35,
    "start_time": "2022-04-20T18:28:38.358Z"
   },
   {
    "duration": 18,
    "start_time": "2022-04-20T18:28:38.395Z"
   },
   {
    "duration": 22,
    "start_time": "2022-04-20T18:28:38.415Z"
   },
   {
    "duration": 60,
    "start_time": "2022-04-20T18:28:38.440Z"
   },
   {
    "duration": 5,
    "start_time": "2022-04-20T18:28:38.503Z"
   },
   {
    "duration": 36,
    "start_time": "2022-04-20T18:28:38.511Z"
   },
   {
    "duration": 6,
    "start_time": "2022-04-20T18:28:38.549Z"
   },
   {
    "duration": 37,
    "start_time": "2022-04-20T18:28:38.558Z"
   },
   {
    "duration": 9,
    "start_time": "2022-04-20T18:28:38.597Z"
   },
   {
    "duration": 12,
    "start_time": "2022-04-20T18:28:38.610Z"
   },
   {
    "duration": 9,
    "start_time": "2022-04-20T18:28:38.625Z"
   },
   {
    "duration": 69,
    "start_time": "2022-04-20T18:28:38.636Z"
   },
   {
    "duration": 25,
    "start_time": "2022-04-20T18:28:38.707Z"
   },
   {
    "duration": 27,
    "start_time": "2022-04-20T18:28:38.734Z"
   },
   {
    "duration": 471,
    "start_time": "2022-04-20T18:28:38.763Z"
   },
   {
    "duration": 0,
    "start_time": "2022-04-20T18:28:39.236Z"
   },
   {
    "duration": 0,
    "start_time": "2022-04-20T18:28:39.238Z"
   },
   {
    "duration": 0,
    "start_time": "2022-04-20T18:28:39.239Z"
   },
   {
    "duration": 0,
    "start_time": "2022-04-20T18:28:39.240Z"
   },
   {
    "duration": 0,
    "start_time": "2022-04-20T18:28:39.242Z"
   },
   {
    "duration": 0,
    "start_time": "2022-04-20T18:28:39.244Z"
   },
   {
    "duration": 0,
    "start_time": "2022-04-20T18:28:39.245Z"
   },
   {
    "duration": 0,
    "start_time": "2022-04-20T18:28:39.247Z"
   },
   {
    "duration": 0,
    "start_time": "2022-04-20T18:28:39.248Z"
   },
   {
    "duration": 0,
    "start_time": "2022-04-20T18:28:39.249Z"
   },
   {
    "duration": 0,
    "start_time": "2022-04-20T18:28:39.251Z"
   },
   {
    "duration": 0,
    "start_time": "2022-04-20T18:28:39.252Z"
   },
   {
    "duration": 0,
    "start_time": "2022-04-20T18:28:39.253Z"
   },
   {
    "duration": 0,
    "start_time": "2022-04-20T18:28:39.255Z"
   },
   {
    "duration": 18,
    "start_time": "2022-04-20T18:31:31.744Z"
   },
   {
    "duration": 13,
    "start_time": "2022-04-20T18:31:45.853Z"
   },
   {
    "duration": 19,
    "start_time": "2022-04-20T18:32:45.582Z"
   },
   {
    "duration": 20,
    "start_time": "2022-04-20T18:32:55.669Z"
   },
   {
    "duration": 4,
    "start_time": "2022-04-20T18:33:19.437Z"
   },
   {
    "duration": 42,
    "start_time": "2022-04-20T18:33:19.444Z"
   },
   {
    "duration": 18,
    "start_time": "2022-04-20T18:33:19.489Z"
   },
   {
    "duration": 21,
    "start_time": "2022-04-20T18:33:19.509Z"
   },
   {
    "duration": 60,
    "start_time": "2022-04-20T18:33:19.533Z"
   },
   {
    "duration": 5,
    "start_time": "2022-04-20T18:33:19.595Z"
   },
   {
    "duration": 38,
    "start_time": "2022-04-20T18:33:19.601Z"
   },
   {
    "duration": 6,
    "start_time": "2022-04-20T18:33:19.641Z"
   },
   {
    "duration": 9,
    "start_time": "2022-04-20T18:33:19.649Z"
   },
   {
    "duration": 37,
    "start_time": "2022-04-20T18:33:19.660Z"
   },
   {
    "duration": 13,
    "start_time": "2022-04-20T18:33:19.701Z"
   },
   {
    "duration": 8,
    "start_time": "2022-04-20T18:33:19.716Z"
   },
   {
    "duration": 20,
    "start_time": "2022-04-20T18:33:19.727Z"
   },
   {
    "duration": 55,
    "start_time": "2022-04-20T18:33:19.749Z"
   },
   {
    "duration": 0,
    "start_time": "2022-04-20T18:33:19.806Z"
   },
   {
    "duration": 0,
    "start_time": "2022-04-20T18:33:19.807Z"
   },
   {
    "duration": 0,
    "start_time": "2022-04-20T18:33:19.809Z"
   },
   {
    "duration": 0,
    "start_time": "2022-04-20T18:33:19.810Z"
   },
   {
    "duration": 0,
    "start_time": "2022-04-20T18:33:19.811Z"
   },
   {
    "duration": 0,
    "start_time": "2022-04-20T18:33:19.813Z"
   },
   {
    "duration": 0,
    "start_time": "2022-04-20T18:33:19.815Z"
   },
   {
    "duration": 0,
    "start_time": "2022-04-20T18:33:19.817Z"
   },
   {
    "duration": 0,
    "start_time": "2022-04-20T18:33:19.818Z"
   },
   {
    "duration": 0,
    "start_time": "2022-04-20T18:33:19.820Z"
   },
   {
    "duration": 0,
    "start_time": "2022-04-20T18:33:19.823Z"
   },
   {
    "duration": 0,
    "start_time": "2022-04-20T18:33:19.825Z"
   },
   {
    "duration": 0,
    "start_time": "2022-04-20T18:33:19.827Z"
   },
   {
    "duration": 0,
    "start_time": "2022-04-20T18:33:19.829Z"
   },
   {
    "duration": 0,
    "start_time": "2022-04-20T18:33:19.831Z"
   },
   {
    "duration": 0,
    "start_time": "2022-04-20T18:33:19.833Z"
   },
   {
    "duration": 4,
    "start_time": "2022-04-20T18:36:15.550Z"
   },
   {
    "duration": 38,
    "start_time": "2022-04-20T18:36:15.558Z"
   },
   {
    "duration": 17,
    "start_time": "2022-04-20T18:36:15.599Z"
   },
   {
    "duration": 22,
    "start_time": "2022-04-20T18:36:15.619Z"
   },
   {
    "duration": 66,
    "start_time": "2022-04-20T18:36:15.643Z"
   },
   {
    "duration": 5,
    "start_time": "2022-04-20T18:36:15.711Z"
   },
   {
    "duration": 38,
    "start_time": "2022-04-20T18:36:15.718Z"
   },
   {
    "duration": 34,
    "start_time": "2022-04-20T18:36:15.759Z"
   },
   {
    "duration": 7,
    "start_time": "2022-04-20T18:36:15.795Z"
   },
   {
    "duration": 15,
    "start_time": "2022-04-20T18:36:15.804Z"
   },
   {
    "duration": 9,
    "start_time": "2022-04-20T18:36:15.824Z"
   },
   {
    "duration": 21,
    "start_time": "2022-04-20T18:36:15.836Z"
   },
   {
    "duration": 23,
    "start_time": "2022-04-20T18:36:15.893Z"
   },
   {
    "duration": 21,
    "start_time": "2022-04-20T18:36:15.919Z"
   },
   {
    "duration": 944,
    "start_time": "2022-04-20T18:36:15.943Z"
   },
   {
    "duration": 404,
    "start_time": "2022-04-20T18:36:16.893Z"
   },
   {
    "duration": 466,
    "start_time": "2022-04-20T18:36:17.299Z"
   },
   {
    "duration": 426,
    "start_time": "2022-04-20T18:36:17.767Z"
   },
   {
    "duration": 0,
    "start_time": "2022-04-20T18:36:18.195Z"
   },
   {
    "duration": 0,
    "start_time": "2022-04-20T18:36:18.197Z"
   },
   {
    "duration": 0,
    "start_time": "2022-04-20T18:36:18.198Z"
   },
   {
    "duration": 0,
    "start_time": "2022-04-20T18:36:18.200Z"
   },
   {
    "duration": 0,
    "start_time": "2022-04-20T18:36:18.201Z"
   },
   {
    "duration": 0,
    "start_time": "2022-04-20T18:36:18.204Z"
   },
   {
    "duration": 0,
    "start_time": "2022-04-20T18:36:18.205Z"
   },
   {
    "duration": 0,
    "start_time": "2022-04-20T18:36:18.206Z"
   },
   {
    "duration": 0,
    "start_time": "2022-04-20T18:36:18.208Z"
   },
   {
    "duration": 0,
    "start_time": "2022-04-20T18:36:18.209Z"
   },
   {
    "duration": 0,
    "start_time": "2022-04-20T18:36:18.211Z"
   },
   {
    "duration": 29,
    "start_time": "2022-04-20T18:37:17.691Z"
   },
   {
    "duration": 28,
    "start_time": "2022-04-20T18:37:33.019Z"
   },
   {
    "duration": 0,
    "start_time": "2022-04-20T18:39:06.998Z"
   },
   {
    "duration": 0,
    "start_time": "2022-04-20T18:39:07.001Z"
   },
   {
    "duration": 0,
    "start_time": "2022-04-20T18:39:07.003Z"
   },
   {
    "duration": 0,
    "start_time": "2022-04-20T18:39:07.005Z"
   },
   {
    "duration": 0,
    "start_time": "2022-04-20T18:39:07.007Z"
   },
   {
    "duration": 0,
    "start_time": "2022-04-20T18:39:07.010Z"
   },
   {
    "duration": 0,
    "start_time": "2022-04-20T18:39:07.012Z"
   },
   {
    "duration": 0,
    "start_time": "2022-04-20T18:39:07.015Z"
   },
   {
    "duration": 0,
    "start_time": "2022-04-20T18:39:07.017Z"
   },
   {
    "duration": 0,
    "start_time": "2022-04-20T18:39:07.019Z"
   },
   {
    "duration": 0,
    "start_time": "2022-04-20T18:39:07.021Z"
   },
   {
    "duration": 0,
    "start_time": "2022-04-20T18:39:07.023Z"
   },
   {
    "duration": 0,
    "start_time": "2022-04-20T18:39:07.025Z"
   },
   {
    "duration": 0,
    "start_time": "2022-04-20T18:39:07.028Z"
   },
   {
    "duration": 0,
    "start_time": "2022-04-20T18:39:07.031Z"
   },
   {
    "duration": 0,
    "start_time": "2022-04-20T18:39:07.032Z"
   },
   {
    "duration": 0,
    "start_time": "2022-04-20T18:39:07.035Z"
   },
   {
    "duration": 0,
    "start_time": "2022-04-20T18:39:07.037Z"
   },
   {
    "duration": 0,
    "start_time": "2022-04-20T18:39:07.093Z"
   },
   {
    "duration": 0,
    "start_time": "2022-04-20T18:39:07.096Z"
   },
   {
    "duration": 0,
    "start_time": "2022-04-20T18:39:07.097Z"
   },
   {
    "duration": 0,
    "start_time": "2022-04-20T18:39:07.099Z"
   },
   {
    "duration": 0,
    "start_time": "2022-04-20T18:39:07.101Z"
   },
   {
    "duration": 0,
    "start_time": "2022-04-20T18:39:07.103Z"
   },
   {
    "duration": 0,
    "start_time": "2022-04-20T18:39:07.104Z"
   },
   {
    "duration": 0,
    "start_time": "2022-04-20T18:39:07.105Z"
   },
   {
    "duration": 0,
    "start_time": "2022-04-20T18:39:07.107Z"
   },
   {
    "duration": 1,
    "start_time": "2022-04-20T18:39:07.108Z"
   },
   {
    "duration": 0,
    "start_time": "2022-04-20T18:39:07.110Z"
   },
   {
    "duration": 5,
    "start_time": "2022-04-20T18:39:27.011Z"
   },
   {
    "duration": 38,
    "start_time": "2022-04-20T18:39:27.018Z"
   },
   {
    "duration": 18,
    "start_time": "2022-04-20T18:39:27.058Z"
   },
   {
    "duration": 27,
    "start_time": "2022-04-20T18:39:27.078Z"
   },
   {
    "duration": 58,
    "start_time": "2022-04-20T18:39:27.108Z"
   },
   {
    "duration": 4,
    "start_time": "2022-04-20T18:39:27.168Z"
   },
   {
    "duration": 38,
    "start_time": "2022-04-20T18:39:27.174Z"
   },
   {
    "duration": 6,
    "start_time": "2022-04-20T18:39:27.214Z"
   },
   {
    "duration": 11,
    "start_time": "2022-04-20T18:39:27.222Z"
   },
   {
    "duration": 15,
    "start_time": "2022-04-20T18:39:27.235Z"
   },
   {
    "duration": 8,
    "start_time": "2022-04-20T18:39:27.254Z"
   },
   {
    "duration": 19,
    "start_time": "2022-04-20T18:39:27.293Z"
   },
   {
    "duration": 22,
    "start_time": "2022-04-20T18:39:27.314Z"
   },
   {
    "duration": 55,
    "start_time": "2022-04-20T18:39:27.338Z"
   },
   {
    "duration": 810,
    "start_time": "2022-04-20T18:39:27.395Z"
   },
   {
    "duration": 403,
    "start_time": "2022-04-20T18:39:28.207Z"
   },
   {
    "duration": 461,
    "start_time": "2022-04-20T18:39:28.612Z"
   },
   {
    "duration": 441,
    "start_time": "2022-04-20T18:39:29.076Z"
   },
   {
    "duration": 0,
    "start_time": "2022-04-20T18:39:29.519Z"
   },
   {
    "duration": 0,
    "start_time": "2022-04-20T18:39:29.521Z"
   },
   {
    "duration": 0,
    "start_time": "2022-04-20T18:39:29.523Z"
   },
   {
    "duration": 0,
    "start_time": "2022-04-20T18:39:29.525Z"
   },
   {
    "duration": 0,
    "start_time": "2022-04-20T18:39:29.526Z"
   },
   {
    "duration": 0,
    "start_time": "2022-04-20T18:39:29.528Z"
   },
   {
    "duration": 0,
    "start_time": "2022-04-20T18:39:29.529Z"
   },
   {
    "duration": 0,
    "start_time": "2022-04-20T18:39:29.531Z"
   },
   {
    "duration": 0,
    "start_time": "2022-04-20T18:39:29.532Z"
   },
   {
    "duration": 0,
    "start_time": "2022-04-20T18:39:29.534Z"
   },
   {
    "duration": 0,
    "start_time": "2022-04-20T18:39:29.535Z"
   },
   {
    "duration": 7,
    "start_time": "2022-04-20T19:45:26.761Z"
   },
   {
    "duration": 3133,
    "start_time": "2022-04-20T19:47:57.113Z"
   },
   {
    "duration": 4,
    "start_time": "2022-04-20T19:48:22.803Z"
   },
   {
    "duration": 49,
    "start_time": "2022-04-20T19:48:22.810Z"
   },
   {
    "duration": 19,
    "start_time": "2022-04-20T19:48:22.862Z"
   },
   {
    "duration": 25,
    "start_time": "2022-04-20T19:48:22.884Z"
   },
   {
    "duration": 68,
    "start_time": "2022-04-20T19:48:22.912Z"
   },
   {
    "duration": 4,
    "start_time": "2022-04-20T19:48:22.982Z"
   },
   {
    "duration": 36,
    "start_time": "2022-04-20T19:48:22.988Z"
   },
   {
    "duration": 7,
    "start_time": "2022-04-20T19:48:23.026Z"
   },
   {
    "duration": 7,
    "start_time": "2022-04-20T19:48:23.035Z"
   },
   {
    "duration": 7,
    "start_time": "2022-04-20T19:48:23.044Z"
   },
   {
    "duration": 36,
    "start_time": "2022-04-20T19:48:23.057Z"
   },
   {
    "duration": 21,
    "start_time": "2022-04-20T19:48:23.095Z"
   },
   {
    "duration": 27,
    "start_time": "2022-04-20T19:48:23.118Z"
   },
   {
    "duration": 802,
    "start_time": "2022-04-20T19:48:23.148Z"
   },
   {
    "duration": 502,
    "start_time": "2022-04-20T19:48:23.953Z"
   },
   {
    "duration": 496,
    "start_time": "2022-04-20T19:48:24.458Z"
   },
   {
    "duration": 439,
    "start_time": "2022-04-20T19:48:24.957Z"
   },
   {
    "duration": 0,
    "start_time": "2022-04-20T19:48:25.398Z"
   },
   {
    "duration": 0,
    "start_time": "2022-04-20T19:48:25.399Z"
   },
   {
    "duration": 0,
    "start_time": "2022-04-20T19:48:25.401Z"
   },
   {
    "duration": 0,
    "start_time": "2022-04-20T19:48:25.402Z"
   },
   {
    "duration": 0,
    "start_time": "2022-04-20T19:48:25.403Z"
   },
   {
    "duration": 0,
    "start_time": "2022-04-20T19:48:25.404Z"
   },
   {
    "duration": 0,
    "start_time": "2022-04-20T19:48:25.405Z"
   },
   {
    "duration": 0,
    "start_time": "2022-04-20T19:48:25.407Z"
   },
   {
    "duration": 0,
    "start_time": "2022-04-20T19:48:25.408Z"
   },
   {
    "duration": 0,
    "start_time": "2022-04-20T19:48:25.409Z"
   },
   {
    "duration": 0,
    "start_time": "2022-04-20T19:48:25.411Z"
   },
   {
    "duration": 15,
    "start_time": "2022-04-20T19:49:03.135Z"
   },
   {
    "duration": 699,
    "start_time": "2022-04-20T19:51:43.069Z"
   },
   {
    "duration": 190,
    "start_time": "2022-04-20T19:53:14.976Z"
   },
   {
    "duration": 163,
    "start_time": "2022-04-20T19:53:43.825Z"
   },
   {
    "duration": 291,
    "start_time": "2022-04-20T19:54:10.229Z"
   },
   {
    "duration": 425,
    "start_time": "2022-04-20T19:55:37.709Z"
   },
   {
    "duration": 47,
    "start_time": "2022-04-20T19:56:45.583Z"
   },
   {
    "duration": 12,
    "start_time": "2022-04-20T19:57:25.790Z"
   },
   {
    "duration": 12,
    "start_time": "2022-04-20T19:57:55.350Z"
   },
   {
    "duration": 36,
    "start_time": "2022-04-20T19:58:36.553Z"
   },
   {
    "duration": 14,
    "start_time": "2022-04-20T19:59:54.839Z"
   },
   {
    "duration": 685,
    "start_time": "2022-04-20T20:02:49.086Z"
   },
   {
    "duration": 707,
    "start_time": "2022-04-20T20:03:08.202Z"
   },
   {
    "duration": 791,
    "start_time": "2022-04-20T20:03:14.390Z"
   },
   {
    "duration": 793,
    "start_time": "2022-04-20T20:03:20.034Z"
   },
   {
    "duration": 707,
    "start_time": "2022-04-20T20:03:47.525Z"
   },
   {
    "duration": 651,
    "start_time": "2022-04-20T20:04:18.908Z"
   },
   {
    "duration": 658,
    "start_time": "2022-04-20T20:04:43.881Z"
   },
   {
    "duration": 838,
    "start_time": "2022-04-20T20:07:03.746Z"
   },
   {
    "duration": 320,
    "start_time": "2022-04-20T20:08:00.666Z"
   },
   {
    "duration": 282,
    "start_time": "2022-04-20T20:09:23.742Z"
   },
   {
    "duration": 347,
    "start_time": "2022-04-20T20:10:41.746Z"
   },
   {
    "duration": 376,
    "start_time": "2022-04-20T20:11:04.729Z"
   },
   {
    "duration": 374,
    "start_time": "2022-04-20T20:13:07.860Z"
   },
   {
    "duration": 362,
    "start_time": "2022-04-20T20:13:44.824Z"
   },
   {
    "duration": 550,
    "start_time": "2022-04-20T20:16:18.932Z"
   },
   {
    "duration": 385,
    "start_time": "2022-04-20T20:16:41.153Z"
   },
   {
    "duration": 264,
    "start_time": "2022-04-20T20:17:09.986Z"
   },
   {
    "duration": 263,
    "start_time": "2022-04-20T20:17:39.157Z"
   },
   {
    "duration": 280,
    "start_time": "2022-04-20T20:17:57.157Z"
   },
   {
    "duration": 259,
    "start_time": "2022-04-20T20:18:24.810Z"
   },
   {
    "duration": 272,
    "start_time": "2022-04-20T20:18:37.562Z"
   },
   {
    "duration": 275,
    "start_time": "2022-04-20T20:18:44.890Z"
   },
   {
    "duration": 284,
    "start_time": "2022-04-20T20:20:25.510Z"
   },
   {
    "duration": 372,
    "start_time": "2022-04-20T20:21:08.514Z"
   },
   {
    "duration": 418,
    "start_time": "2022-04-20T20:24:51.063Z"
   },
   {
    "duration": 501,
    "start_time": "2022-04-20T20:25:37.038Z"
   },
   {
    "duration": 395,
    "start_time": "2022-04-20T20:25:54.398Z"
   },
   {
    "duration": 405,
    "start_time": "2022-04-20T20:26:07.321Z"
   },
   {
    "duration": 241,
    "start_time": "2022-04-20T20:30:58.735Z"
   },
   {
    "duration": 227,
    "start_time": "2022-04-20T20:31:07.706Z"
   },
   {
    "duration": 7,
    "start_time": "2022-04-20T20:33:25.191Z"
   },
   {
    "duration": 204,
    "start_time": "2022-04-20T20:38:23.325Z"
   },
   {
    "duration": 7,
    "start_time": "2022-04-20T20:38:44.673Z"
   },
   {
    "duration": 7,
    "start_time": "2022-04-20T20:39:44.618Z"
   },
   {
    "duration": 47,
    "start_time": "2022-04-20T21:05:30.441Z"
   },
   {
    "duration": 45,
    "start_time": "2022-04-20T21:06:30.510Z"
   },
   {
    "duration": 212,
    "start_time": "2022-04-20T21:06:43.680Z"
   },
   {
    "duration": 74,
    "start_time": "2022-04-20T21:06:48.018Z"
   },
   {
    "duration": 7,
    "start_time": "2022-04-20T21:13:27.879Z"
   },
   {
    "duration": 25,
    "start_time": "2022-04-20T21:14:29.816Z"
   },
   {
    "duration": 15,
    "start_time": "2022-04-20T21:15:53.195Z"
   },
   {
    "duration": 12,
    "start_time": "2022-04-20T21:22:25.201Z"
   },
   {
    "duration": 37,
    "start_time": "2022-04-20T21:24:54.039Z"
   },
   {
    "duration": 20,
    "start_time": "2022-04-20T21:31:09.425Z"
   },
   {
    "duration": 5,
    "start_time": "2022-04-20T21:50:04.083Z"
   },
   {
    "duration": 52,
    "start_time": "2022-04-20T21:50:04.090Z"
   },
   {
    "duration": 18,
    "start_time": "2022-04-20T21:50:04.145Z"
   },
   {
    "duration": 30,
    "start_time": "2022-04-20T21:50:04.165Z"
   },
   {
    "duration": 57,
    "start_time": "2022-04-20T21:50:04.198Z"
   },
   {
    "duration": 4,
    "start_time": "2022-04-20T21:50:04.257Z"
   },
   {
    "duration": 37,
    "start_time": "2022-04-20T21:50:04.263Z"
   },
   {
    "duration": 6,
    "start_time": "2022-04-20T21:50:04.302Z"
   },
   {
    "duration": 9,
    "start_time": "2022-04-20T21:50:04.310Z"
   },
   {
    "duration": 6,
    "start_time": "2022-04-20T21:50:04.321Z"
   },
   {
    "duration": 8,
    "start_time": "2022-04-20T21:50:04.331Z"
   },
   {
    "duration": 52,
    "start_time": "2022-04-20T21:50:04.341Z"
   },
   {
    "duration": 15,
    "start_time": "2022-04-20T21:50:04.395Z"
   },
   {
    "duration": 810,
    "start_time": "2022-04-20T21:50:04.412Z"
   },
   {
    "duration": 296,
    "start_time": "2022-04-20T21:50:05.225Z"
   },
   {
    "duration": 357,
    "start_time": "2022-04-20T21:50:05.523Z"
   },
   {
    "duration": 297,
    "start_time": "2022-04-20T21:50:05.883Z"
   },
   {
    "duration": 373,
    "start_time": "2022-04-20T21:50:06.182Z"
   },
   {
    "duration": 324,
    "start_time": "2022-04-20T21:50:06.557Z"
   },
   {
    "duration": 11,
    "start_time": "2022-04-20T21:50:06.884Z"
   },
   {
    "duration": 234,
    "start_time": "2022-04-20T21:50:06.898Z"
   },
   {
    "duration": 6,
    "start_time": "2022-04-20T21:50:07.135Z"
   },
   {
    "duration": 366,
    "start_time": "2022-04-20T21:50:07.144Z"
   },
   {
    "duration": 48,
    "start_time": "2022-04-20T21:50:07.512Z"
   },
   {
    "duration": 36,
    "start_time": "2022-04-20T21:50:07.562Z"
   },
   {
    "duration": 11,
    "start_time": "2022-04-20T21:50:07.600Z"
   },
   {
    "duration": 37,
    "start_time": "2022-04-20T21:50:07.613Z"
   },
   {
    "duration": 48,
    "start_time": "2022-04-20T21:50:07.652Z"
   },
   {
    "duration": 1842,
    "start_time": "2022-04-21T12:17:50.940Z"
   },
   {
    "duration": 71,
    "start_time": "2022-04-21T12:17:52.802Z"
   },
   {
    "duration": 464,
    "start_time": "2022-04-21T12:17:52.903Z"
   },
   {
    "duration": 12,
    "start_time": "2022-04-21T12:17:53.370Z"
   },
   {
    "duration": 116,
    "start_time": "2022-04-21T12:17:53.383Z"
   },
   {
    "duration": 3,
    "start_time": "2022-04-21T12:17:53.501Z"
   },
   {
    "duration": 46,
    "start_time": "2022-04-21T12:17:53.505Z"
   },
   {
    "duration": 4,
    "start_time": "2022-04-21T12:17:53.553Z"
   },
   {
    "duration": 21,
    "start_time": "2022-04-21T12:17:53.559Z"
   },
   {
    "duration": 10,
    "start_time": "2022-04-21T12:17:53.584Z"
   },
   {
    "duration": 99,
    "start_time": "2022-04-21T12:17:53.596Z"
   },
   {
    "duration": 23,
    "start_time": "2022-04-21T12:17:53.697Z"
   },
   {
    "duration": 16,
    "start_time": "2022-04-21T12:17:53.722Z"
   },
   {
    "duration": 1420,
    "start_time": "2022-04-21T12:17:53.740Z"
   },
   {
    "duration": 346,
    "start_time": "2022-04-21T12:17:55.162Z"
   },
   {
    "duration": 418,
    "start_time": "2022-04-21T12:17:55.510Z"
   },
   {
    "duration": 356,
    "start_time": "2022-04-21T12:17:55.930Z"
   },
   {
    "duration": 307,
    "start_time": "2022-04-21T12:17:56.288Z"
   },
   {
    "duration": 202,
    "start_time": "2022-04-21T12:17:56.597Z"
   },
   {
    "duration": 6,
    "start_time": "2022-04-21T12:17:56.801Z"
   },
   {
    "duration": 227,
    "start_time": "2022-04-21T12:17:56.808Z"
   },
   {
    "duration": 6,
    "start_time": "2022-04-21T12:17:57.037Z"
   },
   {
    "duration": 513,
    "start_time": "2022-04-21T12:17:57.045Z"
   },
   {
    "duration": 98,
    "start_time": "2022-04-21T12:17:57.560Z"
   },
   {
    "duration": 63,
    "start_time": "2022-04-21T12:17:57.660Z"
   },
   {
    "duration": 11,
    "start_time": "2022-04-21T12:17:57.725Z"
   },
   {
    "duration": 98,
    "start_time": "2022-04-21T12:17:57.739Z"
   },
   {
    "duration": 18,
    "start_time": "2022-04-21T12:17:57.841Z"
   }
  ],
  "kernelspec": {
   "display_name": "Python 3 (ipykernel)",
   "language": "python",
   "name": "python3"
  },
  "language_info": {
   "codemirror_mode": {
    "name": "ipython",
    "version": 3
   },
   "file_extension": ".py",
   "mimetype": "text/x-python",
   "name": "python",
   "nbconvert_exporter": "python",
   "pygments_lexer": "ipython3",
   "version": "3.9.5"
  },
  "toc": {
   "base_numbering": 1,
   "nav_menu": {},
   "number_sections": true,
   "sideBar": true,
   "skip_h1_title": true,
   "title_cell": "Table of Contents",
   "title_sidebar": "Contents",
   "toc_cell": false,
   "toc_position": {
    "height": "calc(100% - 180px)",
    "left": "10px",
    "top": "150px",
    "width": "193px"
   },
   "toc_section_display": true,
   "toc_window_display": true
  }
 },
 "nbformat": 4,
 "nbformat_minor": 2
}
