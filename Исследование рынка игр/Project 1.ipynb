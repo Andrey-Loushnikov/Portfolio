{
 "cells": [
  {
   "cell_type": "markdown",
   "metadata": {},
   "source": [
    "# Исследование рынка игр"
   ]
  },
  {
   "cell_type": "markdown",
   "metadata": {},
   "source": [
    "В нашем распоряжении исторические данные о продажах игр, оценки пользователей и экспертов, жанры и платформы (например, Xbox или PlayStation). Наша задача - выявить определяющие успешность игры закономерности. Это позволит сделать ставку на потенциально популярный продукт и спланировать рекламные кампании.\n",
    "\n",
    "В ходе исследования также проверим две гипотезы:\n",
    "- Средние пользовательские рейтинги платформ Xbox One и PC одинаковые;\n",
    "- Средние пользовательские рейтинги жанров Action (англ. «действие», экшен\u0002игры) и Sports (англ. «спортивные соревнования») разные.\n"
   ]
  },
  {
   "cell_type": "markdown",
   "metadata": {},
   "source": [
    "## Изучение данных из файла"
   ]
  },
  {
   "cell_type": "code",
   "execution_count": 1,
   "metadata": {},
   "outputs": [],
   "source": [
    "import pandas as pd\n",
    "import matplotlib.pyplot as plt\n",
    "import numpy as np\n",
    "import seaborn as sns\n",
    "from scipy import stats as st"
   ]
  },
  {
   "cell_type": "code",
   "execution_count": 2,
   "metadata": {
    "scrolled": false
   },
   "outputs": [
    {
     "data": {
      "text/html": [
       "<div>\n",
       "<style scoped>\n",
       "    .dataframe tbody tr th:only-of-type {\n",
       "        vertical-align: middle;\n",
       "    }\n",
       "\n",
       "    .dataframe tbody tr th {\n",
       "        vertical-align: top;\n",
       "    }\n",
       "\n",
       "    .dataframe thead th {\n",
       "        text-align: right;\n",
       "    }\n",
       "</style>\n",
       "<table border=\"1\" class=\"dataframe\">\n",
       "  <thead>\n",
       "    <tr style=\"text-align: right;\">\n",
       "      <th></th>\n",
       "      <th>Name</th>\n",
       "      <th>Platform</th>\n",
       "      <th>Year_of_Release</th>\n",
       "      <th>Genre</th>\n",
       "      <th>NA_sales</th>\n",
       "      <th>EU_sales</th>\n",
       "      <th>JP_sales</th>\n",
       "      <th>Other_sales</th>\n",
       "      <th>Critic_Score</th>\n",
       "      <th>User_Score</th>\n",
       "      <th>Rating</th>\n",
       "    </tr>\n",
       "  </thead>\n",
       "  <tbody>\n",
       "    <tr>\n",
       "      <th>0</th>\n",
       "      <td>Wii Sports</td>\n",
       "      <td>Wii</td>\n",
       "      <td>2006.0</td>\n",
       "      <td>Sports</td>\n",
       "      <td>41.36</td>\n",
       "      <td>28.96</td>\n",
       "      <td>3.77</td>\n",
       "      <td>8.45</td>\n",
       "      <td>76.0</td>\n",
       "      <td>8</td>\n",
       "      <td>E</td>\n",
       "    </tr>\n",
       "    <tr>\n",
       "      <th>1</th>\n",
       "      <td>Super Mario Bros.</td>\n",
       "      <td>NES</td>\n",
       "      <td>1985.0</td>\n",
       "      <td>Platform</td>\n",
       "      <td>29.08</td>\n",
       "      <td>3.58</td>\n",
       "      <td>6.81</td>\n",
       "      <td>0.77</td>\n",
       "      <td>NaN</td>\n",
       "      <td>NaN</td>\n",
       "      <td>NaN</td>\n",
       "    </tr>\n",
       "    <tr>\n",
       "      <th>2</th>\n",
       "      <td>Mario Kart Wii</td>\n",
       "      <td>Wii</td>\n",
       "      <td>2008.0</td>\n",
       "      <td>Racing</td>\n",
       "      <td>15.68</td>\n",
       "      <td>12.76</td>\n",
       "      <td>3.79</td>\n",
       "      <td>3.29</td>\n",
       "      <td>82.0</td>\n",
       "      <td>8.3</td>\n",
       "      <td>E</td>\n",
       "    </tr>\n",
       "    <tr>\n",
       "      <th>3</th>\n",
       "      <td>Wii Sports Resort</td>\n",
       "      <td>Wii</td>\n",
       "      <td>2009.0</td>\n",
       "      <td>Sports</td>\n",
       "      <td>15.61</td>\n",
       "      <td>10.93</td>\n",
       "      <td>3.28</td>\n",
       "      <td>2.95</td>\n",
       "      <td>80.0</td>\n",
       "      <td>8</td>\n",
       "      <td>E</td>\n",
       "    </tr>\n",
       "    <tr>\n",
       "      <th>4</th>\n",
       "      <td>Pokemon Red/Pokemon Blue</td>\n",
       "      <td>GB</td>\n",
       "      <td>1996.0</td>\n",
       "      <td>Role-Playing</td>\n",
       "      <td>11.27</td>\n",
       "      <td>8.89</td>\n",
       "      <td>10.22</td>\n",
       "      <td>1.00</td>\n",
       "      <td>NaN</td>\n",
       "      <td>NaN</td>\n",
       "      <td>NaN</td>\n",
       "    </tr>\n",
       "    <tr>\n",
       "      <th>5</th>\n",
       "      <td>Tetris</td>\n",
       "      <td>GB</td>\n",
       "      <td>1989.0</td>\n",
       "      <td>Puzzle</td>\n",
       "      <td>23.20</td>\n",
       "      <td>2.26</td>\n",
       "      <td>4.22</td>\n",
       "      <td>0.58</td>\n",
       "      <td>NaN</td>\n",
       "      <td>NaN</td>\n",
       "      <td>NaN</td>\n",
       "    </tr>\n",
       "    <tr>\n",
       "      <th>6</th>\n",
       "      <td>New Super Mario Bros.</td>\n",
       "      <td>DS</td>\n",
       "      <td>2006.0</td>\n",
       "      <td>Platform</td>\n",
       "      <td>11.28</td>\n",
       "      <td>9.14</td>\n",
       "      <td>6.50</td>\n",
       "      <td>2.88</td>\n",
       "      <td>89.0</td>\n",
       "      <td>8.5</td>\n",
       "      <td>E</td>\n",
       "    </tr>\n",
       "    <tr>\n",
       "      <th>7</th>\n",
       "      <td>Wii Play</td>\n",
       "      <td>Wii</td>\n",
       "      <td>2006.0</td>\n",
       "      <td>Misc</td>\n",
       "      <td>13.96</td>\n",
       "      <td>9.18</td>\n",
       "      <td>2.93</td>\n",
       "      <td>2.84</td>\n",
       "      <td>58.0</td>\n",
       "      <td>6.6</td>\n",
       "      <td>E</td>\n",
       "    </tr>\n",
       "    <tr>\n",
       "      <th>8</th>\n",
       "      <td>New Super Mario Bros. Wii</td>\n",
       "      <td>Wii</td>\n",
       "      <td>2009.0</td>\n",
       "      <td>Platform</td>\n",
       "      <td>14.44</td>\n",
       "      <td>6.94</td>\n",
       "      <td>4.70</td>\n",
       "      <td>2.24</td>\n",
       "      <td>87.0</td>\n",
       "      <td>8.4</td>\n",
       "      <td>E</td>\n",
       "    </tr>\n",
       "    <tr>\n",
       "      <th>9</th>\n",
       "      <td>Duck Hunt</td>\n",
       "      <td>NES</td>\n",
       "      <td>1984.0</td>\n",
       "      <td>Shooter</td>\n",
       "      <td>26.93</td>\n",
       "      <td>0.63</td>\n",
       "      <td>0.28</td>\n",
       "      <td>0.47</td>\n",
       "      <td>NaN</td>\n",
       "      <td>NaN</td>\n",
       "      <td>NaN</td>\n",
       "    </tr>\n",
       "  </tbody>\n",
       "</table>\n",
       "</div>"
      ],
      "text/plain": [
       "                        Name Platform  Year_of_Release         Genre  \\\n",
       "0                 Wii Sports      Wii           2006.0        Sports   \n",
       "1          Super Mario Bros.      NES           1985.0      Platform   \n",
       "2             Mario Kart Wii      Wii           2008.0        Racing   \n",
       "3          Wii Sports Resort      Wii           2009.0        Sports   \n",
       "4   Pokemon Red/Pokemon Blue       GB           1996.0  Role-Playing   \n",
       "5                     Tetris       GB           1989.0        Puzzle   \n",
       "6      New Super Mario Bros.       DS           2006.0      Platform   \n",
       "7                   Wii Play      Wii           2006.0          Misc   \n",
       "8  New Super Mario Bros. Wii      Wii           2009.0      Platform   \n",
       "9                  Duck Hunt      NES           1984.0       Shooter   \n",
       "\n",
       "   NA_sales  EU_sales  JP_sales  Other_sales  Critic_Score User_Score Rating  \n",
       "0     41.36     28.96      3.77         8.45          76.0          8      E  \n",
       "1     29.08      3.58      6.81         0.77           NaN        NaN    NaN  \n",
       "2     15.68     12.76      3.79         3.29          82.0        8.3      E  \n",
       "3     15.61     10.93      3.28         2.95          80.0          8      E  \n",
       "4     11.27      8.89     10.22         1.00           NaN        NaN    NaN  \n",
       "5     23.20      2.26      4.22         0.58           NaN        NaN    NaN  \n",
       "6     11.28      9.14      6.50         2.88          89.0        8.5      E  \n",
       "7     13.96      9.18      2.93         2.84          58.0        6.6      E  \n",
       "8     14.44      6.94      4.70         2.24          87.0        8.4      E  \n",
       "9     26.93      0.63      0.28         0.47           NaN        NaN    NaN  "
      ]
     },
     "metadata": {},
     "output_type": "display_data"
    },
    {
     "name": "stdout",
     "output_type": "stream",
     "text": [
      "<class 'pandas.core.frame.DataFrame'>\n",
      "RangeIndex: 16715 entries, 0 to 16714\n",
      "Data columns (total 11 columns):\n",
      " #   Column           Non-Null Count  Dtype  \n",
      "---  ------           --------------  -----  \n",
      " 0   Name             16713 non-null  object \n",
      " 1   Platform         16715 non-null  object \n",
      " 2   Year_of_Release  16446 non-null  float64\n",
      " 3   Genre            16713 non-null  object \n",
      " 4   NA_sales         16715 non-null  float64\n",
      " 5   EU_sales         16715 non-null  float64\n",
      " 6   JP_sales         16715 non-null  float64\n",
      " 7   Other_sales      16715 non-null  float64\n",
      " 8   Critic_Score     8137 non-null   float64\n",
      " 9   User_Score       10014 non-null  object \n",
      " 10  Rating           9949 non-null   object \n",
      "dtypes: float64(6), object(5)\n",
      "memory usage: 1.4+ MB\n"
     ]
    }
   ],
   "source": [
    "df = pd.read_csv('/datasets/games.csv')\n",
    "display(df.head(10))\n",
    "df.info()\n"
   ]
  },
  {
   "cell_type": "markdown",
   "metadata": {},
   "source": [
    "### Вывод"
   ]
  },
  {
   "cell_type": "markdown",
   "metadata": {},
   "source": [
    "В каждой строке таблицы — данные об игре (название, платформа, год выпуска, продажи, оценки).\n",
    "\n",
    "Предварительно можно утверждать, что, данных достаточно для решения стоящей перед нами задачи. Но встречаются пропуски в данных, а в названиях колонок — расхождения с хорошим стилем.\n",
    "\n",
    "Чтобы двигаться дальше, нужно устранить проблемы в данных."
   ]
  },
  {
   "cell_type": "markdown",
   "metadata": {},
   "source": [
    "## Предобработка данных"
   ]
  },
  {
   "cell_type": "markdown",
   "metadata": {},
   "source": [
    "Приведём все заголовки столбцов к нижнему регистру."
   ]
  },
  {
   "cell_type": "code",
   "execution_count": 3,
   "metadata": {
    "scrolled": false
   },
   "outputs": [
    {
     "data": {
      "text/plain": [
       "Index(['name', 'platform', 'year_of_release', 'genre', 'na_sales', 'eu_sales',\n",
       "       'jp_sales', 'other_sales', 'critic_score', 'user_score', 'rating'],\n",
       "      dtype='object')"
      ]
     },
     "execution_count": 3,
     "metadata": {},
     "output_type": "execute_result"
    }
   ],
   "source": [
    "df.columns = df.columns.str.lower()\n",
    "df.columns"
   ]
  },
  {
   "cell_type": "markdown",
   "metadata": {},
   "source": [
    "Посмотрим и посчитаем количество пропусков."
   ]
  },
  {
   "cell_type": "code",
   "execution_count": 4,
   "metadata": {
    "scrolled": true
   },
   "outputs": [
    {
     "data": {
      "text/plain": [
       "name                  2\n",
       "platform              0\n",
       "year_of_release     269\n",
       "genre                 2\n",
       "na_sales              0\n",
       "eu_sales              0\n",
       "jp_sales              0\n",
       "other_sales           0\n",
       "critic_score       8578\n",
       "user_score         6701\n",
       "rating             6766\n",
       "dtype: int64"
      ]
     },
     "execution_count": 4,
     "metadata": {},
     "output_type": "execute_result"
    }
   ],
   "source": [
    "df.isna().sum()"
   ]
  },
  {
   "cell_type": "markdown",
   "metadata": {},
   "source": [
    "Пропуски в годах выпуска игр по платформам."
   ]
  },
  {
   "cell_type": "code",
   "execution_count": 5,
   "metadata": {},
   "outputs": [
    {
     "data": {
      "image/png": "[encoded data removed]",
      "text/plain": [
       "<Figure size 432x288 with 1 Axes>"
      ]
     },
     "metadata": {
      "needs_background": "light"
     },
     "output_type": "display_data"
    }
   ],
   "source": [
    "df.query('year_of_release.isna()').groupby('platform')['name'].agg('count').sort_values(ascending=False).plot(y='count', kind='bar', grid=True)\n",
    "plt.show()"
   ]
  },
  {
   "cell_type": "markdown",
   "metadata": {},
   "source": [
    "Заметно выделяющихся позиций нет. Большее количество пропусков в наиболее популярных и известных платформах. \n",
    "Вероятно, здесь были ошибки ввода данных.\n",
    "\n",
    "У части игр отсутствует дата выпуска по одной из платформ, хотя на других дата стоит. Сгруппируем по играм и найдём средний год выпуска по имеющимся платформам для заполнения пропусков по отдельным платформам."
   ]
  },
  {
   "cell_type": "code",
   "execution_count": 6,
   "metadata": {},
   "outputs": [],
   "source": [
    "name_transformed = df.groupby('name')['year_of_release'].transform('mean')\n",
    "df['year_of_release'] = df['year_of_release'].fillna(name_transformed)"
   ]
  },
  {
   "cell_type": "markdown",
   "metadata": {},
   "source": [
    "В некоторых играх, как правило спортивных, в самом названии есть год. Возьмём этот год для замены."
   ]
  },
  {
   "cell_type": "code",
   "execution_count": 7,
   "metadata": {},
   "outputs": [],
   "source": [
    "def func(row):\n",
    "    if pd.isna(row['year_of_release']):\n",
    "        num = ''\n",
    "        for c in row['name']:\n",
    "            if c.isdigit():\n",
    "                num += c\n",
    "        return num\n",
    "    return row['year_of_release']\n",
    "\n",
    "\n",
    "df['year_of_release'] = df.apply(func, axis=1)"
   ]
  },
  {
   "cell_type": "markdown",
   "metadata": {},
   "source": [
    "С течением времени платформы развиваются и сменяют друг друга. Оставшиеся пропуски заменим средним значением по данным, сгруппированным по платформам."
   ]
  },
  {
   "cell_type": "code",
   "execution_count": 8,
   "metadata": {
    "scrolled": false
   },
   "outputs": [
    {
     "data": {
      "text/plain": [
       "1984    14\n",
       "2       10\n",
       "1980     9\n",
       "3        4\n",
       "99       2\n",
       "5        1\n",
       "500      1\n",
       "20       1\n",
       "4        1\n",
       "64       1\n",
       "Name: year_of_release, dtype: int64"
      ]
     },
     "execution_count": 8,
     "metadata": {},
     "output_type": "execute_result"
    }
   ],
   "source": [
    "df['year_of_release'] = pd.to_numeric(df['year_of_release'], errors='coerce')\n",
    "platform_transformed = df.groupby('platform')['year_of_release'].transform('mean')\n",
    "df['year_of_release'] = df['year_of_release'].fillna(platform_transformed)\n",
    "df['year_of_release'] = df['year_of_release'].astype('int')\n",
    "df['year_of_release'].value_counts().tail(10)"
   ]
  },
  {
   "cell_type": "markdown",
   "metadata": {},
   "source": [
    "Возникли странные значения из-за цифр, встречающихся в названии и никак не соотносящиеся с годом (последствия обработки функцией). Эти данные отфильтруем, тем более они составляют очень малую часть.\n",
    "\n",
    "Между 1969 и 1980 не выпущено ни одной игры. Также с 1980 видим рост количества игр. Скорее всего это ошибка ввода, но чтобы не искажать данные отфильтруем эти значения. "
   ]
  },
  {
   "cell_type": "code",
   "execution_count": 9,
   "metadata": {
    "scrolled": true
   },
   "outputs": [
    {
     "data": {
      "text/plain": [
       "5      1\n",
       "500    1\n",
       "20     1\n",
       "4      1\n",
       "64     1\n",
       "Name: year_of_release, dtype: int64"
      ]
     },
     "metadata": {},
     "output_type": "display_data"
    },
    {
     "data": {
      "text/plain": [
       "(16679, 11)"
      ]
     },
     "metadata": {},
     "output_type": "display_data"
    },
    {
     "data": {
      "text/plain": [
       "1987    16\n",
       "1988    15\n",
       "1985    14\n",
       "1984    14\n",
       "1980     9\n",
       "Name: year_of_release, dtype: int64"
      ]
     },
     "execution_count": 9,
     "metadata": {},
     "output_type": "execute_result"
    }
   ],
   "source": [
    "display(df['year_of_release'].value_counts().tail())\n",
    "df = df.query('year_of_release > 1969')\n",
    "display(df.shape)\n",
    "df['year_of_release'].value_counts().tail()"
   ]
  },
  {
   "cell_type": "markdown",
   "metadata": {},
   "source": [
    "Отфильтровано 36 игр."
   ]
  },
  {
   "cell_type": "markdown",
   "metadata": {},
   "source": [
    "Посмотрим на значения столбца `user_score`."
   ]
  },
  {
   "cell_type": "code",
   "execution_count": 10,
   "metadata": {
    "scrolled": true
   },
   "outputs": [
    {
     "data": {
      "text/plain": [
       "tbd    2422\n",
       "7.8     324\n",
       "8       289\n",
       "8.2     281\n",
       "8.3     254\n",
       "       ... \n",
       "1.3       2\n",
       "2.3       2\n",
       "1         2\n",
       "0         1\n",
       "9.7       1\n",
       "Name: user_score, Length: 96, dtype: int64"
      ]
     },
     "execution_count": 10,
     "metadata": {},
     "output_type": "execute_result"
    }
   ],
   "source": [
    "df['user_score'].value_counts()"
   ]
  },
  {
   "cell_type": "markdown",
   "metadata": {},
   "source": [
    "Самое частое значение - tbd (от англ. to be determined - будет определено). На момент выгрузки данные по этим играм ещё не появились. Так как их нет, заменим это значение на NaN (если заменить на 0 - это будет расценено как низкий рейтинг и исказит смысл)."
   ]
  },
  {
   "cell_type": "code",
   "execution_count": 11,
   "metadata": {},
   "outputs": [],
   "source": [
    "df['user_score'] = pd.to_numeric(df['user_score'], errors='coerce')"
   ]
  },
  {
   "cell_type": "code",
   "execution_count": 12,
   "metadata": {
    "scrolled": true
   },
   "outputs": [],
   "source": [
    "df['rating'] = df['rating'].fillna('Без рейтинга')    "
   ]
  },
  {
   "cell_type": "markdown",
   "metadata": {},
   "source": [
    "Посчитаем и добавим в таблицу суммарные продажи по играм по всем регионам."
   ]
  },
  {
   "cell_type": "code",
   "execution_count": 13,
   "metadata": {
    "scrolled": true
   },
   "outputs": [
    {
     "data": {
      "text/html": [
       "<div>\n",
       "<style scoped>\n",
       "    .dataframe tbody tr th:only-of-type {\n",
       "        vertical-align: middle;\n",
       "    }\n",
       "\n",
       "    .dataframe tbody tr th {\n",
       "        vertical-align: top;\n",
       "    }\n",
       "\n",
       "    .dataframe thead th {\n",
       "        text-align: right;\n",
       "    }\n",
       "</style>\n",
       "<table border=\"1\" class=\"dataframe\">\n",
       "  <thead>\n",
       "    <tr style=\"text-align: right;\">\n",
       "      <th></th>\n",
       "      <th>name</th>\n",
       "      <th>platform</th>\n",
       "      <th>year_of_release</th>\n",
       "      <th>genre</th>\n",
       "      <th>na_sales</th>\n",
       "      <th>eu_sales</th>\n",
       "      <th>jp_sales</th>\n",
       "      <th>other_sales</th>\n",
       "      <th>sum_sales</th>\n",
       "      <th>critic_score</th>\n",
       "      <th>user_score</th>\n",
       "      <th>rating</th>\n",
       "    </tr>\n",
       "  </thead>\n",
       "  <tbody>\n",
       "    <tr>\n",
       "      <th>0</th>\n",
       "      <td>Wii Sports</td>\n",
       "      <td>Wii</td>\n",
       "      <td>2006</td>\n",
       "      <td>Sports</td>\n",
       "      <td>41.36</td>\n",
       "      <td>28.96</td>\n",
       "      <td>3.77</td>\n",
       "      <td>8.45</td>\n",
       "      <td>82.54</td>\n",
       "      <td>76.0</td>\n",
       "      <td>8.0</td>\n",
       "      <td>E</td>\n",
       "    </tr>\n",
       "    <tr>\n",
       "      <th>1</th>\n",
       "      <td>Super Mario Bros.</td>\n",
       "      <td>NES</td>\n",
       "      <td>1985</td>\n",
       "      <td>Platform</td>\n",
       "      <td>29.08</td>\n",
       "      <td>3.58</td>\n",
       "      <td>6.81</td>\n",
       "      <td>0.77</td>\n",
       "      <td>40.24</td>\n",
       "      <td>NaN</td>\n",
       "      <td>NaN</td>\n",
       "      <td>Без рейтинга</td>\n",
       "    </tr>\n",
       "    <tr>\n",
       "      <th>2</th>\n",
       "      <td>Mario Kart Wii</td>\n",
       "      <td>Wii</td>\n",
       "      <td>2008</td>\n",
       "      <td>Racing</td>\n",
       "      <td>15.68</td>\n",
       "      <td>12.76</td>\n",
       "      <td>3.79</td>\n",
       "      <td>3.29</td>\n",
       "      <td>35.52</td>\n",
       "      <td>82.0</td>\n",
       "      <td>8.3</td>\n",
       "      <td>E</td>\n",
       "    </tr>\n",
       "    <tr>\n",
       "      <th>3</th>\n",
       "      <td>Wii Sports Resort</td>\n",
       "      <td>Wii</td>\n",
       "      <td>2009</td>\n",
       "      <td>Sports</td>\n",
       "      <td>15.61</td>\n",
       "      <td>10.93</td>\n",
       "      <td>3.28</td>\n",
       "      <td>2.95</td>\n",
       "      <td>32.77</td>\n",
       "      <td>80.0</td>\n",
       "      <td>8.0</td>\n",
       "      <td>E</td>\n",
       "    </tr>\n",
       "    <tr>\n",
       "      <th>4</th>\n",
       "      <td>Pokemon Red/Pokemon Blue</td>\n",
       "      <td>GB</td>\n",
       "      <td>1996</td>\n",
       "      <td>Role-Playing</td>\n",
       "      <td>11.27</td>\n",
       "      <td>8.89</td>\n",
       "      <td>10.22</td>\n",
       "      <td>1.00</td>\n",
       "      <td>31.38</td>\n",
       "      <td>NaN</td>\n",
       "      <td>NaN</td>\n",
       "      <td>Без рейтинга</td>\n",
       "    </tr>\n",
       "  </tbody>\n",
       "</table>\n",
       "</div>"
      ],
      "text/plain": [
       "                       name platform  year_of_release         genre  na_sales  \\\n",
       "0                Wii Sports      Wii             2006        Sports     41.36   \n",
       "1         Super Mario Bros.      NES             1985      Platform     29.08   \n",
       "2            Mario Kart Wii      Wii             2008        Racing     15.68   \n",
       "3         Wii Sports Resort      Wii             2009        Sports     15.61   \n",
       "4  Pokemon Red/Pokemon Blue       GB             1996  Role-Playing     11.27   \n",
       "\n",
       "   eu_sales  jp_sales  other_sales  sum_sales  critic_score  user_score  \\\n",
       "0     28.96      3.77         8.45      82.54          76.0         8.0   \n",
       "1      3.58      6.81         0.77      40.24           NaN         NaN   \n",
       "2     12.76      3.79         3.29      35.52          82.0         8.3   \n",
       "3     10.93      3.28         2.95      32.77          80.0         8.0   \n",
       "4      8.89     10.22         1.00      31.38           NaN         NaN   \n",
       "\n",
       "         rating  \n",
       "0             E  \n",
       "1  Без рейтинга  \n",
       "2             E  \n",
       "3             E  \n",
       "4  Без рейтинга  "
      ]
     },
     "execution_count": 13,
     "metadata": {},
     "output_type": "execute_result"
    }
   ],
   "source": [
    "df['sum_sales'] = df['na_sales'] + df['eu_sales'] + df['jp_sales'] + df['other_sales']\n",
    "df = df[['name', 'platform', 'year_of_release', 'genre', 'na_sales', 'eu_sales', 'jp_sales', 'other_sales', 'sum_sales', 'critic_score', 'user_score', 'rating']]\n",
    "df.head()"
   ]
  },
  {
   "cell_type": "markdown",
   "metadata": {},
   "source": [
    "### Вывод"
   ]
  },
  {
   "cell_type": "markdown",
   "metadata": {},
   "source": [
    "В данных было достаточно большое количество пропусков. Пропуски не носят системный характер. Где было возможно их заполнили. "
   ]
  },
  {
   "cell_type": "markdown",
   "metadata": {},
   "source": [
    "## Исследовательский анализ данных"
   ]
  },
  {
   "cell_type": "markdown",
   "metadata": {},
   "source": [
    "### Количество игр, выпускаемое по годам"
   ]
  },
  {
   "cell_type": "code",
   "execution_count": 14,
   "metadata": {
    "scrolled": true
   },
   "outputs": [
    {
     "data": {
      "image/png": "[encoded data removed]",
      "text/plain": [
       "<Figure size 1440x360 with 1 Axes>"
      ]
     },
     "metadata": {
      "needs_background": "light"
     },
     "output_type": "display_data"
    }
   ],
   "source": [
    "df.groupby('year_of_release')['name'].agg('nunique').plot(kind='bar', figsize=(20,5), grid=True)\n",
    "plt.title('Выпуск игр по годам', fontsize=20)\n",
    "plt.show()"
   ]
  },
  {
   "cell_type": "markdown",
   "metadata": {},
   "source": [
    "С 1980 по 1990 года выпускается максимум по 2-3 десятка игр. С 1991 года наблюдается ежегодное увеличение. С 2002 по 2011 годы пик выпуска игр. С 2012 года количество игр варьируется в районе отметки в 600 игр ежегодно. Активный рост и развитие индустрии идёт с 2002 года, период до 2002 года можно считать становлением и не учитывать его в дальнейшем."
   ]
  },
  {
   "cell_type": "markdown",
   "metadata": {},
   "source": [
    "### Cуммарные продажи по платформам"
   ]
  },
  {
   "cell_type": "code",
   "execution_count": 15,
   "metadata": {
    "scrolled": false
   },
   "outputs": [
    {
     "data": {
      "text/plain": [
       "platform\n",
       "PS2     1254.91\n",
       "X360     970.67\n",
       "PS3      937.99\n",
       "Wii      906.88\n",
       "DS       806.02\n",
       "PS       729.40\n",
       "GBA      317.85\n",
       "PS4      314.14\n",
       "PSP      294.01\n",
       "PC       259.33\n",
       "3DS      258.93\n",
       "XB       257.40\n",
       "GB       255.46\n",
       "NES      251.05\n",
       "N64      218.48\n",
       "SNES     200.04\n",
       "GC       198.93\n",
       "XOne     159.32\n",
       "2600      89.01\n",
       "WiiU      82.19\n",
       "PSV       53.81\n",
       "SAT       33.59\n",
       "GEN       30.77\n",
       "DC        15.95\n",
       "SCD        1.86\n",
       "NG         1.44\n",
       "WS         1.42\n",
       "TG16       0.16\n",
       "3DO        0.10\n",
       "GG         0.04\n",
       "PCFX       0.03\n",
       "Name: sum_sales, dtype: float64"
      ]
     },
     "execution_count": 15,
     "metadata": {},
     "output_type": "execute_result"
    }
   ],
   "source": [
    "df.groupby('platform')['sum_sales'].agg('sum').sort_values(ascending=False)"
   ]
  },
  {
   "cell_type": "markdown",
   "metadata": {},
   "source": [
    "Шесть первых платформ выделяются по продажам на общем фоне."
   ]
  },
  {
   "cell_type": "code",
   "execution_count": 16,
   "metadata": {
    "scrolled": false
   },
   "outputs": [
    {
     "data": {
      "image/png": "[encoded data removed]",
      "text/plain": [
       "<Figure size 1440x360 with 1 Axes>"
      ]
     },
     "metadata": {
      "needs_background": "light"
     },
     "output_type": "display_data"
    }
   ],
   "source": [
    "for x in ['PS2', 'X360', 'PS3', 'Wii', 'DS', 'PS']:\n",
    "    df[df['platform'] == x].groupby('year_of_release')['sum_sales'].agg('sum').plot(label=x, figsize=(20,5), grid=True)\n",
    "plt.legend()\n",
    "plt.title('Продажи платформ по годам', fontsize=20)\n",
    "plt.xlabel('Год выпуска', fontsize=15)\n",
    "plt.ylabel('Продажи, млн.копий', fontsize=15)\n",
    "plt.show()"
   ]
  },
  {
   "cell_type": "markdown",
   "metadata": {},
   "source": [
    "К 2016 году закончился выпуск игр самых успешных платформ. На примере этого графика можно наблюдать сроки их развития и использования. \n",
    "\n",
    "PS3 и X360 появляются в 2005, выходят на пик к 2010-2011 годам, к 2016 году продажи прекращаются. Итого 11 лет.\n",
    "\n",
    "Wii появляется в 2002, в 2015 выпуск игр прекращается; DS используется с 2004 по 2013.  \n",
    "\n",
    "Характерные черты: пика продаж новая платформа достигает к 4-5 году; срок \"жизни\" платформы, в среднем, длится 11 лет."
   ]
  },
  {
   "cell_type": "markdown",
   "metadata": {},
   "source": [
    "### Выбор актуального периода"
   ]
  },
  {
   "cell_type": "markdown",
   "metadata": {},
   "source": [
    "Судя по графику продажи игр, возможны как и резкий рост, так и сильное падение числа выпускаемых игр.  Поэтому за актуальный для дальнейших исследований период возьмём данные за 2015-2016 гг."
   ]
  },
  {
   "cell_type": "code",
   "execution_count": 17,
   "metadata": {
    "scrolled": true
   },
   "outputs": [],
   "source": [
    "df_actual = df.query('year_of_release > 2014')"
   ]
  },
  {
   "cell_type": "markdown",
   "metadata": {},
   "source": [
    "Посмотрим на платформы в актуальном периоде."
   ]
  },
  {
   "cell_type": "code",
   "execution_count": 18,
   "metadata": {},
   "outputs": [
    {
     "data": {
      "text/plain": [
       "platform\n",
       "PS4     188.15\n",
       "XOne     86.29\n",
       "3DS      42.92\n",
       "WiiU     20.95\n",
       "PS3      20.42\n",
       "PC       13.77\n",
       "X360     13.48\n",
       "PSV      10.50\n",
       "Wii       1.32\n",
       "PSP       0.12\n",
       "Name: sum_sales, dtype: float64"
      ]
     },
     "execution_count": 18,
     "metadata": {},
     "output_type": "execute_result"
    }
   ],
   "source": [
    "df_actual.groupby('platform')['sum_sales'].agg('sum').sort_values(ascending=False)"
   ]
  },
  {
   "cell_type": "markdown",
   "metadata": {},
   "source": [
    "PS4 - лидер продаж - 188 млн. копий. Затем XOne - 86 млн. копий."
   ]
  },
  {
   "cell_type": "code",
   "execution_count": 19,
   "metadata": {
    "scrolled": true
   },
   "outputs": [
    {
     "data": {
      "image/png": "[encoded data removed]",
      "text/plain": [
       "<Figure size 1440x360 with 1 Axes>"
      ]
     },
     "metadata": {
      "needs_background": "light"
     },
     "output_type": "display_data"
    }
   ],
   "source": [
    "for x in ['PS4', 'PS3', 'X360', '3DS', 'XOne', 'WiiU', 'PC', 'PSV', 'Wii', 'DS', 'PSP']:\n",
    "    df_actual[df_actual['platform'] == x].groupby('year_of_release')['sum_sales'].agg('sum').plot(label=x, figsize=(20,5), grid=True)\n",
    "plt.legend()\n",
    "plt.title('Продажи платформ по годам', fontsize=20)\n",
    "plt.xlabel('Год выпуска', fontsize=15)\n",
    "plt.ylabel('Продажи, млн.копий', fontsize=15)\n",
    "plt.show()"
   ]
  },
  {
   "cell_type": "markdown",
   "metadata": {},
   "source": [
    "Основная тенденция такова, что продажи всех платформ снижаются к 2016 году. Пока сложно выделить потенциально прибыльные. Посмотрим на более длительном отрезке."
   ]
  },
  {
   "cell_type": "code",
   "execution_count": 20,
   "metadata": {
    "scrolled": true
   },
   "outputs": [
    {
     "data": {
      "image/png": "[encoded data removed]",
      "text/plain": [
       "<Figure size 1440x360 with 1 Axes>"
      ]
     },
     "metadata": {
      "needs_background": "light"
     },
     "output_type": "display_data"
    }
   ],
   "source": [
    "for x in ['PS4', 'PS3', 'X360', '3DS', 'XOne', 'WiiU', 'PC', 'PSV', 'Wii', 'DS', 'PSP']:\n",
    "    df[df['platform'] == x].groupby('year_of_release')['sum_sales'].agg('sum').plot(label=x, figsize=(20,5), grid=True)\n",
    "plt.legend()\n",
    "plt.title('Продажи платформ по годам', fontsize=20)\n",
    "plt.xlabel('Год выпуска', fontsize=15)\n",
    "plt.ylabel('Продажи, млн.копий', fontsize=15)\n",
    "plt.show()"
   ]
  },
  {
   "cell_type": "markdown",
   "metadata": {},
   "source": [
    "К потенциально прибыльным можно отнести PS4 и XOne. Они появились в 2013 году и их \"жизненный\" цикл только начинается.  "
   ]
  },
  {
   "cell_type": "code",
   "execution_count": 21,
   "metadata": {
    "scrolled": false
   },
   "outputs": [
    {
     "data": {
      "image/png": "[encoded data removed]",
      "text/plain": [
       "<Figure size 1440x576 with 1 Axes>"
      ]
     },
     "metadata": {
      "needs_background": "light"
     },
     "output_type": "display_data"
    }
   ],
   "source": [
    "df_actual.boxplot(column='sum_sales',by='platform', figsize=(20,8))\n",
    "plt.ylim(0,1)\n",
    "plt.title('Продажи по платформам в актуальном периоде', fontsize=20)\n",
    "plt.xlabel('Платформа', fontsize=15)\n",
    "plt.ylabel('Продано, млн.копий', fontsize=15)\n",
    "plt.show()"
   ]
  },
  {
   "cell_type": "markdown",
   "metadata": {},
   "source": [
    "Если игра была выпущена на одной из таких популярных платформ, как PS4, WiiU, X360, XOne, у неё выше шансы разойтись большим тиражом. Самое высокое медианное значение у WiiU - чуть более 0,2 млн. копий."
   ]
  },
  {
   "cell_type": "markdown",
   "metadata": {},
   "source": [
    "### Взаимосвязь между отзывами пользователей и критиков с продажами"
   ]
  },
  {
   "cell_type": "code",
   "execution_count": 22,
   "metadata": {},
   "outputs": [
    {
     "data": {
      "image/png": "[encoded data removed]",
      "text/plain": [
       "<Figure size 648x648 with 9 Axes>"
      ]
     },
     "metadata": {
      "needs_background": "light"
     },
     "output_type": "display_data"
    },
    {
     "data": {
      "text/html": [
       "<div>\n",
       "<style scoped>\n",
       "    .dataframe tbody tr th:only-of-type {\n",
       "        vertical-align: middle;\n",
       "    }\n",
       "\n",
       "    .dataframe tbody tr th {\n",
       "        vertical-align: top;\n",
       "    }\n",
       "\n",
       "    .dataframe thead th {\n",
       "        text-align: right;\n",
       "    }\n",
       "</style>\n",
       "<table border=\"1\" class=\"dataframe\">\n",
       "  <thead>\n",
       "    <tr style=\"text-align: right;\">\n",
       "      <th></th>\n",
       "      <th>sum_sales</th>\n",
       "      <th>critic_score</th>\n",
       "      <th>user_score</th>\n",
       "    </tr>\n",
       "  </thead>\n",
       "  <tbody>\n",
       "    <tr>\n",
       "      <th>sum_sales</th>\n",
       "      <td>1.000000</td>\n",
       "      <td>0.392849</td>\n",
       "      <td>-0.059738</td>\n",
       "    </tr>\n",
       "    <tr>\n",
       "      <th>critic_score</th>\n",
       "      <td>0.392849</td>\n",
       "      <td>1.000000</td>\n",
       "      <td>0.533330</td>\n",
       "    </tr>\n",
       "    <tr>\n",
       "      <th>user_score</th>\n",
       "      <td>-0.059738</td>\n",
       "      <td>0.533330</td>\n",
       "      <td>1.000000</td>\n",
       "    </tr>\n",
       "  </tbody>\n",
       "</table>\n",
       "</div>"
      ],
      "text/plain": [
       "              sum_sales  critic_score  user_score\n",
       "sum_sales      1.000000      0.392849   -0.059738\n",
       "critic_score   0.392849      1.000000    0.533330\n",
       "user_score    -0.059738      0.533330    1.000000"
      ]
     },
     "metadata": {},
     "output_type": "display_data"
    },
    {
     "data": {
      "image/png": "[encoded data removed]",
      "text/plain": [
       "<Figure size 432x288 with 2 Axes>"
      ]
     },
     "metadata": {
      "needs_background": "light"
     },
     "output_type": "display_data"
    }
   ],
   "source": [
    "ps4 = df_actual.query('platform == \"PS4\"')[['sum_sales', 'critic_score', 'user_score']]\n",
    "pd.plotting.scatter_matrix(ps4, figsize=(9,9))\n",
    "plt.show()\n",
    "display(ps4.corr())\n",
    "sns.heatmap(ps4.corr(), vmin=-1, vmax=1, annot=True, cmap='BrBG')\n",
    "plt.show()"
   ]
  },
  {
   "cell_type": "markdown",
   "metadata": {},
   "source": [
    "Оценки пользователей никак не взаимосвязаны с продажами; есть некая связь оценок критиков, но она очень слаба, чтобы утверждать об этом уверенно. \n",
    "\n",
    "Сравним эти выводы с данными по другим платформам."
   ]
  },
  {
   "cell_type": "code",
   "execution_count": 23,
   "metadata": {},
   "outputs": [
    {
     "data": {
      "image/png": "[encoded data removed]",
      "text/plain": [
       "<Figure size 602.5x540 with 12 Axes>"
      ]
     },
     "metadata": {
      "needs_background": "light"
     },
     "output_type": "display_data"
    },
    {
     "data": {
      "image/png": "[encoded data removed]",
      "text/plain": [
       "<Figure size 432x288 with 2 Axes>"
      ]
     },
     "metadata": {
      "needs_background": "light"
     },
     "output_type": "display_data"
    },
    {
     "data": {
      "text/html": [
       "<div>\n",
       "<style scoped>\n",
       "    .dataframe tbody tr th:only-of-type {\n",
       "        vertical-align: middle;\n",
       "    }\n",
       "\n",
       "    .dataframe tbody tr th {\n",
       "        vertical-align: top;\n",
       "    }\n",
       "\n",
       "    .dataframe thead th {\n",
       "        text-align: right;\n",
       "    }\n",
       "</style>\n",
       "<table border=\"1\" class=\"dataframe\">\n",
       "  <thead>\n",
       "    <tr style=\"text-align: right;\">\n",
       "      <th></th>\n",
       "      <th>sum_sales</th>\n",
       "      <th>critic_score</th>\n",
       "      <th>user_score</th>\n",
       "    </tr>\n",
       "  </thead>\n",
       "  <tbody>\n",
       "    <tr>\n",
       "      <th>sum_sales</th>\n",
       "      <td>1.000000</td>\n",
       "      <td>0.430889</td>\n",
       "      <td>-0.041467</td>\n",
       "    </tr>\n",
       "    <tr>\n",
       "      <th>critic_score</th>\n",
       "      <td>0.430889</td>\n",
       "      <td>1.000000</td>\n",
       "      <td>0.459443</td>\n",
       "    </tr>\n",
       "    <tr>\n",
       "      <th>user_score</th>\n",
       "      <td>-0.041467</td>\n",
       "      <td>0.459443</td>\n",
       "      <td>1.000000</td>\n",
       "    </tr>\n",
       "  </tbody>\n",
       "</table>\n",
       "</div>"
      ],
      "text/plain": [
       "              sum_sales  critic_score  user_score\n",
       "sum_sales      1.000000      0.430889   -0.041467\n",
       "critic_score   0.430889      1.000000    0.459443\n",
       "user_score    -0.041467      0.459443    1.000000"
      ]
     },
     "metadata": {},
     "output_type": "display_data"
    },
    {
     "data": {
      "image/png": "[encoded data removed]",
      "text/plain": [
       "<Figure size 432x288 with 2 Axes>"
      ]
     },
     "metadata": {
      "needs_background": "light"
     },
     "output_type": "display_data"
    },
    {
     "data": {
      "text/html": [
       "<div>\n",
       "<style scoped>\n",
       "    .dataframe tbody tr th:only-of-type {\n",
       "        vertical-align: middle;\n",
       "    }\n",
       "\n",
       "    .dataframe tbody tr th {\n",
       "        vertical-align: top;\n",
       "    }\n",
       "\n",
       "    .dataframe thead th {\n",
       "        text-align: right;\n",
       "    }\n",
       "</style>\n",
       "<table border=\"1\" class=\"dataframe\">\n",
       "  <thead>\n",
       "    <tr style=\"text-align: right;\">\n",
       "      <th></th>\n",
       "      <th>sum_sales</th>\n",
       "      <th>critic_score</th>\n",
       "      <th>user_score</th>\n",
       "    </tr>\n",
       "  </thead>\n",
       "  <tbody>\n",
       "    <tr>\n",
       "      <th>sum_sales</th>\n",
       "      <td>1.000000</td>\n",
       "      <td>0.177575</td>\n",
       "      <td>0.198796</td>\n",
       "    </tr>\n",
       "    <tr>\n",
       "      <th>critic_score</th>\n",
       "      <td>0.177575</td>\n",
       "      <td>1.000000</td>\n",
       "      <td>0.791853</td>\n",
       "    </tr>\n",
       "    <tr>\n",
       "      <th>user_score</th>\n",
       "      <td>0.198796</td>\n",
       "      <td>0.791853</td>\n",
       "      <td>1.000000</td>\n",
       "    </tr>\n",
       "  </tbody>\n",
       "</table>\n",
       "</div>"
      ],
      "text/plain": [
       "              sum_sales  critic_score  user_score\n",
       "sum_sales      1.000000      0.177575    0.198796\n",
       "critic_score   0.177575      1.000000    0.791853\n",
       "user_score     0.198796      0.791853    1.000000"
      ]
     },
     "metadata": {},
     "output_type": "display_data"
    }
   ],
   "source": [
    "xone = df_actual.query('platform == \"XOne\"')[['sum_sales', 'critic_score', 'user_score']]\n",
    "ds = df_actual.query('platform == \"3DS\"')[['sum_sales', 'critic_score', 'user_score']]\n",
    "sns.pairplot(pd.concat([ps4.assign(hue='PS4'), \n",
    "                        xone.assign(hue='XOne'),\n",
    "                        ds.assign(hue='3DS')]), \n",
    "             hue='hue', \n",
    "             diag_kind='hist', \n",
    "             palette=['k', 'orange', 'green'])\n",
    "plt.show()\n",
    "sns.heatmap(xone.corr(), vmin=-1, vmax=1, annot=True, cmap='BrBG')\n",
    "plt.title('XOne')\n",
    "plt.show()\n",
    "display(xone.corr())\n",
    "sns.heatmap(ds.corr(), vmin=-1, vmax=1, annot=True, cmap='BrBG')\n",
    "plt.title('3DS')\n",
    "plt.show()\n",
    "display(ds.corr())"
   ]
  },
  {
   "cell_type": "markdown",
   "metadata": {},
   "source": [
    "Диаграммы рассеяния и коэффициенты корреляции по платформе XOne показывает чуть большую взаимосвязь, на платформе 3DS связь не найдена."
   ]
  },
  {
   "cell_type": "markdown",
   "metadata": {},
   "source": [
    "### Распределение игр по жанрам"
   ]
  },
  {
   "cell_type": "code",
   "execution_count": 24,
   "metadata": {},
   "outputs": [
    {
     "data": {
      "text/html": [
       "<div>\n",
       "<style scoped>\n",
       "    .dataframe tbody tr th:only-of-type {\n",
       "        vertical-align: middle;\n",
       "    }\n",
       "\n",
       "    .dataframe tbody tr th {\n",
       "        vertical-align: top;\n",
       "    }\n",
       "\n",
       "    .dataframe thead th {\n",
       "        text-align: right;\n",
       "    }\n",
       "</style>\n",
       "<table border=\"1\" class=\"dataframe\">\n",
       "  <thead>\n",
       "    <tr style=\"text-align: right;\">\n",
       "      <th></th>\n",
       "      <th>name</th>\n",
       "    </tr>\n",
       "    <tr>\n",
       "      <th>genre</th>\n",
       "      <th></th>\n",
       "    </tr>\n",
       "  </thead>\n",
       "  <tbody>\n",
       "    <tr>\n",
       "      <th>Action</th>\n",
       "      <td>431</td>\n",
       "    </tr>\n",
       "    <tr>\n",
       "      <th>Role-Playing</th>\n",
       "      <td>132</td>\n",
       "    </tr>\n",
       "    <tr>\n",
       "      <th>Adventure</th>\n",
       "      <td>110</td>\n",
       "    </tr>\n",
       "    <tr>\n",
       "      <th>Sports</th>\n",
       "      <td>107</td>\n",
       "    </tr>\n",
       "    <tr>\n",
       "      <th>Shooter</th>\n",
       "      <td>81</td>\n",
       "    </tr>\n",
       "    <tr>\n",
       "      <th>Misc</th>\n",
       "      <td>71</td>\n",
       "    </tr>\n",
       "    <tr>\n",
       "      <th>Racing</th>\n",
       "      <td>42</td>\n",
       "    </tr>\n",
       "    <tr>\n",
       "      <th>Fighting</th>\n",
       "      <td>37</td>\n",
       "    </tr>\n",
       "    <tr>\n",
       "      <th>Simulation</th>\n",
       "      <td>33</td>\n",
       "    </tr>\n",
       "    <tr>\n",
       "      <th>Strategy</th>\n",
       "      <td>29</td>\n",
       "    </tr>\n",
       "    <tr>\n",
       "      <th>Platform</th>\n",
       "      <td>28</td>\n",
       "    </tr>\n",
       "    <tr>\n",
       "      <th>Puzzle</th>\n",
       "      <td>7</td>\n",
       "    </tr>\n",
       "  </tbody>\n",
       "</table>\n",
       "</div>"
      ],
      "text/plain": [
       "              name\n",
       "genre             \n",
       "Action         431\n",
       "Role-Playing   132\n",
       "Adventure      110\n",
       "Sports         107\n",
       "Shooter         81\n",
       "Misc            71\n",
       "Racing          42\n",
       "Fighting        37\n",
       "Simulation      33\n",
       "Strategy        29\n",
       "Platform        28\n",
       "Puzzle           7"
      ]
     },
     "execution_count": 24,
     "metadata": {},
     "output_type": "execute_result"
    }
   ],
   "source": [
    "df_actual.pivot_table(index='genre', values='name', aggfunc='count').sort_values(by='name', ascending=False)"
   ]
  },
  {
   "cell_type": "markdown",
   "metadata": {},
   "source": [
    "Больше всего игр выпущено в жанре Action - 431 игра, меньше всего - Puzzle - 7 шт."
   ]
  },
  {
   "cell_type": "code",
   "execution_count": 25,
   "metadata": {
    "scrolled": false
   },
   "outputs": [
    {
     "data": {
      "text/html": [
       "<div>\n",
       "<style scoped>\n",
       "    .dataframe tbody tr th:only-of-type {\n",
       "        vertical-align: middle;\n",
       "    }\n",
       "\n",
       "    .dataframe tbody tr th {\n",
       "        vertical-align: top;\n",
       "    }\n",
       "\n",
       "    .dataframe thead th {\n",
       "        text-align: right;\n",
       "    }\n",
       "</style>\n",
       "<table border=\"1\" class=\"dataframe\">\n",
       "  <thead>\n",
       "    <tr style=\"text-align: right;\">\n",
       "      <th></th>\n",
       "      <th>sum_sales</th>\n",
       "    </tr>\n",
       "    <tr>\n",
       "      <th>genre</th>\n",
       "      <th></th>\n",
       "    </tr>\n",
       "  </thead>\n",
       "  <tbody>\n",
       "    <tr>\n",
       "      <th>Shooter</th>\n",
       "      <td>0.380</td>\n",
       "    </tr>\n",
       "    <tr>\n",
       "      <th>Sports</th>\n",
       "      <td>0.120</td>\n",
       "    </tr>\n",
       "    <tr>\n",
       "      <th>Role-Playing</th>\n",
       "      <td>0.115</td>\n",
       "    </tr>\n",
       "    <tr>\n",
       "      <th>Platform</th>\n",
       "      <td>0.100</td>\n",
       "    </tr>\n",
       "    <tr>\n",
       "      <th>Simulation</th>\n",
       "      <td>0.100</td>\n",
       "    </tr>\n",
       "    <tr>\n",
       "      <th>Fighting</th>\n",
       "      <td>0.090</td>\n",
       "    </tr>\n",
       "    <tr>\n",
       "      <th>Action</th>\n",
       "      <td>0.060</td>\n",
       "    </tr>\n",
       "    <tr>\n",
       "      <th>Misc</th>\n",
       "      <td>0.060</td>\n",
       "    </tr>\n",
       "    <tr>\n",
       "      <th>Racing</th>\n",
       "      <td>0.055</td>\n",
       "    </tr>\n",
       "    <tr>\n",
       "      <th>Strategy</th>\n",
       "      <td>0.050</td>\n",
       "    </tr>\n",
       "    <tr>\n",
       "      <th>Adventure</th>\n",
       "      <td>0.030</td>\n",
       "    </tr>\n",
       "    <tr>\n",
       "      <th>Puzzle</th>\n",
       "      <td>0.030</td>\n",
       "    </tr>\n",
       "  </tbody>\n",
       "</table>\n",
       "</div>"
      ],
      "text/plain": [
       "              sum_sales\n",
       "genre                  \n",
       "Shooter           0.380\n",
       "Sports            0.120\n",
       "Role-Playing      0.115\n",
       "Platform          0.100\n",
       "Simulation        0.100\n",
       "Fighting          0.090\n",
       "Action            0.060\n",
       "Misc              0.060\n",
       "Racing            0.055\n",
       "Strategy          0.050\n",
       "Adventure         0.030\n",
       "Puzzle            0.030"
      ]
     },
     "execution_count": 25,
     "metadata": {},
     "output_type": "execute_result"
    }
   ],
   "source": [
    "df_actual.pivot_table(index='genre', values='sum_sales', aggfunc='median').sort_values(by='sum_sales', ascending=False)"
   ]
  },
  {
   "cell_type": "markdown",
   "metadata": {},
   "source": [
    "В среднем, наиболее продаваемые игры принадлежат к жанру Shooter - 0,38 млн копий, затем Sports - 0,12 млн копий, Role-Playing - 0,115 млн копий. Как правило, в этих жанрах присутствует мультиплеерный режим игры, что является дополнительной привлекательной характеристикой для пользователей.\n",
    "\n",
    "Также выделяются и жанры с низкими продажами: Strategy - 0,05 млн копий, Adventure - 0.03 млн копий (по количеству выпускаемых игр жанр входит в ТОП-3), Puzzle - 0,03 млн копий. "
   ]
  },
  {
   "cell_type": "markdown",
   "metadata": {},
   "source": [
    "### Вывод"
   ]
  },
  {
   "cell_type": "markdown",
   "metadata": {},
   "source": [
    "С 1991 года наблюдается ежегодное увеличение выпускаемых игр. В 2002 был резкий рост, с таким же резким падением в 2012 году. Пик выпуска новых игр пришёлся на период 2008-2009 гг.  С 2012 года количество игр варьируется в районе отметки в 600 игр ежегодно.\n",
    "\n",
    "Можно выделить наиболее популярные и успешные платформы с точки зрения количества проданных копий игр по итогу на 2016 год: PS2 - 1254.91; X360 - 970.67; PS3 - 937.99; Wii - 906.88; DS - 806.02; PS - 729.40. \n",
    "\n",
    "Срок \"жизни\" платформы, в среднем, длится 10-11 лет.\n",
    "\n",
    "К потенциально прибыльным можно отнести PS4 и XOne. Они появились в 2013 году и их \"жизненный\" цикл только начинается.\n",
    "\n",
    "Оценки пользователей никак не влияют на высокие продажи игры. Игры, которые высоко оценены критиками, часто хорошо продаются, но так бывает не всегда.\n",
    "\n",
    "За последние два года больше всего игр выпущено в жанре Action - 431 игра, меньше всего - Puzzle - 7 шт. При этом лидеры по среднему количеству проданных копий такие жанры: Shooter - 0,38 млн копий, затем Sports - 0,12 млн копий, Role-Playing - 0,115 млн копий."
   ]
  },
  {
   "cell_type": "markdown",
   "metadata": {},
   "source": [
    "### Портрет пользователя каждого региона"
   ]
  },
  {
   "cell_type": "markdown",
   "metadata": {},
   "source": [
    "#### Популярные платформы по регионам."
   ]
  },
  {
   "cell_type": "code",
   "execution_count": 26,
   "metadata": {
    "scrolled": false
   },
   "outputs": [
    {
     "data": {
      "text/html": [
       "<div>\n",
       "<style scoped>\n",
       "    .dataframe tbody tr th:only-of-type {\n",
       "        vertical-align: middle;\n",
       "    }\n",
       "\n",
       "    .dataframe tbody tr th {\n",
       "        vertical-align: top;\n",
       "    }\n",
       "\n",
       "    .dataframe thead th {\n",
       "        text-align: right;\n",
       "    }\n",
       "</style>\n",
       "<table border=\"1\" class=\"dataframe\">\n",
       "  <thead>\n",
       "    <tr style=\"text-align: right;\">\n",
       "      <th></th>\n",
       "      <th>na_sales</th>\n",
       "    </tr>\n",
       "    <tr>\n",
       "      <th>platform</th>\n",
       "      <th></th>\n",
       "    </tr>\n",
       "  </thead>\n",
       "  <tbody>\n",
       "    <tr>\n",
       "      <th>PS4</th>\n",
       "      <td>63.86</td>\n",
       "    </tr>\n",
       "    <tr>\n",
       "      <th>XOne</th>\n",
       "      <td>50.30</td>\n",
       "    </tr>\n",
       "    <tr>\n",
       "      <th>3DS</th>\n",
       "      <td>10.31</td>\n",
       "    </tr>\n",
       "    <tr>\n",
       "      <th>WiiU</th>\n",
       "      <td>8.86</td>\n",
       "    </tr>\n",
       "    <tr>\n",
       "      <th>X360</th>\n",
       "      <td>8.05</td>\n",
       "    </tr>\n",
       "  </tbody>\n",
       "</table>\n",
       "</div>"
      ],
      "text/plain": [
       "          na_sales\n",
       "platform          \n",
       "PS4          63.86\n",
       "XOne         50.30\n",
       "3DS          10.31\n",
       "WiiU          8.86\n",
       "X360          8.05"
      ]
     },
     "metadata": {},
     "output_type": "display_data"
    },
    {
     "data": {
      "text/html": [
       "<div>\n",
       "<style scoped>\n",
       "    .dataframe tbody tr th:only-of-type {\n",
       "        vertical-align: middle;\n",
       "    }\n",
       "\n",
       "    .dataframe tbody tr th {\n",
       "        vertical-align: top;\n",
       "    }\n",
       "\n",
       "    .dataframe thead th {\n",
       "        text-align: right;\n",
       "    }\n",
       "</style>\n",
       "<table border=\"1\" class=\"dataframe\">\n",
       "  <thead>\n",
       "    <tr style=\"text-align: right;\">\n",
       "      <th></th>\n",
       "      <th>eu_sales</th>\n",
       "    </tr>\n",
       "    <tr>\n",
       "      <th>platform</th>\n",
       "      <th></th>\n",
       "    </tr>\n",
       "  </thead>\n",
       "  <tbody>\n",
       "    <tr>\n",
       "      <th>PS4</th>\n",
       "      <td>83.54</td>\n",
       "    </tr>\n",
       "    <tr>\n",
       "      <th>XOne</th>\n",
       "      <td>28.10</td>\n",
       "    </tr>\n",
       "    <tr>\n",
       "      <th>PC</th>\n",
       "      <td>9.10</td>\n",
       "    </tr>\n",
       "    <tr>\n",
       "      <th>3DS</th>\n",
       "      <td>7.39</td>\n",
       "    </tr>\n",
       "    <tr>\n",
       "      <th>PS3</th>\n",
       "      <td>7.30</td>\n",
       "    </tr>\n",
       "  </tbody>\n",
       "</table>\n",
       "</div>"
      ],
      "text/plain": [
       "          eu_sales\n",
       "platform          \n",
       "PS4          83.54\n",
       "XOne         28.10\n",
       "PC            9.10\n",
       "3DS           7.39\n",
       "PS3           7.30"
      ]
     },
     "metadata": {},
     "output_type": "display_data"
    },
    {
     "data": {
      "text/html": [
       "<div>\n",
       "<style scoped>\n",
       "    .dataframe tbody tr th:only-of-type {\n",
       "        vertical-align: middle;\n",
       "    }\n",
       "\n",
       "    .dataframe tbody tr th {\n",
       "        vertical-align: top;\n",
       "    }\n",
       "\n",
       "    .dataframe thead th {\n",
       "        text-align: right;\n",
       "    }\n",
       "</style>\n",
       "<table border=\"1\" class=\"dataframe\">\n",
       "  <thead>\n",
       "    <tr style=\"text-align: right;\">\n",
       "      <th></th>\n",
       "      <th>jp_sales</th>\n",
       "    </tr>\n",
       "    <tr>\n",
       "      <th>platform</th>\n",
       "      <th></th>\n",
       "    </tr>\n",
       "  </thead>\n",
       "  <tbody>\n",
       "    <tr>\n",
       "      <th>3DS</th>\n",
       "      <td>23.55</td>\n",
       "    </tr>\n",
       "    <tr>\n",
       "      <th>PS4</th>\n",
       "      <td>12.05</td>\n",
       "    </tr>\n",
       "    <tr>\n",
       "      <th>PSV</th>\n",
       "      <td>8.41</td>\n",
       "    </tr>\n",
       "    <tr>\n",
       "      <th>PS3</th>\n",
       "      <td>4.97</td>\n",
       "    </tr>\n",
       "    <tr>\n",
       "      <th>WiiU</th>\n",
       "      <td>4.12</td>\n",
       "    </tr>\n",
       "  </tbody>\n",
       "</table>\n",
       "</div>"
      ],
      "text/plain": [
       "          jp_sales\n",
       "platform          \n",
       "3DS          23.55\n",
       "PS4          12.05\n",
       "PSV           8.41\n",
       "PS3           4.97\n",
       "WiiU          4.12"
      ]
     },
     "metadata": {},
     "output_type": "display_data"
    },
    {
     "data": {
      "image/png": "[encoded data removed]",
      "text/plain": [
       "<Figure size 1296x360 with 3 Axes>"
      ]
     },
     "metadata": {
      "needs_background": "light"
     },
     "output_type": "display_data"
    }
   ],
   "source": [
    "for x in ['na_sales', 'eu_sales', 'jp_sales']:\n",
    "    x = df_actual.pivot_table(index='platform', values=x, aggfunc='sum').sort_values(by=x, ascending=False).head()\n",
    "    display(x)\n",
    "\n",
    "na_sales = df_actual.pivot_table(index='platform', values='na_sales', aggfunc='sum').sort_values(by='na_sales', ascending=False).head()    \n",
    "eu_sales = df_actual.pivot_table(index='platform', values='eu_sales', aggfunc='sum').sort_values(by='eu_sales', ascending=False).head()    \n",
    "jp_sales = df_actual.pivot_table(index='platform', values='jp_sales', aggfunc='sum').sort_values(by='jp_sales', ascending=False).head()    \n",
    "plt.figure(figsize=(18, 5))\n",
    "plt.subplot(1, 3, 1)\n",
    "plt.bar(na_sales.index, na_sales['na_sales'])\n",
    "plt.title('na_sales')\n",
    "plt.subplot(1, 3, 2)\n",
    "plt.bar(eu_sales.index, eu_sales['eu_sales'])\n",
    "plt.title('eu_sales')\n",
    "plt.subplot(1, 3, 3)\n",
    "plt.bar(jp_sales.index, jp_sales['jp_sales'])\n",
    "plt.title('jp_sales')\n",
    "plt.show()    "
   ]
  },
  {
   "cell_type": "markdown",
   "metadata": {},
   "source": [
    "В Северной Америке лидирующее положение занимают две платформы: PS4 - 64 млн проданных копий и XOne - 50 млн копий.\n",
    "\n",
    "В Европе лидеры те же: PS4 и XOne (83 млн копий и 28 млн копий). Среди игр для приставок на третьем месте игры для ПК. В других регионах такого нет.\n",
    "\n",
    "В Японии популярны портативные консоли: 3DS на первом месте - 23 млн копий, PSV на третьем месте - 8 млн копий."
   ]
  },
  {
   "cell_type": "markdown",
   "metadata": {},
   "source": [
    "#### Популярные жанры по регионам."
   ]
  },
  {
   "cell_type": "code",
   "execution_count": 27,
   "metadata": {
    "scrolled": false
   },
   "outputs": [
    {
     "data": {
      "text/html": [
       "<div>\n",
       "<style scoped>\n",
       "    .dataframe tbody tr th:only-of-type {\n",
       "        vertical-align: middle;\n",
       "    }\n",
       "\n",
       "    .dataframe tbody tr th {\n",
       "        vertical-align: top;\n",
       "    }\n",
       "\n",
       "    .dataframe thead th {\n",
       "        text-align: right;\n",
       "    }\n",
       "</style>\n",
       "<table border=\"1\" class=\"dataframe\">\n",
       "  <thead>\n",
       "    <tr style=\"text-align: right;\">\n",
       "      <th></th>\n",
       "      <th>na_sales</th>\n",
       "    </tr>\n",
       "    <tr>\n",
       "      <th>genre</th>\n",
       "      <th></th>\n",
       "    </tr>\n",
       "  </thead>\n",
       "  <tbody>\n",
       "    <tr>\n",
       "      <th>Shooter</th>\n",
       "      <td>48.18</td>\n",
       "    </tr>\n",
       "    <tr>\n",
       "      <th>Action</th>\n",
       "      <td>33.68</td>\n",
       "    </tr>\n",
       "    <tr>\n",
       "      <th>Sports</th>\n",
       "      <td>26.31</td>\n",
       "    </tr>\n",
       "    <tr>\n",
       "      <th>Role-Playing</th>\n",
       "      <td>19.82</td>\n",
       "    </tr>\n",
       "    <tr>\n",
       "      <th>Misc</th>\n",
       "      <td>5.58</td>\n",
       "    </tr>\n",
       "  </tbody>\n",
       "</table>\n",
       "</div>"
      ],
      "text/plain": [
       "              na_sales\n",
       "genre                 \n",
       "Shooter          48.18\n",
       "Action           33.68\n",
       "Sports           26.31\n",
       "Role-Playing     19.82\n",
       "Misc              5.58"
      ]
     },
     "metadata": {},
     "output_type": "display_data"
    },
    {
     "data": {
      "text/html": [
       "<div>\n",
       "<style scoped>\n",
       "    .dataframe tbody tr th:only-of-type {\n",
       "        vertical-align: middle;\n",
       "    }\n",
       "\n",
       "    .dataframe tbody tr th {\n",
       "        vertical-align: top;\n",
       "    }\n",
       "\n",
       "    .dataframe thead th {\n",
       "        text-align: right;\n",
       "    }\n",
       "</style>\n",
       "<table border=\"1\" class=\"dataframe\">\n",
       "  <thead>\n",
       "    <tr style=\"text-align: right;\">\n",
       "      <th></th>\n",
       "      <th>eu_sales</th>\n",
       "    </tr>\n",
       "    <tr>\n",
       "      <th>genre</th>\n",
       "      <th></th>\n",
       "    </tr>\n",
       "  </thead>\n",
       "  <tbody>\n",
       "    <tr>\n",
       "      <th>Shooter</th>\n",
       "      <td>40.28</td>\n",
       "    </tr>\n",
       "    <tr>\n",
       "      <th>Action</th>\n",
       "      <td>34.82</td>\n",
       "    </tr>\n",
       "    <tr>\n",
       "      <th>Sports</th>\n",
       "      <td>27.82</td>\n",
       "    </tr>\n",
       "    <tr>\n",
       "      <th>Role-Playing</th>\n",
       "      <td>17.21</td>\n",
       "    </tr>\n",
       "    <tr>\n",
       "      <th>Racing</th>\n",
       "      <td>6.52</td>\n",
       "    </tr>\n",
       "  </tbody>\n",
       "</table>\n",
       "</div>"
      ],
      "text/plain": [
       "              eu_sales\n",
       "genre                 \n",
       "Shooter          40.28\n",
       "Action           34.82\n",
       "Sports           27.82\n",
       "Role-Playing     17.21\n",
       "Racing            6.52"
      ]
     },
     "metadata": {},
     "output_type": "display_data"
    },
    {
     "data": {
      "text/html": [
       "<div>\n",
       "<style scoped>\n",
       "    .dataframe tbody tr th:only-of-type {\n",
       "        vertical-align: middle;\n",
       "    }\n",
       "\n",
       "    .dataframe tbody tr th {\n",
       "        vertical-align: top;\n",
       "    }\n",
       "\n",
       "    .dataframe thead th {\n",
       "        text-align: right;\n",
       "    }\n",
       "</style>\n",
       "<table border=\"1\" class=\"dataframe\">\n",
       "  <thead>\n",
       "    <tr style=\"text-align: right;\">\n",
       "      <th></th>\n",
       "      <th>jp_sales</th>\n",
       "    </tr>\n",
       "    <tr>\n",
       "      <th>genre</th>\n",
       "      <th></th>\n",
       "    </tr>\n",
       "  </thead>\n",
       "  <tbody>\n",
       "    <tr>\n",
       "      <th>Action</th>\n",
       "      <td>23.05</td>\n",
       "    </tr>\n",
       "    <tr>\n",
       "      <th>Role-Playing</th>\n",
       "      <td>13.41</td>\n",
       "    </tr>\n",
       "    <tr>\n",
       "      <th>Shooter</th>\n",
       "      <td>3.79</td>\n",
       "    </tr>\n",
       "    <tr>\n",
       "      <th>Misc</th>\n",
       "      <td>3.19</td>\n",
       "    </tr>\n",
       "    <tr>\n",
       "      <th>Adventure</th>\n",
       "      <td>2.22</td>\n",
       "    </tr>\n",
       "  </tbody>\n",
       "</table>\n",
       "</div>"
      ],
      "text/plain": [
       "              jp_sales\n",
       "genre                 \n",
       "Action           23.05\n",
       "Role-Playing     13.41\n",
       "Shooter           3.79\n",
       "Misc              3.19\n",
       "Adventure         2.22"
      ]
     },
     "metadata": {},
     "output_type": "display_data"
    },
    {
     "data": {
      "image/png": "[encoded data removed]",
      "text/plain": [
       "<Figure size 1296x360 with 3 Axes>"
      ]
     },
     "metadata": {
      "needs_background": "light"
     },
     "output_type": "display_data"
    }
   ],
   "source": [
    "for x in ['na_sales', 'eu_sales', 'jp_sales']:\n",
    "    x = df_actual.pivot_table(index='genre', values=x, aggfunc='sum').sort_values(by=x, ascending=False).head()\n",
    "    display(x)\n",
    "\n",
    "na_sales = df_actual.pivot_table(index='genre', values='na_sales', aggfunc='sum').sort_values(by='na_sales', ascending=False).head()    \n",
    "eu_sales = df_actual.pivot_table(index='genre', values='eu_sales', aggfunc='sum').sort_values(by='eu_sales', ascending=False).head()    \n",
    "jp_sales = df_actual.pivot_table(index='genre', values='jp_sales', aggfunc='sum').sort_values(by='jp_sales', ascending=False).head()    \n",
    "plt.figure(figsize=(18, 5))\n",
    "plt.subplot(1, 3, 1)\n",
    "plt.bar(na_sales.index, na_sales['na_sales'])\n",
    "plt.title('na_sales')\n",
    "plt.subplot(1, 3, 2)\n",
    "plt.bar(eu_sales.index, eu_sales['eu_sales'])\n",
    "plt.title('eu_sales')\n",
    "plt.subplot(1, 3, 3)\n",
    "plt.bar(jp_sales.index, jp_sales['jp_sales'])\n",
    "plt.title('jp_sales')\n",
    "plt.show()"
   ]
  },
  {
   "cell_type": "markdown",
   "metadata": {},
   "source": [
    "В Северной Америке и Европе практически одинаковые жанровые предпочтения: Shooter, Action, Sports, Role-Playing. Единственное различие на пятом месте в Северной Америке Misc, в Европе - Racing.\n",
    "\n",
    "В Японии популярные жанры немного отличаются набором и соотношением. Сильно популярны Action и Role-Playing; Shooter, Misc, Adventure заметно уступают в популярности."
   ]
  },
  {
   "cell_type": "markdown",
   "metadata": {},
   "source": [
    "#### Влияние рейтинга ESRB на продажи в отдельном регионе."
   ]
  },
  {
   "cell_type": "code",
   "execution_count": 28,
   "metadata": {
    "scrolled": false
   },
   "outputs": [
    {
     "data": {
      "image/png": "[encoded data removed]",
      "text/plain": [
       "<Figure size 1440x360 with 1 Axes>"
      ]
     },
     "metadata": {
      "needs_background": "light"
     },
     "output_type": "display_data"
    },
    {
     "data": {
      "image/png": "[encoded data removed]",
      "text/plain": [
       "<Figure size 1440x360 with 1 Axes>"
      ]
     },
     "metadata": {
      "needs_background": "light"
     },
     "output_type": "display_data"
    },
    {
     "data": {
      "image/png": "[encoded data removed]",
      "text/plain": [
       "<Figure size 1440x360 with 1 Axes>"
      ]
     },
     "metadata": {
      "needs_background": "light"
     },
     "output_type": "display_data"
    }
   ],
   "source": [
    "for x in ['na_sales', 'eu_sales', 'jp_sales']:\n",
    "    df_actual.groupby('rating')[x].agg('sum').plot(kind='bar', figsize=(20,5), grid=True)\n",
    "    plt.title(f'Продажа игр по рейтингам, {x}', fontsize=20)\n",
    "    plt.xlabel('Рейтинг', fontsize=15)\n",
    "    plt.ylabel('Продажи, млн копий', fontsize=15)\n",
    "    plt.show()"
   ]
  },
  {
   "cell_type": "markdown",
   "metadata": {},
   "source": [
    "В Северной Америке лидируют игры с рейтингом \"М\" (\"для взрослых\") - около 48 млн копий. Второе место занимают игры  \"Без рейтинга\" - 38 млн копий. В Европе схожая картина. Лидируют игры с рейтингом \"М\" - около 45 млн копий, затем \"Е\" и \"Без рейтинга\" - по 35 млн. копий. Самые низкие продажи у игр с рейтингом \"E10+\": в Северной Америке - 19 млн копий, в Европе - 11 млн копий.\n",
    "\n",
    "В Японии картина совершенно другая. Лидируют продажи игр \"Без рейтинга\" - около 35 млн копий, продажи игр остальных рейтингов колеблются от 4 до 7 млн копий.\n",
    "\n",
    "Игры в которых не указан рейтинг занимают большую долю в продажах. Для планирования выпуска игры необходимы уточнённые данные, которые бы раскрывали входящие туда игры."
   ]
  },
  {
   "cell_type": "markdown",
   "metadata": {},
   "source": [
    "## Проверка гипотез"
   ]
  },
  {
   "cell_type": "markdown",
   "metadata": {},
   "source": [
    "### Средние пользовательские рейтинги платформ Xbox One и PC одинаковые"
   ]
  },
  {
   "cell_type": "markdown",
   "metadata": {},
   "source": [
    "Нулевая гипотеза: средние пользовательские рейтинги платформ Xbox One и PC одинаковые.\n",
    "    \n",
    "Альтернативная гипотеза: средние пользовательские рейтинги платформ Xbox One и PC различаются.    "
   ]
  },
  {
   "cell_type": "code",
   "execution_count": 29,
   "metadata": {},
   "outputs": [
    {
     "name": "stdout",
     "output_type": "stream",
     "text": [
      "p-значение:  0.2778542084733835\n",
      "Не получилось отвергнуть нулевую гипотезу\n"
     ]
    }
   ],
   "source": [
    "df_actual = df_actual.dropna(subset=['user_score'])\n",
    "x_one = df_actual.query('platform == \"XOne\"')\n",
    "pc = df_actual.query('platform == \"PC\"')\n",
    "alpha = .05\n",
    "results = st.ttest_ind(x_one['user_score'], pc['user_score'])\n",
    "print('p-значение: ', results.pvalue)\n",
    "\n",
    "if results.pvalue < alpha:\n",
    "    print(\"Отвергаем нулевую гипотезу\")\n",
    "else:\n",
    "    print(\"Не получилось отвергнуть нулевую гипотезу\") "
   ]
  },
  {
   "cell_type": "markdown",
   "metadata": {},
   "source": [
    "Полученное значение p-value говорит о том, что вероятность получить такое или большее различие случайно почти 30%. Это слишком большая вероятность, чтобы делать вывод о значимом различии между оценками пользователей двух платформ."
   ]
  },
  {
   "cell_type": "markdown",
   "metadata": {},
   "source": [
    "### Средние пользовательские рейтинги жанров Action (англ. «действие», экшен\u0002игры) и Sports (англ. «спортивные соревнования») разные\n"
   ]
  },
  {
   "cell_type": "markdown",
   "metadata": {},
   "source": [
    "Нулевая гипотеза: средние пользовательские рейтинги жанров Action (англ. «действие», экшен\u0002игры) и Sports (англ. «спортивные соревнования») одинаковые.\n",
    "\n",
    "Альтернативная гипотеза: средние пользовательские рейтинги жанров Action (англ. «действие», экшен\u0002игры) и Sports (англ. «спортивные соревнования») различаются."
   ]
  },
  {
   "cell_type": "code",
   "execution_count": 30,
   "metadata": {},
   "outputs": [
    {
     "name": "stdout",
     "output_type": "stream",
     "text": [
      "p-значение:  1.0012846807938657e-13\n",
      "Отвергаем нулевую гипотезу\n"
     ]
    }
   ],
   "source": [
    "action = df_actual.query('genre == \"Action\"')\n",
    "sports = df_actual.query('genre == \"Sports\"')\n",
    "alpha = .05\n",
    "results = st.ttest_ind(action['user_score'], sports['user_score'])\n",
    "print('p-значение: ', results.pvalue)\n",
    "\n",
    "if results.pvalue < alpha:\n",
    "    print(\"Отвергаем нулевую гипотезу\")\n",
    "else:\n",
    "    print(\"Не получилось отвергнуть нулевую гипотезу\")"
   ]
  },
  {
   "cell_type": "markdown",
   "metadata": {},
   "source": [
    "Полученное значение p-value говорит о том, что вероятность получить такое или большее различие случайно крайне низка. Признаём верной альтернативную гипотезу."
   ]
  },
  {
   "cell_type": "markdown",
   "metadata": {},
   "source": [
    "## Общий вывод"
   ]
  },
  {
   "cell_type": "markdown",
   "metadata": {},
   "source": [
    "В процессе выполнения работы было сделано следующее:\n",
    "- ознакомились с полученными данными на предмет соответствия стоящей перед нами задачей,\n",
    "- где это было возможно и целесообразно вставили пропущенные значения,\n",
    "- посчитали и записали в отдельный столбец суммарные продажи во всех регионах,\n",
    "- рассмотрели сколько игр выпускалось в разные годы,\n",
    "- рассмотрели продажи по платформам,\n",
    "- рассмотрели взаимосвязь отзывов пользователей и критиков с продажами,\n",
    "- рассмотрели распределение игр по жанрам,\n",
    "- составили портрет пользователя каждого региона,\n",
    "- проверили гипотезы.\n",
    "\n",
    "В ходе изучения данных установили:\n",
    "- актуальный период, данные которого наиболее полно характеризуют тенденции настоящего и ближайшего будущего. В нашем случае это период 2015-2016 годов.\n",
    "- средний срок \"жизни\" платформы длится около 11 лет; пика продаж новая платформа достигает к 4-5 году с момента появления,\n",
    "- на основании рассмотрения продаж по платформам в актуальном периоде выделили две потенциально прибыльные платформы: PS4 и XOne,\n",
    "- оценки пользователей никак не взаимосвязаны с продажами; есть некая связь оценок критиков, но она очень слаба, чтобы утверждать об этом уверенно,\n",
    "- больше всего игр выпущено в жанре Action - 431 игра, меньше всего - Puzzle - 7 шт.,\n",
    "- в среднем, наиболее продаваемые игры принадлежат к жанру Shooter - 0,38 млн копий, затем Sports - 0,12 млн копий, Role-Playing - 0,115 млн копий. Также выделяются и жанры с низкими продажами: Strategy - 0,05 млн копий, Adventure - 0.03 млн копий, Puzzle - 0,03 млн копий,\n",
    "- портрет пользователя североамериканского региона: преобладающее использование игр на платформах PS4 - 64 млн копий и XOne - 50 млн копий; популярные жанры: Shooter, Action, Sports, Role-Playing; преобладают игры с рейтингом \"M\" - около 48 млн копий,\n",
    "- портрет пользователя европейского региона: преобладающее использование игр на платформе PS4 - 83 млн копий; популярные жанры: Shooter, Action, Sports, Role-Playing; преобладают игры с рейтингом \"M\" - около 45 млн копий,\n",
    "- портрет японского пользователя: популярны портативные консоли: 3DS на первом месте - 23 млн копий, PSV на третьем месте - 8 млн копий; популярные жанры: Action и Role-Playing; преобладают игры \"Без рейтинга\" - около 35 млн копий,\n",
    "- в ходе проверки гипотез пришли к тому, что: средние пользовательские рейтинги платформ Xbox One и PC одинаковые, средние пользовательские рейтинги жанров Action (англ. «действие», экшен\u0002игры) и Sports (англ. «спортивные соревнования») различаются. \n"
   ]
  }
 ],
 "metadata": {
  "ExecuteTimeLog": [
   {
    "duration": 851,
    "start_time": "2022-02-28T13:31:42.518Z"
   },
   {
    "duration": 218,
    "start_time": "2022-02-28T13:31:51.606Z"
   },
   {
    "duration": 1450,
    "start_time": "2022-02-28T13:33:58.490Z"
   },
   {
    "duration": 38,
    "start_time": "2022-02-28T13:37:00.393Z"
   },
   {
    "duration": 38,
    "start_time": "2022-02-28T13:37:14.368Z"
   },
   {
    "duration": 51,
    "start_time": "2022-02-28T13:38:17.001Z"
   },
   {
    "duration": 796,
    "start_time": "2022-03-02T09:06:46.420Z"
   },
   {
    "duration": 161,
    "start_time": "2022-03-02T09:13:01.269Z"
   },
   {
    "duration": 6,
    "start_time": "2022-03-02T09:16:06.263Z"
   },
   {
    "duration": 322,
    "start_time": "2022-03-02T09:16:35.671Z"
   },
   {
    "duration": 259,
    "start_time": "2022-03-02T09:22:15.548Z"
   },
   {
    "duration": 69,
    "start_time": "2022-03-02T09:22:30.433Z"
   },
   {
    "duration": 218,
    "start_time": "2022-03-02T09:22:30.505Z"
   },
   {
    "duration": 222,
    "start_time": "2022-03-02T09:22:59.696Z"
   },
   {
    "duration": 4,
    "start_time": "2022-03-02T09:25:24.216Z"
   },
   {
    "duration": 4,
    "start_time": "2022-03-02T09:25:33.888Z"
   },
   {
    "duration": 6,
    "start_time": "2022-03-02T09:25:44.006Z"
   },
   {
    "duration": 71,
    "start_time": "2022-03-02T09:26:26.891Z"
   },
   {
    "duration": 264,
    "start_time": "2022-03-02T10:22:10.640Z"
   },
   {
    "duration": 36,
    "start_time": "2022-03-02T10:23:54.964Z"
   },
   {
    "duration": 22,
    "start_time": "2022-03-02T10:41:52.565Z"
   },
   {
    "duration": 22,
    "start_time": "2022-03-02T10:42:23.769Z"
   },
   {
    "duration": 21,
    "start_time": "2022-03-02T10:42:41.598Z"
   },
   {
    "duration": 19,
    "start_time": "2022-03-02T10:43:02.390Z"
   },
   {
    "duration": 21,
    "start_time": "2022-03-02T10:43:22.173Z"
   },
   {
    "duration": 22,
    "start_time": "2022-03-02T10:44:23.882Z"
   },
   {
    "duration": 21,
    "start_time": "2022-03-02T10:44:55.350Z"
   },
   {
    "duration": 14,
    "start_time": "2022-03-02T10:45:08.166Z"
   },
   {
    "duration": 23,
    "start_time": "2022-03-02T10:45:13.674Z"
   },
   {
    "duration": 19,
    "start_time": "2022-03-02T10:45:23.251Z"
   },
   {
    "duration": 20,
    "start_time": "2022-03-02T10:45:44.699Z"
   },
   {
    "duration": 23,
    "start_time": "2022-03-02T11:01:31.536Z"
   },
   {
    "duration": 32,
    "start_time": "2022-03-02T11:01:45.429Z"
   },
   {
    "duration": 22,
    "start_time": "2022-03-02T11:02:24.184Z"
   },
   {
    "duration": 22,
    "start_time": "2022-03-02T11:02:35.565Z"
   },
   {
    "duration": 32,
    "start_time": "2022-03-02T11:02:45.628Z"
   },
   {
    "duration": 20,
    "start_time": "2022-03-02T11:03:52.209Z"
   },
   {
    "duration": 20,
    "start_time": "2022-03-02T11:04:08.225Z"
   },
   {
    "duration": 83,
    "start_time": "2022-03-02T11:04:57.457Z"
   },
   {
    "duration": 20,
    "start_time": "2022-03-02T11:05:17.909Z"
   },
   {
    "duration": 19,
    "start_time": "2022-03-02T11:05:31.569Z"
   },
   {
    "duration": 19,
    "start_time": "2022-03-02T11:05:40.986Z"
   },
   {
    "duration": 20,
    "start_time": "2022-03-02T11:05:52.519Z"
   },
   {
    "duration": 20,
    "start_time": "2022-03-02T11:06:11.078Z"
   },
   {
    "duration": 32,
    "start_time": "2022-03-02T11:07:00.031Z"
   },
   {
    "duration": 13,
    "start_time": "2022-03-02T11:07:29.958Z"
   },
   {
    "duration": 12,
    "start_time": "2022-03-02T11:08:40.187Z"
   },
   {
    "duration": 12,
    "start_time": "2022-03-02T11:09:20.191Z"
   },
   {
    "duration": 10,
    "start_time": "2022-03-02T11:14:19.481Z"
   },
   {
    "duration": 19,
    "start_time": "2022-03-02T11:14:32.213Z"
   },
   {
    "duration": 12,
    "start_time": "2022-03-02T11:16:03.509Z"
   },
   {
    "duration": 14,
    "start_time": "2022-03-02T11:17:00.575Z"
   },
   {
    "duration": 18,
    "start_time": "2022-03-02T11:17:48.894Z"
   },
   {
    "duration": 13,
    "start_time": "2022-03-02T11:35:18.123Z"
   },
   {
    "duration": 65,
    "start_time": "2022-03-02T11:35:25.679Z"
   },
   {
    "duration": 6,
    "start_time": "2022-03-02T11:35:25.746Z"
   },
   {
    "duration": 30,
    "start_time": "2022-03-02T11:35:25.755Z"
   },
   {
    "duration": 20,
    "start_time": "2022-03-02T11:35:25.788Z"
   },
   {
    "duration": 53,
    "start_time": "2022-03-02T11:35:25.810Z"
   },
   {
    "duration": 33,
    "start_time": "2022-03-02T11:35:25.866Z"
   },
   {
    "duration": 14,
    "start_time": "2022-03-02T11:35:25.902Z"
   },
   {
    "duration": 78,
    "start_time": "2022-03-02T11:50:27.432Z"
   },
   {
    "duration": 94,
    "start_time": "2022-03-02T11:51:26.425Z"
   },
   {
    "duration": 80,
    "start_time": "2022-03-02T11:51:54.196Z"
   },
   {
    "duration": 89,
    "start_time": "2022-03-02T11:53:20.345Z"
   },
   {
    "duration": 156,
    "start_time": "2022-03-02T11:53:39.885Z"
   },
   {
    "duration": 94,
    "start_time": "2022-03-02T11:54:01.077Z"
   },
   {
    "duration": 507,
    "start_time": "2022-03-02T11:54:30.965Z"
   },
   {
    "duration": 487,
    "start_time": "2022-03-02T11:54:50.833Z"
   },
   {
    "duration": 495,
    "start_time": "2022-03-02T11:55:24.065Z"
   },
   {
    "duration": 466,
    "start_time": "2022-03-02T11:55:41.517Z"
   },
   {
    "duration": 13,
    "start_time": "2022-03-02T11:55:58.025Z"
   },
   {
    "duration": 20,
    "start_time": "2022-03-02T11:56:50.790Z"
   },
   {
    "duration": 72,
    "start_time": "2022-03-02T12:12:07.411Z"
   },
   {
    "duration": 414,
    "start_time": "2022-03-02T12:12:22.304Z"
   },
   {
    "duration": 411,
    "start_time": "2022-03-02T12:13:00.348Z"
   },
   {
    "duration": 71,
    "start_time": "2022-03-02T13:09:35.708Z"
   },
   {
    "duration": 501,
    "start_time": "2022-03-02T13:09:51.672Z"
   },
   {
    "duration": 82,
    "start_time": "2022-03-02T13:23:23.525Z"
   },
   {
    "duration": 77,
    "start_time": "2022-03-02T13:23:28.761Z"
   },
   {
    "duration": 95,
    "start_time": "2022-03-02T13:40:00.975Z"
   },
   {
    "duration": 458,
    "start_time": "2022-03-02T13:40:13.802Z"
   },
   {
    "duration": 450,
    "start_time": "2022-03-02T13:40:29.393Z"
   },
   {
    "duration": 16,
    "start_time": "2022-03-02T13:40:29.846Z"
   },
   {
    "duration": 19,
    "start_time": "2022-03-02T13:40:29.864Z"
   },
   {
    "duration": 27,
    "start_time": "2022-03-02T13:41:35.683Z"
   },
   {
    "duration": 12,
    "start_time": "2022-03-02T13:41:42.317Z"
   },
   {
    "duration": 71,
    "start_time": "2022-03-02T13:41:48.535Z"
   },
   {
    "duration": 6,
    "start_time": "2022-03-02T13:41:48.610Z"
   },
   {
    "duration": 45,
    "start_time": "2022-03-02T13:41:48.619Z"
   },
   {
    "duration": 49,
    "start_time": "2022-03-02T13:41:48.667Z"
   },
   {
    "duration": 55,
    "start_time": "2022-03-02T13:41:48.720Z"
   },
   {
    "duration": 22,
    "start_time": "2022-03-02T13:41:48.778Z"
   },
   {
    "duration": 54,
    "start_time": "2022-03-02T13:41:48.803Z"
   },
   {
    "duration": 504,
    "start_time": "2022-03-02T13:41:48.861Z"
   },
   {
    "duration": 15,
    "start_time": "2022-03-02T13:41:49.368Z"
   },
   {
    "duration": 19,
    "start_time": "2022-03-02T13:41:49.385Z"
   },
   {
    "duration": 14,
    "start_time": "2022-03-02T13:46:00.744Z"
   },
   {
    "duration": 22,
    "start_time": "2022-03-02T13:46:45.572Z"
   },
   {
    "duration": 30,
    "start_time": "2022-03-02T13:50:05.946Z"
   },
   {
    "duration": 456,
    "start_time": "2022-03-02T13:53:55.175Z"
   },
   {
    "duration": 455,
    "start_time": "2022-03-02T13:54:07.787Z"
   },
   {
    "duration": 17,
    "start_time": "2022-03-02T13:54:08.245Z"
   },
   {
    "duration": 28,
    "start_time": "2022-03-02T13:54:08.265Z"
   },
   {
    "duration": 12,
    "start_time": "2022-03-02T13:54:08.296Z"
   },
   {
    "duration": 277,
    "start_time": "2022-03-02T13:55:46.136Z"
   },
   {
    "duration": 262,
    "start_time": "2022-03-02T13:57:26.628Z"
   },
   {
    "duration": 236,
    "start_time": "2022-03-02T13:57:38.588Z"
   },
   {
    "duration": 272,
    "start_time": "2022-03-02T13:58:02.264Z"
   },
   {
    "duration": 226,
    "start_time": "2022-03-02T13:58:24.008Z"
   },
   {
    "duration": 66,
    "start_time": "2022-03-02T13:58:31.936Z"
   },
   {
    "duration": 6,
    "start_time": "2022-03-02T13:58:32.005Z"
   },
   {
    "duration": 37,
    "start_time": "2022-03-02T13:58:32.014Z"
   },
   {
    "duration": 30,
    "start_time": "2022-03-02T13:58:32.054Z"
   },
   {
    "duration": 41,
    "start_time": "2022-03-02T13:58:32.087Z"
   },
   {
    "duration": 462,
    "start_time": "2022-03-02T13:58:32.151Z"
   },
   {
    "duration": 228,
    "start_time": "2022-03-02T13:58:32.615Z"
   },
   {
    "duration": 1476,
    "start_time": "2022-03-02T13:58:31.370Z"
   },
   {
    "duration": 1473,
    "start_time": "2022-03-02T13:58:31.375Z"
   },
   {
    "duration": 462,
    "start_time": "2022-03-02T13:59:56.921Z"
   },
   {
    "duration": 21,
    "start_time": "2022-03-02T14:00:41.073Z"
   },
   {
    "duration": 20,
    "start_time": "2022-03-02T14:00:58.024Z"
   },
   {
    "duration": 446,
    "start_time": "2022-03-02T14:02:25.017Z"
   },
   {
    "duration": 22,
    "start_time": "2022-03-02T14:02:25.465Z"
   },
   {
    "duration": 237,
    "start_time": "2022-03-02T14:02:25.489Z"
   },
   {
    "duration": 1493,
    "start_time": "2022-03-02T14:02:24.235Z"
   },
   {
    "duration": 1492,
    "start_time": "2022-03-02T14:02:24.238Z"
   },
   {
    "duration": 463,
    "start_time": "2022-03-02T14:02:43.146Z"
   },
   {
    "duration": 21,
    "start_time": "2022-03-02T14:02:43.611Z"
   },
   {
    "duration": 272,
    "start_time": "2022-03-02T14:02:43.635Z"
   },
   {
    "duration": 1477,
    "start_time": "2022-03-02T14:02:42.433Z"
   },
   {
    "duration": 1474,
    "start_time": "2022-03-02T14:02:42.437Z"
   },
   {
    "duration": 8,
    "start_time": "2022-03-02T14:05:48.094Z"
   },
   {
    "duration": 9,
    "start_time": "2022-03-02T14:06:00.123Z"
   },
   {
    "duration": 241,
    "start_time": "2022-03-02T14:06:07.239Z"
   },
   {
    "duration": 239,
    "start_time": "2022-03-02T14:06:24.819Z"
   },
   {
    "duration": 251,
    "start_time": "2022-03-02T14:06:53.687Z"
   },
   {
    "duration": 8,
    "start_time": "2022-03-02T14:07:18.875Z"
   },
   {
    "duration": 259,
    "start_time": "2022-03-02T14:07:58.431Z"
   },
   {
    "duration": 8,
    "start_time": "2022-03-02T14:11:06.624Z"
   },
   {
    "duration": 9,
    "start_time": "2022-03-02T14:11:11.256Z"
   },
   {
    "duration": 104,
    "start_time": "2022-03-02T14:15:26.253Z"
   },
   {
    "duration": 473,
    "start_time": "2022-03-02T14:15:56.354Z"
   },
   {
    "duration": 452,
    "start_time": "2022-03-02T14:16:04.214Z"
   },
   {
    "duration": 21,
    "start_time": "2022-03-02T14:16:04.669Z"
   },
   {
    "duration": 8,
    "start_time": "2022-03-02T14:16:04.692Z"
   },
   {
    "duration": 256,
    "start_time": "2022-03-02T14:16:04.703Z"
   },
   {
    "duration": 1479,
    "start_time": "2022-03-02T14:16:03.482Z"
   },
   {
    "duration": 1474,
    "start_time": "2022-03-02T14:16:03.489Z"
   },
   {
    "duration": 450,
    "start_time": "2022-03-02T14:16:53.118Z"
   },
   {
    "duration": 21,
    "start_time": "2022-03-02T14:16:58.090Z"
   },
   {
    "duration": 8,
    "start_time": "2022-03-02T14:17:06.450Z"
   },
   {
    "duration": 64,
    "start_time": "2022-03-02T14:17:15.364Z"
   },
   {
    "duration": 6,
    "start_time": "2022-03-02T14:17:15.430Z"
   },
   {
    "duration": 17,
    "start_time": "2022-03-02T14:17:15.439Z"
   },
   {
    "duration": 23,
    "start_time": "2022-03-02T14:17:15.459Z"
   },
   {
    "duration": 34,
    "start_time": "2022-03-02T14:17:15.484Z"
   },
   {
    "duration": 467,
    "start_time": "2022-03-02T14:17:15.552Z"
   },
   {
    "duration": 32,
    "start_time": "2022-03-02T14:17:16.022Z"
   },
   {
    "duration": 11,
    "start_time": "2022-03-02T14:17:16.057Z"
   },
   {
    "duration": 5,
    "start_time": "2022-03-02T14:17:16.070Z"
   },
   {
    "duration": 15,
    "start_time": "2022-03-02T14:17:16.077Z"
   },
   {
    "duration": 13,
    "start_time": "2022-03-02T14:17:16.095Z"
   },
   {
    "duration": 20,
    "start_time": "2022-03-02T14:18:13.887Z"
   },
   {
    "duration": 460,
    "start_time": "2022-03-02T14:18:47.431Z"
   },
   {
    "duration": 21,
    "start_time": "2022-03-02T14:18:47.893Z"
   },
   {
    "duration": 37,
    "start_time": "2022-03-02T14:18:47.917Z"
   },
   {
    "duration": 3,
    "start_time": "2022-03-02T14:18:47.956Z"
   },
   {
    "duration": 17,
    "start_time": "2022-03-02T14:18:47.961Z"
   },
   {
    "duration": 13,
    "start_time": "2022-03-02T14:18:47.980Z"
   },
   {
    "duration": 472,
    "start_time": "2022-03-02T14:19:12.079Z"
   },
   {
    "duration": 21,
    "start_time": "2022-03-02T14:19:12.553Z"
   },
   {
    "duration": 19,
    "start_time": "2022-03-02T14:19:12.578Z"
   },
   {
    "duration": 3,
    "start_time": "2022-03-02T14:19:12.599Z"
   },
   {
    "duration": 47,
    "start_time": "2022-03-02T14:19:12.604Z"
   },
   {
    "duration": 13,
    "start_time": "2022-03-02T14:19:12.653Z"
   },
   {
    "duration": 64,
    "start_time": "2022-03-02T14:19:17.343Z"
   },
   {
    "duration": 5,
    "start_time": "2022-03-02T14:19:17.410Z"
   },
   {
    "duration": 43,
    "start_time": "2022-03-02T14:19:17.418Z"
   },
   {
    "duration": 23,
    "start_time": "2022-03-02T14:19:17.464Z"
   },
   {
    "duration": 31,
    "start_time": "2022-03-02T14:19:17.489Z"
   },
   {
    "duration": 485,
    "start_time": "2022-03-02T14:19:17.522Z"
   },
   {
    "duration": 23,
    "start_time": "2022-03-02T14:19:18.009Z"
   },
   {
    "duration": 31,
    "start_time": "2022-03-02T14:19:18.035Z"
   },
   {
    "duration": 2,
    "start_time": "2022-03-02T14:19:18.069Z"
   },
   {
    "duration": 17,
    "start_time": "2022-03-02T14:19:18.073Z"
   },
   {
    "duration": 12,
    "start_time": "2022-03-02T14:19:18.093Z"
   },
   {
    "duration": 28,
    "start_time": "2022-03-02T14:20:08.147Z"
   },
   {
    "duration": 7,
    "start_time": "2022-03-02T14:23:21.008Z"
   },
   {
    "duration": 5,
    "start_time": "2022-03-02T14:23:43.020Z"
   },
   {
    "duration": 21,
    "start_time": "2022-03-02T14:23:56.652Z"
   },
   {
    "duration": 20,
    "start_time": "2022-03-02T14:24:12.525Z"
   },
   {
    "duration": 11,
    "start_time": "2022-03-02T14:28:58.570Z"
   },
   {
    "duration": 75,
    "start_time": "2022-03-02T14:32:02.920Z"
   },
   {
    "duration": 6,
    "start_time": "2022-03-02T14:32:02.997Z"
   },
   {
    "duration": 24,
    "start_time": "2022-03-02T14:32:03.006Z"
   },
   {
    "duration": 52,
    "start_time": "2022-03-02T14:32:03.033Z"
   },
   {
    "duration": 46,
    "start_time": "2022-03-02T14:32:03.088Z"
   },
   {
    "duration": 749,
    "start_time": "2022-03-02T14:32:03.154Z"
   },
   {
    "duration": 32,
    "start_time": "2022-03-02T14:32:03.906Z"
   },
   {
    "duration": 20,
    "start_time": "2022-03-02T14:32:03.952Z"
   },
   {
    "duration": 4,
    "start_time": "2022-03-02T14:32:03.975Z"
   },
   {
    "duration": 32,
    "start_time": "2022-03-02T14:32:03.982Z"
   },
   {
    "duration": 41,
    "start_time": "2022-03-02T14:32:04.017Z"
   },
   {
    "duration": 36,
    "start_time": "2022-03-02T14:32:04.061Z"
   },
   {
    "duration": 9,
    "start_time": "2022-03-02T14:32:04.099Z"
   },
   {
    "duration": 23,
    "start_time": "2022-03-02T14:32:04.111Z"
   },
   {
    "duration": 18732,
    "start_time": "2022-03-02T14:32:16.364Z"
   },
   {
    "duration": 23,
    "start_time": "2022-03-02T14:32:35.099Z"
   },
   {
    "duration": 32,
    "start_time": "2022-03-02T16:05:15.165Z"
   },
   {
    "duration": 8,
    "start_time": "2022-03-02T16:05:56.678Z"
   },
   {
    "duration": 19329,
    "start_time": "2022-03-02T16:06:45.245Z"
   },
   {
    "duration": 24,
    "start_time": "2022-03-02T16:07:04.578Z"
   },
   {
    "duration": 41,
    "start_time": "2022-03-02T16:07:40.214Z"
   },
   {
    "duration": 19667,
    "start_time": "2022-03-02T16:07:40.259Z"
   },
   {
    "duration": 26,
    "start_time": "2022-03-02T16:07:59.963Z"
   },
   {
    "duration": 86,
    "start_time": "2022-03-02T16:08:14.212Z"
   },
   {
    "duration": 5,
    "start_time": "2022-03-02T16:08:14.301Z"
   },
   {
    "duration": 12,
    "start_time": "2022-03-02T16:08:14.309Z"
   },
   {
    "duration": 53,
    "start_time": "2022-03-02T16:08:14.324Z"
   },
   {
    "duration": 31,
    "start_time": "2022-03-02T16:08:14.380Z"
   },
   {
    "duration": 581,
    "start_time": "2022-03-02T16:08:14.413Z"
   },
   {
    "duration": 23,
    "start_time": "2022-03-02T16:08:14.997Z"
   },
   {
    "duration": 33,
    "start_time": "2022-03-02T16:08:15.024Z"
   },
   {
    "duration": 9,
    "start_time": "2022-03-02T16:08:15.061Z"
   },
   {
    "duration": 35,
    "start_time": "2022-03-02T16:08:15.072Z"
   },
   {
    "duration": 9,
    "start_time": "2022-03-02T16:08:15.110Z"
   },
   {
    "duration": 66,
    "start_time": "2022-03-02T16:08:15.122Z"
   },
   {
    "duration": 3,
    "start_time": "2022-03-02T16:08:15.190Z"
   },
   {
    "duration": 26,
    "start_time": "2022-03-02T16:08:15.195Z"
   },
   {
    "duration": 19682,
    "start_time": "2022-03-02T16:08:15.224Z"
   },
   {
    "duration": 22,
    "start_time": "2022-03-02T16:08:34.909Z"
   },
   {
    "duration": 34,
    "start_time": "2022-03-02T16:08:34.933Z"
   },
   {
    "duration": 25,
    "start_time": "2022-03-02T16:27:07.803Z"
   },
   {
    "duration": 108,
    "start_time": "2022-03-02T16:27:34.747Z"
   },
   {
    "duration": 5829,
    "start_time": "2022-03-02T16:29:19.844Z"
   },
   {
    "duration": 5759,
    "start_time": "2022-03-02T16:30:51.904Z"
   },
   {
    "duration": 5,
    "start_time": "2022-03-02T16:31:26.764Z"
   },
   {
    "duration": 22,
    "start_time": "2022-03-02T16:37:16.498Z"
   },
   {
    "duration": 10,
    "start_time": "2022-03-02T16:38:14.458Z"
   },
   {
    "duration": 13,
    "start_time": "2022-03-02T16:42:35.023Z"
   },
   {
    "duration": 615,
    "start_time": "2022-03-03T09:33:16.305Z"
   },
   {
    "duration": 4,
    "start_time": "2022-03-03T09:33:16.921Z"
   },
   {
    "duration": 18,
    "start_time": "2022-03-03T09:33:16.927Z"
   },
   {
    "duration": 22,
    "start_time": "2022-03-03T09:33:16.950Z"
   },
   {
    "duration": 20,
    "start_time": "2022-03-03T09:33:16.974Z"
   },
   {
    "duration": 308,
    "start_time": "2022-03-03T09:33:16.996Z"
   },
   {
    "duration": 16,
    "start_time": "2022-03-03T09:33:17.306Z"
   },
   {
    "duration": 16,
    "start_time": "2022-03-03T09:33:17.336Z"
   },
   {
    "duration": 28,
    "start_time": "2022-03-03T09:33:17.354Z"
   },
   {
    "duration": 5,
    "start_time": "2022-03-03T09:33:17.384Z"
   },
   {
    "duration": 4,
    "start_time": "2022-03-03T09:33:17.391Z"
   },
   {
    "duration": 37,
    "start_time": "2022-03-03T09:33:17.397Z"
   },
   {
    "duration": 13,
    "start_time": "2022-03-03T09:33:17.436Z"
   },
   {
    "duration": 16,
    "start_time": "2022-03-03T09:33:17.451Z"
   },
   {
    "duration": 739,
    "start_time": "2022-03-03T09:47:09.625Z"
   },
   {
    "duration": 822,
    "start_time": "2022-03-03T09:47:09.544Z"
   },
   {
    "duration": 817,
    "start_time": "2022-03-03T09:47:09.550Z"
   },
   {
    "duration": 17567,
    "start_time": "2022-03-03T09:48:03.446Z"
   },
   {
    "duration": 20,
    "start_time": "2022-03-03T09:48:21.015Z"
   },
   {
    "duration": 14,
    "start_time": "2022-03-03T09:48:21.038Z"
   },
   {
    "duration": 7,
    "start_time": "2022-03-03T09:48:44.014Z"
   },
   {
    "duration": 13,
    "start_time": "2022-03-03T09:48:56.373Z"
   },
   {
    "duration": 281,
    "start_time": "2022-03-03T09:51:10.154Z"
   },
   {
    "duration": 21,
    "start_time": "2022-03-03T09:51:10.437Z"
   },
   {
    "duration": 13,
    "start_time": "2022-03-03T09:51:10.460Z"
   },
   {
    "duration": 13,
    "start_time": "2022-03-03T09:51:10.475Z"
   },
   {
    "duration": 4,
    "start_time": "2022-03-03T09:51:10.490Z"
   },
   {
    "duration": 7,
    "start_time": "2022-03-03T09:51:10.495Z"
   },
   {
    "duration": 10893,
    "start_time": "2022-03-03T09:51:10.504Z"
   },
   {
    "duration": 14,
    "start_time": "2022-03-03T09:51:21.399Z"
   },
   {
    "duration": 22,
    "start_time": "2022-03-03T09:51:21.415Z"
   },
   {
    "duration": 60,
    "start_time": "2022-03-03T09:52:21.322Z"
   },
   {
    "duration": 5,
    "start_time": "2022-03-03T09:52:21.384Z"
   },
   {
    "duration": 10,
    "start_time": "2022-03-03T09:52:21.391Z"
   },
   {
    "duration": 41,
    "start_time": "2022-03-03T09:52:21.403Z"
   },
   {
    "duration": 24,
    "start_time": "2022-03-03T09:52:21.447Z"
   },
   {
    "duration": 443,
    "start_time": "2022-03-03T09:52:21.473Z"
   },
   {
    "duration": 844,
    "start_time": "2022-03-03T09:52:21.074Z"
   },
   {
    "duration": 843,
    "start_time": "2022-03-03T09:52:21.076Z"
   },
   {
    "duration": 839,
    "start_time": "2022-03-03T09:52:21.081Z"
   },
   {
    "duration": 836,
    "start_time": "2022-03-03T09:52:21.085Z"
   },
   {
    "duration": 830,
    "start_time": "2022-03-03T09:52:21.091Z"
   },
   {
    "duration": 828,
    "start_time": "2022-03-03T09:52:21.094Z"
   },
   {
    "duration": 826,
    "start_time": "2022-03-03T09:52:21.097Z"
   },
   {
    "duration": 824,
    "start_time": "2022-03-03T09:52:21.100Z"
   },
   {
    "duration": 412,
    "start_time": "2022-03-03T09:54:19.487Z"
   },
   {
    "duration": 32,
    "start_time": "2022-03-03T09:54:19.901Z"
   },
   {
    "duration": 18,
    "start_time": "2022-03-03T09:54:19.935Z"
   },
   {
    "duration": 21,
    "start_time": "2022-03-03T09:54:19.955Z"
   },
   {
    "duration": 769,
    "start_time": "2022-03-03T09:54:19.978Z"
   },
   {
    "duration": 858,
    "start_time": "2022-03-03T09:54:19.892Z"
   },
   {
    "duration": 856,
    "start_time": "2022-03-03T09:54:19.895Z"
   },
   {
    "duration": 855,
    "start_time": "2022-03-03T09:54:19.898Z"
   },
   {
    "duration": 847,
    "start_time": "2022-03-03T09:54:19.907Z"
   },
   {
    "duration": 27,
    "start_time": "2022-03-03T09:55:06.284Z"
   },
   {
    "duration": 3,
    "start_time": "2022-03-03T09:55:06.313Z"
   },
   {
    "duration": 6,
    "start_time": "2022-03-03T09:55:06.319Z"
   },
   {
    "duration": 202,
    "start_time": "2022-03-03T09:55:06.327Z"
   },
   {
    "duration": 835,
    "start_time": "2022-03-03T09:55:05.696Z"
   },
   {
    "duration": 823,
    "start_time": "2022-03-03T09:55:05.709Z"
   },
   {
    "duration": 247,
    "start_time": "2022-03-03T09:55:47.850Z"
   },
   {
    "duration": 820,
    "start_time": "2022-03-03T09:55:47.280Z"
   },
   {
    "duration": 805,
    "start_time": "2022-03-03T09:55:47.296Z"
   },
   {
    "duration": 211,
    "start_time": "2022-03-03T09:57:51.785Z"
   },
   {
    "duration": 821,
    "start_time": "2022-03-03T09:57:51.177Z"
   },
   {
    "duration": 819,
    "start_time": "2022-03-03T09:57:51.180Z"
   },
   {
    "duration": 54,
    "start_time": "2022-03-03T09:58:12.084Z"
   },
   {
    "duration": 5,
    "start_time": "2022-03-03T09:58:12.140Z"
   },
   {
    "duration": 12,
    "start_time": "2022-03-03T09:58:12.147Z"
   },
   {
    "duration": 17,
    "start_time": "2022-03-03T09:58:12.161Z"
   },
   {
    "duration": 19,
    "start_time": "2022-03-03T09:58:12.179Z"
   },
   {
    "duration": 395,
    "start_time": "2022-03-03T09:58:12.200Z"
   },
   {
    "duration": 21,
    "start_time": "2022-03-03T09:58:12.597Z"
   },
   {
    "duration": 30,
    "start_time": "2022-03-03T09:58:12.621Z"
   },
   {
    "duration": 18,
    "start_time": "2022-03-03T09:58:12.654Z"
   },
   {
    "duration": 4,
    "start_time": "2022-03-03T09:58:12.674Z"
   },
   {
    "duration": 26,
    "start_time": "2022-03-03T09:58:12.680Z"
   },
   {
    "duration": 237,
    "start_time": "2022-03-03T09:58:12.708Z"
   },
   {
    "duration": 850,
    "start_time": "2022-03-03T09:58:12.097Z"
   },
   {
    "duration": 834,
    "start_time": "2022-03-03T09:58:12.114Z"
   },
   {
    "duration": 61,
    "start_time": "2022-03-03T10:06:16.451Z"
   },
   {
    "duration": 858,
    "start_time": "2022-03-03T10:06:15.656Z"
   },
   {
    "duration": 855,
    "start_time": "2022-03-03T10:06:15.660Z"
   },
   {
    "duration": 849,
    "start_time": "2022-03-03T10:06:15.667Z"
   },
   {
    "duration": 846,
    "start_time": "2022-03-03T10:06:15.671Z"
   },
   {
    "duration": 844,
    "start_time": "2022-03-03T10:06:15.674Z"
   },
   {
    "duration": 837,
    "start_time": "2022-03-03T10:06:15.682Z"
   },
   {
    "duration": 835,
    "start_time": "2022-03-03T10:06:15.685Z"
   },
   {
    "duration": 834,
    "start_time": "2022-03-03T10:06:15.687Z"
   },
   {
    "duration": 831,
    "start_time": "2022-03-03T10:06:15.690Z"
   },
   {
    "duration": 830,
    "start_time": "2022-03-03T10:06:15.693Z"
   },
   {
    "duration": 215,
    "start_time": "2022-03-03T10:06:36.535Z"
   },
   {
    "duration": 836,
    "start_time": "2022-03-03T10:06:35.918Z"
   },
   {
    "duration": 835,
    "start_time": "2022-03-03T10:06:35.920Z"
   },
   {
    "duration": 823,
    "start_time": "2022-03-03T10:06:35.933Z"
   },
   {
    "duration": 821,
    "start_time": "2022-03-03T10:06:35.936Z"
   },
   {
    "duration": 820,
    "start_time": "2022-03-03T10:06:35.938Z"
   },
   {
    "duration": 810,
    "start_time": "2022-03-03T10:06:35.949Z"
   },
   {
    "duration": 809,
    "start_time": "2022-03-03T10:06:35.951Z"
   },
   {
    "duration": 807,
    "start_time": "2022-03-03T10:06:35.955Z"
   },
   {
    "duration": 797,
    "start_time": "2022-03-03T10:06:35.966Z"
   },
   {
    "duration": 793,
    "start_time": "2022-03-03T10:06:35.971Z"
   },
   {
    "duration": 264,
    "start_time": "2022-03-03T10:07:21.072Z"
   },
   {
    "duration": 196,
    "start_time": "2022-03-03T10:07:28.750Z"
   },
   {
    "duration": 856,
    "start_time": "2022-03-03T10:07:28.092Z"
   },
   {
    "duration": 852,
    "start_time": "2022-03-03T10:07:28.097Z"
   },
   {
    "duration": 846,
    "start_time": "2022-03-03T10:07:28.104Z"
   },
   {
    "duration": 843,
    "start_time": "2022-03-03T10:07:28.107Z"
   },
   {
    "duration": 841,
    "start_time": "2022-03-03T10:07:28.110Z"
   },
   {
    "duration": 841,
    "start_time": "2022-03-03T10:07:28.112Z"
   },
   {
    "duration": 839,
    "start_time": "2022-03-03T10:07:28.115Z"
   },
   {
    "duration": 829,
    "start_time": "2022-03-03T10:07:28.126Z"
   },
   {
    "duration": 826,
    "start_time": "2022-03-03T10:07:28.129Z"
   },
   {
    "duration": 825,
    "start_time": "2022-03-03T10:07:28.131Z"
   },
   {
    "duration": 51,
    "start_time": "2022-03-03T10:07:41.200Z"
   },
   {
    "duration": 5,
    "start_time": "2022-03-03T10:07:41.253Z"
   },
   {
    "duration": 10,
    "start_time": "2022-03-03T10:07:41.261Z"
   },
   {
    "duration": 18,
    "start_time": "2022-03-03T10:07:41.273Z"
   },
   {
    "duration": 56,
    "start_time": "2022-03-03T10:07:41.293Z"
   },
   {
    "duration": 346,
    "start_time": "2022-03-03T10:07:41.351Z"
   },
   {
    "duration": 855,
    "start_time": "2022-03-03T10:07:40.845Z"
   },
   {
    "duration": 852,
    "start_time": "2022-03-03T10:07:40.850Z"
   },
   {
    "duration": 845,
    "start_time": "2022-03-03T10:07:40.858Z"
   },
   {
    "duration": 843,
    "start_time": "2022-03-03T10:07:40.861Z"
   },
   {
    "duration": 843,
    "start_time": "2022-03-03T10:07:40.863Z"
   },
   {
    "duration": 833,
    "start_time": "2022-03-03T10:07:40.874Z"
   },
   {
    "duration": 833,
    "start_time": "2022-03-03T10:07:40.876Z"
   },
   {
    "duration": 831,
    "start_time": "2022-03-03T10:07:40.879Z"
   },
   {
    "duration": 38,
    "start_time": "2022-03-03T10:08:37.156Z"
   },
   {
    "duration": 34,
    "start_time": "2022-03-03T10:09:09.208Z"
   },
   {
    "duration": 401,
    "start_time": "2022-03-03T10:09:18.268Z"
   },
   {
    "duration": 47,
    "start_time": "2022-03-03T10:11:01.701Z"
   },
   {
    "duration": 5,
    "start_time": "2022-03-03T10:11:01.750Z"
   },
   {
    "duration": 11,
    "start_time": "2022-03-03T10:11:01.757Z"
   },
   {
    "duration": 33,
    "start_time": "2022-03-03T10:11:01.770Z"
   },
   {
    "duration": 44,
    "start_time": "2022-03-03T10:11:01.805Z"
   },
   {
    "duration": 383,
    "start_time": "2022-03-03T10:11:01.851Z"
   },
   {
    "duration": 861,
    "start_time": "2022-03-03T10:11:01.375Z"
   },
   {
    "duration": 857,
    "start_time": "2022-03-03T10:11:01.380Z"
   },
   {
    "duration": 849,
    "start_time": "2022-03-03T10:11:01.390Z"
   },
   {
    "duration": 846,
    "start_time": "2022-03-03T10:11:01.394Z"
   },
   {
    "duration": 846,
    "start_time": "2022-03-03T10:11:01.396Z"
   },
   {
    "duration": 836,
    "start_time": "2022-03-03T10:11:01.407Z"
   },
   {
    "duration": 836,
    "start_time": "2022-03-03T10:11:01.409Z"
   },
   {
    "duration": 834,
    "start_time": "2022-03-03T10:11:01.412Z"
   },
   {
    "duration": 273,
    "start_time": "2022-03-03T10:21:01.064Z"
   },
   {
    "duration": 50,
    "start_time": "2022-03-03T10:21:26.140Z"
   },
   {
    "duration": 5,
    "start_time": "2022-03-03T10:21:26.191Z"
   },
   {
    "duration": 10,
    "start_time": "2022-03-03T10:21:26.198Z"
   },
   {
    "duration": 33,
    "start_time": "2022-03-03T10:21:26.210Z"
   },
   {
    "duration": 19,
    "start_time": "2022-03-03T10:21:26.245Z"
   },
   {
    "duration": 296,
    "start_time": "2022-03-03T10:21:26.265Z"
   },
   {
    "duration": 16,
    "start_time": "2022-03-03T10:21:26.562Z"
   },
   {
    "duration": 13,
    "start_time": "2022-03-03T10:21:26.580Z"
   },
   {
    "duration": 40,
    "start_time": "2022-03-03T10:21:26.595Z"
   },
   {
    "duration": 2,
    "start_time": "2022-03-03T10:21:26.636Z"
   },
   {
    "duration": 7,
    "start_time": "2022-03-03T10:21:26.640Z"
   },
   {
    "duration": 7,
    "start_time": "2022-03-03T10:21:26.648Z"
   },
   {
    "duration": 17,
    "start_time": "2022-03-03T10:21:26.656Z"
   },
   {
    "duration": 9,
    "start_time": "2022-03-03T10:21:26.674Z"
   },
   {
    "duration": 198,
    "start_time": "2022-03-03T10:23:41.471Z"
   },
   {
    "duration": 862,
    "start_time": "2022-03-03T10:23:40.810Z"
   },
   {
    "duration": 857,
    "start_time": "2022-03-03T10:23:40.816Z"
   },
   {
    "duration": 854,
    "start_time": "2022-03-03T10:23:40.820Z"
   },
   {
    "duration": 851,
    "start_time": "2022-03-03T10:23:40.824Z"
   },
   {
    "duration": 842,
    "start_time": "2022-03-03T10:23:40.834Z"
   },
   {
    "duration": 841,
    "start_time": "2022-03-03T10:23:40.836Z"
   },
   {
    "duration": 839,
    "start_time": "2022-03-03T10:23:40.839Z"
   },
   {
    "duration": 829,
    "start_time": "2022-03-03T10:23:40.850Z"
   },
   {
    "duration": 228,
    "start_time": "2022-03-03T10:24:39.176Z"
   },
   {
    "duration": 840,
    "start_time": "2022-03-03T10:24:38.566Z"
   },
   {
    "duration": 837,
    "start_time": "2022-03-03T10:24:38.570Z"
   },
   {
    "duration": 833,
    "start_time": "2022-03-03T10:24:38.575Z"
   },
   {
    "duration": 831,
    "start_time": "2022-03-03T10:24:38.578Z"
   },
   {
    "duration": 830,
    "start_time": "2022-03-03T10:24:38.580Z"
   },
   {
    "duration": 828,
    "start_time": "2022-03-03T10:24:38.583Z"
   },
   {
    "duration": 827,
    "start_time": "2022-03-03T10:24:38.585Z"
   },
   {
    "duration": 824,
    "start_time": "2022-03-03T10:24:38.589Z"
   },
   {
    "duration": 205,
    "start_time": "2022-03-03T10:24:52.849Z"
   },
   {
    "duration": 859,
    "start_time": "2022-03-03T10:24:52.197Z"
   },
   {
    "duration": 854,
    "start_time": "2022-03-03T10:24:52.203Z"
   },
   {
    "duration": 844,
    "start_time": "2022-03-03T10:24:52.214Z"
   },
   {
    "duration": 838,
    "start_time": "2022-03-03T10:24:52.221Z"
   },
   {
    "duration": 830,
    "start_time": "2022-03-03T10:24:52.230Z"
   },
   {
    "duration": 829,
    "start_time": "2022-03-03T10:24:52.232Z"
   },
   {
    "duration": 819,
    "start_time": "2022-03-03T10:24:52.243Z"
   },
   {
    "duration": 816,
    "start_time": "2022-03-03T10:24:52.246Z"
   },
   {
    "duration": 5,
    "start_time": "2022-03-03T10:26:38.341Z"
   },
   {
    "duration": 17,
    "start_time": "2022-03-03T10:26:38.348Z"
   },
   {
    "duration": 12,
    "start_time": "2022-03-03T10:26:38.367Z"
   },
   {
    "duration": 10,
    "start_time": "2022-03-03T10:26:38.381Z"
   },
   {
    "duration": 1,
    "start_time": "2022-03-03T10:26:38.393Z"
   },
   {
    "duration": 4,
    "start_time": "2022-03-03T10:26:38.396Z"
   },
   {
    "duration": 4,
    "start_time": "2022-03-03T10:26:38.401Z"
   },
   {
    "duration": 35,
    "start_time": "2022-03-03T10:26:38.407Z"
   },
   {
    "duration": 8,
    "start_time": "2022-03-03T10:26:38.444Z"
   },
   {
    "duration": 54,
    "start_time": "2022-03-03T10:27:55.061Z"
   },
   {
    "duration": 5,
    "start_time": "2022-03-03T10:27:55.117Z"
   },
   {
    "duration": 10,
    "start_time": "2022-03-03T10:27:55.125Z"
   },
   {
    "duration": 17,
    "start_time": "2022-03-03T10:27:55.137Z"
   },
   {
    "duration": 20,
    "start_time": "2022-03-03T10:27:55.156Z"
   },
   {
    "duration": 287,
    "start_time": "2022-03-03T10:27:55.178Z"
   },
   {
    "duration": 6,
    "start_time": "2022-03-03T10:27:55.466Z"
   },
   {
    "duration": 14,
    "start_time": "2022-03-03T10:27:55.475Z"
   },
   {
    "duration": 13,
    "start_time": "2022-03-03T10:27:55.491Z"
   },
   {
    "duration": 28,
    "start_time": "2022-03-03T10:27:55.505Z"
   },
   {
    "duration": 3,
    "start_time": "2022-03-03T10:27:55.535Z"
   },
   {
    "duration": 22,
    "start_time": "2022-03-03T10:27:55.539Z"
   },
   {
    "duration": 13,
    "start_time": "2022-03-03T10:27:55.562Z"
   },
   {
    "duration": 8,
    "start_time": "2022-03-03T10:27:55.577Z"
   },
   {
    "duration": 7,
    "start_time": "2022-03-03T10:28:55.871Z"
   },
   {
    "duration": 46,
    "start_time": "2022-03-03T10:29:01.271Z"
   },
   {
    "duration": 4,
    "start_time": "2022-03-03T10:29:01.319Z"
   },
   {
    "duration": 17,
    "start_time": "2022-03-03T10:29:01.325Z"
   },
   {
    "duration": 27,
    "start_time": "2022-03-03T10:29:01.344Z"
   },
   {
    "duration": 27,
    "start_time": "2022-03-03T10:29:01.372Z"
   },
   {
    "duration": 269,
    "start_time": "2022-03-03T10:29:01.400Z"
   },
   {
    "duration": 4,
    "start_time": "2022-03-03T10:29:01.670Z"
   },
   {
    "duration": 22,
    "start_time": "2022-03-03T10:29:01.677Z"
   },
   {
    "duration": 14,
    "start_time": "2022-03-03T10:29:01.701Z"
   },
   {
    "duration": 17,
    "start_time": "2022-03-03T10:29:01.717Z"
   },
   {
    "duration": 6,
    "start_time": "2022-03-03T10:29:01.736Z"
   },
   {
    "duration": 9,
    "start_time": "2022-03-03T10:29:01.744Z"
   },
   {
    "duration": 14,
    "start_time": "2022-03-03T10:29:01.755Z"
   },
   {
    "duration": 9,
    "start_time": "2022-03-03T10:29:01.771Z"
   },
   {
    "duration": 47,
    "start_time": "2022-03-03T10:29:52.880Z"
   },
   {
    "duration": 4,
    "start_time": "2022-03-03T10:29:52.929Z"
   },
   {
    "duration": 19,
    "start_time": "2022-03-03T10:29:52.935Z"
   },
   {
    "duration": 15,
    "start_time": "2022-03-03T10:29:52.956Z"
   },
   {
    "duration": 18,
    "start_time": "2022-03-03T10:29:52.973Z"
   },
   {
    "duration": 280,
    "start_time": "2022-03-03T10:29:52.993Z"
   },
   {
    "duration": 5,
    "start_time": "2022-03-03T10:29:53.274Z"
   },
   {
    "duration": 19,
    "start_time": "2022-03-03T10:29:53.281Z"
   },
   {
    "duration": 12,
    "start_time": "2022-03-03T10:29:53.302Z"
   },
   {
    "duration": 18,
    "start_time": "2022-03-03T10:29:53.315Z"
   },
   {
    "duration": 5,
    "start_time": "2022-03-03T10:29:53.334Z"
   },
   {
    "duration": 7,
    "start_time": "2022-03-03T10:29:53.341Z"
   },
   {
    "duration": 12,
    "start_time": "2022-03-03T10:29:53.350Z"
   },
   {
    "duration": 10,
    "start_time": "2022-03-03T10:29:53.363Z"
   },
   {
    "duration": 13,
    "start_time": "2022-03-03T10:30:22.377Z"
   },
   {
    "duration": 53,
    "start_time": "2022-03-03T10:31:30.603Z"
   },
   {
    "duration": 4,
    "start_time": "2022-03-03T10:31:30.658Z"
   },
   {
    "duration": 14,
    "start_time": "2022-03-03T10:31:30.664Z"
   },
   {
    "duration": 17,
    "start_time": "2022-03-03T10:31:30.680Z"
   },
   {
    "duration": 37,
    "start_time": "2022-03-03T10:31:30.698Z"
   },
   {
    "duration": 274,
    "start_time": "2022-03-03T10:31:30.737Z"
   },
   {
    "duration": 4,
    "start_time": "2022-03-03T10:31:31.013Z"
   },
   {
    "duration": 20,
    "start_time": "2022-03-03T10:31:31.019Z"
   },
   {
    "duration": 13,
    "start_time": "2022-03-03T10:31:31.041Z"
   },
   {
    "duration": 11,
    "start_time": "2022-03-03T10:31:31.056Z"
   },
   {
    "duration": 14,
    "start_time": "2022-03-03T10:31:31.069Z"
   },
   {
    "duration": 17,
    "start_time": "2022-03-03T10:31:31.084Z"
   },
   {
    "duration": 8,
    "start_time": "2022-03-03T10:42:39.942Z"
   },
   {
    "duration": 53,
    "start_time": "2022-03-03T10:43:35.539Z"
   },
   {
    "duration": 4,
    "start_time": "2022-03-03T10:43:35.594Z"
   },
   {
    "duration": 10,
    "start_time": "2022-03-03T10:43:35.600Z"
   },
   {
    "duration": 9,
    "start_time": "2022-03-03T10:43:35.612Z"
   },
   {
    "duration": 16,
    "start_time": "2022-03-03T10:43:35.633Z"
   },
   {
    "duration": 20,
    "start_time": "2022-03-03T10:43:35.650Z"
   },
   {
    "duration": 277,
    "start_time": "2022-03-03T10:43:35.672Z"
   },
   {
    "duration": 4,
    "start_time": "2022-03-03T10:43:35.952Z"
   },
   {
    "duration": 19,
    "start_time": "2022-03-03T10:43:35.957Z"
   },
   {
    "duration": 12,
    "start_time": "2022-03-03T10:43:35.977Z"
   },
   {
    "duration": 10,
    "start_time": "2022-03-03T10:43:35.990Z"
   },
   {
    "duration": 32,
    "start_time": "2022-03-03T10:43:36.002Z"
   },
   {
    "duration": 9,
    "start_time": "2022-03-03T10:43:36.035Z"
   },
   {
    "duration": 10,
    "start_time": "2022-03-03T10:43:59.792Z"
   },
   {
    "duration": 46,
    "start_time": "2022-03-03T10:44:19.646Z"
   },
   {
    "duration": 4,
    "start_time": "2022-03-03T10:44:19.694Z"
   },
   {
    "duration": 11,
    "start_time": "2022-03-03T10:44:19.700Z"
   },
   {
    "duration": 10,
    "start_time": "2022-03-03T10:44:19.713Z"
   },
   {
    "duration": 16,
    "start_time": "2022-03-03T10:44:19.732Z"
   },
   {
    "duration": 18,
    "start_time": "2022-03-03T10:44:19.750Z"
   },
   {
    "duration": 284,
    "start_time": "2022-03-03T10:44:19.769Z"
   },
   {
    "duration": 5,
    "start_time": "2022-03-03T10:44:20.055Z"
   },
   {
    "duration": 21,
    "start_time": "2022-03-03T10:44:20.061Z"
   },
   {
    "duration": 12,
    "start_time": "2022-03-03T10:44:20.084Z"
   },
   {
    "duration": 5,
    "start_time": "2022-03-03T10:44:20.098Z"
   },
   {
    "duration": 36,
    "start_time": "2022-03-03T10:44:20.105Z"
   },
   {
    "duration": 9,
    "start_time": "2022-03-03T10:44:20.142Z"
   },
   {
    "duration": 52,
    "start_time": "2022-03-03T10:45:50.668Z"
   },
   {
    "duration": 4,
    "start_time": "2022-03-03T10:45:50.722Z"
   },
   {
    "duration": 9,
    "start_time": "2022-03-03T10:45:50.728Z"
   },
   {
    "duration": 8,
    "start_time": "2022-03-03T10:45:50.739Z"
   },
   {
    "duration": 15,
    "start_time": "2022-03-03T10:45:50.748Z"
   },
   {
    "duration": 18,
    "start_time": "2022-03-03T10:45:50.765Z"
   },
   {
    "duration": 288,
    "start_time": "2022-03-03T10:45:50.784Z"
   },
   {
    "duration": 4,
    "start_time": "2022-03-03T10:45:51.075Z"
   },
   {
    "duration": 16,
    "start_time": "2022-03-03T10:45:51.081Z"
   },
   {
    "duration": 13,
    "start_time": "2022-03-03T10:45:51.098Z"
   },
   {
    "duration": 27,
    "start_time": "2022-03-03T10:45:51.113Z"
   },
   {
    "duration": 13,
    "start_time": "2022-03-03T10:45:51.142Z"
   },
   {
    "duration": 10,
    "start_time": "2022-03-03T10:45:51.157Z"
   },
   {
    "duration": 117,
    "start_time": "2022-03-03T10:47:22.917Z"
   },
   {
    "duration": 11,
    "start_time": "2022-03-03T10:47:29.331Z"
   },
   {
    "duration": 49,
    "start_time": "2022-03-03T10:47:33.681Z"
   },
   {
    "duration": 5,
    "start_time": "2022-03-03T10:47:33.732Z"
   },
   {
    "duration": 14,
    "start_time": "2022-03-03T10:47:33.739Z"
   },
   {
    "duration": 10,
    "start_time": "2022-03-03T10:47:33.755Z"
   },
   {
    "duration": 17,
    "start_time": "2022-03-03T10:47:33.767Z"
   },
   {
    "duration": 50,
    "start_time": "2022-03-03T10:47:33.786Z"
   },
   {
    "duration": 283,
    "start_time": "2022-03-03T10:47:33.838Z"
   },
   {
    "duration": 9,
    "start_time": "2022-03-03T10:47:34.124Z"
   },
   {
    "duration": 18,
    "start_time": "2022-03-03T10:47:34.134Z"
   },
   {
    "duration": 13,
    "start_time": "2022-03-03T10:47:34.154Z"
   },
   {
    "duration": 6,
    "start_time": "2022-03-03T10:47:34.168Z"
   },
   {
    "duration": 13,
    "start_time": "2022-03-03T10:47:34.176Z"
   },
   {
    "duration": 8,
    "start_time": "2022-03-03T10:47:34.191Z"
   },
   {
    "duration": 8,
    "start_time": "2022-03-03T10:48:15.189Z"
   },
   {
    "duration": 250,
    "start_time": "2022-03-03T10:51:51.851Z"
   },
   {
    "duration": 191,
    "start_time": "2022-03-03T10:52:10.874Z"
   },
   {
    "duration": 47,
    "start_time": "2022-03-03T10:52:19.420Z"
   },
   {
    "duration": 4,
    "start_time": "2022-03-03T10:52:19.468Z"
   },
   {
    "duration": 9,
    "start_time": "2022-03-03T10:52:19.474Z"
   },
   {
    "duration": 215,
    "start_time": "2022-03-03T10:52:19.484Z"
   },
   {
    "duration": 16,
    "start_time": "2022-03-03T10:52:19.701Z"
   },
   {
    "duration": 32,
    "start_time": "2022-03-03T10:52:19.719Z"
   },
   {
    "duration": 285,
    "start_time": "2022-03-03T10:52:19.753Z"
   },
   {
    "duration": 4,
    "start_time": "2022-03-03T10:52:20.040Z"
   },
   {
    "duration": 20,
    "start_time": "2022-03-03T10:52:20.047Z"
   },
   {
    "duration": 18,
    "start_time": "2022-03-03T10:52:20.069Z"
   },
   {
    "duration": 9,
    "start_time": "2022-03-03T10:52:20.089Z"
   },
   {
    "duration": 43,
    "start_time": "2022-03-03T10:52:20.100Z"
   },
   {
    "duration": 12,
    "start_time": "2022-03-03T10:52:20.145Z"
   },
   {
    "duration": 47,
    "start_time": "2022-03-03T10:53:05.206Z"
   },
   {
    "duration": 3,
    "start_time": "2022-03-03T10:53:05.255Z"
   },
   {
    "duration": 10,
    "start_time": "2022-03-03T10:53:05.260Z"
   },
   {
    "duration": 207,
    "start_time": "2022-03-03T10:53:05.272Z"
   },
   {
    "duration": 15,
    "start_time": "2022-03-03T10:53:05.480Z"
   },
   {
    "duration": 18,
    "start_time": "2022-03-03T10:53:05.497Z"
   },
   {
    "duration": 281,
    "start_time": "2022-03-03T10:53:05.517Z"
   },
   {
    "duration": 4,
    "start_time": "2022-03-03T10:53:05.800Z"
   },
   {
    "duration": 28,
    "start_time": "2022-03-03T10:53:05.806Z"
   },
   {
    "duration": 15,
    "start_time": "2022-03-03T10:53:05.835Z"
   },
   {
    "duration": 10,
    "start_time": "2022-03-03T10:53:05.851Z"
   },
   {
    "duration": 13,
    "start_time": "2022-03-03T10:53:05.863Z"
   },
   {
    "duration": 8,
    "start_time": "2022-03-03T10:53:05.878Z"
   },
   {
    "duration": 103,
    "start_time": "2022-03-03T10:58:11.628Z"
   },
   {
    "duration": 6,
    "start_time": "2022-03-03T11:02:23.121Z"
   },
   {
    "duration": 15,
    "start_time": "2022-03-03T11:04:43.567Z"
   },
   {
    "duration": 56,
    "start_time": "2022-03-03T11:09:43.680Z"
   },
   {
    "duration": 16,
    "start_time": "2022-03-03T11:11:22.004Z"
   },
   {
    "duration": 275,
    "start_time": "2022-03-03T11:15:52.842Z"
   },
   {
    "duration": 440,
    "start_time": "2022-03-03T11:15:58.682Z"
   },
   {
    "duration": 15,
    "start_time": "2022-03-03T11:15:59.124Z"
   },
   {
    "duration": 16,
    "start_time": "2022-03-03T11:15:59.141Z"
   },
   {
    "duration": 5,
    "start_time": "2022-03-03T11:15:59.159Z"
   },
   {
    "duration": 17,
    "start_time": "2022-03-03T11:15:59.166Z"
   },
   {
    "duration": 15,
    "start_time": "2022-03-03T11:15:59.184Z"
   },
   {
    "duration": 5,
    "start_time": "2022-03-03T11:15:59.201Z"
   },
   {
    "duration": 38,
    "start_time": "2022-03-03T11:15:59.208Z"
   },
   {
    "duration": 13,
    "start_time": "2022-03-03T11:15:59.248Z"
   },
   {
    "duration": 271,
    "start_time": "2022-03-03T11:17:24.454Z"
   },
   {
    "duration": 53,
    "start_time": "2022-03-03T11:18:28.406Z"
   },
   {
    "duration": 266,
    "start_time": "2022-03-03T11:18:37.206Z"
   },
   {
    "duration": 48,
    "start_time": "2022-03-03T11:18:45.194Z"
   },
   {
    "duration": 4,
    "start_time": "2022-03-03T11:18:45.244Z"
   },
   {
    "duration": 11,
    "start_time": "2022-03-03T11:18:45.250Z"
   },
   {
    "duration": 222,
    "start_time": "2022-03-03T11:18:45.262Z"
   },
   {
    "duration": 17,
    "start_time": "2022-03-03T11:18:45.486Z"
   },
   {
    "duration": 354,
    "start_time": "2022-03-03T11:18:45.505Z"
   },
   {
    "duration": 874,
    "start_time": "2022-03-03T11:18:44.988Z"
   },
   {
    "duration": 862,
    "start_time": "2022-03-03T11:18:45.001Z"
   },
   {
    "duration": 847,
    "start_time": "2022-03-03T11:18:45.017Z"
   },
   {
    "duration": 831,
    "start_time": "2022-03-03T11:18:45.035Z"
   },
   {
    "duration": 814,
    "start_time": "2022-03-03T11:18:45.053Z"
   },
   {
    "duration": 797,
    "start_time": "2022-03-03T11:18:45.071Z"
   },
   {
    "duration": 784,
    "start_time": "2022-03-03T11:18:45.086Z"
   },
   {
    "duration": 769,
    "start_time": "2022-03-03T11:18:45.102Z"
   },
   {
    "duration": 429,
    "start_time": "2022-03-03T11:19:10.612Z"
   },
   {
    "duration": 75,
    "start_time": "2022-03-03T11:19:15.946Z"
   },
   {
    "duration": 5,
    "start_time": "2022-03-03T11:19:16.023Z"
   },
   {
    "duration": 13,
    "start_time": "2022-03-03T11:19:16.033Z"
   },
   {
    "duration": 314,
    "start_time": "2022-03-03T11:19:16.048Z"
   },
   {
    "duration": 24,
    "start_time": "2022-03-03T11:19:16.364Z"
   },
   {
    "duration": 456,
    "start_time": "2022-03-03T11:19:16.391Z"
   },
   {
    "duration": 10,
    "start_time": "2022-03-03T11:19:16.849Z"
   },
   {
    "duration": 28,
    "start_time": "2022-03-03T11:19:16.862Z"
   },
   {
    "duration": 6,
    "start_time": "2022-03-03T11:19:16.893Z"
   },
   {
    "duration": 47,
    "start_time": "2022-03-03T11:19:16.901Z"
   },
   {
    "duration": 17,
    "start_time": "2022-03-03T11:19:16.950Z"
   },
   {
    "duration": 13,
    "start_time": "2022-03-03T11:19:16.969Z"
   },
   {
    "duration": 19,
    "start_time": "2022-03-03T11:19:16.984Z"
   },
   {
    "duration": 34,
    "start_time": "2022-03-03T11:19:17.005Z"
   },
   {
    "duration": 47,
    "start_time": "2022-03-03T11:19:55.526Z"
   },
   {
    "duration": 3,
    "start_time": "2022-03-03T11:19:55.575Z"
   },
   {
    "duration": 10,
    "start_time": "2022-03-03T11:19:55.580Z"
   },
   {
    "duration": 214,
    "start_time": "2022-03-03T11:19:55.591Z"
   },
   {
    "duration": 28,
    "start_time": "2022-03-03T11:19:55.807Z"
   },
   {
    "duration": 268,
    "start_time": "2022-03-03T11:19:55.837Z"
   },
   {
    "duration": 7,
    "start_time": "2022-03-03T11:19:56.106Z"
   },
   {
    "duration": 28,
    "start_time": "2022-03-03T11:19:56.115Z"
   },
   {
    "duration": 5,
    "start_time": "2022-03-03T11:19:56.145Z"
   },
   {
    "duration": 19,
    "start_time": "2022-03-03T11:19:56.153Z"
   },
   {
    "duration": 12,
    "start_time": "2022-03-03T11:19:56.173Z"
   },
   {
    "duration": 10,
    "start_time": "2022-03-03T11:19:56.187Z"
   },
   {
    "duration": 35,
    "start_time": "2022-03-03T11:19:56.198Z"
   },
   {
    "duration": 11,
    "start_time": "2022-03-03T11:19:56.234Z"
   },
   {
    "duration": 6,
    "start_time": "2022-03-03T11:21:46.553Z"
   },
   {
    "duration": 6,
    "start_time": "2022-03-03T11:21:51.111Z"
   },
   {
    "duration": 16,
    "start_time": "2022-03-03T11:22:58.004Z"
   },
   {
    "duration": 14,
    "start_time": "2022-03-03T11:23:34.344Z"
   },
   {
    "duration": 12,
    "start_time": "2022-03-03T11:23:58.733Z"
   },
   {
    "duration": 13,
    "start_time": "2022-03-03T11:24:12.878Z"
   },
   {
    "duration": 14,
    "start_time": "2022-03-03T11:24:23.600Z"
   },
   {
    "duration": 60,
    "start_time": "2022-03-03T11:29:20.194Z"
   },
   {
    "duration": 10,
    "start_time": "2022-03-03T11:29:34.602Z"
   },
   {
    "duration": 22,
    "start_time": "2022-03-03T11:30:14.094Z"
   },
   {
    "duration": 51,
    "start_time": "2022-03-03T11:31:24.163Z"
   },
   {
    "duration": 6,
    "start_time": "2022-03-03T11:31:24.216Z"
   },
   {
    "duration": 16,
    "start_time": "2022-03-03T11:31:24.224Z"
   },
   {
    "duration": 205,
    "start_time": "2022-03-03T11:31:24.242Z"
   },
   {
    "duration": 16,
    "start_time": "2022-03-03T11:31:24.449Z"
   },
   {
    "duration": 278,
    "start_time": "2022-03-03T11:31:24.467Z"
   },
   {
    "duration": 8,
    "start_time": "2022-03-03T11:31:24.746Z"
   },
   {
    "duration": 753,
    "start_time": "2022-03-03T11:31:24.756Z"
   },
   {
    "duration": 772,
    "start_time": "2022-03-03T11:31:24.740Z"
   },
   {
    "duration": 768,
    "start_time": "2022-03-03T11:31:24.745Z"
   },
   {
    "duration": 756,
    "start_time": "2022-03-03T11:31:24.759Z"
   },
   {
    "duration": 753,
    "start_time": "2022-03-03T11:31:24.763Z"
   },
   {
    "duration": 745,
    "start_time": "2022-03-03T11:31:24.773Z"
   },
   {
    "duration": 742,
    "start_time": "2022-03-03T11:31:24.777Z"
   },
   {
    "duration": 732,
    "start_time": "2022-03-03T11:31:24.788Z"
   },
   {
    "duration": 5,
    "start_time": "2022-03-03T11:32:49.875Z"
   },
   {
    "duration": 54,
    "start_time": "2022-03-03T11:33:01.208Z"
   },
   {
    "duration": 4,
    "start_time": "2022-03-03T11:33:01.264Z"
   },
   {
    "duration": 23,
    "start_time": "2022-03-03T11:33:01.270Z"
   },
   {
    "duration": 223,
    "start_time": "2022-03-03T11:33:01.295Z"
   },
   {
    "duration": 25,
    "start_time": "2022-03-03T11:33:01.520Z"
   },
   {
    "duration": 280,
    "start_time": "2022-03-03T11:33:01.547Z"
   },
   {
    "duration": 6,
    "start_time": "2022-03-03T11:33:01.828Z"
   },
   {
    "duration": 12,
    "start_time": "2022-03-03T11:33:01.836Z"
   },
   {
    "duration": 25,
    "start_time": "2022-03-03T11:33:01.849Z"
   },
   {
    "duration": 9,
    "start_time": "2022-03-03T11:33:01.876Z"
   },
   {
    "duration": 11,
    "start_time": "2022-03-03T11:33:01.886Z"
   },
   {
    "duration": 41,
    "start_time": "2022-03-03T11:33:01.899Z"
   },
   {
    "duration": 9,
    "start_time": "2022-03-03T11:33:01.941Z"
   },
   {
    "duration": 12,
    "start_time": "2022-03-03T11:33:01.952Z"
   },
   {
    "duration": 11,
    "start_time": "2022-03-03T11:33:01.965Z"
   },
   {
    "duration": 49,
    "start_time": "2022-03-03T11:36:08.357Z"
   },
   {
    "duration": 4,
    "start_time": "2022-03-03T11:36:08.408Z"
   },
   {
    "duration": 13,
    "start_time": "2022-03-03T11:36:08.414Z"
   },
   {
    "duration": 198,
    "start_time": "2022-03-03T11:36:08.429Z"
   },
   {
    "duration": 16,
    "start_time": "2022-03-03T11:36:08.628Z"
   },
   {
    "duration": 291,
    "start_time": "2022-03-03T11:36:08.646Z"
   },
   {
    "duration": 4,
    "start_time": "2022-03-03T11:36:08.939Z"
   },
   {
    "duration": 9,
    "start_time": "2022-03-03T11:36:08.946Z"
   },
   {
    "duration": 13,
    "start_time": "2022-03-03T11:36:08.957Z"
   },
   {
    "duration": 10,
    "start_time": "2022-03-03T11:36:08.972Z"
   },
   {
    "duration": 219,
    "start_time": "2022-03-03T11:36:53.105Z"
   },
   {
    "duration": 10,
    "start_time": "2022-03-03T11:37:08.577Z"
   },
   {
    "duration": 53,
    "start_time": "2022-03-03T11:37:32.393Z"
   },
   {
    "duration": 4,
    "start_time": "2022-03-03T11:37:32.448Z"
   },
   {
    "duration": 9,
    "start_time": "2022-03-03T11:37:32.454Z"
   },
   {
    "duration": 212,
    "start_time": "2022-03-03T11:37:32.464Z"
   },
   {
    "duration": 20,
    "start_time": "2022-03-03T11:37:32.678Z"
   },
   {
    "duration": 294,
    "start_time": "2022-03-03T11:37:32.700Z"
   },
   {
    "duration": 5,
    "start_time": "2022-03-03T11:37:32.995Z"
   },
   {
    "duration": 11,
    "start_time": "2022-03-03T11:37:33.002Z"
   },
   {
    "duration": 25,
    "start_time": "2022-03-03T11:37:33.015Z"
   },
   {
    "duration": 10,
    "start_time": "2022-03-03T11:37:33.042Z"
   },
   {
    "duration": 45,
    "start_time": "2022-03-03T11:39:00.862Z"
   },
   {
    "duration": 4,
    "start_time": "2022-03-03T11:39:00.909Z"
   },
   {
    "duration": 13,
    "start_time": "2022-03-03T11:39:00.915Z"
   },
   {
    "duration": 211,
    "start_time": "2022-03-03T11:39:00.929Z"
   },
   {
    "duration": 16,
    "start_time": "2022-03-03T11:39:01.142Z"
   },
   {
    "duration": 286,
    "start_time": "2022-03-03T11:39:01.159Z"
   },
   {
    "duration": 190,
    "start_time": "2022-03-03T11:39:01.447Z"
   },
   {
    "duration": 929,
    "start_time": "2022-03-03T11:39:00.710Z"
   },
   {
    "duration": 913,
    "start_time": "2022-03-03T11:39:00.727Z"
   },
   {
    "duration": 893,
    "start_time": "2022-03-03T11:39:00.748Z"
   },
   {
    "duration": 51,
    "start_time": "2022-03-03T11:40:19.710Z"
   },
   {
    "duration": 5,
    "start_time": "2022-03-03T11:40:19.762Z"
   },
   {
    "duration": 13,
    "start_time": "2022-03-03T11:40:19.769Z"
   },
   {
    "duration": 213,
    "start_time": "2022-03-03T11:40:19.784Z"
   },
   {
    "duration": 17,
    "start_time": "2022-03-03T11:40:19.999Z"
   },
   {
    "duration": 279,
    "start_time": "2022-03-03T11:40:20.017Z"
   },
   {
    "duration": 11,
    "start_time": "2022-03-03T11:40:20.298Z"
   },
   {
    "duration": 26,
    "start_time": "2022-03-03T11:40:20.311Z"
   },
   {
    "duration": 11,
    "start_time": "2022-03-03T11:40:20.338Z"
   },
   {
    "duration": 55,
    "start_time": "2022-03-03T11:47:26.225Z"
   },
   {
    "duration": 10,
    "start_time": "2022-03-03T11:47:40.026Z"
   },
   {
    "duration": 50,
    "start_time": "2022-03-03T11:48:05.691Z"
   },
   {
    "duration": 5,
    "start_time": "2022-03-03T11:48:05.743Z"
   },
   {
    "duration": 10,
    "start_time": "2022-03-03T11:48:05.750Z"
   },
   {
    "duration": 215,
    "start_time": "2022-03-03T11:48:05.762Z"
   },
   {
    "duration": 15,
    "start_time": "2022-03-03T11:48:05.979Z"
   },
   {
    "duration": 287,
    "start_time": "2022-03-03T11:48:05.995Z"
   },
   {
    "duration": 12,
    "start_time": "2022-03-03T11:48:06.284Z"
   },
   {
    "duration": 9,
    "start_time": "2022-03-03T11:48:06.298Z"
   },
   {
    "duration": 30,
    "start_time": "2022-03-03T11:48:06.309Z"
   },
   {
    "duration": 10,
    "start_time": "2022-03-03T11:48:18.477Z"
   },
   {
    "duration": 6,
    "start_time": "2022-03-03T11:50:16.778Z"
   },
   {
    "duration": 47,
    "start_time": "2022-03-03T11:52:32.023Z"
   },
   {
    "duration": 3,
    "start_time": "2022-03-03T11:52:32.072Z"
   },
   {
    "duration": 14,
    "start_time": "2022-03-03T11:52:32.077Z"
   },
   {
    "duration": 208,
    "start_time": "2022-03-03T11:52:32.093Z"
   },
   {
    "duration": 15,
    "start_time": "2022-03-03T11:52:32.302Z"
   },
   {
    "duration": 273,
    "start_time": "2022-03-03T11:52:32.319Z"
   },
   {
    "duration": 13,
    "start_time": "2022-03-03T11:52:32.593Z"
   },
   {
    "duration": 9,
    "start_time": "2022-03-03T11:52:32.608Z"
   },
   {
    "duration": 4,
    "start_time": "2022-03-03T11:52:32.633Z"
   },
   {
    "duration": 21,
    "start_time": "2022-03-03T11:52:32.639Z"
   },
   {
    "duration": 9,
    "start_time": "2022-03-03T11:55:21.172Z"
   },
   {
    "duration": 47,
    "start_time": "2022-03-03T11:56:09.664Z"
   },
   {
    "duration": 4,
    "start_time": "2022-03-03T11:56:09.713Z"
   },
   {
    "duration": 11,
    "start_time": "2022-03-03T11:56:09.719Z"
   },
   {
    "duration": 273,
    "start_time": "2022-03-03T11:56:09.732Z"
   },
   {
    "duration": 30,
    "start_time": "2022-03-03T11:56:10.006Z"
   },
   {
    "duration": 264,
    "start_time": "2022-03-03T11:56:10.038Z"
   },
   {
    "duration": 13,
    "start_time": "2022-03-03T11:56:10.303Z"
   },
   {
    "duration": 24,
    "start_time": "2022-03-03T11:56:10.318Z"
   },
   {
    "duration": 3,
    "start_time": "2022-03-03T11:56:10.343Z"
   },
   {
    "duration": 13,
    "start_time": "2022-03-03T11:56:10.348Z"
   },
   {
    "duration": 9,
    "start_time": "2022-03-03T11:58:11.041Z"
   },
   {
    "duration": 46,
    "start_time": "2022-03-03T11:58:21.956Z"
   },
   {
    "duration": 3,
    "start_time": "2022-03-03T11:58:22.004Z"
   },
   {
    "duration": 9,
    "start_time": "2022-03-03T11:58:22.009Z"
   },
   {
    "duration": 188,
    "start_time": "2022-03-03T11:58:22.020Z"
   },
   {
    "duration": 24,
    "start_time": "2022-03-03T11:58:22.210Z"
   },
   {
    "duration": 265,
    "start_time": "2022-03-03T11:58:22.235Z"
   },
   {
    "duration": 12,
    "start_time": "2022-03-03T11:58:22.501Z"
   },
   {
    "duration": 23,
    "start_time": "2022-03-03T11:58:22.515Z"
   },
   {
    "duration": 3,
    "start_time": "2022-03-03T11:58:22.540Z"
   },
   {
    "duration": 14,
    "start_time": "2022-03-03T11:58:22.544Z"
   },
   {
    "duration": 10,
    "start_time": "2022-03-03T11:58:38.485Z"
   },
   {
    "duration": 652,
    "start_time": "2022-03-03T12:01:02.946Z"
   },
   {
    "duration": 10,
    "start_time": "2022-03-03T12:01:47.270Z"
   },
   {
    "duration": 10,
    "start_time": "2022-03-03T12:02:05.298Z"
   },
   {
    "duration": 53,
    "start_time": "2022-03-03T12:02:11.519Z"
   },
   {
    "duration": 5,
    "start_time": "2022-03-03T12:02:11.574Z"
   },
   {
    "duration": 10,
    "start_time": "2022-03-03T12:02:11.581Z"
   },
   {
    "duration": 223,
    "start_time": "2022-03-03T12:02:11.593Z"
   },
   {
    "duration": 20,
    "start_time": "2022-03-03T12:02:11.817Z"
   },
   {
    "duration": 272,
    "start_time": "2022-03-03T12:02:11.838Z"
   },
   {
    "duration": 12,
    "start_time": "2022-03-03T12:02:12.111Z"
   },
   {
    "duration": 10,
    "start_time": "2022-03-03T12:02:12.134Z"
   },
   {
    "duration": 4,
    "start_time": "2022-03-03T12:02:12.145Z"
   },
   {
    "duration": 9,
    "start_time": "2022-03-03T12:02:12.151Z"
   },
   {
    "duration": 8,
    "start_time": "2022-03-03T12:02:12.162Z"
   },
   {
    "duration": 16,
    "start_time": "2022-03-03T12:03:08.931Z"
   },
   {
    "duration": 20,
    "start_time": "2022-03-03T12:04:08.088Z"
   },
   {
    "duration": 10,
    "start_time": "2022-03-03T12:04:58.283Z"
   },
   {
    "duration": 328,
    "start_time": "2022-03-04T10:07:59.320Z"
   },
   {
    "duration": 723,
    "start_time": "2022-03-04T10:08:03.987Z"
   },
   {
    "duration": 4,
    "start_time": "2022-03-04T10:08:04.712Z"
   },
   {
    "duration": 9,
    "start_time": "2022-03-04T10:08:04.718Z"
   },
   {
    "duration": 202,
    "start_time": "2022-03-04T10:08:04.729Z"
   },
   {
    "duration": 15,
    "start_time": "2022-03-04T10:08:04.932Z"
   },
   {
    "duration": 271,
    "start_time": "2022-03-04T10:08:04.948Z"
   },
   {
    "duration": 13,
    "start_time": "2022-03-04T10:08:05.221Z"
   },
   {
    "duration": 10,
    "start_time": "2022-03-04T10:08:05.235Z"
   },
   {
    "duration": 3,
    "start_time": "2022-03-04T10:08:05.247Z"
   },
   {
    "duration": 10,
    "start_time": "2022-03-04T10:08:05.251Z"
   },
   {
    "duration": 108,
    "start_time": "2022-03-04T10:09:11.492Z"
   },
   {
    "duration": 17,
    "start_time": "2022-03-04T10:10:07.421Z"
   },
   {
    "duration": 12,
    "start_time": "2022-03-04T10:11:04.186Z"
   },
   {
    "duration": 11,
    "start_time": "2022-03-04T10:11:36.332Z"
   },
   {
    "duration": 13,
    "start_time": "2022-03-04T10:11:54.349Z"
   },
   {
    "duration": 17,
    "start_time": "2022-03-04T10:12:10.443Z"
   },
   {
    "duration": 12,
    "start_time": "2022-03-04T10:12:28.972Z"
   },
   {
    "duration": 9,
    "start_time": "2022-03-04T10:12:42.013Z"
   },
   {
    "duration": 13,
    "start_time": "2022-03-04T10:12:45.849Z"
   },
   {
    "duration": 12,
    "start_time": "2022-03-04T10:13:15.889Z"
   },
   {
    "duration": 20,
    "start_time": "2022-03-04T10:14:10.001Z"
   },
   {
    "duration": 326,
    "start_time": "2022-03-04T10:16:27.274Z"
   },
   {
    "duration": 52,
    "start_time": "2022-03-04T10:16:43.934Z"
   },
   {
    "duration": 23,
    "start_time": "2022-03-04T10:16:43.988Z"
   },
   {
    "duration": 21,
    "start_time": "2022-03-04T10:16:44.013Z"
   },
   {
    "duration": 193,
    "start_time": "2022-03-04T10:16:44.036Z"
   },
   {
    "duration": 16,
    "start_time": "2022-03-04T10:16:44.230Z"
   },
   {
    "duration": 292,
    "start_time": "2022-03-04T10:16:44.248Z"
   },
   {
    "duration": 13,
    "start_time": "2022-03-04T10:16:44.541Z"
   },
   {
    "duration": 16,
    "start_time": "2022-03-04T10:16:44.556Z"
   },
   {
    "duration": 23,
    "start_time": "2022-03-04T10:16:44.573Z"
   },
   {
    "duration": 36,
    "start_time": "2022-03-04T10:16:44.597Z"
   },
   {
    "duration": 336,
    "start_time": "2022-03-04T10:16:44.635Z"
   },
   {
    "duration": 6,
    "start_time": "2022-03-04T10:17:47.866Z"
   },
   {
    "duration": 7,
    "start_time": "2022-03-04T10:20:31.988Z"
   },
   {
    "duration": 7,
    "start_time": "2022-03-04T10:21:04.972Z"
   },
   {
    "duration": 7,
    "start_time": "2022-03-04T10:23:42.012Z"
   },
   {
    "duration": 7,
    "start_time": "2022-03-04T10:23:56.168Z"
   },
   {
    "duration": 18,
    "start_time": "2022-03-04T10:27:22.906Z"
   },
   {
    "duration": 11,
    "start_time": "2022-03-04T10:33:10.148Z"
   },
   {
    "duration": 3,
    "start_time": "2022-03-04T10:33:23.744Z"
   },
   {
    "duration": 7711,
    "start_time": "2022-03-04T10:34:37.848Z"
   },
   {
    "duration": 7,
    "start_time": "2022-03-04T10:35:04.588Z"
   },
   {
    "duration": 536,
    "start_time": "2022-03-04T10:36:26.325Z"
   },
   {
    "duration": 32,
    "start_time": "2022-03-04T10:37:35.109Z"
   },
   {
    "duration": 6,
    "start_time": "2022-03-04T10:39:01.226Z"
   },
   {
    "duration": 62,
    "start_time": "2022-03-04T10:39:11.778Z"
   },
   {
    "duration": 4,
    "start_time": "2022-03-04T10:39:11.841Z"
   },
   {
    "duration": 8,
    "start_time": "2022-03-04T10:39:11.847Z"
   },
   {
    "duration": 209,
    "start_time": "2022-03-04T10:39:11.857Z"
   },
   {
    "duration": 16,
    "start_time": "2022-03-04T10:39:12.067Z"
   },
   {
    "duration": 271,
    "start_time": "2022-03-04T10:39:12.084Z"
   },
   {
    "duration": 12,
    "start_time": "2022-03-04T10:39:12.356Z"
   },
   {
    "duration": 9,
    "start_time": "2022-03-04T10:39:12.370Z"
   },
   {
    "duration": 22,
    "start_time": "2022-03-04T10:39:12.381Z"
   },
   {
    "duration": 18,
    "start_time": "2022-03-04T10:39:12.405Z"
   },
   {
    "duration": 6,
    "start_time": "2022-03-04T10:39:12.424Z"
   },
   {
    "duration": 94,
    "start_time": "2022-03-04T10:39:12.431Z"
   },
   {
    "duration": 18,
    "start_time": "2022-03-04T10:40:33.654Z"
   },
   {
    "duration": 37,
    "start_time": "2022-03-04T10:42:35.647Z"
   },
   {
    "duration": 16,
    "start_time": "2022-03-04T10:44:41.943Z"
   },
   {
    "duration": 28,
    "start_time": "2022-03-04T10:45:21.244Z"
   },
   {
    "duration": 64,
    "start_time": "2022-03-04T10:59:05.632Z"
   },
   {
    "duration": 4,
    "start_time": "2022-03-04T10:59:05.697Z"
   },
   {
    "duration": 21,
    "start_time": "2022-03-04T10:59:05.702Z"
   },
   {
    "duration": 200,
    "start_time": "2022-03-04T10:59:05.725Z"
   },
   {
    "duration": 16,
    "start_time": "2022-03-04T10:59:05.927Z"
   },
   {
    "duration": 259,
    "start_time": "2022-03-04T10:59:05.944Z"
   },
   {
    "duration": 11,
    "start_time": "2022-03-04T10:59:06.205Z"
   },
   {
    "duration": 16,
    "start_time": "2022-03-04T10:59:06.218Z"
   },
   {
    "duration": 7,
    "start_time": "2022-03-04T10:59:06.236Z"
   },
   {
    "duration": 22,
    "start_time": "2022-03-04T10:59:06.245Z"
   },
   {
    "duration": 6,
    "start_time": "2022-03-04T10:59:06.268Z"
   },
   {
    "duration": 46,
    "start_time": "2022-03-04T10:59:06.275Z"
   },
   {
    "duration": 49,
    "start_time": "2022-03-04T10:59:59.757Z"
   },
   {
    "duration": 3,
    "start_time": "2022-03-04T10:59:59.807Z"
   },
   {
    "duration": 9,
    "start_time": "2022-03-04T10:59:59.812Z"
   },
   {
    "duration": 202,
    "start_time": "2022-03-04T10:59:59.822Z"
   },
   {
    "duration": 16,
    "start_time": "2022-03-04T11:00:00.025Z"
   },
   {
    "duration": 283,
    "start_time": "2022-03-04T11:00:00.043Z"
   },
   {
    "duration": 13,
    "start_time": "2022-03-04T11:00:00.327Z"
   },
   {
    "duration": 10,
    "start_time": "2022-03-04T11:00:00.344Z"
   },
   {
    "duration": 4,
    "start_time": "2022-03-04T11:00:00.356Z"
   },
   {
    "duration": 42,
    "start_time": "2022-03-04T11:00:00.362Z"
   },
   {
    "duration": 8,
    "start_time": "2022-03-04T11:00:00.405Z"
   },
   {
    "duration": 44,
    "start_time": "2022-03-04T11:00:00.414Z"
   },
   {
    "duration": 175,
    "start_time": "2022-03-04T11:00:00.459Z"
   },
   {
    "duration": 318,
    "start_time": "2022-03-04T11:05:32.391Z"
   },
   {
    "duration": 322,
    "start_time": "2022-03-04T11:06:49.740Z"
   },
   {
    "duration": 310,
    "start_time": "2022-03-04T11:07:16.305Z"
   },
   {
    "duration": 354,
    "start_time": "2022-03-04T11:08:23.928Z"
   },
   {
    "duration": 320,
    "start_time": "2022-03-04T11:08:34.461Z"
   },
   {
    "duration": 443,
    "start_time": "2022-03-04T11:57:48.343Z"
   },
   {
    "duration": 332,
    "start_time": "2022-03-04T11:58:20.591Z"
   },
   {
    "duration": 7,
    "start_time": "2022-03-04T12:02:05.485Z"
   },
   {
    "duration": 6,
    "start_time": "2022-03-04T12:02:19.456Z"
   },
   {
    "duration": 294,
    "start_time": "2022-03-04T12:07:35.679Z"
   },
   {
    "duration": 4037,
    "start_time": "2022-03-04T12:13:45.965Z"
   },
   {
    "duration": 1223,
    "start_time": "2022-03-04T12:16:29.891Z"
   },
   {
    "duration": 2965,
    "start_time": "2022-03-04T12:17:09.207Z"
   },
   {
    "duration": 313,
    "start_time": "2022-03-04T12:19:03.351Z"
   },
   {
    "duration": 295,
    "start_time": "2022-03-04T12:19:21.665Z"
   },
   {
    "duration": 318,
    "start_time": "2022-03-04T12:19:39.575Z"
   },
   {
    "duration": 19,
    "start_time": "2022-03-04T12:30:49.103Z"
   },
   {
    "duration": 17,
    "start_time": "2022-03-04T12:31:49.261Z"
   },
   {
    "duration": 8,
    "start_time": "2022-03-04T12:32:03.303Z"
   },
   {
    "duration": 21,
    "start_time": "2022-03-04T12:32:16.839Z"
   },
   {
    "duration": 4,
    "start_time": "2022-03-04T12:56:19.092Z"
   },
   {
    "duration": 7,
    "start_time": "2022-03-04T12:58:18.443Z"
   },
   {
    "duration": 9,
    "start_time": "2022-03-04T12:59:34.304Z"
   },
   {
    "duration": 737,
    "start_time": "2022-03-04T12:59:53.472Z"
   },
   {
    "duration": 28,
    "start_time": "2022-03-04T13:01:50.140Z"
   },
   {
    "duration": 39,
    "start_time": "2022-03-04T13:02:28.186Z"
   },
   {
    "duration": 25,
    "start_time": "2022-03-04T13:04:22.097Z"
   },
   {
    "duration": 297,
    "start_time": "2022-03-04T13:05:10.441Z"
   },
   {
    "duration": 13,
    "start_time": "2022-03-04T13:05:31.782Z"
   },
   {
    "duration": 96,
    "start_time": "2022-03-04T13:06:33.010Z"
   },
   {
    "duration": 26,
    "start_time": "2022-03-04T13:07:04.586Z"
   },
   {
    "duration": 302,
    "start_time": "2022-03-04T13:12:57.492Z"
   },
   {
    "duration": 5,
    "start_time": "2022-03-04T13:13:11.600Z"
   },
   {
    "duration": 15,
    "start_time": "2022-03-04T13:13:22.556Z"
   },
   {
    "duration": 15,
    "start_time": "2022-03-04T13:22:05.904Z"
   },
   {
    "duration": 100,
    "start_time": "2022-03-04T15:52:39.987Z"
   },
   {
    "duration": 631,
    "start_time": "2022-03-04T15:53:48.855Z"
   },
   {
    "duration": 4,
    "start_time": "2022-03-04T15:53:49.487Z"
   },
   {
    "duration": 12,
    "start_time": "2022-03-04T15:53:49.492Z"
   },
   {
    "duration": 180,
    "start_time": "2022-03-04T15:53:49.505Z"
   },
   {
    "duration": 19,
    "start_time": "2022-03-04T15:53:49.686Z"
   },
   {
    "duration": 253,
    "start_time": "2022-03-04T15:53:49.706Z"
   },
   {
    "duration": 11,
    "start_time": "2022-03-04T15:53:49.960Z"
   },
   {
    "duration": 8,
    "start_time": "2022-03-04T15:53:49.974Z"
   },
   {
    "duration": 3,
    "start_time": "2022-03-04T15:53:49.984Z"
   },
   {
    "duration": 21,
    "start_time": "2022-03-04T15:53:49.988Z"
   },
   {
    "duration": 33,
    "start_time": "2022-03-04T15:53:50.011Z"
   },
   {
    "duration": 15,
    "start_time": "2022-03-04T15:53:50.045Z"
   },
   {
    "duration": 6,
    "start_time": "2022-03-04T15:58:21.869Z"
   },
   {
    "duration": 290,
    "start_time": "2022-03-04T15:59:31.085Z"
   },
   {
    "duration": 675,
    "start_time": "2022-03-04T16:00:34.521Z"
   },
   {
    "duration": 283,
    "start_time": "2022-03-04T16:00:49.590Z"
   },
   {
    "duration": 365,
    "start_time": "2022-03-04T16:01:37.406Z"
   },
   {
    "duration": 277,
    "start_time": "2022-03-04T16:18:11.542Z"
   },
   {
    "duration": 4,
    "start_time": "2022-03-04T16:18:21.616Z"
   },
   {
    "duration": 7,
    "start_time": "2022-03-04T16:18:44.100Z"
   },
   {
    "duration": 7,
    "start_time": "2022-03-04T16:19:30.676Z"
   },
   {
    "duration": 34,
    "start_time": "2022-03-04T16:26:50.464Z"
   },
   {
    "duration": 2106,
    "start_time": "2022-03-04T16:38:37.486Z"
   },
   {
    "duration": 115,
    "start_time": "2022-03-04T16:40:37.868Z"
   },
   {
    "duration": 141,
    "start_time": "2022-03-04T16:40:47.124Z"
   },
   {
    "duration": 14,
    "start_time": "2022-03-04T16:44:34.221Z"
   },
   {
    "duration": 18,
    "start_time": "2022-03-04T16:45:10.525Z"
   },
   {
    "duration": 10,
    "start_time": "2022-03-04T16:46:00.170Z"
   },
   {
    "duration": 18,
    "start_time": "2022-03-04T16:47:44.402Z"
   },
   {
    "duration": 350,
    "start_time": "2022-03-04T16:56:20.645Z"
   },
   {
    "duration": 9,
    "start_time": "2022-03-04T16:59:06.958Z"
   },
   {
    "duration": 6,
    "start_time": "2022-03-04T16:59:22.629Z"
   },
   {
    "duration": 305,
    "start_time": "2022-03-04T17:00:26.265Z"
   },
   {
    "duration": 297,
    "start_time": "2022-03-04T17:01:07.395Z"
   },
   {
    "duration": 305,
    "start_time": "2022-03-04T17:01:53.323Z"
   },
   {
    "duration": 280,
    "start_time": "2022-03-04T17:02:17.459Z"
   },
   {
    "duration": 125,
    "start_time": "2022-03-04T17:03:34.580Z"
   },
   {
    "duration": 233,
    "start_time": "2022-03-04T17:07:19.405Z"
   },
   {
    "duration": 207,
    "start_time": "2022-03-04T17:09:14.270Z"
   },
   {
    "duration": 514,
    "start_time": "2022-03-04T17:10:22.074Z"
   },
   {
    "duration": 60,
    "start_time": "2022-03-04T17:11:08.346Z"
   },
   {
    "duration": 3,
    "start_time": "2022-03-04T17:11:08.408Z"
   },
   {
    "duration": 9,
    "start_time": "2022-03-04T17:11:08.413Z"
   },
   {
    "duration": 191,
    "start_time": "2022-03-04T17:11:08.424Z"
   },
   {
    "duration": 15,
    "start_time": "2022-03-04T17:11:08.616Z"
   },
   {
    "duration": 257,
    "start_time": "2022-03-04T17:11:08.632Z"
   },
   {
    "duration": 16,
    "start_time": "2022-03-04T17:11:08.890Z"
   },
   {
    "duration": 8,
    "start_time": "2022-03-04T17:11:08.908Z"
   },
   {
    "duration": 3,
    "start_time": "2022-03-04T17:11:08.918Z"
   },
   {
    "duration": 8,
    "start_time": "2022-03-04T17:11:08.922Z"
   },
   {
    "duration": 31,
    "start_time": "2022-03-04T17:11:08.931Z"
   },
   {
    "duration": 15,
    "start_time": "2022-03-04T17:11:08.963Z"
   },
   {
    "duration": 460,
    "start_time": "2022-03-04T17:11:08.979Z"
   },
   {
    "duration": 6,
    "start_time": "2022-03-04T17:11:09.441Z"
   },
   {
    "duration": 530,
    "start_time": "2022-03-04T17:11:09.448Z"
   },
   {
    "duration": 210,
    "start_time": "2022-03-04T17:12:53.235Z"
   },
   {
    "duration": 277,
    "start_time": "2022-03-04T17:18:27.820Z"
   },
   {
    "duration": 324,
    "start_time": "2022-03-04T17:21:05.791Z"
   },
   {
    "duration": 321,
    "start_time": "2022-03-04T17:21:30.780Z"
   },
   {
    "duration": 387,
    "start_time": "2022-03-04T17:23:17.529Z"
   },
   {
    "duration": 1290,
    "start_time": "2022-03-04T17:23:29.277Z"
   },
   {
    "duration": 319,
    "start_time": "2022-03-04T17:28:03.899Z"
   },
   {
    "duration": 277,
    "start_time": "2022-03-04T17:28:24.895Z"
   },
   {
    "duration": 317,
    "start_time": "2022-03-04T17:28:40.503Z"
   },
   {
    "duration": 143,
    "start_time": "2022-03-04T17:31:26.313Z"
   },
   {
    "duration": 307,
    "start_time": "2022-03-04T17:31:44.770Z"
   },
   {
    "duration": 292,
    "start_time": "2022-03-04T17:32:32.960Z"
   },
   {
    "duration": 627,
    "start_time": "2022-03-04T17:33:53.494Z"
   },
   {
    "duration": 284,
    "start_time": "2022-03-04T17:35:11.422Z"
   },
   {
    "duration": 14,
    "start_time": "2022-03-04T17:45:40.817Z"
   },
   {
    "duration": 304,
    "start_time": "2022-03-04T17:46:38.055Z"
   },
   {
    "duration": 285,
    "start_time": "2022-03-04T17:49:10.923Z"
   },
   {
    "duration": 317,
    "start_time": "2022-03-04T17:50:11.991Z"
   },
   {
    "duration": 2,
    "start_time": "2022-03-04T18:19:48.142Z"
   },
   {
    "duration": 5,
    "start_time": "2022-03-04T18:27:08.305Z"
   },
   {
    "duration": 9,
    "start_time": "2022-03-04T18:27:43.534Z"
   },
   {
    "duration": 5,
    "start_time": "2022-03-04T18:28:04.238Z"
   },
   {
    "duration": 8,
    "start_time": "2022-03-04T18:29:26.218Z"
   },
   {
    "duration": 135,
    "start_time": "2022-03-04T18:30:44.106Z"
   },
   {
    "duration": 152,
    "start_time": "2022-03-04T18:31:43.990Z"
   },
   {
    "duration": 129,
    "start_time": "2022-03-04T18:32:26.255Z"
   },
   {
    "duration": 933,
    "start_time": "2022-03-05T09:41:54.652Z"
   },
   {
    "duration": 6,
    "start_time": "2022-03-05T09:41:55.587Z"
   },
   {
    "duration": 16,
    "start_time": "2022-03-05T09:41:55.595Z"
   },
   {
    "duration": 352,
    "start_time": "2022-03-05T09:41:55.613Z"
   },
   {
    "duration": 27,
    "start_time": "2022-03-05T09:41:55.967Z"
   },
   {
    "duration": 496,
    "start_time": "2022-03-05T09:41:55.997Z"
   },
   {
    "duration": 19,
    "start_time": "2022-03-05T09:41:56.496Z"
   },
   {
    "duration": 15,
    "start_time": "2022-03-05T09:41:56.518Z"
   },
   {
    "duration": 4,
    "start_time": "2022-03-05T09:41:56.535Z"
   },
   {
    "duration": 50,
    "start_time": "2022-03-05T09:41:56.542Z"
   },
   {
    "duration": 57,
    "start_time": "2022-03-05T09:41:56.595Z"
   },
   {
    "duration": 44,
    "start_time": "2022-03-05T09:41:56.654Z"
   },
   {
    "duration": 906,
    "start_time": "2022-03-05T09:41:56.700Z"
   },
   {
    "duration": 10,
    "start_time": "2022-03-05T09:41:57.608Z"
   },
   {
    "duration": 602,
    "start_time": "2022-03-05T09:41:57.621Z"
   },
   {
    "duration": 256,
    "start_time": "2022-03-05T09:41:58.226Z"
   },
   {
    "duration": 8,
    "start_time": "2022-03-05T09:59:27.522Z"
   },
   {
    "duration": 11,
    "start_time": "2022-03-05T09:59:38.337Z"
   },
   {
    "duration": 22,
    "start_time": "2022-03-05T09:59:38.351Z"
   },
   {
    "duration": 547,
    "start_time": "2022-03-05T09:59:38.376Z"
   },
   {
    "duration": 252,
    "start_time": "2022-03-05T09:59:38.925Z"
   },
   {
    "duration": 9,
    "start_time": "2022-03-05T10:01:53.577Z"
   },
   {
    "duration": 28,
    "start_time": "2022-03-05T10:01:53.589Z"
   },
   {
    "duration": 683,
    "start_time": "2022-03-05T10:01:53.621Z"
   },
   {
    "duration": 277,
    "start_time": "2022-03-05T10:01:54.306Z"
   },
   {
    "duration": 540,
    "start_time": "2022-03-05T10:15:31.301Z"
   },
   {
    "duration": 536,
    "start_time": "2022-03-05T10:16:28.321Z"
   },
   {
    "duration": 544,
    "start_time": "2022-03-05T10:17:42.893Z"
   },
   {
    "duration": 496,
    "start_time": "2022-03-05T10:20:24.605Z"
   },
   {
    "duration": 320,
    "start_time": "2022-03-05T10:22:56.164Z"
   },
   {
    "duration": 639,
    "start_time": "2022-03-05T10:23:14.192Z"
   },
   {
    "duration": 516,
    "start_time": "2022-03-05T10:24:08.457Z"
   },
   {
    "duration": 736,
    "start_time": "2022-03-05T10:24:48.776Z"
   },
   {
    "duration": 69,
    "start_time": "2022-03-05T10:25:11.964Z"
   },
   {
    "duration": 6,
    "start_time": "2022-03-05T10:25:12.035Z"
   },
   {
    "duration": 19,
    "start_time": "2022-03-05T10:25:12.044Z"
   },
   {
    "duration": 351,
    "start_time": "2022-03-05T10:25:12.088Z"
   },
   {
    "duration": 24,
    "start_time": "2022-03-05T10:25:12.441Z"
   },
   {
    "duration": 498,
    "start_time": "2022-03-05T10:25:12.467Z"
   },
   {
    "duration": 26,
    "start_time": "2022-03-05T10:25:12.968Z"
   },
   {
    "duration": 14,
    "start_time": "2022-03-05T10:25:12.997Z"
   },
   {
    "duration": 4,
    "start_time": "2022-03-05T10:25:13.014Z"
   },
   {
    "duration": 10,
    "start_time": "2022-03-05T10:25:13.020Z"
   },
   {
    "duration": 89,
    "start_time": "2022-03-05T10:25:13.032Z"
   },
   {
    "duration": 25,
    "start_time": "2022-03-05T10:25:13.124Z"
   },
   {
    "duration": 930,
    "start_time": "2022-03-05T10:25:13.152Z"
   },
   {
    "duration": 1769,
    "start_time": "2022-03-05T10:25:12.319Z"
   },
   {
    "duration": 1757,
    "start_time": "2022-03-05T10:25:12.333Z"
   },
   {
    "duration": 1747,
    "start_time": "2022-03-05T10:25:12.344Z"
   },
   {
    "duration": 1740,
    "start_time": "2022-03-05T10:25:12.352Z"
   },
   {
    "duration": 913,
    "start_time": "2022-03-05T10:26:29.629Z"
   },
   {
    "duration": 676,
    "start_time": "2022-03-05T10:26:48.099Z"
   },
   {
    "duration": 664,
    "start_time": "2022-03-05T10:27:53.017Z"
   },
   {
    "duration": 758,
    "start_time": "2022-03-05T10:28:21.541Z"
   },
   {
    "duration": 9,
    "start_time": "2022-03-05T10:28:22.301Z"
   },
   {
    "duration": 11,
    "start_time": "2022-03-05T10:28:22.313Z"
   },
   {
    "duration": 809,
    "start_time": "2022-03-05T10:28:22.327Z"
   },
   {
    "duration": 1727,
    "start_time": "2022-03-05T10:28:21.412Z"
   },
   {
    "duration": 80,
    "start_time": "2022-03-05T10:29:19.134Z"
   },
   {
    "duration": 6,
    "start_time": "2022-03-05T10:29:19.216Z"
   },
   {
    "duration": 16,
    "start_time": "2022-03-05T10:29:19.224Z"
   },
   {
    "duration": 361,
    "start_time": "2022-03-05T10:29:19.243Z"
   },
   {
    "duration": 24,
    "start_time": "2022-03-05T10:29:19.606Z"
   },
   {
    "duration": 496,
    "start_time": "2022-03-05T10:29:19.632Z"
   },
   {
    "duration": 18,
    "start_time": "2022-03-05T10:29:20.131Z"
   },
   {
    "duration": 35,
    "start_time": "2022-03-05T10:29:20.153Z"
   },
   {
    "duration": 5,
    "start_time": "2022-03-05T10:29:20.190Z"
   },
   {
    "duration": 13,
    "start_time": "2022-03-05T10:29:20.197Z"
   },
   {
    "duration": 52,
    "start_time": "2022-03-05T10:29:20.212Z"
   },
   {
    "duration": 25,
    "start_time": "2022-03-05T10:29:20.286Z"
   },
   {
    "duration": 689,
    "start_time": "2022-03-05T10:29:20.313Z"
   },
   {
    "duration": 10,
    "start_time": "2022-03-05T10:29:21.004Z"
   },
   {
    "duration": 13,
    "start_time": "2022-03-05T10:29:21.016Z"
   },
   {
    "duration": 814,
    "start_time": "2022-03-05T10:29:21.032Z"
   },
   {
    "duration": 1277,
    "start_time": "2022-03-05T10:29:20.571Z"
   },
   {
    "duration": 72,
    "start_time": "2022-03-05T10:34:21.111Z"
   },
   {
    "duration": 6,
    "start_time": "2022-03-05T10:34:21.185Z"
   },
   {
    "duration": 14,
    "start_time": "2022-03-05T10:34:21.193Z"
   },
   {
    "duration": 364,
    "start_time": "2022-03-05T10:34:21.210Z"
   },
   {
    "duration": 29,
    "start_time": "2022-03-05T10:34:21.576Z"
   },
   {
    "duration": 507,
    "start_time": "2022-03-05T10:34:21.608Z"
   },
   {
    "duration": 19,
    "start_time": "2022-03-05T10:34:22.117Z"
   },
   {
    "duration": 14,
    "start_time": "2022-03-05T10:34:22.139Z"
   },
   {
    "duration": 4,
    "start_time": "2022-03-05T10:34:22.156Z"
   },
   {
    "duration": 15,
    "start_time": "2022-03-05T10:34:22.188Z"
   },
   {
    "duration": 65,
    "start_time": "2022-03-05T10:34:22.205Z"
   },
   {
    "duration": 40,
    "start_time": "2022-03-05T10:34:22.273Z"
   },
   {
    "duration": 710,
    "start_time": "2022-03-05T10:34:22.316Z"
   },
   {
    "duration": 11,
    "start_time": "2022-03-05T10:34:23.029Z"
   },
   {
    "duration": 12,
    "start_time": "2022-03-05T10:34:23.042Z"
   },
   {
    "duration": 812,
    "start_time": "2022-03-05T10:34:23.057Z"
   },
   {
    "duration": 1737,
    "start_time": "2022-03-05T10:34:22.134Z"
   },
   {
    "duration": 856,
    "start_time": "2022-03-05T10:35:17.835Z"
   },
   {
    "duration": 551,
    "start_time": "2022-03-05T10:37:22.571Z"
   },
   {
    "duration": 522,
    "start_time": "2022-03-05T10:37:46.578Z"
   },
   {
    "duration": 538,
    "start_time": "2022-03-05T10:37:53.338Z"
   },
   {
    "duration": 762,
    "start_time": "2022-03-05T10:38:03.189Z"
   },
   {
    "duration": 787,
    "start_time": "2022-03-05T10:38:17.777Z"
   },
   {
    "duration": 749,
    "start_time": "2022-03-05T10:40:56.076Z"
   },
   {
    "duration": 837,
    "start_time": "2022-03-05T10:41:32.263Z"
   },
   {
    "duration": 669,
    "start_time": "2022-03-05T10:42:05.586Z"
   },
   {
    "duration": 796,
    "start_time": "2022-03-05T10:42:14.474Z"
   },
   {
    "duration": 490,
    "start_time": "2022-03-05T10:42:21.102Z"
   },
   {
    "duration": 69,
    "start_time": "2022-03-05T10:42:30.735Z"
   },
   {
    "duration": 6,
    "start_time": "2022-03-05T10:42:30.806Z"
   },
   {
    "duration": 18,
    "start_time": "2022-03-05T10:42:30.815Z"
   },
   {
    "duration": 452,
    "start_time": "2022-03-05T10:42:30.835Z"
   },
   {
    "duration": 25,
    "start_time": "2022-03-05T10:42:31.289Z"
   },
   {
    "duration": 500,
    "start_time": "2022-03-05T10:42:31.316Z"
   },
   {
    "duration": 19,
    "start_time": "2022-03-05T10:42:31.818Z"
   },
   {
    "duration": 14,
    "start_time": "2022-03-05T10:42:31.840Z"
   },
   {
    "duration": 30,
    "start_time": "2022-03-05T10:42:31.857Z"
   },
   {
    "duration": 10,
    "start_time": "2022-03-05T10:42:31.889Z"
   },
   {
    "duration": 59,
    "start_time": "2022-03-05T10:42:31.901Z"
   },
   {
    "duration": 43,
    "start_time": "2022-03-05T10:42:31.963Z"
   },
   {
    "duration": 692,
    "start_time": "2022-03-05T10:42:32.008Z"
   },
   {
    "duration": 8,
    "start_time": "2022-03-05T10:42:32.702Z"
   },
   {
    "duration": 11,
    "start_time": "2022-03-05T10:42:32.712Z"
   },
   {
    "duration": 825,
    "start_time": "2022-03-05T10:42:32.725Z"
   },
   {
    "duration": 1695,
    "start_time": "2022-03-05T10:42:31.858Z"
   },
   {
    "duration": 542,
    "start_time": "2022-03-05T10:49:10.913Z"
   },
   {
    "duration": 784,
    "start_time": "2022-03-05T10:49:42.665Z"
   },
   {
    "duration": 869,
    "start_time": "2022-03-05T10:50:18.168Z"
   },
   {
    "duration": 772,
    "start_time": "2022-03-05T10:51:55.498Z"
   },
   {
    "duration": 642,
    "start_time": "2022-03-06T09:26:05.942Z"
   },
   {
    "duration": 4,
    "start_time": "2022-03-06T09:26:06.586Z"
   },
   {
    "duration": 10,
    "start_time": "2022-03-06T09:26:06.592Z"
   },
   {
    "duration": 184,
    "start_time": "2022-03-06T09:26:06.603Z"
   },
   {
    "duration": 19,
    "start_time": "2022-03-06T09:26:06.788Z"
   },
   {
    "duration": 258,
    "start_time": "2022-03-06T09:26:06.808Z"
   },
   {
    "duration": 12,
    "start_time": "2022-03-06T09:26:07.067Z"
   },
   {
    "duration": 24,
    "start_time": "2022-03-06T09:26:07.081Z"
   },
   {
    "duration": 3,
    "start_time": "2022-03-06T09:26:07.106Z"
   },
   {
    "duration": 13,
    "start_time": "2022-03-06T09:26:07.110Z"
   },
   {
    "duration": 32,
    "start_time": "2022-03-06T09:26:07.124Z"
   },
   {
    "duration": 15,
    "start_time": "2022-03-06T09:26:07.158Z"
   },
   {
    "duration": 401,
    "start_time": "2022-03-06T09:26:07.175Z"
   },
   {
    "duration": 6,
    "start_time": "2022-03-06T09:26:07.577Z"
   },
   {
    "duration": 20,
    "start_time": "2022-03-06T09:26:07.585Z"
   },
   {
    "duration": 352,
    "start_time": "2022-03-06T09:26:07.606Z"
   },
   {
    "duration": 147,
    "start_time": "2022-03-06T09:26:07.959Z"
   },
   {
    "duration": 307,
    "start_time": "2022-03-06T09:27:10.130Z"
   },
   {
    "duration": 9,
    "start_time": "2022-03-06T09:28:45.719Z"
   },
   {
    "duration": 8,
    "start_time": "2022-03-06T09:30:23.456Z"
   },
   {
    "duration": 51,
    "start_time": "2022-03-06T09:33:54.705Z"
   },
   {
    "duration": 4,
    "start_time": "2022-03-06T09:33:54.757Z"
   },
   {
    "duration": 7,
    "start_time": "2022-03-06T09:33:54.763Z"
   },
   {
    "duration": 186,
    "start_time": "2022-03-06T09:33:54.772Z"
   },
   {
    "duration": 15,
    "start_time": "2022-03-06T09:33:54.959Z"
   },
   {
    "duration": 265,
    "start_time": "2022-03-06T09:33:54.976Z"
   },
   {
    "duration": 12,
    "start_time": "2022-03-06T09:33:55.242Z"
   },
   {
    "duration": 10,
    "start_time": "2022-03-06T09:33:55.256Z"
   },
   {
    "duration": 3,
    "start_time": "2022-03-06T09:33:55.267Z"
   },
   {
    "duration": 6,
    "start_time": "2022-03-06T09:33:55.272Z"
   },
   {
    "duration": 53,
    "start_time": "2022-03-06T09:33:55.279Z"
   },
   {
    "duration": 15,
    "start_time": "2022-03-06T09:33:55.334Z"
   },
   {
    "duration": 369,
    "start_time": "2022-03-06T09:33:55.351Z"
   },
   {
    "duration": 5,
    "start_time": "2022-03-06T09:33:55.722Z"
   },
   {
    "duration": 7,
    "start_time": "2022-03-06T09:33:55.729Z"
   },
   {
    "duration": 490,
    "start_time": "2022-03-06T09:33:55.738Z"
   },
   {
    "duration": 694,
    "start_time": "2022-03-06T09:33:55.536Z"
   },
   {
    "duration": 63,
    "start_time": "2022-03-06T09:35:36.089Z"
   },
   {
    "duration": 4,
    "start_time": "2022-03-06T09:35:36.154Z"
   },
   {
    "duration": 7,
    "start_time": "2022-03-06T09:35:36.160Z"
   },
   {
    "duration": 202,
    "start_time": "2022-03-06T09:35:36.169Z"
   },
   {
    "duration": 15,
    "start_time": "2022-03-06T09:35:36.373Z"
   },
   {
    "duration": 274,
    "start_time": "2022-03-06T09:35:36.390Z"
   },
   {
    "duration": 11,
    "start_time": "2022-03-06T09:35:36.666Z"
   },
   {
    "duration": 10,
    "start_time": "2022-03-06T09:35:36.679Z"
   },
   {
    "duration": 3,
    "start_time": "2022-03-06T09:35:36.701Z"
   },
   {
    "duration": 7,
    "start_time": "2022-03-06T09:35:36.706Z"
   },
   {
    "duration": 32,
    "start_time": "2022-03-06T09:35:36.714Z"
   },
   {
    "duration": 15,
    "start_time": "2022-03-06T09:35:36.747Z"
   },
   {
    "duration": 386,
    "start_time": "2022-03-06T09:35:36.763Z"
   },
   {
    "duration": 6,
    "start_time": "2022-03-06T09:35:37.151Z"
   },
   {
    "duration": 7,
    "start_time": "2022-03-06T09:35:37.158Z"
   },
   {
    "duration": 328,
    "start_time": "2022-03-06T09:35:37.166Z"
   },
   {
    "duration": 14,
    "start_time": "2022-03-06T09:35:37.495Z"
   },
   {
    "duration": 6,
    "start_time": "2022-03-06T09:37:31.279Z"
   },
   {
    "duration": 7,
    "start_time": "2022-03-06T09:37:36.602Z"
   },
   {
    "duration": 96,
    "start_time": "2022-03-06T09:38:53.931Z"
   },
   {
    "duration": 387,
    "start_time": "2022-03-06T09:44:32.417Z"
   },
   {
    "duration": 358,
    "start_time": "2022-03-06T09:52:53.644Z"
   },
   {
    "duration": 417,
    "start_time": "2022-03-06T09:53:26.179Z"
   },
   {
    "duration": 98,
    "start_time": "2022-03-06T09:55:38.084Z"
   },
   {
    "duration": 2744,
    "start_time": "2022-03-06T09:55:44.017Z"
   },
   {
    "duration": 434,
    "start_time": "2022-03-06T09:59:47.781Z"
   },
   {
    "duration": 330,
    "start_time": "2022-03-06T10:02:33.590Z"
   },
   {
    "duration": 50,
    "start_time": "2022-03-06T10:02:47.090Z"
   },
   {
    "duration": 4,
    "start_time": "2022-03-06T10:02:47.142Z"
   },
   {
    "duration": 9,
    "start_time": "2022-03-06T10:02:47.148Z"
   },
   {
    "duration": 206,
    "start_time": "2022-03-06T10:02:47.159Z"
   },
   {
    "duration": 15,
    "start_time": "2022-03-06T10:02:47.367Z"
   },
   {
    "duration": 271,
    "start_time": "2022-03-06T10:02:47.384Z"
   },
   {
    "duration": 11,
    "start_time": "2022-03-06T10:02:47.657Z"
   },
   {
    "duration": 9,
    "start_time": "2022-03-06T10:02:47.670Z"
   },
   {
    "duration": 21,
    "start_time": "2022-03-06T10:02:47.681Z"
   },
   {
    "duration": 8,
    "start_time": "2022-03-06T10:02:47.704Z"
   },
   {
    "duration": 34,
    "start_time": "2022-03-06T10:02:47.713Z"
   },
   {
    "duration": 15,
    "start_time": "2022-03-06T10:02:47.748Z"
   },
   {
    "duration": 370,
    "start_time": "2022-03-06T10:02:47.764Z"
   },
   {
    "duration": 5,
    "start_time": "2022-03-06T10:02:48.136Z"
   },
   {
    "duration": 8,
    "start_time": "2022-03-06T10:02:48.142Z"
   },
   {
    "duration": 323,
    "start_time": "2022-03-06T10:02:48.151Z"
   },
   {
    "duration": 5,
    "start_time": "2022-03-06T10:02:48.475Z"
   },
   {
    "duration": 20,
    "start_time": "2022-03-06T10:02:48.481Z"
   },
   {
    "duration": 389,
    "start_time": "2022-03-06T10:02:48.502Z"
   },
   {
    "duration": 428,
    "start_time": "2022-03-06T10:02:48.901Z"
   },
   {
    "duration": 405,
    "start_time": "2022-03-06T10:03:16.027Z"
   },
   {
    "duration": 147,
    "start_time": "2022-03-06T10:17:51.603Z"
   },
   {
    "duration": 942,
    "start_time": "2022-03-06T10:17:57.159Z"
   },
   {
    "duration": 471,
    "start_time": "2022-03-06T10:20:12.468Z"
   },
   {
    "duration": 4,
    "start_time": "2022-03-06T10:20:12.941Z"
   },
   {
    "duration": 7,
    "start_time": "2022-03-06T10:20:12.947Z"
   },
   {
    "duration": 246,
    "start_time": "2022-03-06T10:20:12.956Z"
   },
   {
    "duration": 15,
    "start_time": "2022-03-06T10:20:13.203Z"
   },
   {
    "duration": 265,
    "start_time": "2022-03-06T10:20:13.219Z"
   },
   {
    "duration": 17,
    "start_time": "2022-03-06T10:20:13.485Z"
   },
   {
    "duration": 9,
    "start_time": "2022-03-06T10:20:13.504Z"
   },
   {
    "duration": 5,
    "start_time": "2022-03-06T10:20:13.514Z"
   },
   {
    "duration": 7,
    "start_time": "2022-03-06T10:20:13.520Z"
   },
   {
    "duration": 32,
    "start_time": "2022-03-06T10:20:13.528Z"
   },
   {
    "duration": 15,
    "start_time": "2022-03-06T10:20:13.561Z"
   },
   {
    "duration": 364,
    "start_time": "2022-03-06T10:20:13.601Z"
   },
   {
    "duration": 5,
    "start_time": "2022-03-06T10:20:13.967Z"
   },
   {
    "duration": 6,
    "start_time": "2022-03-06T10:20:13.974Z"
   },
   {
    "duration": 328,
    "start_time": "2022-03-06T10:20:13.981Z"
   },
   {
    "duration": 5,
    "start_time": "2022-03-06T10:20:14.311Z"
   },
   {
    "duration": 6,
    "start_time": "2022-03-06T10:20:14.318Z"
   },
   {
    "duration": 505,
    "start_time": "2022-03-06T10:20:14.326Z"
   },
   {
    "duration": 416,
    "start_time": "2022-03-06T10:20:14.832Z"
   },
   {
    "duration": 1110,
    "start_time": "2022-03-06T10:20:15.250Z"
   },
   {
    "duration": 50,
    "start_time": "2022-03-06T10:26:36.930Z"
   },
   {
    "duration": 4,
    "start_time": "2022-03-06T10:26:36.982Z"
   },
   {
    "duration": 8,
    "start_time": "2022-03-06T10:26:36.988Z"
   },
   {
    "duration": 183,
    "start_time": "2022-03-06T10:26:36.997Z"
   },
   {
    "duration": 20,
    "start_time": "2022-03-06T10:26:37.181Z"
   },
   {
    "duration": 265,
    "start_time": "2022-03-06T10:26:37.203Z"
   },
   {
    "duration": 12,
    "start_time": "2022-03-06T10:26:37.470Z"
   },
   {
    "duration": 22,
    "start_time": "2022-03-06T10:26:37.483Z"
   },
   {
    "duration": 3,
    "start_time": "2022-03-06T10:26:37.507Z"
   },
   {
    "duration": 9,
    "start_time": "2022-03-06T10:26:37.512Z"
   },
   {
    "duration": 35,
    "start_time": "2022-03-06T10:26:37.522Z"
   },
   {
    "duration": 17,
    "start_time": "2022-03-06T10:26:37.558Z"
   },
   {
    "duration": 385,
    "start_time": "2022-03-06T10:26:37.576Z"
   },
   {
    "duration": 6,
    "start_time": "2022-03-06T10:26:37.962Z"
   },
   {
    "duration": 6,
    "start_time": "2022-03-06T10:26:37.970Z"
   },
   {
    "duration": 326,
    "start_time": "2022-03-06T10:26:37.977Z"
   },
   {
    "duration": 6,
    "start_time": "2022-03-06T10:26:38.304Z"
   },
   {
    "duration": 8,
    "start_time": "2022-03-06T10:26:38.311Z"
   },
   {
    "duration": 390,
    "start_time": "2022-03-06T10:26:38.320Z"
   },
   {
    "duration": 413,
    "start_time": "2022-03-06T10:26:38.712Z"
   },
   {
    "duration": 1142,
    "start_time": "2022-03-06T10:26:39.126Z"
   },
   {
    "duration": 105,
    "start_time": "2022-03-06T10:26:40.270Z"
   },
   {
    "duration": 3544,
    "start_time": "2022-03-06T10:33:00.885Z"
   },
   {
    "duration": 3960,
    "start_time": "2022-03-06T10:35:45.562Z"
   },
   {
    "duration": 3547,
    "start_time": "2022-03-06T10:36:40.729Z"
   },
   {
    "duration": 4090,
    "start_time": "2022-03-06T10:38:05.195Z"
   },
   {
    "duration": 329,
    "start_time": "2022-03-06T10:43:52.536Z"
   },
   {
    "duration": 6,
    "start_time": "2022-03-06T10:44:00.093Z"
   },
   {
    "duration": 13,
    "start_time": "2022-03-06T10:44:29.312Z"
   },
   {
    "duration": 6,
    "start_time": "2022-03-06T10:44:43.544Z"
   },
   {
    "duration": 12,
    "start_time": "2022-03-06T10:45:54.395Z"
   },
   {
    "duration": 7,
    "start_time": "2022-03-06T10:48:32.498Z"
   },
   {
    "duration": 6,
    "start_time": "2022-03-06T10:48:55.346Z"
   },
   {
    "duration": 1557,
    "start_time": "2022-03-07T10:13:06.270Z"
   },
   {
    "duration": 7,
    "start_time": "2022-03-07T10:13:07.829Z"
   },
   {
    "duration": 35,
    "start_time": "2022-03-07T10:13:07.840Z"
   },
   {
    "duration": 542,
    "start_time": "2022-03-07T10:13:07.878Z"
   },
   {
    "duration": 35,
    "start_time": "2022-03-07T10:13:08.423Z"
   },
   {
    "duration": 989,
    "start_time": "2022-03-07T10:13:08.474Z"
   },
   {
    "duration": 24,
    "start_time": "2022-03-07T10:13:09.466Z"
   },
   {
    "duration": 18,
    "start_time": "2022-03-07T10:13:09.494Z"
   },
   {
    "duration": 4,
    "start_time": "2022-03-07T10:13:09.515Z"
   },
   {
    "duration": 19,
    "start_time": "2022-03-07T10:13:09.522Z"
   },
   {
    "duration": 109,
    "start_time": "2022-03-07T10:13:09.543Z"
   },
   {
    "duration": 54,
    "start_time": "2022-03-07T10:13:09.655Z"
   },
   {
    "duration": 1086,
    "start_time": "2022-03-07T10:13:09.712Z"
   },
   {
    "duration": 12,
    "start_time": "2022-03-07T10:13:10.801Z"
   },
   {
    "duration": 15,
    "start_time": "2022-03-07T10:13:10.816Z"
   },
   {
    "duration": 893,
    "start_time": "2022-03-07T10:13:10.834Z"
   },
   {
    "duration": 10,
    "start_time": "2022-03-07T10:13:11.730Z"
   },
   {
    "duration": 37,
    "start_time": "2022-03-07T10:13:11.743Z"
   },
   {
    "duration": 718,
    "start_time": "2022-03-07T10:13:11.783Z"
   },
   {
    "duration": 877,
    "start_time": "2022-03-07T10:13:12.503Z"
   },
   {
    "duration": 2083,
    "start_time": "2022-03-07T10:13:13.382Z"
   },
   {
    "duration": 9265,
    "start_time": "2022-03-07T10:13:15.467Z"
   },
   {
    "duration": 9,
    "start_time": "2022-03-07T10:13:24.736Z"
   },
   {
    "duration": 34,
    "start_time": "2022-03-07T10:13:24.748Z"
   },
   {
    "duration": 10,
    "start_time": "2022-03-07T10:13:24.785Z"
   },
   {
    "duration": 401,
    "start_time": "2022-03-07T10:15:55.868Z"
   },
   {
    "duration": 277,
    "start_time": "2022-03-07T10:16:18.418Z"
   },
   {
    "duration": 19,
    "start_time": "2022-03-07T10:16:35.183Z"
   },
   {
    "duration": 73,
    "start_time": "2022-03-07T10:20:59.581Z"
   },
   {
    "duration": 22,
    "start_time": "2022-03-07T10:21:17.269Z"
   },
   {
    "duration": 20,
    "start_time": "2022-03-07T10:40:04.827Z"
   },
   {
    "duration": 35,
    "start_time": "2022-03-07T10:42:01.420Z"
   },
   {
    "duration": 43,
    "start_time": "2022-03-07T10:42:15.548Z"
   },
   {
    "duration": 83,
    "start_time": "2022-03-07T10:42:40.920Z"
   },
   {
    "duration": 6,
    "start_time": "2022-03-07T10:42:41.007Z"
   },
   {
    "duration": 22,
    "start_time": "2022-03-07T10:42:41.016Z"
   },
   {
    "duration": 421,
    "start_time": "2022-03-07T10:42:41.041Z"
   },
   {
    "duration": 34,
    "start_time": "2022-03-07T10:42:41.464Z"
   },
   {
    "duration": 615,
    "start_time": "2022-03-07T10:42:41.500Z"
   },
   {
    "duration": 22,
    "start_time": "2022-03-07T10:42:42.117Z"
   },
   {
    "duration": 42,
    "start_time": "2022-03-07T10:42:42.145Z"
   },
   {
    "duration": 6,
    "start_time": "2022-03-07T10:42:42.191Z"
   },
   {
    "duration": 28,
    "start_time": "2022-03-07T10:42:42.200Z"
   },
   {
    "duration": 78,
    "start_time": "2022-03-07T10:42:42.231Z"
   },
   {
    "duration": 32,
    "start_time": "2022-03-07T10:42:42.312Z"
   },
   {
    "duration": 771,
    "start_time": "2022-03-07T10:42:42.347Z"
   },
   {
    "duration": 9,
    "start_time": "2022-03-07T10:42:43.121Z"
   },
   {
    "duration": 29,
    "start_time": "2022-03-07T10:42:43.132Z"
   },
   {
    "duration": 634,
    "start_time": "2022-03-07T10:42:43.163Z"
   },
   {
    "duration": 7,
    "start_time": "2022-03-07T10:42:43.800Z"
   },
   {
    "duration": 11,
    "start_time": "2022-03-07T10:42:43.810Z"
   },
   {
    "duration": 790,
    "start_time": "2022-03-07T10:42:43.824Z"
   },
   {
    "duration": 1356,
    "start_time": "2022-03-07T10:42:44.617Z"
   },
   {
    "duration": 1971,
    "start_time": "2022-03-07T10:42:45.977Z"
   },
   {
    "duration": 7827,
    "start_time": "2022-03-07T10:42:47.951Z"
   },
   {
    "duration": 21,
    "start_time": "2022-03-07T10:42:55.788Z"
   },
   {
    "duration": 21,
    "start_time": "2022-03-07T10:42:55.811Z"
   },
   {
    "duration": 74,
    "start_time": "2022-03-07T10:42:55.834Z"
   },
   {
    "duration": 465,
    "start_time": "2022-03-07T10:52:53.899Z"
   },
   {
    "duration": 21,
    "start_time": "2022-03-07T10:53:22.312Z"
   },
   {
    "duration": 435,
    "start_time": "2022-03-07T10:54:16.477Z"
   },
   {
    "duration": 11,
    "start_time": "2022-03-07T10:54:30.684Z"
   },
   {
    "duration": 23,
    "start_time": "2022-03-07T10:56:21.209Z"
   },
   {
    "duration": 13,
    "start_time": "2022-03-07T10:58:14.390Z"
   },
   {
    "duration": 25,
    "start_time": "2022-03-07T10:58:51.782Z"
   },
   {
    "duration": 52,
    "start_time": "2022-03-07T10:59:44.714Z"
   },
   {
    "duration": 78,
    "start_time": "2022-03-07T11:35:17.302Z"
   },
   {
    "duration": 4,
    "start_time": "2022-03-07T12:03:36.935Z"
   },
   {
    "duration": 88,
    "start_time": "2022-03-07T12:03:46.375Z"
   },
   {
    "duration": 267,
    "start_time": "2022-03-07T12:04:27.648Z"
   },
   {
    "duration": 284,
    "start_time": "2022-03-07T12:05:13.088Z"
   },
   {
    "duration": 532,
    "start_time": "2022-03-07T12:05:28.760Z"
   },
   {
    "duration": 4,
    "start_time": "2022-03-07T12:06:23.864Z"
   },
   {
    "duration": 538,
    "start_time": "2022-03-07T12:06:26.128Z"
   },
   {
    "duration": 627,
    "start_time": "2022-03-07T12:07:12.481Z"
   },
   {
    "duration": 52,
    "start_time": "2022-03-07T12:07:59.328Z"
   },
   {
    "duration": 48,
    "start_time": "2022-03-07T12:19:50.301Z"
   },
   {
    "duration": 13,
    "start_time": "2022-03-07T12:44:10.945Z"
   },
   {
    "duration": 29,
    "start_time": "2022-03-07T12:44:22.894Z"
   },
   {
    "duration": 14,
    "start_time": "2022-03-07T12:45:27.958Z"
   },
   {
    "duration": 402,
    "start_time": "2022-03-07T12:50:37.663Z"
   },
   {
    "duration": 1145,
    "start_time": "2022-03-07T12:54:17.848Z"
   },
   {
    "duration": 1224,
    "start_time": "2022-03-07T12:54:55.281Z"
   },
   {
    "duration": 9,
    "start_time": "2022-03-07T12:58:13.689Z"
   },
   {
    "duration": 126,
    "start_time": "2022-03-07T13:06:41.943Z"
   },
   {
    "duration": 132,
    "start_time": "2022-03-07T13:07:49.657Z"
   },
   {
    "duration": 2590,
    "start_time": "2022-03-07T13:09:09.715Z"
   },
   {
    "duration": 2616,
    "start_time": "2022-03-07T13:09:22.875Z"
   },
   {
    "duration": 66,
    "start_time": "2022-03-07T15:00:56.563Z"
   },
   {
    "duration": 6,
    "start_time": "2022-03-07T15:00:56.632Z"
   },
   {
    "duration": 38,
    "start_time": "2022-03-07T15:00:56.641Z"
   },
   {
    "duration": 376,
    "start_time": "2022-03-07T15:00:56.682Z"
   },
   {
    "duration": 23,
    "start_time": "2022-03-07T15:00:57.060Z"
   },
   {
    "duration": 487,
    "start_time": "2022-03-07T15:00:57.086Z"
   },
   {
    "duration": 18,
    "start_time": "2022-03-07T15:00:57.575Z"
   },
   {
    "duration": 15,
    "start_time": "2022-03-07T15:00:57.597Z"
   },
   {
    "duration": 6,
    "start_time": "2022-03-07T15:00:57.615Z"
   },
   {
    "duration": 51,
    "start_time": "2022-03-07T15:00:57.624Z"
   },
   {
    "duration": 56,
    "start_time": "2022-03-07T15:00:57.677Z"
   },
   {
    "duration": 42,
    "start_time": "2022-03-07T15:00:57.735Z"
   },
   {
    "duration": 711,
    "start_time": "2022-03-07T15:00:57.780Z"
   },
   {
    "duration": 9,
    "start_time": "2022-03-07T15:00:58.493Z"
   },
   {
    "duration": 10,
    "start_time": "2022-03-07T15:00:58.505Z"
   },
   {
    "duration": 580,
    "start_time": "2022-03-07T15:00:58.517Z"
   },
   {
    "duration": 8,
    "start_time": "2022-03-07T15:00:59.100Z"
   },
   {
    "duration": 12,
    "start_time": "2022-03-07T15:00:59.111Z"
   },
   {
    "duration": 731,
    "start_time": "2022-03-07T15:00:59.126Z"
   },
   {
    "duration": 795,
    "start_time": "2022-03-07T15:00:59.860Z"
   },
   {
    "duration": 1920,
    "start_time": "2022-03-07T15:01:00.657Z"
   },
   {
    "duration": 7006,
    "start_time": "2022-03-07T15:01:02.579Z"
   },
   {
    "duration": 20,
    "start_time": "2022-03-07T15:01:09.589Z"
   },
   {
    "duration": 43,
    "start_time": "2022-03-07T15:01:09.611Z"
   },
   {
    "duration": 60,
    "start_time": "2022-03-07T15:01:09.656Z"
   },
   {
    "duration": 78,
    "start_time": "2022-03-07T15:01:09.718Z"
   },
   {
    "duration": 1158,
    "start_time": "2022-03-07T15:01:09.799Z"
   },
   {
    "duration": 69,
    "start_time": "2022-03-07T15:09:25.511Z"
   },
   {
    "duration": 6,
    "start_time": "2022-03-07T15:09:25.583Z"
   },
   {
    "duration": 12,
    "start_time": "2022-03-07T15:09:25.592Z"
   },
   {
    "duration": 376,
    "start_time": "2022-03-07T15:09:25.606Z"
   },
   {
    "duration": 24,
    "start_time": "2022-03-07T15:09:25.984Z"
   },
   {
    "duration": 506,
    "start_time": "2022-03-07T15:09:26.010Z"
   },
   {
    "duration": 19,
    "start_time": "2022-03-07T15:09:26.518Z"
   },
   {
    "duration": 40,
    "start_time": "2022-03-07T15:09:26.541Z"
   },
   {
    "duration": 5,
    "start_time": "2022-03-07T15:09:26.584Z"
   },
   {
    "duration": 12,
    "start_time": "2022-03-07T15:09:26.591Z"
   },
   {
    "duration": 80,
    "start_time": "2022-03-07T15:09:26.606Z"
   },
   {
    "duration": 25,
    "start_time": "2022-03-07T15:09:26.688Z"
   },
   {
    "duration": 691,
    "start_time": "2022-03-07T15:09:26.716Z"
   },
   {
    "duration": 10,
    "start_time": "2022-03-07T15:09:27.410Z"
   },
   {
    "duration": 13,
    "start_time": "2022-03-07T15:09:27.422Z"
   },
   {
    "duration": 583,
    "start_time": "2022-03-07T15:09:27.438Z"
   },
   {
    "duration": 9,
    "start_time": "2022-03-07T15:09:28.024Z"
   },
   {
    "duration": 39,
    "start_time": "2022-03-07T15:09:28.036Z"
   },
   {
    "duration": 804,
    "start_time": "2022-03-07T15:09:28.077Z"
   },
   {
    "duration": 950,
    "start_time": "2022-03-07T15:09:28.884Z"
   },
   {
    "duration": 2024,
    "start_time": "2022-03-07T15:09:29.837Z"
   },
   {
    "duration": 6778,
    "start_time": "2022-03-07T15:09:31.863Z"
   },
   {
    "duration": 35,
    "start_time": "2022-03-07T15:09:38.648Z"
   },
   {
    "duration": 20,
    "start_time": "2022-03-07T15:09:38.686Z"
   },
   {
    "duration": 77,
    "start_time": "2022-03-07T15:09:38.709Z"
   },
   {
    "duration": 49,
    "start_time": "2022-03-07T15:09:38.788Z"
   },
   {
    "duration": 1176,
    "start_time": "2022-03-07T15:09:38.840Z"
   },
   {
    "duration": 13,
    "start_time": "2022-03-07T15:09:40.019Z"
   },
   {
    "duration": 289,
    "start_time": "2022-03-07T15:12:07.504Z"
   },
   {
    "duration": 17,
    "start_time": "2022-03-07T15:12:53.677Z"
   },
   {
    "duration": 71,
    "start_time": "2022-03-07T15:14:00.301Z"
   },
   {
    "duration": 6,
    "start_time": "2022-03-07T15:14:00.374Z"
   },
   {
    "duration": 18,
    "start_time": "2022-03-07T15:14:00.384Z"
   },
   {
    "duration": 387,
    "start_time": "2022-03-07T15:14:00.405Z"
   },
   {
    "duration": 28,
    "start_time": "2022-03-07T15:14:00.795Z"
   },
   {
    "duration": 515,
    "start_time": "2022-03-07T15:14:00.825Z"
   },
   {
    "duration": 33,
    "start_time": "2022-03-07T15:14:01.342Z"
   },
   {
    "duration": 16,
    "start_time": "2022-03-07T15:14:01.379Z"
   },
   {
    "duration": 4,
    "start_time": "2022-03-07T15:14:01.398Z"
   },
   {
    "duration": 15,
    "start_time": "2022-03-07T15:14:01.404Z"
   },
   {
    "duration": 100,
    "start_time": "2022-03-07T15:14:01.421Z"
   },
   {
    "duration": 28,
    "start_time": "2022-03-07T15:14:01.523Z"
   },
   {
    "duration": 689,
    "start_time": "2022-03-07T15:14:01.574Z"
   },
   {
    "duration": 9,
    "start_time": "2022-03-07T15:14:02.273Z"
   },
   {
    "duration": 15,
    "start_time": "2022-03-07T15:14:02.284Z"
   },
   {
    "duration": 583,
    "start_time": "2022-03-07T15:14:02.302Z"
   },
   {
    "duration": 10,
    "start_time": "2022-03-07T15:14:02.888Z"
   },
   {
    "duration": 13,
    "start_time": "2022-03-07T15:14:02.901Z"
   },
   {
    "duration": 880,
    "start_time": "2022-03-07T15:14:02.917Z"
   },
   {
    "duration": 790,
    "start_time": "2022-03-07T15:14:03.800Z"
   },
   {
    "duration": 1745,
    "start_time": "2022-03-07T15:14:04.593Z"
   },
   {
    "duration": 6366,
    "start_time": "2022-03-07T15:14:06.341Z"
   },
   {
    "duration": 20,
    "start_time": "2022-03-07T15:14:12.711Z"
   },
   {
    "duration": 47,
    "start_time": "2022-03-07T15:14:12.734Z"
   },
   {
    "duration": 48,
    "start_time": "2022-03-07T15:14:12.783Z"
   },
   {
    "duration": 82,
    "start_time": "2022-03-07T15:14:12.834Z"
   },
   {
    "duration": 1194,
    "start_time": "2022-03-07T15:14:12.919Z"
   },
   {
    "duration": 17,
    "start_time": "2022-03-07T15:14:14.116Z"
   },
   {
    "duration": 18,
    "start_time": "2022-03-07T15:14:27.375Z"
   },
   {
    "duration": 75,
    "start_time": "2022-03-07T15:27:26.726Z"
   },
   {
    "duration": 7,
    "start_time": "2022-03-07T15:27:26.804Z"
   },
   {
    "duration": 16,
    "start_time": "2022-03-07T15:27:26.814Z"
   },
   {
    "duration": 377,
    "start_time": "2022-03-07T15:27:26.873Z"
   },
   {
    "duration": 35,
    "start_time": "2022-03-07T15:27:27.253Z"
   },
   {
    "duration": 489,
    "start_time": "2022-03-07T15:27:27.291Z"
   },
   {
    "duration": 18,
    "start_time": "2022-03-07T15:27:27.782Z"
   },
   {
    "duration": 15,
    "start_time": "2022-03-07T15:27:27.804Z"
   },
   {
    "duration": 4,
    "start_time": "2022-03-07T15:27:27.822Z"
   },
   {
    "duration": 45,
    "start_time": "2022-03-07T15:27:27.829Z"
   },
   {
    "duration": 53,
    "start_time": "2022-03-07T15:27:27.876Z"
   },
   {
    "duration": 43,
    "start_time": "2022-03-07T15:27:27.931Z"
   },
   {
    "duration": 827,
    "start_time": "2022-03-07T15:27:27.977Z"
   },
   {
    "duration": 10,
    "start_time": "2022-03-07T15:27:28.807Z"
   },
   {
    "duration": 12,
    "start_time": "2022-03-07T15:27:28.820Z"
   },
   {
    "duration": 692,
    "start_time": "2022-03-07T15:27:28.835Z"
   },
   {
    "duration": 7,
    "start_time": "2022-03-07T15:27:29.530Z"
   },
   {
    "duration": 12,
    "start_time": "2022-03-07T15:27:29.540Z"
   },
   {
    "duration": 732,
    "start_time": "2022-03-07T15:27:29.574Z"
   },
   {
    "duration": 823,
    "start_time": "2022-03-07T15:27:30.308Z"
   },
   {
    "duration": 1820,
    "start_time": "2022-03-07T15:27:31.133Z"
   },
   {
    "duration": 7176,
    "start_time": "2022-03-07T15:27:32.956Z"
   },
   {
    "duration": 19,
    "start_time": "2022-03-07T15:27:40.136Z"
   },
   {
    "duration": 37,
    "start_time": "2022-03-07T15:27:40.157Z"
   },
   {
    "duration": 82,
    "start_time": "2022-03-07T15:27:40.196Z"
   },
   {
    "duration": 48,
    "start_time": "2022-03-07T15:27:40.280Z"
   },
   {
    "duration": 1279,
    "start_time": "2022-03-07T15:27:40.330Z"
   },
   {
    "duration": 17,
    "start_time": "2022-03-07T15:27:41.611Z"
   },
   {
    "duration": 43,
    "start_time": "2022-03-07T15:27:41.631Z"
   },
   {
    "duration": 83,
    "start_time": "2022-03-07T16:21:10.132Z"
   },
   {
    "duration": 7,
    "start_time": "2022-03-07T16:21:10.219Z"
   },
   {
    "duration": 49,
    "start_time": "2022-03-07T16:21:10.230Z"
   },
   {
    "duration": 362,
    "start_time": "2022-03-07T16:21:10.282Z"
   },
   {
    "duration": 30,
    "start_time": "2022-03-07T16:21:10.647Z"
   },
   {
    "duration": 513,
    "start_time": "2022-03-07T16:21:10.680Z"
   },
   {
    "duration": 20,
    "start_time": "2022-03-07T16:21:11.196Z"
   },
   {
    "duration": 20,
    "start_time": "2022-03-07T16:21:11.220Z"
   },
   {
    "duration": 6,
    "start_time": "2022-03-07T16:21:11.276Z"
   },
   {
    "duration": 13,
    "start_time": "2022-03-07T16:21:11.285Z"
   },
   {
    "duration": 79,
    "start_time": "2022-03-07T16:21:11.300Z"
   },
   {
    "duration": 29,
    "start_time": "2022-03-07T16:21:11.382Z"
   },
   {
    "duration": 709,
    "start_time": "2022-03-07T16:21:11.415Z"
   },
   {
    "duration": 8,
    "start_time": "2022-03-07T16:21:12.127Z"
   },
   {
    "duration": 34,
    "start_time": "2022-03-07T16:21:12.138Z"
   },
   {
    "duration": 571,
    "start_time": "2022-03-07T16:21:12.175Z"
   },
   {
    "duration": 8,
    "start_time": "2022-03-07T16:21:12.748Z"
   },
   {
    "duration": 10,
    "start_time": "2022-03-07T16:21:12.773Z"
   },
   {
    "duration": 747,
    "start_time": "2022-03-07T16:21:12.785Z"
   },
   {
    "duration": 795,
    "start_time": "2022-03-07T16:21:13.534Z"
   },
   {
    "duration": 2019,
    "start_time": "2022-03-07T16:21:14.332Z"
   },
   {
    "duration": 6579,
    "start_time": "2022-03-07T16:21:16.353Z"
   },
   {
    "duration": 18,
    "start_time": "2022-03-07T16:21:22.937Z"
   },
   {
    "duration": 32,
    "start_time": "2022-03-07T16:21:22.957Z"
   },
   {
    "duration": 85,
    "start_time": "2022-03-07T16:21:22.991Z"
   },
   {
    "duration": 52,
    "start_time": "2022-03-07T16:21:23.079Z"
   },
   {
    "duration": 1175,
    "start_time": "2022-03-07T16:21:23.134Z"
   },
   {
    "duration": 18,
    "start_time": "2022-03-07T16:21:24.311Z"
   },
   {
    "duration": 27,
    "start_time": "2022-03-07T16:21:24.331Z"
   },
   {
    "duration": 1567,
    "start_time": "2022-03-16T20:53:20.258Z"
   },
   {
    "duration": 9,
    "start_time": "2022-03-16T20:53:21.828Z"
   },
   {
    "duration": 13,
    "start_time": "2022-03-16T20:53:21.840Z"
   },
   {
    "duration": 378,
    "start_time": "2022-03-16T20:53:21.856Z"
   },
   {
    "duration": 24,
    "start_time": "2022-03-16T20:53:22.237Z"
   },
   {
    "duration": 513,
    "start_time": "2022-03-16T20:53:22.264Z"
   },
   {
    "duration": 21,
    "start_time": "2022-03-16T20:53:22.783Z"
   },
   {
    "duration": 17,
    "start_time": "2022-03-16T20:53:22.806Z"
   },
   {
    "duration": 6,
    "start_time": "2022-03-16T20:53:22.826Z"
   },
   {
    "duration": 55,
    "start_time": "2022-03-16T20:53:22.836Z"
   },
   {
    "duration": 55,
    "start_time": "2022-03-16T20:53:22.894Z"
   },
   {
    "duration": 46,
    "start_time": "2022-03-16T20:53:22.952Z"
   },
   {
    "duration": 699,
    "start_time": "2022-03-16T20:53:23.001Z"
   },
   {
    "duration": 9,
    "start_time": "2022-03-16T20:53:23.702Z"
   },
   {
    "duration": 13,
    "start_time": "2022-03-16T20:53:23.714Z"
   },
   {
    "duration": 581,
    "start_time": "2022-03-16T20:53:23.730Z"
   },
   {
    "duration": 8,
    "start_time": "2022-03-16T20:53:24.314Z"
   },
   {
    "duration": 28,
    "start_time": "2022-03-16T20:53:24.325Z"
   },
   {
    "duration": 702,
    "start_time": "2022-03-16T20:53:24.356Z"
   },
   {
    "duration": 1230,
    "start_time": "2022-03-16T20:53:25.060Z"
   },
   {
    "duration": 2431,
    "start_time": "2022-03-16T20:53:26.293Z"
   },
   {
    "duration": 7175,
    "start_time": "2022-03-16T20:53:28.726Z"
   },
   {
    "duration": 23,
    "start_time": "2022-03-16T20:53:35.903Z"
   },
   {
    "duration": 47,
    "start_time": "2022-03-16T20:53:35.929Z"
   },
   {
    "duration": 55,
    "start_time": "2022-03-16T20:53:35.983Z"
   },
   {
    "duration": 99,
    "start_time": "2022-03-16T20:53:36.041Z"
   },
   {
    "duration": 1613,
    "start_time": "2022-03-16T20:53:36.146Z"
   },
   {
    "duration": 35,
    "start_time": "2022-03-16T20:53:37.762Z"
   },
   {
    "duration": 21,
    "start_time": "2022-03-16T20:53:37.800Z"
   },
   {
    "duration": 1981,
    "start_time": "2022-03-17T09:55:32.230Z"
   },
   {
    "duration": 102,
    "start_time": "2022-03-17T09:55:34.214Z"
   },
   {
    "duration": 7,
    "start_time": "2022-03-17T09:55:34.319Z"
   },
   {
    "duration": 13,
    "start_time": "2022-03-17T09:55:34.344Z"
   },
   {
    "duration": 376,
    "start_time": "2022-03-17T09:55:34.359Z"
   },
   {
    "duration": 0,
    "start_time": "2022-03-17T09:55:34.739Z"
   },
   {
    "duration": 0,
    "start_time": "2022-03-17T09:55:34.743Z"
   },
   {
    "duration": 0,
    "start_time": "2022-03-17T09:55:34.744Z"
   },
   {
    "duration": 0,
    "start_time": "2022-03-17T09:55:34.746Z"
   },
   {
    "duration": 0,
    "start_time": "2022-03-17T09:55:34.748Z"
   },
   {
    "duration": 0,
    "start_time": "2022-03-17T09:55:34.750Z"
   },
   {
    "duration": 0,
    "start_time": "2022-03-17T09:55:34.751Z"
   },
   {
    "duration": 0,
    "start_time": "2022-03-17T09:55:34.752Z"
   },
   {
    "duration": 0,
    "start_time": "2022-03-17T09:55:34.754Z"
   },
   {
    "duration": 0,
    "start_time": "2022-03-17T09:55:34.755Z"
   },
   {
    "duration": 0,
    "start_time": "2022-03-17T09:55:34.758Z"
   },
   {
    "duration": 0,
    "start_time": "2022-03-17T09:55:34.759Z"
   },
   {
    "duration": 0,
    "start_time": "2022-03-17T09:55:34.761Z"
   },
   {
    "duration": 0,
    "start_time": "2022-03-17T09:55:34.762Z"
   },
   {
    "duration": 0,
    "start_time": "2022-03-17T09:55:34.765Z"
   },
   {
    "duration": 0,
    "start_time": "2022-03-17T09:55:34.766Z"
   },
   {
    "duration": 0,
    "start_time": "2022-03-17T09:55:34.768Z"
   },
   {
    "duration": 0,
    "start_time": "2022-03-17T09:55:34.770Z"
   },
   {
    "duration": 0,
    "start_time": "2022-03-17T09:55:34.773Z"
   },
   {
    "duration": 0,
    "start_time": "2022-03-17T09:55:34.775Z"
   },
   {
    "duration": 0,
    "start_time": "2022-03-17T09:55:34.776Z"
   },
   {
    "duration": 0,
    "start_time": "2022-03-17T09:55:34.778Z"
   },
   {
    "duration": 0,
    "start_time": "2022-03-17T09:55:34.779Z"
   },
   {
    "duration": 0,
    "start_time": "2022-03-17T09:55:34.781Z"
   },
   {
    "duration": 0,
    "start_time": "2022-03-17T09:55:34.782Z"
   },
   {
    "duration": 4,
    "start_time": "2022-03-17T10:04:40.739Z"
   },
   {
    "duration": 159,
    "start_time": "2022-03-17T10:04:40.745Z"
   },
   {
    "duration": 38,
    "start_time": "2022-03-17T10:04:40.907Z"
   },
   {
    "duration": 26,
    "start_time": "2022-03-17T10:04:40.948Z"
   },
   {
    "duration": 322,
    "start_time": "2022-03-17T10:04:40.979Z"
   },
   {
    "duration": 0,
    "start_time": "2022-03-17T10:04:41.306Z"
   },
   {
    "duration": 0,
    "start_time": "2022-03-17T10:04:41.307Z"
   },
   {
    "duration": 0,
    "start_time": "2022-03-17T10:04:41.310Z"
   },
   {
    "duration": 1,
    "start_time": "2022-03-17T10:04:41.311Z"
   },
   {
    "duration": 0,
    "start_time": "2022-03-17T10:04:41.313Z"
   },
   {
    "duration": 0,
    "start_time": "2022-03-17T10:04:41.316Z"
   },
   {
    "duration": 1,
    "start_time": "2022-03-17T10:04:41.318Z"
   },
   {
    "duration": 0,
    "start_time": "2022-03-17T10:04:41.320Z"
   },
   {
    "duration": 0,
    "start_time": "2022-03-17T10:04:41.322Z"
   },
   {
    "duration": 0,
    "start_time": "2022-03-17T10:04:41.323Z"
   },
   {
    "duration": 0,
    "start_time": "2022-03-17T10:04:41.325Z"
   },
   {
    "duration": 0,
    "start_time": "2022-03-17T10:04:41.361Z"
   },
   {
    "duration": 0,
    "start_time": "2022-03-17T10:04:41.365Z"
   },
   {
    "duration": 0,
    "start_time": "2022-03-17T10:04:41.367Z"
   },
   {
    "duration": 1,
    "start_time": "2022-03-17T10:04:41.369Z"
   },
   {
    "duration": 0,
    "start_time": "2022-03-17T10:04:41.371Z"
   },
   {
    "duration": 0,
    "start_time": "2022-03-17T10:04:41.373Z"
   },
   {
    "duration": 0,
    "start_time": "2022-03-17T10:04:41.375Z"
   },
   {
    "duration": 0,
    "start_time": "2022-03-17T10:04:41.377Z"
   },
   {
    "duration": 0,
    "start_time": "2022-03-17T10:04:41.379Z"
   },
   {
    "duration": 0,
    "start_time": "2022-03-17T10:04:41.381Z"
   },
   {
    "duration": 0,
    "start_time": "2022-03-17T10:04:41.382Z"
   },
   {
    "duration": 0,
    "start_time": "2022-03-17T10:04:41.384Z"
   },
   {
    "duration": 0,
    "start_time": "2022-03-17T10:04:41.386Z"
   },
   {
    "duration": 0,
    "start_time": "2022-03-17T10:04:41.388Z"
   },
   {
    "duration": 3,
    "start_time": "2022-03-17T10:07:16.963Z"
   },
   {
    "duration": 104,
    "start_time": "2022-03-17T10:07:16.973Z"
   },
   {
    "duration": 7,
    "start_time": "2022-03-17T10:07:17.080Z"
   },
   {
    "duration": 55,
    "start_time": "2022-03-17T10:07:17.090Z"
   },
   {
    "duration": 234,
    "start_time": "2022-03-17T10:07:17.149Z"
   },
   {
    "duration": 0,
    "start_time": "2022-03-17T10:07:17.386Z"
   },
   {
    "duration": 0,
    "start_time": "2022-03-17T10:07:17.388Z"
   },
   {
    "duration": 0,
    "start_time": "2022-03-17T10:07:17.390Z"
   },
   {
    "duration": 0,
    "start_time": "2022-03-17T10:07:17.392Z"
   },
   {
    "duration": 0,
    "start_time": "2022-03-17T10:07:17.395Z"
   },
   {
    "duration": 0,
    "start_time": "2022-03-17T10:07:17.397Z"
   },
   {
    "duration": 0,
    "start_time": "2022-03-17T10:07:17.398Z"
   },
   {
    "duration": 0,
    "start_time": "2022-03-17T10:07:17.400Z"
   },
   {
    "duration": 0,
    "start_time": "2022-03-17T10:07:17.402Z"
   },
   {
    "duration": 0,
    "start_time": "2022-03-17T10:07:17.404Z"
   },
   {
    "duration": 1,
    "start_time": "2022-03-17T10:07:17.406Z"
   },
   {
    "duration": 0,
    "start_time": "2022-03-17T10:07:17.443Z"
   },
   {
    "duration": 0,
    "start_time": "2022-03-17T10:07:17.445Z"
   },
   {
    "duration": 0,
    "start_time": "2022-03-17T10:07:17.447Z"
   },
   {
    "duration": 0,
    "start_time": "2022-03-17T10:07:17.449Z"
   },
   {
    "duration": 0,
    "start_time": "2022-03-17T10:07:17.451Z"
   },
   {
    "duration": 0,
    "start_time": "2022-03-17T10:07:17.456Z"
   },
   {
    "duration": 0,
    "start_time": "2022-03-17T10:07:17.458Z"
   },
   {
    "duration": 0,
    "start_time": "2022-03-17T10:07:17.460Z"
   },
   {
    "duration": 0,
    "start_time": "2022-03-17T10:07:17.462Z"
   },
   {
    "duration": 0,
    "start_time": "2022-03-17T10:07:17.464Z"
   },
   {
    "duration": 0,
    "start_time": "2022-03-17T10:07:17.467Z"
   },
   {
    "duration": 0,
    "start_time": "2022-03-17T10:07:17.469Z"
   },
   {
    "duration": 0,
    "start_time": "2022-03-17T10:07:17.472Z"
   },
   {
    "duration": 0,
    "start_time": "2022-03-17T10:07:17.475Z"
   },
   {
    "duration": 5,
    "start_time": "2022-03-17T10:08:10.843Z"
   },
   {
    "duration": 150,
    "start_time": "2022-03-17T10:08:10.852Z"
   },
   {
    "duration": 39,
    "start_time": "2022-03-17T10:08:11.005Z"
   },
   {
    "duration": 16,
    "start_time": "2022-03-17T10:08:11.046Z"
   },
   {
    "duration": 292,
    "start_time": "2022-03-17T10:08:11.066Z"
   },
   {
    "duration": 0,
    "start_time": "2022-03-17T10:08:11.362Z"
   },
   {
    "duration": 0,
    "start_time": "2022-03-17T10:08:11.364Z"
   },
   {
    "duration": 0,
    "start_time": "2022-03-17T10:08:11.366Z"
   },
   {
    "duration": 0,
    "start_time": "2022-03-17T10:08:11.368Z"
   },
   {
    "duration": 0,
    "start_time": "2022-03-17T10:08:11.371Z"
   },
   {
    "duration": 0,
    "start_time": "2022-03-17T10:08:11.373Z"
   },
   {
    "duration": 0,
    "start_time": "2022-03-17T10:08:11.375Z"
   },
   {
    "duration": 0,
    "start_time": "2022-03-17T10:08:11.378Z"
   },
   {
    "duration": 0,
    "start_time": "2022-03-17T10:08:11.380Z"
   },
   {
    "duration": 0,
    "start_time": "2022-03-17T10:08:11.382Z"
   },
   {
    "duration": 0,
    "start_time": "2022-03-17T10:08:11.385Z"
   },
   {
    "duration": 0,
    "start_time": "2022-03-17T10:08:11.387Z"
   },
   {
    "duration": 0,
    "start_time": "2022-03-17T10:08:11.389Z"
   },
   {
    "duration": 0,
    "start_time": "2022-03-17T10:08:11.391Z"
   },
   {
    "duration": 0,
    "start_time": "2022-03-17T10:08:11.393Z"
   },
   {
    "duration": 0,
    "start_time": "2022-03-17T10:08:11.443Z"
   },
   {
    "duration": 0,
    "start_time": "2022-03-17T10:08:11.445Z"
   },
   {
    "duration": 0,
    "start_time": "2022-03-17T10:08:11.448Z"
   },
   {
    "duration": 0,
    "start_time": "2022-03-17T10:08:11.450Z"
   },
   {
    "duration": 0,
    "start_time": "2022-03-17T10:08:11.452Z"
   },
   {
    "duration": 0,
    "start_time": "2022-03-17T10:08:11.454Z"
   },
   {
    "duration": 0,
    "start_time": "2022-03-17T10:08:11.457Z"
   },
   {
    "duration": 0,
    "start_time": "2022-03-17T10:08:11.459Z"
   },
   {
    "duration": 0,
    "start_time": "2022-03-17T10:08:11.461Z"
   },
   {
    "duration": 0,
    "start_time": "2022-03-17T10:08:11.463Z"
   },
   {
    "duration": 466,
    "start_time": "2022-03-17T10:10:12.911Z"
   },
   {
    "duration": 5,
    "start_time": "2022-03-17T10:10:31.975Z"
   },
   {
    "duration": 102,
    "start_time": "2022-03-17T10:10:31.984Z"
   },
   {
    "duration": 8,
    "start_time": "2022-03-17T10:10:32.090Z"
   },
   {
    "duration": 44,
    "start_time": "2022-03-17T10:10:32.101Z"
   },
   {
    "duration": 328,
    "start_time": "2022-03-17T10:10:32.149Z"
   },
   {
    "duration": 25,
    "start_time": "2022-03-17T10:10:32.479Z"
   },
   {
    "duration": 308,
    "start_time": "2022-03-17T10:10:32.506Z"
   },
   {
    "duration": 28,
    "start_time": "2022-03-17T10:10:32.816Z"
   },
   {
    "duration": 27,
    "start_time": "2022-03-17T10:10:32.847Z"
   },
   {
    "duration": 7,
    "start_time": "2022-03-17T10:10:32.876Z"
   },
   {
    "duration": 18,
    "start_time": "2022-03-17T10:10:32.887Z"
   },
   {
    "duration": 81,
    "start_time": "2022-03-17T10:10:32.908Z"
   },
   {
    "duration": 51,
    "start_time": "2022-03-17T10:10:32.991Z"
   },
   {
    "duration": 602,
    "start_time": "2022-03-17T10:10:33.045Z"
   },
   {
    "duration": 13,
    "start_time": "2022-03-17T10:10:33.649Z"
   },
   {
    "duration": 15,
    "start_time": "2022-03-17T10:10:33.664Z"
   },
   {
    "duration": 522,
    "start_time": "2022-03-17T10:10:33.682Z"
   },
   {
    "duration": 10,
    "start_time": "2022-03-17T10:10:34.206Z"
   },
   {
    "duration": 22,
    "start_time": "2022-03-17T10:10:34.220Z"
   },
   {
    "duration": 778,
    "start_time": "2022-03-17T10:10:34.244Z"
   },
   {
    "duration": 545,
    "start_time": "2022-03-17T10:10:35.025Z"
   },
   {
    "duration": 1496,
    "start_time": "2022-03-17T10:10:35.572Z"
   },
   {
    "duration": 7306,
    "start_time": "2022-03-17T10:10:37.071Z"
   },
   {
    "duration": 19,
    "start_time": "2022-03-17T10:10:44.381Z"
   },
   {
    "duration": 50,
    "start_time": "2022-03-17T10:10:44.403Z"
   },
   {
    "duration": 53,
    "start_time": "2022-03-17T10:10:44.456Z"
   },
   {
    "duration": 76,
    "start_time": "2022-03-17T10:10:44.512Z"
   },
   {
    "duration": 1071,
    "start_time": "2022-03-17T10:10:44.591Z"
   },
   {
    "duration": 20,
    "start_time": "2022-03-17T10:10:45.667Z"
   },
   {
    "duration": 23,
    "start_time": "2022-03-17T10:10:45.691Z"
   },
   {
    "duration": 19,
    "start_time": "2022-03-17T10:20:04.996Z"
   },
   {
    "duration": 5,
    "start_time": "2022-03-17T10:20:30.089Z"
   },
   {
    "duration": 101,
    "start_time": "2022-03-17T10:20:30.098Z"
   },
   {
    "duration": 10,
    "start_time": "2022-03-17T10:20:30.203Z"
   },
   {
    "duration": 39,
    "start_time": "2022-03-17T10:20:30.217Z"
   },
   {
    "duration": 351,
    "start_time": "2022-03-17T10:20:30.259Z"
   },
   {
    "duration": 38,
    "start_time": "2022-03-17T10:20:30.613Z"
   },
   {
    "duration": 299,
    "start_time": "2022-03-17T10:20:30.654Z"
   },
   {
    "duration": 29,
    "start_time": "2022-03-17T10:20:30.956Z"
   },
   {
    "duration": 5,
    "start_time": "2022-03-17T10:21:12.475Z"
   },
   {
    "duration": 104,
    "start_time": "2022-03-17T10:21:12.483Z"
   },
   {
    "duration": 10,
    "start_time": "2022-03-17T10:21:12.591Z"
   },
   {
    "duration": 49,
    "start_time": "2022-03-17T10:21:12.603Z"
   },
   {
    "duration": 348,
    "start_time": "2022-03-17T10:21:12.656Z"
   },
   {
    "duration": 40,
    "start_time": "2022-03-17T10:21:13.007Z"
   },
   {
    "duration": 304,
    "start_time": "2022-03-17T10:21:13.049Z"
   },
   {
    "duration": 21,
    "start_time": "2022-03-17T10:21:13.357Z"
   },
   {
    "duration": 19,
    "start_time": "2022-03-17T10:21:13.381Z"
   },
   {
    "duration": 3,
    "start_time": "2022-03-17T10:21:13.403Z"
   },
   {
    "duration": 11,
    "start_time": "2022-03-17T10:21:13.446Z"
   },
   {
    "duration": 55,
    "start_time": "2022-03-17T10:21:13.460Z"
   },
   {
    "duration": 71,
    "start_time": "2022-03-17T10:21:13.520Z"
   },
   {
    "duration": 829,
    "start_time": "2022-03-17T10:21:13.595Z"
   },
   {
    "duration": 20,
    "start_time": "2022-03-17T10:21:14.427Z"
   },
   {
    "duration": 14,
    "start_time": "2022-03-17T10:21:14.449Z"
   },
   {
    "duration": 500,
    "start_time": "2022-03-17T10:21:14.465Z"
   },
   {
    "duration": 10,
    "start_time": "2022-03-17T10:21:14.968Z"
   },
   {
    "duration": 11,
    "start_time": "2022-03-17T10:21:14.981Z"
   },
   {
    "duration": 710,
    "start_time": "2022-03-17T10:21:14.995Z"
   },
   {
    "duration": 546,
    "start_time": "2022-03-17T10:21:15.709Z"
   },
   {
    "duration": 1500,
    "start_time": "2022-03-17T10:21:16.258Z"
   },
   {
    "duration": 6996,
    "start_time": "2022-03-17T10:21:17.761Z"
   },
   {
    "duration": 22,
    "start_time": "2022-03-17T10:21:24.760Z"
   },
   {
    "duration": 24,
    "start_time": "2022-03-17T10:21:24.784Z"
   },
   {
    "duration": 79,
    "start_time": "2022-03-17T10:21:24.811Z"
   },
   {
    "duration": 74,
    "start_time": "2022-03-17T10:21:24.892Z"
   },
   {
    "duration": 1197,
    "start_time": "2022-03-17T10:21:24.969Z"
   },
   {
    "duration": 20,
    "start_time": "2022-03-17T10:21:26.171Z"
   },
   {
    "duration": 48,
    "start_time": "2022-03-17T10:21:26.194Z"
   },
   {
    "duration": 22,
    "start_time": "2022-03-17T10:23:09.123Z"
   },
   {
    "duration": 5,
    "start_time": "2022-03-17T10:23:23.861Z"
   },
   {
    "duration": 148,
    "start_time": "2022-03-17T10:23:23.868Z"
   },
   {
    "duration": 30,
    "start_time": "2022-03-17T10:23:24.019Z"
   },
   {
    "duration": 42,
    "start_time": "2022-03-17T10:23:24.052Z"
   },
   {
    "duration": 497,
    "start_time": "2022-03-17T10:23:24.097Z"
   },
   {
    "duration": 23,
    "start_time": "2022-03-17T10:23:24.596Z"
   },
   {
    "duration": 338,
    "start_time": "2022-03-17T10:23:24.621Z"
   },
   {
    "duration": 19,
    "start_time": "2022-03-17T10:23:24.963Z"
   },
   {
    "duration": 22,
    "start_time": "2022-03-17T10:23:24.985Z"
   },
   {
    "duration": 5,
    "start_time": "2022-03-17T10:23:25.043Z"
   },
   {
    "duration": 29,
    "start_time": "2022-03-17T10:23:25.055Z"
   },
   {
    "duration": 57,
    "start_time": "2022-03-17T10:23:25.086Z"
   },
   {
    "duration": 33,
    "start_time": "2022-03-17T10:23:25.146Z"
   },
   {
    "duration": 664,
    "start_time": "2022-03-17T10:23:25.182Z"
   },
   {
    "duration": 14,
    "start_time": "2022-03-17T10:23:25.850Z"
   },
   {
    "duration": 17,
    "start_time": "2022-03-17T10:23:25.867Z"
   },
   {
    "duration": 545,
    "start_time": "2022-03-17T10:23:25.888Z"
   },
   {
    "duration": 20,
    "start_time": "2022-03-17T10:23:26.443Z"
   },
   {
    "duration": 16,
    "start_time": "2022-03-17T10:23:26.466Z"
   },
   {
    "duration": 737,
    "start_time": "2022-03-17T10:23:26.485Z"
   },
   {
    "duration": 613,
    "start_time": "2022-03-17T10:23:27.226Z"
   },
   {
    "duration": 1593,
    "start_time": "2022-03-17T10:23:27.842Z"
   },
   {
    "duration": 8601,
    "start_time": "2022-03-17T10:23:29.442Z"
   },
   {
    "duration": 28,
    "start_time": "2022-03-17T10:23:38.047Z"
   },
   {
    "duration": 25,
    "start_time": "2022-03-17T10:23:38.079Z"
   },
   {
    "duration": 89,
    "start_time": "2022-03-17T10:23:38.108Z"
   },
   {
    "duration": 80,
    "start_time": "2022-03-17T10:23:38.201Z"
   },
   {
    "duration": 1026,
    "start_time": "2022-03-17T10:23:38.284Z"
   },
   {
    "duration": 39,
    "start_time": "2022-03-17T10:23:39.315Z"
   },
   {
    "duration": 34,
    "start_time": "2022-03-17T10:23:39.357Z"
   },
   {
    "duration": 5,
    "start_time": "2022-03-17T11:30:56.774Z"
   },
   {
    "duration": 256,
    "start_time": "2022-03-17T11:30:56.782Z"
   },
   {
    "duration": 7,
    "start_time": "2022-03-17T11:30:57.041Z"
   },
   {
    "duration": 19,
    "start_time": "2022-03-17T11:30:57.052Z"
   },
   {
    "duration": 335,
    "start_time": "2022-03-17T11:30:57.074Z"
   },
   {
    "duration": 39,
    "start_time": "2022-03-17T11:30:57.414Z"
   },
   {
    "duration": 300,
    "start_time": "2022-03-17T11:30:57.456Z"
   },
   {
    "duration": 18,
    "start_time": "2022-03-17T11:30:57.759Z"
   },
   {
    "duration": 27,
    "start_time": "2022-03-17T11:30:57.780Z"
   },
   {
    "duration": 37,
    "start_time": "2022-03-17T11:30:57.810Z"
   },
   {
    "duration": 17,
    "start_time": "2022-03-17T11:30:57.851Z"
   },
   {
    "duration": 18,
    "start_time": "2022-03-17T11:30:57.870Z"
   },
   {
    "duration": 56,
    "start_time": "2022-03-17T11:30:57.890Z"
   },
   {
    "duration": 607,
    "start_time": "2022-03-17T11:30:57.951Z"
   },
   {
    "duration": 3,
    "start_time": "2022-03-17T11:30:58.562Z"
   },
   {
    "duration": 18,
    "start_time": "2022-03-17T11:30:58.569Z"
   },
   {
    "duration": 493,
    "start_time": "2022-03-17T11:30:58.590Z"
   },
   {
    "duration": 10,
    "start_time": "2022-03-17T11:30:59.086Z"
   },
   {
    "duration": 11,
    "start_time": "2022-03-17T11:30:59.099Z"
   },
   {
    "duration": 914,
    "start_time": "2022-03-17T11:30:59.113Z"
   },
   {
    "duration": 585,
    "start_time": "2022-03-17T11:31:00.029Z"
   },
   {
    "duration": 1503,
    "start_time": "2022-03-17T11:31:00.617Z"
   },
   {
    "duration": 6855,
    "start_time": "2022-03-17T11:31:02.122Z"
   },
   {
    "duration": 24,
    "start_time": "2022-03-17T11:31:08.995Z"
   },
   {
    "duration": 48,
    "start_time": "2022-03-17T11:31:09.023Z"
   },
   {
    "duration": 82,
    "start_time": "2022-03-17T11:31:09.075Z"
   },
   {
    "duration": 84,
    "start_time": "2022-03-17T11:31:09.161Z"
   },
   {
    "duration": 1109,
    "start_time": "2022-03-17T11:31:09.248Z"
   },
   {
    "duration": 19,
    "start_time": "2022-03-17T11:31:10.363Z"
   },
   {
    "duration": 18,
    "start_time": "2022-03-17T11:31:10.385Z"
   },
   {
    "duration": 456,
    "start_time": "2022-03-17T11:33:49.595Z"
   },
   {
    "duration": 5,
    "start_time": "2022-03-17T11:34:28.152Z"
   },
   {
    "duration": 104,
    "start_time": "2022-03-17T11:34:28.161Z"
   },
   {
    "duration": 7,
    "start_time": "2022-03-17T11:34:28.269Z"
   },
   {
    "duration": 18,
    "start_time": "2022-03-17T11:34:28.280Z"
   },
   {
    "duration": 340,
    "start_time": "2022-03-17T11:34:28.302Z"
   },
   {
    "duration": 24,
    "start_time": "2022-03-17T11:34:28.645Z"
   },
   {
    "duration": 322,
    "start_time": "2022-03-17T11:34:28.672Z"
   },
   {
    "duration": 21,
    "start_time": "2022-03-17T11:34:28.996Z"
   },
   {
    "duration": 36,
    "start_time": "2022-03-17T11:34:29.022Z"
   },
   {
    "duration": 5,
    "start_time": "2022-03-17T11:34:29.060Z"
   },
   {
    "duration": 16,
    "start_time": "2022-03-17T11:34:29.070Z"
   },
   {
    "duration": 17,
    "start_time": "2022-03-17T11:34:29.088Z"
   },
   {
    "duration": 61,
    "start_time": "2022-03-17T11:34:29.108Z"
   },
   {
    "duration": 645,
    "start_time": "2022-03-17T11:34:29.172Z"
   },
   {
    "duration": 4,
    "start_time": "2022-03-17T11:34:29.825Z"
   },
   {
    "duration": 16,
    "start_time": "2022-03-17T11:34:29.833Z"
   },
   {
    "duration": 524,
    "start_time": "2022-03-17T11:34:29.852Z"
   },
   {
    "duration": 12,
    "start_time": "2022-03-17T11:34:30.379Z"
   },
   {
    "duration": 21,
    "start_time": "2022-03-17T11:34:30.394Z"
   },
   {
    "duration": 1040,
    "start_time": "2022-03-17T11:34:30.418Z"
   },
   {
    "duration": 690,
    "start_time": "2022-03-17T11:34:31.461Z"
   },
   {
    "duration": 1689,
    "start_time": "2022-03-17T11:34:32.154Z"
   },
   {
    "duration": 7173,
    "start_time": "2022-03-17T11:34:33.845Z"
   },
   {
    "duration": 33,
    "start_time": "2022-03-17T11:34:41.024Z"
   },
   {
    "duration": 25,
    "start_time": "2022-03-17T11:34:41.059Z"
   },
   {
    "duration": 76,
    "start_time": "2022-03-17T11:34:41.087Z"
   },
   {
    "duration": 78,
    "start_time": "2022-03-17T11:34:41.165Z"
   },
   {
    "duration": 871,
    "start_time": "2022-03-17T11:34:41.246Z"
   },
   {
    "duration": 29,
    "start_time": "2022-03-17T11:34:42.123Z"
   },
   {
    "duration": 15,
    "start_time": "2022-03-17T11:34:42.155Z"
   },
   {
    "duration": 10,
    "start_time": "2022-03-17T11:38:17.942Z"
   },
   {
    "duration": 5,
    "start_time": "2022-03-17T11:43:54.104Z"
   },
   {
    "duration": 106,
    "start_time": "2022-03-17T11:43:54.112Z"
   },
   {
    "duration": 8,
    "start_time": "2022-03-17T11:43:54.244Z"
   },
   {
    "duration": 39,
    "start_time": "2022-03-17T11:43:54.254Z"
   },
   {
    "duration": 558,
    "start_time": "2022-03-17T11:43:54.297Z"
   },
   {
    "duration": 36,
    "start_time": "2022-03-17T11:43:54.858Z"
   },
   {
    "duration": 345,
    "start_time": "2022-03-17T11:43:54.897Z"
   },
   {
    "duration": 28,
    "start_time": "2022-03-17T11:43:55.247Z"
   },
   {
    "duration": 48,
    "start_time": "2022-03-17T11:43:55.278Z"
   },
   {
    "duration": 4,
    "start_time": "2022-03-17T11:43:55.345Z"
   },
   {
    "duration": 16,
    "start_time": "2022-03-17T11:43:55.355Z"
   },
   {
    "duration": 25,
    "start_time": "2022-03-17T11:43:55.374Z"
   },
   {
    "duration": 74,
    "start_time": "2022-03-17T11:43:55.403Z"
   },
   {
    "duration": 901,
    "start_time": "2022-03-17T11:43:55.480Z"
   },
   {
    "duration": 5,
    "start_time": "2022-03-17T11:43:56.384Z"
   },
   {
    "duration": 19,
    "start_time": "2022-03-17T11:43:56.393Z"
   },
   {
    "duration": 545,
    "start_time": "2022-03-17T11:43:56.416Z"
   },
   {
    "duration": 14,
    "start_time": "2022-03-17T11:43:56.963Z"
   },
   {
    "duration": 18,
    "start_time": "2022-03-17T11:43:56.980Z"
   },
   {
    "duration": 885,
    "start_time": "2022-03-17T11:43:57.000Z"
   },
   {
    "duration": 618,
    "start_time": "2022-03-17T11:43:57.888Z"
   },
   {
    "duration": 1805,
    "start_time": "2022-03-17T11:43:58.510Z"
   },
   {
    "duration": 8630,
    "start_time": "2022-03-17T11:44:00.318Z"
   },
   {
    "duration": 28,
    "start_time": "2022-03-17T11:44:08.952Z"
   },
   {
    "duration": 34,
    "start_time": "2022-03-17T11:44:08.983Z"
   },
   {
    "duration": 85,
    "start_time": "2022-03-17T11:44:09.022Z"
   },
   {
    "duration": 80,
    "start_time": "2022-03-17T11:44:09.110Z"
   },
   {
    "duration": 924,
    "start_time": "2022-03-17T11:44:09.193Z"
   },
   {
    "duration": 28,
    "start_time": "2022-03-17T11:44:10.122Z"
   },
   {
    "duration": 31,
    "start_time": "2022-03-17T11:44:10.153Z"
   },
   {
    "duration": 815,
    "start_time": "2022-03-17T11:50:49.145Z"
   },
   {
    "duration": 5,
    "start_time": "2022-03-17T11:58:44.413Z"
   },
   {
    "duration": 112,
    "start_time": "2022-03-17T11:58:44.421Z"
   },
   {
    "duration": 18,
    "start_time": "2022-03-17T11:58:44.536Z"
   },
   {
    "duration": 22,
    "start_time": "2022-03-17T11:58:44.556Z"
   },
   {
    "duration": 388,
    "start_time": "2022-03-17T11:58:44.583Z"
   },
   {
    "duration": 25,
    "start_time": "2022-03-17T11:58:44.974Z"
   },
   {
    "duration": 350,
    "start_time": "2022-03-17T11:58:45.001Z"
   },
   {
    "duration": 29,
    "start_time": "2022-03-17T11:58:45.353Z"
   },
   {
    "duration": 24,
    "start_time": "2022-03-17T11:58:45.385Z"
   },
   {
    "duration": 29,
    "start_time": "2022-03-17T11:58:45.414Z"
   },
   {
    "duration": 14,
    "start_time": "2022-03-17T11:58:45.448Z"
   },
   {
    "duration": 25,
    "start_time": "2022-03-17T11:58:45.466Z"
   },
   {
    "duration": 40,
    "start_time": "2022-03-17T11:58:45.494Z"
   },
   {
    "duration": 665,
    "start_time": "2022-03-17T11:58:45.554Z"
   },
   {
    "duration": 4,
    "start_time": "2022-03-17T11:58:46.221Z"
   },
   {
    "duration": 69,
    "start_time": "2022-03-17T11:58:46.227Z"
   },
   {
    "duration": 850,
    "start_time": "2022-03-17T11:58:46.299Z"
   },
   {
    "duration": 9,
    "start_time": "2022-03-17T11:58:47.153Z"
   },
   {
    "duration": 30,
    "start_time": "2022-03-17T11:58:47.165Z"
   },
   {
    "duration": 690,
    "start_time": "2022-03-17T11:58:47.198Z"
   },
   {
    "duration": 707,
    "start_time": "2022-03-17T11:58:47.891Z"
   },
   {
    "duration": 574,
    "start_time": "2022-03-17T11:58:48.600Z"
   },
   {
    "duration": 1882,
    "start_time": "2022-03-17T11:58:49.177Z"
   },
   {
    "duration": 6383,
    "start_time": "2022-03-17T11:58:51.063Z"
   },
   {
    "duration": 31,
    "start_time": "2022-03-17T11:58:57.450Z"
   },
   {
    "duration": 33,
    "start_time": "2022-03-17T11:58:57.485Z"
   },
   {
    "duration": 102,
    "start_time": "2022-03-17T11:58:57.523Z"
   },
   {
    "duration": 87,
    "start_time": "2022-03-17T11:58:57.628Z"
   },
   {
    "duration": 1280,
    "start_time": "2022-03-17T11:58:57.718Z"
   },
   {
    "duration": 23,
    "start_time": "2022-03-17T11:58:59.001Z"
   },
   {
    "duration": 32,
    "start_time": "2022-03-17T11:58:59.027Z"
   },
   {
    "duration": 4,
    "start_time": "2022-03-17T12:00:36.440Z"
   },
   {
    "duration": 108,
    "start_time": "2022-03-17T12:00:36.457Z"
   },
   {
    "duration": 7,
    "start_time": "2022-03-17T12:00:36.568Z"
   },
   {
    "duration": 18,
    "start_time": "2022-03-17T12:00:36.578Z"
   },
   {
    "duration": 374,
    "start_time": "2022-03-17T12:00:36.598Z"
   },
   {
    "duration": 25,
    "start_time": "2022-03-17T12:00:36.977Z"
   },
   {
    "duration": 317,
    "start_time": "2022-03-17T12:00:37.006Z"
   },
   {
    "duration": 31,
    "start_time": "2022-03-17T12:00:37.326Z"
   },
   {
    "duration": 33,
    "start_time": "2022-03-17T12:00:37.360Z"
   },
   {
    "duration": 13,
    "start_time": "2022-03-17T12:00:37.397Z"
   },
   {
    "duration": 40,
    "start_time": "2022-03-17T12:00:37.413Z"
   },
   {
    "duration": 20,
    "start_time": "2022-03-17T12:00:37.457Z"
   },
   {
    "duration": 44,
    "start_time": "2022-03-17T12:00:37.481Z"
   },
   {
    "duration": 647,
    "start_time": "2022-03-17T12:00:37.528Z"
   },
   {
    "duration": 4,
    "start_time": "2022-03-17T12:00:38.180Z"
   },
   {
    "duration": 17,
    "start_time": "2022-03-17T12:00:38.187Z"
   },
   {
    "duration": 537,
    "start_time": "2022-03-17T12:00:38.207Z"
   },
   {
    "duration": 14,
    "start_time": "2022-03-17T12:00:38.747Z"
   },
   {
    "duration": 15,
    "start_time": "2022-03-17T12:00:38.764Z"
   },
   {
    "duration": 684,
    "start_time": "2022-03-17T12:00:38.782Z"
   },
   {
    "duration": 681,
    "start_time": "2022-03-17T12:00:39.469Z"
   },
   {
    "duration": 553,
    "start_time": "2022-03-17T12:00:40.153Z"
   },
   {
    "duration": 1635,
    "start_time": "2022-03-17T12:00:40.708Z"
   },
   {
    "duration": 6523,
    "start_time": "2022-03-17T12:00:42.345Z"
   },
   {
    "duration": 19,
    "start_time": "2022-03-17T12:00:48.870Z"
   },
   {
    "duration": 25,
    "start_time": "2022-03-17T12:00:48.892Z"
   },
   {
    "duration": 59,
    "start_time": "2022-03-17T12:00:48.943Z"
   },
   {
    "duration": 86,
    "start_time": "2022-03-17T12:00:49.005Z"
   },
   {
    "duration": 903,
    "start_time": "2022-03-17T12:00:49.094Z"
   },
   {
    "duration": 24,
    "start_time": "2022-03-17T12:00:49.999Z"
   },
   {
    "duration": 20,
    "start_time": "2022-03-17T12:00:50.051Z"
   },
   {
    "duration": 1271,
    "start_time": "2022-03-18T09:44:53.351Z"
   },
   {
    "duration": 66,
    "start_time": "2022-03-18T09:44:54.624Z"
   },
   {
    "duration": 4,
    "start_time": "2022-03-18T09:44:54.692Z"
   },
   {
    "duration": 12,
    "start_time": "2022-03-18T09:44:54.698Z"
   },
   {
    "duration": 197,
    "start_time": "2022-03-18T09:44:54.711Z"
   },
   {
    "duration": 16,
    "start_time": "2022-03-18T09:44:54.909Z"
   },
   {
    "duration": 152,
    "start_time": "2022-03-18T09:44:54.938Z"
   },
   {
    "duration": 11,
    "start_time": "2022-03-18T09:44:55.092Z"
   },
   {
    "duration": 33,
    "start_time": "2022-03-18T09:44:55.105Z"
   },
   {
    "duration": 3,
    "start_time": "2022-03-18T09:44:55.140Z"
   },
   {
    "duration": 13,
    "start_time": "2022-03-18T09:44:55.144Z"
   },
   {
    "duration": 14,
    "start_time": "2022-03-18T09:44:55.158Z"
   },
   {
    "duration": 34,
    "start_time": "2022-03-18T09:44:55.174Z"
   },
   {
    "duration": 316,
    "start_time": "2022-03-18T09:44:55.210Z"
   },
   {
    "duration": 10,
    "start_time": "2022-03-18T09:44:55.528Z"
   },
   {
    "duration": 8,
    "start_time": "2022-03-18T09:44:55.539Z"
   },
   {
    "duration": 289,
    "start_time": "2022-03-18T09:44:55.549Z"
   },
   {
    "duration": 7,
    "start_time": "2022-03-18T09:44:55.839Z"
   },
   {
    "duration": 10,
    "start_time": "2022-03-18T09:44:55.847Z"
   },
   {
    "duration": 348,
    "start_time": "2022-03-18T09:44:55.859Z"
   },
   {
    "duration": 341,
    "start_time": "2022-03-18T09:44:56.209Z"
   },
   {
    "duration": 291,
    "start_time": "2022-03-18T09:44:56.553Z"
   },
   {
    "duration": 1021,
    "start_time": "2022-03-18T09:44:56.846Z"
   },
   {
    "duration": 3749,
    "start_time": "2022-03-18T09:44:57.870Z"
   },
   {
    "duration": 20,
    "start_time": "2022-03-18T09:45:01.620Z"
   },
   {
    "duration": 21,
    "start_time": "2022-03-18T09:45:01.642Z"
   },
   {
    "duration": 38,
    "start_time": "2022-03-18T09:45:01.665Z"
   },
   {
    "duration": 43,
    "start_time": "2022-03-18T09:45:01.707Z"
   },
   {
    "duration": 471,
    "start_time": "2022-03-18T09:45:01.752Z"
   },
   {
    "duration": 19,
    "start_time": "2022-03-18T09:45:02.225Z"
   },
   {
    "duration": 31,
    "start_time": "2022-03-18T09:45:02.246Z"
   },
   {
    "duration": 363,
    "start_time": "2022-03-18T09:50:54.449Z"
   },
   {
    "duration": 254,
    "start_time": "2022-03-18T09:51:09.594Z"
   },
   {
    "duration": 3,
    "start_time": "2022-03-18T09:51:58.604Z"
   },
   {
    "duration": 61,
    "start_time": "2022-03-18T09:51:58.609Z"
   },
   {
    "duration": 5,
    "start_time": "2022-03-18T09:51:58.672Z"
   },
   {
    "duration": 19,
    "start_time": "2022-03-18T09:51:58.678Z"
   },
   {
    "duration": 198,
    "start_time": "2022-03-18T09:51:58.699Z"
   },
   {
    "duration": 16,
    "start_time": "2022-03-18T09:51:58.899Z"
   },
   {
    "duration": 153,
    "start_time": "2022-03-18T09:51:58.917Z"
   },
   {
    "duration": 12,
    "start_time": "2022-03-18T09:51:59.072Z"
   },
   {
    "duration": 15,
    "start_time": "2022-03-18T09:51:59.085Z"
   },
   {
    "duration": 2,
    "start_time": "2022-03-18T09:51:59.102Z"
   },
   {
    "duration": 34,
    "start_time": "2022-03-18T09:51:59.107Z"
   },
   {
    "duration": 13,
    "start_time": "2022-03-18T09:51:59.143Z"
   },
   {
    "duration": 20,
    "start_time": "2022-03-18T09:51:59.158Z"
   },
   {
    "duration": 335,
    "start_time": "2022-03-18T09:51:59.180Z"
   },
   {
    "duration": 3,
    "start_time": "2022-03-18T09:51:59.517Z"
   },
   {
    "duration": 20,
    "start_time": "2022-03-18T09:51:59.522Z"
   },
   {
    "duration": 266,
    "start_time": "2022-03-18T09:51:59.544Z"
   },
   {
    "duration": 7,
    "start_time": "2022-03-18T09:51:59.811Z"
   },
   {
    "duration": 19,
    "start_time": "2022-03-18T09:51:59.820Z"
   },
   {
    "duration": 376,
    "start_time": "2022-03-18T09:51:59.841Z"
   },
   {
    "duration": 368,
    "start_time": "2022-03-18T09:52:00.219Z"
   },
   {
    "duration": 313,
    "start_time": "2022-03-18T09:52:00.589Z"
   },
   {
    "duration": 1024,
    "start_time": "2022-03-18T09:52:00.904Z"
   },
   {
    "duration": 3791,
    "start_time": "2022-03-18T09:52:01.938Z"
   },
   {
    "duration": 13,
    "start_time": "2022-03-18T09:52:05.738Z"
   },
   {
    "duration": 21,
    "start_time": "2022-03-18T09:52:05.753Z"
   },
   {
    "duration": 69,
    "start_time": "2022-03-18T09:52:05.776Z"
   },
   {
    "duration": 126,
    "start_time": "2022-03-18T09:52:05.847Z"
   },
   {
    "duration": 552,
    "start_time": "2022-03-18T09:52:05.977Z"
   },
   {
    "duration": 18,
    "start_time": "2022-03-18T09:52:06.531Z"
   },
   {
    "duration": 19,
    "start_time": "2022-03-18T09:52:06.550Z"
   },
   {
    "duration": 3,
    "start_time": "2022-03-18T09:53:20.725Z"
   },
   {
    "duration": 66,
    "start_time": "2022-03-18T09:53:20.732Z"
   },
   {
    "duration": 4,
    "start_time": "2022-03-18T09:53:20.801Z"
   },
   {
    "duration": 15,
    "start_time": "2022-03-18T09:53:20.807Z"
   },
   {
    "duration": 346,
    "start_time": "2022-03-18T09:53:20.824Z"
   },
   {
    "duration": 16,
    "start_time": "2022-03-18T09:53:21.172Z"
   },
   {
    "duration": 157,
    "start_time": "2022-03-18T09:53:21.189Z"
   },
   {
    "duration": 11,
    "start_time": "2022-03-18T09:53:21.347Z"
   },
   {
    "duration": 13,
    "start_time": "2022-03-18T09:53:21.360Z"
   },
   {
    "duration": 2,
    "start_time": "2022-03-18T09:53:21.375Z"
   },
   {
    "duration": 10,
    "start_time": "2022-03-18T09:53:21.379Z"
   },
   {
    "duration": 14,
    "start_time": "2022-03-18T09:53:21.390Z"
   },
   {
    "duration": 43,
    "start_time": "2022-03-18T09:53:21.405Z"
   },
   {
    "duration": 341,
    "start_time": "2022-03-18T09:53:21.449Z"
   },
   {
    "duration": 2,
    "start_time": "2022-03-18T09:53:21.792Z"
   },
   {
    "duration": 18,
    "start_time": "2022-03-18T09:53:21.796Z"
   },
   {
    "duration": 269,
    "start_time": "2022-03-18T09:53:21.815Z"
   },
   {
    "duration": 6,
    "start_time": "2022-03-18T09:53:22.086Z"
   },
   {
    "duration": 13,
    "start_time": "2022-03-18T09:53:22.094Z"
   },
   {
    "duration": 361,
    "start_time": "2022-03-18T09:53:22.109Z"
   },
   {
    "duration": 359,
    "start_time": "2022-03-18T09:53:22.472Z"
   },
   {
    "duration": 298,
    "start_time": "2022-03-18T09:53:22.832Z"
   },
   {
    "duration": 961,
    "start_time": "2022-03-18T09:53:23.131Z"
   },
   {
    "duration": 4521,
    "start_time": "2022-03-18T09:53:24.094Z"
   },
   {
    "duration": 26,
    "start_time": "2022-03-18T09:53:28.617Z"
   },
   {
    "duration": 16,
    "start_time": "2022-03-18T09:53:28.645Z"
   },
   {
    "duration": 29,
    "start_time": "2022-03-18T09:53:28.663Z"
   },
   {
    "duration": 56,
    "start_time": "2022-03-18T09:53:28.694Z"
   },
   {
    "duration": 463,
    "start_time": "2022-03-18T09:53:28.753Z"
   },
   {
    "duration": 12,
    "start_time": "2022-03-18T09:53:29.218Z"
   },
   {
    "duration": 9,
    "start_time": "2022-03-18T09:53:29.238Z"
   },
   {
    "duration": 3,
    "start_time": "2022-03-18T09:57:22.508Z"
   },
   {
    "duration": 76,
    "start_time": "2022-03-18T09:57:22.513Z"
   },
   {
    "duration": 5,
    "start_time": "2022-03-18T09:57:22.592Z"
   },
   {
    "duration": 15,
    "start_time": "2022-03-18T09:57:22.599Z"
   },
   {
    "duration": 203,
    "start_time": "2022-03-18T09:57:22.637Z"
   },
   {
    "duration": 16,
    "start_time": "2022-03-18T09:57:22.842Z"
   },
   {
    "duration": 169,
    "start_time": "2022-03-18T09:57:22.860Z"
   },
   {
    "duration": 12,
    "start_time": "2022-03-18T09:57:23.031Z"
   },
   {
    "duration": 14,
    "start_time": "2022-03-18T09:57:23.045Z"
   },
   {
    "duration": 2,
    "start_time": "2022-03-18T09:57:23.061Z"
   },
   {
    "duration": 9,
    "start_time": "2022-03-18T09:57:23.065Z"
   },
   {
    "duration": 15,
    "start_time": "2022-03-18T09:57:23.076Z"
   },
   {
    "duration": 46,
    "start_time": "2022-03-18T09:57:23.093Z"
   },
   {
    "duration": 351,
    "start_time": "2022-03-18T09:57:23.140Z"
   },
   {
    "duration": 3,
    "start_time": "2022-03-18T09:57:23.493Z"
   },
   {
    "duration": 19,
    "start_time": "2022-03-18T09:57:23.497Z"
   },
   {
    "duration": 472,
    "start_time": "2022-03-18T09:57:23.518Z"
   },
   {
    "duration": 6,
    "start_time": "2022-03-18T09:57:23.992Z"
   },
   {
    "duration": 12,
    "start_time": "2022-03-18T09:57:24.000Z"
   },
   {
    "duration": 377,
    "start_time": "2022-03-18T09:57:24.013Z"
   },
   {
    "duration": 370,
    "start_time": "2022-03-18T09:57:24.392Z"
   },
   {
    "duration": 296,
    "start_time": "2022-03-18T09:57:24.764Z"
   },
   {
    "duration": 890,
    "start_time": "2022-03-18T09:57:25.062Z"
   },
   {
    "duration": 4604,
    "start_time": "2022-03-18T09:57:25.954Z"
   },
   {
    "duration": 14,
    "start_time": "2022-03-18T09:57:30.560Z"
   },
   {
    "duration": 71,
    "start_time": "2022-03-18T09:57:30.576Z"
   },
   {
    "duration": 92,
    "start_time": "2022-03-18T09:57:30.648Z"
   },
   {
    "duration": 35,
    "start_time": "2022-03-18T09:57:30.742Z"
   },
   {
    "duration": 569,
    "start_time": "2022-03-18T09:57:30.780Z"
   },
   {
    "duration": 13,
    "start_time": "2022-03-18T09:57:31.351Z"
   },
   {
    "duration": 52,
    "start_time": "2022-03-18T09:57:31.366Z"
   },
   {
    "duration": 833,
    "start_time": "2022-03-18T10:13:14.811Z"
   },
   {
    "duration": 947,
    "start_time": "2022-03-18T10:13:44.759Z"
   },
   {
    "duration": 3,
    "start_time": "2022-03-18T10:21:20.989Z"
   },
   {
    "duration": 62,
    "start_time": "2022-03-18T10:21:20.996Z"
   },
   {
    "duration": 4,
    "start_time": "2022-03-18T10:21:21.061Z"
   },
   {
    "duration": 12,
    "start_time": "2022-03-18T10:21:21.067Z"
   },
   {
    "duration": 206,
    "start_time": "2022-03-18T10:21:21.082Z"
   },
   {
    "duration": 16,
    "start_time": "2022-03-18T10:21:21.290Z"
   },
   {
    "duration": 151,
    "start_time": "2022-03-18T10:21:21.308Z"
   },
   {
    "duration": 12,
    "start_time": "2022-03-18T10:21:21.461Z"
   },
   {
    "duration": 14,
    "start_time": "2022-03-18T10:21:21.475Z"
   },
   {
    "duration": 3,
    "start_time": "2022-03-18T10:21:21.491Z"
   },
   {
    "duration": 8,
    "start_time": "2022-03-18T10:21:21.497Z"
   },
   {
    "duration": 8,
    "start_time": "2022-03-18T10:21:21.537Z"
   },
   {
    "duration": 20,
    "start_time": "2022-03-18T10:21:21.547Z"
   },
   {
    "duration": 328,
    "start_time": "2022-03-18T10:21:21.569Z"
   },
   {
    "duration": 2,
    "start_time": "2022-03-18T10:21:21.899Z"
   },
   {
    "duration": 21,
    "start_time": "2022-03-18T10:21:21.902Z"
   },
   {
    "duration": 255,
    "start_time": "2022-03-18T10:21:21.925Z"
   },
   {
    "duration": 7,
    "start_time": "2022-03-18T10:21:22.181Z"
   },
   {
    "duration": 12,
    "start_time": "2022-03-18T10:21:22.189Z"
   },
   {
    "duration": 347,
    "start_time": "2022-03-18T10:21:22.203Z"
   },
   {
    "duration": 346,
    "start_time": "2022-03-18T10:21:22.551Z"
   },
   {
    "duration": 369,
    "start_time": "2022-03-18T10:21:22.899Z"
   },
   {
    "duration": 870,
    "start_time": "2022-03-18T10:21:23.270Z"
   },
   {
    "duration": 112,
    "start_time": "2022-03-18T10:21:24.141Z"
   },
   {
    "duration": 0,
    "start_time": "2022-03-18T10:21:24.254Z"
   },
   {
    "duration": 0,
    "start_time": "2022-03-18T10:21:24.255Z"
   },
   {
    "duration": 0,
    "start_time": "2022-03-18T10:21:24.256Z"
   },
   {
    "duration": 0,
    "start_time": "2022-03-18T10:21:24.257Z"
   },
   {
    "duration": 0,
    "start_time": "2022-03-18T10:21:24.258Z"
   },
   {
    "duration": 0,
    "start_time": "2022-03-18T10:21:24.259Z"
   },
   {
    "duration": 0,
    "start_time": "2022-03-18T10:21:24.260Z"
   },
   {
    "duration": 3,
    "start_time": "2022-03-18T10:22:28.421Z"
   },
   {
    "duration": 59,
    "start_time": "2022-03-18T10:22:28.426Z"
   },
   {
    "duration": 4,
    "start_time": "2022-03-18T10:22:28.487Z"
   },
   {
    "duration": 11,
    "start_time": "2022-03-18T10:22:28.493Z"
   },
   {
    "duration": 192,
    "start_time": "2022-03-18T10:22:28.506Z"
   },
   {
    "duration": 15,
    "start_time": "2022-03-18T10:22:28.700Z"
   },
   {
    "duration": 149,
    "start_time": "2022-03-18T10:22:28.717Z"
   },
   {
    "duration": 11,
    "start_time": "2022-03-18T10:22:28.868Z"
   },
   {
    "duration": 12,
    "start_time": "2022-03-18T10:22:28.880Z"
   },
   {
    "duration": 5,
    "start_time": "2022-03-18T10:22:28.893Z"
   },
   {
    "duration": 9,
    "start_time": "2022-03-18T10:22:28.901Z"
   },
   {
    "duration": 32,
    "start_time": "2022-03-18T10:22:28.911Z"
   },
   {
    "duration": 18,
    "start_time": "2022-03-18T10:22:28.945Z"
   },
   {
    "duration": 317,
    "start_time": "2022-03-18T10:22:28.965Z"
   },
   {
    "duration": 2,
    "start_time": "2022-03-18T10:22:29.283Z"
   },
   {
    "duration": 12,
    "start_time": "2022-03-18T10:22:29.286Z"
   },
   {
    "duration": 259,
    "start_time": "2022-03-18T10:22:29.299Z"
   },
   {
    "duration": 6,
    "start_time": "2022-03-18T10:22:29.560Z"
   },
   {
    "duration": 22,
    "start_time": "2022-03-18T10:22:29.568Z"
   },
   {
    "duration": 349,
    "start_time": "2022-03-18T10:22:29.591Z"
   },
   {
    "duration": 452,
    "start_time": "2022-03-18T10:22:29.942Z"
   },
   {
    "duration": 279,
    "start_time": "2022-03-18T10:22:30.396Z"
   },
   {
    "duration": 896,
    "start_time": "2022-03-18T10:22:30.676Z"
   },
   {
    "duration": 3743,
    "start_time": "2022-03-18T10:22:31.574Z"
   },
   {
    "duration": 24,
    "start_time": "2022-03-18T10:22:35.319Z"
   },
   {
    "duration": 16,
    "start_time": "2022-03-18T10:22:35.345Z"
   },
   {
    "duration": 28,
    "start_time": "2022-03-18T10:22:35.363Z"
   },
   {
    "duration": 56,
    "start_time": "2022-03-18T10:22:35.392Z"
   },
   {
    "duration": 556,
    "start_time": "2022-03-18T10:22:35.452Z"
   },
   {
    "duration": 14,
    "start_time": "2022-03-18T10:22:36.010Z"
   },
   {
    "duration": 10,
    "start_time": "2022-03-18T10:22:36.037Z"
   },
   {
    "duration": 3,
    "start_time": "2022-03-18T10:37:39.042Z"
   },
   {
    "duration": 57,
    "start_time": "2022-03-18T10:37:39.049Z"
   },
   {
    "duration": 4,
    "start_time": "2022-03-18T10:37:39.108Z"
   },
   {
    "duration": 17,
    "start_time": "2022-03-18T10:37:39.113Z"
   },
   {
    "duration": 184,
    "start_time": "2022-03-18T10:37:39.138Z"
   },
   {
    "duration": 16,
    "start_time": "2022-03-18T10:37:39.337Z"
   },
   {
    "duration": 152,
    "start_time": "2022-03-18T10:37:39.354Z"
   },
   {
    "duration": 11,
    "start_time": "2022-03-18T10:37:39.507Z"
   },
   {
    "duration": 23,
    "start_time": "2022-03-18T10:37:39.519Z"
   },
   {
    "duration": 3,
    "start_time": "2022-03-18T10:37:39.543Z"
   },
   {
    "duration": 9,
    "start_time": "2022-03-18T10:37:39.548Z"
   },
   {
    "duration": 10,
    "start_time": "2022-03-18T10:37:39.558Z"
   },
   {
    "duration": 20,
    "start_time": "2022-03-18T10:37:39.570Z"
   },
   {
    "duration": 340,
    "start_time": "2022-03-18T10:37:39.591Z"
   },
   {
    "duration": 4,
    "start_time": "2022-03-18T10:37:39.933Z"
   },
   {
    "duration": 23,
    "start_time": "2022-03-18T10:37:39.939Z"
   },
   {
    "duration": 268,
    "start_time": "2022-03-18T10:37:39.964Z"
   },
   {
    "duration": 6,
    "start_time": "2022-03-18T10:37:40.237Z"
   },
   {
    "duration": 12,
    "start_time": "2022-03-18T10:37:40.244Z"
   },
   {
    "duration": 339,
    "start_time": "2022-03-18T10:37:40.258Z"
   },
   {
    "duration": 341,
    "start_time": "2022-03-18T10:37:40.599Z"
   },
   {
    "duration": 279,
    "start_time": "2022-03-18T10:37:40.941Z"
   },
   {
    "duration": 925,
    "start_time": "2022-03-18T10:37:41.222Z"
   },
   {
    "duration": 3771,
    "start_time": "2022-03-18T10:37:42.149Z"
   },
   {
    "duration": 24,
    "start_time": "2022-03-18T10:37:45.921Z"
   },
   {
    "duration": 15,
    "start_time": "2022-03-18T10:37:45.947Z"
   },
   {
    "duration": 37,
    "start_time": "2022-03-18T10:37:45.964Z"
   },
   {
    "duration": 48,
    "start_time": "2022-03-18T10:37:46.003Z"
   },
   {
    "duration": 448,
    "start_time": "2022-03-18T10:37:46.055Z"
   },
   {
    "duration": 12,
    "start_time": "2022-03-18T10:37:46.504Z"
   },
   {
    "duration": 23,
    "start_time": "2022-03-18T10:37:46.518Z"
   },
   {
    "duration": 601,
    "start_time": "2022-03-18T11:32:09.145Z"
   },
   {
    "duration": 448,
    "start_time": "2022-03-18T11:33:13.953Z"
   },
   {
    "duration": 638,
    "start_time": "2022-03-18T11:35:40.695Z"
   },
   {
    "duration": 1090,
    "start_time": "2022-03-18T11:36:03.607Z"
   },
   {
    "duration": 39,
    "start_time": "2022-03-18T11:55:30.029Z"
   },
   {
    "duration": 621,
    "start_time": "2022-03-18T12:06:38.443Z"
   },
   {
    "duration": 503,
    "start_time": "2022-03-18T12:15:09.409Z"
   },
   {
    "duration": 31,
    "start_time": "2022-03-18T12:15:54.129Z"
   },
   {
    "duration": 121,
    "start_time": "2022-03-18T14:10:49.484Z"
   },
   {
    "duration": 102,
    "start_time": "2022-03-18T14:12:15.248Z"
   },
   {
    "duration": 3,
    "start_time": "2022-03-18T14:13:40.254Z"
   },
   {
    "duration": 69,
    "start_time": "2022-03-18T14:13:40.262Z"
   },
   {
    "duration": 5,
    "start_time": "2022-03-18T14:13:40.333Z"
   },
   {
    "duration": 14,
    "start_time": "2022-03-18T14:13:40.340Z"
   },
   {
    "duration": 198,
    "start_time": "2022-03-18T14:13:40.356Z"
   },
   {
    "duration": 16,
    "start_time": "2022-03-18T14:13:40.556Z"
   },
   {
    "duration": 160,
    "start_time": "2022-03-18T14:13:40.574Z"
   },
   {
    "duration": 12,
    "start_time": "2022-03-18T14:13:40.738Z"
   },
   {
    "duration": 14,
    "start_time": "2022-03-18T14:13:40.752Z"
   },
   {
    "duration": 2,
    "start_time": "2022-03-18T14:13:40.767Z"
   },
   {
    "duration": 13,
    "start_time": "2022-03-18T14:13:40.772Z"
   },
   {
    "duration": 14,
    "start_time": "2022-03-18T14:13:40.787Z"
   },
   {
    "duration": 41,
    "start_time": "2022-03-18T14:13:40.803Z"
   },
   {
    "duration": 23,
    "start_time": "2022-03-18T14:13:40.845Z"
   },
   {
    "duration": 0,
    "start_time": "2022-03-18T14:13:40.870Z"
   },
   {
    "duration": 0,
    "start_time": "2022-03-18T14:13:40.871Z"
   },
   {
    "duration": 0,
    "start_time": "2022-03-18T14:13:40.873Z"
   },
   {
    "duration": 0,
    "start_time": "2022-03-18T14:13:40.873Z"
   },
   {
    "duration": 0,
    "start_time": "2022-03-18T14:13:40.875Z"
   },
   {
    "duration": 0,
    "start_time": "2022-03-18T14:13:40.875Z"
   },
   {
    "duration": 0,
    "start_time": "2022-03-18T14:13:40.876Z"
   },
   {
    "duration": 0,
    "start_time": "2022-03-18T14:13:40.877Z"
   },
   {
    "duration": 0,
    "start_time": "2022-03-18T14:13:40.878Z"
   },
   {
    "duration": 0,
    "start_time": "2022-03-18T14:13:40.880Z"
   },
   {
    "duration": 0,
    "start_time": "2022-03-18T14:13:40.880Z"
   },
   {
    "duration": 0,
    "start_time": "2022-03-18T14:13:40.881Z"
   },
   {
    "duration": 0,
    "start_time": "2022-03-18T14:13:40.882Z"
   },
   {
    "duration": 0,
    "start_time": "2022-03-18T14:13:40.883Z"
   },
   {
    "duration": 0,
    "start_time": "2022-03-18T14:13:40.884Z"
   },
   {
    "duration": 0,
    "start_time": "2022-03-18T14:13:40.885Z"
   },
   {
    "duration": 0,
    "start_time": "2022-03-18T14:13:40.886Z"
   },
   {
    "duration": 0,
    "start_time": "2022-03-18T14:13:40.887Z"
   },
   {
    "duration": 24,
    "start_time": "2022-03-18T14:14:31.824Z"
   },
   {
    "duration": 5,
    "start_time": "2022-03-18T14:16:01.365Z"
   },
   {
    "duration": 15,
    "start_time": "2022-03-18T14:16:19.212Z"
   },
   {
    "duration": 9,
    "start_time": "2022-03-18T14:16:39.873Z"
   },
   {
    "duration": 5,
    "start_time": "2022-03-18T14:19:14.407Z"
   },
   {
    "duration": 3,
    "start_time": "2022-03-18T14:19:48.983Z"
   },
   {
    "duration": 58,
    "start_time": "2022-03-18T14:19:48.991Z"
   },
   {
    "duration": 4,
    "start_time": "2022-03-18T14:19:49.051Z"
   },
   {
    "duration": 10,
    "start_time": "2022-03-18T14:19:49.057Z"
   },
   {
    "duration": 207,
    "start_time": "2022-03-18T14:19:49.069Z"
   },
   {
    "duration": 15,
    "start_time": "2022-03-18T14:19:49.278Z"
   },
   {
    "duration": 152,
    "start_time": "2022-03-18T14:19:49.294Z"
   },
   {
    "duration": 11,
    "start_time": "2022-03-18T14:19:49.448Z"
   },
   {
    "duration": 12,
    "start_time": "2022-03-18T14:19:49.461Z"
   },
   {
    "duration": 2,
    "start_time": "2022-03-18T14:19:49.475Z"
   },
   {
    "duration": 8,
    "start_time": "2022-03-18T14:19:49.480Z"
   },
   {
    "duration": 10,
    "start_time": "2022-03-18T14:19:49.490Z"
   },
   {
    "duration": 46,
    "start_time": "2022-03-18T14:19:49.501Z"
   },
   {
    "duration": 4,
    "start_time": "2022-03-18T14:19:49.549Z"
   },
   {
    "duration": 320,
    "start_time": "2022-03-18T14:19:49.554Z"
   },
   {
    "duration": 3,
    "start_time": "2022-03-18T14:19:49.875Z"
   },
   {
    "duration": 10,
    "start_time": "2022-03-18T14:19:49.880Z"
   },
   {
    "duration": 392,
    "start_time": "2022-03-18T14:19:49.892Z"
   },
   {
    "duration": 7,
    "start_time": "2022-03-18T14:19:50.285Z"
   },
   {
    "duration": 11,
    "start_time": "2022-03-18T14:19:50.294Z"
   },
   {
    "duration": 352,
    "start_time": "2022-03-18T14:19:50.307Z"
   },
   {
    "duration": 350,
    "start_time": "2022-03-18T14:19:50.661Z"
   },
   {
    "duration": 290,
    "start_time": "2022-03-18T14:19:51.013Z"
   },
   {
    "duration": 820,
    "start_time": "2022-03-18T14:19:51.305Z"
   },
   {
    "duration": 3800,
    "start_time": "2022-03-18T14:19:52.127Z"
   },
   {
    "duration": 17,
    "start_time": "2022-03-18T14:19:55.929Z"
   },
   {
    "duration": 16,
    "start_time": "2022-03-18T14:19:55.947Z"
   },
   {
    "duration": 33,
    "start_time": "2022-03-18T14:19:55.964Z"
   },
   {
    "duration": 62,
    "start_time": "2022-03-18T14:19:56.000Z"
   },
   {
    "duration": 476,
    "start_time": "2022-03-18T14:19:56.064Z"
   },
   {
    "duration": 12,
    "start_time": "2022-03-18T14:19:56.542Z"
   },
   {
    "duration": 9,
    "start_time": "2022-03-18T14:19:56.556Z"
   },
   {
    "duration": 3593,
    "start_time": "2022-03-18T14:41:25.166Z"
   },
   {
    "duration": 3370,
    "start_time": "2022-03-18T14:44:27.175Z"
   },
   {
    "duration": 13,
    "start_time": "2022-03-18T14:45:20.497Z"
   },
   {
    "duration": 3,
    "start_time": "2022-03-18T14:45:48.515Z"
   },
   {
    "duration": 58,
    "start_time": "2022-03-18T14:45:48.520Z"
   },
   {
    "duration": 4,
    "start_time": "2022-03-18T14:45:48.580Z"
   },
   {
    "duration": 13,
    "start_time": "2022-03-18T14:45:48.586Z"
   },
   {
    "duration": 215,
    "start_time": "2022-03-18T14:45:48.602Z"
   },
   {
    "duration": 20,
    "start_time": "2022-03-18T14:45:48.818Z"
   },
   {
    "duration": 157,
    "start_time": "2022-03-18T14:45:48.840Z"
   },
   {
    "duration": 15,
    "start_time": "2022-03-18T14:45:48.998Z"
   },
   {
    "duration": 27,
    "start_time": "2022-03-18T14:45:49.015Z"
   },
   {
    "duration": 2,
    "start_time": "2022-03-18T14:45:49.044Z"
   },
   {
    "duration": 9,
    "start_time": "2022-03-18T14:45:49.049Z"
   },
   {
    "duration": 10,
    "start_time": "2022-03-18T14:45:49.059Z"
   },
   {
    "duration": 3129,
    "start_time": "2022-03-18T14:45:49.071Z"
   },
   {
    "duration": 13,
    "start_time": "2022-03-18T14:45:52.202Z"
   },
   {
    "duration": 27,
    "start_time": "2022-03-18T14:45:52.221Z"
   },
   {
    "duration": 338,
    "start_time": "2022-03-18T14:45:52.250Z"
   },
   {
    "duration": 3,
    "start_time": "2022-03-18T14:45:52.590Z"
   },
   {
    "duration": 14,
    "start_time": "2022-03-18T14:45:52.595Z"
   },
   {
    "duration": 273,
    "start_time": "2022-03-18T14:45:52.611Z"
   },
   {
    "duration": 6,
    "start_time": "2022-03-18T14:45:52.886Z"
   },
   {
    "duration": 12,
    "start_time": "2022-03-18T14:45:52.894Z"
   },
   {
    "duration": 373,
    "start_time": "2022-03-18T14:45:52.908Z"
   },
   {
    "duration": 369,
    "start_time": "2022-03-18T14:45:53.283Z"
   },
   {
    "duration": 453,
    "start_time": "2022-03-18T14:45:53.654Z"
   },
   {
    "duration": 908,
    "start_time": "2022-03-18T14:45:54.109Z"
   },
   {
    "duration": 3910,
    "start_time": "2022-03-18T14:45:55.019Z"
   },
   {
    "duration": 15,
    "start_time": "2022-03-18T14:45:58.938Z"
   },
   {
    "duration": 15,
    "start_time": "2022-03-18T14:45:58.955Z"
   },
   {
    "duration": 30,
    "start_time": "2022-03-18T14:45:58.973Z"
   },
   {
    "duration": 56,
    "start_time": "2022-03-18T14:45:59.004Z"
   },
   {
    "duration": 39440,
    "start_time": "2022-03-18T14:45:59.062Z"
   },
   {
    "duration": 35,
    "start_time": "2022-03-18T14:46:38.504Z"
   },
   {
    "duration": 10,
    "start_time": "2022-03-18T14:46:38.541Z"
   },
   {
    "duration": 5,
    "start_time": "2022-03-18T14:47:28.304Z"
   },
   {
    "duration": 3,
    "start_time": "2022-03-18T14:47:33.803Z"
   },
   {
    "duration": 75,
    "start_time": "2022-03-18T14:47:33.809Z"
   },
   {
    "duration": 5,
    "start_time": "2022-03-18T14:47:33.887Z"
   },
   {
    "duration": 14,
    "start_time": "2022-03-18T14:47:33.894Z"
   },
   {
    "duration": 214,
    "start_time": "2022-03-18T14:47:33.910Z"
   },
   {
    "duration": 20,
    "start_time": "2022-03-18T14:47:34.125Z"
   },
   {
    "duration": 153,
    "start_time": "2022-03-18T14:47:34.147Z"
   },
   {
    "duration": 13,
    "start_time": "2022-03-18T14:47:34.302Z"
   },
   {
    "duration": 27,
    "start_time": "2022-03-18T14:47:34.317Z"
   },
   {
    "duration": 2,
    "start_time": "2022-03-18T14:47:34.346Z"
   },
   {
    "duration": 10,
    "start_time": "2022-03-18T14:47:34.351Z"
   },
   {
    "duration": 11,
    "start_time": "2022-03-18T14:47:34.362Z"
   },
   {
    "duration": 8,
    "start_time": "2022-03-18T14:47:34.374Z"
   },
   {
    "duration": 16,
    "start_time": "2022-03-18T14:47:34.384Z"
   },
   {
    "duration": 39,
    "start_time": "2022-03-18T14:47:34.401Z"
   },
   {
    "duration": 341,
    "start_time": "2022-03-18T14:47:34.442Z"
   },
   {
    "duration": 3,
    "start_time": "2022-03-18T14:47:34.785Z"
   },
   {
    "duration": 13,
    "start_time": "2022-03-18T14:47:34.789Z"
   },
   {
    "duration": 277,
    "start_time": "2022-03-18T14:47:34.804Z"
   },
   {
    "duration": 8,
    "start_time": "2022-03-18T14:47:35.083Z"
   },
   {
    "duration": 18,
    "start_time": "2022-03-18T14:47:35.092Z"
   },
   {
    "duration": 348,
    "start_time": "2022-03-18T14:47:35.112Z"
   },
   {
    "duration": 346,
    "start_time": "2022-03-18T14:47:35.462Z"
   },
   {
    "duration": 499,
    "start_time": "2022-03-18T14:47:35.810Z"
   },
   {
    "duration": 842,
    "start_time": "2022-03-18T14:47:36.312Z"
   },
   {
    "duration": 3862,
    "start_time": "2022-03-18T14:47:37.156Z"
   },
   {
    "duration": 27,
    "start_time": "2022-03-18T14:47:41.020Z"
   },
   {
    "duration": 18,
    "start_time": "2022-03-18T14:47:41.049Z"
   },
   {
    "duration": 35,
    "start_time": "2022-03-18T14:47:41.070Z"
   },
   {
    "duration": 57,
    "start_time": "2022-03-18T14:47:41.107Z"
   },
   {
    "duration": 485,
    "start_time": "2022-03-18T14:47:41.165Z"
   },
   {
    "duration": 13,
    "start_time": "2022-03-18T14:47:41.651Z"
   },
   {
    "duration": 13,
    "start_time": "2022-03-18T14:47:41.665Z"
   },
   {
    "duration": 30,
    "start_time": "2022-03-18T14:58:30.431Z"
   },
   {
    "duration": 38,
    "start_time": "2022-03-18T14:59:08.511Z"
   },
   {
    "duration": 3,
    "start_time": "2022-03-18T14:59:23.415Z"
   },
   {
    "duration": 59,
    "start_time": "2022-03-18T14:59:23.422Z"
   },
   {
    "duration": 5,
    "start_time": "2022-03-18T14:59:23.482Z"
   },
   {
    "duration": 11,
    "start_time": "2022-03-18T14:59:23.488Z"
   },
   {
    "duration": 200,
    "start_time": "2022-03-18T14:59:23.501Z"
   },
   {
    "duration": 15,
    "start_time": "2022-03-18T14:59:23.703Z"
   },
   {
    "duration": 159,
    "start_time": "2022-03-18T14:59:23.720Z"
   },
   {
    "duration": 12,
    "start_time": "2022-03-18T14:59:23.881Z"
   },
   {
    "duration": 13,
    "start_time": "2022-03-18T14:59:23.895Z"
   },
   {
    "duration": 2,
    "start_time": "2022-03-18T14:59:23.910Z"
   },
   {
    "duration": 30,
    "start_time": "2022-03-18T14:59:23.914Z"
   },
   {
    "duration": 12,
    "start_time": "2022-03-18T14:59:23.945Z"
   },
   {
    "duration": 7,
    "start_time": "2022-03-18T14:59:23.960Z"
   },
   {
    "duration": 22,
    "start_time": "2022-03-18T14:59:23.969Z"
   },
   {
    "duration": 555,
    "start_time": "2022-03-18T14:59:23.993Z"
   },
   {
    "duration": 3,
    "start_time": "2022-03-18T14:59:24.550Z"
   },
   {
    "duration": 15,
    "start_time": "2022-03-18T14:59:24.554Z"
   },
   {
    "duration": 267,
    "start_time": "2022-03-18T14:59:24.570Z"
   },
   {
    "duration": 7,
    "start_time": "2022-03-18T14:59:24.839Z"
   },
   {
    "duration": 13,
    "start_time": "2022-03-18T14:59:24.847Z"
   },
   {
    "duration": 354,
    "start_time": "2022-03-18T14:59:24.861Z"
   },
   {
    "duration": 339,
    "start_time": "2022-03-18T14:59:25.217Z"
   },
   {
    "duration": 280,
    "start_time": "2022-03-18T14:59:25.557Z"
   },
   {
    "duration": 864,
    "start_time": "2022-03-18T14:59:25.839Z"
   },
   {
    "duration": 3821,
    "start_time": "2022-03-18T14:59:26.705Z"
   },
   {
    "duration": 18,
    "start_time": "2022-03-18T14:59:30.528Z"
   },
   {
    "duration": 13,
    "start_time": "2022-03-18T14:59:30.547Z"
   },
   {
    "duration": 42,
    "start_time": "2022-03-18T14:59:30.562Z"
   },
   {
    "duration": 49,
    "start_time": "2022-03-18T14:59:30.608Z"
   },
   {
    "duration": 689,
    "start_time": "2022-03-18T14:59:30.659Z"
   },
   {
    "duration": 13,
    "start_time": "2022-03-18T14:59:31.349Z"
   },
   {
    "duration": 31,
    "start_time": "2022-03-18T14:59:31.364Z"
   },
   {
    "duration": 3,
    "start_time": "2022-03-18T15:00:49.136Z"
   },
   {
    "duration": 70,
    "start_time": "2022-03-18T15:00:49.141Z"
   },
   {
    "duration": 5,
    "start_time": "2022-03-18T15:00:49.213Z"
   },
   {
    "duration": 29,
    "start_time": "2022-03-18T15:00:49.220Z"
   },
   {
    "duration": 203,
    "start_time": "2022-03-18T15:00:49.251Z"
   },
   {
    "duration": 17,
    "start_time": "2022-03-18T15:00:49.456Z"
   },
   {
    "duration": 169,
    "start_time": "2022-03-18T15:00:49.474Z"
   },
   {
    "duration": 13,
    "start_time": "2022-03-18T15:00:49.644Z"
   },
   {
    "duration": 17,
    "start_time": "2022-03-18T15:00:49.660Z"
   },
   {
    "duration": 3,
    "start_time": "2022-03-18T15:00:49.679Z"
   },
   {
    "duration": 11,
    "start_time": "2022-03-18T15:00:49.685Z"
   },
   {
    "duration": 21,
    "start_time": "2022-03-18T15:00:49.698Z"
   },
   {
    "duration": 20,
    "start_time": "2022-03-18T15:00:49.721Z"
   },
   {
    "duration": 26,
    "start_time": "2022-03-18T15:00:49.743Z"
   },
   {
    "duration": 353,
    "start_time": "2022-03-18T15:00:49.771Z"
   },
   {
    "duration": 3,
    "start_time": "2022-03-18T15:00:50.125Z"
   },
   {
    "duration": 18,
    "start_time": "2022-03-18T15:00:50.129Z"
   },
   {
    "duration": 283,
    "start_time": "2022-03-18T15:00:50.148Z"
   },
   {
    "duration": 7,
    "start_time": "2022-03-18T15:00:50.436Z"
   },
   {
    "duration": 26,
    "start_time": "2022-03-18T15:00:50.444Z"
   },
   {
    "duration": 361,
    "start_time": "2022-03-18T15:00:50.472Z"
   },
   {
    "duration": 348,
    "start_time": "2022-03-18T15:00:50.835Z"
   },
   {
    "duration": 279,
    "start_time": "2022-03-18T15:00:51.185Z"
   },
   {
    "duration": 1051,
    "start_time": "2022-03-18T15:00:51.466Z"
   },
   {
    "duration": 3934,
    "start_time": "2022-03-18T15:00:52.519Z"
   },
   {
    "duration": 12,
    "start_time": "2022-03-18T15:00:56.455Z"
   },
   {
    "duration": 18,
    "start_time": "2022-03-18T15:00:56.469Z"
   },
   {
    "duration": 51,
    "start_time": "2022-03-18T15:00:56.489Z"
   },
   {
    "duration": 21,
    "start_time": "2022-03-18T15:00:56.543Z"
   },
   {
    "duration": 499,
    "start_time": "2022-03-18T15:00:56.565Z"
   },
   {
    "duration": 12,
    "start_time": "2022-03-18T15:00:57.066Z"
   },
   {
    "duration": 14,
    "start_time": "2022-03-18T15:00:57.080Z"
   },
   {
    "duration": 39,
    "start_time": "2022-03-18T15:01:30.016Z"
   },
   {
    "duration": 3,
    "start_time": "2022-03-18T15:01:45.636Z"
   },
   {
    "duration": 69,
    "start_time": "2022-03-18T15:01:45.642Z"
   },
   {
    "duration": 4,
    "start_time": "2022-03-18T15:01:45.713Z"
   },
   {
    "duration": 20,
    "start_time": "2022-03-18T15:01:45.718Z"
   },
   {
    "duration": 192,
    "start_time": "2022-03-18T15:01:45.740Z"
   },
   {
    "duration": 16,
    "start_time": "2022-03-18T15:01:45.938Z"
   },
   {
    "duration": 158,
    "start_time": "2022-03-18T15:01:45.955Z"
   },
   {
    "duration": 12,
    "start_time": "2022-03-18T15:01:46.114Z"
   },
   {
    "duration": 23,
    "start_time": "2022-03-18T15:01:46.127Z"
   },
   {
    "duration": 2,
    "start_time": "2022-03-18T15:01:46.152Z"
   },
   {
    "duration": 11,
    "start_time": "2022-03-18T15:01:46.157Z"
   },
   {
    "duration": 14,
    "start_time": "2022-03-18T15:01:46.170Z"
   },
   {
    "duration": 7,
    "start_time": "2022-03-18T15:01:46.186Z"
   },
   {
    "duration": 49,
    "start_time": "2022-03-18T15:01:46.195Z"
   },
   {
    "duration": 335,
    "start_time": "2022-03-18T15:01:46.246Z"
   },
   {
    "duration": 2,
    "start_time": "2022-03-18T15:01:46.583Z"
   },
   {
    "duration": 24,
    "start_time": "2022-03-18T15:01:46.586Z"
   },
   {
    "duration": 266,
    "start_time": "2022-03-18T15:01:46.612Z"
   },
   {
    "duration": 7,
    "start_time": "2022-03-18T15:01:46.879Z"
   },
   {
    "duration": 19,
    "start_time": "2022-03-18T15:01:46.888Z"
   },
   {
    "duration": 343,
    "start_time": "2022-03-18T15:01:46.909Z"
   },
   {
    "duration": 344,
    "start_time": "2022-03-18T15:01:47.253Z"
   },
   {
    "duration": 540,
    "start_time": "2022-03-18T15:01:47.599Z"
   },
   {
    "duration": 906,
    "start_time": "2022-03-18T15:01:48.141Z"
   },
   {
    "duration": 3979,
    "start_time": "2022-03-18T15:01:49.049Z"
   },
   {
    "duration": 13,
    "start_time": "2022-03-18T15:01:53.037Z"
   },
   {
    "duration": 30,
    "start_time": "2022-03-18T15:01:53.052Z"
   },
   {
    "duration": 50,
    "start_time": "2022-03-18T15:01:53.083Z"
   },
   {
    "duration": 30,
    "start_time": "2022-03-18T15:01:53.136Z"
   },
   {
    "duration": 490,
    "start_time": "2022-03-18T15:01:53.168Z"
   },
   {
    "duration": 13,
    "start_time": "2022-03-18T15:01:53.660Z"
   },
   {
    "duration": 14,
    "start_time": "2022-03-18T15:01:53.674Z"
   },
   {
    "duration": 529,
    "start_time": "2022-03-18T15:05:29.391Z"
   },
   {
    "duration": 626,
    "start_time": "2022-03-18T15:06:54.602Z"
   },
   {
    "duration": 442,
    "start_time": "2022-03-18T15:07:30.926Z"
   },
   {
    "duration": 422,
    "start_time": "2022-03-18T15:07:43.770Z"
   },
   {
    "duration": 3,
    "start_time": "2022-03-18T15:08:04.982Z"
   },
   {
    "duration": 69,
    "start_time": "2022-03-18T15:08:04.987Z"
   },
   {
    "duration": 4,
    "start_time": "2022-03-18T15:08:05.059Z"
   },
   {
    "duration": 12,
    "start_time": "2022-03-18T15:08:05.065Z"
   },
   {
    "duration": 206,
    "start_time": "2022-03-18T15:08:05.079Z"
   },
   {
    "duration": 17,
    "start_time": "2022-03-18T15:08:05.287Z"
   },
   {
    "duration": 172,
    "start_time": "2022-03-18T15:08:05.305Z"
   },
   {
    "duration": 12,
    "start_time": "2022-03-18T15:08:05.479Z"
   },
   {
    "duration": 24,
    "start_time": "2022-03-18T15:08:05.492Z"
   },
   {
    "duration": 29,
    "start_time": "2022-03-18T15:08:05.518Z"
   },
   {
    "duration": 10,
    "start_time": "2022-03-18T15:08:05.550Z"
   },
   {
    "duration": 12,
    "start_time": "2022-03-18T15:08:05.561Z"
   },
   {
    "duration": 7,
    "start_time": "2022-03-18T15:08:05.574Z"
   },
   {
    "duration": 21,
    "start_time": "2022-03-18T15:08:05.582Z"
   },
   {
    "duration": 321,
    "start_time": "2022-03-18T15:08:05.605Z"
   },
   {
    "duration": 2,
    "start_time": "2022-03-18T15:08:05.928Z"
   },
   {
    "duration": 8,
    "start_time": "2022-03-18T15:08:05.937Z"
   },
   {
    "duration": 272,
    "start_time": "2022-03-18T15:08:05.946Z"
   },
   {
    "duration": 17,
    "start_time": "2022-03-18T15:08:06.220Z"
   },
   {
    "duration": 7,
    "start_time": "2022-03-18T15:08:06.239Z"
   },
   {
    "duration": 344,
    "start_time": "2022-03-18T15:08:06.248Z"
   },
   {
    "duration": 353,
    "start_time": "2022-03-18T15:08:06.594Z"
   },
   {
    "duration": 278,
    "start_time": "2022-03-18T15:08:06.948Z"
   },
   {
    "duration": 1033,
    "start_time": "2022-03-18T15:08:07.227Z"
   },
   {
    "duration": 3880,
    "start_time": "2022-03-18T15:08:08.262Z"
   },
   {
    "duration": 13,
    "start_time": "2022-03-18T15:08:12.144Z"
   },
   {
    "duration": 32,
    "start_time": "2022-03-18T15:08:12.158Z"
   },
   {
    "duration": 51,
    "start_time": "2022-03-18T15:08:12.192Z"
   },
   {
    "duration": 435,
    "start_time": "2022-03-18T15:08:12.246Z"
   },
   {
    "duration": 467,
    "start_time": "2022-03-18T15:08:12.682Z"
   },
   {
    "duration": 12,
    "start_time": "2022-03-18T15:08:13.150Z"
   },
   {
    "duration": 24,
    "start_time": "2022-03-18T15:08:13.164Z"
   },
   {
    "duration": 695,
    "start_time": "2022-03-18T15:09:28.728Z"
   },
   {
    "duration": 422,
    "start_time": "2022-03-18T15:09:53.577Z"
   },
   {
    "duration": 750,
    "start_time": "2022-03-18T15:11:08.079Z"
   },
   {
    "duration": 305,
    "start_time": "2022-03-18T15:11:55.248Z"
   },
   {
    "duration": 123,
    "start_time": "2022-03-18T15:12:22.316Z"
   },
   {
    "duration": 3,
    "start_time": "2022-03-18T15:13:12.688Z"
   },
   {
    "duration": 89,
    "start_time": "2022-03-18T15:13:12.692Z"
   },
   {
    "duration": 5,
    "start_time": "2022-03-18T15:13:12.783Z"
   },
   {
    "duration": 32,
    "start_time": "2022-03-18T15:13:12.789Z"
   },
   {
    "duration": 199,
    "start_time": "2022-03-18T15:13:12.823Z"
   },
   {
    "duration": 20,
    "start_time": "2022-03-18T15:13:13.024Z"
   },
   {
    "duration": 161,
    "start_time": "2022-03-18T15:13:13.046Z"
   },
   {
    "duration": 11,
    "start_time": "2022-03-18T15:13:13.209Z"
   },
   {
    "duration": 27,
    "start_time": "2022-03-18T15:13:13.221Z"
   },
   {
    "duration": 3,
    "start_time": "2022-03-18T15:13:13.250Z"
   },
   {
    "duration": 30,
    "start_time": "2022-03-18T15:13:13.256Z"
   },
   {
    "duration": 20,
    "start_time": "2022-03-18T15:13:13.288Z"
   },
   {
    "duration": 14,
    "start_time": "2022-03-18T15:13:13.309Z"
   },
   {
    "duration": 49,
    "start_time": "2022-03-18T15:13:13.324Z"
   },
   {
    "duration": 324,
    "start_time": "2022-03-18T15:13:13.375Z"
   },
   {
    "duration": 2,
    "start_time": "2022-03-18T15:13:13.702Z"
   },
   {
    "duration": 29,
    "start_time": "2022-03-18T15:13:13.706Z"
   },
   {
    "duration": 263,
    "start_time": "2022-03-18T15:13:13.737Z"
   },
   {
    "duration": 8,
    "start_time": "2022-03-18T15:13:14.002Z"
   },
   {
    "duration": 23,
    "start_time": "2022-03-18T15:13:14.011Z"
   },
   {
    "duration": 373,
    "start_time": "2022-03-18T15:13:14.036Z"
   },
   {
    "duration": 359,
    "start_time": "2022-03-18T15:13:14.411Z"
   },
   {
    "duration": 653,
    "start_time": "2022-03-18T15:13:14.772Z"
   },
   {
    "duration": 887,
    "start_time": "2022-03-18T15:13:15.426Z"
   },
   {
    "duration": 3823,
    "start_time": "2022-03-18T15:13:16.315Z"
   },
   {
    "duration": 13,
    "start_time": "2022-03-18T15:13:20.140Z"
   },
   {
    "duration": 17,
    "start_time": "2022-03-18T15:13:20.154Z"
   },
   {
    "duration": 33,
    "start_time": "2022-03-18T15:13:20.172Z"
   },
   {
    "duration": 285,
    "start_time": "2022-03-18T15:13:20.208Z"
   },
   {
    "duration": 612,
    "start_time": "2022-03-18T15:13:20.495Z"
   },
   {
    "duration": 13,
    "start_time": "2022-03-18T15:13:21.109Z"
   },
   {
    "duration": 24,
    "start_time": "2022-03-18T15:13:21.123Z"
   },
   {
    "duration": 3,
    "start_time": "2022-03-18T15:15:29.201Z"
   },
   {
    "duration": 70,
    "start_time": "2022-03-18T15:15:29.210Z"
   },
   {
    "duration": 5,
    "start_time": "2022-03-18T15:15:29.282Z"
   },
   {
    "duration": 13,
    "start_time": "2022-03-18T15:15:29.288Z"
   },
   {
    "duration": 201,
    "start_time": "2022-03-18T15:15:29.303Z"
   },
   {
    "duration": 17,
    "start_time": "2022-03-18T15:15:29.506Z"
   },
   {
    "duration": 156,
    "start_time": "2022-03-18T15:15:29.525Z"
   },
   {
    "duration": 11,
    "start_time": "2022-03-18T15:15:29.683Z"
   },
   {
    "duration": 18,
    "start_time": "2022-03-18T15:15:29.696Z"
   },
   {
    "duration": 23,
    "start_time": "2022-03-18T15:15:29.716Z"
   },
   {
    "duration": 17,
    "start_time": "2022-03-18T15:15:29.742Z"
   },
   {
    "duration": 13,
    "start_time": "2022-03-18T15:15:29.761Z"
   },
   {
    "duration": 11,
    "start_time": "2022-03-18T15:15:29.776Z"
   },
   {
    "duration": 20,
    "start_time": "2022-03-18T15:15:29.789Z"
   },
   {
    "duration": 371,
    "start_time": "2022-03-18T15:15:29.810Z"
   },
   {
    "duration": 3,
    "start_time": "2022-03-18T15:15:30.183Z"
   },
   {
    "duration": 33,
    "start_time": "2022-03-18T15:15:30.187Z"
   },
   {
    "duration": 260,
    "start_time": "2022-03-18T15:15:30.222Z"
   },
   {
    "duration": 7,
    "start_time": "2022-03-18T15:15:30.484Z"
   },
   {
    "duration": 10,
    "start_time": "2022-03-18T15:15:30.493Z"
   },
   {
    "duration": 351,
    "start_time": "2022-03-18T15:15:30.504Z"
   },
   {
    "duration": 382,
    "start_time": "2022-03-18T15:15:30.857Z"
   },
   {
    "duration": 321,
    "start_time": "2022-03-18T15:15:31.241Z"
   },
   {
    "duration": 1018,
    "start_time": "2022-03-18T15:15:31.564Z"
   },
   {
    "duration": 3857,
    "start_time": "2022-03-18T15:15:32.584Z"
   },
   {
    "duration": 13,
    "start_time": "2022-03-18T15:15:36.443Z"
   },
   {
    "duration": 19,
    "start_time": "2022-03-18T15:15:36.457Z"
   },
   {
    "duration": 32,
    "start_time": "2022-03-18T15:15:36.478Z"
   },
   {
    "duration": 768,
    "start_time": "2022-03-18T15:15:36.513Z"
   },
   {
    "duration": 653,
    "start_time": "2022-03-18T15:15:37.282Z"
   },
   {
    "duration": 13,
    "start_time": "2022-03-18T15:15:37.938Z"
   },
   {
    "duration": 37,
    "start_time": "2022-03-18T15:15:37.952Z"
   },
   {
    "duration": 744,
    "start_time": "2022-03-18T15:18:26.209Z"
   },
   {
    "duration": 129,
    "start_time": "2022-03-18T15:37:24.711Z"
   },
   {
    "duration": 3,
    "start_time": "2022-03-18T15:37:40.683Z"
   },
   {
    "duration": 62,
    "start_time": "2022-03-18T15:37:40.688Z"
   },
   {
    "duration": 5,
    "start_time": "2022-03-18T15:37:40.752Z"
   },
   {
    "duration": 12,
    "start_time": "2022-03-18T15:37:40.758Z"
   },
   {
    "duration": 196,
    "start_time": "2022-03-18T15:37:40.773Z"
   },
   {
    "duration": 15,
    "start_time": "2022-03-18T15:37:40.971Z"
   },
   {
    "duration": 158,
    "start_time": "2022-03-18T15:37:40.988Z"
   },
   {
    "duration": 12,
    "start_time": "2022-03-18T15:37:41.147Z"
   },
   {
    "duration": 20,
    "start_time": "2022-03-18T15:37:41.161Z"
   },
   {
    "duration": 3,
    "start_time": "2022-03-18T15:37:41.183Z"
   },
   {
    "duration": 9,
    "start_time": "2022-03-18T15:37:41.188Z"
   },
   {
    "duration": 10,
    "start_time": "2022-03-18T15:37:41.199Z"
   },
   {
    "duration": 27,
    "start_time": "2022-03-18T15:37:41.211Z"
   },
   {
    "duration": 147,
    "start_time": "2022-03-18T15:37:41.240Z"
   },
   {
    "duration": 319,
    "start_time": "2022-03-18T15:37:41.389Z"
   },
   {
    "duration": 2,
    "start_time": "2022-03-18T15:37:41.710Z"
   },
   {
    "duration": 11,
    "start_time": "2022-03-18T15:37:41.714Z"
   },
   {
    "duration": 267,
    "start_time": "2022-03-18T15:37:41.737Z"
   },
   {
    "duration": 8,
    "start_time": "2022-03-18T15:37:42.005Z"
   },
   {
    "duration": 23,
    "start_time": "2022-03-18T15:37:42.014Z"
   },
   {
    "duration": 346,
    "start_time": "2022-03-18T15:37:42.039Z"
   },
   {
    "duration": 348,
    "start_time": "2022-03-18T15:37:42.387Z"
   },
   {
    "duration": 267,
    "start_time": "2022-03-18T15:37:42.737Z"
   },
   {
    "duration": 948,
    "start_time": "2022-03-18T15:37:43.006Z"
   },
   {
    "duration": 3770,
    "start_time": "2022-03-18T15:37:43.955Z"
   },
   {
    "duration": 21,
    "start_time": "2022-03-18T15:37:47.727Z"
   },
   {
    "duration": 15,
    "start_time": "2022-03-18T15:37:47.749Z"
   },
   {
    "duration": 30,
    "start_time": "2022-03-18T15:37:47.766Z"
   },
   {
    "duration": 144,
    "start_time": "2022-03-18T15:37:47.799Z"
   },
   {
    "duration": 0,
    "start_time": "2022-03-18T15:37:47.945Z"
   },
   {
    "duration": 0,
    "start_time": "2022-03-18T15:37:47.946Z"
   },
   {
    "duration": 0,
    "start_time": "2022-03-18T15:37:47.948Z"
   },
   {
    "duration": 713,
    "start_time": "2022-03-18T15:38:27.671Z"
   },
   {
    "duration": 120,
    "start_time": "2022-03-18T15:38:44.833Z"
   },
   {
    "duration": 249,
    "start_time": "2022-03-18T15:39:09.950Z"
   },
   {
    "duration": 442,
    "start_time": "2022-03-18T15:43:40.533Z"
   },
   {
    "duration": 733,
    "start_time": "2022-03-18T15:44:19.054Z"
   },
   {
    "duration": 301,
    "start_time": "2022-03-18T15:48:15.731Z"
   },
   {
    "duration": 140,
    "start_time": "2022-03-18T15:49:17.017Z"
   },
   {
    "duration": 232,
    "start_time": "2022-03-18T15:51:06.174Z"
   },
   {
    "duration": 140,
    "start_time": "2022-03-18T15:51:21.959Z"
   },
   {
    "duration": 278,
    "start_time": "2022-03-18T15:51:33.109Z"
   },
   {
    "duration": 151,
    "start_time": "2022-03-18T15:52:36.663Z"
   },
   {
    "duration": 294,
    "start_time": "2022-03-18T15:52:52.651Z"
   },
   {
    "duration": 262,
    "start_time": "2022-03-18T15:55:49.340Z"
   },
   {
    "duration": 882,
    "start_time": "2022-03-18T15:55:58.989Z"
   },
   {
    "duration": 289,
    "start_time": "2022-03-18T15:57:09.030Z"
   },
   {
    "duration": 266,
    "start_time": "2022-03-18T15:59:29.575Z"
   },
   {
    "duration": 234,
    "start_time": "2022-03-18T15:59:51.226Z"
   },
   {
    "duration": 721,
    "start_time": "2022-03-18T16:00:04.807Z"
   },
   {
    "duration": 900,
    "start_time": "2022-03-18T16:00:24.342Z"
   },
   {
    "duration": 301,
    "start_time": "2022-03-18T16:03:55.726Z"
   },
   {
    "duration": 152,
    "start_time": "2022-03-18T16:04:03.240Z"
   },
   {
    "duration": 146,
    "start_time": "2022-03-18T16:04:27.579Z"
   },
   {
    "duration": 139,
    "start_time": "2022-03-18T16:04:46.291Z"
   },
   {
    "duration": 149,
    "start_time": "2022-03-18T16:05:08.626Z"
   },
   {
    "duration": 123,
    "start_time": "2022-03-18T16:05:22.363Z"
   },
   {
    "duration": 151,
    "start_time": "2022-03-18T16:05:32.658Z"
   },
   {
    "duration": 158,
    "start_time": "2022-03-18T16:05:52.555Z"
   },
   {
    "duration": 135,
    "start_time": "2022-03-18T16:07:07.912Z"
   },
   {
    "duration": 291,
    "start_time": "2022-03-18T16:07:31.180Z"
   },
   {
    "duration": 2391,
    "start_time": "2022-03-18T16:20:40.757Z"
   },
   {
    "duration": 149,
    "start_time": "2022-03-18T16:22:19.858Z"
   },
   {
    "duration": 159,
    "start_time": "2022-03-18T16:23:00.109Z"
   },
   {
    "duration": 2366,
    "start_time": "2022-03-18T16:23:15.046Z"
   },
   {
    "duration": 139,
    "start_time": "2022-03-18T16:23:54.485Z"
   },
   {
    "duration": 2387,
    "start_time": "2022-03-18T16:24:12.469Z"
   },
   {
    "duration": 1816,
    "start_time": "2022-03-18T19:04:41.246Z"
   },
   {
    "duration": 98,
    "start_time": "2022-03-18T19:04:43.066Z"
   },
   {
    "duration": 7,
    "start_time": "2022-03-18T19:04:43.166Z"
   },
   {
    "duration": 12,
    "start_time": "2022-03-18T19:04:43.176Z"
   },
   {
    "duration": 329,
    "start_time": "2022-03-18T19:04:43.191Z"
   },
   {
    "duration": 21,
    "start_time": "2022-03-18T19:04:43.523Z"
   },
   {
    "duration": 270,
    "start_time": "2022-03-18T19:04:43.547Z"
   },
   {
    "duration": 18,
    "start_time": "2022-03-18T19:04:43.820Z"
   },
   {
    "duration": 39,
    "start_time": "2022-03-18T19:04:43.840Z"
   },
   {
    "duration": 3,
    "start_time": "2022-03-18T19:04:43.883Z"
   },
   {
    "duration": 13,
    "start_time": "2022-03-18T19:04:43.888Z"
   },
   {
    "duration": 11,
    "start_time": "2022-03-18T19:04:43.903Z"
   },
   {
    "duration": 6,
    "start_time": "2022-03-18T19:04:43.916Z"
   },
   {
    "duration": 67,
    "start_time": "2022-03-18T19:04:43.924Z"
   },
   {
    "duration": 552,
    "start_time": "2022-03-18T19:04:43.993Z"
   },
   {
    "duration": 3,
    "start_time": "2022-03-18T19:04:44.547Z"
   },
   {
    "duration": 11,
    "start_time": "2022-03-18T19:04:44.567Z"
   },
   {
    "duration": 584,
    "start_time": "2022-03-18T19:04:44.580Z"
   },
   {
    "duration": 9,
    "start_time": "2022-03-18T19:04:45.166Z"
   },
   {
    "duration": 12,
    "start_time": "2022-03-18T19:04:45.177Z"
   },
   {
    "duration": 589,
    "start_time": "2022-03-18T19:04:45.192Z"
   },
   {
    "duration": 565,
    "start_time": "2022-03-18T19:04:45.783Z"
   },
   {
    "duration": 494,
    "start_time": "2022-03-18T19:04:46.351Z"
   },
   {
    "duration": 1428,
    "start_time": "2022-03-18T19:04:46.847Z"
   },
   {
    "duration": 6496,
    "start_time": "2022-03-18T19:04:48.278Z"
   },
   {
    "duration": 19,
    "start_time": "2022-03-18T19:04:54.777Z"
   },
   {
    "duration": 22,
    "start_time": "2022-03-18T19:04:54.799Z"
   },
   {
    "duration": 1714,
    "start_time": "2022-03-18T19:04:54.827Z"
   },
   {
    "duration": 661,
    "start_time": "2022-03-18T19:04:56.544Z"
   },
   {
    "duration": 848,
    "start_time": "2022-03-18T19:04:57.209Z"
   },
   {
    "duration": 22,
    "start_time": "2022-03-18T19:04:58.060Z"
   },
   {
    "duration": 12,
    "start_time": "2022-03-18T19:04:58.084Z"
   },
   {
    "duration": 489,
    "start_time": "2022-03-18T19:11:06.218Z"
   },
   {
    "duration": 665,
    "start_time": "2022-03-18T19:13:52.304Z"
   },
   {
    "duration": 622,
    "start_time": "2022-03-18T19:14:10.031Z"
   },
   {
    "duration": 1059,
    "start_time": "2022-03-18T19:18:27.233Z"
   },
   {
    "duration": 258,
    "start_time": "2022-03-18T19:20:01.045Z"
   },
   {
    "duration": 959,
    "start_time": "2022-03-18T19:20:29.779Z"
   },
   {
    "duration": 945,
    "start_time": "2022-03-18T19:21:24.052Z"
   },
   {
    "duration": 936,
    "start_time": "2022-03-18T19:21:48.697Z"
   },
   {
    "duration": 534,
    "start_time": "2022-03-18T19:24:16.972Z"
   },
   {
    "duration": 612,
    "start_time": "2022-03-18T19:26:18.199Z"
   },
   {
    "duration": 4,
    "start_time": "2022-03-18T19:26:39.177Z"
   },
   {
    "duration": 97,
    "start_time": "2022-03-18T19:26:39.184Z"
   },
   {
    "duration": 7,
    "start_time": "2022-03-18T19:26:39.283Z"
   },
   {
    "duration": 15,
    "start_time": "2022-03-18T19:26:39.292Z"
   },
   {
    "duration": 316,
    "start_time": "2022-03-18T19:26:39.311Z"
   },
   {
    "duration": 22,
    "start_time": "2022-03-18T19:26:39.629Z"
   },
   {
    "duration": 269,
    "start_time": "2022-03-18T19:26:39.667Z"
   },
   {
    "duration": 17,
    "start_time": "2022-03-18T19:26:39.938Z"
   },
   {
    "duration": 21,
    "start_time": "2022-03-18T19:26:39.968Z"
   },
   {
    "duration": 4,
    "start_time": "2022-03-18T19:26:39.991Z"
   },
   {
    "duration": 30,
    "start_time": "2022-03-18T19:26:39.999Z"
   },
   {
    "duration": 19,
    "start_time": "2022-03-18T19:26:40.031Z"
   },
   {
    "duration": 7,
    "start_time": "2022-03-18T19:26:40.067Z"
   },
   {
    "duration": 32,
    "start_time": "2022-03-18T19:26:40.076Z"
   },
   {
    "duration": 565,
    "start_time": "2022-03-18T19:26:40.110Z"
   },
   {
    "duration": 3,
    "start_time": "2022-03-18T19:26:40.677Z"
   },
   {
    "duration": 16,
    "start_time": "2022-03-18T19:26:40.682Z"
   },
   {
    "duration": 456,
    "start_time": "2022-03-18T19:26:40.701Z"
   },
   {
    "duration": 15,
    "start_time": "2022-03-18T19:26:41.160Z"
   },
   {
    "duration": 12,
    "start_time": "2022-03-18T19:26:41.177Z"
   },
   {
    "duration": 588,
    "start_time": "2022-03-18T19:26:41.192Z"
   },
   {
    "duration": 584,
    "start_time": "2022-03-18T19:26:41.783Z"
   },
   {
    "duration": 488,
    "start_time": "2022-03-18T19:26:42.370Z"
   },
   {
    "duration": 1489,
    "start_time": "2022-03-18T19:26:42.861Z"
   },
   {
    "duration": 6004,
    "start_time": "2022-03-18T19:26:44.353Z"
   },
   {
    "duration": 23,
    "start_time": "2022-03-18T19:26:50.360Z"
   },
   {
    "duration": 21,
    "start_time": "2022-03-18T19:26:50.386Z"
   },
   {
    "duration": 589,
    "start_time": "2022-03-18T19:26:50.409Z"
   },
   {
    "duration": 552,
    "start_time": "2022-03-18T19:26:51.003Z"
   },
   {
    "duration": 954,
    "start_time": "2022-03-18T19:26:51.557Z"
   },
   {
    "duration": 19,
    "start_time": "2022-03-18T19:26:52.514Z"
   },
   {
    "duration": 37,
    "start_time": "2022-03-18T19:26:52.535Z"
   },
   {
    "duration": 179,
    "start_time": "2022-03-18T19:55:57.536Z"
   },
   {
    "duration": 184,
    "start_time": "2022-03-18T19:57:43.087Z"
   },
   {
    "duration": 1750,
    "start_time": "2022-03-18T19:58:16.525Z"
   },
   {
    "duration": 185,
    "start_time": "2022-03-18T19:58:57.704Z"
   },
   {
    "duration": 177,
    "start_time": "2022-03-18T19:59:11.985Z"
   },
   {
    "duration": 180,
    "start_time": "2022-03-18T19:59:28.245Z"
   },
   {
    "duration": 101,
    "start_time": "2022-03-18T20:00:13.677Z"
   },
   {
    "duration": 1030,
    "start_time": "2022-05-03T09:07:29.060Z"
   },
   {
    "duration": 61,
    "start_time": "2022-05-03T09:07:30.092Z"
   },
   {
    "duration": 5,
    "start_time": "2022-05-03T09:07:30.154Z"
   },
   {
    "duration": 9,
    "start_time": "2022-05-03T09:07:30.161Z"
   },
   {
    "duration": 191,
    "start_time": "2022-05-03T09:07:30.171Z"
   },
   {
    "duration": 14,
    "start_time": "2022-05-03T09:07:30.364Z"
   },
   {
    "duration": 167,
    "start_time": "2022-05-03T09:07:30.380Z"
   },
   {
    "duration": 11,
    "start_time": "2022-05-03T09:07:30.549Z"
   },
   {
    "duration": 20,
    "start_time": "2022-05-03T09:07:30.562Z"
   },
   {
    "duration": 2,
    "start_time": "2022-05-03T09:07:30.585Z"
   },
   {
    "duration": 35,
    "start_time": "2022-05-03T09:07:30.588Z"
   },
   {
    "duration": 26,
    "start_time": "2022-05-03T09:07:30.624Z"
   },
   {
    "duration": 15,
    "start_time": "2022-05-03T09:07:30.651Z"
   },
   {
    "duration": 27,
    "start_time": "2022-05-03T09:07:30.668Z"
   },
   {
    "duration": 301,
    "start_time": "2022-05-03T09:07:30.697Z"
   },
   {
    "duration": 3,
    "start_time": "2022-05-03T09:07:31.001Z"
   },
   {
    "duration": 19,
    "start_time": "2022-05-03T09:07:31.006Z"
   },
   {
    "duration": 273,
    "start_time": "2022-05-03T09:07:31.027Z"
   },
   {
    "duration": 8,
    "start_time": "2022-05-03T09:07:31.303Z"
   },
   {
    "duration": 12,
    "start_time": "2022-05-03T09:07:31.313Z"
   },
   {
    "duration": 312,
    "start_time": "2022-05-03T09:07:31.327Z"
   },
   {
    "duration": 311,
    "start_time": "2022-05-03T09:07:31.640Z"
   },
   {
    "duration": 255,
    "start_time": "2022-05-03T09:07:31.953Z"
   },
   {
    "duration": 872,
    "start_time": "2022-05-03T09:07:32.210Z"
   },
   {
    "duration": 3509,
    "start_time": "2022-05-03T09:07:33.084Z"
   },
   {
    "duration": 13,
    "start_time": "2022-05-03T09:07:36.595Z"
   },
   {
    "duration": 25,
    "start_time": "2022-05-03T09:07:36.609Z"
   },
   {
    "duration": 321,
    "start_time": "2022-05-03T09:07:36.637Z"
   },
   {
    "duration": 408,
    "start_time": "2022-05-03T09:07:36.959Z"
   },
   {
    "duration": 428,
    "start_time": "2022-05-03T09:07:37.368Z"
   },
   {
    "duration": 11,
    "start_time": "2022-05-03T09:07:37.798Z"
   },
   {
    "duration": 20,
    "start_time": "2022-05-03T09:07:37.810Z"
   },
   {
    "duration": 1351,
    "start_time": "2022-08-03T10:26:56.168Z"
   },
   {
    "duration": 121,
    "start_time": "2022-08-03T10:26:57.521Z"
   },
   {
    "duration": 7,
    "start_time": "2022-08-03T10:26:57.644Z"
   },
   {
    "duration": 10,
    "start_time": "2022-08-03T10:26:57.653Z"
   },
   {
    "duration": 209,
    "start_time": "2022-08-03T10:26:57.665Z"
   },
   {
    "duration": 16,
    "start_time": "2022-08-03T10:26:57.875Z"
   },
   {
    "duration": 163,
    "start_time": "2022-08-03T10:26:57.893Z"
   },
   {
    "duration": 11,
    "start_time": "2022-08-03T10:26:58.058Z"
   },
   {
    "duration": 14,
    "start_time": "2022-08-03T10:26:58.070Z"
   },
   {
    "duration": 7,
    "start_time": "2022-08-03T10:26:58.105Z"
   },
   {
    "duration": 9,
    "start_time": "2022-08-03T10:26:58.114Z"
   },
   {
    "duration": 6,
    "start_time": "2022-08-03T10:26:58.125Z"
   },
   {
    "duration": 23,
    "start_time": "2022-08-03T10:26:58.133Z"
   },
   {
    "duration": 367,
    "start_time": "2022-08-03T10:26:58.158Z"
   },
   {
    "duration": 8,
    "start_time": "2022-08-03T10:26:58.527Z"
   },
   {
    "duration": 340,
    "start_time": "2022-08-03T10:26:58.537Z"
   },
   {
    "duration": 8,
    "start_time": "2022-08-03T10:26:58.879Z"
   },
   {
    "duration": 20,
    "start_time": "2022-08-03T10:26:58.893Z"
   },
   {
    "duration": 419,
    "start_time": "2022-08-03T10:26:58.916Z"
   },
   {
    "duration": 379,
    "start_time": "2022-08-03T10:26:59.337Z"
   },
   {
    "duration": 299,
    "start_time": "2022-08-03T10:26:59.717Z"
   },
   {
    "duration": 1017,
    "start_time": "2022-08-03T10:27:00.018Z"
   },
   {
    "duration": 4060,
    "start_time": "2022-08-03T10:27:01.037Z"
   },
   {
    "duration": 16,
    "start_time": "2022-08-03T10:27:05.098Z"
   },
   {
    "duration": 23,
    "start_time": "2022-08-03T10:27:05.116Z"
   },
   {
    "duration": 370,
    "start_time": "2022-08-03T10:27:05.141Z"
   },
   {
    "duration": 504,
    "start_time": "2022-08-03T10:27:05.513Z"
   },
   {
    "duration": 509,
    "start_time": "2022-08-03T10:27:06.021Z"
   },
   {
    "duration": 15,
    "start_time": "2022-08-03T10:27:06.532Z"
   },
   {
    "duration": 11,
    "start_time": "2022-08-03T10:27:06.548Z"
   }
  ],
  "kernelspec": {
   "display_name": "Python 3 (ipykernel)",
   "language": "python",
   "name": "python3"
  },
  "language_info": {
   "codemirror_mode": {
    "name": "ipython",
    "version": 3
   },
   "file_extension": ".py",
   "mimetype": "text/x-python",
   "name": "python",
   "nbconvert_exporter": "python",
   "pygments_lexer": "ipython3",
   "version": "3.9.5"
  },
  "toc": {
   "base_numbering": 1,
   "nav_menu": {},
   "number_sections": false,
   "sideBar": true,
   "skip_h1_title": false,
   "title_cell": "Table of Contents",
   "title_sidebar": "Contents",
   "toc_cell": false,
   "toc_position": {},
   "toc_section_display": true,
   "toc_window_display": true
  }
 },
 "nbformat": 4,
 "nbformat_minor": 2
}
