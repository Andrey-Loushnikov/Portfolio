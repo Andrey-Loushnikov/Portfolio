{
 "cells": [
  {
   "cell_type": "markdown",
   "metadata": {},
   "source": [
    "# Исследование надёжности заёмщиков\n",
    "\n",
    "Заказчик — кредитный отдел банка. Нужно разобраться, влияет ли семейное положение и количество детей клиента на факт погашения кредита в срок. Входные данные от банка — статистика о платёжеспособности клиентов.\n",
    "\n",
    "Результаты исследования будут учтены при построении модели **кредитного скоринга** — специальной системы, которая оценивает способность потенциального заёмщика вернуть кредит банку."
   ]
  },
  {
   "cell_type": "markdown",
   "metadata": {},
   "source": [
    "## Знакомство с данными"
   ]
  },
  {
   "cell_type": "code",
   "execution_count": 163,
   "metadata": {},
   "outputs": [],
   "source": [
    "import pandas as pd\n",
    "from pymystem3 import Mystem"
   ]
  },
  {
   "cell_type": "code",
   "execution_count": 164,
   "metadata": {
    "scrolled": false
   },
   "outputs": [
    {
     "data": {
      "text/html": [
       "<div>\n",
       "<style scoped>\n",
       "    .dataframe tbody tr th:only-of-type {\n",
       "        vertical-align: middle;\n",
       "    }\n",
       "\n",
       "    .dataframe tbody tr th {\n",
       "        vertical-align: top;\n",
       "    }\n",
       "\n",
       "    .dataframe thead th {\n",
       "        text-align: right;\n",
       "    }\n",
       "</style>\n",
       "<table border=\"1\" class=\"dataframe\">\n",
       "  <thead>\n",
       "    <tr style=\"text-align: right;\">\n",
       "      <th></th>\n",
       "      <th>children</th>\n",
       "      <th>days_employed</th>\n",
       "      <th>dob_years</th>\n",
       "      <th>education</th>\n",
       "      <th>education_id</th>\n",
       "      <th>family_status</th>\n",
       "      <th>family_status_id</th>\n",
       "      <th>gender</th>\n",
       "      <th>income_type</th>\n",
       "      <th>debt</th>\n",
       "      <th>total_income</th>\n",
       "      <th>purpose</th>\n",
       "    </tr>\n",
       "  </thead>\n",
       "  <tbody>\n",
       "    <tr>\n",
       "      <th>0</th>\n",
       "      <td>1</td>\n",
       "      <td>-8437.673028</td>\n",
       "      <td>42</td>\n",
       "      <td>высшее</td>\n",
       "      <td>0</td>\n",
       "      <td>женат / замужем</td>\n",
       "      <td>0</td>\n",
       "      <td>F</td>\n",
       "      <td>сотрудник</td>\n",
       "      <td>0</td>\n",
       "      <td>253875.639453</td>\n",
       "      <td>покупка жилья</td>\n",
       "    </tr>\n",
       "    <tr>\n",
       "      <th>1</th>\n",
       "      <td>1</td>\n",
       "      <td>-4024.803754</td>\n",
       "      <td>36</td>\n",
       "      <td>среднее</td>\n",
       "      <td>1</td>\n",
       "      <td>женат / замужем</td>\n",
       "      <td>0</td>\n",
       "      <td>F</td>\n",
       "      <td>сотрудник</td>\n",
       "      <td>0</td>\n",
       "      <td>112080.014102</td>\n",
       "      <td>приобретение автомобиля</td>\n",
       "    </tr>\n",
       "    <tr>\n",
       "      <th>2</th>\n",
       "      <td>0</td>\n",
       "      <td>-5623.422610</td>\n",
       "      <td>33</td>\n",
       "      <td>Среднее</td>\n",
       "      <td>1</td>\n",
       "      <td>женат / замужем</td>\n",
       "      <td>0</td>\n",
       "      <td>M</td>\n",
       "      <td>сотрудник</td>\n",
       "      <td>0</td>\n",
       "      <td>145885.952297</td>\n",
       "      <td>покупка жилья</td>\n",
       "    </tr>\n",
       "    <tr>\n",
       "      <th>3</th>\n",
       "      <td>3</td>\n",
       "      <td>-4124.747207</td>\n",
       "      <td>32</td>\n",
       "      <td>среднее</td>\n",
       "      <td>1</td>\n",
       "      <td>женат / замужем</td>\n",
       "      <td>0</td>\n",
       "      <td>M</td>\n",
       "      <td>сотрудник</td>\n",
       "      <td>0</td>\n",
       "      <td>267628.550329</td>\n",
       "      <td>дополнительное образование</td>\n",
       "    </tr>\n",
       "    <tr>\n",
       "      <th>4</th>\n",
       "      <td>0</td>\n",
       "      <td>340266.072047</td>\n",
       "      <td>53</td>\n",
       "      <td>среднее</td>\n",
       "      <td>1</td>\n",
       "      <td>гражданский брак</td>\n",
       "      <td>1</td>\n",
       "      <td>F</td>\n",
       "      <td>пенсионер</td>\n",
       "      <td>0</td>\n",
       "      <td>158616.077870</td>\n",
       "      <td>сыграть свадьбу</td>\n",
       "    </tr>\n",
       "    <tr>\n",
       "      <th>5</th>\n",
       "      <td>0</td>\n",
       "      <td>-926.185831</td>\n",
       "      <td>27</td>\n",
       "      <td>высшее</td>\n",
       "      <td>0</td>\n",
       "      <td>гражданский брак</td>\n",
       "      <td>1</td>\n",
       "      <td>M</td>\n",
       "      <td>компаньон</td>\n",
       "      <td>0</td>\n",
       "      <td>255763.565419</td>\n",
       "      <td>покупка жилья</td>\n",
       "    </tr>\n",
       "    <tr>\n",
       "      <th>6</th>\n",
       "      <td>0</td>\n",
       "      <td>-2879.202052</td>\n",
       "      <td>43</td>\n",
       "      <td>высшее</td>\n",
       "      <td>0</td>\n",
       "      <td>женат / замужем</td>\n",
       "      <td>0</td>\n",
       "      <td>F</td>\n",
       "      <td>компаньон</td>\n",
       "      <td>0</td>\n",
       "      <td>240525.971920</td>\n",
       "      <td>операции с жильем</td>\n",
       "    </tr>\n",
       "    <tr>\n",
       "      <th>7</th>\n",
       "      <td>0</td>\n",
       "      <td>-152.779569</td>\n",
       "      <td>50</td>\n",
       "      <td>СРЕДНЕЕ</td>\n",
       "      <td>1</td>\n",
       "      <td>женат / замужем</td>\n",
       "      <td>0</td>\n",
       "      <td>M</td>\n",
       "      <td>сотрудник</td>\n",
       "      <td>0</td>\n",
       "      <td>135823.934197</td>\n",
       "      <td>образование</td>\n",
       "    </tr>\n",
       "    <tr>\n",
       "      <th>8</th>\n",
       "      <td>2</td>\n",
       "      <td>-6929.865299</td>\n",
       "      <td>35</td>\n",
       "      <td>ВЫСШЕЕ</td>\n",
       "      <td>0</td>\n",
       "      <td>гражданский брак</td>\n",
       "      <td>1</td>\n",
       "      <td>F</td>\n",
       "      <td>сотрудник</td>\n",
       "      <td>0</td>\n",
       "      <td>95856.832424</td>\n",
       "      <td>на проведение свадьбы</td>\n",
       "    </tr>\n",
       "    <tr>\n",
       "      <th>9</th>\n",
       "      <td>0</td>\n",
       "      <td>-2188.756445</td>\n",
       "      <td>41</td>\n",
       "      <td>среднее</td>\n",
       "      <td>1</td>\n",
       "      <td>женат / замужем</td>\n",
       "      <td>0</td>\n",
       "      <td>M</td>\n",
       "      <td>сотрудник</td>\n",
       "      <td>0</td>\n",
       "      <td>144425.938277</td>\n",
       "      <td>покупка жилья для семьи</td>\n",
       "    </tr>\n",
       "  </tbody>\n",
       "</table>\n",
       "</div>"
      ],
      "text/plain": [
       "   children  days_employed  dob_years education  education_id  \\\n",
       "0         1   -8437.673028         42    высшее             0   \n",
       "1         1   -4024.803754         36   среднее             1   \n",
       "2         0   -5623.422610         33   Среднее             1   \n",
       "3         3   -4124.747207         32   среднее             1   \n",
       "4         0  340266.072047         53   среднее             1   \n",
       "5         0    -926.185831         27    высшее             0   \n",
       "6         0   -2879.202052         43    высшее             0   \n",
       "7         0    -152.779569         50   СРЕДНЕЕ             1   \n",
       "8         2   -6929.865299         35    ВЫСШЕЕ             0   \n",
       "9         0   -2188.756445         41   среднее             1   \n",
       "\n",
       "      family_status  family_status_id gender income_type  debt   total_income  \\\n",
       "0   женат / замужем                 0      F   сотрудник     0  253875.639453   \n",
       "1   женат / замужем                 0      F   сотрудник     0  112080.014102   \n",
       "2   женат / замужем                 0      M   сотрудник     0  145885.952297   \n",
       "3   женат / замужем                 0      M   сотрудник     0  267628.550329   \n",
       "4  гражданский брак                 1      F   пенсионер     0  158616.077870   \n",
       "5  гражданский брак                 1      M   компаньон     0  255763.565419   \n",
       "6   женат / замужем                 0      F   компаньон     0  240525.971920   \n",
       "7   женат / замужем                 0      M   сотрудник     0  135823.934197   \n",
       "8  гражданский брак                 1      F   сотрудник     0   95856.832424   \n",
       "9   женат / замужем                 0      M   сотрудник     0  144425.938277   \n",
       "\n",
       "                      purpose  \n",
       "0               покупка жилья  \n",
       "1     приобретение автомобиля  \n",
       "2               покупка жилья  \n",
       "3  дополнительное образование  \n",
       "4             сыграть свадьбу  \n",
       "5               покупка жилья  \n",
       "6           операции с жильем  \n",
       "7                 образование  \n",
       "8       на проведение свадьбы  \n",
       "9     покупка жилья для семьи  "
      ]
     },
     "execution_count": 164,
     "metadata": {},
     "output_type": "execute_result"
    }
   ],
   "source": [
    "data = pd.read_csv('/datasets/data.csv')\n",
    "data.head(10)"
   ]
  },
  {
   "cell_type": "code",
   "execution_count": 165,
   "metadata": {},
   "outputs": [
    {
     "name": "stdout",
     "output_type": "stream",
     "text": [
      "<class 'pandas.core.frame.DataFrame'>\n",
      "RangeIndex: 21525 entries, 0 to 21524\n",
      "Data columns (total 12 columns):\n",
      " #   Column            Non-Null Count  Dtype  \n",
      "---  ------            --------------  -----  \n",
      " 0   children          21525 non-null  int64  \n",
      " 1   days_employed     19351 non-null  float64\n",
      " 2   dob_years         21525 non-null  int64  \n",
      " 3   education         21525 non-null  object \n",
      " 4   education_id      21525 non-null  int64  \n",
      " 5   family_status     21525 non-null  object \n",
      " 6   family_status_id  21525 non-null  int64  \n",
      " 7   gender            21525 non-null  object \n",
      " 8   income_type       21525 non-null  object \n",
      " 9   debt              21525 non-null  int64  \n",
      " 10  total_income      19351 non-null  float64\n",
      " 11  purpose           21525 non-null  object \n",
      "dtypes: float64(2), int64(5), object(5)\n",
      "memory usage: 2.0+ MB\n"
     ]
    }
   ],
   "source": [
    "data.info()"
   ]
  },
  {
   "cell_type": "markdown",
   "metadata": {},
   "source": [
    "Итак, в таблице 12 столбцов. Типы данных в столбцах: float64 - 2, int64 - 5, object - 5.\n",
    "\n",
    "Согласно документации к данным: \n",
    "* `children` — количество детей в семье\n",
    "* `days_employed` — трудовой стаж в днях\n",
    "* `dob_days` — возраст клиента в годах\n",
    "* `education` — образование клиента\n",
    "* `education_id` — идентификатор образования\n",
    "* `family_status` — семейное положение\n",
    "* `family_status_id` — идентификатор семейного положения\n",
    "* `gender` — пол клиента\n",
    "* `income_type` — тип занятости\n",
    "* `debt` — имел ли задолженность по возврату кредитов\n",
    "* `total_income` — доход в месяц\n",
    "* `purpose` — цель получения кредита\n",
    "\n",
    "В названиях колонок стилистических и иных нарушений нет.\n",
    "\n",
    "Количество значений в столбцах различается, значит в данных есть пропущенные значения. "
   ]
  },
  {
   "cell_type": "markdown",
   "metadata": {},
   "source": [
    "**Вывод**"
   ]
  },
  {
   "cell_type": "markdown",
   "metadata": {},
   "source": [
    "Каждая строка таблицы описывает клиента банка, начиная с количества детей и заканчивая его доходом в месяц. В 2 колонках описывается взаимодействие клиента с банком: имел ли задолженность по возврату кредитов и цель получения кредита.\n",
    "\n",
    "Предварительно можно утверждать, что, данных достаточно для проверки гипотез. Но встречаются пропуски в данных, которые нужно устранить, чтобы двигаться дальше."
   ]
  },
  {
   "cell_type": "markdown",
   "metadata": {},
   "source": [
    "## Предобработка данных"
   ]
  },
  {
   "cell_type": "markdown",
   "metadata": {},
   "source": [
    "### Обработка пропусков"
   ]
  },
  {
   "cell_type": "code",
   "execution_count": 166,
   "metadata": {
    "scrolled": true
   },
   "outputs": [
    {
     "data": {
      "text/plain": [
       "children               0\n",
       "days_employed       2174\n",
       "dob_years              0\n",
       "education              0\n",
       "education_id           0\n",
       "family_status          0\n",
       "family_status_id       0\n",
       "gender                 0\n",
       "income_type            0\n",
       "debt                   0\n",
       "total_income        2174\n",
       "purpose                0\n",
       "dtype: int64"
      ]
     },
     "execution_count": 166,
     "metadata": {},
     "output_type": "execute_result"
    }
   ],
   "source": [
    "data.isna().sum()"
   ]
  },
  {
   "cell_type": "markdown",
   "metadata": {},
   "source": [
    "Пропуски в доходах заполним медианным значением дохода исходя из типа занятости и уровня дохода."
   ]
  },
  {
   "cell_type": "code",
   "execution_count": 167,
   "metadata": {
    "scrolled": false
   },
   "outputs": [
    {
     "data": {
      "text/html": [
       "<div>\n",
       "<style scoped>\n",
       "    .dataframe tbody tr th:only-of-type {\n",
       "        vertical-align: middle;\n",
       "    }\n",
       "\n",
       "    .dataframe tbody tr th {\n",
       "        vertical-align: top;\n",
       "    }\n",
       "\n",
       "    .dataframe thead th {\n",
       "        text-align: right;\n",
       "    }\n",
       "</style>\n",
       "<table border=\"1\" class=\"dataframe\">\n",
       "  <thead>\n",
       "    <tr style=\"text-align: right;\">\n",
       "      <th>education_id</th>\n",
       "      <th>0</th>\n",
       "      <th>1</th>\n",
       "      <th>2</th>\n",
       "      <th>3</th>\n",
       "      <th>4</th>\n",
       "    </tr>\n",
       "    <tr>\n",
       "      <th>income_type</th>\n",
       "      <th></th>\n",
       "      <th></th>\n",
       "      <th></th>\n",
       "      <th></th>\n",
       "      <th></th>\n",
       "    </tr>\n",
       "  </thead>\n",
       "  <tbody>\n",
       "    <tr>\n",
       "      <th>безработный</th>\n",
       "      <td>202722.511368</td>\n",
       "      <td>59956.991984</td>\n",
       "      <td>NaN</td>\n",
       "      <td>NaN</td>\n",
       "      <td>NaN</td>\n",
       "    </tr>\n",
       "    <tr>\n",
       "      <th>в декрете</th>\n",
       "      <td>NaN</td>\n",
       "      <td>53829.130729</td>\n",
       "      <td>NaN</td>\n",
       "      <td>NaN</td>\n",
       "      <td>NaN</td>\n",
       "    </tr>\n",
       "    <tr>\n",
       "      <th>госслужащий</th>\n",
       "      <td>172511.107016</td>\n",
       "      <td>136652.970357</td>\n",
       "      <td>160592.345303</td>\n",
       "      <td>148339.290825</td>\n",
       "      <td>111392.231107</td>\n",
       "    </tr>\n",
       "    <tr>\n",
       "      <th>компаньон</th>\n",
       "      <td>201785.400018</td>\n",
       "      <td>159070.690289</td>\n",
       "      <td>179867.152890</td>\n",
       "      <td>136798.905143</td>\n",
       "      <td>NaN</td>\n",
       "    </tr>\n",
       "    <tr>\n",
       "      <th>пенсионер</th>\n",
       "      <td>144240.768611</td>\n",
       "      <td>114842.854099</td>\n",
       "      <td>120136.896353</td>\n",
       "      <td>102598.653164</td>\n",
       "      <td>177088.845999</td>\n",
       "    </tr>\n",
       "    <tr>\n",
       "      <th>предприниматель</th>\n",
       "      <td>499163.144947</td>\n",
       "      <td>NaN</td>\n",
       "      <td>NaN</td>\n",
       "      <td>NaN</td>\n",
       "      <td>NaN</td>\n",
       "    </tr>\n",
       "    <tr>\n",
       "      <th>сотрудник</th>\n",
       "      <td>165640.744634</td>\n",
       "      <td>136555.108821</td>\n",
       "      <td>151308.937846</td>\n",
       "      <td>125994.910603</td>\n",
       "      <td>198570.757322</td>\n",
       "    </tr>\n",
       "    <tr>\n",
       "      <th>студент</th>\n",
       "      <td>98201.625314</td>\n",
       "      <td>NaN</td>\n",
       "      <td>NaN</td>\n",
       "      <td>NaN</td>\n",
       "      <td>NaN</td>\n",
       "    </tr>\n",
       "  </tbody>\n",
       "</table>\n",
       "</div>"
      ],
      "text/plain": [
       "education_id                 0              1              2              3  \\\n",
       "income_type                                                                   \n",
       "безработный      202722.511368   59956.991984            NaN            NaN   \n",
       "в декрете                  NaN   53829.130729            NaN            NaN   \n",
       "госслужащий      172511.107016  136652.970357  160592.345303  148339.290825   \n",
       "компаньон        201785.400018  159070.690289  179867.152890  136798.905143   \n",
       "пенсионер        144240.768611  114842.854099  120136.896353  102598.653164   \n",
       "предприниматель  499163.144947            NaN            NaN            NaN   \n",
       "сотрудник        165640.744634  136555.108821  151308.937846  125994.910603   \n",
       "студент           98201.625314            NaN            NaN            NaN   \n",
       "\n",
       "education_id                 4  \n",
       "income_type                     \n",
       "безработный                NaN  \n",
       "в декрете                  NaN  \n",
       "госслужащий      111392.231107  \n",
       "компаньон                  NaN  \n",
       "пенсионер        177088.845999  \n",
       "предприниматель            NaN  \n",
       "сотрудник        198570.757322  \n",
       "студент                    NaN  "
      ]
     },
     "metadata": {},
     "output_type": "display_data"
    }
   ],
   "source": [
    "data_grouped = data.pivot_table(index='income_type', columns='education_id', values='total_income', aggfunc='median')\n",
    "display(data_grouped)"
   ]
  },
  {
   "cell_type": "code",
   "execution_count": 168,
   "metadata": {},
   "outputs": [],
   "source": [
    "def func(row):\n",
    "    if pd.isna(row['total_income']):\n",
    "        return data_grouped.loc[row['income_type'], row['education_id']]\n",
    "    return row['total_income']   \n",
    "\n",
    "data['total_income'] = data.apply(func, axis=1)"
   ]
  },
  {
   "cell_type": "markdown",
   "metadata": {},
   "source": [
    "Данные в колонке `days_employed` не влияют на наше исследование и пропуски там можно заменить нулём. "
   ]
  },
  {
   "cell_type": "code",
   "execution_count": 169,
   "metadata": {},
   "outputs": [],
   "source": [
    "data['days_employed'] = data['days_employed'].fillna(0)"
   ]
  },
  {
   "cell_type": "code",
   "execution_count": 170,
   "metadata": {},
   "outputs": [
    {
     "data": {
      "text/plain": [
       "children            0\n",
       "days_employed       0\n",
       "dob_years           0\n",
       "education           0\n",
       "education_id        0\n",
       "family_status       0\n",
       "family_status_id    0\n",
       "gender              0\n",
       "income_type         0\n",
       "debt                0\n",
       "total_income        0\n",
       "purpose             0\n",
       "dtype: int64"
      ]
     },
     "execution_count": 170,
     "metadata": {},
     "output_type": "execute_result"
    }
   ],
   "source": [
    "data.isna().sum()"
   ]
  },
  {
   "cell_type": "markdown",
   "metadata": {},
   "source": [
    "**Вывод**"
   ]
  },
  {
   "cell_type": "markdown",
   "metadata": {},
   "source": [
    "Пропуски обнаружены в столбцах `days_employed` и `total_income`. Что характерно количество пропусков одинаково и там и там. Вероятно их появление взаимосвязано. \n",
    "\n",
    "Возможные причины: \n",
    "* получение кредита по одному документу(например, паспорт), без документов подтверждающих стаж и доход\n",
    "* ошибка внесения данных оператором\n",
    "* программная ошибка при передаче внесённых данных\n",
    "* ошибка работы сайта, если заявка заполнялась онлайн\n",
    "* ошибка при сохранении/чтении документа\n",
    "\n",
    "Пропущенные значения в столбце `days_employed` не влияют на текущее исследование, но данные в других столбцах представляют для нас ценность, поэтому эти строки удалять не будем, а заменим там значения на `0`.\n",
    "\n",
    "Данные в столбце `total_income` нам необходимы, чтобы установить взаимосвязь между уровнем дохода и возвратом кредита в срок. Пропущенные значения в столбце `total_income` составляют ~10% - это большое количество, которое может сильно повлиять на итоговый вывод, поэтому их также не удаляем, а заменим на характерное значение.  Восстановить точные данные в данном случае нет возможности, поэтому использовалось медианное значение для заполнения, так как присутствуют выделяющиеся значения.   "
   ]
  },
  {
   "cell_type": "markdown",
   "metadata": {},
   "source": [
    "### Замена типа данных"
   ]
  },
  {
   "cell_type": "code",
   "execution_count": 171,
   "metadata": {},
   "outputs": [],
   "source": [
    "data['total_income'] = data['total_income'].astype('int')\n",
    "data['debt'] = data['debt'].astype('str')"
   ]
  },
  {
   "cell_type": "markdown",
   "metadata": {},
   "source": [
    "**Вывод**"
   ]
  },
  {
   "cell_type": "markdown",
   "metadata": {},
   "source": [
    "Для приведения значениий в столбце `total_income` к целочисленному формату был использован метод `astype()`."
   ]
  },
  {
   "cell_type": "markdown",
   "metadata": {},
   "source": [
    "### Обработка дубликатов"
   ]
  },
  {
   "cell_type": "code",
   "execution_count": 172,
   "metadata": {},
   "outputs": [
    {
     "data": {
      "text/plain": [
       "54"
      ]
     },
     "execution_count": 172,
     "metadata": {},
     "output_type": "execute_result"
    }
   ],
   "source": [
    "data.duplicated().sum()"
   ]
  },
  {
   "cell_type": "code",
   "execution_count": 173,
   "metadata": {},
   "outputs": [
    {
     "data": {
      "text/plain": [
       "среднее                13750\n",
       "высшее                  4718\n",
       "СРЕДНЕЕ                  772\n",
       "Среднее                  711\n",
       "неоконченное высшее      668\n",
       "ВЫСШЕЕ                   274\n",
       "Высшее                   268\n",
       "начальное                250\n",
       "Неоконченное высшее       47\n",
       "НЕОКОНЧЕННОЕ ВЫСШЕЕ       29\n",
       "НАЧАЛЬНОЕ                 17\n",
       "Начальное                 15\n",
       "ученая степень             4\n",
       "Ученая степень             1\n",
       "УЧЕНАЯ СТЕПЕНЬ             1\n",
       "Name: education, dtype: int64"
      ]
     },
     "execution_count": 173,
     "metadata": {},
     "output_type": "execute_result"
    }
   ],
   "source": [
    "data['education'].value_counts()"
   ]
  },
  {
   "cell_type": "code",
   "execution_count": 174,
   "metadata": {},
   "outputs": [],
   "source": [
    "data['education'] = data['education'].str.lower()"
   ]
  },
  {
   "cell_type": "code",
   "execution_count": 175,
   "metadata": {},
   "outputs": [
    {
     "data": {
      "text/plain": [
       "среднее                15233\n",
       "высшее                  5260\n",
       "неоконченное высшее      744\n",
       "начальное                282\n",
       "ученая степень             6\n",
       "Name: education, dtype: int64"
      ]
     },
     "execution_count": 175,
     "metadata": {},
     "output_type": "execute_result"
    }
   ],
   "source": [
    "data['education'].value_counts()"
   ]
  },
  {
   "cell_type": "code",
   "execution_count": 176,
   "metadata": {},
   "outputs": [
    {
     "data": {
      "text/plain": [
       "71"
      ]
     },
     "execution_count": 176,
     "metadata": {},
     "output_type": "execute_result"
    }
   ],
   "source": [
    "data.duplicated().sum()"
   ]
  },
  {
   "cell_type": "code",
   "execution_count": 177,
   "metadata": {},
   "outputs": [
    {
     "data": {
      "text/plain": [
       "0"
      ]
     },
     "execution_count": 177,
     "metadata": {},
     "output_type": "execute_result"
    }
   ],
   "source": [
    "data = data.drop_duplicates().reset_index(drop=True)\n",
    "data.duplicated().sum()"
   ]
  },
  {
   "cell_type": "markdown",
   "metadata": {},
   "source": [
    "**Вывод**"
   ]
  },
  {
   "cell_type": "markdown",
   "metadata": {},
   "source": [
    "При первоначальной проверке было обнаружено 54 явных дубликата. Но в столбце `education` одни и те же значения написаны по разному. Привели их к нижнему регистру для единообразия. После этого было обнаружено уже 71 дубликат. \n",
    "\n",
    "Причины возникновения дубликатов могут быть как человеческий фактор, так и ошибки в работе систем."
   ]
  },
  {
   "cell_type": "markdown",
   "metadata": {},
   "source": [
    "### Лемматизация"
   ]
  },
  {
   "cell_type": "code",
   "execution_count": 178,
   "metadata": {},
   "outputs": [
    {
     "data": {
      "text/plain": [
       "0                 [покупка,  , жилье, \\n]\n",
       "1       [приобретение,  , автомобиль, \\n]\n",
       "2                 [покупка,  , жилье, \\n]\n",
       "3    [дополнительный,  , образование, \\n]\n",
       "4               [сыграть,  , свадьба, \\n]\n",
       "Name: purpose, dtype: object"
      ]
     },
     "execution_count": 178,
     "metadata": {},
     "output_type": "execute_result"
    }
   ],
   "source": [
    "m = Mystem()\n",
    "data['purpose'] = data['purpose'].apply(m.lemmatize)\n",
    "data['purpose'].head()"
   ]
  },
  {
   "cell_type": "markdown",
   "metadata": {},
   "source": [
    "**Вывод**"
   ]
  },
  {
   "cell_type": "markdown",
   "metadata": {},
   "source": [
    "Полученные леммы в дальнейшем послужат для категоризации целей кредитов. "
   ]
  },
  {
   "cell_type": "markdown",
   "metadata": {},
   "source": [
    "### Категоризация данных\n",
    "\n",
    "**Категоризация данных по количеству детей**"
   ]
  },
  {
   "cell_type": "code",
   "execution_count": 179,
   "metadata": {},
   "outputs": [
    {
     "data": {
      "text/plain": [
       " 0     14091\n",
       " 1      4808\n",
       " 2      2052\n",
       " 3       330\n",
       " 20       76\n",
       "-1        47\n",
       " 4        41\n",
       " 5         9\n",
       "Name: children, dtype: int64"
      ]
     },
     "execution_count": 179,
     "metadata": {},
     "output_type": "execute_result"
    }
   ],
   "source": [
    "data['children'].value_counts()"
   ]
  },
  {
   "cell_type": "markdown",
   "metadata": {},
   "source": [
    "При рассмотрении данных столбца `children` обнаружены нехарактерные значения `\"-1\"` и `\"20\"`. Можно предположить, что это опечатки при вводе данных (соответственно `1` и `2`). Но если `2` на раскладке клавиатуры находится рядом с `0`, то `-` и `1`, как правило, не соседствуют между собой. С большой долей вероятности утверждать, что это опечатка, сложно. Поэтому в исследовании эти значения учитываться не будут, тем более они составляют только 0,57% от общего количества."
   ]
  },
  {
   "cell_type": "code",
   "execution_count": 180,
   "metadata": {},
   "outputs": [
    {
     "data": {
      "text/plain": [
       "0    14091\n",
       "1     4808\n",
       "2     2052\n",
       "3      330\n",
       "4       41\n",
       "5        9\n",
       "Name: children, dtype: int64"
      ]
     },
     "execution_count": 180,
     "metadata": {},
     "output_type": "execute_result"
    }
   ],
   "source": [
    "data_filtered = data[data['children'] >= 0]\n",
    "data_filtered = data_filtered[data_filtered['children'] < 20]\n",
    "data_filtered['children'].value_counts()"
   ]
  },
  {
   "cell_type": "code",
   "execution_count": 181,
   "metadata": {},
   "outputs": [
    {
     "data": {
      "text/html": [
       "<div>\n",
       "<style scoped>\n",
       "    .dataframe tbody tr th:only-of-type {\n",
       "        vertical-align: middle;\n",
       "    }\n",
       "\n",
       "    .dataframe tbody tr th {\n",
       "        vertical-align: top;\n",
       "    }\n",
       "\n",
       "    .dataframe thead th {\n",
       "        text-align: right;\n",
       "    }\n",
       "</style>\n",
       "<table border=\"1\" class=\"dataframe\">\n",
       "  <thead>\n",
       "    <tr style=\"text-align: right;\">\n",
       "      <th></th>\n",
       "      <th>children</th>\n",
       "      <th>days_employed</th>\n",
       "      <th>dob_years</th>\n",
       "      <th>education</th>\n",
       "      <th>education_id</th>\n",
       "      <th>family_status</th>\n",
       "      <th>family_status_id</th>\n",
       "      <th>gender</th>\n",
       "      <th>income_type</th>\n",
       "      <th>debt</th>\n",
       "      <th>total_income</th>\n",
       "      <th>purpose</th>\n",
       "      <th>family_group</th>\n",
       "    </tr>\n",
       "  </thead>\n",
       "  <tbody>\n",
       "    <tr>\n",
       "      <th>0</th>\n",
       "      <td>1</td>\n",
       "      <td>-8437.673028</td>\n",
       "      <td>42</td>\n",
       "      <td>высшее</td>\n",
       "      <td>0</td>\n",
       "      <td>женат / замужем</td>\n",
       "      <td>0</td>\n",
       "      <td>F</td>\n",
       "      <td>сотрудник</td>\n",
       "      <td>0</td>\n",
       "      <td>253875</td>\n",
       "      <td>[покупка,  , жилье, \\n]</td>\n",
       "      <td>есть дети</td>\n",
       "    </tr>\n",
       "    <tr>\n",
       "      <th>1</th>\n",
       "      <td>1</td>\n",
       "      <td>-4024.803754</td>\n",
       "      <td>36</td>\n",
       "      <td>среднее</td>\n",
       "      <td>1</td>\n",
       "      <td>женат / замужем</td>\n",
       "      <td>0</td>\n",
       "      <td>F</td>\n",
       "      <td>сотрудник</td>\n",
       "      <td>0</td>\n",
       "      <td>112080</td>\n",
       "      <td>[приобретение,  , автомобиль, \\n]</td>\n",
       "      <td>есть дети</td>\n",
       "    </tr>\n",
       "    <tr>\n",
       "      <th>2</th>\n",
       "      <td>0</td>\n",
       "      <td>-5623.422610</td>\n",
       "      <td>33</td>\n",
       "      <td>среднее</td>\n",
       "      <td>1</td>\n",
       "      <td>женат / замужем</td>\n",
       "      <td>0</td>\n",
       "      <td>M</td>\n",
       "      <td>сотрудник</td>\n",
       "      <td>0</td>\n",
       "      <td>145885</td>\n",
       "      <td>[покупка,  , жилье, \\n]</td>\n",
       "      <td>нет детей</td>\n",
       "    </tr>\n",
       "    <tr>\n",
       "      <th>3</th>\n",
       "      <td>3</td>\n",
       "      <td>-4124.747207</td>\n",
       "      <td>32</td>\n",
       "      <td>среднее</td>\n",
       "      <td>1</td>\n",
       "      <td>женат / замужем</td>\n",
       "      <td>0</td>\n",
       "      <td>M</td>\n",
       "      <td>сотрудник</td>\n",
       "      <td>0</td>\n",
       "      <td>267628</td>\n",
       "      <td>[дополнительный,  , образование, \\n]</td>\n",
       "      <td>многодетные</td>\n",
       "    </tr>\n",
       "    <tr>\n",
       "      <th>4</th>\n",
       "      <td>0</td>\n",
       "      <td>340266.072047</td>\n",
       "      <td>53</td>\n",
       "      <td>среднее</td>\n",
       "      <td>1</td>\n",
       "      <td>гражданский брак</td>\n",
       "      <td>1</td>\n",
       "      <td>F</td>\n",
       "      <td>пенсионер</td>\n",
       "      <td>0</td>\n",
       "      <td>158616</td>\n",
       "      <td>[сыграть,  , свадьба, \\n]</td>\n",
       "      <td>нет детей</td>\n",
       "    </tr>\n",
       "  </tbody>\n",
       "</table>\n",
       "</div>"
      ],
      "text/plain": [
       "   children  days_employed  dob_years education  education_id  \\\n",
       "0         1   -8437.673028         42    высшее             0   \n",
       "1         1   -4024.803754         36   среднее             1   \n",
       "2         0   -5623.422610         33   среднее             1   \n",
       "3         3   -4124.747207         32   среднее             1   \n",
       "4         0  340266.072047         53   среднее             1   \n",
       "\n",
       "      family_status  family_status_id gender income_type debt  total_income  \\\n",
       "0   женат / замужем                 0      F   сотрудник    0        253875   \n",
       "1   женат / замужем                 0      F   сотрудник    0        112080   \n",
       "2   женат / замужем                 0      M   сотрудник    0        145885   \n",
       "3   женат / замужем                 0      M   сотрудник    0        267628   \n",
       "4  гражданский брак                 1      F   пенсионер    0        158616   \n",
       "\n",
       "                                purpose family_group  \n",
       "0               [покупка,  , жилье, \\n]    есть дети  \n",
       "1     [приобретение,  , автомобиль, \\n]    есть дети  \n",
       "2               [покупка,  , жилье, \\n]    нет детей  \n",
       "3  [дополнительный,  , образование, \\n]  многодетные  \n",
       "4             [сыграть,  , свадьба, \\n]    нет детей  "
      ]
     },
     "execution_count": 181,
     "metadata": {},
     "output_type": "execute_result"
    }
   ],
   "source": [
    "def family_group(children):\n",
    "    if children == 0:\n",
    "        return 'нет детей'\n",
    "    if children < 3:\n",
    "        return 'есть дети'\n",
    "    return 'многодетные'\n",
    "\n",
    "data_filtered['family_group'] = data_filtered['children'].apply(family_group)\n",
    "data_filtered.head()"
   ]
  },
  {
   "cell_type": "markdown",
   "metadata": {},
   "source": [
    "**Категоризация данных по уровню дохода**"
   ]
  },
  {
   "cell_type": "code",
   "execution_count": 182,
   "metadata": {
    "scrolled": true
   },
   "outputs": [
    {
     "data": {
      "text/html": [
       "<div>\n",
       "<style scoped>\n",
       "    .dataframe tbody tr th:only-of-type {\n",
       "        vertical-align: middle;\n",
       "    }\n",
       "\n",
       "    .dataframe tbody tr th {\n",
       "        vertical-align: top;\n",
       "    }\n",
       "\n",
       "    .dataframe thead th {\n",
       "        text-align: right;\n",
       "    }\n",
       "</style>\n",
       "<table border=\"1\" class=\"dataframe\">\n",
       "  <thead>\n",
       "    <tr style=\"text-align: right;\">\n",
       "      <th></th>\n",
       "      <th>children</th>\n",
       "      <th>days_employed</th>\n",
       "      <th>dob_years</th>\n",
       "      <th>education</th>\n",
       "      <th>education_id</th>\n",
       "      <th>family_status</th>\n",
       "      <th>family_status_id</th>\n",
       "      <th>gender</th>\n",
       "      <th>income_type</th>\n",
       "      <th>debt</th>\n",
       "      <th>total_income</th>\n",
       "      <th>purpose</th>\n",
       "      <th>total_income_group</th>\n",
       "    </tr>\n",
       "  </thead>\n",
       "  <tbody>\n",
       "    <tr>\n",
       "      <th>0</th>\n",
       "      <td>1</td>\n",
       "      <td>-8437.673028</td>\n",
       "      <td>42</td>\n",
       "      <td>высшее</td>\n",
       "      <td>0</td>\n",
       "      <td>женат / замужем</td>\n",
       "      <td>0</td>\n",
       "      <td>F</td>\n",
       "      <td>сотрудник</td>\n",
       "      <td>0</td>\n",
       "      <td>253875</td>\n",
       "      <td>[покупка,  , жилье, \\n]</td>\n",
       "      <td>высокий</td>\n",
       "    </tr>\n",
       "    <tr>\n",
       "      <th>1</th>\n",
       "      <td>1</td>\n",
       "      <td>-4024.803754</td>\n",
       "      <td>36</td>\n",
       "      <td>среднее</td>\n",
       "      <td>1</td>\n",
       "      <td>женат / замужем</td>\n",
       "      <td>0</td>\n",
       "      <td>F</td>\n",
       "      <td>сотрудник</td>\n",
       "      <td>0</td>\n",
       "      <td>112080</td>\n",
       "      <td>[приобретение,  , автомобиль, \\n]</td>\n",
       "      <td>ниже среднего</td>\n",
       "    </tr>\n",
       "    <tr>\n",
       "      <th>2</th>\n",
       "      <td>0</td>\n",
       "      <td>-5623.422610</td>\n",
       "      <td>33</td>\n",
       "      <td>среднее</td>\n",
       "      <td>1</td>\n",
       "      <td>женат / замужем</td>\n",
       "      <td>0</td>\n",
       "      <td>M</td>\n",
       "      <td>сотрудник</td>\n",
       "      <td>0</td>\n",
       "      <td>145885</td>\n",
       "      <td>[покупка,  , жилье, \\n]</td>\n",
       "      <td>средний</td>\n",
       "    </tr>\n",
       "    <tr>\n",
       "      <th>3</th>\n",
       "      <td>3</td>\n",
       "      <td>-4124.747207</td>\n",
       "      <td>32</td>\n",
       "      <td>среднее</td>\n",
       "      <td>1</td>\n",
       "      <td>женат / замужем</td>\n",
       "      <td>0</td>\n",
       "      <td>M</td>\n",
       "      <td>сотрудник</td>\n",
       "      <td>0</td>\n",
       "      <td>267628</td>\n",
       "      <td>[дополнительный,  , образование, \\n]</td>\n",
       "      <td>высокий</td>\n",
       "    </tr>\n",
       "    <tr>\n",
       "      <th>4</th>\n",
       "      <td>0</td>\n",
       "      <td>340266.072047</td>\n",
       "      <td>53</td>\n",
       "      <td>среднее</td>\n",
       "      <td>1</td>\n",
       "      <td>гражданский брак</td>\n",
       "      <td>1</td>\n",
       "      <td>F</td>\n",
       "      <td>пенсионер</td>\n",
       "      <td>0</td>\n",
       "      <td>158616</td>\n",
       "      <td>[сыграть,  , свадьба, \\n]</td>\n",
       "      <td>средний</td>\n",
       "    </tr>\n",
       "  </tbody>\n",
       "</table>\n",
       "</div>"
      ],
      "text/plain": [
       "   children  days_employed  dob_years education  education_id  \\\n",
       "0         1   -8437.673028         42    высшее             0   \n",
       "1         1   -4024.803754         36   среднее             1   \n",
       "2         0   -5623.422610         33   среднее             1   \n",
       "3         3   -4124.747207         32   среднее             1   \n",
       "4         0  340266.072047         53   среднее             1   \n",
       "\n",
       "      family_status  family_status_id gender income_type debt  total_income  \\\n",
       "0   женат / замужем                 0      F   сотрудник    0        253875   \n",
       "1   женат / замужем                 0      F   сотрудник    0        112080   \n",
       "2   женат / замужем                 0      M   сотрудник    0        145885   \n",
       "3   женат / замужем                 0      M   сотрудник    0        267628   \n",
       "4  гражданский брак                 1      F   пенсионер    0        158616   \n",
       "\n",
       "                                purpose total_income_group  \n",
       "0               [покупка,  , жилье, \\n]            высокий  \n",
       "1     [приобретение,  , автомобиль, \\n]      ниже среднего  \n",
       "2               [покупка,  , жилье, \\n]            средний  \n",
       "3  [дополнительный,  , образование, \\n]            высокий  \n",
       "4             [сыграть,  , свадьба, \\n]            средний  "
      ]
     },
     "execution_count": 182,
     "metadata": {},
     "output_type": "execute_result"
    }
   ],
   "source": [
    "data['total_income_group'] = pd.qcut(data['total_income'], q=5, labels=['низкий', 'ниже среднего', 'средний', 'выше среднего', 'высокий'])\n",
    "data.head()"
   ]
  },
  {
   "cell_type": "markdown",
   "metadata": {},
   "source": [
    "Всех клиентов с помощью метода `pd.qcut()` разделили на пять равных по количеству групп и присвоили им категорию дохода. "
   ]
  },
  {
   "cell_type": "markdown",
   "metadata": {},
   "source": [
    "**Категоризация по цели кредита**"
   ]
  },
  {
   "cell_type": "code",
   "execution_count": 183,
   "metadata": {},
   "outputs": [
    {
     "data": {
      "text/plain": [
       "недвижимость    10811\n",
       "автомобиль       4306\n",
       "образование      4013\n",
       "свадьба          2324\n",
       "Name: purpose_category, dtype: int64"
      ]
     },
     "execution_count": 183,
     "metadata": {},
     "output_type": "execute_result"
    }
   ],
   "source": [
    "def purpose_category(purpose):\n",
    "    if 'автомобиль' in purpose:\n",
    "        return 'автомобиль'\n",
    "    if 'свадьба' in purpose:\n",
    "        return 'свадьба'\n",
    "    if 'недвижимость' in purpose or 'жилье' in purpose:\n",
    "        return 'недвижимость'\n",
    "    return 'образование'\n",
    "\n",
    "data['purpose_category'] = data['purpose'].apply(purpose_category)\n",
    "data['purpose_category'].value_counts()"
   ]
  },
  {
   "cell_type": "markdown",
   "metadata": {},
   "source": [
    "**Вывод**"
   ]
  },
  {
   "cell_type": "markdown",
   "metadata": {},
   "source": [
    "Провели объединение данных в группы, что в дальнейшем поможет их проанализировать и дать ответы на вопросы Заказчика. "
   ]
  },
  {
   "cell_type": "markdown",
   "metadata": {},
   "source": [
    "## Исследовательский анализ данных"
   ]
  },
  {
   "cell_type": "markdown",
   "metadata": {},
   "source": [
    "- Есть ли зависимость между наличием детей и возвратом кредита в срок?"
   ]
  },
  {
   "cell_type": "code",
   "execution_count": 184,
   "metadata": {},
   "outputs": [
    {
     "data": {
      "text/html": [
       "<div>\n",
       "<style scoped>\n",
       "    .dataframe tbody tr th:only-of-type {\n",
       "        vertical-align: middle;\n",
       "    }\n",
       "\n",
       "    .dataframe tbody tr th {\n",
       "        vertical-align: top;\n",
       "    }\n",
       "\n",
       "    .dataframe thead th {\n",
       "        text-align: right;\n",
       "    }\n",
       "</style>\n",
       "<table border=\"1\" class=\"dataframe\">\n",
       "  <thead>\n",
       "    <tr style=\"text-align: right;\">\n",
       "      <th>debt</th>\n",
       "      <th>0</th>\n",
       "      <th>1</th>\n",
       "    </tr>\n",
       "    <tr>\n",
       "      <th>family_group</th>\n",
       "      <th></th>\n",
       "      <th></th>\n",
       "    </tr>\n",
       "  </thead>\n",
       "  <tbody>\n",
       "    <tr>\n",
       "      <th>есть дети</th>\n",
       "      <td>6222</td>\n",
       "      <td>638</td>\n",
       "    </tr>\n",
       "    <tr>\n",
       "      <th>многодетные</th>\n",
       "      <td>349</td>\n",
       "      <td>31</td>\n",
       "    </tr>\n",
       "    <tr>\n",
       "      <th>нет детей</th>\n",
       "      <td>13028</td>\n",
       "      <td>1063</td>\n",
       "    </tr>\n",
       "  </tbody>\n",
       "</table>\n",
       "</div>"
      ],
      "text/plain": [
       "debt              0     1\n",
       "family_group             \n",
       "есть дети      6222   638\n",
       "многодетные     349    31\n",
       "нет детей     13028  1063"
      ]
     },
     "metadata": {},
     "output_type": "display_data"
    }
   ],
   "source": [
    "data_filtered_pivot = data_filtered.pivot_table(index='family_group', columns='debt', values='children', aggfunc='count')\n",
    "display(data_filtered_pivot)"
   ]
  },
  {
   "cell_type": "markdown",
   "metadata": {},
   "source": [
    "Где `0` - нет задолженности, `1` - есть задолженность.\n",
    "\n",
    "Самое большое количество должников в категории `нет детей`, но там и самое большое количество заёмщиков. Посчитаем долю должников от общего количества в каждой категории и сравним их."
   ]
  },
  {
   "cell_type": "code",
   "execution_count": 185,
   "metadata": {},
   "outputs": [
    {
     "data": {
      "text/html": [
       "<div>\n",
       "<style scoped>\n",
       "    .dataframe tbody tr th:only-of-type {\n",
       "        vertical-align: middle;\n",
       "    }\n",
       "\n",
       "    .dataframe tbody tr th {\n",
       "        vertical-align: top;\n",
       "    }\n",
       "\n",
       "    .dataframe thead th {\n",
       "        text-align: right;\n",
       "    }\n",
       "</style>\n",
       "<table border=\"1\" class=\"dataframe\">\n",
       "  <thead>\n",
       "    <tr style=\"text-align: right;\">\n",
       "      <th>debt</th>\n",
       "      <th>0</th>\n",
       "      <th>1</th>\n",
       "      <th>ratio</th>\n",
       "    </tr>\n",
       "    <tr>\n",
       "      <th>family_group</th>\n",
       "      <th></th>\n",
       "      <th></th>\n",
       "      <th></th>\n",
       "    </tr>\n",
       "  </thead>\n",
       "  <tbody>\n",
       "    <tr>\n",
       "      <th>нет детей</th>\n",
       "      <td>13028</td>\n",
       "      <td>1063</td>\n",
       "      <td>0.075438</td>\n",
       "    </tr>\n",
       "    <tr>\n",
       "      <th>многодетные</th>\n",
       "      <td>349</td>\n",
       "      <td>31</td>\n",
       "      <td>0.081579</td>\n",
       "    </tr>\n",
       "    <tr>\n",
       "      <th>есть дети</th>\n",
       "      <td>6222</td>\n",
       "      <td>638</td>\n",
       "      <td>0.093003</td>\n",
       "    </tr>\n",
       "  </tbody>\n",
       "</table>\n",
       "</div>"
      ],
      "text/plain": [
       "debt              0     1     ratio\n",
       "family_group                       \n",
       "нет детей     13028  1063  0.075438\n",
       "многодетные     349    31  0.081579\n",
       "есть дети      6222   638  0.093003"
      ]
     },
     "metadata": {},
     "output_type": "display_data"
    }
   ],
   "source": [
    "data_filtered_pivot['ratio'] = data_filtered_pivot['1']/(data_filtered_pivot['1'] + data_filtered_pivot['0'])\n",
    "display(data_filtered_pivot.sort_values(by='ratio'))"
   ]
  },
  {
   "cell_type": "markdown",
   "metadata": {},
   "source": [
    "**Вывод**"
   ]
  },
  {
   "cell_type": "markdown",
   "metadata": {},
   "source": [
    "Самая низкая доля должников в группе `нет детей`. Самая высокая где 1-2 ребенка. "
   ]
  },
  {
   "cell_type": "markdown",
   "metadata": {},
   "source": [
    "- Есть ли зависимость между семейным положением и возвратом кредита в срок?"
   ]
  },
  {
   "cell_type": "code",
   "execution_count": 186,
   "metadata": {},
   "outputs": [
    {
     "data": {
      "text/plain": [
       "женат / замужем          12339\n",
       "гражданский брак          4151\n",
       "Не женат / не замужем     2810\n",
       "в разводе                 1195\n",
       "вдовец / вдова             959\n",
       "Name: family_status, dtype: int64"
      ]
     },
     "execution_count": 186,
     "metadata": {},
     "output_type": "execute_result"
    }
   ],
   "source": [
    "data['family_status'].value_counts()"
   ]
  },
  {
   "cell_type": "code",
   "execution_count": 187,
   "metadata": {},
   "outputs": [
    {
     "data": {
      "text/html": [
       "<div>\n",
       "<style scoped>\n",
       "    .dataframe tbody tr th:only-of-type {\n",
       "        vertical-align: middle;\n",
       "    }\n",
       "\n",
       "    .dataframe tbody tr th {\n",
       "        vertical-align: top;\n",
       "    }\n",
       "\n",
       "    .dataframe thead th {\n",
       "        text-align: right;\n",
       "    }\n",
       "</style>\n",
       "<table border=\"1\" class=\"dataframe\">\n",
       "  <thead>\n",
       "    <tr style=\"text-align: right;\">\n",
       "      <th>debt</th>\n",
       "      <th>0</th>\n",
       "      <th>1</th>\n",
       "    </tr>\n",
       "    <tr>\n",
       "      <th>family_status</th>\n",
       "      <th></th>\n",
       "      <th></th>\n",
       "    </tr>\n",
       "  </thead>\n",
       "  <tbody>\n",
       "    <tr>\n",
       "      <th>Не женат / не замужем</th>\n",
       "      <td>2536</td>\n",
       "      <td>274</td>\n",
       "    </tr>\n",
       "    <tr>\n",
       "      <th>в разводе</th>\n",
       "      <td>1110</td>\n",
       "      <td>85</td>\n",
       "    </tr>\n",
       "    <tr>\n",
       "      <th>вдовец / вдова</th>\n",
       "      <td>896</td>\n",
       "      <td>63</td>\n",
       "    </tr>\n",
       "    <tr>\n",
       "      <th>гражданский брак</th>\n",
       "      <td>3763</td>\n",
       "      <td>388</td>\n",
       "    </tr>\n",
       "    <tr>\n",
       "      <th>женат / замужем</th>\n",
       "      <td>11408</td>\n",
       "      <td>931</td>\n",
       "    </tr>\n",
       "  </tbody>\n",
       "</table>\n",
       "</div>"
      ],
      "text/plain": [
       "debt                       0    1\n",
       "family_status                    \n",
       "Не женат / не замужем   2536  274\n",
       "в разводе               1110   85\n",
       "вдовец / вдова           896   63\n",
       "гражданский брак        3763  388\n",
       "женат / замужем        11408  931"
      ]
     },
     "metadata": {},
     "output_type": "display_data"
    }
   ],
   "source": [
    "data_family_status_pivot = data.pivot_table(index='family_status', columns='debt', values='family_status_id', aggfunc='count')\n",
    "display(data_family_status_pivot)"
   ]
  },
  {
   "cell_type": "code",
   "execution_count": 188,
   "metadata": {
    "scrolled": true
   },
   "outputs": [
    {
     "data": {
      "text/html": [
       "<div>\n",
       "<style scoped>\n",
       "    .dataframe tbody tr th:only-of-type {\n",
       "        vertical-align: middle;\n",
       "    }\n",
       "\n",
       "    .dataframe tbody tr th {\n",
       "        vertical-align: top;\n",
       "    }\n",
       "\n",
       "    .dataframe thead th {\n",
       "        text-align: right;\n",
       "    }\n",
       "</style>\n",
       "<table border=\"1\" class=\"dataframe\">\n",
       "  <thead>\n",
       "    <tr style=\"text-align: right;\">\n",
       "      <th>debt</th>\n",
       "      <th>0</th>\n",
       "      <th>1</th>\n",
       "      <th>ratio</th>\n",
       "    </tr>\n",
       "    <tr>\n",
       "      <th>family_status</th>\n",
       "      <th></th>\n",
       "      <th></th>\n",
       "      <th></th>\n",
       "    </tr>\n",
       "  </thead>\n",
       "  <tbody>\n",
       "    <tr>\n",
       "      <th>вдовец / вдова</th>\n",
       "      <td>896</td>\n",
       "      <td>63</td>\n",
       "      <td>0.065693</td>\n",
       "    </tr>\n",
       "    <tr>\n",
       "      <th>в разводе</th>\n",
       "      <td>1110</td>\n",
       "      <td>85</td>\n",
       "      <td>0.071130</td>\n",
       "    </tr>\n",
       "    <tr>\n",
       "      <th>женат / замужем</th>\n",
       "      <td>11408</td>\n",
       "      <td>931</td>\n",
       "      <td>0.075452</td>\n",
       "    </tr>\n",
       "    <tr>\n",
       "      <th>гражданский брак</th>\n",
       "      <td>3763</td>\n",
       "      <td>388</td>\n",
       "      <td>0.093471</td>\n",
       "    </tr>\n",
       "    <tr>\n",
       "      <th>Не женат / не замужем</th>\n",
       "      <td>2536</td>\n",
       "      <td>274</td>\n",
       "      <td>0.097509</td>\n",
       "    </tr>\n",
       "  </tbody>\n",
       "</table>\n",
       "</div>"
      ],
      "text/plain": [
       "debt                       0    1     ratio\n",
       "family_status                              \n",
       "вдовец / вдова           896   63  0.065693\n",
       "в разводе               1110   85  0.071130\n",
       "женат / замужем        11408  931  0.075452\n",
       "гражданский брак        3763  388  0.093471\n",
       "Не женат / не замужем   2536  274  0.097509"
      ]
     },
     "execution_count": 188,
     "metadata": {},
     "output_type": "execute_result"
    }
   ],
   "source": [
    "data_family_status_pivot['ratio'] = data_family_status_pivot['1']/(data_family_status_pivot['1'] + data_family_status_pivot['0'])\n",
    "data_family_status_pivot.sort_values(by='ratio')"
   ]
  },
  {
   "cell_type": "markdown",
   "metadata": {},
   "source": [
    "**Вывод**"
   ]
  },
  {
   "cell_type": "markdown",
   "metadata": {},
   "source": [
    "Самая низкая доля должников в категории `вдовец/вдова`, затем рядом `в разводе` и клиенты в браке. Самые большие доли в категориях `гражданский брак` и `не женат/не замужем`."
   ]
  },
  {
   "cell_type": "markdown",
   "metadata": {},
   "source": [
    "- Есть ли зависимость между уровнем дохода и возвратом кредита в срок?"
   ]
  },
  {
   "cell_type": "code",
   "execution_count": 189,
   "metadata": {},
   "outputs": [
    {
     "data": {
      "text/html": [
       "<div>\n",
       "<style scoped>\n",
       "    .dataframe tbody tr th:only-of-type {\n",
       "        vertical-align: middle;\n",
       "    }\n",
       "\n",
       "    .dataframe tbody tr th {\n",
       "        vertical-align: top;\n",
       "    }\n",
       "\n",
       "    .dataframe thead th {\n",
       "        text-align: right;\n",
       "    }\n",
       "</style>\n",
       "<table border=\"1\" class=\"dataframe\">\n",
       "  <thead>\n",
       "    <tr style=\"text-align: right;\">\n",
       "      <th>debt</th>\n",
       "      <th>0</th>\n",
       "      <th>1</th>\n",
       "    </tr>\n",
       "    <tr>\n",
       "      <th>total_income_group</th>\n",
       "      <th></th>\n",
       "      <th></th>\n",
       "    </tr>\n",
       "  </thead>\n",
       "  <tbody>\n",
       "    <tr>\n",
       "      <th>низкий</th>\n",
       "      <td>3947</td>\n",
       "      <td>344</td>\n",
       "    </tr>\n",
       "    <tr>\n",
       "      <th>ниже среднего</th>\n",
       "      <td>3932</td>\n",
       "      <td>359</td>\n",
       "    </tr>\n",
       "    <tr>\n",
       "      <th>средний</th>\n",
       "      <td>3904</td>\n",
       "      <td>386</td>\n",
       "    </tr>\n",
       "    <tr>\n",
       "      <th>выше среднего</th>\n",
       "      <td>3939</td>\n",
       "      <td>352</td>\n",
       "    </tr>\n",
       "    <tr>\n",
       "      <th>высокий</th>\n",
       "      <td>3991</td>\n",
       "      <td>300</td>\n",
       "    </tr>\n",
       "  </tbody>\n",
       "</table>\n",
       "</div>"
      ],
      "text/plain": [
       "debt                   0    1\n",
       "total_income_group           \n",
       "низкий              3947  344\n",
       "ниже среднего       3932  359\n",
       "средний             3904  386\n",
       "выше среднего       3939  352\n",
       "высокий             3991  300"
      ]
     },
     "metadata": {},
     "output_type": "display_data"
    }
   ],
   "source": [
    "data_income_pivot = data.pivot_table(index='total_income_group', columns='debt', values='total_income', aggfunc='count')\n",
    "display(data_income_pivot)"
   ]
  },
  {
   "cell_type": "code",
   "execution_count": 190,
   "metadata": {},
   "outputs": [
    {
     "data": {
      "text/html": [
       "<div>\n",
       "<style scoped>\n",
       "    .dataframe tbody tr th:only-of-type {\n",
       "        vertical-align: middle;\n",
       "    }\n",
       "\n",
       "    .dataframe tbody tr th {\n",
       "        vertical-align: top;\n",
       "    }\n",
       "\n",
       "    .dataframe thead th {\n",
       "        text-align: right;\n",
       "    }\n",
       "</style>\n",
       "<table border=\"1\" class=\"dataframe\">\n",
       "  <thead>\n",
       "    <tr style=\"text-align: right;\">\n",
       "      <th>debt</th>\n",
       "      <th>0</th>\n",
       "      <th>1</th>\n",
       "      <th>ratio</th>\n",
       "    </tr>\n",
       "    <tr>\n",
       "      <th>total_income_group</th>\n",
       "      <th></th>\n",
       "      <th></th>\n",
       "      <th></th>\n",
       "    </tr>\n",
       "  </thead>\n",
       "  <tbody>\n",
       "    <tr>\n",
       "      <th>высокий</th>\n",
       "      <td>3991</td>\n",
       "      <td>300</td>\n",
       "      <td>0.069914</td>\n",
       "    </tr>\n",
       "    <tr>\n",
       "      <th>низкий</th>\n",
       "      <td>3947</td>\n",
       "      <td>344</td>\n",
       "      <td>0.080168</td>\n",
       "    </tr>\n",
       "    <tr>\n",
       "      <th>выше среднего</th>\n",
       "      <td>3939</td>\n",
       "      <td>352</td>\n",
       "      <td>0.082032</td>\n",
       "    </tr>\n",
       "    <tr>\n",
       "      <th>ниже среднего</th>\n",
       "      <td>3932</td>\n",
       "      <td>359</td>\n",
       "      <td>0.083663</td>\n",
       "    </tr>\n",
       "    <tr>\n",
       "      <th>средний</th>\n",
       "      <td>3904</td>\n",
       "      <td>386</td>\n",
       "      <td>0.089977</td>\n",
       "    </tr>\n",
       "  </tbody>\n",
       "</table>\n",
       "</div>"
      ],
      "text/plain": [
       "debt                   0    1     ratio\n",
       "total_income_group                     \n",
       "высокий             3991  300  0.069914\n",
       "низкий              3947  344  0.080168\n",
       "выше среднего       3939  352  0.082032\n",
       "ниже среднего       3932  359  0.083663\n",
       "средний             3904  386  0.089977"
      ]
     },
     "metadata": {},
     "output_type": "display_data"
    }
   ],
   "source": [
    "data_income_pivot['ratio'] = data_income_pivot['1']/(data_income_pivot['1']+data_income_pivot['0'])\n",
    "display(data_income_pivot.sort_values(by='ratio'))"
   ]
  },
  {
   "cell_type": "markdown",
   "metadata": {},
   "source": [
    "**Вывод**"
   ]
  },
  {
   "cell_type": "markdown",
   "metadata": {},
   "source": [
    "Самая низкая доля должников у клиентов с высоким доходом, самая высокая - у клиентов со средним доходом."
   ]
  },
  {
   "cell_type": "markdown",
   "metadata": {},
   "source": [
    "- Как разные цели кредита влияют на его возврат в срок?"
   ]
  },
  {
   "cell_type": "code",
   "execution_count": 191,
   "metadata": {},
   "outputs": [
    {
     "data": {
      "text/html": [
       "<div>\n",
       "<style scoped>\n",
       "    .dataframe tbody tr th:only-of-type {\n",
       "        vertical-align: middle;\n",
       "    }\n",
       "\n",
       "    .dataframe tbody tr th {\n",
       "        vertical-align: top;\n",
       "    }\n",
       "\n",
       "    .dataframe thead th {\n",
       "        text-align: right;\n",
       "    }\n",
       "</style>\n",
       "<table border=\"1\" class=\"dataframe\">\n",
       "  <thead>\n",
       "    <tr style=\"text-align: right;\">\n",
       "      <th>debt</th>\n",
       "      <th>0</th>\n",
       "      <th>1</th>\n",
       "    </tr>\n",
       "    <tr>\n",
       "      <th>purpose_category</th>\n",
       "      <th></th>\n",
       "      <th></th>\n",
       "    </tr>\n",
       "  </thead>\n",
       "  <tbody>\n",
       "    <tr>\n",
       "      <th>автомобиль</th>\n",
       "      <td>3903</td>\n",
       "      <td>403</td>\n",
       "    </tr>\n",
       "    <tr>\n",
       "      <th>недвижимость</th>\n",
       "      <td>10029</td>\n",
       "      <td>782</td>\n",
       "    </tr>\n",
       "    <tr>\n",
       "      <th>образование</th>\n",
       "      <td>3643</td>\n",
       "      <td>370</td>\n",
       "    </tr>\n",
       "    <tr>\n",
       "      <th>свадьба</th>\n",
       "      <td>2138</td>\n",
       "      <td>186</td>\n",
       "    </tr>\n",
       "  </tbody>\n",
       "</table>\n",
       "</div>"
      ],
      "text/plain": [
       "debt                  0    1\n",
       "purpose_category            \n",
       "автомобиль         3903  403\n",
       "недвижимость      10029  782\n",
       "образование        3643  370\n",
       "свадьба            2138  186"
      ]
     },
     "metadata": {},
     "output_type": "display_data"
    }
   ],
   "source": [
    "data_purpose_pivot = data.pivot_table(index='purpose_category', columns='debt', values='purpose', aggfunc='count')\n",
    "display(data_purpose_pivot)"
   ]
  },
  {
   "cell_type": "code",
   "execution_count": 192,
   "metadata": {},
   "outputs": [
    {
     "data": {
      "text/html": [
       "<div>\n",
       "<style scoped>\n",
       "    .dataframe tbody tr th:only-of-type {\n",
       "        vertical-align: middle;\n",
       "    }\n",
       "\n",
       "    .dataframe tbody tr th {\n",
       "        vertical-align: top;\n",
       "    }\n",
       "\n",
       "    .dataframe thead th {\n",
       "        text-align: right;\n",
       "    }\n",
       "</style>\n",
       "<table border=\"1\" class=\"dataframe\">\n",
       "  <thead>\n",
       "    <tr style=\"text-align: right;\">\n",
       "      <th>debt</th>\n",
       "      <th>0</th>\n",
       "      <th>1</th>\n",
       "      <th>ratio</th>\n",
       "    </tr>\n",
       "    <tr>\n",
       "      <th>purpose_category</th>\n",
       "      <th></th>\n",
       "      <th></th>\n",
       "      <th></th>\n",
       "    </tr>\n",
       "  </thead>\n",
       "  <tbody>\n",
       "    <tr>\n",
       "      <th>недвижимость</th>\n",
       "      <td>10029</td>\n",
       "      <td>782</td>\n",
       "      <td>0.072334</td>\n",
       "    </tr>\n",
       "    <tr>\n",
       "      <th>свадьба</th>\n",
       "      <td>2138</td>\n",
       "      <td>186</td>\n",
       "      <td>0.080034</td>\n",
       "    </tr>\n",
       "    <tr>\n",
       "      <th>образование</th>\n",
       "      <td>3643</td>\n",
       "      <td>370</td>\n",
       "      <td>0.092200</td>\n",
       "    </tr>\n",
       "    <tr>\n",
       "      <th>автомобиль</th>\n",
       "      <td>3903</td>\n",
       "      <td>403</td>\n",
       "      <td>0.093590</td>\n",
       "    </tr>\n",
       "  </tbody>\n",
       "</table>\n",
       "</div>"
      ],
      "text/plain": [
       "debt                  0    1     ratio\n",
       "purpose_category                      \n",
       "недвижимость      10029  782  0.072334\n",
       "свадьба            2138  186  0.080034\n",
       "образование        3643  370  0.092200\n",
       "автомобиль         3903  403  0.093590"
      ]
     },
     "metadata": {},
     "output_type": "display_data"
    }
   ],
   "source": [
    "data_purpose_pivot['ratio'] = data_purpose_pivot['1']/(data_purpose_pivot['1']+data_purpose_pivot['0'])\n",
    "display(data_purpose_pivot.sort_values(by='ratio'))"
   ]
  },
  {
   "cell_type": "markdown",
   "metadata": {},
   "source": [
    "**Вывод**"
   ]
  },
  {
   "cell_type": "markdown",
   "metadata": {},
   "source": [
    "Самые низкие доли задолженностей в категориях `недвижимость` и `свадьба`. `Образование` и `автомобиль` напротив имеют самые высокие доли."
   ]
  },
  {
   "cell_type": "markdown",
   "metadata": {},
   "source": [
    "## Общий вывод"
   ]
  },
  {
   "cell_type": "markdown",
   "metadata": {},
   "source": [
    "Мы проверили четыре гипотезы и установили:\n",
    "\n",
    "1. Есть ли зависимость между наличием детей и возвратом кредита в срок?\n",
    "\n",
    "Зависимость прослеживается. Самая низкая доля должников в группе `нет детей` - 7.54%. Самая высокая где 1-2 ребенка - 9.3%.\n",
    "\n",
    "2. Есть ли зависимость между семейным положением и возвратом кредита в срок?\n",
    "\n",
    "Видна четкая разница между клиентами в браке, либо бывшими в браке и холостыми, либо не оформившими отношения официально не в пользу последних. \n",
    "\n",
    "Самая низкая доля - вдовец/вдова - 6,57%; самая высокая - 9,75%.\n",
    "\n",
    "3. Есть ли зависимость между уровнем дохода и возвратом кредита в срок?\n",
    "\n",
    "Зависимость прослеживается. Самая низкая доля - клиенты с высоким доходом - 6,99%; самая высокая доля - со средним доходом - 8,99%. Что интересно, клиенты с низким доходом находятся на втором месте по надёжности.\n",
    "\n",
    "4. Как разные цели кредита влияют на его возврат в срок?\n",
    "\n",
    "Также видна взаимосвязь между целью кредита и его возвратом в срок. Те, кто берут кредит на операции с недвижимостью допускают меньше просрочек оплаты - 7,23%. Больше всего должников в категории клиентов, берущих кредит на покупку автомобиля - 9,35%. \n",
    "\n",
    "В общем и целом, доли должников во всех категориях не превышают 10%. Во всех категориях прослеживаются градации групп клиентов, которые наиболее ответственно подходят к выплате кредита и не очень. По всем четырём вопросам можем ответить, что зависимость возврата кредита в срок присутствует. \n"
   ]
  }
 ],
 "metadata": {
  "ExecuteTimeLog": [
   {
    "duration": 1250,
    "start_time": "2022-01-22T11:22:41.374Z"
   },
   {
    "duration": 90,
    "start_time": "2022-01-22T11:22:56.205Z"
   },
   {
    "duration": 19,
    "start_time": "2022-01-22T11:29:00.947Z"
   },
   {
    "duration": 135,
    "start_time": "2022-01-22T11:38:40.943Z"
   },
   {
    "duration": 85,
    "start_time": "2022-01-22T11:39:39.219Z"
   },
   {
    "duration": 81,
    "start_time": "2022-01-22T11:43:01.180Z"
   },
   {
    "duration": 269,
    "start_time": "2022-01-22T12:14:01.313Z"
   },
   {
    "duration": 15,
    "start_time": "2022-01-22T12:16:48.333Z"
   },
   {
    "duration": 11,
    "start_time": "2022-01-22T13:27:00.861Z"
   },
   {
    "duration": 8,
    "start_time": "2022-01-22T13:27:40.134Z"
   },
   {
    "duration": 7,
    "start_time": "2022-01-22T13:27:51.396Z"
   },
   {
    "duration": 8,
    "start_time": "2022-01-22T13:28:24.836Z"
   },
   {
    "duration": 6,
    "start_time": "2022-01-22T13:31:17.427Z"
   },
   {
    "duration": 8,
    "start_time": "2022-01-22T13:47:17.852Z"
   },
   {
    "duration": 8,
    "start_time": "2022-01-22T13:48:27.647Z"
   },
   {
    "duration": 8,
    "start_time": "2022-01-22T13:48:29.399Z"
   },
   {
    "duration": 6,
    "start_time": "2022-01-22T13:49:17.364Z"
   },
   {
    "duration": 5,
    "start_time": "2022-01-22T13:49:22.960Z"
   },
   {
    "duration": 8,
    "start_time": "2022-01-22T13:52:55.097Z"
   },
   {
    "duration": 13,
    "start_time": "2022-01-22T13:53:07.078Z"
   },
   {
    "duration": 949,
    "start_time": "2022-01-22T16:45:24.740Z"
   },
   {
    "duration": 9,
    "start_time": "2022-01-22T16:45:39.448Z"
   },
   {
    "duration": 13,
    "start_time": "2022-01-22T16:45:57.236Z"
   },
   {
    "duration": 310,
    "start_time": "2022-01-22T16:46:33.628Z"
   },
   {
    "duration": 13,
    "start_time": "2022-01-22T16:46:49.333Z"
   },
   {
    "duration": 24,
    "start_time": "2022-01-22T16:51:16.142Z"
   },
   {
    "duration": 321,
    "start_time": "2022-01-22T16:52:53.802Z"
   },
   {
    "duration": 27,
    "start_time": "2022-01-22T16:53:08.283Z"
   },
   {
    "duration": 25,
    "start_time": "2022-01-22T16:53:19.197Z"
   },
   {
    "duration": 251,
    "start_time": "2022-01-22T16:58:12.483Z"
   },
   {
    "duration": 267,
    "start_time": "2022-01-22T16:58:54.624Z"
   },
   {
    "duration": 14,
    "start_time": "2022-01-22T16:59:26.300Z"
   },
   {
    "duration": 10,
    "start_time": "2022-01-22T17:04:48.458Z"
   },
   {
    "duration": 13,
    "start_time": "2022-01-22T17:07:01.519Z"
   },
   {
    "duration": 43,
    "start_time": "2022-01-22T17:07:17.591Z"
   },
   {
    "duration": 10,
    "start_time": "2022-01-22T17:12:11.080Z"
   },
   {
    "duration": 36,
    "start_time": "2022-01-22T17:14:58.765Z"
   },
   {
    "duration": 6,
    "start_time": "2022-01-22T17:17:46.751Z"
   },
   {
    "duration": 25,
    "start_time": "2022-01-22T17:18:24.860Z"
   },
   {
    "duration": 11,
    "start_time": "2022-01-22T17:19:25.630Z"
   },
   {
    "duration": 24,
    "start_time": "2022-01-22T17:23:24.678Z"
   },
   {
    "duration": 28,
    "start_time": "2022-01-22T17:23:41.643Z"
   },
   {
    "duration": 1275,
    "start_time": "2022-01-22T17:23:54.691Z"
   },
   {
    "duration": 45,
    "start_time": "2022-01-22T17:24:18.661Z"
   },
   {
    "duration": 23,
    "start_time": "2022-01-22T17:24:54.964Z"
   },
   {
    "duration": 22,
    "start_time": "2022-01-22T17:25:05.284Z"
   },
   {
    "duration": 77,
    "start_time": "2022-01-22T17:25:11.659Z"
   },
   {
    "duration": 33,
    "start_time": "2022-01-22T17:25:11.740Z"
   },
   {
    "duration": 12,
    "start_time": "2022-01-22T17:25:11.776Z"
   },
   {
    "duration": 6,
    "start_time": "2022-01-22T17:25:11.790Z"
   },
   {
    "duration": 5,
    "start_time": "2022-01-22T17:25:11.798Z"
   },
   {
    "duration": 10,
    "start_time": "2022-01-22T17:25:11.805Z"
   },
   {
    "duration": 52,
    "start_time": "2022-01-22T17:25:11.817Z"
   },
   {
    "duration": 12,
    "start_time": "2022-01-22T17:25:11.873Z"
   },
   {
    "duration": 13,
    "start_time": "2022-01-22T17:25:11.888Z"
   },
   {
    "duration": 25,
    "start_time": "2022-01-22T17:25:11.903Z"
   },
   {
    "duration": 64,
    "start_time": "2022-01-22T17:25:11.930Z"
   },
   {
    "duration": 25,
    "start_time": "2022-01-22T17:25:11.996Z"
   },
   {
    "duration": 288,
    "start_time": "2022-01-22T17:41:36.944Z"
   },
   {
    "duration": 278,
    "start_time": "2022-01-22T17:45:01.574Z"
   },
   {
    "duration": 17,
    "start_time": "2022-01-22T17:48:47.694Z"
   },
   {
    "duration": 7,
    "start_time": "2022-01-22T17:49:22.489Z"
   },
   {
    "duration": 24,
    "start_time": "2022-01-22T17:49:35.225Z"
   },
   {
    "duration": 5,
    "start_time": "2022-01-22T17:49:46.452Z"
   },
   {
    "duration": 24,
    "start_time": "2022-01-22T17:49:49.836Z"
   },
   {
    "duration": 6050,
    "start_time": "2022-01-22T17:57:26.791Z"
   },
   {
    "duration": 16575,
    "start_time": "2022-01-22T17:58:53.799Z"
   },
   {
    "duration": 5730,
    "start_time": "2022-01-22T18:02:25.860Z"
   },
   {
    "duration": 5526,
    "start_time": "2022-01-22T18:04:07.501Z"
   },
   {
    "duration": 6479,
    "start_time": "2022-01-22T18:06:31.513Z"
   },
   {
    "duration": 6439,
    "start_time": "2022-01-22T18:07:41.967Z"
   },
   {
    "duration": 6232,
    "start_time": "2022-01-22T18:08:30.322Z"
   },
   {
    "duration": 320,
    "start_time": "2022-01-23T12:39:12.147Z"
   },
   {
    "duration": 863,
    "start_time": "2022-01-23T12:39:25.839Z"
   },
   {
    "duration": 15,
    "start_time": "2022-01-23T12:39:26.705Z"
   },
   {
    "duration": 12,
    "start_time": "2022-01-23T12:39:26.723Z"
   },
   {
    "duration": 7,
    "start_time": "2022-01-23T12:39:26.770Z"
   },
   {
    "duration": 8,
    "start_time": "2022-01-23T12:39:26.779Z"
   },
   {
    "duration": 9,
    "start_time": "2022-01-23T12:39:26.789Z"
   },
   {
    "duration": 8,
    "start_time": "2022-01-23T12:39:26.800Z"
   },
   {
    "duration": 58,
    "start_time": "2022-01-23T12:39:26.813Z"
   },
   {
    "duration": 6,
    "start_time": "2022-01-23T12:39:26.874Z"
   },
   {
    "duration": 30,
    "start_time": "2022-01-23T12:39:26.883Z"
   },
   {
    "duration": 62,
    "start_time": "2022-01-23T12:39:26.915Z"
   },
   {
    "duration": 24,
    "start_time": "2022-01-23T12:39:26.980Z"
   },
   {
    "duration": 5442,
    "start_time": "2022-01-23T12:39:27.007Z"
   },
   {
    "duration": 5513,
    "start_time": "2022-01-23T12:40:18.596Z"
   },
   {
    "duration": 1814,
    "start_time": "2022-01-23T12:43:22.361Z"
   },
   {
    "duration": 76,
    "start_time": "2022-01-23T12:43:32.996Z"
   },
   {
    "duration": 15,
    "start_time": "2022-01-23T12:43:33.074Z"
   },
   {
    "duration": 12,
    "start_time": "2022-01-23T12:43:33.092Z"
   },
   {
    "duration": 6,
    "start_time": "2022-01-23T12:43:33.108Z"
   },
   {
    "duration": 7,
    "start_time": "2022-01-23T12:43:33.117Z"
   },
   {
    "duration": 7,
    "start_time": "2022-01-23T12:43:33.169Z"
   },
   {
    "duration": 7,
    "start_time": "2022-01-23T12:43:33.179Z"
   },
   {
    "duration": 11,
    "start_time": "2022-01-23T12:43:33.190Z"
   },
   {
    "duration": 4,
    "start_time": "2022-01-23T12:43:33.204Z"
   },
   {
    "duration": 68,
    "start_time": "2022-01-23T12:43:33.210Z"
   },
   {
    "duration": 26,
    "start_time": "2022-01-23T12:43:33.281Z"
   },
   {
    "duration": 22,
    "start_time": "2022-01-23T12:43:33.309Z"
   },
   {
    "duration": 4979,
    "start_time": "2022-01-23T12:43:33.333Z"
   },
   {
    "duration": 2056,
    "start_time": "2022-01-23T12:43:50.817Z"
   },
   {
    "duration": 76,
    "start_time": "2022-01-23T12:44:02.670Z"
   },
   {
    "duration": 23,
    "start_time": "2022-01-23T12:44:02.748Z"
   },
   {
    "duration": 13,
    "start_time": "2022-01-23T12:44:02.774Z"
   },
   {
    "duration": 6,
    "start_time": "2022-01-23T12:44:02.790Z"
   },
   {
    "duration": 8,
    "start_time": "2022-01-23T12:44:02.799Z"
   },
   {
    "duration": 59,
    "start_time": "2022-01-23T12:44:02.810Z"
   },
   {
    "duration": 9,
    "start_time": "2022-01-23T12:44:02.872Z"
   },
   {
    "duration": 15,
    "start_time": "2022-01-23T12:44:02.887Z"
   },
   {
    "duration": 6,
    "start_time": "2022-01-23T12:44:02.906Z"
   },
   {
    "duration": 75,
    "start_time": "2022-01-23T12:44:02.915Z"
   },
   {
    "duration": 27,
    "start_time": "2022-01-23T12:44:02.993Z"
   },
   {
    "duration": 24,
    "start_time": "2022-01-23T12:44:03.022Z"
   },
   {
    "duration": 4975,
    "start_time": "2022-01-23T12:44:03.069Z"
   },
   {
    "duration": 5127,
    "start_time": "2022-01-23T13:08:41.857Z"
   },
   {
    "duration": 89,
    "start_time": "2022-01-23T13:09:18.113Z"
   },
   {
    "duration": 16,
    "start_time": "2022-01-23T13:09:18.205Z"
   },
   {
    "duration": 12,
    "start_time": "2022-01-23T13:09:18.224Z"
   },
   {
    "duration": 34,
    "start_time": "2022-01-23T13:09:18.238Z"
   },
   {
    "duration": 6,
    "start_time": "2022-01-23T13:09:18.274Z"
   },
   {
    "duration": 11,
    "start_time": "2022-01-23T13:09:18.283Z"
   },
   {
    "duration": 8,
    "start_time": "2022-01-23T13:09:18.296Z"
   },
   {
    "duration": 12,
    "start_time": "2022-01-23T13:09:18.307Z"
   },
   {
    "duration": 4,
    "start_time": "2022-01-23T13:09:18.322Z"
   },
   {
    "duration": 63,
    "start_time": "2022-01-23T13:09:18.328Z"
   },
   {
    "duration": 27,
    "start_time": "2022-01-23T13:09:18.393Z"
   },
   {
    "duration": 52,
    "start_time": "2022-01-23T13:09:18.423Z"
   },
   {
    "duration": 4901,
    "start_time": "2022-01-23T13:09:18.477Z"
   },
   {
    "duration": 1472,
    "start_time": "2022-01-23T13:10:37.748Z"
   },
   {
    "duration": 77,
    "start_time": "2022-01-23T13:10:54.905Z"
   },
   {
    "duration": 23,
    "start_time": "2022-01-23T13:10:54.986Z"
   },
   {
    "duration": 21,
    "start_time": "2022-01-23T13:10:55.013Z"
   },
   {
    "duration": 35,
    "start_time": "2022-01-23T13:10:55.038Z"
   },
   {
    "duration": 9,
    "start_time": "2022-01-23T13:10:55.075Z"
   },
   {
    "duration": 10,
    "start_time": "2022-01-23T13:10:55.086Z"
   },
   {
    "duration": 13,
    "start_time": "2022-01-23T13:10:55.098Z"
   },
   {
    "duration": 14,
    "start_time": "2022-01-23T13:10:55.115Z"
   },
   {
    "duration": 9,
    "start_time": "2022-01-23T13:10:55.170Z"
   },
   {
    "duration": 30,
    "start_time": "2022-01-23T13:10:55.182Z"
   },
   {
    "duration": 56,
    "start_time": "2022-01-23T13:10:55.214Z"
   },
   {
    "duration": 25,
    "start_time": "2022-01-23T13:10:55.273Z"
   },
   {
    "duration": 4823,
    "start_time": "2022-01-23T13:10:55.300Z"
   },
   {
    "duration": 8,
    "start_time": "2022-01-23T14:30:12.478Z"
   },
   {
    "duration": 292,
    "start_time": "2022-01-23T14:35:41.848Z"
   },
   {
    "duration": 283,
    "start_time": "2022-01-23T14:36:02.537Z"
   },
   {
    "duration": 82,
    "start_time": "2022-01-23T14:36:12.735Z"
   },
   {
    "duration": 15,
    "start_time": "2022-01-23T14:36:12.820Z"
   },
   {
    "duration": 36,
    "start_time": "2022-01-23T14:36:12.838Z"
   },
   {
    "duration": 6,
    "start_time": "2022-01-23T14:36:12.876Z"
   },
   {
    "duration": 8,
    "start_time": "2022-01-23T14:36:12.885Z"
   },
   {
    "duration": 16,
    "start_time": "2022-01-23T14:36:12.895Z"
   },
   {
    "duration": 8,
    "start_time": "2022-01-23T14:36:12.913Z"
   },
   {
    "duration": 47,
    "start_time": "2022-01-23T14:36:12.924Z"
   },
   {
    "duration": 5,
    "start_time": "2022-01-23T14:36:12.975Z"
   },
   {
    "duration": 26,
    "start_time": "2022-01-23T14:36:12.983Z"
   },
   {
    "duration": 68,
    "start_time": "2022-01-23T14:36:13.011Z"
   },
   {
    "duration": 24,
    "start_time": "2022-01-23T14:36:13.082Z"
   },
   {
    "duration": 5641,
    "start_time": "2022-01-23T14:36:13.108Z"
   },
   {
    "duration": 558,
    "start_time": "2022-01-23T14:36:18.752Z"
   },
   {
    "duration": 11,
    "start_time": "2022-01-23T14:37:43.977Z"
   },
   {
    "duration": 10,
    "start_time": "2022-01-23T14:38:21.141Z"
   },
   {
    "duration": 91,
    "start_time": "2022-01-23T15:10:20.466Z"
   },
   {
    "duration": 85,
    "start_time": "2022-01-23T15:11:04.659Z"
   },
   {
    "duration": 86,
    "start_time": "2022-01-23T15:11:18.463Z"
   },
   {
    "duration": 288,
    "start_time": "2022-01-23T15:11:55.131Z"
   },
   {
    "duration": 12,
    "start_time": "2022-01-23T15:12:55.891Z"
   },
   {
    "duration": 12,
    "start_time": "2022-01-23T15:13:37.487Z"
   },
   {
    "duration": 6,
    "start_time": "2022-01-23T15:15:21.532Z"
   },
   {
    "duration": 7,
    "start_time": "2022-01-23T15:15:26.853Z"
   },
   {
    "duration": 7,
    "start_time": "2022-01-23T15:15:31.624Z"
   },
   {
    "duration": 6,
    "start_time": "2022-01-23T15:15:36.033Z"
   },
   {
    "duration": 491,
    "start_time": "2022-01-23T15:17:59.169Z"
   },
   {
    "duration": 19,
    "start_time": "2022-01-23T15:18:43.533Z"
   },
   {
    "duration": 19,
    "start_time": "2022-01-23T15:20:12.121Z"
   },
   {
    "duration": 18,
    "start_time": "2022-01-23T15:20:39.418Z"
   },
   {
    "duration": 17,
    "start_time": "2022-01-23T15:21:50.678Z"
   },
   {
    "duration": 18,
    "start_time": "2022-01-23T15:21:59.458Z"
   },
   {
    "duration": 23,
    "start_time": "2022-01-23T15:41:42.804Z"
   },
   {
    "duration": 15,
    "start_time": "2022-01-23T15:54:32.445Z"
   },
   {
    "duration": 58,
    "start_time": "2022-01-23T15:55:14.434Z"
   },
   {
    "duration": 27,
    "start_time": "2022-01-23T15:57:17.738Z"
   },
   {
    "duration": 752,
    "start_time": "2022-01-23T15:57:48.462Z"
   },
   {
    "duration": 26,
    "start_time": "2022-01-23T15:58:04.385Z"
   },
   {
    "duration": 14,
    "start_time": "2022-01-23T15:58:43.730Z"
   },
   {
    "duration": 26,
    "start_time": "2022-01-23T15:59:11.130Z"
   },
   {
    "duration": 18,
    "start_time": "2022-01-23T16:00:22.135Z"
   },
   {
    "duration": 18,
    "start_time": "2022-01-23T16:00:49.977Z"
   },
   {
    "duration": 1058,
    "start_time": "2022-01-23T16:09:39.905Z"
   },
   {
    "duration": 98,
    "start_time": "2022-01-23T16:09:45.873Z"
   },
   {
    "duration": 20,
    "start_time": "2022-01-23T16:09:45.975Z"
   },
   {
    "duration": 19,
    "start_time": "2022-01-23T16:09:45.999Z"
   },
   {
    "duration": 47,
    "start_time": "2022-01-23T16:09:46.022Z"
   },
   {
    "duration": 7,
    "start_time": "2022-01-23T16:09:46.071Z"
   },
   {
    "duration": 7,
    "start_time": "2022-01-23T16:09:46.080Z"
   },
   {
    "duration": 7,
    "start_time": "2022-01-23T16:09:46.090Z"
   },
   {
    "duration": 12,
    "start_time": "2022-01-23T16:09:46.101Z"
   },
   {
    "duration": 4,
    "start_time": "2022-01-23T16:09:46.117Z"
   },
   {
    "duration": 31,
    "start_time": "2022-01-23T16:09:46.169Z"
   },
   {
    "duration": 29,
    "start_time": "2022-01-23T16:09:46.202Z"
   },
   {
    "duration": 52,
    "start_time": "2022-01-23T16:09:46.234Z"
   },
   {
    "duration": 5021,
    "start_time": "2022-01-23T16:09:46.289Z"
   },
   {
    "duration": 11,
    "start_time": "2022-01-23T16:09:51.312Z"
   },
   {
    "duration": 20,
    "start_time": "2022-01-23T16:09:51.325Z"
   },
   {
    "duration": 35,
    "start_time": "2022-01-23T16:09:51.347Z"
   },
   {
    "duration": 29,
    "start_time": "2022-01-23T16:09:51.384Z"
   },
   {
    "duration": 1085,
    "start_time": "2022-01-23T16:12:23.358Z"
   },
   {
    "duration": 85,
    "start_time": "2022-01-23T16:12:27.795Z"
   },
   {
    "duration": 15,
    "start_time": "2022-01-23T16:12:27.883Z"
   },
   {
    "duration": 13,
    "start_time": "2022-01-23T16:12:27.901Z"
   },
   {
    "duration": 8,
    "start_time": "2022-01-23T16:12:27.917Z"
   },
   {
    "duration": 47,
    "start_time": "2022-01-23T16:12:27.927Z"
   },
   {
    "duration": 7,
    "start_time": "2022-01-23T16:12:27.977Z"
   },
   {
    "duration": 9,
    "start_time": "2022-01-23T16:12:27.987Z"
   },
   {
    "duration": 16,
    "start_time": "2022-01-23T16:12:27.999Z"
   },
   {
    "duration": 49,
    "start_time": "2022-01-23T16:12:28.020Z"
   },
   {
    "duration": 36,
    "start_time": "2022-01-23T16:12:28.073Z"
   },
   {
    "duration": 30,
    "start_time": "2022-01-23T16:12:28.112Z"
   },
   {
    "duration": 24,
    "start_time": "2022-01-23T16:12:28.168Z"
   },
   {
    "duration": 5633,
    "start_time": "2022-01-23T16:12:28.195Z"
   },
   {
    "duration": 14,
    "start_time": "2022-01-23T16:12:33.831Z"
   },
   {
    "duration": 34,
    "start_time": "2022-01-23T16:12:33.849Z"
   },
   {
    "duration": 29,
    "start_time": "2022-01-23T16:12:33.886Z"
   },
   {
    "duration": 71,
    "start_time": "2022-01-23T16:12:33.918Z"
   },
   {
    "duration": 6,
    "start_time": "2022-01-23T16:32:18.812Z"
   },
   {
    "duration": 6,
    "start_time": "2022-01-23T16:32:55.551Z"
   },
   {
    "duration": 80,
    "start_time": "2022-01-23T16:33:21.093Z"
   },
   {
    "duration": 23,
    "start_time": "2022-01-23T16:33:21.177Z"
   },
   {
    "duration": 19,
    "start_time": "2022-01-23T16:33:21.205Z"
   },
   {
    "duration": 7,
    "start_time": "2022-01-23T16:33:21.227Z"
   },
   {
    "duration": 36,
    "start_time": "2022-01-23T16:33:21.237Z"
   },
   {
    "duration": 8,
    "start_time": "2022-01-23T16:33:21.276Z"
   },
   {
    "duration": 8,
    "start_time": "2022-01-23T16:33:21.287Z"
   },
   {
    "duration": 13,
    "start_time": "2022-01-23T16:33:21.299Z"
   },
   {
    "duration": 6,
    "start_time": "2022-01-23T16:33:21.315Z"
   },
   {
    "duration": 24,
    "start_time": "2022-01-23T16:33:21.370Z"
   },
   {
    "duration": 29,
    "start_time": "2022-01-23T16:33:21.397Z"
   },
   {
    "duration": 52,
    "start_time": "2022-01-23T16:33:21.428Z"
   },
   {
    "duration": 5087,
    "start_time": "2022-01-23T16:33:21.482Z"
   },
   {
    "duration": 12,
    "start_time": "2022-01-23T16:33:26.572Z"
   },
   {
    "duration": 16,
    "start_time": "2022-01-23T16:33:26.586Z"
   },
   {
    "duration": 19,
    "start_time": "2022-01-23T16:33:26.605Z"
   },
   {
    "duration": 67,
    "start_time": "2022-01-23T16:33:26.626Z"
   },
   {
    "duration": 7,
    "start_time": "2022-01-23T16:33:26.696Z"
   },
   {
    "duration": 6,
    "start_time": "2022-01-23T16:33:45.684Z"
   },
   {
    "duration": 381,
    "start_time": "2022-01-23T16:35:28.649Z"
   },
   {
    "duration": 16,
    "start_time": "2022-01-23T16:35:59.837Z"
   },
   {
    "duration": 17,
    "start_time": "2022-01-23T16:36:59.058Z"
   },
   {
    "duration": 13,
    "start_time": "2022-01-23T16:37:43.286Z"
   },
   {
    "duration": 10,
    "start_time": "2022-01-23T16:38:43.438Z"
   },
   {
    "duration": 18,
    "start_time": "2022-01-23T16:47:56.390Z"
   },
   {
    "duration": 17,
    "start_time": "2022-01-23T16:50:16.211Z"
   },
   {
    "duration": 331,
    "start_time": "2022-01-24T10:06:09.020Z"
   },
   {
    "duration": 868,
    "start_time": "2022-01-24T10:06:14.204Z"
   },
   {
    "duration": 33,
    "start_time": "2022-01-24T10:06:15.077Z"
   },
   {
    "duration": 15,
    "start_time": "2022-01-24T10:06:15.116Z"
   },
   {
    "duration": 12,
    "start_time": "2022-01-24T10:06:15.134Z"
   },
   {
    "duration": 9,
    "start_time": "2022-01-24T10:06:15.148Z"
   },
   {
    "duration": 9,
    "start_time": "2022-01-24T10:06:15.159Z"
   },
   {
    "duration": 44,
    "start_time": "2022-01-24T10:06:15.171Z"
   },
   {
    "duration": 16,
    "start_time": "2022-01-24T10:06:15.219Z"
   },
   {
    "duration": 13,
    "start_time": "2022-01-24T10:06:15.238Z"
   },
   {
    "duration": 27,
    "start_time": "2022-01-24T10:06:15.254Z"
   },
   {
    "duration": 40,
    "start_time": "2022-01-24T10:06:15.283Z"
   },
   {
    "duration": 20,
    "start_time": "2022-01-24T10:06:15.325Z"
   },
   {
    "duration": 4907,
    "start_time": "2022-01-24T10:06:15.348Z"
   },
   {
    "duration": 7,
    "start_time": "2022-01-24T10:06:20.257Z"
   },
   {
    "duration": 553,
    "start_time": "2022-01-24T10:06:20.266Z"
   },
   {
    "duration": 1120,
    "start_time": "2022-01-24T10:06:19.702Z"
   },
   {
    "duration": 1109,
    "start_time": "2022-01-24T10:06:19.715Z"
   },
   {
    "duration": 1102,
    "start_time": "2022-01-24T10:06:19.723Z"
   },
   {
    "duration": 14,
    "start_time": "2022-01-24T10:10:24.518Z"
   },
   {
    "duration": 16,
    "start_time": "2022-01-24T10:11:18.998Z"
   },
   {
    "duration": 20,
    "start_time": "2022-01-24T10:11:35.735Z"
   },
   {
    "duration": 271,
    "start_time": "2022-01-24T10:19:25.120Z"
   },
   {
    "duration": 65,
    "start_time": "2022-01-24T10:20:26.702Z"
   },
   {
    "duration": 12,
    "start_time": "2022-01-24T10:20:26.770Z"
   },
   {
    "duration": 45,
    "start_time": "2022-01-24T10:20:26.784Z"
   },
   {
    "duration": 13,
    "start_time": "2022-01-24T10:20:26.832Z"
   },
   {
    "duration": 24,
    "start_time": "2022-01-24T10:20:26.847Z"
   },
   {
    "duration": 11,
    "start_time": "2022-01-24T10:20:26.873Z"
   },
   {
    "duration": 37,
    "start_time": "2022-01-24T10:20:26.886Z"
   },
   {
    "duration": 19,
    "start_time": "2022-01-24T10:20:26.926Z"
   },
   {
    "duration": 8,
    "start_time": "2022-01-24T10:20:26.947Z"
   },
   {
    "duration": 25,
    "start_time": "2022-01-24T10:20:26.958Z"
   },
   {
    "duration": 21,
    "start_time": "2022-01-24T10:20:26.985Z"
   },
   {
    "duration": 19,
    "start_time": "2022-01-24T10:20:27.008Z"
   },
   {
    "duration": 5028,
    "start_time": "2022-01-24T10:20:27.029Z"
   },
   {
    "duration": 7,
    "start_time": "2022-01-24T10:20:32.060Z"
   },
   {
    "duration": 40,
    "start_time": "2022-01-24T10:20:32.069Z"
   },
   {
    "duration": 22,
    "start_time": "2022-01-24T10:20:32.112Z"
   },
   {
    "duration": 29,
    "start_time": "2022-01-24T10:20:32.136Z"
   },
   {
    "duration": 286,
    "start_time": "2022-01-24T10:20:32.168Z"
   },
   {
    "duration": 21,
    "start_time": "2022-01-24T10:30:07.744Z"
   },
   {
    "duration": 17,
    "start_time": "2022-01-24T10:30:48.271Z"
   },
   {
    "duration": 18,
    "start_time": "2022-01-24T10:31:43.788Z"
   },
   {
    "duration": 16,
    "start_time": "2022-01-24T10:33:40.137Z"
   },
   {
    "duration": 69,
    "start_time": "2022-01-24T10:33:44.937Z"
   },
   {
    "duration": 14,
    "start_time": "2022-01-24T10:33:45.009Z"
   },
   {
    "duration": 14,
    "start_time": "2022-01-24T10:33:45.026Z"
   },
   {
    "duration": 13,
    "start_time": "2022-01-24T10:33:45.043Z"
   },
   {
    "duration": 7,
    "start_time": "2022-01-24T10:33:45.059Z"
   },
   {
    "duration": 13,
    "start_time": "2022-01-24T10:33:45.068Z"
   },
   {
    "duration": 7,
    "start_time": "2022-01-24T10:33:45.106Z"
   },
   {
    "duration": 17,
    "start_time": "2022-01-24T10:33:45.115Z"
   },
   {
    "duration": 6,
    "start_time": "2022-01-24T10:33:45.134Z"
   },
   {
    "duration": 21,
    "start_time": "2022-01-24T10:33:45.142Z"
   },
   {
    "duration": 42,
    "start_time": "2022-01-24T10:33:45.165Z"
   },
   {
    "duration": 18,
    "start_time": "2022-01-24T10:33:45.209Z"
   },
   {
    "duration": 4728,
    "start_time": "2022-01-24T10:33:45.229Z"
   },
   {
    "duration": 7,
    "start_time": "2022-01-24T10:33:49.959Z"
   },
   {
    "duration": 20,
    "start_time": "2022-01-24T10:33:49.968Z"
   },
   {
    "duration": 37,
    "start_time": "2022-01-24T10:33:49.990Z"
   },
   {
    "duration": 30,
    "start_time": "2022-01-24T10:33:50.029Z"
   },
   {
    "duration": 20,
    "start_time": "2022-01-24T10:33:50.061Z"
   },
   {
    "duration": 22,
    "start_time": "2022-01-24T10:34:56.221Z"
   },
   {
    "duration": 5824,
    "start_time": "2022-01-24T10:56:53.976Z"
   },
   {
    "duration": 5228,
    "start_time": "2022-01-24T10:57:41.386Z"
   },
   {
    "duration": 64,
    "start_time": "2022-01-24T10:57:55.073Z"
   },
   {
    "duration": 12,
    "start_time": "2022-01-24T10:57:55.140Z"
   },
   {
    "duration": 34,
    "start_time": "2022-01-24T10:57:55.155Z"
   },
   {
    "duration": 36,
    "start_time": "2022-01-24T10:57:55.192Z"
   },
   {
    "duration": 32,
    "start_time": "2022-01-24T10:57:55.231Z"
   },
   {
    "duration": 25,
    "start_time": "2022-01-24T10:57:55.266Z"
   },
   {
    "duration": 17,
    "start_time": "2022-01-24T10:57:55.293Z"
   },
   {
    "duration": 36,
    "start_time": "2022-01-24T10:57:55.314Z"
   },
   {
    "duration": 16,
    "start_time": "2022-01-24T10:57:55.352Z"
   },
   {
    "duration": 22,
    "start_time": "2022-01-24T10:57:55.371Z"
   },
   {
    "duration": 53,
    "start_time": "2022-01-24T10:57:55.395Z"
   },
   {
    "duration": 28,
    "start_time": "2022-01-24T10:57:55.450Z"
   },
   {
    "duration": 4383,
    "start_time": "2022-01-24T10:57:55.480Z"
   },
   {
    "duration": 8,
    "start_time": "2022-01-24T10:57:59.866Z"
   },
   {
    "duration": 35,
    "start_time": "2022-01-24T10:57:59.876Z"
   },
   {
    "duration": 23,
    "start_time": "2022-01-24T10:57:59.913Z"
   },
   {
    "duration": 28,
    "start_time": "2022-01-24T10:57:59.938Z"
   },
   {
    "duration": 43,
    "start_time": "2022-01-24T10:57:59.968Z"
   },
   {
    "duration": 5231,
    "start_time": "2022-01-24T10:58:00.013Z"
   },
   {
    "duration": 87,
    "start_time": "2022-01-24T11:00:07.407Z"
   },
   {
    "duration": 306,
    "start_time": "2022-01-24T11:00:39.605Z"
   },
   {
    "duration": 18,
    "start_time": "2022-01-24T11:04:28.327Z"
   },
   {
    "duration": 23,
    "start_time": "2022-01-24T11:04:50.755Z"
   },
   {
    "duration": 5818,
    "start_time": "2022-01-24T11:06:30.279Z"
   },
   {
    "duration": 96,
    "start_time": "2022-01-24T11:12:22.876Z"
   },
   {
    "duration": 12,
    "start_time": "2022-01-24T11:12:22.974Z"
   },
   {
    "duration": 26,
    "start_time": "2022-01-24T11:12:22.989Z"
   },
   {
    "duration": 33,
    "start_time": "2022-01-24T11:12:23.016Z"
   },
   {
    "duration": 33,
    "start_time": "2022-01-24T11:12:23.051Z"
   },
   {
    "duration": 25,
    "start_time": "2022-01-24T11:12:23.086Z"
   },
   {
    "duration": 41,
    "start_time": "2022-01-24T11:12:23.113Z"
   },
   {
    "duration": 45,
    "start_time": "2022-01-24T11:12:23.157Z"
   },
   {
    "duration": 27,
    "start_time": "2022-01-24T11:12:23.204Z"
   },
   {
    "duration": 57,
    "start_time": "2022-01-24T11:12:23.234Z"
   },
   {
    "duration": 31,
    "start_time": "2022-01-24T11:12:23.293Z"
   },
   {
    "duration": 26,
    "start_time": "2022-01-24T11:12:23.326Z"
   },
   {
    "duration": 4353,
    "start_time": "2022-01-24T11:12:23.354Z"
   },
   {
    "duration": 7,
    "start_time": "2022-01-24T11:12:27.710Z"
   },
   {
    "duration": 48,
    "start_time": "2022-01-24T11:12:27.718Z"
   },
   {
    "duration": 45,
    "start_time": "2022-01-24T11:12:27.768Z"
   },
   {
    "duration": 28,
    "start_time": "2022-01-24T11:12:27.815Z"
   },
   {
    "duration": 42,
    "start_time": "2022-01-24T11:12:27.846Z"
   },
   {
    "duration": 27,
    "start_time": "2022-01-24T11:12:27.891Z"
   },
   {
    "duration": 296,
    "start_time": "2022-01-24T11:17:45.091Z"
   },
   {
    "duration": 68,
    "start_time": "2022-01-24T11:18:01.690Z"
   },
   {
    "duration": 25,
    "start_time": "2022-01-24T11:18:01.760Z"
   },
   {
    "duration": 61,
    "start_time": "2022-01-24T11:18:01.787Z"
   },
   {
    "duration": 40,
    "start_time": "2022-01-24T11:18:01.851Z"
   },
   {
    "duration": 51,
    "start_time": "2022-01-24T11:18:01.893Z"
   },
   {
    "duration": 71,
    "start_time": "2022-01-24T11:18:01.946Z"
   },
   {
    "duration": 67,
    "start_time": "2022-01-24T11:18:02.020Z"
   },
   {
    "duration": 54,
    "start_time": "2022-01-24T11:18:02.090Z"
   },
   {
    "duration": 28,
    "start_time": "2022-01-24T11:18:02.146Z"
   },
   {
    "duration": 58,
    "start_time": "2022-01-24T11:18:02.176Z"
   },
   {
    "duration": 23,
    "start_time": "2022-01-24T11:18:02.236Z"
   },
   {
    "duration": 32,
    "start_time": "2022-01-24T11:18:02.262Z"
   },
   {
    "duration": 4559,
    "start_time": "2022-01-24T11:18:02.297Z"
   },
   {
    "duration": 8,
    "start_time": "2022-01-24T11:18:06.859Z"
   },
   {
    "duration": 45,
    "start_time": "2022-01-24T11:18:06.869Z"
   },
   {
    "duration": 33,
    "start_time": "2022-01-24T11:18:06.916Z"
   },
   {
    "duration": 46,
    "start_time": "2022-01-24T11:18:06.952Z"
   },
   {
    "duration": 47,
    "start_time": "2022-01-24T11:18:07.001Z"
   },
   {
    "duration": 455,
    "start_time": "2022-01-24T11:18:07.050Z"
   },
   {
    "duration": 10,
    "start_time": "2022-01-24T11:19:07.879Z"
   },
   {
    "duration": 6591,
    "start_time": "2022-01-24T12:32:47.545Z"
   },
   {
    "duration": 6,
    "start_time": "2022-01-24T12:33:03.995Z"
   },
   {
    "duration": 8,
    "start_time": "2022-01-24T12:34:04.561Z"
   },
   {
    "duration": 19,
    "start_time": "2022-01-24T12:41:29.542Z"
   },
   {
    "duration": 7307,
    "start_time": "2022-01-24T12:46:32.265Z"
   },
   {
    "duration": 295,
    "start_time": "2022-01-24T12:49:03.553Z"
   },
   {
    "duration": 21,
    "start_time": "2022-01-24T12:49:17.925Z"
   },
   {
    "duration": 90,
    "start_time": "2022-01-24T12:49:45.563Z"
   },
   {
    "duration": 14,
    "start_time": "2022-01-24T12:49:45.655Z"
   },
   {
    "duration": 38,
    "start_time": "2022-01-24T12:49:45.672Z"
   },
   {
    "duration": 12,
    "start_time": "2022-01-24T12:49:45.712Z"
   },
   {
    "duration": 9,
    "start_time": "2022-01-24T12:49:45.726Z"
   },
   {
    "duration": 8,
    "start_time": "2022-01-24T12:49:45.737Z"
   },
   {
    "duration": 8,
    "start_time": "2022-01-24T12:49:45.747Z"
   },
   {
    "duration": 10,
    "start_time": "2022-01-24T12:49:45.758Z"
   },
   {
    "duration": 20,
    "start_time": "2022-01-24T12:49:45.807Z"
   },
   {
    "duration": 18,
    "start_time": "2022-01-24T12:49:45.829Z"
   },
   {
    "duration": 23,
    "start_time": "2022-01-24T12:49:45.849Z"
   },
   {
    "duration": 48,
    "start_time": "2022-01-24T12:49:45.874Z"
   },
   {
    "duration": 4553,
    "start_time": "2022-01-24T12:49:45.924Z"
   },
   {
    "duration": 7,
    "start_time": "2022-01-24T12:49:50.479Z"
   },
   {
    "duration": 37,
    "start_time": "2022-01-24T12:49:50.488Z"
   },
   {
    "duration": 23,
    "start_time": "2022-01-24T12:49:50.527Z"
   },
   {
    "duration": 24,
    "start_time": "2022-01-24T12:49:50.552Z"
   },
   {
    "duration": 49,
    "start_time": "2022-01-24T12:49:50.578Z"
   },
   {
    "duration": 10,
    "start_time": "2022-01-24T12:49:50.629Z"
   },
   {
    "duration": 13,
    "start_time": "2022-01-24T12:49:50.641Z"
   },
   {
    "duration": 50,
    "start_time": "2022-01-24T12:49:50.657Z"
   },
   {
    "duration": 13,
    "start_time": "2022-01-24T12:49:50.710Z"
   },
   {
    "duration": 1797,
    "start_time": "2022-01-24T12:50:55.321Z"
   },
   {
    "duration": 69,
    "start_time": "2022-01-24T12:51:05.046Z"
   },
   {
    "duration": 15,
    "start_time": "2022-01-24T12:51:05.117Z"
   },
   {
    "duration": 95,
    "start_time": "2022-01-24T12:51:05.136Z"
   },
   {
    "duration": 23,
    "start_time": "2022-01-24T12:51:05.233Z"
   },
   {
    "duration": 13,
    "start_time": "2022-01-24T12:51:05.258Z"
   },
   {
    "duration": 11,
    "start_time": "2022-01-24T12:51:05.273Z"
   },
   {
    "duration": 14,
    "start_time": "2022-01-24T12:51:05.286Z"
   },
   {
    "duration": 18,
    "start_time": "2022-01-24T12:51:05.304Z"
   },
   {
    "duration": 25,
    "start_time": "2022-01-24T12:51:05.324Z"
   },
   {
    "duration": 20,
    "start_time": "2022-01-24T12:51:05.352Z"
   },
   {
    "duration": 56,
    "start_time": "2022-01-24T12:51:05.375Z"
   },
   {
    "duration": 4330,
    "start_time": "2022-01-24T12:51:05.434Z"
   },
   {
    "duration": 7,
    "start_time": "2022-01-24T12:51:09.766Z"
   },
   {
    "duration": 37,
    "start_time": "2022-01-24T12:51:09.775Z"
   },
   {
    "duration": 22,
    "start_time": "2022-01-24T12:51:09.814Z"
   },
   {
    "duration": 97,
    "start_time": "2022-01-24T12:51:09.839Z"
   },
   {
    "duration": 29,
    "start_time": "2022-01-24T12:51:09.938Z"
   },
   {
    "duration": 11,
    "start_time": "2022-01-24T12:51:09.969Z"
   },
   {
    "duration": 27,
    "start_time": "2022-01-24T12:51:09.983Z"
   },
   {
    "duration": 23,
    "start_time": "2022-01-24T12:51:10.012Z"
   },
   {
    "duration": 13,
    "start_time": "2022-01-24T12:51:10.037Z"
   },
   {
    "duration": 26,
    "start_time": "2022-01-24T13:06:48.858Z"
   },
   {
    "duration": 31,
    "start_time": "2022-01-24T13:07:37.910Z"
   },
   {
    "duration": 6545,
    "start_time": "2022-01-24T13:10:08.890Z"
   },
   {
    "duration": 4,
    "start_time": "2022-01-24T13:10:36.246Z"
   },
   {
    "duration": 11,
    "start_time": "2022-01-24T13:11:32.865Z"
   },
   {
    "duration": 13,
    "start_time": "2022-01-24T13:23:03.986Z"
   },
   {
    "duration": 35,
    "start_time": "2022-01-24T13:23:26.694Z"
   },
   {
    "duration": 278,
    "start_time": "2022-01-24T13:25:06.847Z"
   },
   {
    "duration": 19,
    "start_time": "2022-01-24T13:25:56.164Z"
   },
   {
    "duration": 20,
    "start_time": "2022-01-24T13:27:47.772Z"
   },
   {
    "duration": 66,
    "start_time": "2022-01-24T13:28:16.596Z"
   },
   {
    "duration": 12,
    "start_time": "2022-01-24T13:28:16.664Z"
   },
   {
    "duration": 36,
    "start_time": "2022-01-24T13:28:16.678Z"
   },
   {
    "duration": 7,
    "start_time": "2022-01-24T13:28:16.716Z"
   },
   {
    "duration": 25,
    "start_time": "2022-01-24T13:28:16.725Z"
   },
   {
    "duration": 19,
    "start_time": "2022-01-24T13:28:16.752Z"
   },
   {
    "duration": 19,
    "start_time": "2022-01-24T13:28:16.772Z"
   },
   {
    "duration": 42,
    "start_time": "2022-01-24T13:28:16.793Z"
   },
   {
    "duration": 32,
    "start_time": "2022-01-24T13:28:16.837Z"
   },
   {
    "duration": 21,
    "start_time": "2022-01-24T13:28:16.870Z"
   },
   {
    "duration": 39,
    "start_time": "2022-01-24T13:28:16.893Z"
   },
   {
    "duration": 3973,
    "start_time": "2022-01-24T13:28:16.935Z"
   },
   {
    "duration": 7,
    "start_time": "2022-01-24T13:28:20.910Z"
   },
   {
    "duration": 47,
    "start_time": "2022-01-24T13:28:20.918Z"
   },
   {
    "duration": 37,
    "start_time": "2022-01-24T13:28:20.967Z"
   },
   {
    "duration": 19,
    "start_time": "2022-01-24T13:28:21.006Z"
   },
   {
    "duration": 17,
    "start_time": "2022-01-24T13:28:21.027Z"
   },
   {
    "duration": 26,
    "start_time": "2022-01-24T13:28:21.046Z"
   },
   {
    "duration": 35,
    "start_time": "2022-01-24T13:28:21.073Z"
   },
   {
    "duration": 8,
    "start_time": "2022-01-24T13:28:21.110Z"
   },
   {
    "duration": 34,
    "start_time": "2022-01-24T13:28:21.120Z"
   },
   {
    "duration": 11,
    "start_time": "2022-01-24T13:28:21.156Z"
   },
   {
    "duration": 47,
    "start_time": "2022-01-24T13:28:21.171Z"
   },
   {
    "duration": 12,
    "start_time": "2022-01-24T13:28:21.220Z"
   },
   {
    "duration": 19,
    "start_time": "2022-01-24T13:29:25.521Z"
   },
   {
    "duration": 61,
    "start_time": "2022-01-24T13:39:16.656Z"
   },
   {
    "duration": 12,
    "start_time": "2022-01-24T13:39:16.719Z"
   },
   {
    "duration": 11,
    "start_time": "2022-01-24T13:39:16.733Z"
   },
   {
    "duration": 8,
    "start_time": "2022-01-24T13:39:16.746Z"
   },
   {
    "duration": 6,
    "start_time": "2022-01-24T13:39:16.756Z"
   },
   {
    "duration": 44,
    "start_time": "2022-01-24T13:39:16.764Z"
   },
   {
    "duration": 6,
    "start_time": "2022-01-24T13:39:16.810Z"
   },
   {
    "duration": 19,
    "start_time": "2022-01-24T13:39:16.820Z"
   },
   {
    "duration": 22,
    "start_time": "2022-01-24T13:39:16.842Z"
   },
   {
    "duration": 17,
    "start_time": "2022-01-24T13:39:16.866Z"
   },
   {
    "duration": 53,
    "start_time": "2022-01-24T13:39:16.885Z"
   },
   {
    "duration": 3987,
    "start_time": "2022-01-24T13:39:16.941Z"
   },
   {
    "duration": 6,
    "start_time": "2022-01-24T13:39:20.930Z"
   },
   {
    "duration": 36,
    "start_time": "2022-01-24T13:39:20.938Z"
   },
   {
    "duration": 29,
    "start_time": "2022-01-24T13:39:20.976Z"
   },
   {
    "duration": 19,
    "start_time": "2022-01-24T13:39:21.006Z"
   },
   {
    "duration": 17,
    "start_time": "2022-01-24T13:39:21.027Z"
   },
   {
    "duration": 28,
    "start_time": "2022-01-24T13:39:21.045Z"
   },
   {
    "duration": 33,
    "start_time": "2022-01-24T13:39:21.075Z"
   },
   {
    "duration": 9,
    "start_time": "2022-01-24T13:39:21.110Z"
   },
   {
    "duration": 43,
    "start_time": "2022-01-24T13:39:21.121Z"
   },
   {
    "duration": 12,
    "start_time": "2022-01-24T13:39:21.166Z"
   },
   {
    "duration": 30,
    "start_time": "2022-01-24T13:39:21.181Z"
   },
   {
    "duration": 10,
    "start_time": "2022-01-24T13:39:21.223Z"
   },
   {
    "duration": 21,
    "start_time": "2022-01-24T13:45:29.005Z"
   },
   {
    "duration": 24,
    "start_time": "2022-01-24T13:49:36.191Z"
   },
   {
    "duration": 10,
    "start_time": "2022-01-24T13:51:46.682Z"
   },
   {
    "duration": 685,
    "start_time": "2022-01-24T14:40:25.572Z"
   },
   {
    "duration": 1027,
    "start_time": "2022-01-24T14:42:19.728Z"
   },
   {
    "duration": 6478,
    "start_time": "2022-01-24T14:43:36.788Z"
   },
   {
    "duration": 705,
    "start_time": "2022-01-31T18:26:37.119Z"
   },
   {
    "duration": 12,
    "start_time": "2022-01-31T18:26:37.827Z"
   },
   {
    "duration": 12,
    "start_time": "2022-01-31T18:26:37.841Z"
   },
   {
    "duration": 8,
    "start_time": "2022-01-31T18:26:37.855Z"
   },
   {
    "duration": 9,
    "start_time": "2022-01-31T18:26:37.865Z"
   },
   {
    "duration": 7,
    "start_time": "2022-01-31T18:26:37.876Z"
   },
   {
    "duration": 26,
    "start_time": "2022-01-31T18:26:37.885Z"
   },
   {
    "duration": 19,
    "start_time": "2022-01-31T18:26:37.913Z"
   },
   {
    "duration": 26,
    "start_time": "2022-01-31T18:26:37.936Z"
   },
   {
    "duration": 19,
    "start_time": "2022-01-31T18:26:37.964Z"
   },
   {
    "duration": 59,
    "start_time": "2022-01-31T18:26:37.985Z"
   },
   {
    "duration": 3982,
    "start_time": "2022-01-31T18:26:38.045Z"
   },
   {
    "duration": 7,
    "start_time": "2022-01-31T18:26:42.029Z"
   },
   {
    "duration": 23,
    "start_time": "2022-01-31T18:26:42.038Z"
   },
   {
    "duration": 44,
    "start_time": "2022-01-31T18:26:42.063Z"
   },
   {
    "duration": 21,
    "start_time": "2022-01-31T18:26:42.109Z"
   },
   {
    "duration": 20,
    "start_time": "2022-01-31T18:26:42.132Z"
   },
   {
    "duration": 53,
    "start_time": "2022-01-31T18:26:42.154Z"
   },
   {
    "duration": 16,
    "start_time": "2022-01-31T18:26:42.209Z"
   },
   {
    "duration": 9,
    "start_time": "2022-01-31T18:26:42.226Z"
   },
   {
    "duration": 32,
    "start_time": "2022-01-31T18:26:42.236Z"
   },
   {
    "duration": 10,
    "start_time": "2022-01-31T18:26:42.270Z"
   },
   {
    "duration": 45,
    "start_time": "2022-01-31T18:26:42.282Z"
   },
   {
    "duration": 9,
    "start_time": "2022-01-31T18:26:42.329Z"
   },
   {
    "duration": 26,
    "start_time": "2022-01-31T18:26:42.340Z"
   },
   {
    "duration": 9,
    "start_time": "2022-01-31T18:26:42.368Z"
   },
   {
    "duration": 407,
    "start_time": "2022-01-31T18:33:40.713Z"
   },
   {
    "duration": -1692,
    "start_time": "2022-01-31T18:33:42.815Z"
   },
   {
    "duration": 249,
    "start_time": "2022-01-31T18:33:41.305Z"
   },
   {
    "duration": 65,
    "start_time": "2022-01-31T18:33:47.639Z"
   },
   {
    "duration": 12,
    "start_time": "2022-01-31T18:33:47.706Z"
   },
   {
    "duration": 10,
    "start_time": "2022-01-31T18:33:47.720Z"
   },
   {
    "duration": 6,
    "start_time": "2022-01-31T18:33:47.732Z"
   },
   {
    "duration": 10,
    "start_time": "2022-01-31T18:33:47.739Z"
   },
   {
    "duration": 6,
    "start_time": "2022-01-31T18:33:47.751Z"
   },
   {
    "duration": 6,
    "start_time": "2022-01-31T18:33:47.759Z"
   },
   {
    "duration": 46,
    "start_time": "2022-01-31T18:33:47.767Z"
   },
   {
    "duration": 19,
    "start_time": "2022-01-31T18:33:47.816Z"
   },
   {
    "duration": 20,
    "start_time": "2022-01-31T18:33:47.838Z"
   },
   {
    "duration": 66,
    "start_time": "2022-01-31T18:33:47.861Z"
   },
   {
    "duration": 3957,
    "start_time": "2022-01-31T18:33:47.930Z"
   },
   {
    "duration": 19,
    "start_time": "2022-01-31T18:33:51.889Z"
   },
   {
    "duration": 18,
    "start_time": "2022-01-31T18:33:51.910Z"
   },
   {
    "duration": 21,
    "start_time": "2022-01-31T18:33:51.929Z"
   },
   {
    "duration": 22,
    "start_time": "2022-01-31T18:33:51.952Z"
   },
   {
    "duration": 49,
    "start_time": "2022-01-31T18:33:51.976Z"
   },
   {
    "duration": 27,
    "start_time": "2022-01-31T18:33:52.027Z"
   },
   {
    "duration": 10,
    "start_time": "2022-01-31T18:33:52.056Z"
   },
   {
    "duration": 283,
    "start_time": "2022-01-31T18:33:52.068Z"
   },
   {
    "duration": -1690,
    "start_time": "2022-01-31T18:33:54.044Z"
   },
   {
    "duration": -1690,
    "start_time": "2022-01-31T18:33:54.045Z"
   },
   {
    "duration": -1691,
    "start_time": "2022-01-31T18:33:54.047Z"
   },
   {
    "duration": -1691,
    "start_time": "2022-01-31T18:33:54.048Z"
   },
   {
    "duration": -1691,
    "start_time": "2022-01-31T18:33:54.049Z"
   },
   {
    "duration": -1691,
    "start_time": "2022-01-31T18:33:54.050Z"
   },
   {
    "duration": -1691,
    "start_time": "2022-01-31T18:33:54.051Z"
   },
   {
    "duration": -1691,
    "start_time": "2022-01-31T18:33:54.052Z"
   },
   {
    "duration": -1691,
    "start_time": "2022-01-31T18:33:54.053Z"
   },
   {
    "duration": 273,
    "start_time": "2022-01-31T18:34:23.658Z"
   },
   {
    "duration": 26,
    "start_time": "2022-01-31T18:34:35.012Z"
   },
   {
    "duration": 14,
    "start_time": "2022-01-31T18:34:48.581Z"
   },
   {
    "duration": 1297,
    "start_time": "2022-01-31T18:35:14.332Z"
   },
   {
    "duration": 18,
    "start_time": "2022-01-31T18:35:32.912Z"
   },
   {
    "duration": 27,
    "start_time": "2022-01-31T18:36:00.042Z"
   },
   {
    "duration": 15,
    "start_time": "2022-01-31T18:36:09.070Z"
   },
   {
    "duration": 18,
    "start_time": "2022-01-31T18:36:12.503Z"
   },
   {
    "duration": 14,
    "start_time": "2022-01-31T18:36:18.103Z"
   },
   {
    "duration": 46,
    "start_time": "2022-01-31T18:36:18.120Z"
   },
   {
    "duration": 112,
    "start_time": "2022-01-31T18:36:18.169Z"
   },
   {
    "duration": 21,
    "start_time": "2022-01-31T18:36:18.283Z"
   },
   {
    "duration": 24,
    "start_time": "2022-01-31T18:36:18.306Z"
   },
   {
    "duration": 11,
    "start_time": "2022-01-31T18:36:18.332Z"
   },
   {
    "duration": 26,
    "start_time": "2022-01-31T18:36:18.345Z"
   },
   {
    "duration": 34,
    "start_time": "2022-01-31T18:36:18.373Z"
   },
   {
    "duration": 305,
    "start_time": "2022-02-01T09:32:16.506Z"
   },
   {
    "duration": 805,
    "start_time": "2022-02-01T09:32:30.687Z"
   },
   {
    "duration": 15,
    "start_time": "2022-02-01T09:32:31.495Z"
   },
   {
    "duration": 310,
    "start_time": "2022-02-01T09:32:31.513Z"
   },
   {
    "duration": 465,
    "start_time": "2022-02-01T09:32:31.362Z"
   },
   {
    "duration": 461,
    "start_time": "2022-02-01T09:32:31.368Z"
   },
   {
    "duration": 451,
    "start_time": "2022-02-01T09:32:31.380Z"
   },
   {
    "duration": 443,
    "start_time": "2022-02-01T09:32:31.389Z"
   },
   {
    "duration": 435,
    "start_time": "2022-02-01T09:32:31.399Z"
   },
   {
    "duration": 422,
    "start_time": "2022-02-01T09:32:31.413Z"
   },
   {
    "duration": 417,
    "start_time": "2022-02-01T09:32:31.419Z"
   },
   {
    "duration": 408,
    "start_time": "2022-02-01T09:32:31.430Z"
   },
   {
    "duration": 402,
    "start_time": "2022-02-01T09:32:31.437Z"
   },
   {
    "duration": 392,
    "start_time": "2022-02-01T09:32:31.448Z"
   },
   {
    "duration": 388,
    "start_time": "2022-02-01T09:32:31.454Z"
   },
   {
    "duration": 381,
    "start_time": "2022-02-01T09:32:31.463Z"
   },
   {
    "duration": 375,
    "start_time": "2022-02-01T09:32:31.470Z"
   },
   {
    "duration": 367,
    "start_time": "2022-02-01T09:32:31.479Z"
   },
   {
    "duration": 363,
    "start_time": "2022-02-01T09:32:31.485Z"
   },
   {
    "duration": 355,
    "start_time": "2022-02-01T09:32:31.495Z"
   },
   {
    "duration": 351,
    "start_time": "2022-02-01T09:32:31.500Z"
   },
   {
    "duration": 341,
    "start_time": "2022-02-01T09:32:31.512Z"
   },
   {
    "duration": 337,
    "start_time": "2022-02-01T09:32:31.517Z"
   },
   {
    "duration": 327,
    "start_time": "2022-02-01T09:32:31.529Z"
   },
   {
    "duration": 323,
    "start_time": "2022-02-01T09:32:31.534Z"
   },
   {
    "duration": 312,
    "start_time": "2022-02-01T09:32:31.546Z"
   },
   {
    "duration": 305,
    "start_time": "2022-02-01T09:32:31.555Z"
   },
   {
    "duration": 297,
    "start_time": "2022-02-01T09:32:31.564Z"
   },
   {
    "duration": 288,
    "start_time": "2022-02-01T09:32:31.574Z"
   },
   {
    "duration": 282,
    "start_time": "2022-02-01T09:32:31.582Z"
   },
   {
    "duration": 276,
    "start_time": "2022-02-01T09:32:31.589Z"
   },
   {
    "duration": 14,
    "start_time": "2022-02-01T09:33:19.767Z"
   },
   {
    "duration": 13,
    "start_time": "2022-02-01T09:34:48.863Z"
   },
   {
    "duration": 73,
    "start_time": "2022-02-01T09:35:29.031Z"
   },
   {
    "duration": 11,
    "start_time": "2022-02-01T09:35:41.659Z"
   },
   {
    "duration": 84,
    "start_time": "2022-02-01T09:36:43.252Z"
   },
   {
    "duration": 26,
    "start_time": "2022-02-01T09:36:43.340Z"
   },
   {
    "duration": 11,
    "start_time": "2022-02-01T09:36:43.370Z"
   },
   {
    "duration": 56,
    "start_time": "2022-02-01T09:36:43.384Z"
   },
   {
    "duration": 8,
    "start_time": "2022-02-01T09:36:43.444Z"
   },
   {
    "duration": 9,
    "start_time": "2022-02-01T09:36:43.455Z"
   },
   {
    "duration": 6,
    "start_time": "2022-02-01T09:36:43.467Z"
   },
   {
    "duration": 55,
    "start_time": "2022-02-01T09:36:43.477Z"
   },
   {
    "duration": 18,
    "start_time": "2022-02-01T09:36:43.536Z"
   },
   {
    "duration": 38,
    "start_time": "2022-02-01T09:36:43.557Z"
   },
   {
    "duration": 60,
    "start_time": "2022-02-01T09:36:43.597Z"
   },
   {
    "duration": 87,
    "start_time": "2022-02-01T09:36:43.661Z"
   },
   {
    "duration": 5868,
    "start_time": "2022-02-01T09:36:43.751Z"
   },
   {
    "duration": 18,
    "start_time": "2022-02-01T09:36:49.623Z"
   },
   {
    "duration": 25,
    "start_time": "2022-02-01T09:36:49.644Z"
   },
   {
    "duration": 29,
    "start_time": "2022-02-01T09:36:49.672Z"
   },
   {
    "duration": 29,
    "start_time": "2022-02-01T09:36:49.733Z"
   },
   {
    "duration": 26,
    "start_time": "2022-02-01T09:36:49.764Z"
   },
   {
    "duration": 61,
    "start_time": "2022-02-01T09:36:49.793Z"
   },
   {
    "duration": 13,
    "start_time": "2022-02-01T09:36:49.856Z"
   },
   {
    "duration": 29,
    "start_time": "2022-02-01T09:36:49.871Z"
   },
   {
    "duration": 43,
    "start_time": "2022-02-01T09:36:49.902Z"
   },
   {
    "duration": 18,
    "start_time": "2022-02-01T09:36:49.949Z"
   },
   {
    "duration": 10,
    "start_time": "2022-02-01T09:36:49.970Z"
   },
   {
    "duration": 65,
    "start_time": "2022-02-01T09:36:49.982Z"
   },
   {
    "duration": 13,
    "start_time": "2022-02-01T09:36:50.050Z"
   },
   {
    "duration": 31,
    "start_time": "2022-02-01T09:36:50.066Z"
   },
   {
    "duration": 35,
    "start_time": "2022-02-01T09:36:50.100Z"
   },
   {
    "duration": 39,
    "start_time": "2022-02-01T09:36:50.137Z"
   },
   {
    "duration": 11,
    "start_time": "2022-02-01T09:36:50.178Z"
   },
   {
    "duration": 7,
    "start_time": "2022-02-01T09:37:49.816Z"
   },
   {
    "duration": 17,
    "start_time": "2022-02-01T09:38:45.180Z"
   },
   {
    "duration": 290,
    "start_time": "2022-02-01T09:39:07.956Z"
   },
   {
    "duration": 15,
    "start_time": "2022-02-01T09:42:16.665Z"
   },
   {
    "duration": 7,
    "start_time": "2022-02-01T09:46:11.934Z"
   },
   {
    "duration": 238,
    "start_time": "2022-02-01T09:46:54.035Z"
   },
   {
    "duration": 325,
    "start_time": "2022-02-01T09:47:12.726Z"
   },
   {
    "duration": 12,
    "start_time": "2022-02-01T09:54:40.189Z"
   },
   {
    "duration": 243,
    "start_time": "2022-02-01T09:55:34.366Z"
   },
   {
    "duration": 15,
    "start_time": "2022-02-01T09:56:24.307Z"
   },
   {
    "duration": 5,
    "start_time": "2022-02-01T09:59:59.392Z"
   },
   {
    "duration": 5,
    "start_time": "2022-02-01T10:00:07.804Z"
   },
   {
    "duration": 13,
    "start_time": "2022-02-01T10:00:38.827Z"
   },
   {
    "duration": 17,
    "start_time": "2022-02-01T10:01:08.591Z"
   },
   {
    "duration": 74,
    "start_time": "2022-02-01T10:02:58.501Z"
   },
   {
    "duration": 14,
    "start_time": "2022-02-01T10:02:58.577Z"
   },
   {
    "duration": 44,
    "start_time": "2022-02-01T10:02:58.594Z"
   },
   {
    "duration": 10,
    "start_time": "2022-02-01T10:05:24.073Z"
   },
   {
    "duration": 8,
    "start_time": "2022-02-01T10:05:35.617Z"
   },
   {
    "duration": 8,
    "start_time": "2022-02-01T10:08:26.371Z"
   },
   {
    "duration": 32,
    "start_time": "2022-02-01T10:09:37.679Z"
   },
   {
    "duration": 25,
    "start_time": "2022-02-01T10:10:00.468Z"
   },
   {
    "duration": 17,
    "start_time": "2022-02-01T10:11:25.007Z"
   },
   {
    "duration": 258,
    "start_time": "2022-02-01T10:18:20.877Z"
   },
   {
    "duration": 311,
    "start_time": "2022-02-01T10:18:41.829Z"
   },
   {
    "duration": 989,
    "start_time": "2022-02-01T10:19:54.409Z"
   },
   {
    "duration": 36,
    "start_time": "2022-02-01T10:20:05.702Z"
   },
   {
    "duration": 35,
    "start_time": "2022-02-01T10:20:36.410Z"
   },
   {
    "duration": 37,
    "start_time": "2022-02-01T10:20:50.586Z"
   },
   {
    "duration": 23,
    "start_time": "2022-02-01T10:21:06.465Z"
   },
   {
    "duration": 24,
    "start_time": "2022-02-01T10:22:50.436Z"
   },
   {
    "duration": 14,
    "start_time": "2022-02-01T10:23:16.391Z"
   },
   {
    "duration": 35,
    "start_time": "2022-02-01T10:23:27.555Z"
   },
   {
    "duration": 38,
    "start_time": "2022-02-01T10:23:35.335Z"
   },
   {
    "duration": 28,
    "start_time": "2022-02-01T10:23:43.027Z"
   },
   {
    "duration": 21,
    "start_time": "2022-02-01T10:23:51.370Z"
   },
   {
    "duration": 36,
    "start_time": "2022-02-01T10:24:14.973Z"
   },
   {
    "duration": 57,
    "start_time": "2022-02-01T10:24:20.787Z"
   },
   {
    "duration": 8,
    "start_time": "2022-02-01T10:27:23.165Z"
   },
   {
    "duration": 9,
    "start_time": "2022-02-01T10:27:45.800Z"
   },
   {
    "duration": 41,
    "start_time": "2022-02-01T10:35:52.267Z"
   },
   {
    "duration": 301,
    "start_time": "2022-02-01T10:37:25.261Z"
   },
   {
    "duration": 82,
    "start_time": "2022-02-01T10:37:47.571Z"
   },
   {
    "duration": 41,
    "start_time": "2022-02-01T10:37:50.451Z"
   },
   {
    "duration": 224,
    "start_time": "2022-02-01T10:39:46.416Z"
   },
   {
    "duration": 9,
    "start_time": "2022-02-01T10:40:09.572Z"
   },
   {
    "duration": 12,
    "start_time": "2022-02-01T10:40:31.733Z"
   },
   {
    "duration": 465,
    "start_time": "2022-02-01T10:47:20.082Z"
   },
   {
    "duration": 35,
    "start_time": "2022-02-01T10:47:57.772Z"
   },
   {
    "duration": 418,
    "start_time": "2022-02-01T19:31:13.700Z"
   },
   {
    "duration": 800,
    "start_time": "2022-02-01T19:31:27.252Z"
   },
   {
    "duration": 18,
    "start_time": "2022-02-01T19:31:28.055Z"
   },
   {
    "duration": 77,
    "start_time": "2022-02-01T19:31:28.076Z"
   },
   {
    "duration": 902,
    "start_time": "2022-02-01T19:31:48.212Z"
   },
   {
    "duration": 15,
    "start_time": "2022-02-01T19:32:11.351Z"
   },
   {
    "duration": 13,
    "start_time": "2022-02-01T19:36:32.661Z"
   },
   {
    "duration": 46,
    "start_time": "2022-02-01T19:39:38.422Z"
   },
   {
    "duration": 42,
    "start_time": "2022-02-01T19:45:44.565Z"
   },
   {
    "duration": 6,
    "start_time": "2022-02-01T20:02:49.326Z"
   },
   {
    "duration": 772,
    "start_time": "2022-02-01T20:02:52.410Z"
   },
   {
    "duration": 15,
    "start_time": "2022-02-01T20:03:00.693Z"
   },
   {
    "duration": 27,
    "start_time": "2022-02-01T20:10:45.249Z"
   },
   {
    "duration": 34,
    "start_time": "2022-02-01T20:11:06.073Z"
   },
   {
    "duration": 36,
    "start_time": "2022-02-01T20:12:04.909Z"
   },
   {
    "duration": 34,
    "start_time": "2022-02-01T20:21:57.752Z"
   },
   {
    "duration": 29,
    "start_time": "2022-02-01T20:22:03.156Z"
   },
   {
    "duration": 356,
    "start_time": "2022-02-01T20:28:28.210Z"
   },
   {
    "duration": 83,
    "start_time": "2022-02-01T20:28:33.690Z"
   },
   {
    "duration": 16,
    "start_time": "2022-02-01T20:28:33.777Z"
   },
   {
    "duration": 33,
    "start_time": "2022-02-01T20:28:33.796Z"
   },
   {
    "duration": 33,
    "start_time": "2022-02-01T20:28:33.832Z"
   },
   {
    "duration": 749,
    "start_time": "2022-02-01T20:28:33.867Z"
   },
   {
    "duration": 6,
    "start_time": "2022-02-01T20:28:34.619Z"
   },
   {
    "duration": 16,
    "start_time": "2022-02-01T20:28:34.628Z"
   },
   {
    "duration": 26,
    "start_time": "2022-02-01T20:28:34.647Z"
   },
   {
    "duration": 59,
    "start_time": "2022-02-01T20:28:34.676Z"
   },
   {
    "duration": 56,
    "start_time": "2022-02-01T20:28:34.738Z"
   },
   {
    "duration": 5706,
    "start_time": "2022-02-01T20:28:34.797Z"
   },
   {
    "duration": 14,
    "start_time": "2022-02-01T20:28:40.516Z"
   },
   {
    "duration": 113,
    "start_time": "2022-02-01T20:28:40.533Z"
   },
   {
    "duration": 78,
    "start_time": "2022-02-01T20:28:40.649Z"
   },
   {
    "duration": 41,
    "start_time": "2022-02-01T20:28:40.731Z"
   },
   {
    "duration": 65,
    "start_time": "2022-02-01T20:28:40.775Z"
   },
   {
    "duration": 45,
    "start_time": "2022-02-01T20:28:40.843Z"
   },
   {
    "duration": 35,
    "start_time": "2022-02-01T20:28:40.890Z"
   },
   {
    "duration": 29,
    "start_time": "2022-02-01T20:28:40.928Z"
   },
   {
    "duration": 21,
    "start_time": "2022-02-01T20:28:40.960Z"
   },
   {
    "duration": 43,
    "start_time": "2022-02-01T20:28:40.993Z"
   },
   {
    "duration": 10,
    "start_time": "2022-02-01T20:28:41.039Z"
   },
   {
    "duration": 80,
    "start_time": "2022-02-01T20:28:41.056Z"
   },
   {
    "duration": 19,
    "start_time": "2022-02-01T20:28:41.139Z"
   },
   {
    "duration": 70,
    "start_time": "2022-02-01T20:28:41.161Z"
   },
   {
    "duration": 19,
    "start_time": "2022-02-01T20:28:41.235Z"
   },
   {
    "duration": 32,
    "start_time": "2022-02-01T20:28:41.257Z"
   },
   {
    "duration": 41,
    "start_time": "2022-02-01T20:28:41.292Z"
   },
   {
    "duration": 34,
    "start_time": "2022-02-01T20:31:32.136Z"
   },
   {
    "duration": 28,
    "start_time": "2022-02-01T20:31:58.643Z"
   },
   {
    "duration": 120,
    "start_time": "2022-02-01T20:35:39.318Z"
   },
   {
    "duration": 22,
    "start_time": "2022-02-01T20:35:39.442Z"
   },
   {
    "duration": 16,
    "start_time": "2022-02-01T20:35:39.468Z"
   },
   {
    "duration": 32,
    "start_time": "2022-02-01T20:35:39.523Z"
   },
   {
    "duration": 670,
    "start_time": "2022-02-01T20:35:39.558Z"
   },
   {
    "duration": 6,
    "start_time": "2022-02-01T20:35:40.231Z"
   },
   {
    "duration": 19,
    "start_time": "2022-02-01T20:35:40.240Z"
   },
   {
    "duration": 24,
    "start_time": "2022-02-01T20:35:40.263Z"
   },
   {
    "duration": 57,
    "start_time": "2022-02-01T20:35:40.290Z"
   },
   {
    "duration": 99,
    "start_time": "2022-02-01T20:35:40.350Z"
   },
   {
    "duration": 5616,
    "start_time": "2022-02-01T20:35:40.453Z"
   },
   {
    "duration": 12,
    "start_time": "2022-02-01T20:35:46.072Z"
   },
   {
    "duration": 39,
    "start_time": "2022-02-01T20:35:46.086Z"
   },
   {
    "duration": 39,
    "start_time": "2022-02-01T20:35:46.128Z"
   },
   {
    "duration": 55,
    "start_time": "2022-02-01T20:35:46.170Z"
   },
   {
    "duration": 28,
    "start_time": "2022-02-01T20:35:46.228Z"
   },
   {
    "duration": 31,
    "start_time": "2022-02-01T20:35:46.259Z"
   },
   {
    "duration": 38,
    "start_time": "2022-02-01T20:35:46.292Z"
   },
   {
    "duration": 29,
    "start_time": "2022-02-01T20:35:46.333Z"
   },
   {
    "duration": 25,
    "start_time": "2022-02-01T20:35:46.365Z"
   },
   {
    "duration": 18,
    "start_time": "2022-02-01T20:35:46.424Z"
   },
   {
    "duration": 9,
    "start_time": "2022-02-01T20:35:46.445Z"
   },
   {
    "duration": 68,
    "start_time": "2022-02-01T20:35:46.459Z"
   },
   {
    "duration": 12,
    "start_time": "2022-02-01T20:35:46.531Z"
   },
   {
    "duration": 33,
    "start_time": "2022-02-01T20:35:46.546Z"
   },
   {
    "duration": 51,
    "start_time": "2022-02-01T20:35:46.582Z"
   },
   {
    "duration": 34,
    "start_time": "2022-02-01T20:35:46.636Z"
   },
   {
    "duration": 13,
    "start_time": "2022-02-01T20:35:46.673Z"
   },
   {
    "duration": 310,
    "start_time": "2022-02-02T14:38:34.366Z"
   },
   {
    "duration": 754,
    "start_time": "2022-02-02T14:38:44.210Z"
   },
   {
    "duration": 14,
    "start_time": "2022-02-02T14:38:44.966Z"
   },
   {
    "duration": 38,
    "start_time": "2022-02-02T14:38:44.982Z"
   },
   {
    "duration": 66,
    "start_time": "2022-02-02T14:38:45.023Z"
   },
   {
    "duration": 498,
    "start_time": "2022-02-02T14:38:45.091Z"
   },
   {
    "duration": 12,
    "start_time": "2022-02-02T14:38:45.591Z"
   },
   {
    "duration": 28,
    "start_time": "2022-02-02T14:38:45.605Z"
   },
   {
    "duration": 31,
    "start_time": "2022-02-02T14:38:45.635Z"
   },
   {
    "duration": 39,
    "start_time": "2022-02-02T14:38:45.669Z"
   },
   {
    "duration": 11,
    "start_time": "2022-02-02T14:38:48.475Z"
   },
   {
    "duration": 7,
    "start_time": "2022-02-02T14:40:07.392Z"
   },
   {
    "duration": 11,
    "start_time": "2022-02-02T14:40:15.725Z"
   },
   {
    "duration": 7,
    "start_time": "2022-02-02T14:40:53.225Z"
   },
   {
    "duration": 8,
    "start_time": "2022-02-02T14:41:06.484Z"
   },
   {
    "duration": 20,
    "start_time": "2022-02-02T14:44:04.577Z"
   },
   {
    "duration": 10,
    "start_time": "2022-02-02T14:44:16.345Z"
   },
   {
    "duration": 9,
    "start_time": "2022-02-02T14:45:18.929Z"
   },
   {
    "duration": 22,
    "start_time": "2022-02-02T14:45:28.773Z"
   },
   {
    "duration": 73,
    "start_time": "2022-02-02T14:46:45.454Z"
   },
   {
    "duration": 14,
    "start_time": "2022-02-02T14:46:45.530Z"
   },
   {
    "duration": 13,
    "start_time": "2022-02-02T14:46:45.547Z"
   },
   {
    "duration": 68,
    "start_time": "2022-02-02T14:46:45.563Z"
   },
   {
    "duration": 512,
    "start_time": "2022-02-02T14:46:45.633Z"
   },
   {
    "duration": 5,
    "start_time": "2022-02-02T14:46:46.147Z"
   },
   {
    "duration": 18,
    "start_time": "2022-02-02T14:46:46.153Z"
   },
   {
    "duration": 33,
    "start_time": "2022-02-02T14:46:46.174Z"
   },
   {
    "duration": 20,
    "start_time": "2022-02-02T14:46:46.210Z"
   },
   {
    "duration": 9,
    "start_time": "2022-02-02T14:46:46.232Z"
   },
   {
    "duration": 16,
    "start_time": "2022-02-02T14:46:46.243Z"
   },
   {
    "duration": 12,
    "start_time": "2022-02-02T14:46:46.261Z"
   },
   {
    "duration": 49,
    "start_time": "2022-02-02T14:46:46.276Z"
   },
   {
    "duration": 38,
    "start_time": "2022-02-02T14:46:46.327Z"
   },
   {
    "duration": 3909,
    "start_time": "2022-02-02T14:46:46.367Z"
   },
   {
    "duration": 6,
    "start_time": "2022-02-02T14:46:50.278Z"
   },
   {
    "duration": 34,
    "start_time": "2022-02-02T14:46:50.286Z"
   },
   {
    "duration": 21,
    "start_time": "2022-02-02T14:46:50.322Z"
   },
   {
    "duration": 21,
    "start_time": "2022-02-02T14:46:50.345Z"
   },
   {
    "duration": 47,
    "start_time": "2022-02-02T14:46:50.368Z"
   },
   {
    "duration": 23,
    "start_time": "2022-02-02T14:46:50.417Z"
   },
   {
    "duration": 12,
    "start_time": "2022-02-02T14:46:50.442Z"
   },
   {
    "duration": 48,
    "start_time": "2022-02-02T14:46:50.457Z"
   },
   {
    "duration": 19,
    "start_time": "2022-02-02T14:46:50.507Z"
   },
   {
    "duration": 22,
    "start_time": "2022-02-02T14:46:50.528Z"
   },
   {
    "duration": 7,
    "start_time": "2022-02-02T14:46:50.552Z"
   },
   {
    "duration": 51,
    "start_time": "2022-02-02T14:46:50.561Z"
   },
   {
    "duration": 10,
    "start_time": "2022-02-02T14:46:50.614Z"
   },
   {
    "duration": 24,
    "start_time": "2022-02-02T14:46:50.626Z"
   },
   {
    "duration": 10,
    "start_time": "2022-02-02T14:46:50.651Z"
   },
   {
    "duration": 50,
    "start_time": "2022-02-02T14:46:50.662Z"
   },
   {
    "duration": 10,
    "start_time": "2022-02-02T14:46:50.714Z"
   },
   {
    "duration": 629,
    "start_time": "2022-02-03T10:21:20.818Z"
   },
   {
    "duration": 9,
    "start_time": "2022-02-03T10:21:21.449Z"
   },
   {
    "duration": 8,
    "start_time": "2022-02-03T10:21:21.460Z"
   },
   {
    "duration": 18,
    "start_time": "2022-02-03T10:21:21.470Z"
   },
   {
    "duration": 361,
    "start_time": "2022-02-03T10:21:21.489Z"
   },
   {
    "duration": 3,
    "start_time": "2022-02-03T10:21:21.852Z"
   },
   {
    "duration": 31,
    "start_time": "2022-02-03T10:21:34.980Z"
   },
   {
    "duration": 17,
    "start_time": "2022-02-03T10:21:40.281Z"
   },
   {
    "duration": 4,
    "start_time": "2022-02-03T10:21:45.790Z"
   },
   {
    "duration": 366,
    "start_time": "2022-02-07T09:51:16.201Z"
   },
   {
    "duration": 630,
    "start_time": "2022-02-07T09:51:26.689Z"
   },
   {
    "duration": 9,
    "start_time": "2022-02-07T09:51:27.321Z"
   },
   {
    "duration": 18,
    "start_time": "2022-02-07T09:51:27.332Z"
   },
   {
    "duration": 34,
    "start_time": "2022-02-07T09:51:27.352Z"
   },
   {
    "duration": 362,
    "start_time": "2022-02-07T09:51:27.387Z"
   },
   {
    "duration": 3,
    "start_time": "2022-02-07T09:51:27.751Z"
   },
   {
    "duration": 46,
    "start_time": "2022-02-07T09:51:27.756Z"
   },
   {
    "duration": 16,
    "start_time": "2022-02-07T09:51:27.804Z"
   },
   {
    "duration": 18,
    "start_time": "2022-02-07T09:51:27.822Z"
   },
   {
    "duration": 31,
    "start_time": "2022-02-07T09:51:27.841Z"
   },
   {
    "duration": 29,
    "start_time": "2022-02-07T09:51:27.873Z"
   },
   {
    "duration": 28,
    "start_time": "2022-02-07T09:51:27.903Z"
   },
   {
    "duration": 6,
    "start_time": "2022-02-07T09:51:27.932Z"
   },
   {
    "duration": 21,
    "start_time": "2022-02-07T09:51:27.940Z"
   },
   {
    "duration": 20,
    "start_time": "2022-02-07T09:51:27.963Z"
   },
   {
    "duration": 21,
    "start_time": "2022-02-07T09:51:27.984Z"
   },
   {
    "duration": 36,
    "start_time": "2022-02-07T09:51:28.007Z"
   },
   {
    "duration": 3206,
    "start_time": "2022-02-07T09:51:28.044Z"
   },
   {
    "duration": 6,
    "start_time": "2022-02-07T09:51:31.251Z"
   },
   {
    "duration": 26,
    "start_time": "2022-02-07T09:51:31.258Z"
   },
   {
    "duration": 26,
    "start_time": "2022-02-07T09:51:31.286Z"
   },
   {
    "duration": 28,
    "start_time": "2022-02-07T09:51:31.314Z"
   },
   {
    "duration": 15,
    "start_time": "2022-02-07T09:51:31.345Z"
   },
   {
    "duration": 46,
    "start_time": "2022-02-07T09:51:31.362Z"
   },
   {
    "duration": 14,
    "start_time": "2022-02-07T09:51:31.410Z"
   },
   {
    "duration": 28,
    "start_time": "2022-02-07T09:51:31.425Z"
   },
   {
    "duration": 13,
    "start_time": "2022-02-07T09:51:31.455Z"
   },
   {
    "duration": 21,
    "start_time": "2022-02-07T09:51:31.470Z"
   },
   {
    "duration": 19,
    "start_time": "2022-02-07T09:51:31.493Z"
   },
   {
    "duration": 32,
    "start_time": "2022-02-07T09:51:31.513Z"
   },
   {
    "duration": 12,
    "start_time": "2022-02-07T09:51:31.547Z"
   },
   {
    "duration": 35,
    "start_time": "2022-02-07T09:51:31.561Z"
   },
   {
    "duration": 35,
    "start_time": "2022-02-07T09:51:31.597Z"
   },
   {
    "duration": 47,
    "start_time": "2022-02-07T09:51:31.633Z"
   },
   {
    "duration": 42,
    "start_time": "2022-02-07T09:51:31.682Z"
   },
   {
    "duration": 106,
    "start_time": "2022-02-07T11:43:27.477Z"
   },
   {
    "duration": 11,
    "start_time": "2022-02-07T11:43:27.584Z"
   },
   {
    "duration": 9,
    "start_time": "2022-02-07T11:43:27.597Z"
   },
   {
    "duration": 92,
    "start_time": "2022-02-07T11:43:27.607Z"
   },
   {
    "duration": 1396,
    "start_time": "2022-02-07T11:43:27.701Z"
   },
   {
    "duration": 4,
    "start_time": "2022-02-07T11:43:29.099Z"
   },
   {
    "duration": 87,
    "start_time": "2022-02-07T11:43:29.105Z"
   },
   {
    "duration": 18,
    "start_time": "2022-02-07T11:43:29.195Z"
   },
   {
    "duration": 58,
    "start_time": "2022-02-07T11:43:29.215Z"
   },
   {
    "duration": 10,
    "start_time": "2022-02-07T11:43:29.276Z"
   },
   {
    "duration": 15,
    "start_time": "2022-02-07T11:43:29.288Z"
   },
   {
    "duration": 77,
    "start_time": "2022-02-07T11:43:29.305Z"
   },
   {
    "duration": 7,
    "start_time": "2022-02-07T11:43:29.384Z"
   },
   {
    "duration": 12,
    "start_time": "2022-02-07T11:43:29.393Z"
   },
   {
    "duration": 70,
    "start_time": "2022-02-07T11:43:29.407Z"
   },
   {
    "duration": 18,
    "start_time": "2022-02-07T11:43:29.479Z"
   },
   {
    "duration": 91,
    "start_time": "2022-02-07T11:43:29.499Z"
   },
   {
    "duration": 7820,
    "start_time": "2022-02-07T11:43:29.592Z"
   },
   {
    "duration": 60,
    "start_time": "2022-02-07T11:43:37.414Z"
   },
   {
    "duration": 20,
    "start_time": "2022-02-07T11:43:37.476Z"
   },
   {
    "duration": 81,
    "start_time": "2022-02-07T11:43:37.498Z"
   },
   {
    "duration": 18,
    "start_time": "2022-02-07T11:43:37.582Z"
   },
   {
    "duration": 77,
    "start_time": "2022-02-07T11:43:37.603Z"
   },
   {
    "duration": 22,
    "start_time": "2022-02-07T11:43:37.683Z"
   },
   {
    "duration": 7,
    "start_time": "2022-02-07T11:43:37.707Z"
   },
   {
    "duration": 18,
    "start_time": "2022-02-07T11:43:37.783Z"
   },
   {
    "duration": 11,
    "start_time": "2022-02-07T11:43:37.803Z"
   },
   {
    "duration": 65,
    "start_time": "2022-02-07T11:43:37.816Z"
   },
   {
    "duration": 7,
    "start_time": "2022-02-07T11:43:37.883Z"
   },
   {
    "duration": 96,
    "start_time": "2022-02-07T11:43:37.892Z"
   },
   {
    "duration": 11,
    "start_time": "2022-02-07T11:43:37.990Z"
   },
   {
    "duration": 82,
    "start_time": "2022-02-07T11:43:38.003Z"
   },
   {
    "duration": 8,
    "start_time": "2022-02-07T11:43:38.087Z"
   },
   {
    "duration": 86,
    "start_time": "2022-02-07T11:43:38.096Z"
   },
   {
    "duration": 8,
    "start_time": "2022-02-07T11:43:38.184Z"
   },
   {
    "duration": 512,
    "start_time": "2022-08-11T09:16:14.219Z"
   },
   {
    "duration": 213,
    "start_time": "2022-08-11T09:16:19.302Z"
   },
   {
    "duration": 2,
    "start_time": "2022-08-11T09:35:47.783Z"
   },
   {
    "duration": 140,
    "start_time": "2022-08-11T09:35:47.789Z"
   },
   {
    "duration": 18,
    "start_time": "2022-08-11T09:35:47.931Z"
   },
   {
    "duration": 12,
    "start_time": "2022-08-11T09:35:47.951Z"
   },
   {
    "duration": 59,
    "start_time": "2022-08-11T09:35:47.965Z"
   },
   {
    "duration": 274,
    "start_time": "2022-08-11T09:35:48.025Z"
   },
   {
    "duration": 4,
    "start_time": "2022-08-11T09:35:48.309Z"
   },
   {
    "duration": 25,
    "start_time": "2022-08-11T09:35:48.315Z"
   },
   {
    "duration": 17,
    "start_time": "2022-08-11T09:35:48.343Z"
   },
   {
    "duration": 49,
    "start_time": "2022-08-11T09:35:48.363Z"
   },
   {
    "duration": 8,
    "start_time": "2022-08-11T09:35:48.416Z"
   },
   {
    "duration": 15,
    "start_time": "2022-08-11T09:35:48.425Z"
   },
   {
    "duration": 16,
    "start_time": "2022-08-11T09:35:48.442Z"
   },
   {
    "duration": 44,
    "start_time": "2022-08-11T09:35:48.460Z"
   },
   {
    "duration": 42,
    "start_time": "2022-08-11T09:35:48.506Z"
   },
   {
    "duration": 5355,
    "start_time": "2022-08-11T09:35:48.550Z"
   },
   {
    "duration": 5,
    "start_time": "2022-08-11T09:35:53.907Z"
   },
   {
    "duration": 35,
    "start_time": "2022-08-11T09:35:53.914Z"
   },
   {
    "duration": 25,
    "start_time": "2022-08-11T09:35:53.951Z"
   },
   {
    "duration": 32,
    "start_time": "2022-08-11T09:35:53.978Z"
   },
   {
    "duration": 31,
    "start_time": "2022-08-11T09:35:54.012Z"
   },
   {
    "duration": 28,
    "start_time": "2022-08-11T09:35:54.045Z"
   },
   {
    "duration": 9,
    "start_time": "2022-08-11T09:35:54.075Z"
   },
   {
    "duration": 14,
    "start_time": "2022-08-11T09:35:54.086Z"
   },
   {
    "duration": 38,
    "start_time": "2022-08-11T09:35:54.102Z"
   },
   {
    "duration": 10,
    "start_time": "2022-08-11T09:35:54.141Z"
   },
   {
    "duration": 23,
    "start_time": "2022-08-11T09:35:54.153Z"
   },
   {
    "duration": 31,
    "start_time": "2022-08-11T09:35:54.177Z"
   },
   {
    "duration": 21,
    "start_time": "2022-08-11T09:35:54.212Z"
   },
   {
    "duration": 9,
    "start_time": "2022-08-11T09:35:54.235Z"
   },
   {
    "duration": 3,
    "start_time": "2022-08-11T09:37:20.307Z"
   },
   {
    "duration": 114,
    "start_time": "2022-08-11T09:37:20.312Z"
   },
   {
    "duration": 16,
    "start_time": "2022-08-11T09:37:20.428Z"
   },
   {
    "duration": 19,
    "start_time": "2022-08-11T09:37:20.446Z"
   },
   {
    "duration": 49,
    "start_time": "2022-08-11T09:37:20.466Z"
   },
   {
    "duration": 259,
    "start_time": "2022-08-11T09:37:20.517Z"
   },
   {
    "duration": 4,
    "start_time": "2022-08-11T09:37:20.778Z"
   },
   {
    "duration": 24,
    "start_time": "2022-08-11T09:37:20.792Z"
   },
   {
    "duration": 21,
    "start_time": "2022-08-11T09:37:20.819Z"
   },
   {
    "duration": 19,
    "start_time": "2022-08-11T09:37:20.842Z"
   },
   {
    "duration": 7,
    "start_time": "2022-08-11T09:37:20.863Z"
   },
   {
    "duration": 17,
    "start_time": "2022-08-11T09:37:20.895Z"
   },
   {
    "duration": 9,
    "start_time": "2022-08-11T09:37:20.914Z"
   },
   {
    "duration": 27,
    "start_time": "2022-08-11T09:37:20.924Z"
   },
   {
    "duration": 65,
    "start_time": "2022-08-11T09:37:20.953Z"
   },
   {
    "duration": 6131,
    "start_time": "2022-08-11T09:37:21.020Z"
   },
   {
    "duration": 9,
    "start_time": "2022-08-11T09:37:27.153Z"
   },
   {
    "duration": 37,
    "start_time": "2022-08-11T09:37:27.164Z"
   },
   {
    "duration": 50,
    "start_time": "2022-08-11T09:37:27.208Z"
   },
   {
    "duration": 28,
    "start_time": "2022-08-11T09:37:27.259Z"
   },
   {
    "duration": 47,
    "start_time": "2022-08-11T09:37:27.289Z"
   },
   {
    "duration": 40,
    "start_time": "2022-08-11T09:37:27.338Z"
   },
   {
    "duration": 27,
    "start_time": "2022-08-11T09:37:27.380Z"
   },
   {
    "duration": 25,
    "start_time": "2022-08-11T09:37:27.411Z"
   },
   {
    "duration": 29,
    "start_time": "2022-08-11T09:37:27.438Z"
   },
   {
    "duration": 9,
    "start_time": "2022-08-11T09:37:27.469Z"
   },
   {
    "duration": 38,
    "start_time": "2022-08-11T09:37:27.480Z"
   },
   {
    "duration": 18,
    "start_time": "2022-08-11T09:37:27.520Z"
   },
   {
    "duration": 27,
    "start_time": "2022-08-11T09:37:27.540Z"
   },
   {
    "duration": 10,
    "start_time": "2022-08-11T09:37:27.569Z"
   },
   {
    "duration": 436,
    "start_time": "2022-08-11T09:38:15.106Z"
   },
   {
    "duration": 324,
    "start_time": "2022-08-11T09:38:29.683Z"
   },
   {
    "duration": 426,
    "start_time": "2022-08-11T09:38:51.215Z"
   },
   {
    "duration": 560,
    "start_time": "2022-08-11T09:39:26.736Z"
   },
   {
    "duration": 3,
    "start_time": "2022-08-11T09:39:34.900Z"
   },
   {
    "duration": 121,
    "start_time": "2022-08-11T09:39:34.905Z"
   },
   {
    "duration": 15,
    "start_time": "2022-08-11T09:39:35.028Z"
   },
   {
    "duration": 24,
    "start_time": "2022-08-11T09:39:35.046Z"
   },
   {
    "duration": 34,
    "start_time": "2022-08-11T09:39:35.072Z"
   },
   {
    "duration": 252,
    "start_time": "2022-08-11T09:39:35.107Z"
   },
   {
    "duration": 3,
    "start_time": "2022-08-11T09:39:35.361Z"
   },
   {
    "duration": 15,
    "start_time": "2022-08-11T09:39:35.366Z"
   },
   {
    "duration": 23,
    "start_time": "2022-08-11T09:39:35.391Z"
   },
   {
    "duration": 20,
    "start_time": "2022-08-11T09:39:35.416Z"
   },
   {
    "duration": 7,
    "start_time": "2022-08-11T09:39:35.438Z"
   },
   {
    "duration": 15,
    "start_time": "2022-08-11T09:39:35.446Z"
   },
   {
    "duration": 32,
    "start_time": "2022-08-11T09:39:35.463Z"
   },
   {
    "duration": 26,
    "start_time": "2022-08-11T09:39:35.499Z"
   },
   {
    "duration": 40,
    "start_time": "2022-08-11T09:39:35.527Z"
   },
   {
    "duration": 3704,
    "start_time": "2022-08-11T09:39:41.360Z"
   },
   {
    "duration": 3552,
    "start_time": "2022-08-11T09:40:09.845Z"
   },
   {
    "duration": 702,
    "start_time": "2022-08-11T09:40:35.349Z"
   },
   {
    "duration": 3,
    "start_time": "2022-08-11T09:40:49.228Z"
   },
   {
    "duration": 108,
    "start_time": "2022-08-11T09:40:49.234Z"
   },
   {
    "duration": 18,
    "start_time": "2022-08-11T09:40:49.344Z"
   },
   {
    "duration": 13,
    "start_time": "2022-08-11T09:40:49.364Z"
   },
   {
    "duration": 34,
    "start_time": "2022-08-11T09:40:49.392Z"
   },
   {
    "duration": 283,
    "start_time": "2022-08-11T09:40:49.428Z"
   },
   {
    "duration": 5,
    "start_time": "2022-08-11T09:40:49.712Z"
   },
   {
    "duration": 37,
    "start_time": "2022-08-11T09:40:49.718Z"
   },
   {
    "duration": 20,
    "start_time": "2022-08-11T09:40:49.758Z"
   },
   {
    "duration": 21,
    "start_time": "2022-08-11T09:40:49.780Z"
   },
   {
    "duration": 7,
    "start_time": "2022-08-11T09:40:49.803Z"
   },
   {
    "duration": 24,
    "start_time": "2022-08-11T09:40:49.812Z"
   },
   {
    "duration": 20,
    "start_time": "2022-08-11T09:40:49.838Z"
   },
   {
    "duration": 44,
    "start_time": "2022-08-11T09:40:49.860Z"
   },
   {
    "duration": 50,
    "start_time": "2022-08-11T09:40:49.906Z"
   },
   {
    "duration": 4231,
    "start_time": "2022-08-11T09:40:54.083Z"
   },
   {
    "duration": 3,
    "start_time": "2022-08-11T09:41:46.855Z"
   },
   {
    "duration": 105,
    "start_time": "2022-08-11T09:41:46.860Z"
   },
   {
    "duration": 16,
    "start_time": "2022-08-11T09:41:46.966Z"
   },
   {
    "duration": 19,
    "start_time": "2022-08-11T09:41:46.984Z"
   },
   {
    "duration": 34,
    "start_time": "2022-08-11T09:41:47.005Z"
   },
   {
    "duration": 239,
    "start_time": "2022-08-11T09:41:47.041Z"
   },
   {
    "duration": 4,
    "start_time": "2022-08-11T09:41:47.282Z"
   },
   {
    "duration": 20,
    "start_time": "2022-08-11T09:41:47.292Z"
   },
   {
    "duration": 24,
    "start_time": "2022-08-11T09:41:47.314Z"
   },
   {
    "duration": 19,
    "start_time": "2022-08-11T09:41:47.340Z"
   },
   {
    "duration": 8,
    "start_time": "2022-08-11T09:41:47.360Z"
   },
   {
    "duration": 33,
    "start_time": "2022-08-11T09:41:47.369Z"
   },
   {
    "duration": 12,
    "start_time": "2022-08-11T09:41:47.404Z"
   },
   {
    "duration": 22,
    "start_time": "2022-08-11T09:41:47.417Z"
   },
   {
    "duration": 58,
    "start_time": "2022-08-11T09:41:47.441Z"
   },
   {
    "duration": 4275,
    "start_time": "2022-08-11T09:41:52.524Z"
   },
   {
    "duration": 3,
    "start_time": "2022-08-11T09:43:20.582Z"
   },
   {
    "duration": 105,
    "start_time": "2022-08-11T09:43:20.587Z"
   },
   {
    "duration": 16,
    "start_time": "2022-08-11T09:43:20.693Z"
   },
   {
    "duration": 17,
    "start_time": "2022-08-11T09:43:20.710Z"
   },
   {
    "duration": 22,
    "start_time": "2022-08-11T09:43:20.729Z"
   },
   {
    "duration": 254,
    "start_time": "2022-08-11T09:43:20.753Z"
   },
   {
    "duration": 3,
    "start_time": "2022-08-11T09:43:21.009Z"
   },
   {
    "duration": 21,
    "start_time": "2022-08-11T09:43:21.014Z"
   },
   {
    "duration": 19,
    "start_time": "2022-08-11T09:43:21.036Z"
   },
   {
    "duration": 18,
    "start_time": "2022-08-11T09:43:21.057Z"
   },
   {
    "duration": 16,
    "start_time": "2022-08-11T09:43:21.078Z"
   },
   {
    "duration": 14,
    "start_time": "2022-08-11T09:43:21.095Z"
   },
   {
    "duration": 8,
    "start_time": "2022-08-11T09:43:21.110Z"
   },
   {
    "duration": 21,
    "start_time": "2022-08-11T09:43:21.120Z"
   },
   {
    "duration": 65,
    "start_time": "2022-08-11T09:43:21.143Z"
   },
   {
    "duration": 4264,
    "start_time": "2022-08-11T09:43:21.210Z"
   },
   {
    "duration": 7,
    "start_time": "2022-08-11T09:43:25.475Z"
   },
   {
    "duration": 28,
    "start_time": "2022-08-11T09:43:25.483Z"
   },
   {
    "duration": 23,
    "start_time": "2022-08-11T09:43:25.513Z"
   },
   {
    "duration": 26,
    "start_time": "2022-08-11T09:43:25.538Z"
   },
   {
    "duration": 29,
    "start_time": "2022-08-11T09:43:25.566Z"
   },
   {
    "duration": 26,
    "start_time": "2022-08-11T09:43:25.596Z"
   },
   {
    "duration": 11,
    "start_time": "2022-08-11T09:43:25.624Z"
   },
   {
    "duration": 9,
    "start_time": "2022-08-11T09:43:25.636Z"
   },
   {
    "duration": 55,
    "start_time": "2022-08-11T09:43:25.647Z"
   },
   {
    "duration": 10,
    "start_time": "2022-08-11T09:43:25.704Z"
   },
   {
    "duration": 34,
    "start_time": "2022-08-11T09:43:25.716Z"
   },
   {
    "duration": 13,
    "start_time": "2022-08-11T09:43:25.752Z"
   },
   {
    "duration": 33,
    "start_time": "2022-08-11T09:43:25.768Z"
   },
   {
    "duration": 8,
    "start_time": "2022-08-11T09:43:25.803Z"
   },
   {
    "duration": 3,
    "start_time": "2022-08-11T09:43:58.257Z"
   },
   {
    "duration": 88,
    "start_time": "2022-08-11T09:43:58.264Z"
   },
   {
    "duration": 15,
    "start_time": "2022-08-11T09:43:58.354Z"
   },
   {
    "duration": 25,
    "start_time": "2022-08-11T09:43:58.371Z"
   },
   {
    "duration": 23,
    "start_time": "2022-08-11T09:43:58.398Z"
   },
   {
    "duration": 247,
    "start_time": "2022-08-11T09:43:58.423Z"
   },
   {
    "duration": 4,
    "start_time": "2022-08-11T09:43:58.671Z"
   },
   {
    "duration": 19,
    "start_time": "2022-08-11T09:43:58.676Z"
   },
   {
    "duration": 18,
    "start_time": "2022-08-11T09:43:58.697Z"
   },
   {
    "duration": 19,
    "start_time": "2022-08-11T09:43:58.717Z"
   },
   {
    "duration": 7,
    "start_time": "2022-08-11T09:43:58.738Z"
   },
   {
    "duration": 13,
    "start_time": "2022-08-11T09:43:58.747Z"
   },
   {
    "duration": 34,
    "start_time": "2022-08-11T09:43:58.762Z"
   },
   {
    "duration": 24,
    "start_time": "2022-08-11T09:43:58.798Z"
   },
   {
    "duration": 39,
    "start_time": "2022-08-11T09:43:58.824Z"
   },
   {
    "duration": 3623,
    "start_time": "2022-08-11T09:44:01.586Z"
   },
   {
    "duration": 3,
    "start_time": "2022-08-11T09:44:28.679Z"
   },
   {
    "duration": 95,
    "start_time": "2022-08-11T09:44:28.687Z"
   },
   {
    "duration": 20,
    "start_time": "2022-08-11T09:44:28.784Z"
   },
   {
    "duration": 11,
    "start_time": "2022-08-11T09:44:28.806Z"
   },
   {
    "duration": 22,
    "start_time": "2022-08-11T09:44:28.819Z"
   },
   {
    "duration": 261,
    "start_time": "2022-08-11T09:44:28.843Z"
   },
   {
    "duration": 3,
    "start_time": "2022-08-11T09:44:29.106Z"
   },
   {
    "duration": 15,
    "start_time": "2022-08-11T09:44:29.111Z"
   },
   {
    "duration": 21,
    "start_time": "2022-08-11T09:44:29.127Z"
   },
   {
    "duration": 19,
    "start_time": "2022-08-11T09:44:29.150Z"
   },
   {
    "duration": 22,
    "start_time": "2022-08-11T09:44:29.173Z"
   },
   {
    "duration": 14,
    "start_time": "2022-08-11T09:44:29.197Z"
   },
   {
    "duration": 13,
    "start_time": "2022-08-11T09:44:29.212Z"
   },
   {
    "duration": 26,
    "start_time": "2022-08-11T09:44:29.226Z"
   },
   {
    "duration": 64,
    "start_time": "2022-08-11T09:44:29.254Z"
   },
   {
    "duration": 3792,
    "start_time": "2022-08-11T09:44:29.320Z"
   },
   {
    "duration": 6,
    "start_time": "2022-08-11T09:44:33.114Z"
   },
   {
    "duration": 21,
    "start_time": "2022-08-11T09:44:33.122Z"
   },
   {
    "duration": 20,
    "start_time": "2022-08-11T09:44:33.145Z"
   },
   {
    "duration": 41,
    "start_time": "2022-08-11T09:44:33.167Z"
   },
   {
    "duration": 17,
    "start_time": "2022-08-11T09:44:33.210Z"
   },
   {
    "duration": 28,
    "start_time": "2022-08-11T09:44:33.229Z"
   },
   {
    "duration": 34,
    "start_time": "2022-08-11T09:44:33.258Z"
   },
   {
    "duration": 7,
    "start_time": "2022-08-11T09:44:33.294Z"
   },
   {
    "duration": 32,
    "start_time": "2022-08-11T09:44:33.303Z"
   },
   {
    "duration": 9,
    "start_time": "2022-08-11T09:44:33.337Z"
   },
   {
    "duration": 21,
    "start_time": "2022-08-11T09:44:33.348Z"
   },
   {
    "duration": 10,
    "start_time": "2022-08-11T09:44:33.391Z"
   },
   {
    "duration": 22,
    "start_time": "2022-08-11T09:44:33.404Z"
   },
   {
    "duration": 10,
    "start_time": "2022-08-11T09:44:33.428Z"
   }
  ],
  "kernelspec": {
   "display_name": "Python 3 (ipykernel)",
   "language": "python",
   "name": "python3"
  },
  "language_info": {
   "codemirror_mode": {
    "name": "ipython",
    "version": 3
   },
   "file_extension": ".py",
   "mimetype": "text/x-python",
   "name": "python",
   "nbconvert_exporter": "python",
   "pygments_lexer": "ipython3",
   "version": "3.9.5"
  },
  "toc": {
   "base_numbering": 1,
   "nav_menu": {},
   "number_sections": true,
   "sideBar": true,
   "skip_h1_title": true,
   "title_cell": "Table of Contents",
   "title_sidebar": "Contents",
   "toc_cell": false,
   "toc_position": {
    "height": "calc(100% - 180px)",
    "left": "10px",
    "top": "150px",
    "width": "341.5px"
   },
   "toc_section_display": true,
   "toc_window_display": true
  }
 },
 "nbformat": 4,
 "nbformat_minor": 2
}
