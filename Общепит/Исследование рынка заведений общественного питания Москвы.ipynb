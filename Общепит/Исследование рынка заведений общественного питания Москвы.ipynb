{
 "cells": [
  {
   "cell_type": "markdown",
   "metadata": {},
   "source": [
    "# Исследование рынка заведений общественного питания Москвы"
   ]
  },
  {
   "cell_type": "markdown",
   "metadata": {},
   "source": [
    "Мы решили открыть небольшое кафе в Москве. Оно оригинальное — гостей должны обслуживать роботы. Проект многообещающий, но дорогой. Для реализации проекта решено обратиться к инвесторам. Их интересует текущее положение дел на рынке — сможете ли вы снискать популярность на долгое время, когда все зеваки насмотрятся на роботов-официантов?\n",
    "\n",
    "Необходимо подготовить исследование рынка. У нас есть открытые данные о заведениях общественного питания в Москве.\n",
    "\n",
    "В процессе выполнения предстоит выполнить следующие действия:\n",
    "- загрузить данные, ознакомиться с ними\n",
    "- обработать пропуски и дубликаты при их наличии\n",
    "- рассмотрим объекты общественного питания по видам\n",
    "- рассмотрим местонахождение объектов на территории Москвы\n",
    "- на основе рассмотренных данных сделаем выводы и рекомендации\n",
    "- подготовим презентацию исследования для инвесторов."
   ]
  },
  {
   "cell_type": "markdown",
   "metadata": {},
   "source": [
    "## Изучение данных"
   ]
  },
  {
   "cell_type": "code",
   "execution_count": 33,
   "metadata": {},
   "outputs": [],
   "source": [
    "import pandas as pd\n",
    "import matplotlib.pyplot as plt\n",
    "import seaborn as sns\n",
    "import numpy as np\n",
    "import plotly.express as px \n",
    "from plotly import graph_objects as go\n",
    "from io import BytesIO\n",
    "import requests"
   ]
  },
  {
   "cell_type": "code",
   "execution_count": 34,
   "metadata": {
    "scrolled": false
   },
   "outputs": [
    {
     "name": "stdout",
     "output_type": "stream",
     "text": [
      "<class 'pandas.core.frame.DataFrame'>\n",
      "RangeIndex: 15366 entries, 0 to 15365\n",
      "Data columns (total 6 columns):\n",
      " #   Column       Non-Null Count  Dtype \n",
      "---  ------       --------------  ----- \n",
      " 0   id           15366 non-null  int64 \n",
      " 1   object_name  15366 non-null  object\n",
      " 2   chain        15366 non-null  object\n",
      " 3   object_type  15366 non-null  object\n",
      " 4   address      15366 non-null  object\n",
      " 5   number       15366 non-null  int64 \n",
      "dtypes: int64(2), object(4)\n",
      "memory usage: 720.4+ KB\n"
     ]
    },
    {
     "data": {
      "text/html": [
       "<div>\n",
       "<style scoped>\n",
       "    .dataframe tbody tr th:only-of-type {\n",
       "        vertical-align: middle;\n",
       "    }\n",
       "\n",
       "    .dataframe tbody tr th {\n",
       "        vertical-align: top;\n",
       "    }\n",
       "\n",
       "    .dataframe thead th {\n",
       "        text-align: right;\n",
       "    }\n",
       "</style>\n",
       "<table border=\"1\" class=\"dataframe\">\n",
       "  <thead>\n",
       "    <tr style=\"text-align: right;\">\n",
       "      <th></th>\n",
       "      <th>id</th>\n",
       "      <th>object_name</th>\n",
       "      <th>chain</th>\n",
       "      <th>object_type</th>\n",
       "      <th>address</th>\n",
       "      <th>number</th>\n",
       "    </tr>\n",
       "  </thead>\n",
       "  <tbody>\n",
       "    <tr>\n",
       "      <th>0</th>\n",
       "      <td>151635</td>\n",
       "      <td>СМЕТАНА</td>\n",
       "      <td>нет</td>\n",
       "      <td>кафе</td>\n",
       "      <td>город Москва, улица Егора Абакумова, дом 9</td>\n",
       "      <td>48</td>\n",
       "    </tr>\n",
       "    <tr>\n",
       "      <th>1</th>\n",
       "      <td>77874</td>\n",
       "      <td>Родник</td>\n",
       "      <td>нет</td>\n",
       "      <td>кафе</td>\n",
       "      <td>город Москва, улица Талалихина, дом 2/1, корпус 1</td>\n",
       "      <td>35</td>\n",
       "    </tr>\n",
       "    <tr>\n",
       "      <th>2</th>\n",
       "      <td>24309</td>\n",
       "      <td>Кафе «Академия»</td>\n",
       "      <td>нет</td>\n",
       "      <td>кафе</td>\n",
       "      <td>город Москва, Абельмановская улица, дом 6</td>\n",
       "      <td>95</td>\n",
       "    </tr>\n",
       "    <tr>\n",
       "      <th>3</th>\n",
       "      <td>21894</td>\n",
       "      <td>ПИЦЦЕТОРИЯ</td>\n",
       "      <td>да</td>\n",
       "      <td>кафе</td>\n",
       "      <td>город Москва, Абрамцевская улица, дом 1</td>\n",
       "      <td>40</td>\n",
       "    </tr>\n",
       "    <tr>\n",
       "      <th>4</th>\n",
       "      <td>119365</td>\n",
       "      <td>Кафе «Вишневая метель»</td>\n",
       "      <td>нет</td>\n",
       "      <td>кафе</td>\n",
       "      <td>город Москва, Абрамцевская улица, дом 9, корпус 1</td>\n",
       "      <td>50</td>\n",
       "    </tr>\n",
       "  </tbody>\n",
       "</table>\n",
       "</div>"
      ],
      "text/plain": [
       "       id             object_name chain object_type  \\\n",
       "0  151635                 СМЕТАНА   нет        кафе   \n",
       "1   77874                  Родник   нет        кафе   \n",
       "2   24309         Кафе «Академия»   нет        кафе   \n",
       "3   21894              ПИЦЦЕТОРИЯ    да        кафе   \n",
       "4  119365  Кафе «Вишневая метель»   нет        кафе   \n",
       "\n",
       "                                             address  number  \n",
       "0         город Москва, улица Егора Абакумова, дом 9      48  \n",
       "1  город Москва, улица Талалихина, дом 2/1, корпус 1      35  \n",
       "2          город Москва, Абельмановская улица, дом 6      95  \n",
       "3            город Москва, Абрамцевская улица, дом 1      40  \n",
       "4  город Москва, Абрамцевская улица, дом 9, корпус 1      50  "
      ]
     },
     "execution_count": 34,
     "metadata": {},
     "output_type": "execute_result"
    }
   ],
   "source": [
    "rest = pd.read_csv('/datasets/rest_data.csv')\n",
    "rest.info()\n",
    "rest.head()"
   ]
  },
  {
   "cell_type": "markdown",
   "metadata": {},
   "source": [
    "Сделаем все буквы строчными и проверим на дубликаты."
   ]
  },
  {
   "cell_type": "code",
   "execution_count": 35,
   "metadata": {},
   "outputs": [
    {
     "data": {
      "text/plain": [
       "85"
      ]
     },
     "execution_count": 35,
     "metadata": {},
     "output_type": "execute_result"
    }
   ],
   "source": [
    "for column in ['object_name', 'chain', 'object_type', 'address']:\n",
    "    rest[column] = rest[column].str.lower()\n",
    "    \n",
    "rest = rest[['object_name', 'chain', 'object_type', 'address', 'number']]\n",
    "\n",
    "rest.duplicated().sum()"
   ]
  },
  {
   "cell_type": "code",
   "execution_count": 36,
   "metadata": {},
   "outputs": [
    {
     "data": {
      "text/plain": [
       "0"
      ]
     },
     "execution_count": 36,
     "metadata": {},
     "output_type": "execute_result"
    }
   ],
   "source": [
    "rest = rest.drop_duplicates().reset_index()\n",
    "rest.duplicated().sum()"
   ]
  },
  {
   "cell_type": "markdown",
   "metadata": {},
   "source": [
    "### Вывод"
   ]
  },
  {
   "cell_type": "markdown",
   "metadata": {},
   "source": [
    "Ознакомились с данными. Пропусков нет. Чтобы не было путаницы, привели все буквы к строчному регистру. Дубликатов не обнаружено. Можно переходить к исследованию."
   ]
  },
  {
   "cell_type": "markdown",
   "metadata": {},
   "source": [
    "## Анализ данных\n",
    "### Распределение видов объектов общественного питания по количеству"
   ]
  },
  {
   "cell_type": "markdown",
   "metadata": {},
   "source": [
    " Зададим функции для визуализации рассматриваемых нами данных."
   ]
  },
  {
   "cell_type": "code",
   "execution_count": 37,
   "metadata": {},
   "outputs": [],
   "source": [
    "'''гистограмма'''\n",
    "def px_bar(df, column):\n",
    "    df2 = df.groupby([column], as_index=False).agg(quantity = ('address', 'count')).sort_values(by='quantity', ascending=False)\n",
    "    bar = px.bar(df2, x=column, y='quantity', title='Распределение видов объектов общественного питания по количеству')\n",
    "    bar.update_layout(xaxis_title='Вид объекта',\n",
    "                     yaxis_title='Количество') \n",
    "    return bar"
   ]
  },
  {
   "cell_type": "code",
   "execution_count": 38,
   "metadata": {},
   "outputs": [],
   "source": [
    "'''круговая диаграмма'''\n",
    "def go_pie(df, column):\n",
    "    df2 = df.groupby([column], as_index=False).agg(quantity = ('address', 'count')).sort_values(by='quantity', ascending=False)\n",
    "    pie = go.Figure(data=[go.Pie(labels=df2[column], values=df2['quantity'])])\n",
    "    pie.update_layout(title='Соотношение заведений по количеству')   \n",
    "    return pie"
   ]
  },
  {
   "cell_type": "markdown",
   "metadata": {},
   "source": [
    "Рассмотрим соотношение видов объектов общественного питания по количеству."
   ]
  },
  {
   "cell_type": "code",
   "execution_count": 39,
   "metadata": {
    "scrolled": false
   },
   "outputs": [
    {
     "data": {
      "application/vnd.plotly.v1+json": {
       "config": {
        "plotlyServerURL": "https://plot.ly"
       },
       "data": [
        {
         "labels": [
          "кафе",
          "столовая",
          "ресторан",
          "предприятие быстрого обслуживания",
          "бар",
          "буфет",
          "кафетерий",
          "закусочная",
          "магазин (отдел кулинарии)"
         ],
         "type": "pie",
         "values": [
          6071,
          2584,
          2282,
          1897,
          855,
          576,
          395,
          348,
          273
         ]
        }
       ],
       "layout": {
        "template": {
         "data": {
          "bar": [
           {
            "error_x": {
             "color": "#2a3f5f"
            },
            "error_y": {
             "color": "#2a3f5f"
            },
            "marker": {
             "line": {
              "color": "#E5ECF6",
              "width": 0.5
             },
             "pattern": {
              "fillmode": "overlay",
              "size": 10,
              "solidity": 0.2
             }
            },
            "type": "bar"
           }
          ],
          "barpolar": [
           {
            "marker": {
             "line": {
              "color": "#E5ECF6",
              "width": 0.5
             },
             "pattern": {
              "fillmode": "overlay",
              "size": 10,
              "solidity": 0.2
             }
            },
            "type": "barpolar"
           }
          ],
          "carpet": [
           {
            "aaxis": {
             "endlinecolor": "#2a3f5f",
             "gridcolor": "white",
             "linecolor": "white",
             "minorgridcolor": "white",
             "startlinecolor": "#2a3f5f"
            },
            "baxis": {
             "endlinecolor": "#2a3f5f",
             "gridcolor": "white",
             "linecolor": "white",
             "minorgridcolor": "white",
             "startlinecolor": "#2a3f5f"
            },
            "type": "carpet"
           }
          ],
          "choropleth": [
           {
            "colorbar": {
             "outlinewidth": 0,
             "ticks": ""
            },
            "type": "choropleth"
           }
          ],
          "contour": [
           {
            "colorbar": {
             "outlinewidth": 0,
             "ticks": ""
            },
            "colorscale": [
             [
              0,
              "#0d0887"
             ],
             [
              0.1111111111111111,
              "#46039f"
             ],
             [
              0.2222222222222222,
              "#7201a8"
             ],
             [
              0.3333333333333333,
              "#9c179e"
             ],
             [
              0.4444444444444444,
              "#bd3786"
             ],
             [
              0.5555555555555556,
              "#d8576b"
             ],
             [
              0.6666666666666666,
              "#ed7953"
             ],
             [
              0.7777777777777778,
              "#fb9f3a"
             ],
             [
              0.8888888888888888,
              "#fdca26"
             ],
             [
              1,
              "#f0f921"
             ]
            ],
            "type": "contour"
           }
          ],
          "contourcarpet": [
           {
            "colorbar": {
             "outlinewidth": 0,
             "ticks": ""
            },
            "type": "contourcarpet"
           }
          ],
          "heatmap": [
           {
            "colorbar": {
             "outlinewidth": 0,
             "ticks": ""
            },
            "colorscale": [
             [
              0,
              "#0d0887"
             ],
             [
              0.1111111111111111,
              "#46039f"
             ],
             [
              0.2222222222222222,
              "#7201a8"
             ],
             [
              0.3333333333333333,
              "#9c179e"
             ],
             [
              0.4444444444444444,
              "#bd3786"
             ],
             [
              0.5555555555555556,
              "#d8576b"
             ],
             [
              0.6666666666666666,
              "#ed7953"
             ],
             [
              0.7777777777777778,
              "#fb9f3a"
             ],
             [
              0.8888888888888888,
              "#fdca26"
             ],
             [
              1,
              "#f0f921"
             ]
            ],
            "type": "heatmap"
           }
          ],
          "heatmapgl": [
           {
            "colorbar": {
             "outlinewidth": 0,
             "ticks": ""
            },
            "colorscale": [
             [
              0,
              "#0d0887"
             ],
             [
              0.1111111111111111,
              "#46039f"
             ],
             [
              0.2222222222222222,
              "#7201a8"
             ],
             [
              0.3333333333333333,
              "#9c179e"
             ],
             [
              0.4444444444444444,
              "#bd3786"
             ],
             [
              0.5555555555555556,
              "#d8576b"
             ],
             [
              0.6666666666666666,
              "#ed7953"
             ],
             [
              0.7777777777777778,
              "#fb9f3a"
             ],
             [
              0.8888888888888888,
              "#fdca26"
             ],
             [
              1,
              "#f0f921"
             ]
            ],
            "type": "heatmapgl"
           }
          ],
          "histogram": [
           {
            "marker": {
             "pattern": {
              "fillmode": "overlay",
              "size": 10,
              "solidity": 0.2
             }
            },
            "type": "histogram"
           }
          ],
          "histogram2d": [
           {
            "colorbar": {
             "outlinewidth": 0,
             "ticks": ""
            },
            "colorscale": [
             [
              0,
              "#0d0887"
             ],
             [
              0.1111111111111111,
              "#46039f"
             ],
             [
              0.2222222222222222,
              "#7201a8"
             ],
             [
              0.3333333333333333,
              "#9c179e"
             ],
             [
              0.4444444444444444,
              "#bd3786"
             ],
             [
              0.5555555555555556,
              "#d8576b"
             ],
             [
              0.6666666666666666,
              "#ed7953"
             ],
             [
              0.7777777777777778,
              "#fb9f3a"
             ],
             [
              0.8888888888888888,
              "#fdca26"
             ],
             [
              1,
              "#f0f921"
             ]
            ],
            "type": "histogram2d"
           }
          ],
          "histogram2dcontour": [
           {
            "colorbar": {
             "outlinewidth": 0,
             "ticks": ""
            },
            "colorscale": [
             [
              0,
              "#0d0887"
             ],
             [
              0.1111111111111111,
              "#46039f"
             ],
             [
              0.2222222222222222,
              "#7201a8"
             ],
             [
              0.3333333333333333,
              "#9c179e"
             ],
             [
              0.4444444444444444,
              "#bd3786"
             ],
             [
              0.5555555555555556,
              "#d8576b"
             ],
             [
              0.6666666666666666,
              "#ed7953"
             ],
             [
              0.7777777777777778,
              "#fb9f3a"
             ],
             [
              0.8888888888888888,
              "#fdca26"
             ],
             [
              1,
              "#f0f921"
             ]
            ],
            "type": "histogram2dcontour"
           }
          ],
          "mesh3d": [
           {
            "colorbar": {
             "outlinewidth": 0,
             "ticks": ""
            },
            "type": "mesh3d"
           }
          ],
          "parcoords": [
           {
            "line": {
             "colorbar": {
              "outlinewidth": 0,
              "ticks": ""
             }
            },
            "type": "parcoords"
           }
          ],
          "pie": [
           {
            "automargin": true,
            "type": "pie"
           }
          ],
          "scatter": [
           {
            "marker": {
             "colorbar": {
              "outlinewidth": 0,
              "ticks": ""
             }
            },
            "type": "scatter"
           }
          ],
          "scatter3d": [
           {
            "line": {
             "colorbar": {
              "outlinewidth": 0,
              "ticks": ""
             }
            },
            "marker": {
             "colorbar": {
              "outlinewidth": 0,
              "ticks": ""
             }
            },
            "type": "scatter3d"
           }
          ],
          "scattercarpet": [
           {
            "marker": {
             "colorbar": {
              "outlinewidth": 0,
              "ticks": ""
             }
            },
            "type": "scattercarpet"
           }
          ],
          "scattergeo": [
           {
            "marker": {
             "colorbar": {
              "outlinewidth": 0,
              "ticks": ""
             }
            },
            "type": "scattergeo"
           }
          ],
          "scattergl": [
           {
            "marker": {
             "colorbar": {
              "outlinewidth": 0,
              "ticks": ""
             }
            },
            "type": "scattergl"
           }
          ],
          "scattermapbox": [
           {
            "marker": {
             "colorbar": {
              "outlinewidth": 0,
              "ticks": ""
             }
            },
            "type": "scattermapbox"
           }
          ],
          "scatterpolar": [
           {
            "marker": {
             "colorbar": {
              "outlinewidth": 0,
              "ticks": ""
             }
            },
            "type": "scatterpolar"
           }
          ],
          "scatterpolargl": [
           {
            "marker": {
             "colorbar": {
              "outlinewidth": 0,
              "ticks": ""
             }
            },
            "type": "scatterpolargl"
           }
          ],
          "scatterternary": [
           {
            "marker": {
             "colorbar": {
              "outlinewidth": 0,
              "ticks": ""
             }
            },
            "type": "scatterternary"
           }
          ],
          "surface": [
           {
            "colorbar": {
             "outlinewidth": 0,
             "ticks": ""
            },
            "colorscale": [
             [
              0,
              "#0d0887"
             ],
             [
              0.1111111111111111,
              "#46039f"
             ],
             [
              0.2222222222222222,
              "#7201a8"
             ],
             [
              0.3333333333333333,
              "#9c179e"
             ],
             [
              0.4444444444444444,
              "#bd3786"
             ],
             [
              0.5555555555555556,
              "#d8576b"
             ],
             [
              0.6666666666666666,
              "#ed7953"
             ],
             [
              0.7777777777777778,
              "#fb9f3a"
             ],
             [
              0.8888888888888888,
              "#fdca26"
             ],
             [
              1,
              "#f0f921"
             ]
            ],
            "type": "surface"
           }
          ],
          "table": [
           {
            "cells": {
             "fill": {
              "color": "#EBF0F8"
             },
             "line": {
              "color": "white"
             }
            },
            "header": {
             "fill": {
              "color": "#C8D4E3"
             },
             "line": {
              "color": "white"
             }
            },
            "type": "table"
           }
          ]
         },
         "layout": {
          "annotationdefaults": {
           "arrowcolor": "#2a3f5f",
           "arrowhead": 0,
           "arrowwidth": 1
          },
          "autotypenumbers": "strict",
          "coloraxis": {
           "colorbar": {
            "outlinewidth": 0,
            "ticks": ""
           }
          },
          "colorscale": {
           "diverging": [
            [
             0,
             "#8e0152"
            ],
            [
             0.1,
             "#c51b7d"
            ],
            [
             0.2,
             "#de77ae"
            ],
            [
             0.3,
             "#f1b6da"
            ],
            [
             0.4,
             "#fde0ef"
            ],
            [
             0.5,
             "#f7f7f7"
            ],
            [
             0.6,
             "#e6f5d0"
            ],
            [
             0.7,
             "#b8e186"
            ],
            [
             0.8,
             "#7fbc41"
            ],
            [
             0.9,
             "#4d9221"
            ],
            [
             1,
             "#276419"
            ]
           ],
           "sequential": [
            [
             0,
             "#0d0887"
            ],
            [
             0.1111111111111111,
             "#46039f"
            ],
            [
             0.2222222222222222,
             "#7201a8"
            ],
            [
             0.3333333333333333,
             "#9c179e"
            ],
            [
             0.4444444444444444,
             "#bd3786"
            ],
            [
             0.5555555555555556,
             "#d8576b"
            ],
            [
             0.6666666666666666,
             "#ed7953"
            ],
            [
             0.7777777777777778,
             "#fb9f3a"
            ],
            [
             0.8888888888888888,
             "#fdca26"
            ],
            [
             1,
             "#f0f921"
            ]
           ],
           "sequentialminus": [
            [
             0,
             "#0d0887"
            ],
            [
             0.1111111111111111,
             "#46039f"
            ],
            [
             0.2222222222222222,
             "#7201a8"
            ],
            [
             0.3333333333333333,
             "#9c179e"
            ],
            [
             0.4444444444444444,
             "#bd3786"
            ],
            [
             0.5555555555555556,
             "#d8576b"
            ],
            [
             0.6666666666666666,
             "#ed7953"
            ],
            [
             0.7777777777777778,
             "#fb9f3a"
            ],
            [
             0.8888888888888888,
             "#fdca26"
            ],
            [
             1,
             "#f0f921"
            ]
           ]
          },
          "colorway": [
           "#636efa",
           "#EF553B",
           "#00cc96",
           "#ab63fa",
           "#FFA15A",
           "#19d3f3",
           "#FF6692",
           "#B6E880",
           "#FF97FF",
           "#FECB52"
          ],
          "font": {
           "color": "#2a3f5f"
          },
          "geo": {
           "bgcolor": "white",
           "lakecolor": "white",
           "landcolor": "#E5ECF6",
           "showlakes": true,
           "showland": true,
           "subunitcolor": "white"
          },
          "hoverlabel": {
           "align": "left"
          },
          "hovermode": "closest",
          "mapbox": {
           "style": "light"
          },
          "paper_bgcolor": "white",
          "plot_bgcolor": "#E5ECF6",
          "polar": {
           "angularaxis": {
            "gridcolor": "white",
            "linecolor": "white",
            "ticks": ""
           },
           "bgcolor": "#E5ECF6",
           "radialaxis": {
            "gridcolor": "white",
            "linecolor": "white",
            "ticks": ""
           }
          },
          "scene": {
           "xaxis": {
            "backgroundcolor": "#E5ECF6",
            "gridcolor": "white",
            "gridwidth": 2,
            "linecolor": "white",
            "showbackground": true,
            "ticks": "",
            "zerolinecolor": "white"
           },
           "yaxis": {
            "backgroundcolor": "#E5ECF6",
            "gridcolor": "white",
            "gridwidth": 2,
            "linecolor": "white",
            "showbackground": true,
            "ticks": "",
            "zerolinecolor": "white"
           },
           "zaxis": {
            "backgroundcolor": "#E5ECF6",
            "gridcolor": "white",
            "gridwidth": 2,
            "linecolor": "white",
            "showbackground": true,
            "ticks": "",
            "zerolinecolor": "white"
           }
          },
          "shapedefaults": {
           "line": {
            "color": "#2a3f5f"
           }
          },
          "ternary": {
           "aaxis": {
            "gridcolor": "white",
            "linecolor": "white",
            "ticks": ""
           },
           "baxis": {
            "gridcolor": "white",
            "linecolor": "white",
            "ticks": ""
           },
           "bgcolor": "#E5ECF6",
           "caxis": {
            "gridcolor": "white",
            "linecolor": "white",
            "ticks": ""
           }
          },
          "title": {
           "x": 0.05
          },
          "xaxis": {
           "automargin": true,
           "gridcolor": "white",
           "linecolor": "white",
           "ticks": "",
           "title": {
            "standoff": 15
           },
           "zerolinecolor": "white",
           "zerolinewidth": 2
          },
          "yaxis": {
           "automargin": true,
           "gridcolor": "white",
           "linecolor": "white",
           "ticks": "",
           "title": {
            "standoff": 15
           },
           "zerolinecolor": "white",
           "zerolinewidth": 2
          }
         }
        },
        "title": {
         "text": "Соотношение заведений по количеству"
        }
       }
      },
      "text/html": [
       "<div>                            <div id=\"478a0caf-34be-4cc7-93a4-2f1e069043b4\" class=\"plotly-graph-div\" style=\"height:525px; width:100%;\"></div>            <script type=\"text/javascript\">                require([\"plotly\"], function(Plotly) {                    window.PLOTLYENV=window.PLOTLYENV || {};                                    if (document.getElementById(\"478a0caf-34be-4cc7-93a4-2f1e069043b4\")) {                    Plotly.newPlot(                        \"478a0caf-34be-4cc7-93a4-2f1e069043b4\",                        [{\"labels\":[\"\\u043a\\u0430\\u0444\\u0435\",\"\\u0441\\u0442\\u043e\\u043b\\u043e\\u0432\\u0430\\u044f\",\"\\u0440\\u0435\\u0441\\u0442\\u043e\\u0440\\u0430\\u043d\",\"\\u043f\\u0440\\u0435\\u0434\\u043f\\u0440\\u0438\\u044f\\u0442\\u0438\\u0435 \\u0431\\u044b\\u0441\\u0442\\u0440\\u043e\\u0433\\u043e \\u043e\\u0431\\u0441\\u043b\\u0443\\u0436\\u0438\\u0432\\u0430\\u043d\\u0438\\u044f\",\"\\u0431\\u0430\\u0440\",\"\\u0431\\u0443\\u0444\\u0435\\u0442\",\"\\u043a\\u0430\\u0444\\u0435\\u0442\\u0435\\u0440\\u0438\\u0439\",\"\\u0437\\u0430\\u043a\\u0443\\u0441\\u043e\\u0447\\u043d\\u0430\\u044f\",\"\\u043c\\u0430\\u0433\\u0430\\u0437\\u0438\\u043d (\\u043e\\u0442\\u0434\\u0435\\u043b \\u043a\\u0443\\u043b\\u0438\\u043d\\u0430\\u0440\\u0438\\u0438)\"],\"values\":[6071,2584,2282,1897,855,576,395,348,273],\"type\":\"pie\"}],                        {\"template\":{\"data\":{\"bar\":[{\"error_x\":{\"color\":\"#2a3f5f\"},\"error_y\":{\"color\":\"#2a3f5f\"},\"marker\":{\"line\":{\"color\":\"#E5ECF6\",\"width\":0.5},\"pattern\":{\"fillmode\":\"overlay\",\"size\":10,\"solidity\":0.2}},\"type\":\"bar\"}],\"barpolar\":[{\"marker\":{\"line\":{\"color\":\"#E5ECF6\",\"width\":0.5},\"pattern\":{\"fillmode\":\"overlay\",\"size\":10,\"solidity\":0.2}},\"type\":\"barpolar\"}],\"carpet\":[{\"aaxis\":{\"endlinecolor\":\"#2a3f5f\",\"gridcolor\":\"white\",\"linecolor\":\"white\",\"minorgridcolor\":\"white\",\"startlinecolor\":\"#2a3f5f\"},\"baxis\":{\"endlinecolor\":\"#2a3f5f\",\"gridcolor\":\"white\",\"linecolor\":\"white\",\"minorgridcolor\":\"white\",\"startlinecolor\":\"#2a3f5f\"},\"type\":\"carpet\"}],\"choropleth\":[{\"colorbar\":{\"outlinewidth\":0,\"ticks\":\"\"},\"type\":\"choropleth\"}],\"contour\":[{\"colorbar\":{\"outlinewidth\":0,\"ticks\":\"\"},\"colorscale\":[[0.0,\"#0d0887\"],[0.1111111111111111,\"#46039f\"],[0.2222222222222222,\"#7201a8\"],[0.3333333333333333,\"#9c179e\"],[0.4444444444444444,\"#bd3786\"],[0.5555555555555556,\"#d8576b\"],[0.6666666666666666,\"#ed7953\"],[0.7777777777777778,\"#fb9f3a\"],[0.8888888888888888,\"#fdca26\"],[1.0,\"#f0f921\"]],\"type\":\"contour\"}],\"contourcarpet\":[{\"colorbar\":{\"outlinewidth\":0,\"ticks\":\"\"},\"type\":\"contourcarpet\"}],\"heatmap\":[{\"colorbar\":{\"outlinewidth\":0,\"ticks\":\"\"},\"colorscale\":[[0.0,\"#0d0887\"],[0.1111111111111111,\"#46039f\"],[0.2222222222222222,\"#7201a8\"],[0.3333333333333333,\"#9c179e\"],[0.4444444444444444,\"#bd3786\"],[0.5555555555555556,\"#d8576b\"],[0.6666666666666666,\"#ed7953\"],[0.7777777777777778,\"#fb9f3a\"],[0.8888888888888888,\"#fdca26\"],[1.0,\"#f0f921\"]],\"type\":\"heatmap\"}],\"heatmapgl\":[{\"colorbar\":{\"outlinewidth\":0,\"ticks\":\"\"},\"colorscale\":[[0.0,\"#0d0887\"],[0.1111111111111111,\"#46039f\"],[0.2222222222222222,\"#7201a8\"],[0.3333333333333333,\"#9c179e\"],[0.4444444444444444,\"#bd3786\"],[0.5555555555555556,\"#d8576b\"],[0.6666666666666666,\"#ed7953\"],[0.7777777777777778,\"#fb9f3a\"],[0.8888888888888888,\"#fdca26\"],[1.0,\"#f0f921\"]],\"type\":\"heatmapgl\"}],\"histogram\":[{\"marker\":{\"pattern\":{\"fillmode\":\"overlay\",\"size\":10,\"solidity\":0.2}},\"type\":\"histogram\"}],\"histogram2d\":[{\"colorbar\":{\"outlinewidth\":0,\"ticks\":\"\"},\"colorscale\":[[0.0,\"#0d0887\"],[0.1111111111111111,\"#46039f\"],[0.2222222222222222,\"#7201a8\"],[0.3333333333333333,\"#9c179e\"],[0.4444444444444444,\"#bd3786\"],[0.5555555555555556,\"#d8576b\"],[0.6666666666666666,\"#ed7953\"],[0.7777777777777778,\"#fb9f3a\"],[0.8888888888888888,\"#fdca26\"],[1.0,\"#f0f921\"]],\"type\":\"histogram2d\"}],\"histogram2dcontour\":[{\"colorbar\":{\"outlinewidth\":0,\"ticks\":\"\"},\"colorscale\":[[0.0,\"#0d0887\"],[0.1111111111111111,\"#46039f\"],[0.2222222222222222,\"#7201a8\"],[0.3333333333333333,\"#9c179e\"],[0.4444444444444444,\"#bd3786\"],[0.5555555555555556,\"#d8576b\"],[0.6666666666666666,\"#ed7953\"],[0.7777777777777778,\"#fb9f3a\"],[0.8888888888888888,\"#fdca26\"],[1.0,\"#f0f921\"]],\"type\":\"histogram2dcontour\"}],\"mesh3d\":[{\"colorbar\":{\"outlinewidth\":0,\"ticks\":\"\"},\"type\":\"mesh3d\"}],\"parcoords\":[{\"line\":{\"colorbar\":{\"outlinewidth\":0,\"ticks\":\"\"}},\"type\":\"parcoords\"}],\"pie\":[{\"automargin\":true,\"type\":\"pie\"}],\"scatter\":[{\"marker\":{\"colorbar\":{\"outlinewidth\":0,\"ticks\":\"\"}},\"type\":\"scatter\"}],\"scatter3d\":[{\"line\":{\"colorbar\":{\"outlinewidth\":0,\"ticks\":\"\"}},\"marker\":{\"colorbar\":{\"outlinewidth\":0,\"ticks\":\"\"}},\"type\":\"scatter3d\"}],\"scattercarpet\":[{\"marker\":{\"colorbar\":{\"outlinewidth\":0,\"ticks\":\"\"}},\"type\":\"scattercarpet\"}],\"scattergeo\":[{\"marker\":{\"colorbar\":{\"outlinewidth\":0,\"ticks\":\"\"}},\"type\":\"scattergeo\"}],\"scattergl\":[{\"marker\":{\"colorbar\":{\"outlinewidth\":0,\"ticks\":\"\"}},\"type\":\"scattergl\"}],\"scattermapbox\":[{\"marker\":{\"colorbar\":{\"outlinewidth\":0,\"ticks\":\"\"}},\"type\":\"scattermapbox\"}],\"scatterpolar\":[{\"marker\":{\"colorbar\":{\"outlinewidth\":0,\"ticks\":\"\"}},\"type\":\"scatterpolar\"}],\"scatterpolargl\":[{\"marker\":{\"colorbar\":{\"outlinewidth\":0,\"ticks\":\"\"}},\"type\":\"scatterpolargl\"}],\"scatterternary\":[{\"marker\":{\"colorbar\":{\"outlinewidth\":0,\"ticks\":\"\"}},\"type\":\"scatterternary\"}],\"surface\":[{\"colorbar\":{\"outlinewidth\":0,\"ticks\":\"\"},\"colorscale\":[[0.0,\"#0d0887\"],[0.1111111111111111,\"#46039f\"],[0.2222222222222222,\"#7201a8\"],[0.3333333333333333,\"#9c179e\"],[0.4444444444444444,\"#bd3786\"],[0.5555555555555556,\"#d8576b\"],[0.6666666666666666,\"#ed7953\"],[0.7777777777777778,\"#fb9f3a\"],[0.8888888888888888,\"#fdca26\"],[1.0,\"#f0f921\"]],\"type\":\"surface\"}],\"table\":[{\"cells\":{\"fill\":{\"color\":\"#EBF0F8\"},\"line\":{\"color\":\"white\"}},\"header\":{\"fill\":{\"color\":\"#C8D4E3\"},\"line\":{\"color\":\"white\"}},\"type\":\"table\"}]},\"layout\":{\"annotationdefaults\":{\"arrowcolor\":\"#2a3f5f\",\"arrowhead\":0,\"arrowwidth\":1},\"autotypenumbers\":\"strict\",\"coloraxis\":{\"colorbar\":{\"outlinewidth\":0,\"ticks\":\"\"}},\"colorscale\":{\"diverging\":[[0,\"#8e0152\"],[0.1,\"#c51b7d\"],[0.2,\"#de77ae\"],[0.3,\"#f1b6da\"],[0.4,\"#fde0ef\"],[0.5,\"#f7f7f7\"],[0.6,\"#e6f5d0\"],[0.7,\"#b8e186\"],[0.8,\"#7fbc41\"],[0.9,\"#4d9221\"],[1,\"#276419\"]],\"sequential\":[[0.0,\"#0d0887\"],[0.1111111111111111,\"#46039f\"],[0.2222222222222222,\"#7201a8\"],[0.3333333333333333,\"#9c179e\"],[0.4444444444444444,\"#bd3786\"],[0.5555555555555556,\"#d8576b\"],[0.6666666666666666,\"#ed7953\"],[0.7777777777777778,\"#fb9f3a\"],[0.8888888888888888,\"#fdca26\"],[1.0,\"#f0f921\"]],\"sequentialminus\":[[0.0,\"#0d0887\"],[0.1111111111111111,\"#46039f\"],[0.2222222222222222,\"#7201a8\"],[0.3333333333333333,\"#9c179e\"],[0.4444444444444444,\"#bd3786\"],[0.5555555555555556,\"#d8576b\"],[0.6666666666666666,\"#ed7953\"],[0.7777777777777778,\"#fb9f3a\"],[0.8888888888888888,\"#fdca26\"],[1.0,\"#f0f921\"]]},\"colorway\":[\"#636efa\",\"#EF553B\",\"#00cc96\",\"#ab63fa\",\"#FFA15A\",\"#19d3f3\",\"#FF6692\",\"#B6E880\",\"#FF97FF\",\"#FECB52\"],\"font\":{\"color\":\"#2a3f5f\"},\"geo\":{\"bgcolor\":\"white\",\"lakecolor\":\"white\",\"landcolor\":\"#E5ECF6\",\"showlakes\":true,\"showland\":true,\"subunitcolor\":\"white\"},\"hoverlabel\":{\"align\":\"left\"},\"hovermode\":\"closest\",\"mapbox\":{\"style\":\"light\"},\"paper_bgcolor\":\"white\",\"plot_bgcolor\":\"#E5ECF6\",\"polar\":{\"angularaxis\":{\"gridcolor\":\"white\",\"linecolor\":\"white\",\"ticks\":\"\"},\"bgcolor\":\"#E5ECF6\",\"radialaxis\":{\"gridcolor\":\"white\",\"linecolor\":\"white\",\"ticks\":\"\"}},\"scene\":{\"xaxis\":{\"backgroundcolor\":\"#E5ECF6\",\"gridcolor\":\"white\",\"gridwidth\":2,\"linecolor\":\"white\",\"showbackground\":true,\"ticks\":\"\",\"zerolinecolor\":\"white\"},\"yaxis\":{\"backgroundcolor\":\"#E5ECF6\",\"gridcolor\":\"white\",\"gridwidth\":2,\"linecolor\":\"white\",\"showbackground\":true,\"ticks\":\"\",\"zerolinecolor\":\"white\"},\"zaxis\":{\"backgroundcolor\":\"#E5ECF6\",\"gridcolor\":\"white\",\"gridwidth\":2,\"linecolor\":\"white\",\"showbackground\":true,\"ticks\":\"\",\"zerolinecolor\":\"white\"}},\"shapedefaults\":{\"line\":{\"color\":\"#2a3f5f\"}},\"ternary\":{\"aaxis\":{\"gridcolor\":\"white\",\"linecolor\":\"white\",\"ticks\":\"\"},\"baxis\":{\"gridcolor\":\"white\",\"linecolor\":\"white\",\"ticks\":\"\"},\"bgcolor\":\"#E5ECF6\",\"caxis\":{\"gridcolor\":\"white\",\"linecolor\":\"white\",\"ticks\":\"\"}},\"title\":{\"x\":0.05},\"xaxis\":{\"automargin\":true,\"gridcolor\":\"white\",\"linecolor\":\"white\",\"ticks\":\"\",\"title\":{\"standoff\":15},\"zerolinecolor\":\"white\",\"zerolinewidth\":2},\"yaxis\":{\"automargin\":true,\"gridcolor\":\"white\",\"linecolor\":\"white\",\"ticks\":\"\",\"title\":{\"standoff\":15},\"zerolinecolor\":\"white\",\"zerolinewidth\":2}}},\"title\":{\"text\":\"\\u0421\\u043e\\u043e\\u0442\\u043d\\u043e\\u0448\\u0435\\u043d\\u0438\\u0435 \\u0437\\u0430\\u0432\\u0435\\u0434\\u0435\\u043d\\u0438\\u0439 \\u043f\\u043e \\u043a\\u043e\\u043b\\u0438\\u0447\\u0435\\u0441\\u0442\\u0432\\u0443\"}},                        {\"responsive\": true}                    ).then(function(){\n",
       "                            \n",
       "var gd = document.getElementById('478a0caf-34be-4cc7-93a4-2f1e069043b4');\n",
       "var x = new MutationObserver(function (mutations, observer) {{\n",
       "        var display = window.getComputedStyle(gd).display;\n",
       "        if (!display || display === 'none') {{\n",
       "            console.log([gd, 'removed!']);\n",
       "            Plotly.purge(gd);\n",
       "            observer.disconnect();\n",
       "        }}\n",
       "}});\n",
       "\n",
       "// Listen for the removal of the full notebook cells\n",
       "var notebookContainer = gd.closest('#notebook-container');\n",
       "if (notebookContainer) {{\n",
       "    x.observe(notebookContainer, {childList: true});\n",
       "}}\n",
       "\n",
       "// Listen for the clearing of the current output cell\n",
       "var outputEl = gd.closest('.output');\n",
       "if (outputEl) {{\n",
       "    x.observe(outputEl, {childList: true});\n",
       "}}\n",
       "\n",
       "                        })                };                });            </script>        </div>"
      ]
     },
     "metadata": {},
     "output_type": "display_data"
    }
   ],
   "source": [
    "go_pie(rest, 'object_type')"
   ]
  },
  {
   "cell_type": "markdown",
   "metadata": {},
   "source": [
    "#### Вывод\n",
    "На первом месте видим кафе, затем столовые, рестораны и предприятия быстрого питания."
   ]
  },
  {
   "cell_type": "markdown",
   "metadata": {},
   "source": [
    "### Распределение сетевых и несетевых заведений по количеству"
   ]
  },
  {
   "cell_type": "markdown",
   "metadata": {},
   "source": [
    "Теперь рассмотрим соотношение сетевых и несетевых заведений по количеству."
   ]
  },
  {
   "cell_type": "code",
   "execution_count": 40,
   "metadata": {
    "scrolled": false
   },
   "outputs": [
    {
     "data": {
      "application/vnd.plotly.v1+json": {
       "config": {
        "plotlyServerURL": "https://plot.ly"
       },
       "data": [
        {
         "labels": [
          "нет",
          "да"
         ],
         "type": "pie",
         "values": [
          12317,
          2964
         ]
        }
       ],
       "layout": {
        "template": {
         "data": {
          "bar": [
           {
            "error_x": {
             "color": "#2a3f5f"
            },
            "error_y": {
             "color": "#2a3f5f"
            },
            "marker": {
             "line": {
              "color": "#E5ECF6",
              "width": 0.5
             },
             "pattern": {
              "fillmode": "overlay",
              "size": 10,
              "solidity": 0.2
             }
            },
            "type": "bar"
           }
          ],
          "barpolar": [
           {
            "marker": {
             "line": {
              "color": "#E5ECF6",
              "width": 0.5
             },
             "pattern": {
              "fillmode": "overlay",
              "size": 10,
              "solidity": 0.2
             }
            },
            "type": "barpolar"
           }
          ],
          "carpet": [
           {
            "aaxis": {
             "endlinecolor": "#2a3f5f",
             "gridcolor": "white",
             "linecolor": "white",
             "minorgridcolor": "white",
             "startlinecolor": "#2a3f5f"
            },
            "baxis": {
             "endlinecolor": "#2a3f5f",
             "gridcolor": "white",
             "linecolor": "white",
             "minorgridcolor": "white",
             "startlinecolor": "#2a3f5f"
            },
            "type": "carpet"
           }
          ],
          "choropleth": [
           {
            "colorbar": {
             "outlinewidth": 0,
             "ticks": ""
            },
            "type": "choropleth"
           }
          ],
          "contour": [
           {
            "colorbar": {
             "outlinewidth": 0,
             "ticks": ""
            },
            "colorscale": [
             [
              0,
              "#0d0887"
             ],
             [
              0.1111111111111111,
              "#46039f"
             ],
             [
              0.2222222222222222,
              "#7201a8"
             ],
             [
              0.3333333333333333,
              "#9c179e"
             ],
             [
              0.4444444444444444,
              "#bd3786"
             ],
             [
              0.5555555555555556,
              "#d8576b"
             ],
             [
              0.6666666666666666,
              "#ed7953"
             ],
             [
              0.7777777777777778,
              "#fb9f3a"
             ],
             [
              0.8888888888888888,
              "#fdca26"
             ],
             [
              1,
              "#f0f921"
             ]
            ],
            "type": "contour"
           }
          ],
          "contourcarpet": [
           {
            "colorbar": {
             "outlinewidth": 0,
             "ticks": ""
            },
            "type": "contourcarpet"
           }
          ],
          "heatmap": [
           {
            "colorbar": {
             "outlinewidth": 0,
             "ticks": ""
            },
            "colorscale": [
             [
              0,
              "#0d0887"
             ],
             [
              0.1111111111111111,
              "#46039f"
             ],
             [
              0.2222222222222222,
              "#7201a8"
             ],
             [
              0.3333333333333333,
              "#9c179e"
             ],
             [
              0.4444444444444444,
              "#bd3786"
             ],
             [
              0.5555555555555556,
              "#d8576b"
             ],
             [
              0.6666666666666666,
              "#ed7953"
             ],
             [
              0.7777777777777778,
              "#fb9f3a"
             ],
             [
              0.8888888888888888,
              "#fdca26"
             ],
             [
              1,
              "#f0f921"
             ]
            ],
            "type": "heatmap"
           }
          ],
          "heatmapgl": [
           {
            "colorbar": {
             "outlinewidth": 0,
             "ticks": ""
            },
            "colorscale": [
             [
              0,
              "#0d0887"
             ],
             [
              0.1111111111111111,
              "#46039f"
             ],
             [
              0.2222222222222222,
              "#7201a8"
             ],
             [
              0.3333333333333333,
              "#9c179e"
             ],
             [
              0.4444444444444444,
              "#bd3786"
             ],
             [
              0.5555555555555556,
              "#d8576b"
             ],
             [
              0.6666666666666666,
              "#ed7953"
             ],
             [
              0.7777777777777778,
              "#fb9f3a"
             ],
             [
              0.8888888888888888,
              "#fdca26"
             ],
             [
              1,
              "#f0f921"
             ]
            ],
            "type": "heatmapgl"
           }
          ],
          "histogram": [
           {
            "marker": {
             "pattern": {
              "fillmode": "overlay",
              "size": 10,
              "solidity": 0.2
             }
            },
            "type": "histogram"
           }
          ],
          "histogram2d": [
           {
            "colorbar": {
             "outlinewidth": 0,
             "ticks": ""
            },
            "colorscale": [
             [
              0,
              "#0d0887"
             ],
             [
              0.1111111111111111,
              "#46039f"
             ],
             [
              0.2222222222222222,
              "#7201a8"
             ],
             [
              0.3333333333333333,
              "#9c179e"
             ],
             [
              0.4444444444444444,
              "#bd3786"
             ],
             [
              0.5555555555555556,
              "#d8576b"
             ],
             [
              0.6666666666666666,
              "#ed7953"
             ],
             [
              0.7777777777777778,
              "#fb9f3a"
             ],
             [
              0.8888888888888888,
              "#fdca26"
             ],
             [
              1,
              "#f0f921"
             ]
            ],
            "type": "histogram2d"
           }
          ],
          "histogram2dcontour": [
           {
            "colorbar": {
             "outlinewidth": 0,
             "ticks": ""
            },
            "colorscale": [
             [
              0,
              "#0d0887"
             ],
             [
              0.1111111111111111,
              "#46039f"
             ],
             [
              0.2222222222222222,
              "#7201a8"
             ],
             [
              0.3333333333333333,
              "#9c179e"
             ],
             [
              0.4444444444444444,
              "#bd3786"
             ],
             [
              0.5555555555555556,
              "#d8576b"
             ],
             [
              0.6666666666666666,
              "#ed7953"
             ],
             [
              0.7777777777777778,
              "#fb9f3a"
             ],
             [
              0.8888888888888888,
              "#fdca26"
             ],
             [
              1,
              "#f0f921"
             ]
            ],
            "type": "histogram2dcontour"
           }
          ],
          "mesh3d": [
           {
            "colorbar": {
             "outlinewidth": 0,
             "ticks": ""
            },
            "type": "mesh3d"
           }
          ],
          "parcoords": [
           {
            "line": {
             "colorbar": {
              "outlinewidth": 0,
              "ticks": ""
             }
            },
            "type": "parcoords"
           }
          ],
          "pie": [
           {
            "automargin": true,
            "type": "pie"
           }
          ],
          "scatter": [
           {
            "marker": {
             "colorbar": {
              "outlinewidth": 0,
              "ticks": ""
             }
            },
            "type": "scatter"
           }
          ],
          "scatter3d": [
           {
            "line": {
             "colorbar": {
              "outlinewidth": 0,
              "ticks": ""
             }
            },
            "marker": {
             "colorbar": {
              "outlinewidth": 0,
              "ticks": ""
             }
            },
            "type": "scatter3d"
           }
          ],
          "scattercarpet": [
           {
            "marker": {
             "colorbar": {
              "outlinewidth": 0,
              "ticks": ""
             }
            },
            "type": "scattercarpet"
           }
          ],
          "scattergeo": [
           {
            "marker": {
             "colorbar": {
              "outlinewidth": 0,
              "ticks": ""
             }
            },
            "type": "scattergeo"
           }
          ],
          "scattergl": [
           {
            "marker": {
             "colorbar": {
              "outlinewidth": 0,
              "ticks": ""
             }
            },
            "type": "scattergl"
           }
          ],
          "scattermapbox": [
           {
            "marker": {
             "colorbar": {
              "outlinewidth": 0,
              "ticks": ""
             }
            },
            "type": "scattermapbox"
           }
          ],
          "scatterpolar": [
           {
            "marker": {
             "colorbar": {
              "outlinewidth": 0,
              "ticks": ""
             }
            },
            "type": "scatterpolar"
           }
          ],
          "scatterpolargl": [
           {
            "marker": {
             "colorbar": {
              "outlinewidth": 0,
              "ticks": ""
             }
            },
            "type": "scatterpolargl"
           }
          ],
          "scatterternary": [
           {
            "marker": {
             "colorbar": {
              "outlinewidth": 0,
              "ticks": ""
             }
            },
            "type": "scatterternary"
           }
          ],
          "surface": [
           {
            "colorbar": {
             "outlinewidth": 0,
             "ticks": ""
            },
            "colorscale": [
             [
              0,
              "#0d0887"
             ],
             [
              0.1111111111111111,
              "#46039f"
             ],
             [
              0.2222222222222222,
              "#7201a8"
             ],
             [
              0.3333333333333333,
              "#9c179e"
             ],
             [
              0.4444444444444444,
              "#bd3786"
             ],
             [
              0.5555555555555556,
              "#d8576b"
             ],
             [
              0.6666666666666666,
              "#ed7953"
             ],
             [
              0.7777777777777778,
              "#fb9f3a"
             ],
             [
              0.8888888888888888,
              "#fdca26"
             ],
             [
              1,
              "#f0f921"
             ]
            ],
            "type": "surface"
           }
          ],
          "table": [
           {
            "cells": {
             "fill": {
              "color": "#EBF0F8"
             },
             "line": {
              "color": "white"
             }
            },
            "header": {
             "fill": {
              "color": "#C8D4E3"
             },
             "line": {
              "color": "white"
             }
            },
            "type": "table"
           }
          ]
         },
         "layout": {
          "annotationdefaults": {
           "arrowcolor": "#2a3f5f",
           "arrowhead": 0,
           "arrowwidth": 1
          },
          "autotypenumbers": "strict",
          "coloraxis": {
           "colorbar": {
            "outlinewidth": 0,
            "ticks": ""
           }
          },
          "colorscale": {
           "diverging": [
            [
             0,
             "#8e0152"
            ],
            [
             0.1,
             "#c51b7d"
            ],
            [
             0.2,
             "#de77ae"
            ],
            [
             0.3,
             "#f1b6da"
            ],
            [
             0.4,
             "#fde0ef"
            ],
            [
             0.5,
             "#f7f7f7"
            ],
            [
             0.6,
             "#e6f5d0"
            ],
            [
             0.7,
             "#b8e186"
            ],
            [
             0.8,
             "#7fbc41"
            ],
            [
             0.9,
             "#4d9221"
            ],
            [
             1,
             "#276419"
            ]
           ],
           "sequential": [
            [
             0,
             "#0d0887"
            ],
            [
             0.1111111111111111,
             "#46039f"
            ],
            [
             0.2222222222222222,
             "#7201a8"
            ],
            [
             0.3333333333333333,
             "#9c179e"
            ],
            [
             0.4444444444444444,
             "#bd3786"
            ],
            [
             0.5555555555555556,
             "#d8576b"
            ],
            [
             0.6666666666666666,
             "#ed7953"
            ],
            [
             0.7777777777777778,
             "#fb9f3a"
            ],
            [
             0.8888888888888888,
             "#fdca26"
            ],
            [
             1,
             "#f0f921"
            ]
           ],
           "sequentialminus": [
            [
             0,
             "#0d0887"
            ],
            [
             0.1111111111111111,
             "#46039f"
            ],
            [
             0.2222222222222222,
             "#7201a8"
            ],
            [
             0.3333333333333333,
             "#9c179e"
            ],
            [
             0.4444444444444444,
             "#bd3786"
            ],
            [
             0.5555555555555556,
             "#d8576b"
            ],
            [
             0.6666666666666666,
             "#ed7953"
            ],
            [
             0.7777777777777778,
             "#fb9f3a"
            ],
            [
             0.8888888888888888,
             "#fdca26"
            ],
            [
             1,
             "#f0f921"
            ]
           ]
          },
          "colorway": [
           "#636efa",
           "#EF553B",
           "#00cc96",
           "#ab63fa",
           "#FFA15A",
           "#19d3f3",
           "#FF6692",
           "#B6E880",
           "#FF97FF",
           "#FECB52"
          ],
          "font": {
           "color": "#2a3f5f"
          },
          "geo": {
           "bgcolor": "white",
           "lakecolor": "white",
           "landcolor": "#E5ECF6",
           "showlakes": true,
           "showland": true,
           "subunitcolor": "white"
          },
          "hoverlabel": {
           "align": "left"
          },
          "hovermode": "closest",
          "mapbox": {
           "style": "light"
          },
          "paper_bgcolor": "white",
          "plot_bgcolor": "#E5ECF6",
          "polar": {
           "angularaxis": {
            "gridcolor": "white",
            "linecolor": "white",
            "ticks": ""
           },
           "bgcolor": "#E5ECF6",
           "radialaxis": {
            "gridcolor": "white",
            "linecolor": "white",
            "ticks": ""
           }
          },
          "scene": {
           "xaxis": {
            "backgroundcolor": "#E5ECF6",
            "gridcolor": "white",
            "gridwidth": 2,
            "linecolor": "white",
            "showbackground": true,
            "ticks": "",
            "zerolinecolor": "white"
           },
           "yaxis": {
            "backgroundcolor": "#E5ECF6",
            "gridcolor": "white",
            "gridwidth": 2,
            "linecolor": "white",
            "showbackground": true,
            "ticks": "",
            "zerolinecolor": "white"
           },
           "zaxis": {
            "backgroundcolor": "#E5ECF6",
            "gridcolor": "white",
            "gridwidth": 2,
            "linecolor": "white",
            "showbackground": true,
            "ticks": "",
            "zerolinecolor": "white"
           }
          },
          "shapedefaults": {
           "line": {
            "color": "#2a3f5f"
           }
          },
          "ternary": {
           "aaxis": {
            "gridcolor": "white",
            "linecolor": "white",
            "ticks": ""
           },
           "baxis": {
            "gridcolor": "white",
            "linecolor": "white",
            "ticks": ""
           },
           "bgcolor": "#E5ECF6",
           "caxis": {
            "gridcolor": "white",
            "linecolor": "white",
            "ticks": ""
           }
          },
          "title": {
           "x": 0.05
          },
          "xaxis": {
           "automargin": true,
           "gridcolor": "white",
           "linecolor": "white",
           "ticks": "",
           "title": {
            "standoff": 15
           },
           "zerolinecolor": "white",
           "zerolinewidth": 2
          },
          "yaxis": {
           "automargin": true,
           "gridcolor": "white",
           "linecolor": "white",
           "ticks": "",
           "title": {
            "standoff": 15
           },
           "zerolinecolor": "white",
           "zerolinewidth": 2
          }
         }
        },
        "title": {
         "text": "Соотношение заведений по количеству"
        }
       }
      },
      "text/html": [
       "<div>                            <div id=\"1efe4d9a-2ebf-4926-bd8a-98fb34fc0ce3\" class=\"plotly-graph-div\" style=\"height:525px; width:100%;\"></div>            <script type=\"text/javascript\">                require([\"plotly\"], function(Plotly) {                    window.PLOTLYENV=window.PLOTLYENV || {};                                    if (document.getElementById(\"1efe4d9a-2ebf-4926-bd8a-98fb34fc0ce3\")) {                    Plotly.newPlot(                        \"1efe4d9a-2ebf-4926-bd8a-98fb34fc0ce3\",                        [{\"labels\":[\"\\u043d\\u0435\\u0442\",\"\\u0434\\u0430\"],\"values\":[12317,2964],\"type\":\"pie\"}],                        {\"template\":{\"data\":{\"bar\":[{\"error_x\":{\"color\":\"#2a3f5f\"},\"error_y\":{\"color\":\"#2a3f5f\"},\"marker\":{\"line\":{\"color\":\"#E5ECF6\",\"width\":0.5},\"pattern\":{\"fillmode\":\"overlay\",\"size\":10,\"solidity\":0.2}},\"type\":\"bar\"}],\"barpolar\":[{\"marker\":{\"line\":{\"color\":\"#E5ECF6\",\"width\":0.5},\"pattern\":{\"fillmode\":\"overlay\",\"size\":10,\"solidity\":0.2}},\"type\":\"barpolar\"}],\"carpet\":[{\"aaxis\":{\"endlinecolor\":\"#2a3f5f\",\"gridcolor\":\"white\",\"linecolor\":\"white\",\"minorgridcolor\":\"white\",\"startlinecolor\":\"#2a3f5f\"},\"baxis\":{\"endlinecolor\":\"#2a3f5f\",\"gridcolor\":\"white\",\"linecolor\":\"white\",\"minorgridcolor\":\"white\",\"startlinecolor\":\"#2a3f5f\"},\"type\":\"carpet\"}],\"choropleth\":[{\"colorbar\":{\"outlinewidth\":0,\"ticks\":\"\"},\"type\":\"choropleth\"}],\"contour\":[{\"colorbar\":{\"outlinewidth\":0,\"ticks\":\"\"},\"colorscale\":[[0.0,\"#0d0887\"],[0.1111111111111111,\"#46039f\"],[0.2222222222222222,\"#7201a8\"],[0.3333333333333333,\"#9c179e\"],[0.4444444444444444,\"#bd3786\"],[0.5555555555555556,\"#d8576b\"],[0.6666666666666666,\"#ed7953\"],[0.7777777777777778,\"#fb9f3a\"],[0.8888888888888888,\"#fdca26\"],[1.0,\"#f0f921\"]],\"type\":\"contour\"}],\"contourcarpet\":[{\"colorbar\":{\"outlinewidth\":0,\"ticks\":\"\"},\"type\":\"contourcarpet\"}],\"heatmap\":[{\"colorbar\":{\"outlinewidth\":0,\"ticks\":\"\"},\"colorscale\":[[0.0,\"#0d0887\"],[0.1111111111111111,\"#46039f\"],[0.2222222222222222,\"#7201a8\"],[0.3333333333333333,\"#9c179e\"],[0.4444444444444444,\"#bd3786\"],[0.5555555555555556,\"#d8576b\"],[0.6666666666666666,\"#ed7953\"],[0.7777777777777778,\"#fb9f3a\"],[0.8888888888888888,\"#fdca26\"],[1.0,\"#f0f921\"]],\"type\":\"heatmap\"}],\"heatmapgl\":[{\"colorbar\":{\"outlinewidth\":0,\"ticks\":\"\"},\"colorscale\":[[0.0,\"#0d0887\"],[0.1111111111111111,\"#46039f\"],[0.2222222222222222,\"#7201a8\"],[0.3333333333333333,\"#9c179e\"],[0.4444444444444444,\"#bd3786\"],[0.5555555555555556,\"#d8576b\"],[0.6666666666666666,\"#ed7953\"],[0.7777777777777778,\"#fb9f3a\"],[0.8888888888888888,\"#fdca26\"],[1.0,\"#f0f921\"]],\"type\":\"heatmapgl\"}],\"histogram\":[{\"marker\":{\"pattern\":{\"fillmode\":\"overlay\",\"size\":10,\"solidity\":0.2}},\"type\":\"histogram\"}],\"histogram2d\":[{\"colorbar\":{\"outlinewidth\":0,\"ticks\":\"\"},\"colorscale\":[[0.0,\"#0d0887\"],[0.1111111111111111,\"#46039f\"],[0.2222222222222222,\"#7201a8\"],[0.3333333333333333,\"#9c179e\"],[0.4444444444444444,\"#bd3786\"],[0.5555555555555556,\"#d8576b\"],[0.6666666666666666,\"#ed7953\"],[0.7777777777777778,\"#fb9f3a\"],[0.8888888888888888,\"#fdca26\"],[1.0,\"#f0f921\"]],\"type\":\"histogram2d\"}],\"histogram2dcontour\":[{\"colorbar\":{\"outlinewidth\":0,\"ticks\":\"\"},\"colorscale\":[[0.0,\"#0d0887\"],[0.1111111111111111,\"#46039f\"],[0.2222222222222222,\"#7201a8\"],[0.3333333333333333,\"#9c179e\"],[0.4444444444444444,\"#bd3786\"],[0.5555555555555556,\"#d8576b\"],[0.6666666666666666,\"#ed7953\"],[0.7777777777777778,\"#fb9f3a\"],[0.8888888888888888,\"#fdca26\"],[1.0,\"#f0f921\"]],\"type\":\"histogram2dcontour\"}],\"mesh3d\":[{\"colorbar\":{\"outlinewidth\":0,\"ticks\":\"\"},\"type\":\"mesh3d\"}],\"parcoords\":[{\"line\":{\"colorbar\":{\"outlinewidth\":0,\"ticks\":\"\"}},\"type\":\"parcoords\"}],\"pie\":[{\"automargin\":true,\"type\":\"pie\"}],\"scatter\":[{\"marker\":{\"colorbar\":{\"outlinewidth\":0,\"ticks\":\"\"}},\"type\":\"scatter\"}],\"scatter3d\":[{\"line\":{\"colorbar\":{\"outlinewidth\":0,\"ticks\":\"\"}},\"marker\":{\"colorbar\":{\"outlinewidth\":0,\"ticks\":\"\"}},\"type\":\"scatter3d\"}],\"scattercarpet\":[{\"marker\":{\"colorbar\":{\"outlinewidth\":0,\"ticks\":\"\"}},\"type\":\"scattercarpet\"}],\"scattergeo\":[{\"marker\":{\"colorbar\":{\"outlinewidth\":0,\"ticks\":\"\"}},\"type\":\"scattergeo\"}],\"scattergl\":[{\"marker\":{\"colorbar\":{\"outlinewidth\":0,\"ticks\":\"\"}},\"type\":\"scattergl\"}],\"scattermapbox\":[{\"marker\":{\"colorbar\":{\"outlinewidth\":0,\"ticks\":\"\"}},\"type\":\"scattermapbox\"}],\"scatterpolar\":[{\"marker\":{\"colorbar\":{\"outlinewidth\":0,\"ticks\":\"\"}},\"type\":\"scatterpolar\"}],\"scatterpolargl\":[{\"marker\":{\"colorbar\":{\"outlinewidth\":0,\"ticks\":\"\"}},\"type\":\"scatterpolargl\"}],\"scatterternary\":[{\"marker\":{\"colorbar\":{\"outlinewidth\":0,\"ticks\":\"\"}},\"type\":\"scatterternary\"}],\"surface\":[{\"colorbar\":{\"outlinewidth\":0,\"ticks\":\"\"},\"colorscale\":[[0.0,\"#0d0887\"],[0.1111111111111111,\"#46039f\"],[0.2222222222222222,\"#7201a8\"],[0.3333333333333333,\"#9c179e\"],[0.4444444444444444,\"#bd3786\"],[0.5555555555555556,\"#d8576b\"],[0.6666666666666666,\"#ed7953\"],[0.7777777777777778,\"#fb9f3a\"],[0.8888888888888888,\"#fdca26\"],[1.0,\"#f0f921\"]],\"type\":\"surface\"}],\"table\":[{\"cells\":{\"fill\":{\"color\":\"#EBF0F8\"},\"line\":{\"color\":\"white\"}},\"header\":{\"fill\":{\"color\":\"#C8D4E3\"},\"line\":{\"color\":\"white\"}},\"type\":\"table\"}]},\"layout\":{\"annotationdefaults\":{\"arrowcolor\":\"#2a3f5f\",\"arrowhead\":0,\"arrowwidth\":1},\"autotypenumbers\":\"strict\",\"coloraxis\":{\"colorbar\":{\"outlinewidth\":0,\"ticks\":\"\"}},\"colorscale\":{\"diverging\":[[0,\"#8e0152\"],[0.1,\"#c51b7d\"],[0.2,\"#de77ae\"],[0.3,\"#f1b6da\"],[0.4,\"#fde0ef\"],[0.5,\"#f7f7f7\"],[0.6,\"#e6f5d0\"],[0.7,\"#b8e186\"],[0.8,\"#7fbc41\"],[0.9,\"#4d9221\"],[1,\"#276419\"]],\"sequential\":[[0.0,\"#0d0887\"],[0.1111111111111111,\"#46039f\"],[0.2222222222222222,\"#7201a8\"],[0.3333333333333333,\"#9c179e\"],[0.4444444444444444,\"#bd3786\"],[0.5555555555555556,\"#d8576b\"],[0.6666666666666666,\"#ed7953\"],[0.7777777777777778,\"#fb9f3a\"],[0.8888888888888888,\"#fdca26\"],[1.0,\"#f0f921\"]],\"sequentialminus\":[[0.0,\"#0d0887\"],[0.1111111111111111,\"#46039f\"],[0.2222222222222222,\"#7201a8\"],[0.3333333333333333,\"#9c179e\"],[0.4444444444444444,\"#bd3786\"],[0.5555555555555556,\"#d8576b\"],[0.6666666666666666,\"#ed7953\"],[0.7777777777777778,\"#fb9f3a\"],[0.8888888888888888,\"#fdca26\"],[1.0,\"#f0f921\"]]},\"colorway\":[\"#636efa\",\"#EF553B\",\"#00cc96\",\"#ab63fa\",\"#FFA15A\",\"#19d3f3\",\"#FF6692\",\"#B6E880\",\"#FF97FF\",\"#FECB52\"],\"font\":{\"color\":\"#2a3f5f\"},\"geo\":{\"bgcolor\":\"white\",\"lakecolor\":\"white\",\"landcolor\":\"#E5ECF6\",\"showlakes\":true,\"showland\":true,\"subunitcolor\":\"white\"},\"hoverlabel\":{\"align\":\"left\"},\"hovermode\":\"closest\",\"mapbox\":{\"style\":\"light\"},\"paper_bgcolor\":\"white\",\"plot_bgcolor\":\"#E5ECF6\",\"polar\":{\"angularaxis\":{\"gridcolor\":\"white\",\"linecolor\":\"white\",\"ticks\":\"\"},\"bgcolor\":\"#E5ECF6\",\"radialaxis\":{\"gridcolor\":\"white\",\"linecolor\":\"white\",\"ticks\":\"\"}},\"scene\":{\"xaxis\":{\"backgroundcolor\":\"#E5ECF6\",\"gridcolor\":\"white\",\"gridwidth\":2,\"linecolor\":\"white\",\"showbackground\":true,\"ticks\":\"\",\"zerolinecolor\":\"white\"},\"yaxis\":{\"backgroundcolor\":\"#E5ECF6\",\"gridcolor\":\"white\",\"gridwidth\":2,\"linecolor\":\"white\",\"showbackground\":true,\"ticks\":\"\",\"zerolinecolor\":\"white\"},\"zaxis\":{\"backgroundcolor\":\"#E5ECF6\",\"gridcolor\":\"white\",\"gridwidth\":2,\"linecolor\":\"white\",\"showbackground\":true,\"ticks\":\"\",\"zerolinecolor\":\"white\"}},\"shapedefaults\":{\"line\":{\"color\":\"#2a3f5f\"}},\"ternary\":{\"aaxis\":{\"gridcolor\":\"white\",\"linecolor\":\"white\",\"ticks\":\"\"},\"baxis\":{\"gridcolor\":\"white\",\"linecolor\":\"white\",\"ticks\":\"\"},\"bgcolor\":\"#E5ECF6\",\"caxis\":{\"gridcolor\":\"white\",\"linecolor\":\"white\",\"ticks\":\"\"}},\"title\":{\"x\":0.05},\"xaxis\":{\"automargin\":true,\"gridcolor\":\"white\",\"linecolor\":\"white\",\"ticks\":\"\",\"title\":{\"standoff\":15},\"zerolinecolor\":\"white\",\"zerolinewidth\":2},\"yaxis\":{\"automargin\":true,\"gridcolor\":\"white\",\"linecolor\":\"white\",\"ticks\":\"\",\"title\":{\"standoff\":15},\"zerolinecolor\":\"white\",\"zerolinewidth\":2}}},\"title\":{\"text\":\"\\u0421\\u043e\\u043e\\u0442\\u043d\\u043e\\u0448\\u0435\\u043d\\u0438\\u0435 \\u0437\\u0430\\u0432\\u0435\\u0434\\u0435\\u043d\\u0438\\u0439 \\u043f\\u043e \\u043a\\u043e\\u043b\\u0438\\u0447\\u0435\\u0441\\u0442\\u0432\\u0443\"}},                        {\"responsive\": true}                    ).then(function(){\n",
       "                            \n",
       "var gd = document.getElementById('1efe4d9a-2ebf-4926-bd8a-98fb34fc0ce3');\n",
       "var x = new MutationObserver(function (mutations, observer) {{\n",
       "        var display = window.getComputedStyle(gd).display;\n",
       "        if (!display || display === 'none') {{\n",
       "            console.log([gd, 'removed!']);\n",
       "            Plotly.purge(gd);\n",
       "            observer.disconnect();\n",
       "        }}\n",
       "}});\n",
       "\n",
       "// Listen for the removal of the full notebook cells\n",
       "var notebookContainer = gd.closest('#notebook-container');\n",
       "if (notebookContainer) {{\n",
       "    x.observe(notebookContainer, {childList: true});\n",
       "}}\n",
       "\n",
       "// Listen for the clearing of the current output cell\n",
       "var outputEl = gd.closest('.output');\n",
       "if (outputEl) {{\n",
       "    x.observe(outputEl, {childList: true});\n",
       "}}\n",
       "\n",
       "                        })                };                });            </script>        </div>"
      ]
     },
     "metadata": {},
     "output_type": "display_data"
    }
   ],
   "source": [
    "go_pie(rest, 'chain')"
   ]
  },
  {
   "cell_type": "markdown",
   "metadata": {},
   "source": [
    "#### Вывод\n",
    "Львиную долю рынка занимают несетевые заведения - 80.6%, на сетевые приходится 19.4%."
   ]
  },
  {
   "cell_type": "markdown",
   "metadata": {},
   "source": [
    "### Распределение сетевых объектов общественного питания по видам"
   ]
  },
  {
   "cell_type": "markdown",
   "metadata": {},
   "source": [
    "Рассмотрим только сетевые заведения."
   ]
  },
  {
   "cell_type": "code",
   "execution_count": 41,
   "metadata": {
    "scrolled": false
   },
   "outputs": [
    {
     "data": {
      "application/vnd.plotly.v1+json": {
       "config": {
        "plotlyServerURL": "https://plot.ly"
       },
       "data": [
        {
         "labels": [
          "кафе",
          "предприятие быстрого обслуживания",
          "ресторан",
          "магазин (отдел кулинарии)",
          "закусочная",
          "кафетерий",
          "бар",
          "буфет",
          "столовая"
         ],
         "type": "pie",
         "values": [
          1396,
          788,
          543,
          78,
          56,
          52,
          37,
          11,
          3
         ]
        }
       ],
       "layout": {
        "template": {
         "data": {
          "bar": [
           {
            "error_x": {
             "color": "#2a3f5f"
            },
            "error_y": {
             "color": "#2a3f5f"
            },
            "marker": {
             "line": {
              "color": "#E5ECF6",
              "width": 0.5
             },
             "pattern": {
              "fillmode": "overlay",
              "size": 10,
              "solidity": 0.2
             }
            },
            "type": "bar"
           }
          ],
          "barpolar": [
           {
            "marker": {
             "line": {
              "color": "#E5ECF6",
              "width": 0.5
             },
             "pattern": {
              "fillmode": "overlay",
              "size": 10,
              "solidity": 0.2
             }
            },
            "type": "barpolar"
           }
          ],
          "carpet": [
           {
            "aaxis": {
             "endlinecolor": "#2a3f5f",
             "gridcolor": "white",
             "linecolor": "white",
             "minorgridcolor": "white",
             "startlinecolor": "#2a3f5f"
            },
            "baxis": {
             "endlinecolor": "#2a3f5f",
             "gridcolor": "white",
             "linecolor": "white",
             "minorgridcolor": "white",
             "startlinecolor": "#2a3f5f"
            },
            "type": "carpet"
           }
          ],
          "choropleth": [
           {
            "colorbar": {
             "outlinewidth": 0,
             "ticks": ""
            },
            "type": "choropleth"
           }
          ],
          "contour": [
           {
            "colorbar": {
             "outlinewidth": 0,
             "ticks": ""
            },
            "colorscale": [
             [
              0,
              "#0d0887"
             ],
             [
              0.1111111111111111,
              "#46039f"
             ],
             [
              0.2222222222222222,
              "#7201a8"
             ],
             [
              0.3333333333333333,
              "#9c179e"
             ],
             [
              0.4444444444444444,
              "#bd3786"
             ],
             [
              0.5555555555555556,
              "#d8576b"
             ],
             [
              0.6666666666666666,
              "#ed7953"
             ],
             [
              0.7777777777777778,
              "#fb9f3a"
             ],
             [
              0.8888888888888888,
              "#fdca26"
             ],
             [
              1,
              "#f0f921"
             ]
            ],
            "type": "contour"
           }
          ],
          "contourcarpet": [
           {
            "colorbar": {
             "outlinewidth": 0,
             "ticks": ""
            },
            "type": "contourcarpet"
           }
          ],
          "heatmap": [
           {
            "colorbar": {
             "outlinewidth": 0,
             "ticks": ""
            },
            "colorscale": [
             [
              0,
              "#0d0887"
             ],
             [
              0.1111111111111111,
              "#46039f"
             ],
             [
              0.2222222222222222,
              "#7201a8"
             ],
             [
              0.3333333333333333,
              "#9c179e"
             ],
             [
              0.4444444444444444,
              "#bd3786"
             ],
             [
              0.5555555555555556,
              "#d8576b"
             ],
             [
              0.6666666666666666,
              "#ed7953"
             ],
             [
              0.7777777777777778,
              "#fb9f3a"
             ],
             [
              0.8888888888888888,
              "#fdca26"
             ],
             [
              1,
              "#f0f921"
             ]
            ],
            "type": "heatmap"
           }
          ],
          "heatmapgl": [
           {
            "colorbar": {
             "outlinewidth": 0,
             "ticks": ""
            },
            "colorscale": [
             [
              0,
              "#0d0887"
             ],
             [
              0.1111111111111111,
              "#46039f"
             ],
             [
              0.2222222222222222,
              "#7201a8"
             ],
             [
              0.3333333333333333,
              "#9c179e"
             ],
             [
              0.4444444444444444,
              "#bd3786"
             ],
             [
              0.5555555555555556,
              "#d8576b"
             ],
             [
              0.6666666666666666,
              "#ed7953"
             ],
             [
              0.7777777777777778,
              "#fb9f3a"
             ],
             [
              0.8888888888888888,
              "#fdca26"
             ],
             [
              1,
              "#f0f921"
             ]
            ],
            "type": "heatmapgl"
           }
          ],
          "histogram": [
           {
            "marker": {
             "pattern": {
              "fillmode": "overlay",
              "size": 10,
              "solidity": 0.2
             }
            },
            "type": "histogram"
           }
          ],
          "histogram2d": [
           {
            "colorbar": {
             "outlinewidth": 0,
             "ticks": ""
            },
            "colorscale": [
             [
              0,
              "#0d0887"
             ],
             [
              0.1111111111111111,
              "#46039f"
             ],
             [
              0.2222222222222222,
              "#7201a8"
             ],
             [
              0.3333333333333333,
              "#9c179e"
             ],
             [
              0.4444444444444444,
              "#bd3786"
             ],
             [
              0.5555555555555556,
              "#d8576b"
             ],
             [
              0.6666666666666666,
              "#ed7953"
             ],
             [
              0.7777777777777778,
              "#fb9f3a"
             ],
             [
              0.8888888888888888,
              "#fdca26"
             ],
             [
              1,
              "#f0f921"
             ]
            ],
            "type": "histogram2d"
           }
          ],
          "histogram2dcontour": [
           {
            "colorbar": {
             "outlinewidth": 0,
             "ticks": ""
            },
            "colorscale": [
             [
              0,
              "#0d0887"
             ],
             [
              0.1111111111111111,
              "#46039f"
             ],
             [
              0.2222222222222222,
              "#7201a8"
             ],
             [
              0.3333333333333333,
              "#9c179e"
             ],
             [
              0.4444444444444444,
              "#bd3786"
             ],
             [
              0.5555555555555556,
              "#d8576b"
             ],
             [
              0.6666666666666666,
              "#ed7953"
             ],
             [
              0.7777777777777778,
              "#fb9f3a"
             ],
             [
              0.8888888888888888,
              "#fdca26"
             ],
             [
              1,
              "#f0f921"
             ]
            ],
            "type": "histogram2dcontour"
           }
          ],
          "mesh3d": [
           {
            "colorbar": {
             "outlinewidth": 0,
             "ticks": ""
            },
            "type": "mesh3d"
           }
          ],
          "parcoords": [
           {
            "line": {
             "colorbar": {
              "outlinewidth": 0,
              "ticks": ""
             }
            },
            "type": "parcoords"
           }
          ],
          "pie": [
           {
            "automargin": true,
            "type": "pie"
           }
          ],
          "scatter": [
           {
            "marker": {
             "colorbar": {
              "outlinewidth": 0,
              "ticks": ""
             }
            },
            "type": "scatter"
           }
          ],
          "scatter3d": [
           {
            "line": {
             "colorbar": {
              "outlinewidth": 0,
              "ticks": ""
             }
            },
            "marker": {
             "colorbar": {
              "outlinewidth": 0,
              "ticks": ""
             }
            },
            "type": "scatter3d"
           }
          ],
          "scattercarpet": [
           {
            "marker": {
             "colorbar": {
              "outlinewidth": 0,
              "ticks": ""
             }
            },
            "type": "scattercarpet"
           }
          ],
          "scattergeo": [
           {
            "marker": {
             "colorbar": {
              "outlinewidth": 0,
              "ticks": ""
             }
            },
            "type": "scattergeo"
           }
          ],
          "scattergl": [
           {
            "marker": {
             "colorbar": {
              "outlinewidth": 0,
              "ticks": ""
             }
            },
            "type": "scattergl"
           }
          ],
          "scattermapbox": [
           {
            "marker": {
             "colorbar": {
              "outlinewidth": 0,
              "ticks": ""
             }
            },
            "type": "scattermapbox"
           }
          ],
          "scatterpolar": [
           {
            "marker": {
             "colorbar": {
              "outlinewidth": 0,
              "ticks": ""
             }
            },
            "type": "scatterpolar"
           }
          ],
          "scatterpolargl": [
           {
            "marker": {
             "colorbar": {
              "outlinewidth": 0,
              "ticks": ""
             }
            },
            "type": "scatterpolargl"
           }
          ],
          "scatterternary": [
           {
            "marker": {
             "colorbar": {
              "outlinewidth": 0,
              "ticks": ""
             }
            },
            "type": "scatterternary"
           }
          ],
          "surface": [
           {
            "colorbar": {
             "outlinewidth": 0,
             "ticks": ""
            },
            "colorscale": [
             [
              0,
              "#0d0887"
             ],
             [
              0.1111111111111111,
              "#46039f"
             ],
             [
              0.2222222222222222,
              "#7201a8"
             ],
             [
              0.3333333333333333,
              "#9c179e"
             ],
             [
              0.4444444444444444,
              "#bd3786"
             ],
             [
              0.5555555555555556,
              "#d8576b"
             ],
             [
              0.6666666666666666,
              "#ed7953"
             ],
             [
              0.7777777777777778,
              "#fb9f3a"
             ],
             [
              0.8888888888888888,
              "#fdca26"
             ],
             [
              1,
              "#f0f921"
             ]
            ],
            "type": "surface"
           }
          ],
          "table": [
           {
            "cells": {
             "fill": {
              "color": "#EBF0F8"
             },
             "line": {
              "color": "white"
             }
            },
            "header": {
             "fill": {
              "color": "#C8D4E3"
             },
             "line": {
              "color": "white"
             }
            },
            "type": "table"
           }
          ]
         },
         "layout": {
          "annotationdefaults": {
           "arrowcolor": "#2a3f5f",
           "arrowhead": 0,
           "arrowwidth": 1
          },
          "autotypenumbers": "strict",
          "coloraxis": {
           "colorbar": {
            "outlinewidth": 0,
            "ticks": ""
           }
          },
          "colorscale": {
           "diverging": [
            [
             0,
             "#8e0152"
            ],
            [
             0.1,
             "#c51b7d"
            ],
            [
             0.2,
             "#de77ae"
            ],
            [
             0.3,
             "#f1b6da"
            ],
            [
             0.4,
             "#fde0ef"
            ],
            [
             0.5,
             "#f7f7f7"
            ],
            [
             0.6,
             "#e6f5d0"
            ],
            [
             0.7,
             "#b8e186"
            ],
            [
             0.8,
             "#7fbc41"
            ],
            [
             0.9,
             "#4d9221"
            ],
            [
             1,
             "#276419"
            ]
           ],
           "sequential": [
            [
             0,
             "#0d0887"
            ],
            [
             0.1111111111111111,
             "#46039f"
            ],
            [
             0.2222222222222222,
             "#7201a8"
            ],
            [
             0.3333333333333333,
             "#9c179e"
            ],
            [
             0.4444444444444444,
             "#bd3786"
            ],
            [
             0.5555555555555556,
             "#d8576b"
            ],
            [
             0.6666666666666666,
             "#ed7953"
            ],
            [
             0.7777777777777778,
             "#fb9f3a"
            ],
            [
             0.8888888888888888,
             "#fdca26"
            ],
            [
             1,
             "#f0f921"
            ]
           ],
           "sequentialminus": [
            [
             0,
             "#0d0887"
            ],
            [
             0.1111111111111111,
             "#46039f"
            ],
            [
             0.2222222222222222,
             "#7201a8"
            ],
            [
             0.3333333333333333,
             "#9c179e"
            ],
            [
             0.4444444444444444,
             "#bd3786"
            ],
            [
             0.5555555555555556,
             "#d8576b"
            ],
            [
             0.6666666666666666,
             "#ed7953"
            ],
            [
             0.7777777777777778,
             "#fb9f3a"
            ],
            [
             0.8888888888888888,
             "#fdca26"
            ],
            [
             1,
             "#f0f921"
            ]
           ]
          },
          "colorway": [
           "#636efa",
           "#EF553B",
           "#00cc96",
           "#ab63fa",
           "#FFA15A",
           "#19d3f3",
           "#FF6692",
           "#B6E880",
           "#FF97FF",
           "#FECB52"
          ],
          "font": {
           "color": "#2a3f5f"
          },
          "geo": {
           "bgcolor": "white",
           "lakecolor": "white",
           "landcolor": "#E5ECF6",
           "showlakes": true,
           "showland": true,
           "subunitcolor": "white"
          },
          "hoverlabel": {
           "align": "left"
          },
          "hovermode": "closest",
          "mapbox": {
           "style": "light"
          },
          "paper_bgcolor": "white",
          "plot_bgcolor": "#E5ECF6",
          "polar": {
           "angularaxis": {
            "gridcolor": "white",
            "linecolor": "white",
            "ticks": ""
           },
           "bgcolor": "#E5ECF6",
           "radialaxis": {
            "gridcolor": "white",
            "linecolor": "white",
            "ticks": ""
           }
          },
          "scene": {
           "xaxis": {
            "backgroundcolor": "#E5ECF6",
            "gridcolor": "white",
            "gridwidth": 2,
            "linecolor": "white",
            "showbackground": true,
            "ticks": "",
            "zerolinecolor": "white"
           },
           "yaxis": {
            "backgroundcolor": "#E5ECF6",
            "gridcolor": "white",
            "gridwidth": 2,
            "linecolor": "white",
            "showbackground": true,
            "ticks": "",
            "zerolinecolor": "white"
           },
           "zaxis": {
            "backgroundcolor": "#E5ECF6",
            "gridcolor": "white",
            "gridwidth": 2,
            "linecolor": "white",
            "showbackground": true,
            "ticks": "",
            "zerolinecolor": "white"
           }
          },
          "shapedefaults": {
           "line": {
            "color": "#2a3f5f"
           }
          },
          "ternary": {
           "aaxis": {
            "gridcolor": "white",
            "linecolor": "white",
            "ticks": ""
           },
           "baxis": {
            "gridcolor": "white",
            "linecolor": "white",
            "ticks": ""
           },
           "bgcolor": "#E5ECF6",
           "caxis": {
            "gridcolor": "white",
            "linecolor": "white",
            "ticks": ""
           }
          },
          "title": {
           "x": 0.05
          },
          "xaxis": {
           "automargin": true,
           "gridcolor": "white",
           "linecolor": "white",
           "ticks": "",
           "title": {
            "standoff": 15
           },
           "zerolinecolor": "white",
           "zerolinewidth": 2
          },
          "yaxis": {
           "automargin": true,
           "gridcolor": "white",
           "linecolor": "white",
           "ticks": "",
           "title": {
            "standoff": 15
           },
           "zerolinecolor": "white",
           "zerolinewidth": 2
          }
         }
        },
        "title": {
         "text": "Соотношение заведений по количеству"
        }
       }
      },
      "text/html": [
       "<div>                            <div id=\"f659fbef-ef7a-46b3-996f-9c32fc81d151\" class=\"plotly-graph-div\" style=\"height:525px; width:100%;\"></div>            <script type=\"text/javascript\">                require([\"plotly\"], function(Plotly) {                    window.PLOTLYENV=window.PLOTLYENV || {};                                    if (document.getElementById(\"f659fbef-ef7a-46b3-996f-9c32fc81d151\")) {                    Plotly.newPlot(                        \"f659fbef-ef7a-46b3-996f-9c32fc81d151\",                        [{\"labels\":[\"\\u043a\\u0430\\u0444\\u0435\",\"\\u043f\\u0440\\u0435\\u0434\\u043f\\u0440\\u0438\\u044f\\u0442\\u0438\\u0435 \\u0431\\u044b\\u0441\\u0442\\u0440\\u043e\\u0433\\u043e \\u043e\\u0431\\u0441\\u043b\\u0443\\u0436\\u0438\\u0432\\u0430\\u043d\\u0438\\u044f\",\"\\u0440\\u0435\\u0441\\u0442\\u043e\\u0440\\u0430\\u043d\",\"\\u043c\\u0430\\u0433\\u0430\\u0437\\u0438\\u043d (\\u043e\\u0442\\u0434\\u0435\\u043b \\u043a\\u0443\\u043b\\u0438\\u043d\\u0430\\u0440\\u0438\\u0438)\",\"\\u0437\\u0430\\u043a\\u0443\\u0441\\u043e\\u0447\\u043d\\u0430\\u044f\",\"\\u043a\\u0430\\u0444\\u0435\\u0442\\u0435\\u0440\\u0438\\u0439\",\"\\u0431\\u0430\\u0440\",\"\\u0431\\u0443\\u0444\\u0435\\u0442\",\"\\u0441\\u0442\\u043e\\u043b\\u043e\\u0432\\u0430\\u044f\"],\"values\":[1396,788,543,78,56,52,37,11,3],\"type\":\"pie\"}],                        {\"template\":{\"data\":{\"bar\":[{\"error_x\":{\"color\":\"#2a3f5f\"},\"error_y\":{\"color\":\"#2a3f5f\"},\"marker\":{\"line\":{\"color\":\"#E5ECF6\",\"width\":0.5},\"pattern\":{\"fillmode\":\"overlay\",\"size\":10,\"solidity\":0.2}},\"type\":\"bar\"}],\"barpolar\":[{\"marker\":{\"line\":{\"color\":\"#E5ECF6\",\"width\":0.5},\"pattern\":{\"fillmode\":\"overlay\",\"size\":10,\"solidity\":0.2}},\"type\":\"barpolar\"}],\"carpet\":[{\"aaxis\":{\"endlinecolor\":\"#2a3f5f\",\"gridcolor\":\"white\",\"linecolor\":\"white\",\"minorgridcolor\":\"white\",\"startlinecolor\":\"#2a3f5f\"},\"baxis\":{\"endlinecolor\":\"#2a3f5f\",\"gridcolor\":\"white\",\"linecolor\":\"white\",\"minorgridcolor\":\"white\",\"startlinecolor\":\"#2a3f5f\"},\"type\":\"carpet\"}],\"choropleth\":[{\"colorbar\":{\"outlinewidth\":0,\"ticks\":\"\"},\"type\":\"choropleth\"}],\"contour\":[{\"colorbar\":{\"outlinewidth\":0,\"ticks\":\"\"},\"colorscale\":[[0.0,\"#0d0887\"],[0.1111111111111111,\"#46039f\"],[0.2222222222222222,\"#7201a8\"],[0.3333333333333333,\"#9c179e\"],[0.4444444444444444,\"#bd3786\"],[0.5555555555555556,\"#d8576b\"],[0.6666666666666666,\"#ed7953\"],[0.7777777777777778,\"#fb9f3a\"],[0.8888888888888888,\"#fdca26\"],[1.0,\"#f0f921\"]],\"type\":\"contour\"}],\"contourcarpet\":[{\"colorbar\":{\"outlinewidth\":0,\"ticks\":\"\"},\"type\":\"contourcarpet\"}],\"heatmap\":[{\"colorbar\":{\"outlinewidth\":0,\"ticks\":\"\"},\"colorscale\":[[0.0,\"#0d0887\"],[0.1111111111111111,\"#46039f\"],[0.2222222222222222,\"#7201a8\"],[0.3333333333333333,\"#9c179e\"],[0.4444444444444444,\"#bd3786\"],[0.5555555555555556,\"#d8576b\"],[0.6666666666666666,\"#ed7953\"],[0.7777777777777778,\"#fb9f3a\"],[0.8888888888888888,\"#fdca26\"],[1.0,\"#f0f921\"]],\"type\":\"heatmap\"}],\"heatmapgl\":[{\"colorbar\":{\"outlinewidth\":0,\"ticks\":\"\"},\"colorscale\":[[0.0,\"#0d0887\"],[0.1111111111111111,\"#46039f\"],[0.2222222222222222,\"#7201a8\"],[0.3333333333333333,\"#9c179e\"],[0.4444444444444444,\"#bd3786\"],[0.5555555555555556,\"#d8576b\"],[0.6666666666666666,\"#ed7953\"],[0.7777777777777778,\"#fb9f3a\"],[0.8888888888888888,\"#fdca26\"],[1.0,\"#f0f921\"]],\"type\":\"heatmapgl\"}],\"histogram\":[{\"marker\":{\"pattern\":{\"fillmode\":\"overlay\",\"size\":10,\"solidity\":0.2}},\"type\":\"histogram\"}],\"histogram2d\":[{\"colorbar\":{\"outlinewidth\":0,\"ticks\":\"\"},\"colorscale\":[[0.0,\"#0d0887\"],[0.1111111111111111,\"#46039f\"],[0.2222222222222222,\"#7201a8\"],[0.3333333333333333,\"#9c179e\"],[0.4444444444444444,\"#bd3786\"],[0.5555555555555556,\"#d8576b\"],[0.6666666666666666,\"#ed7953\"],[0.7777777777777778,\"#fb9f3a\"],[0.8888888888888888,\"#fdca26\"],[1.0,\"#f0f921\"]],\"type\":\"histogram2d\"}],\"histogram2dcontour\":[{\"colorbar\":{\"outlinewidth\":0,\"ticks\":\"\"},\"colorscale\":[[0.0,\"#0d0887\"],[0.1111111111111111,\"#46039f\"],[0.2222222222222222,\"#7201a8\"],[0.3333333333333333,\"#9c179e\"],[0.4444444444444444,\"#bd3786\"],[0.5555555555555556,\"#d8576b\"],[0.6666666666666666,\"#ed7953\"],[0.7777777777777778,\"#fb9f3a\"],[0.8888888888888888,\"#fdca26\"],[1.0,\"#f0f921\"]],\"type\":\"histogram2dcontour\"}],\"mesh3d\":[{\"colorbar\":{\"outlinewidth\":0,\"ticks\":\"\"},\"type\":\"mesh3d\"}],\"parcoords\":[{\"line\":{\"colorbar\":{\"outlinewidth\":0,\"ticks\":\"\"}},\"type\":\"parcoords\"}],\"pie\":[{\"automargin\":true,\"type\":\"pie\"}],\"scatter\":[{\"marker\":{\"colorbar\":{\"outlinewidth\":0,\"ticks\":\"\"}},\"type\":\"scatter\"}],\"scatter3d\":[{\"line\":{\"colorbar\":{\"outlinewidth\":0,\"ticks\":\"\"}},\"marker\":{\"colorbar\":{\"outlinewidth\":0,\"ticks\":\"\"}},\"type\":\"scatter3d\"}],\"scattercarpet\":[{\"marker\":{\"colorbar\":{\"outlinewidth\":0,\"ticks\":\"\"}},\"type\":\"scattercarpet\"}],\"scattergeo\":[{\"marker\":{\"colorbar\":{\"outlinewidth\":0,\"ticks\":\"\"}},\"type\":\"scattergeo\"}],\"scattergl\":[{\"marker\":{\"colorbar\":{\"outlinewidth\":0,\"ticks\":\"\"}},\"type\":\"scattergl\"}],\"scattermapbox\":[{\"marker\":{\"colorbar\":{\"outlinewidth\":0,\"ticks\":\"\"}},\"type\":\"scattermapbox\"}],\"scatterpolar\":[{\"marker\":{\"colorbar\":{\"outlinewidth\":0,\"ticks\":\"\"}},\"type\":\"scatterpolar\"}],\"scatterpolargl\":[{\"marker\":{\"colorbar\":{\"outlinewidth\":0,\"ticks\":\"\"}},\"type\":\"scatterpolargl\"}],\"scatterternary\":[{\"marker\":{\"colorbar\":{\"outlinewidth\":0,\"ticks\":\"\"}},\"type\":\"scatterternary\"}],\"surface\":[{\"colorbar\":{\"outlinewidth\":0,\"ticks\":\"\"},\"colorscale\":[[0.0,\"#0d0887\"],[0.1111111111111111,\"#46039f\"],[0.2222222222222222,\"#7201a8\"],[0.3333333333333333,\"#9c179e\"],[0.4444444444444444,\"#bd3786\"],[0.5555555555555556,\"#d8576b\"],[0.6666666666666666,\"#ed7953\"],[0.7777777777777778,\"#fb9f3a\"],[0.8888888888888888,\"#fdca26\"],[1.0,\"#f0f921\"]],\"type\":\"surface\"}],\"table\":[{\"cells\":{\"fill\":{\"color\":\"#EBF0F8\"},\"line\":{\"color\":\"white\"}},\"header\":{\"fill\":{\"color\":\"#C8D4E3\"},\"line\":{\"color\":\"white\"}},\"type\":\"table\"}]},\"layout\":{\"annotationdefaults\":{\"arrowcolor\":\"#2a3f5f\",\"arrowhead\":0,\"arrowwidth\":1},\"autotypenumbers\":\"strict\",\"coloraxis\":{\"colorbar\":{\"outlinewidth\":0,\"ticks\":\"\"}},\"colorscale\":{\"diverging\":[[0,\"#8e0152\"],[0.1,\"#c51b7d\"],[0.2,\"#de77ae\"],[0.3,\"#f1b6da\"],[0.4,\"#fde0ef\"],[0.5,\"#f7f7f7\"],[0.6,\"#e6f5d0\"],[0.7,\"#b8e186\"],[0.8,\"#7fbc41\"],[0.9,\"#4d9221\"],[1,\"#276419\"]],\"sequential\":[[0.0,\"#0d0887\"],[0.1111111111111111,\"#46039f\"],[0.2222222222222222,\"#7201a8\"],[0.3333333333333333,\"#9c179e\"],[0.4444444444444444,\"#bd3786\"],[0.5555555555555556,\"#d8576b\"],[0.6666666666666666,\"#ed7953\"],[0.7777777777777778,\"#fb9f3a\"],[0.8888888888888888,\"#fdca26\"],[1.0,\"#f0f921\"]],\"sequentialminus\":[[0.0,\"#0d0887\"],[0.1111111111111111,\"#46039f\"],[0.2222222222222222,\"#7201a8\"],[0.3333333333333333,\"#9c179e\"],[0.4444444444444444,\"#bd3786\"],[0.5555555555555556,\"#d8576b\"],[0.6666666666666666,\"#ed7953\"],[0.7777777777777778,\"#fb9f3a\"],[0.8888888888888888,\"#fdca26\"],[1.0,\"#f0f921\"]]},\"colorway\":[\"#636efa\",\"#EF553B\",\"#00cc96\",\"#ab63fa\",\"#FFA15A\",\"#19d3f3\",\"#FF6692\",\"#B6E880\",\"#FF97FF\",\"#FECB52\"],\"font\":{\"color\":\"#2a3f5f\"},\"geo\":{\"bgcolor\":\"white\",\"lakecolor\":\"white\",\"landcolor\":\"#E5ECF6\",\"showlakes\":true,\"showland\":true,\"subunitcolor\":\"white\"},\"hoverlabel\":{\"align\":\"left\"},\"hovermode\":\"closest\",\"mapbox\":{\"style\":\"light\"},\"paper_bgcolor\":\"white\",\"plot_bgcolor\":\"#E5ECF6\",\"polar\":{\"angularaxis\":{\"gridcolor\":\"white\",\"linecolor\":\"white\",\"ticks\":\"\"},\"bgcolor\":\"#E5ECF6\",\"radialaxis\":{\"gridcolor\":\"white\",\"linecolor\":\"white\",\"ticks\":\"\"}},\"scene\":{\"xaxis\":{\"backgroundcolor\":\"#E5ECF6\",\"gridcolor\":\"white\",\"gridwidth\":2,\"linecolor\":\"white\",\"showbackground\":true,\"ticks\":\"\",\"zerolinecolor\":\"white\"},\"yaxis\":{\"backgroundcolor\":\"#E5ECF6\",\"gridcolor\":\"white\",\"gridwidth\":2,\"linecolor\":\"white\",\"showbackground\":true,\"ticks\":\"\",\"zerolinecolor\":\"white\"},\"zaxis\":{\"backgroundcolor\":\"#E5ECF6\",\"gridcolor\":\"white\",\"gridwidth\":2,\"linecolor\":\"white\",\"showbackground\":true,\"ticks\":\"\",\"zerolinecolor\":\"white\"}},\"shapedefaults\":{\"line\":{\"color\":\"#2a3f5f\"}},\"ternary\":{\"aaxis\":{\"gridcolor\":\"white\",\"linecolor\":\"white\",\"ticks\":\"\"},\"baxis\":{\"gridcolor\":\"white\",\"linecolor\":\"white\",\"ticks\":\"\"},\"bgcolor\":\"#E5ECF6\",\"caxis\":{\"gridcolor\":\"white\",\"linecolor\":\"white\",\"ticks\":\"\"}},\"title\":{\"x\":0.05},\"xaxis\":{\"automargin\":true,\"gridcolor\":\"white\",\"linecolor\":\"white\",\"ticks\":\"\",\"title\":{\"standoff\":15},\"zerolinecolor\":\"white\",\"zerolinewidth\":2},\"yaxis\":{\"automargin\":true,\"gridcolor\":\"white\",\"linecolor\":\"white\",\"ticks\":\"\",\"title\":{\"standoff\":15},\"zerolinecolor\":\"white\",\"zerolinewidth\":2}}},\"title\":{\"text\":\"\\u0421\\u043e\\u043e\\u0442\\u043d\\u043e\\u0448\\u0435\\u043d\\u0438\\u0435 \\u0437\\u0430\\u0432\\u0435\\u0434\\u0435\\u043d\\u0438\\u0439 \\u043f\\u043e \\u043a\\u043e\\u043b\\u0438\\u0447\\u0435\\u0441\\u0442\\u0432\\u0443\"}},                        {\"responsive\": true}                    ).then(function(){\n",
       "                            \n",
       "var gd = document.getElementById('f659fbef-ef7a-46b3-996f-9c32fc81d151');\n",
       "var x = new MutationObserver(function (mutations, observer) {{\n",
       "        var display = window.getComputedStyle(gd).display;\n",
       "        if (!display || display === 'none') {{\n",
       "            console.log([gd, 'removed!']);\n",
       "            Plotly.purge(gd);\n",
       "            observer.disconnect();\n",
       "        }}\n",
       "}});\n",
       "\n",
       "// Listen for the removal of the full notebook cells\n",
       "var notebookContainer = gd.closest('#notebook-container');\n",
       "if (notebookContainer) {{\n",
       "    x.observe(notebookContainer, {childList: true});\n",
       "}}\n",
       "\n",
       "// Listen for the clearing of the current output cell\n",
       "var outputEl = gd.closest('.output');\n",
       "if (outputEl) {{\n",
       "    x.observe(outputEl, {childList: true});\n",
       "}}\n",
       "\n",
       "                        })                };                });            </script>        </div>"
      ]
     },
     "metadata": {},
     "output_type": "display_data"
    }
   ],
   "source": [
    "go_pie(rest[rest['chain'] == 'да'], 'object_type')"
   ]
  },
  {
   "cell_type": "markdown",
   "metadata": {},
   "source": [
    "В абсолютных значениях преобладают кафе - 1396 заведения, предприятия быстрого обслуживания - 788 и рестораны - 543. \n",
    "\n",
    "Посмотрим на соотношение сетевых заведений к общему количеству. "
   ]
  },
  {
   "cell_type": "code",
   "execution_count": 42,
   "metadata": {
    "scrolled": true
   },
   "outputs": [],
   "source": [
    "total_rest = rest.groupby(['object_type'], as_index=False).agg(quantity = ('address', 'count'))\n",
    "chain_rest = rest[rest['chain'] == 'да'].groupby(['object_type'], as_index=False).agg(quantity = ('address', 'count'))\n",
    "rest_merged = total_rest.merge(chain_rest, on='object_type')\n",
    "rest_merged['ratio'] = round(rest_merged['quantity_y'] / rest_merged['quantity_x'] * 100, 2)"
   ]
  },
  {
   "cell_type": "code",
   "execution_count": 43,
   "metadata": {},
   "outputs": [
    {
     "data": {
      "application/vnd.plotly.v1+json": {
       "config": {
        "plotlyServerURL": "https://plot.ly"
       },
       "data": [
        {
         "alignmentgroup": "True",
         "hovertemplate": "object_type=%{x}<br>ratio=%{y}<extra></extra>",
         "legendgroup": "",
         "marker": {
          "color": "#636efa",
          "pattern": {
           "shape": ""
          }
         },
         "name": "",
         "offsetgroup": "",
         "orientation": "v",
         "showlegend": false,
         "textposition": "auto",
         "type": "bar",
         "x": [
          "предприятие быстрого обслуживания",
          "магазин (отдел кулинарии)",
          "ресторан",
          "кафе",
          "закусочная",
          "кафетерий",
          "бар",
          "буфет",
          "столовая"
         ],
         "xaxis": "x",
         "y": [
          41.54,
          28.57,
          23.79,
          22.99,
          16.09,
          13.16,
          4.33,
          1.91,
          0.12
         ],
         "yaxis": "y"
        }
       ],
       "layout": {
        "barmode": "relative",
        "legend": {
         "tracegroupgap": 0
        },
        "template": {
         "data": {
          "bar": [
           {
            "error_x": {
             "color": "#2a3f5f"
            },
            "error_y": {
             "color": "#2a3f5f"
            },
            "marker": {
             "line": {
              "color": "#E5ECF6",
              "width": 0.5
             },
             "pattern": {
              "fillmode": "overlay",
              "size": 10,
              "solidity": 0.2
             }
            },
            "type": "bar"
           }
          ],
          "barpolar": [
           {
            "marker": {
             "line": {
              "color": "#E5ECF6",
              "width": 0.5
             },
             "pattern": {
              "fillmode": "overlay",
              "size": 10,
              "solidity": 0.2
             }
            },
            "type": "barpolar"
           }
          ],
          "carpet": [
           {
            "aaxis": {
             "endlinecolor": "#2a3f5f",
             "gridcolor": "white",
             "linecolor": "white",
             "minorgridcolor": "white",
             "startlinecolor": "#2a3f5f"
            },
            "baxis": {
             "endlinecolor": "#2a3f5f",
             "gridcolor": "white",
             "linecolor": "white",
             "minorgridcolor": "white",
             "startlinecolor": "#2a3f5f"
            },
            "type": "carpet"
           }
          ],
          "choropleth": [
           {
            "colorbar": {
             "outlinewidth": 0,
             "ticks": ""
            },
            "type": "choropleth"
           }
          ],
          "contour": [
           {
            "colorbar": {
             "outlinewidth": 0,
             "ticks": ""
            },
            "colorscale": [
             [
              0,
              "#0d0887"
             ],
             [
              0.1111111111111111,
              "#46039f"
             ],
             [
              0.2222222222222222,
              "#7201a8"
             ],
             [
              0.3333333333333333,
              "#9c179e"
             ],
             [
              0.4444444444444444,
              "#bd3786"
             ],
             [
              0.5555555555555556,
              "#d8576b"
             ],
             [
              0.6666666666666666,
              "#ed7953"
             ],
             [
              0.7777777777777778,
              "#fb9f3a"
             ],
             [
              0.8888888888888888,
              "#fdca26"
             ],
             [
              1,
              "#f0f921"
             ]
            ],
            "type": "contour"
           }
          ],
          "contourcarpet": [
           {
            "colorbar": {
             "outlinewidth": 0,
             "ticks": ""
            },
            "type": "contourcarpet"
           }
          ],
          "heatmap": [
           {
            "colorbar": {
             "outlinewidth": 0,
             "ticks": ""
            },
            "colorscale": [
             [
              0,
              "#0d0887"
             ],
             [
              0.1111111111111111,
              "#46039f"
             ],
             [
              0.2222222222222222,
              "#7201a8"
             ],
             [
              0.3333333333333333,
              "#9c179e"
             ],
             [
              0.4444444444444444,
              "#bd3786"
             ],
             [
              0.5555555555555556,
              "#d8576b"
             ],
             [
              0.6666666666666666,
              "#ed7953"
             ],
             [
              0.7777777777777778,
              "#fb9f3a"
             ],
             [
              0.8888888888888888,
              "#fdca26"
             ],
             [
              1,
              "#f0f921"
             ]
            ],
            "type": "heatmap"
           }
          ],
          "heatmapgl": [
           {
            "colorbar": {
             "outlinewidth": 0,
             "ticks": ""
            },
            "colorscale": [
             [
              0,
              "#0d0887"
             ],
             [
              0.1111111111111111,
              "#46039f"
             ],
             [
              0.2222222222222222,
              "#7201a8"
             ],
             [
              0.3333333333333333,
              "#9c179e"
             ],
             [
              0.4444444444444444,
              "#bd3786"
             ],
             [
              0.5555555555555556,
              "#d8576b"
             ],
             [
              0.6666666666666666,
              "#ed7953"
             ],
             [
              0.7777777777777778,
              "#fb9f3a"
             ],
             [
              0.8888888888888888,
              "#fdca26"
             ],
             [
              1,
              "#f0f921"
             ]
            ],
            "type": "heatmapgl"
           }
          ],
          "histogram": [
           {
            "marker": {
             "pattern": {
              "fillmode": "overlay",
              "size": 10,
              "solidity": 0.2
             }
            },
            "type": "histogram"
           }
          ],
          "histogram2d": [
           {
            "colorbar": {
             "outlinewidth": 0,
             "ticks": ""
            },
            "colorscale": [
             [
              0,
              "#0d0887"
             ],
             [
              0.1111111111111111,
              "#46039f"
             ],
             [
              0.2222222222222222,
              "#7201a8"
             ],
             [
              0.3333333333333333,
              "#9c179e"
             ],
             [
              0.4444444444444444,
              "#bd3786"
             ],
             [
              0.5555555555555556,
              "#d8576b"
             ],
             [
              0.6666666666666666,
              "#ed7953"
             ],
             [
              0.7777777777777778,
              "#fb9f3a"
             ],
             [
              0.8888888888888888,
              "#fdca26"
             ],
             [
              1,
              "#f0f921"
             ]
            ],
            "type": "histogram2d"
           }
          ],
          "histogram2dcontour": [
           {
            "colorbar": {
             "outlinewidth": 0,
             "ticks": ""
            },
            "colorscale": [
             [
              0,
              "#0d0887"
             ],
             [
              0.1111111111111111,
              "#46039f"
             ],
             [
              0.2222222222222222,
              "#7201a8"
             ],
             [
              0.3333333333333333,
              "#9c179e"
             ],
             [
              0.4444444444444444,
              "#bd3786"
             ],
             [
              0.5555555555555556,
              "#d8576b"
             ],
             [
              0.6666666666666666,
              "#ed7953"
             ],
             [
              0.7777777777777778,
              "#fb9f3a"
             ],
             [
              0.8888888888888888,
              "#fdca26"
             ],
             [
              1,
              "#f0f921"
             ]
            ],
            "type": "histogram2dcontour"
           }
          ],
          "mesh3d": [
           {
            "colorbar": {
             "outlinewidth": 0,
             "ticks": ""
            },
            "type": "mesh3d"
           }
          ],
          "parcoords": [
           {
            "line": {
             "colorbar": {
              "outlinewidth": 0,
              "ticks": ""
             }
            },
            "type": "parcoords"
           }
          ],
          "pie": [
           {
            "automargin": true,
            "type": "pie"
           }
          ],
          "scatter": [
           {
            "marker": {
             "colorbar": {
              "outlinewidth": 0,
              "ticks": ""
             }
            },
            "type": "scatter"
           }
          ],
          "scatter3d": [
           {
            "line": {
             "colorbar": {
              "outlinewidth": 0,
              "ticks": ""
             }
            },
            "marker": {
             "colorbar": {
              "outlinewidth": 0,
              "ticks": ""
             }
            },
            "type": "scatter3d"
           }
          ],
          "scattercarpet": [
           {
            "marker": {
             "colorbar": {
              "outlinewidth": 0,
              "ticks": ""
             }
            },
            "type": "scattercarpet"
           }
          ],
          "scattergeo": [
           {
            "marker": {
             "colorbar": {
              "outlinewidth": 0,
              "ticks": ""
             }
            },
            "type": "scattergeo"
           }
          ],
          "scattergl": [
           {
            "marker": {
             "colorbar": {
              "outlinewidth": 0,
              "ticks": ""
             }
            },
            "type": "scattergl"
           }
          ],
          "scattermapbox": [
           {
            "marker": {
             "colorbar": {
              "outlinewidth": 0,
              "ticks": ""
             }
            },
            "type": "scattermapbox"
           }
          ],
          "scatterpolar": [
           {
            "marker": {
             "colorbar": {
              "outlinewidth": 0,
              "ticks": ""
             }
            },
            "type": "scatterpolar"
           }
          ],
          "scatterpolargl": [
           {
            "marker": {
             "colorbar": {
              "outlinewidth": 0,
              "ticks": ""
             }
            },
            "type": "scatterpolargl"
           }
          ],
          "scatterternary": [
           {
            "marker": {
             "colorbar": {
              "outlinewidth": 0,
              "ticks": ""
             }
            },
            "type": "scatterternary"
           }
          ],
          "surface": [
           {
            "colorbar": {
             "outlinewidth": 0,
             "ticks": ""
            },
            "colorscale": [
             [
              0,
              "#0d0887"
             ],
             [
              0.1111111111111111,
              "#46039f"
             ],
             [
              0.2222222222222222,
              "#7201a8"
             ],
             [
              0.3333333333333333,
              "#9c179e"
             ],
             [
              0.4444444444444444,
              "#bd3786"
             ],
             [
              0.5555555555555556,
              "#d8576b"
             ],
             [
              0.6666666666666666,
              "#ed7953"
             ],
             [
              0.7777777777777778,
              "#fb9f3a"
             ],
             [
              0.8888888888888888,
              "#fdca26"
             ],
             [
              1,
              "#f0f921"
             ]
            ],
            "type": "surface"
           }
          ],
          "table": [
           {
            "cells": {
             "fill": {
              "color": "#EBF0F8"
             },
             "line": {
              "color": "white"
             }
            },
            "header": {
             "fill": {
              "color": "#C8D4E3"
             },
             "line": {
              "color": "white"
             }
            },
            "type": "table"
           }
          ]
         },
         "layout": {
          "annotationdefaults": {
           "arrowcolor": "#2a3f5f",
           "arrowhead": 0,
           "arrowwidth": 1
          },
          "autotypenumbers": "strict",
          "coloraxis": {
           "colorbar": {
            "outlinewidth": 0,
            "ticks": ""
           }
          },
          "colorscale": {
           "diverging": [
            [
             0,
             "#8e0152"
            ],
            [
             0.1,
             "#c51b7d"
            ],
            [
             0.2,
             "#de77ae"
            ],
            [
             0.3,
             "#f1b6da"
            ],
            [
             0.4,
             "#fde0ef"
            ],
            [
             0.5,
             "#f7f7f7"
            ],
            [
             0.6,
             "#e6f5d0"
            ],
            [
             0.7,
             "#b8e186"
            ],
            [
             0.8,
             "#7fbc41"
            ],
            [
             0.9,
             "#4d9221"
            ],
            [
             1,
             "#276419"
            ]
           ],
           "sequential": [
            [
             0,
             "#0d0887"
            ],
            [
             0.1111111111111111,
             "#46039f"
            ],
            [
             0.2222222222222222,
             "#7201a8"
            ],
            [
             0.3333333333333333,
             "#9c179e"
            ],
            [
             0.4444444444444444,
             "#bd3786"
            ],
            [
             0.5555555555555556,
             "#d8576b"
            ],
            [
             0.6666666666666666,
             "#ed7953"
            ],
            [
             0.7777777777777778,
             "#fb9f3a"
            ],
            [
             0.8888888888888888,
             "#fdca26"
            ],
            [
             1,
             "#f0f921"
            ]
           ],
           "sequentialminus": [
            [
             0,
             "#0d0887"
            ],
            [
             0.1111111111111111,
             "#46039f"
            ],
            [
             0.2222222222222222,
             "#7201a8"
            ],
            [
             0.3333333333333333,
             "#9c179e"
            ],
            [
             0.4444444444444444,
             "#bd3786"
            ],
            [
             0.5555555555555556,
             "#d8576b"
            ],
            [
             0.6666666666666666,
             "#ed7953"
            ],
            [
             0.7777777777777778,
             "#fb9f3a"
            ],
            [
             0.8888888888888888,
             "#fdca26"
            ],
            [
             1,
             "#f0f921"
            ]
           ]
          },
          "colorway": [
           "#636efa",
           "#EF553B",
           "#00cc96",
           "#ab63fa",
           "#FFA15A",
           "#19d3f3",
           "#FF6692",
           "#B6E880",
           "#FF97FF",
           "#FECB52"
          ],
          "font": {
           "color": "#2a3f5f"
          },
          "geo": {
           "bgcolor": "white",
           "lakecolor": "white",
           "landcolor": "#E5ECF6",
           "showlakes": true,
           "showland": true,
           "subunitcolor": "white"
          },
          "hoverlabel": {
           "align": "left"
          },
          "hovermode": "closest",
          "mapbox": {
           "style": "light"
          },
          "paper_bgcolor": "white",
          "plot_bgcolor": "#E5ECF6",
          "polar": {
           "angularaxis": {
            "gridcolor": "white",
            "linecolor": "white",
            "ticks": ""
           },
           "bgcolor": "#E5ECF6",
           "radialaxis": {
            "gridcolor": "white",
            "linecolor": "white",
            "ticks": ""
           }
          },
          "scene": {
           "xaxis": {
            "backgroundcolor": "#E5ECF6",
            "gridcolor": "white",
            "gridwidth": 2,
            "linecolor": "white",
            "showbackground": true,
            "ticks": "",
            "zerolinecolor": "white"
           },
           "yaxis": {
            "backgroundcolor": "#E5ECF6",
            "gridcolor": "white",
            "gridwidth": 2,
            "linecolor": "white",
            "showbackground": true,
            "ticks": "",
            "zerolinecolor": "white"
           },
           "zaxis": {
            "backgroundcolor": "#E5ECF6",
            "gridcolor": "white",
            "gridwidth": 2,
            "linecolor": "white",
            "showbackground": true,
            "ticks": "",
            "zerolinecolor": "white"
           }
          },
          "shapedefaults": {
           "line": {
            "color": "#2a3f5f"
           }
          },
          "ternary": {
           "aaxis": {
            "gridcolor": "white",
            "linecolor": "white",
            "ticks": ""
           },
           "baxis": {
            "gridcolor": "white",
            "linecolor": "white",
            "ticks": ""
           },
           "bgcolor": "#E5ECF6",
           "caxis": {
            "gridcolor": "white",
            "linecolor": "white",
            "ticks": ""
           }
          },
          "title": {
           "x": 0.05
          },
          "xaxis": {
           "automargin": true,
           "gridcolor": "white",
           "linecolor": "white",
           "ticks": "",
           "title": {
            "standoff": 15
           },
           "zerolinecolor": "white",
           "zerolinewidth": 2
          },
          "yaxis": {
           "automargin": true,
           "gridcolor": "white",
           "linecolor": "white",
           "ticks": "",
           "title": {
            "standoff": 15
           },
           "zerolinecolor": "white",
           "zerolinewidth": 2
          }
         }
        },
        "title": {
         "text": "Соотношение сетевых заведений"
        },
        "xaxis": {
         "anchor": "y",
         "domain": [
          0,
          1
         ],
         "title": {
          "text": "Вид объекта"
         }
        },
        "yaxis": {
         "anchor": "x",
         "domain": [
          0,
          1
         ],
         "title": {
          "text": "Доля"
         }
        }
       }
      },
      "text/html": [
       "<div>                            <div id=\"b0486341-723a-4c2a-a80b-ebc3743cd025\" class=\"plotly-graph-div\" style=\"height:525px; width:100%;\"></div>            <script type=\"text/javascript\">                require([\"plotly\"], function(Plotly) {                    window.PLOTLYENV=window.PLOTLYENV || {};                                    if (document.getElementById(\"b0486341-723a-4c2a-a80b-ebc3743cd025\")) {                    Plotly.newPlot(                        \"b0486341-723a-4c2a-a80b-ebc3743cd025\",                        [{\"alignmentgroup\":\"True\",\"hovertemplate\":\"object_type=%{x}<br>ratio=%{y}<extra></extra>\",\"legendgroup\":\"\",\"marker\":{\"color\":\"#636efa\",\"pattern\":{\"shape\":\"\"}},\"name\":\"\",\"offsetgroup\":\"\",\"orientation\":\"v\",\"showlegend\":false,\"textposition\":\"auto\",\"x\":[\"\\u043f\\u0440\\u0435\\u0434\\u043f\\u0440\\u0438\\u044f\\u0442\\u0438\\u0435 \\u0431\\u044b\\u0441\\u0442\\u0440\\u043e\\u0433\\u043e \\u043e\\u0431\\u0441\\u043b\\u0443\\u0436\\u0438\\u0432\\u0430\\u043d\\u0438\\u044f\",\"\\u043c\\u0430\\u0433\\u0430\\u0437\\u0438\\u043d (\\u043e\\u0442\\u0434\\u0435\\u043b \\u043a\\u0443\\u043b\\u0438\\u043d\\u0430\\u0440\\u0438\\u0438)\",\"\\u0440\\u0435\\u0441\\u0442\\u043e\\u0440\\u0430\\u043d\",\"\\u043a\\u0430\\u0444\\u0435\",\"\\u0437\\u0430\\u043a\\u0443\\u0441\\u043e\\u0447\\u043d\\u0430\\u044f\",\"\\u043a\\u0430\\u0444\\u0435\\u0442\\u0435\\u0440\\u0438\\u0439\",\"\\u0431\\u0430\\u0440\",\"\\u0431\\u0443\\u0444\\u0435\\u0442\",\"\\u0441\\u0442\\u043e\\u043b\\u043e\\u0432\\u0430\\u044f\"],\"xaxis\":\"x\",\"y\":[41.54,28.57,23.79,22.99,16.09,13.16,4.33,1.91,0.12],\"yaxis\":\"y\",\"type\":\"bar\"}],                        {\"template\":{\"data\":{\"bar\":[{\"error_x\":{\"color\":\"#2a3f5f\"},\"error_y\":{\"color\":\"#2a3f5f\"},\"marker\":{\"line\":{\"color\":\"#E5ECF6\",\"width\":0.5},\"pattern\":{\"fillmode\":\"overlay\",\"size\":10,\"solidity\":0.2}},\"type\":\"bar\"}],\"barpolar\":[{\"marker\":{\"line\":{\"color\":\"#E5ECF6\",\"width\":0.5},\"pattern\":{\"fillmode\":\"overlay\",\"size\":10,\"solidity\":0.2}},\"type\":\"barpolar\"}],\"carpet\":[{\"aaxis\":{\"endlinecolor\":\"#2a3f5f\",\"gridcolor\":\"white\",\"linecolor\":\"white\",\"minorgridcolor\":\"white\",\"startlinecolor\":\"#2a3f5f\"},\"baxis\":{\"endlinecolor\":\"#2a3f5f\",\"gridcolor\":\"white\",\"linecolor\":\"white\",\"minorgridcolor\":\"white\",\"startlinecolor\":\"#2a3f5f\"},\"type\":\"carpet\"}],\"choropleth\":[{\"colorbar\":{\"outlinewidth\":0,\"ticks\":\"\"},\"type\":\"choropleth\"}],\"contour\":[{\"colorbar\":{\"outlinewidth\":0,\"ticks\":\"\"},\"colorscale\":[[0.0,\"#0d0887\"],[0.1111111111111111,\"#46039f\"],[0.2222222222222222,\"#7201a8\"],[0.3333333333333333,\"#9c179e\"],[0.4444444444444444,\"#bd3786\"],[0.5555555555555556,\"#d8576b\"],[0.6666666666666666,\"#ed7953\"],[0.7777777777777778,\"#fb9f3a\"],[0.8888888888888888,\"#fdca26\"],[1.0,\"#f0f921\"]],\"type\":\"contour\"}],\"contourcarpet\":[{\"colorbar\":{\"outlinewidth\":0,\"ticks\":\"\"},\"type\":\"contourcarpet\"}],\"heatmap\":[{\"colorbar\":{\"outlinewidth\":0,\"ticks\":\"\"},\"colorscale\":[[0.0,\"#0d0887\"],[0.1111111111111111,\"#46039f\"],[0.2222222222222222,\"#7201a8\"],[0.3333333333333333,\"#9c179e\"],[0.4444444444444444,\"#bd3786\"],[0.5555555555555556,\"#d8576b\"],[0.6666666666666666,\"#ed7953\"],[0.7777777777777778,\"#fb9f3a\"],[0.8888888888888888,\"#fdca26\"],[1.0,\"#f0f921\"]],\"type\":\"heatmap\"}],\"heatmapgl\":[{\"colorbar\":{\"outlinewidth\":0,\"ticks\":\"\"},\"colorscale\":[[0.0,\"#0d0887\"],[0.1111111111111111,\"#46039f\"],[0.2222222222222222,\"#7201a8\"],[0.3333333333333333,\"#9c179e\"],[0.4444444444444444,\"#bd3786\"],[0.5555555555555556,\"#d8576b\"],[0.6666666666666666,\"#ed7953\"],[0.7777777777777778,\"#fb9f3a\"],[0.8888888888888888,\"#fdca26\"],[1.0,\"#f0f921\"]],\"type\":\"heatmapgl\"}],\"histogram\":[{\"marker\":{\"pattern\":{\"fillmode\":\"overlay\",\"size\":10,\"solidity\":0.2}},\"type\":\"histogram\"}],\"histogram2d\":[{\"colorbar\":{\"outlinewidth\":0,\"ticks\":\"\"},\"colorscale\":[[0.0,\"#0d0887\"],[0.1111111111111111,\"#46039f\"],[0.2222222222222222,\"#7201a8\"],[0.3333333333333333,\"#9c179e\"],[0.4444444444444444,\"#bd3786\"],[0.5555555555555556,\"#d8576b\"],[0.6666666666666666,\"#ed7953\"],[0.7777777777777778,\"#fb9f3a\"],[0.8888888888888888,\"#fdca26\"],[1.0,\"#f0f921\"]],\"type\":\"histogram2d\"}],\"histogram2dcontour\":[{\"colorbar\":{\"outlinewidth\":0,\"ticks\":\"\"},\"colorscale\":[[0.0,\"#0d0887\"],[0.1111111111111111,\"#46039f\"],[0.2222222222222222,\"#7201a8\"],[0.3333333333333333,\"#9c179e\"],[0.4444444444444444,\"#bd3786\"],[0.5555555555555556,\"#d8576b\"],[0.6666666666666666,\"#ed7953\"],[0.7777777777777778,\"#fb9f3a\"],[0.8888888888888888,\"#fdca26\"],[1.0,\"#f0f921\"]],\"type\":\"histogram2dcontour\"}],\"mesh3d\":[{\"colorbar\":{\"outlinewidth\":0,\"ticks\":\"\"},\"type\":\"mesh3d\"}],\"parcoords\":[{\"line\":{\"colorbar\":{\"outlinewidth\":0,\"ticks\":\"\"}},\"type\":\"parcoords\"}],\"pie\":[{\"automargin\":true,\"type\":\"pie\"}],\"scatter\":[{\"marker\":{\"colorbar\":{\"outlinewidth\":0,\"ticks\":\"\"}},\"type\":\"scatter\"}],\"scatter3d\":[{\"line\":{\"colorbar\":{\"outlinewidth\":0,\"ticks\":\"\"}},\"marker\":{\"colorbar\":{\"outlinewidth\":0,\"ticks\":\"\"}},\"type\":\"scatter3d\"}],\"scattercarpet\":[{\"marker\":{\"colorbar\":{\"outlinewidth\":0,\"ticks\":\"\"}},\"type\":\"scattercarpet\"}],\"scattergeo\":[{\"marker\":{\"colorbar\":{\"outlinewidth\":0,\"ticks\":\"\"}},\"type\":\"scattergeo\"}],\"scattergl\":[{\"marker\":{\"colorbar\":{\"outlinewidth\":0,\"ticks\":\"\"}},\"type\":\"scattergl\"}],\"scattermapbox\":[{\"marker\":{\"colorbar\":{\"outlinewidth\":0,\"ticks\":\"\"}},\"type\":\"scattermapbox\"}],\"scatterpolar\":[{\"marker\":{\"colorbar\":{\"outlinewidth\":0,\"ticks\":\"\"}},\"type\":\"scatterpolar\"}],\"scatterpolargl\":[{\"marker\":{\"colorbar\":{\"outlinewidth\":0,\"ticks\":\"\"}},\"type\":\"scatterpolargl\"}],\"scatterternary\":[{\"marker\":{\"colorbar\":{\"outlinewidth\":0,\"ticks\":\"\"}},\"type\":\"scatterternary\"}],\"surface\":[{\"colorbar\":{\"outlinewidth\":0,\"ticks\":\"\"},\"colorscale\":[[0.0,\"#0d0887\"],[0.1111111111111111,\"#46039f\"],[0.2222222222222222,\"#7201a8\"],[0.3333333333333333,\"#9c179e\"],[0.4444444444444444,\"#bd3786\"],[0.5555555555555556,\"#d8576b\"],[0.6666666666666666,\"#ed7953\"],[0.7777777777777778,\"#fb9f3a\"],[0.8888888888888888,\"#fdca26\"],[1.0,\"#f0f921\"]],\"type\":\"surface\"}],\"table\":[{\"cells\":{\"fill\":{\"color\":\"#EBF0F8\"},\"line\":{\"color\":\"white\"}},\"header\":{\"fill\":{\"color\":\"#C8D4E3\"},\"line\":{\"color\":\"white\"}},\"type\":\"table\"}]},\"layout\":{\"annotationdefaults\":{\"arrowcolor\":\"#2a3f5f\",\"arrowhead\":0,\"arrowwidth\":1},\"autotypenumbers\":\"strict\",\"coloraxis\":{\"colorbar\":{\"outlinewidth\":0,\"ticks\":\"\"}},\"colorscale\":{\"diverging\":[[0,\"#8e0152\"],[0.1,\"#c51b7d\"],[0.2,\"#de77ae\"],[0.3,\"#f1b6da\"],[0.4,\"#fde0ef\"],[0.5,\"#f7f7f7\"],[0.6,\"#e6f5d0\"],[0.7,\"#b8e186\"],[0.8,\"#7fbc41\"],[0.9,\"#4d9221\"],[1,\"#276419\"]],\"sequential\":[[0.0,\"#0d0887\"],[0.1111111111111111,\"#46039f\"],[0.2222222222222222,\"#7201a8\"],[0.3333333333333333,\"#9c179e\"],[0.4444444444444444,\"#bd3786\"],[0.5555555555555556,\"#d8576b\"],[0.6666666666666666,\"#ed7953\"],[0.7777777777777778,\"#fb9f3a\"],[0.8888888888888888,\"#fdca26\"],[1.0,\"#f0f921\"]],\"sequentialminus\":[[0.0,\"#0d0887\"],[0.1111111111111111,\"#46039f\"],[0.2222222222222222,\"#7201a8\"],[0.3333333333333333,\"#9c179e\"],[0.4444444444444444,\"#bd3786\"],[0.5555555555555556,\"#d8576b\"],[0.6666666666666666,\"#ed7953\"],[0.7777777777777778,\"#fb9f3a\"],[0.8888888888888888,\"#fdca26\"],[1.0,\"#f0f921\"]]},\"colorway\":[\"#636efa\",\"#EF553B\",\"#00cc96\",\"#ab63fa\",\"#FFA15A\",\"#19d3f3\",\"#FF6692\",\"#B6E880\",\"#FF97FF\",\"#FECB52\"],\"font\":{\"color\":\"#2a3f5f\"},\"geo\":{\"bgcolor\":\"white\",\"lakecolor\":\"white\",\"landcolor\":\"#E5ECF6\",\"showlakes\":true,\"showland\":true,\"subunitcolor\":\"white\"},\"hoverlabel\":{\"align\":\"left\"},\"hovermode\":\"closest\",\"mapbox\":{\"style\":\"light\"},\"paper_bgcolor\":\"white\",\"plot_bgcolor\":\"#E5ECF6\",\"polar\":{\"angularaxis\":{\"gridcolor\":\"white\",\"linecolor\":\"white\",\"ticks\":\"\"},\"bgcolor\":\"#E5ECF6\",\"radialaxis\":{\"gridcolor\":\"white\",\"linecolor\":\"white\",\"ticks\":\"\"}},\"scene\":{\"xaxis\":{\"backgroundcolor\":\"#E5ECF6\",\"gridcolor\":\"white\",\"gridwidth\":2,\"linecolor\":\"white\",\"showbackground\":true,\"ticks\":\"\",\"zerolinecolor\":\"white\"},\"yaxis\":{\"backgroundcolor\":\"#E5ECF6\",\"gridcolor\":\"white\",\"gridwidth\":2,\"linecolor\":\"white\",\"showbackground\":true,\"ticks\":\"\",\"zerolinecolor\":\"white\"},\"zaxis\":{\"backgroundcolor\":\"#E5ECF6\",\"gridcolor\":\"white\",\"gridwidth\":2,\"linecolor\":\"white\",\"showbackground\":true,\"ticks\":\"\",\"zerolinecolor\":\"white\"}},\"shapedefaults\":{\"line\":{\"color\":\"#2a3f5f\"}},\"ternary\":{\"aaxis\":{\"gridcolor\":\"white\",\"linecolor\":\"white\",\"ticks\":\"\"},\"baxis\":{\"gridcolor\":\"white\",\"linecolor\":\"white\",\"ticks\":\"\"},\"bgcolor\":\"#E5ECF6\",\"caxis\":{\"gridcolor\":\"white\",\"linecolor\":\"white\",\"ticks\":\"\"}},\"title\":{\"x\":0.05},\"xaxis\":{\"automargin\":true,\"gridcolor\":\"white\",\"linecolor\":\"white\",\"ticks\":\"\",\"title\":{\"standoff\":15},\"zerolinecolor\":\"white\",\"zerolinewidth\":2},\"yaxis\":{\"automargin\":true,\"gridcolor\":\"white\",\"linecolor\":\"white\",\"ticks\":\"\",\"title\":{\"standoff\":15},\"zerolinecolor\":\"white\",\"zerolinewidth\":2}}},\"xaxis\":{\"anchor\":\"y\",\"domain\":[0.0,1.0],\"title\":{\"text\":\"\\u0412\\u0438\\u0434 \\u043e\\u0431\\u044a\\u0435\\u043a\\u0442\\u0430\"}},\"yaxis\":{\"anchor\":\"x\",\"domain\":[0.0,1.0],\"title\":{\"text\":\"\\u0414\\u043e\\u043b\\u044f\"}},\"legend\":{\"tracegroupgap\":0},\"title\":{\"text\":\"\\u0421\\u043e\\u043e\\u0442\\u043d\\u043e\\u0448\\u0435\\u043d\\u0438\\u0435 \\u0441\\u0435\\u0442\\u0435\\u0432\\u044b\\u0445 \\u0437\\u0430\\u0432\\u0435\\u0434\\u0435\\u043d\\u0438\\u0439\"},\"barmode\":\"relative\"},                        {\"responsive\": true}                    ).then(function(){\n",
       "                            \n",
       "var gd = document.getElementById('b0486341-723a-4c2a-a80b-ebc3743cd025');\n",
       "var x = new MutationObserver(function (mutations, observer) {{\n",
       "        var display = window.getComputedStyle(gd).display;\n",
       "        if (!display || display === 'none') {{\n",
       "            console.log([gd, 'removed!']);\n",
       "            Plotly.purge(gd);\n",
       "            observer.disconnect();\n",
       "        }}\n",
       "}});\n",
       "\n",
       "// Listen for the removal of the full notebook cells\n",
       "var notebookContainer = gd.closest('#notebook-container');\n",
       "if (notebookContainer) {{\n",
       "    x.observe(notebookContainer, {childList: true});\n",
       "}}\n",
       "\n",
       "// Listen for the clearing of the current output cell\n",
       "var outputEl = gd.closest('.output');\n",
       "if (outputEl) {{\n",
       "    x.observe(outputEl, {childList: true});\n",
       "}}\n",
       "\n",
       "                        })                };                });            </script>        </div>"
      ]
     },
     "metadata": {},
     "output_type": "display_data"
    }
   ],
   "source": [
    "chain_ratio = px.bar(rest_merged.sort_values(by='ratio', ascending=False), x='object_type', y='ratio', title='Соотношение сетевых заведений')\n",
    "chain_ratio.update_layout(xaxis_title='Вид объекта',\n",
    "                         yaxis_title='Доля')"
   ]
  },
  {
   "cell_type": "markdown",
   "metadata": {},
   "source": [
    "Здесь видим, что 41% предприятий быстрого обслуживания - это сетевые заведения. \n",
    "\n",
    "#### Вывод\n",
    "В абсолютных цифрах кафе, предприятия быстрого обслуживания и рестораны преобладают по количеству среди видов общественного питания, имеющих сетевое распространение.\n",
    "\n",
    "С другой стороны, у предприятий быстрого обслуживания 41% заведений(почти половина от всего количества - самый большой показатель) имеют сетевое распространение. Из чего можем сделать вывод, что сетевое распространение характерно именно для предприятий быстрого обслуживания."
   ]
  },
  {
   "cell_type": "markdown",
   "metadata": {},
   "source": [
    "### Определение характерных черт для сетевых объектов общественного питания"
   ]
  },
  {
   "cell_type": "code",
   "execution_count": 44,
   "metadata": {
    "scrolled": false
   },
   "outputs": [
    {
     "data": {
      "image/png": "[encoded data removed]",
      "text/plain": [
       "<Figure size 432x432 with 3 Axes>"
      ]
     },
     "metadata": {},
     "output_type": "display_data"
    }
   ],
   "source": [
    "chain_df = rest[rest['chain'] == 'да'].groupby('object_name').agg({'object_name':'count', 'number':'median'})\n",
    "chain_df.columns = ['objects', 'median_number']\n",
    "chain_df = chain_df.query('objects != 1')\n",
    "\n",
    "fig = sns.jointplot(x='objects', y='median_number', data=chain_df, kind='reg') \n",
    "sns.set(style='darkgrid')\n",
    "fig.ax_joint.axvline(x=chain_df.objects.median(),color='black', linestyle='--')\n",
    "fig.ax_joint.axhline(y=chain_df.median_number.median(), color='black', linestyle='--')\n",
    "plt.title('Соотношение количества объектов и посадочных мест', fontsize=15, loc='center', pad=80)    \n",
    "fig.set_axis_labels('Количество объектов',\n",
    "                  'Количество посадочных мест')\n",
    "plt.show()"
   ]
  },
  {
   "cell_type": "code",
   "execution_count": 45,
   "metadata": {},
   "outputs": [
    {
     "data": {
      "image/png": "[encoded data removed]",
      "text/plain": [
       "<Figure size 504x504 with 1 Axes>"
      ]
     },
     "metadata": {},
     "output_type": "display_data"
    }
   ],
   "source": [
    "plt.figure(figsize=(7, 7))\n",
    "ax = sns.boxplot(y='number', data=rest)\n",
    "plt.ylim(0, 400)\n",
    "plt.title('Распределение количества посадочных мест', fontsize=15)\n",
    "plt.ylabel('Количество посадочных мест', fontsize=12)\n",
    "plt.show()"
   ]
  },
  {
   "cell_type": "markdown",
   "metadata": {},
   "source": [
    "На первом графике видим, что с увеличением количества объектов в сетях снижается количество посадочных мест. Так мы не видим сетей с количеством посадочных мест более 100 при количестве 44 и более объектов.\n",
    "\n",
    "На втором графике видим общее распределение посадочных мест по всем объектам. При сравнении двух графиков видим, что количество посадочных мест в сетевых объектах ниже или около медианы. \n",
    "#### Вывод\n",
    "Можем сделать вывод, что для сетевых объектов характерно много объектов с небольшим количеством посадочных мест.\n"
   ]
  },
  {
   "cell_type": "markdown",
   "metadata": {},
   "source": [
    "### Определение количества посадочных мест для каждого вида общественного питания"
   ]
  },
  {
   "cell_type": "markdown",
   "metadata": {},
   "source": [
    "Рассмотрим количество посадочных мест каждого вида объекта общественного питания. Для исключения влияния выбросов возьмём медианное значение."
   ]
  },
  {
   "cell_type": "code",
   "execution_count": 46,
   "metadata": {
    "scrolled": false
   },
   "outputs": [
    {
     "data": {
      "image/png": "[encoded data removed]",
      "text/plain": [
       "<Figure size 504x504 with 1 Axes>"
      ]
     },
     "metadata": {},
     "output_type": "display_data"
    }
   ],
   "source": [
    "plt.figure(figsize=(7, 7))\n",
    "ax = sns.boxplot(x='number', y='object_type', hue='chain', data=rest)\n",
    "plt.xlim(0, 400)\n",
    "plt.title('Количество посадочных мест по видам объектов', fontsize=15)\n",
    "plt.xlabel('Количество посадочных мест', fontsize=12)\n",
    "plt.ylabel('Вид объекта', fontsize=12)\n",
    "plt.show()"
   ]
  },
  {
   "cell_type": "markdown",
   "metadata": {},
   "source": [
    "#### Вывод\n",
    "Самое большое количество посадочных мест располагается в столовых, затем по убыванию идут рестораны, бары, кафе.\n",
    "\n",
    "В объектах одного и того же вида в сетевых заведениях медианное значение посадочных мест, как правило, выше по сравнению с несетевыми."
   ]
  },
  {
   "cell_type": "markdown",
   "metadata": {},
   "source": [
    "### Определение топ-10 улиц по количеству объектов общественного питания"
   ]
  },
  {
   "cell_type": "markdown",
   "metadata": {},
   "source": [
    "Посмотрим какие улицы самые популярные для размещения объекта общественного питания.\n",
    "\n",
    "В ходе выполнения выяснилось, что у части адресов отличается формат отображения от большинства: во-первых, не указан город; во-вторых, указано два города одновременно - Москва и Зеленоград.\n",
    "\n",
    "В первом случае выделим из адреса улицу с учётом формата, во втором случае отфильтруем эти значения (они насчитывают 232 строки - это чуть более 1% от общих данных)."
   ]
  },
  {
   "cell_type": "code",
   "execution_count": 47,
   "metadata": {},
   "outputs": [],
   "source": [
    "'''выделяем город из адреса'''\n",
    "def city(row):\n",
    "    split_string = row['address'].split(', ')\n",
    "    row['city'] = split_string[0]\n",
    "    return row['city']\n",
    "\n",
    "rest['city'] = rest.apply(city, axis=1)"
   ]
  },
  {
   "cell_type": "code",
   "execution_count": 48,
   "metadata": {
    "scrolled": true
   },
   "outputs": [],
   "source": [
    "'''получаем улицу'''\n",
    "def street(row):\n",
    "    if row['city'] == 'город москва':\n",
    "        split_string = row['address'].split(', ')\n",
    "        row['street'] = split_string[1]\n",
    "        return row['street']\n",
    "    else:\n",
    "        split_string2 = row['address'].split(', ')\n",
    "        row['street'] = split_string2[0]\n",
    "        return row['street']\n",
    "    return row['street']\n",
    "\n",
    "rest['street'] = rest.apply(street, axis=1)"
   ]
  },
  {
   "cell_type": "code",
   "execution_count": 49,
   "metadata": {
    "scrolled": false
   },
   "outputs": [
    {
     "data": {
      "application/vnd.plotly.v1+json": {
       "config": {
        "plotlyServerURL": "https://plot.ly"
       },
       "data": [
        {
         "alignmentgroup": "True",
         "hovertemplate": "street=%{x}<br>rest_number=%{y}<extra></extra>",
         "legendgroup": "",
         "marker": {
          "color": "#636efa",
          "pattern": {
           "shape": ""
          }
         },
         "name": "",
         "offsetgroup": "",
         "orientation": "v",
         "showlegend": false,
         "textposition": "auto",
         "type": "bar",
         "x": [
          "проспект мира",
          "профсоюзная улица",
          "ленинградский проспект",
          "пресненская набережная",
          "варшавское шоссе",
          "ленинский проспект",
          "проспект вернадского",
          "кутузовский проспект",
          "каширское шоссе",
          "кировоградская улица"
         ],
         "xaxis": "x",
         "y": [
          203,
          182,
          172,
          167,
          162,
          148,
          128,
          114,
          111,
          108
         ],
         "yaxis": "y"
        }
       ],
       "layout": {
        "barmode": "relative",
        "legend": {
         "tracegroupgap": 0
        },
        "template": {
         "data": {
          "bar": [
           {
            "error_x": {
             "color": "#2a3f5f"
            },
            "error_y": {
             "color": "#2a3f5f"
            },
            "marker": {
             "line": {
              "color": "#E5ECF6",
              "width": 0.5
             },
             "pattern": {
              "fillmode": "overlay",
              "size": 10,
              "solidity": 0.2
             }
            },
            "type": "bar"
           }
          ],
          "barpolar": [
           {
            "marker": {
             "line": {
              "color": "#E5ECF6",
              "width": 0.5
             },
             "pattern": {
              "fillmode": "overlay",
              "size": 10,
              "solidity": 0.2
             }
            },
            "type": "barpolar"
           }
          ],
          "carpet": [
           {
            "aaxis": {
             "endlinecolor": "#2a3f5f",
             "gridcolor": "white",
             "linecolor": "white",
             "minorgridcolor": "white",
             "startlinecolor": "#2a3f5f"
            },
            "baxis": {
             "endlinecolor": "#2a3f5f",
             "gridcolor": "white",
             "linecolor": "white",
             "minorgridcolor": "white",
             "startlinecolor": "#2a3f5f"
            },
            "type": "carpet"
           }
          ],
          "choropleth": [
           {
            "colorbar": {
             "outlinewidth": 0,
             "ticks": ""
            },
            "type": "choropleth"
           }
          ],
          "contour": [
           {
            "colorbar": {
             "outlinewidth": 0,
             "ticks": ""
            },
            "colorscale": [
             [
              0,
              "#0d0887"
             ],
             [
              0.1111111111111111,
              "#46039f"
             ],
             [
              0.2222222222222222,
              "#7201a8"
             ],
             [
              0.3333333333333333,
              "#9c179e"
             ],
             [
              0.4444444444444444,
              "#bd3786"
             ],
             [
              0.5555555555555556,
              "#d8576b"
             ],
             [
              0.6666666666666666,
              "#ed7953"
             ],
             [
              0.7777777777777778,
              "#fb9f3a"
             ],
             [
              0.8888888888888888,
              "#fdca26"
             ],
             [
              1,
              "#f0f921"
             ]
            ],
            "type": "contour"
           }
          ],
          "contourcarpet": [
           {
            "colorbar": {
             "outlinewidth": 0,
             "ticks": ""
            },
            "type": "contourcarpet"
           }
          ],
          "heatmap": [
           {
            "colorbar": {
             "outlinewidth": 0,
             "ticks": ""
            },
            "colorscale": [
             [
              0,
              "#0d0887"
             ],
             [
              0.1111111111111111,
              "#46039f"
             ],
             [
              0.2222222222222222,
              "#7201a8"
             ],
             [
              0.3333333333333333,
              "#9c179e"
             ],
             [
              0.4444444444444444,
              "#bd3786"
             ],
             [
              0.5555555555555556,
              "#d8576b"
             ],
             [
              0.6666666666666666,
              "#ed7953"
             ],
             [
              0.7777777777777778,
              "#fb9f3a"
             ],
             [
              0.8888888888888888,
              "#fdca26"
             ],
             [
              1,
              "#f0f921"
             ]
            ],
            "type": "heatmap"
           }
          ],
          "heatmapgl": [
           {
            "colorbar": {
             "outlinewidth": 0,
             "ticks": ""
            },
            "colorscale": [
             [
              0,
              "#0d0887"
             ],
             [
              0.1111111111111111,
              "#46039f"
             ],
             [
              0.2222222222222222,
              "#7201a8"
             ],
             [
              0.3333333333333333,
              "#9c179e"
             ],
             [
              0.4444444444444444,
              "#bd3786"
             ],
             [
              0.5555555555555556,
              "#d8576b"
             ],
             [
              0.6666666666666666,
              "#ed7953"
             ],
             [
              0.7777777777777778,
              "#fb9f3a"
             ],
             [
              0.8888888888888888,
              "#fdca26"
             ],
             [
              1,
              "#f0f921"
             ]
            ],
            "type": "heatmapgl"
           }
          ],
          "histogram": [
           {
            "marker": {
             "pattern": {
              "fillmode": "overlay",
              "size": 10,
              "solidity": 0.2
             }
            },
            "type": "histogram"
           }
          ],
          "histogram2d": [
           {
            "colorbar": {
             "outlinewidth": 0,
             "ticks": ""
            },
            "colorscale": [
             [
              0,
              "#0d0887"
             ],
             [
              0.1111111111111111,
              "#46039f"
             ],
             [
              0.2222222222222222,
              "#7201a8"
             ],
             [
              0.3333333333333333,
              "#9c179e"
             ],
             [
              0.4444444444444444,
              "#bd3786"
             ],
             [
              0.5555555555555556,
              "#d8576b"
             ],
             [
              0.6666666666666666,
              "#ed7953"
             ],
             [
              0.7777777777777778,
              "#fb9f3a"
             ],
             [
              0.8888888888888888,
              "#fdca26"
             ],
             [
              1,
              "#f0f921"
             ]
            ],
            "type": "histogram2d"
           }
          ],
          "histogram2dcontour": [
           {
            "colorbar": {
             "outlinewidth": 0,
             "ticks": ""
            },
            "colorscale": [
             [
              0,
              "#0d0887"
             ],
             [
              0.1111111111111111,
              "#46039f"
             ],
             [
              0.2222222222222222,
              "#7201a8"
             ],
             [
              0.3333333333333333,
              "#9c179e"
             ],
             [
              0.4444444444444444,
              "#bd3786"
             ],
             [
              0.5555555555555556,
              "#d8576b"
             ],
             [
              0.6666666666666666,
              "#ed7953"
             ],
             [
              0.7777777777777778,
              "#fb9f3a"
             ],
             [
              0.8888888888888888,
              "#fdca26"
             ],
             [
              1,
              "#f0f921"
             ]
            ],
            "type": "histogram2dcontour"
           }
          ],
          "mesh3d": [
           {
            "colorbar": {
             "outlinewidth": 0,
             "ticks": ""
            },
            "type": "mesh3d"
           }
          ],
          "parcoords": [
           {
            "line": {
             "colorbar": {
              "outlinewidth": 0,
              "ticks": ""
             }
            },
            "type": "parcoords"
           }
          ],
          "pie": [
           {
            "automargin": true,
            "type": "pie"
           }
          ],
          "scatter": [
           {
            "marker": {
             "colorbar": {
              "outlinewidth": 0,
              "ticks": ""
             }
            },
            "type": "scatter"
           }
          ],
          "scatter3d": [
           {
            "line": {
             "colorbar": {
              "outlinewidth": 0,
              "ticks": ""
             }
            },
            "marker": {
             "colorbar": {
              "outlinewidth": 0,
              "ticks": ""
             }
            },
            "type": "scatter3d"
           }
          ],
          "scattercarpet": [
           {
            "marker": {
             "colorbar": {
              "outlinewidth": 0,
              "ticks": ""
             }
            },
            "type": "scattercarpet"
           }
          ],
          "scattergeo": [
           {
            "marker": {
             "colorbar": {
              "outlinewidth": 0,
              "ticks": ""
             }
            },
            "type": "scattergeo"
           }
          ],
          "scattergl": [
           {
            "marker": {
             "colorbar": {
              "outlinewidth": 0,
              "ticks": ""
             }
            },
            "type": "scattergl"
           }
          ],
          "scattermapbox": [
           {
            "marker": {
             "colorbar": {
              "outlinewidth": 0,
              "ticks": ""
             }
            },
            "type": "scattermapbox"
           }
          ],
          "scatterpolar": [
           {
            "marker": {
             "colorbar": {
              "outlinewidth": 0,
              "ticks": ""
             }
            },
            "type": "scatterpolar"
           }
          ],
          "scatterpolargl": [
           {
            "marker": {
             "colorbar": {
              "outlinewidth": 0,
              "ticks": ""
             }
            },
            "type": "scatterpolargl"
           }
          ],
          "scatterternary": [
           {
            "marker": {
             "colorbar": {
              "outlinewidth": 0,
              "ticks": ""
             }
            },
            "type": "scatterternary"
           }
          ],
          "surface": [
           {
            "colorbar": {
             "outlinewidth": 0,
             "ticks": ""
            },
            "colorscale": [
             [
              0,
              "#0d0887"
             ],
             [
              0.1111111111111111,
              "#46039f"
             ],
             [
              0.2222222222222222,
              "#7201a8"
             ],
             [
              0.3333333333333333,
              "#9c179e"
             ],
             [
              0.4444444444444444,
              "#bd3786"
             ],
             [
              0.5555555555555556,
              "#d8576b"
             ],
             [
              0.6666666666666666,
              "#ed7953"
             ],
             [
              0.7777777777777778,
              "#fb9f3a"
             ],
             [
              0.8888888888888888,
              "#fdca26"
             ],
             [
              1,
              "#f0f921"
             ]
            ],
            "type": "surface"
           }
          ],
          "table": [
           {
            "cells": {
             "fill": {
              "color": "#EBF0F8"
             },
             "line": {
              "color": "white"
             }
            },
            "header": {
             "fill": {
              "color": "#C8D4E3"
             },
             "line": {
              "color": "white"
             }
            },
            "type": "table"
           }
          ]
         },
         "layout": {
          "annotationdefaults": {
           "arrowcolor": "#2a3f5f",
           "arrowhead": 0,
           "arrowwidth": 1
          },
          "autotypenumbers": "strict",
          "coloraxis": {
           "colorbar": {
            "outlinewidth": 0,
            "ticks": ""
           }
          },
          "colorscale": {
           "diverging": [
            [
             0,
             "#8e0152"
            ],
            [
             0.1,
             "#c51b7d"
            ],
            [
             0.2,
             "#de77ae"
            ],
            [
             0.3,
             "#f1b6da"
            ],
            [
             0.4,
             "#fde0ef"
            ],
            [
             0.5,
             "#f7f7f7"
            ],
            [
             0.6,
             "#e6f5d0"
            ],
            [
             0.7,
             "#b8e186"
            ],
            [
             0.8,
             "#7fbc41"
            ],
            [
             0.9,
             "#4d9221"
            ],
            [
             1,
             "#276419"
            ]
           ],
           "sequential": [
            [
             0,
             "#0d0887"
            ],
            [
             0.1111111111111111,
             "#46039f"
            ],
            [
             0.2222222222222222,
             "#7201a8"
            ],
            [
             0.3333333333333333,
             "#9c179e"
            ],
            [
             0.4444444444444444,
             "#bd3786"
            ],
            [
             0.5555555555555556,
             "#d8576b"
            ],
            [
             0.6666666666666666,
             "#ed7953"
            ],
            [
             0.7777777777777778,
             "#fb9f3a"
            ],
            [
             0.8888888888888888,
             "#fdca26"
            ],
            [
             1,
             "#f0f921"
            ]
           ],
           "sequentialminus": [
            [
             0,
             "#0d0887"
            ],
            [
             0.1111111111111111,
             "#46039f"
            ],
            [
             0.2222222222222222,
             "#7201a8"
            ],
            [
             0.3333333333333333,
             "#9c179e"
            ],
            [
             0.4444444444444444,
             "#bd3786"
            ],
            [
             0.5555555555555556,
             "#d8576b"
            ],
            [
             0.6666666666666666,
             "#ed7953"
            ],
            [
             0.7777777777777778,
             "#fb9f3a"
            ],
            [
             0.8888888888888888,
             "#fdca26"
            ],
            [
             1,
             "#f0f921"
            ]
           ]
          },
          "colorway": [
           "#636efa",
           "#EF553B",
           "#00cc96",
           "#ab63fa",
           "#FFA15A",
           "#19d3f3",
           "#FF6692",
           "#B6E880",
           "#FF97FF",
           "#FECB52"
          ],
          "font": {
           "color": "#2a3f5f"
          },
          "geo": {
           "bgcolor": "white",
           "lakecolor": "white",
           "landcolor": "#E5ECF6",
           "showlakes": true,
           "showland": true,
           "subunitcolor": "white"
          },
          "hoverlabel": {
           "align": "left"
          },
          "hovermode": "closest",
          "mapbox": {
           "style": "light"
          },
          "paper_bgcolor": "white",
          "plot_bgcolor": "#E5ECF6",
          "polar": {
           "angularaxis": {
            "gridcolor": "white",
            "linecolor": "white",
            "ticks": ""
           },
           "bgcolor": "#E5ECF6",
           "radialaxis": {
            "gridcolor": "white",
            "linecolor": "white",
            "ticks": ""
           }
          },
          "scene": {
           "xaxis": {
            "backgroundcolor": "#E5ECF6",
            "gridcolor": "white",
            "gridwidth": 2,
            "linecolor": "white",
            "showbackground": true,
            "ticks": "",
            "zerolinecolor": "white"
           },
           "yaxis": {
            "backgroundcolor": "#E5ECF6",
            "gridcolor": "white",
            "gridwidth": 2,
            "linecolor": "white",
            "showbackground": true,
            "ticks": "",
            "zerolinecolor": "white"
           },
           "zaxis": {
            "backgroundcolor": "#E5ECF6",
            "gridcolor": "white",
            "gridwidth": 2,
            "linecolor": "white",
            "showbackground": true,
            "ticks": "",
            "zerolinecolor": "white"
           }
          },
          "shapedefaults": {
           "line": {
            "color": "#2a3f5f"
           }
          },
          "ternary": {
           "aaxis": {
            "gridcolor": "white",
            "linecolor": "white",
            "ticks": ""
           },
           "baxis": {
            "gridcolor": "white",
            "linecolor": "white",
            "ticks": ""
           },
           "bgcolor": "#E5ECF6",
           "caxis": {
            "gridcolor": "white",
            "linecolor": "white",
            "ticks": ""
           }
          },
          "title": {
           "x": 0.05
          },
          "xaxis": {
           "automargin": true,
           "gridcolor": "white",
           "linecolor": "white",
           "ticks": "",
           "title": {
            "standoff": 15
           },
           "zerolinecolor": "white",
           "zerolinewidth": 2
          },
          "yaxis": {
           "automargin": true,
           "gridcolor": "white",
           "linecolor": "white",
           "ticks": "",
           "title": {
            "standoff": 15
           },
           "zerolinecolor": "white",
           "zerolinewidth": 2
          }
         }
        },
        "title": {
         "text": "Топ-10 улиц по количеству объектов общественного питания"
        },
        "xaxis": {
         "anchor": "y",
         "domain": [
          0,
          1
         ],
         "title": {
          "text": "Улица"
         }
        },
        "yaxis": {
         "anchor": "x",
         "domain": [
          0,
          1
         ],
         "title": {
          "text": "Количество заведений"
         }
        }
       }
      },
      "text/html": [
       "<div>                            <div id=\"57afb863-3a47-40c1-8bcd-590d8efbcaac\" class=\"plotly-graph-div\" style=\"height:525px; width:100%;\"></div>            <script type=\"text/javascript\">                require([\"plotly\"], function(Plotly) {                    window.PLOTLYENV=window.PLOTLYENV || {};                                    if (document.getElementById(\"57afb863-3a47-40c1-8bcd-590d8efbcaac\")) {                    Plotly.newPlot(                        \"57afb863-3a47-40c1-8bcd-590d8efbcaac\",                        [{\"alignmentgroup\":\"True\",\"hovertemplate\":\"street=%{x}<br>rest_number=%{y}<extra></extra>\",\"legendgroup\":\"\",\"marker\":{\"color\":\"#636efa\",\"pattern\":{\"shape\":\"\"}},\"name\":\"\",\"offsetgroup\":\"\",\"orientation\":\"v\",\"showlegend\":false,\"textposition\":\"auto\",\"x\":[\"\\u043f\\u0440\\u043e\\u0441\\u043f\\u0435\\u043a\\u0442 \\u043c\\u0438\\u0440\\u0430\",\"\\u043f\\u0440\\u043e\\u0444\\u0441\\u043e\\u044e\\u0437\\u043d\\u0430\\u044f \\u0443\\u043b\\u0438\\u0446\\u0430\",\"\\u043b\\u0435\\u043d\\u0438\\u043d\\u0433\\u0440\\u0430\\u0434\\u0441\\u043a\\u0438\\u0439 \\u043f\\u0440\\u043e\\u0441\\u043f\\u0435\\u043a\\u0442\",\"\\u043f\\u0440\\u0435\\u0441\\u043d\\u0435\\u043d\\u0441\\u043a\\u0430\\u044f \\u043d\\u0430\\u0431\\u0435\\u0440\\u0435\\u0436\\u043d\\u0430\\u044f\",\"\\u0432\\u0430\\u0440\\u0448\\u0430\\u0432\\u0441\\u043a\\u043e\\u0435 \\u0448\\u043e\\u0441\\u0441\\u0435\",\"\\u043b\\u0435\\u043d\\u0438\\u043d\\u0441\\u043a\\u0438\\u0439 \\u043f\\u0440\\u043e\\u0441\\u043f\\u0435\\u043a\\u0442\",\"\\u043f\\u0440\\u043e\\u0441\\u043f\\u0435\\u043a\\u0442 \\u0432\\u0435\\u0440\\u043d\\u0430\\u0434\\u0441\\u043a\\u043e\\u0433\\u043e\",\"\\u043a\\u0443\\u0442\\u0443\\u0437\\u043e\\u0432\\u0441\\u043a\\u0438\\u0439 \\u043f\\u0440\\u043e\\u0441\\u043f\\u0435\\u043a\\u0442\",\"\\u043a\\u0430\\u0448\\u0438\\u0440\\u0441\\u043a\\u043e\\u0435 \\u0448\\u043e\\u0441\\u0441\\u0435\",\"\\u043a\\u0438\\u0440\\u043e\\u0432\\u043e\\u0433\\u0440\\u0430\\u0434\\u0441\\u043a\\u0430\\u044f \\u0443\\u043b\\u0438\\u0446\\u0430\"],\"xaxis\":\"x\",\"y\":[203,182,172,167,162,148,128,114,111,108],\"yaxis\":\"y\",\"type\":\"bar\"}],                        {\"template\":{\"data\":{\"bar\":[{\"error_x\":{\"color\":\"#2a3f5f\"},\"error_y\":{\"color\":\"#2a3f5f\"},\"marker\":{\"line\":{\"color\":\"#E5ECF6\",\"width\":0.5},\"pattern\":{\"fillmode\":\"overlay\",\"size\":10,\"solidity\":0.2}},\"type\":\"bar\"}],\"barpolar\":[{\"marker\":{\"line\":{\"color\":\"#E5ECF6\",\"width\":0.5},\"pattern\":{\"fillmode\":\"overlay\",\"size\":10,\"solidity\":0.2}},\"type\":\"barpolar\"}],\"carpet\":[{\"aaxis\":{\"endlinecolor\":\"#2a3f5f\",\"gridcolor\":\"white\",\"linecolor\":\"white\",\"minorgridcolor\":\"white\",\"startlinecolor\":\"#2a3f5f\"},\"baxis\":{\"endlinecolor\":\"#2a3f5f\",\"gridcolor\":\"white\",\"linecolor\":\"white\",\"minorgridcolor\":\"white\",\"startlinecolor\":\"#2a3f5f\"},\"type\":\"carpet\"}],\"choropleth\":[{\"colorbar\":{\"outlinewidth\":0,\"ticks\":\"\"},\"type\":\"choropleth\"}],\"contour\":[{\"colorbar\":{\"outlinewidth\":0,\"ticks\":\"\"},\"colorscale\":[[0.0,\"#0d0887\"],[0.1111111111111111,\"#46039f\"],[0.2222222222222222,\"#7201a8\"],[0.3333333333333333,\"#9c179e\"],[0.4444444444444444,\"#bd3786\"],[0.5555555555555556,\"#d8576b\"],[0.6666666666666666,\"#ed7953\"],[0.7777777777777778,\"#fb9f3a\"],[0.8888888888888888,\"#fdca26\"],[1.0,\"#f0f921\"]],\"type\":\"contour\"}],\"contourcarpet\":[{\"colorbar\":{\"outlinewidth\":0,\"ticks\":\"\"},\"type\":\"contourcarpet\"}],\"heatmap\":[{\"colorbar\":{\"outlinewidth\":0,\"ticks\":\"\"},\"colorscale\":[[0.0,\"#0d0887\"],[0.1111111111111111,\"#46039f\"],[0.2222222222222222,\"#7201a8\"],[0.3333333333333333,\"#9c179e\"],[0.4444444444444444,\"#bd3786\"],[0.5555555555555556,\"#d8576b\"],[0.6666666666666666,\"#ed7953\"],[0.7777777777777778,\"#fb9f3a\"],[0.8888888888888888,\"#fdca26\"],[1.0,\"#f0f921\"]],\"type\":\"heatmap\"}],\"heatmapgl\":[{\"colorbar\":{\"outlinewidth\":0,\"ticks\":\"\"},\"colorscale\":[[0.0,\"#0d0887\"],[0.1111111111111111,\"#46039f\"],[0.2222222222222222,\"#7201a8\"],[0.3333333333333333,\"#9c179e\"],[0.4444444444444444,\"#bd3786\"],[0.5555555555555556,\"#d8576b\"],[0.6666666666666666,\"#ed7953\"],[0.7777777777777778,\"#fb9f3a\"],[0.8888888888888888,\"#fdca26\"],[1.0,\"#f0f921\"]],\"type\":\"heatmapgl\"}],\"histogram\":[{\"marker\":{\"pattern\":{\"fillmode\":\"overlay\",\"size\":10,\"solidity\":0.2}},\"type\":\"histogram\"}],\"histogram2d\":[{\"colorbar\":{\"outlinewidth\":0,\"ticks\":\"\"},\"colorscale\":[[0.0,\"#0d0887\"],[0.1111111111111111,\"#46039f\"],[0.2222222222222222,\"#7201a8\"],[0.3333333333333333,\"#9c179e\"],[0.4444444444444444,\"#bd3786\"],[0.5555555555555556,\"#d8576b\"],[0.6666666666666666,\"#ed7953\"],[0.7777777777777778,\"#fb9f3a\"],[0.8888888888888888,\"#fdca26\"],[1.0,\"#f0f921\"]],\"type\":\"histogram2d\"}],\"histogram2dcontour\":[{\"colorbar\":{\"outlinewidth\":0,\"ticks\":\"\"},\"colorscale\":[[0.0,\"#0d0887\"],[0.1111111111111111,\"#46039f\"],[0.2222222222222222,\"#7201a8\"],[0.3333333333333333,\"#9c179e\"],[0.4444444444444444,\"#bd3786\"],[0.5555555555555556,\"#d8576b\"],[0.6666666666666666,\"#ed7953\"],[0.7777777777777778,\"#fb9f3a\"],[0.8888888888888888,\"#fdca26\"],[1.0,\"#f0f921\"]],\"type\":\"histogram2dcontour\"}],\"mesh3d\":[{\"colorbar\":{\"outlinewidth\":0,\"ticks\":\"\"},\"type\":\"mesh3d\"}],\"parcoords\":[{\"line\":{\"colorbar\":{\"outlinewidth\":0,\"ticks\":\"\"}},\"type\":\"parcoords\"}],\"pie\":[{\"automargin\":true,\"type\":\"pie\"}],\"scatter\":[{\"marker\":{\"colorbar\":{\"outlinewidth\":0,\"ticks\":\"\"}},\"type\":\"scatter\"}],\"scatter3d\":[{\"line\":{\"colorbar\":{\"outlinewidth\":0,\"ticks\":\"\"}},\"marker\":{\"colorbar\":{\"outlinewidth\":0,\"ticks\":\"\"}},\"type\":\"scatter3d\"}],\"scattercarpet\":[{\"marker\":{\"colorbar\":{\"outlinewidth\":0,\"ticks\":\"\"}},\"type\":\"scattercarpet\"}],\"scattergeo\":[{\"marker\":{\"colorbar\":{\"outlinewidth\":0,\"ticks\":\"\"}},\"type\":\"scattergeo\"}],\"scattergl\":[{\"marker\":{\"colorbar\":{\"outlinewidth\":0,\"ticks\":\"\"}},\"type\":\"scattergl\"}],\"scattermapbox\":[{\"marker\":{\"colorbar\":{\"outlinewidth\":0,\"ticks\":\"\"}},\"type\":\"scattermapbox\"}],\"scatterpolar\":[{\"marker\":{\"colorbar\":{\"outlinewidth\":0,\"ticks\":\"\"}},\"type\":\"scatterpolar\"}],\"scatterpolargl\":[{\"marker\":{\"colorbar\":{\"outlinewidth\":0,\"ticks\":\"\"}},\"type\":\"scatterpolargl\"}],\"scatterternary\":[{\"marker\":{\"colorbar\":{\"outlinewidth\":0,\"ticks\":\"\"}},\"type\":\"scatterternary\"}],\"surface\":[{\"colorbar\":{\"outlinewidth\":0,\"ticks\":\"\"},\"colorscale\":[[0.0,\"#0d0887\"],[0.1111111111111111,\"#46039f\"],[0.2222222222222222,\"#7201a8\"],[0.3333333333333333,\"#9c179e\"],[0.4444444444444444,\"#bd3786\"],[0.5555555555555556,\"#d8576b\"],[0.6666666666666666,\"#ed7953\"],[0.7777777777777778,\"#fb9f3a\"],[0.8888888888888888,\"#fdca26\"],[1.0,\"#f0f921\"]],\"type\":\"surface\"}],\"table\":[{\"cells\":{\"fill\":{\"color\":\"#EBF0F8\"},\"line\":{\"color\":\"white\"}},\"header\":{\"fill\":{\"color\":\"#C8D4E3\"},\"line\":{\"color\":\"white\"}},\"type\":\"table\"}]},\"layout\":{\"annotationdefaults\":{\"arrowcolor\":\"#2a3f5f\",\"arrowhead\":0,\"arrowwidth\":1},\"autotypenumbers\":\"strict\",\"coloraxis\":{\"colorbar\":{\"outlinewidth\":0,\"ticks\":\"\"}},\"colorscale\":{\"diverging\":[[0,\"#8e0152\"],[0.1,\"#c51b7d\"],[0.2,\"#de77ae\"],[0.3,\"#f1b6da\"],[0.4,\"#fde0ef\"],[0.5,\"#f7f7f7\"],[0.6,\"#e6f5d0\"],[0.7,\"#b8e186\"],[0.8,\"#7fbc41\"],[0.9,\"#4d9221\"],[1,\"#276419\"]],\"sequential\":[[0.0,\"#0d0887\"],[0.1111111111111111,\"#46039f\"],[0.2222222222222222,\"#7201a8\"],[0.3333333333333333,\"#9c179e\"],[0.4444444444444444,\"#bd3786\"],[0.5555555555555556,\"#d8576b\"],[0.6666666666666666,\"#ed7953\"],[0.7777777777777778,\"#fb9f3a\"],[0.8888888888888888,\"#fdca26\"],[1.0,\"#f0f921\"]],\"sequentialminus\":[[0.0,\"#0d0887\"],[0.1111111111111111,\"#46039f\"],[0.2222222222222222,\"#7201a8\"],[0.3333333333333333,\"#9c179e\"],[0.4444444444444444,\"#bd3786\"],[0.5555555555555556,\"#d8576b\"],[0.6666666666666666,\"#ed7953\"],[0.7777777777777778,\"#fb9f3a\"],[0.8888888888888888,\"#fdca26\"],[1.0,\"#f0f921\"]]},\"colorway\":[\"#636efa\",\"#EF553B\",\"#00cc96\",\"#ab63fa\",\"#FFA15A\",\"#19d3f3\",\"#FF6692\",\"#B6E880\",\"#FF97FF\",\"#FECB52\"],\"font\":{\"color\":\"#2a3f5f\"},\"geo\":{\"bgcolor\":\"white\",\"lakecolor\":\"white\",\"landcolor\":\"#E5ECF6\",\"showlakes\":true,\"showland\":true,\"subunitcolor\":\"white\"},\"hoverlabel\":{\"align\":\"left\"},\"hovermode\":\"closest\",\"mapbox\":{\"style\":\"light\"},\"paper_bgcolor\":\"white\",\"plot_bgcolor\":\"#E5ECF6\",\"polar\":{\"angularaxis\":{\"gridcolor\":\"white\",\"linecolor\":\"white\",\"ticks\":\"\"},\"bgcolor\":\"#E5ECF6\",\"radialaxis\":{\"gridcolor\":\"white\",\"linecolor\":\"white\",\"ticks\":\"\"}},\"scene\":{\"xaxis\":{\"backgroundcolor\":\"#E5ECF6\",\"gridcolor\":\"white\",\"gridwidth\":2,\"linecolor\":\"white\",\"showbackground\":true,\"ticks\":\"\",\"zerolinecolor\":\"white\"},\"yaxis\":{\"backgroundcolor\":\"#E5ECF6\",\"gridcolor\":\"white\",\"gridwidth\":2,\"linecolor\":\"white\",\"showbackground\":true,\"ticks\":\"\",\"zerolinecolor\":\"white\"},\"zaxis\":{\"backgroundcolor\":\"#E5ECF6\",\"gridcolor\":\"white\",\"gridwidth\":2,\"linecolor\":\"white\",\"showbackground\":true,\"ticks\":\"\",\"zerolinecolor\":\"white\"}},\"shapedefaults\":{\"line\":{\"color\":\"#2a3f5f\"}},\"ternary\":{\"aaxis\":{\"gridcolor\":\"white\",\"linecolor\":\"white\",\"ticks\":\"\"},\"baxis\":{\"gridcolor\":\"white\",\"linecolor\":\"white\",\"ticks\":\"\"},\"bgcolor\":\"#E5ECF6\",\"caxis\":{\"gridcolor\":\"white\",\"linecolor\":\"white\",\"ticks\":\"\"}},\"title\":{\"x\":0.05},\"xaxis\":{\"automargin\":true,\"gridcolor\":\"white\",\"linecolor\":\"white\",\"ticks\":\"\",\"title\":{\"standoff\":15},\"zerolinecolor\":\"white\",\"zerolinewidth\":2},\"yaxis\":{\"automargin\":true,\"gridcolor\":\"white\",\"linecolor\":\"white\",\"ticks\":\"\",\"title\":{\"standoff\":15},\"zerolinecolor\":\"white\",\"zerolinewidth\":2}}},\"xaxis\":{\"anchor\":\"y\",\"domain\":[0.0,1.0],\"title\":{\"text\":\"\\u0423\\u043b\\u0438\\u0446\\u0430\"}},\"yaxis\":{\"anchor\":\"x\",\"domain\":[0.0,1.0],\"title\":{\"text\":\"\\u041a\\u043e\\u043b\\u0438\\u0447\\u0435\\u0441\\u0442\\u0432\\u043e \\u0437\\u0430\\u0432\\u0435\\u0434\\u0435\\u043d\\u0438\\u0439\"}},\"legend\":{\"tracegroupgap\":0},\"title\":{\"text\":\"\\u0422\\u043e\\u043f-10 \\u0443\\u043b\\u0438\\u0446 \\u043f\\u043e \\u043a\\u043e\\u043b\\u0438\\u0447\\u0435\\u0441\\u0442\\u0432\\u0443 \\u043e\\u0431\\u044a\\u0435\\u043a\\u0442\\u043e\\u0432 \\u043e\\u0431\\u0449\\u0435\\u0441\\u0442\\u0432\\u0435\\u043d\\u043d\\u043e\\u0433\\u043e \\u043f\\u0438\\u0442\\u0430\\u043d\\u0438\\u044f\"},\"barmode\":\"relative\"},                        {\"responsive\": true}                    ).then(function(){\n",
       "                            \n",
       "var gd = document.getElementById('57afb863-3a47-40c1-8bcd-590d8efbcaac');\n",
       "var x = new MutationObserver(function (mutations, observer) {{\n",
       "        var display = window.getComputedStyle(gd).display;\n",
       "        if (!display || display === 'none') {{\n",
       "            console.log([gd, 'removed!']);\n",
       "            Plotly.purge(gd);\n",
       "            observer.disconnect();\n",
       "        }}\n",
       "}});\n",
       "\n",
       "// Listen for the removal of the full notebook cells\n",
       "var notebookContainer = gd.closest('#notebook-container');\n",
       "if (notebookContainer) {{\n",
       "    x.observe(notebookContainer, {childList: true});\n",
       "}}\n",
       "\n",
       "// Listen for the clearing of the current output cell\n",
       "var outputEl = gd.closest('.output');\n",
       "if (outputEl) {{\n",
       "    x.observe(outputEl, {childList: true});\n",
       "}}\n",
       "\n",
       "                        })                };                });            </script>        </div>"
      ]
     },
     "metadata": {},
     "output_type": "display_data"
    }
   ],
   "source": [
    "rest_filtered = rest[(rest['street'] != 'город зеленоград') & (rest['street'] != 'поселение сосенское')].drop(labels='city', axis=1)\n",
    "\n",
    "df = rest_filtered.groupby(['street'], as_index=False).agg(rest_number = ('object_name', 'count')).sort_values(by='rest_number', ascending=False).head(10)\n",
    "\n",
    "bar = px.bar(df, x='street', y='rest_number', title='Топ-10 улиц по количеству объектов общественного питания')\n",
    "bar.update_layout(xaxis_title='Улица',\n",
    "                 yaxis_title='Количество заведений')"
   ]
  },
  {
   "cell_type": "markdown",
   "metadata": {},
   "source": [
    "Первая пятерка улиц с самым большим количеством объектов общественного питания: проспект Мира - 204, Профсоюзная улица - 183, Ленинградский проспект - 173, Пресненская набережная - 167, Варшавское шоссе - 162."
   ]
  },
  {
   "cell_type": "markdown",
   "metadata": {},
   "source": [
    "Чтобы ответить на вопрос в каких районах находятся улицы с наибольшим количеством объектов общественного питания нам понадобятся дополнительные данные. После определённого поиска загружаем данные, знакомимся и подготовливаем их к дальнейшему анализу."
   ]
  },
  {
   "cell_type": "code",
   "execution_count": 50,
   "metadata": {
    "scrolled": false
   },
   "outputs": [
    {
     "data": {
      "text/html": [
       "<div>\n",
       "<style scoped>\n",
       "    .dataframe tbody tr th:only-of-type {\n",
       "        vertical-align: middle;\n",
       "    }\n",
       "\n",
       "    .dataframe tbody tr th {\n",
       "        vertical-align: top;\n",
       "    }\n",
       "\n",
       "    .dataframe thead th {\n",
       "        text-align: right;\n",
       "    }\n",
       "</style>\n",
       "<table border=\"1\" class=\"dataframe\">\n",
       "  <thead>\n",
       "    <tr style=\"text-align: right;\">\n",
       "      <th></th>\n",
       "      <th>ID</th>\n",
       "      <th>Name</th>\n",
       "      <th>global_id</th>\n",
       "      <th>IsNetObject</th>\n",
       "      <th>OperatingCompany</th>\n",
       "      <th>TypeObject</th>\n",
       "      <th>AdmArea</th>\n",
       "      <th>District</th>\n",
       "      <th>Address</th>\n",
       "      <th>PublicPhone</th>\n",
       "      <th>...</th>\n",
       "      <th>AdmArea_en</th>\n",
       "      <th>District_en</th>\n",
       "      <th>Address_en</th>\n",
       "      <th>PublicPhone_en</th>\n",
       "      <th>SeatsCount_en</th>\n",
       "      <th>SocialPrivileges_en</th>\n",
       "      <th>Longitude_WGS84_en</th>\n",
       "      <th>Latitude_WGS84_en</th>\n",
       "      <th>geodata_center</th>\n",
       "      <th>geoarea</th>\n",
       "    </tr>\n",
       "  </thead>\n",
       "  <tbody>\n",
       "    <tr>\n",
       "      <th>0</th>\n",
       "      <td>Код</td>\n",
       "      <td>Наименование</td>\n",
       "      <td>global_id</td>\n",
       "      <td>Является сетевым</td>\n",
       "      <td>Название управляющей компании</td>\n",
       "      <td>Вид объекта</td>\n",
       "      <td>Административный округ по адресу</td>\n",
       "      <td>Район</td>\n",
       "      <td>Адрес</td>\n",
       "      <td>Контактный телефон</td>\n",
       "      <td>...</td>\n",
       "      <td>AdmArea_en</td>\n",
       "      <td>District_en</td>\n",
       "      <td>Address_en</td>\n",
       "      <td>PublicPhone_en</td>\n",
       "      <td>SeatsCount_en</td>\n",
       "      <td>SocialPrivileges_en</td>\n",
       "      <td>Longitude_WGS84_en</td>\n",
       "      <td>Latitude_WGS84_en</td>\n",
       "      <td>geodata_center</td>\n",
       "      <td>geoarea</td>\n",
       "    </tr>\n",
       "    <tr>\n",
       "      <th>1</th>\n",
       "      <td>00151635</td>\n",
       "      <td>СМЕТАНА</td>\n",
       "      <td>637376221</td>\n",
       "      <td>нет</td>\n",
       "      <td>NaN</td>\n",
       "      <td>кафе</td>\n",
       "      <td>Северо-Восточный административный округ</td>\n",
       "      <td>Ярославский район</td>\n",
       "      <td>город Москва, улица Егора Абакумова, дом 9</td>\n",
       "      <td>PublicPhone:(499) 183-14-10\\n\\n</td>\n",
       "      <td>...</td>\n",
       "      <td>NaN</td>\n",
       "      <td>NaN</td>\n",
       "      <td>NaN</td>\n",
       "      <td>NaN</td>\n",
       "      <td>NaN</td>\n",
       "      <td>NaN</td>\n",
       "      <td>NaN</td>\n",
       "      <td>NaN</td>\n",
       "      <td>{\"coordinates\":[37.714565000436,55.87900153130...</td>\n",
       "      <td>NaN</td>\n",
       "    </tr>\n",
       "    <tr>\n",
       "      <th>2</th>\n",
       "      <td>000077874</td>\n",
       "      <td>Родник</td>\n",
       "      <td>637376331</td>\n",
       "      <td>нет</td>\n",
       "      <td>NaN</td>\n",
       "      <td>кафе</td>\n",
       "      <td>Центральный административный округ</td>\n",
       "      <td>Таганский район</td>\n",
       "      <td>город Москва, улица Талалихина, дом 2/1, корпус 1</td>\n",
       "      <td>PublicPhone:(495) 676-55-35\\n\\n</td>\n",
       "      <td>...</td>\n",
       "      <td>NaN</td>\n",
       "      <td>NaN</td>\n",
       "      <td>NaN</td>\n",
       "      <td>NaN</td>\n",
       "      <td>NaN</td>\n",
       "      <td>NaN</td>\n",
       "      <td>NaN</td>\n",
       "      <td>NaN</td>\n",
       "      <td>{\"coordinates\":[37.6733061300344,55.7382386551...</td>\n",
       "      <td>NaN</td>\n",
       "    </tr>\n",
       "    <tr>\n",
       "      <th>3</th>\n",
       "      <td>000024309</td>\n",
       "      <td>Кафе «Академия»</td>\n",
       "      <td>637376349</td>\n",
       "      <td>нет</td>\n",
       "      <td>NaN</td>\n",
       "      <td>ресторан</td>\n",
       "      <td>Центральный административный округ</td>\n",
       "      <td>Таганский район</td>\n",
       "      <td>Российская Федерация, город Москва, внутригоро...</td>\n",
       "      <td>PublicPhone:(495) 662-30-10\\n\\n</td>\n",
       "      <td>...</td>\n",
       "      <td>NaN</td>\n",
       "      <td>NaN</td>\n",
       "      <td>NaN</td>\n",
       "      <td>NaN</td>\n",
       "      <td>NaN</td>\n",
       "      <td>NaN</td>\n",
       "      <td>NaN</td>\n",
       "      <td>NaN</td>\n",
       "      <td>NaN</td>\n",
       "      <td>NaN</td>\n",
       "    </tr>\n",
       "    <tr>\n",
       "      <th>4</th>\n",
       "      <td>000027429</td>\n",
       "      <td>ГБОУ «Школа № 1430 имени Героя Социалистическо...</td>\n",
       "      <td>637376480</td>\n",
       "      <td>нет</td>\n",
       "      <td>NaN</td>\n",
       "      <td>столовая</td>\n",
       "      <td>Северо-Восточный административный округ</td>\n",
       "      <td>район Лианозово</td>\n",
       "      <td>город Москва, Угличская улица, дом 17</td>\n",
       "      <td>PublicPhone:(499) 908-06-15\\n\\n</td>\n",
       "      <td>...</td>\n",
       "      <td>NaN</td>\n",
       "      <td>NaN</td>\n",
       "      <td>NaN</td>\n",
       "      <td>NaN</td>\n",
       "      <td>NaN</td>\n",
       "      <td>NaN</td>\n",
       "      <td>NaN</td>\n",
       "      <td>NaN</td>\n",
       "      <td>{\"coordinates\":[37.56694,55.9040188006692],\"ty...</td>\n",
       "      <td>NaN</td>\n",
       "    </tr>\n",
       "  </tbody>\n",
       "</table>\n",
       "<p>5 rows × 29 columns</p>\n",
       "</div>"
      ],
      "text/plain": [
       "          ID                                               Name  global_id  \\\n",
       "0        Код                                       Наименование  global_id   \n",
       "1   00151635                                            СМЕТАНА  637376221   \n",
       "2  000077874                                             Родник  637376331   \n",
       "3  000024309                                    Кафе «Академия»  637376349   \n",
       "4  000027429  ГБОУ «Школа № 1430 имени Героя Социалистическо...  637376480   \n",
       "\n",
       "        IsNetObject               OperatingCompany   TypeObject  \\\n",
       "0  Является сетевым  Название управляющей компании  Вид объекта   \n",
       "1               нет                            NaN         кафе   \n",
       "2               нет                            NaN         кафе   \n",
       "3               нет                            NaN     ресторан   \n",
       "4               нет                            NaN     столовая   \n",
       "\n",
       "                                   AdmArea           District  \\\n",
       "0         Административный округ по адресу              Район   \n",
       "1  Северо-Восточный административный округ  Ярославский район   \n",
       "2       Центральный административный округ    Таганский район   \n",
       "3       Центральный административный округ    Таганский район   \n",
       "4  Северо-Восточный административный округ    район Лианозово   \n",
       "\n",
       "                                             Address  \\\n",
       "0                                              Адрес   \n",
       "1         город Москва, улица Егора Абакумова, дом 9   \n",
       "2  город Москва, улица Талалихина, дом 2/1, корпус 1   \n",
       "3  Российская Федерация, город Москва, внутригоро...   \n",
       "4              город Москва, Угличская улица, дом 17   \n",
       "\n",
       "                       PublicPhone  ...  AdmArea_en  District_en  Address_en  \\\n",
       "0               Контактный телефон  ...  AdmArea_en  District_en  Address_en   \n",
       "1  PublicPhone:(499) 183-14-10\\n\\n  ...         NaN          NaN         NaN   \n",
       "2  PublicPhone:(495) 676-55-35\\n\\n  ...         NaN          NaN         NaN   \n",
       "3  PublicPhone:(495) 662-30-10\\n\\n  ...         NaN          NaN         NaN   \n",
       "4  PublicPhone:(499) 908-06-15\\n\\n  ...         NaN          NaN         NaN   \n",
       "\n",
       "   PublicPhone_en  SeatsCount_en  SocialPrivileges_en  Longitude_WGS84_en  \\\n",
       "0  PublicPhone_en  SeatsCount_en  SocialPrivileges_en  Longitude_WGS84_en   \n",
       "1             NaN            NaN                  NaN                 NaN   \n",
       "2             NaN            NaN                  NaN                 NaN   \n",
       "3             NaN            NaN                  NaN                 NaN   \n",
       "4             NaN            NaN                  NaN                 NaN   \n",
       "\n",
       "   Latitude_WGS84_en                                     geodata_center  \\\n",
       "0  Latitude_WGS84_en                                     geodata_center   \n",
       "1                NaN  {\"coordinates\":[37.714565000436,55.87900153130...   \n",
       "2                NaN  {\"coordinates\":[37.6733061300344,55.7382386551...   \n",
       "3                NaN                                                NaN   \n",
       "4                NaN  {\"coordinates\":[37.56694,55.9040188006692],\"ty...   \n",
       "\n",
       "   geoarea  \n",
       "0  geoarea  \n",
       "1      NaN  \n",
       "2      NaN  \n",
       "3      NaN  \n",
       "4      NaN  \n",
       "\n",
       "[5 rows x 29 columns]"
      ]
     },
     "execution_count": 50,
     "metadata": {},
     "output_type": "execute_result"
    }
   ],
   "source": [
    "spreadsheet_id = '1Z5PAWN_TnZ7qs2uy_v7ynmXdtL20DRz807ySRUQvi2I'\n",
    "file_name = 'https://docs.google.com/spreadsheets/d/{}/export?format=csv'.format(spreadsheet_id)\n",
    "r = requests.get(file_name)\n",
    "external_df = pd.read_csv(BytesIO(r.content))\n",
    "external_df.head()"
   ]
  },
  {
   "cell_type": "code",
   "execution_count": 51,
   "metadata": {},
   "outputs": [
    {
     "data": {
      "text/html": [
       "<div>\n",
       "<style scoped>\n",
       "    .dataframe tbody tr th:only-of-type {\n",
       "        vertical-align: middle;\n",
       "    }\n",
       "\n",
       "    .dataframe tbody tr th {\n",
       "        vertical-align: top;\n",
       "    }\n",
       "\n",
       "    .dataframe thead th {\n",
       "        text-align: right;\n",
       "    }\n",
       "</style>\n",
       "<table border=\"1\" class=\"dataframe\">\n",
       "  <thead>\n",
       "    <tr style=\"text-align: right;\">\n",
       "      <th></th>\n",
       "      <th>object_name</th>\n",
       "      <th>address</th>\n",
       "      <th>district</th>\n",
       "    </tr>\n",
       "  </thead>\n",
       "  <tbody>\n",
       "    <tr>\n",
       "      <th>1</th>\n",
       "      <td>сметана</td>\n",
       "      <td>город москва, улица егора абакумова, дом 9</td>\n",
       "      <td>ярославский район</td>\n",
       "    </tr>\n",
       "    <tr>\n",
       "      <th>2</th>\n",
       "      <td>родник</td>\n",
       "      <td>город москва, улица талалихина, дом 2/1, корпус 1</td>\n",
       "      <td>таганский район</td>\n",
       "    </tr>\n",
       "    <tr>\n",
       "      <th>3</th>\n",
       "      <td>кафе «академия»</td>\n",
       "      <td>российская федерация, город москва, внутригоро...</td>\n",
       "      <td>таганский район</td>\n",
       "    </tr>\n",
       "    <tr>\n",
       "      <th>4</th>\n",
       "      <td>гбоу «школа № 1430 имени героя социалистическо...</td>\n",
       "      <td>город москва, угличская улица, дом 17</td>\n",
       "      <td>район лианозово</td>\n",
       "    </tr>\n",
       "    <tr>\n",
       "      <th>5</th>\n",
       "      <td>брусника</td>\n",
       "      <td>город москва, переулок сивцев вражек, дом 6/2</td>\n",
       "      <td>район арбат</td>\n",
       "    </tr>\n",
       "  </tbody>\n",
       "</table>\n",
       "</div>"
      ],
      "text/plain": [
       "                                         object_name  \\\n",
       "1                                            сметана   \n",
       "2                                             родник   \n",
       "3                                    кафе «академия»   \n",
       "4  гбоу «школа № 1430 имени героя социалистическо...   \n",
       "5                                           брусника   \n",
       "\n",
       "                                             address           district  \n",
       "1         город москва, улица егора абакумова, дом 9  ярославский район  \n",
       "2  город москва, улица талалихина, дом 2/1, корпус 1    таганский район  \n",
       "3  российская федерация, город москва, внутригоро...    таганский район  \n",
       "4              город москва, угличская улица, дом 17    район лианозово  \n",
       "5      город москва, переулок сивцев вражек, дом 6/2        район арбат  "
      ]
     },
     "execution_count": 51,
     "metadata": {},
     "output_type": "execute_result"
    }
   ],
   "source": [
    "external_df.columns = external_df.columns.str.lower()\n",
    "external_df = external_df.rename(columns={'name':'object_name'})\n",
    "\n",
    "external_df = external_df[['object_name', 'address', 'district']]\n",
    "\n",
    "external_df = external_df.drop(labels=[0], axis=0)\n",
    "\n",
    "for column in ['object_name', 'address', 'district']:\n",
    "    external_df[column] = external_df[column].str.lower()\n",
    "\n",
    "external_df.head()"
   ]
  },
  {
   "cell_type": "markdown",
   "metadata": {},
   "source": [
    "Проверим какие значения попали в столбец 'city' после обработки функцией."
   ]
  },
  {
   "cell_type": "code",
   "execution_count": 52,
   "metadata": {},
   "outputs": [
    {
     "data": {
      "text/plain": [
       "город москва               15182\n",
       "российская федерация        2484\n",
       "москва                        29\n",
       "николоямская улица             3\n",
       "улица ленинская слобода        3\n",
       "Name: city, dtype: int64"
      ]
     },
     "execution_count": 52,
     "metadata": {},
     "output_type": "execute_result"
    }
   ],
   "source": [
    "external_df['city'] = external_df.apply(city, axis=1)\n",
    "external_df['city'].value_counts().head()"
   ]
  },
  {
   "cell_type": "markdown",
   "metadata": {},
   "source": [
    "Здесь также видим, что в столбце 'address' различается формат отображения адреса. Вероятно при ручном вводе данных не все следовали рекомендуемому образцу, либо ошибки при изменении типа файла при загрузке или выгрузке. Немного доработаем ранее написанную функцию для получения отдельного названия улицы."
   ]
  },
  {
   "cell_type": "code",
   "execution_count": 53,
   "metadata": {},
   "outputs": [
    {
     "data": {
      "text/html": [
       "<div>\n",
       "<style scoped>\n",
       "    .dataframe tbody tr th:only-of-type {\n",
       "        vertical-align: middle;\n",
       "    }\n",
       "\n",
       "    .dataframe tbody tr th {\n",
       "        vertical-align: top;\n",
       "    }\n",
       "\n",
       "    .dataframe thead th {\n",
       "        text-align: right;\n",
       "    }\n",
       "</style>\n",
       "<table border=\"1\" class=\"dataframe\">\n",
       "  <thead>\n",
       "    <tr style=\"text-align: right;\">\n",
       "      <th></th>\n",
       "      <th>object_name</th>\n",
       "      <th>address</th>\n",
       "      <th>district</th>\n",
       "      <th>city</th>\n",
       "      <th>street</th>\n",
       "    </tr>\n",
       "  </thead>\n",
       "  <tbody>\n",
       "    <tr>\n",
       "      <th>1</th>\n",
       "      <td>сметана</td>\n",
       "      <td>город москва, улица егора абакумова, дом 9</td>\n",
       "      <td>ярославский район</td>\n",
       "      <td>город москва</td>\n",
       "      <td>улица егора абакумова</td>\n",
       "    </tr>\n",
       "    <tr>\n",
       "      <th>2</th>\n",
       "      <td>родник</td>\n",
       "      <td>город москва, улица талалихина, дом 2/1, корпус 1</td>\n",
       "      <td>таганский район</td>\n",
       "      <td>город москва</td>\n",
       "      <td>улица талалихина</td>\n",
       "    </tr>\n",
       "    <tr>\n",
       "      <th>3</th>\n",
       "      <td>кафе «академия»</td>\n",
       "      <td>российская федерация, город москва, внутригоро...</td>\n",
       "      <td>таганский район</td>\n",
       "      <td>российская федерация</td>\n",
       "      <td>абельмановская улица</td>\n",
       "    </tr>\n",
       "    <tr>\n",
       "      <th>4</th>\n",
       "      <td>гбоу «школа № 1430 имени героя социалистическо...</td>\n",
       "      <td>город москва, угличская улица, дом 17</td>\n",
       "      <td>район лианозово</td>\n",
       "      <td>город москва</td>\n",
       "      <td>угличская улица</td>\n",
       "    </tr>\n",
       "    <tr>\n",
       "      <th>5</th>\n",
       "      <td>брусника</td>\n",
       "      <td>город москва, переулок сивцев вражек, дом 6/2</td>\n",
       "      <td>район арбат</td>\n",
       "      <td>город москва</td>\n",
       "      <td>переулок сивцев вражек</td>\n",
       "    </tr>\n",
       "  </tbody>\n",
       "</table>\n",
       "</div>"
      ],
      "text/plain": [
       "                                         object_name  \\\n",
       "1                                            сметана   \n",
       "2                                             родник   \n",
       "3                                    кафе «академия»   \n",
       "4  гбоу «школа № 1430 имени героя социалистическо...   \n",
       "5                                           брусника   \n",
       "\n",
       "                                             address           district  \\\n",
       "1         город москва, улица егора абакумова, дом 9  ярославский район   \n",
       "2  город москва, улица талалихина, дом 2/1, корпус 1    таганский район   \n",
       "3  российская федерация, город москва, внутригоро...    таганский район   \n",
       "4              город москва, угличская улица, дом 17    район лианозово   \n",
       "5      город москва, переулок сивцев вражек, дом 6/2        район арбат   \n",
       "\n",
       "                   city                  street  \n",
       "1          город москва   улица егора абакумова  \n",
       "2          город москва        улица талалихина  \n",
       "3  российская федерация    абельмановская улица  \n",
       "4          город москва         угличская улица  \n",
       "5          город москва  переулок сивцев вражек  "
      ]
     },
     "execution_count": 53,
     "metadata": {},
     "output_type": "execute_result"
    }
   ],
   "source": [
    "'''получаем улицу'''\n",
    "def street(row):\n",
    "    if row['city'] == 'город москва' or row['city'] == 'москва':\n",
    "        split_string = row['address'].split(', ')\n",
    "        row['street'] = split_string[1]\n",
    "        return row['street']\n",
    "    elif row['city'] == 'российская федерация':\n",
    "        split_string2 = row['address'].split(', ')\n",
    "        row['street'] = split_string2[3]\n",
    "        return row['street']\n",
    "    else:\n",
    "        split_string3 = row['address'].split(', ')\n",
    "        row['street'] = split_string3[0]\n",
    "        return row['street']\n",
    "    return row['street']\n",
    "\n",
    "external_df['street'] = external_df.apply(street, axis=1)\n",
    "\n",
    "external_df.head()"
   ]
  },
  {
   "cell_type": "markdown",
   "metadata": {},
   "source": [
    "Фильтруем внешний датафрейм по списку популярных улиц и объединяем его по улице и названию объекта на ней с исходным датафреймом, также отфильтрованным по списку топ-10 улиц. "
   ]
  },
  {
   "cell_type": "code",
   "execution_count": 54,
   "metadata": {
    "scrolled": false
   },
   "outputs": [
    {
     "data": {
      "text/html": [
       "<div>\n",
       "<style scoped>\n",
       "    .dataframe tbody tr th:only-of-type {\n",
       "        vertical-align: middle;\n",
       "    }\n",
       "\n",
       "    .dataframe tbody tr th {\n",
       "        vertical-align: top;\n",
       "    }\n",
       "\n",
       "    .dataframe thead th {\n",
       "        text-align: right;\n",
       "    }\n",
       "</style>\n",
       "<table border=\"1\" class=\"dataframe\">\n",
       "  <thead>\n",
       "    <tr style=\"text-align: right;\">\n",
       "      <th></th>\n",
       "      <th>index</th>\n",
       "      <th>object_name</th>\n",
       "      <th>chain</th>\n",
       "      <th>object_type</th>\n",
       "      <th>address</th>\n",
       "      <th>number</th>\n",
       "      <th>street</th>\n",
       "      <th>district</th>\n",
       "    </tr>\n",
       "  </thead>\n",
       "  <tbody>\n",
       "    <tr>\n",
       "      <th>0</th>\n",
       "      <td>151</td>\n",
       "      <td>кафе «андерсон»</td>\n",
       "      <td>да</td>\n",
       "      <td>кафе</td>\n",
       "      <td>город москва, варшавское шоссе, дом 2</td>\n",
       "      <td>150</td>\n",
       "      <td>варшавское шоссе</td>\n",
       "      <td>NaN</td>\n",
       "    </tr>\n",
       "    <tr>\n",
       "      <th>1</th>\n",
       "      <td>152</td>\n",
       "      <td>кафе «subway»</td>\n",
       "      <td>да</td>\n",
       "      <td>кафе</td>\n",
       "      <td>город москва, варшавское шоссе, дом 7, корпус 1</td>\n",
       "      <td>36</td>\n",
       "      <td>варшавское шоссе</td>\n",
       "      <td>NaN</td>\n",
       "    </tr>\n",
       "    <tr>\n",
       "      <th>2</th>\n",
       "      <td>153</td>\n",
       "      <td>кафе «ламаджо»</td>\n",
       "      <td>нет</td>\n",
       "      <td>кафе</td>\n",
       "      <td>город москва, варшавское шоссе, дом 29</td>\n",
       "      <td>30</td>\n",
       "      <td>варшавское шоссе</td>\n",
       "      <td>донской район</td>\n",
       "    </tr>\n",
       "    <tr>\n",
       "      <th>3</th>\n",
       "      <td>154</td>\n",
       "      <td>шаурма в пите</td>\n",
       "      <td>нет</td>\n",
       "      <td>предприятие быстрого обслуживания</td>\n",
       "      <td>город москва, варшавское шоссе, дом 72, корпус 2</td>\n",
       "      <td>0</td>\n",
       "      <td>варшавское шоссе</td>\n",
       "      <td>NaN</td>\n",
       "    </tr>\n",
       "    <tr>\n",
       "      <th>4</th>\n",
       "      <td>155</td>\n",
       "      <td>выпечка</td>\n",
       "      <td>нет</td>\n",
       "      <td>кафетерий</td>\n",
       "      <td>город москва, варшавское шоссе, дом 100</td>\n",
       "      <td>2</td>\n",
       "      <td>варшавское шоссе</td>\n",
       "      <td>NaN</td>\n",
       "    </tr>\n",
       "  </tbody>\n",
       "</table>\n",
       "</div>"
      ],
      "text/plain": [
       "   index      object_name chain                        object_type  \\\n",
       "0    151  кафе «андерсон»    да                               кафе   \n",
       "1    152    кафе «subway»    да                               кафе   \n",
       "2    153   кафе «ламаджо»   нет                               кафе   \n",
       "3    154    шаурма в пите   нет  предприятие быстрого обслуживания   \n",
       "4    155          выпечка   нет                          кафетерий   \n",
       "\n",
       "                                            address  number            street  \\\n",
       "0             город москва, варшавское шоссе, дом 2     150  варшавское шоссе   \n",
       "1   город москва, варшавское шоссе, дом 7, корпус 1      36  варшавское шоссе   \n",
       "2            город москва, варшавское шоссе, дом 29      30  варшавское шоссе   \n",
       "3  город москва, варшавское шоссе, дом 72, корпус 2       0  варшавское шоссе   \n",
       "4           город москва, варшавское шоссе, дом 100       2  варшавское шоссе   \n",
       "\n",
       "        district  \n",
       "0            NaN  \n",
       "1            NaN  \n",
       "2  донской район  \n",
       "3            NaN  \n",
       "4            NaN  "
      ]
     },
     "execution_count": 54,
     "metadata": {},
     "output_type": "execute_result"
    }
   ],
   "source": [
    "street_filter = list(df['street']) # топ-10 улиц\n",
    "\n",
    "external_df_filtered = external_df.query('street == @street_filter')\n",
    "\n",
    "rest_merged = rest_filtered.query('street == @street_filter').merge(external_df_filtered[['object_name', 'street', 'district']], left_on=['object_name', 'street'], right_on=['object_name', 'street'], how='left')\n",
    "rest_merged.head()"
   ]
  },
  {
   "cell_type": "markdown",
   "metadata": {},
   "source": [
    "Пропуски в районах заполним модой исходя из улицы."
   ]
  },
  {
   "cell_type": "code",
   "execution_count": 55,
   "metadata": {},
   "outputs": [],
   "source": [
    "def my_mode(s): \n",
    "    mode = s.mode()\n",
    "    if len(mode) > 0:\n",
    "        return mode[0]\n",
    " \n",
    "new_district = rest_merged.groupby('street')['district'].transform(my_mode)\n",
    "rest_merged['district'] = rest_merged['district'].fillna(new_district)"
   ]
  },
  {
   "cell_type": "code",
   "execution_count": 56,
   "metadata": {},
   "outputs": [
    {
     "data": {
      "text/plain": [
       "0"
      ]
     },
     "execution_count": 56,
     "metadata": {},
     "output_type": "execute_result"
    }
   ],
   "source": [
    "rest_merged['district'].isna().sum()"
   ]
  },
  {
   "cell_type": "code",
   "execution_count": 57,
   "metadata": {
    "scrolled": true
   },
   "outputs": [
    {
     "data": {
      "text/plain": [
       "array(['нагорный район', 'донской район', 'район тропарёво-никулино',\n",
       "       'ломоносовский район', 'район дорогомилово',\n",
       "       'район москворечье-сабурово', 'район чертаново центральное',\n",
       "       'район аэропорт', 'район беговой', 'район сокол',\n",
       "       'хорошёвский район', 'район якиманка', 'гагаринский район',\n",
       "       'обручевский район', 'мещанский район', 'останкинский район',\n",
       "       'алексеевский район', 'район ясенево', 'академический район',\n",
       "       'район коньково', 'район черёмушки', 'район тёплый стан',\n",
       "       'район орехово-борисово южное', 'район чертаново южное',\n",
       "       'район чертаново северное', 'район проспект вернадского',\n",
       "       'район раменки', 'район нагатино-садовники', 'район свиблово',\n",
       "       'район фили-давыдково', 'поселение вороновское', 'район ростокино',\n",
       "       'район южное бутово', 'поселение краснопахорское',\n",
       "       'район орехово-борисово северное', 'пресненский район'],\n",
       "      dtype=object)"
      ]
     },
     "execution_count": 57,
     "metadata": {},
     "output_type": "execute_result"
    }
   ],
   "source": [
    "rest_merged['district'].unique()"
   ]
  },
  {
   "cell_type": "markdown",
   "metadata": {},
   "source": [
    "Так как некоторые улицы очень длинные, они проходят через несколько районов, отсюда и довольно большой список."
   ]
  },
  {
   "cell_type": "code",
   "execution_count": 58,
   "metadata": {
    "scrolled": false
   },
   "outputs": [
    {
     "data": {
      "text/html": [
       "<div>\n",
       "<style scoped>\n",
       "    .dataframe tbody tr th:only-of-type {\n",
       "        vertical-align: middle;\n",
       "    }\n",
       "\n",
       "    .dataframe tbody tr th {\n",
       "        vertical-align: top;\n",
       "    }\n",
       "\n",
       "    .dataframe thead th {\n",
       "        text-align: right;\n",
       "    }\n",
       "</style>\n",
       "<table border=\"1\" class=\"dataframe\">\n",
       "  <thead>\n",
       "    <tr style=\"text-align: right;\">\n",
       "      <th></th>\n",
       "      <th>district</th>\n",
       "      <th>street</th>\n",
       "    </tr>\n",
       "  </thead>\n",
       "  <tbody>\n",
       "    <tr>\n",
       "      <th>0</th>\n",
       "      <td>нагорный район</td>\n",
       "      <td>варшавское шоссе</td>\n",
       "    </tr>\n",
       "    <tr>\n",
       "      <th>1</th>\n",
       "      <td>район москворечье-сабурово</td>\n",
       "      <td>каширское шоссе</td>\n",
       "    </tr>\n",
       "    <tr>\n",
       "      <th>2</th>\n",
       "      <td>район чертаново центральное</td>\n",
       "      <td>кировоградская улица</td>\n",
       "    </tr>\n",
       "    <tr>\n",
       "      <th>3</th>\n",
       "      <td>район дорогомилово</td>\n",
       "      <td>кутузовский проспект</td>\n",
       "    </tr>\n",
       "    <tr>\n",
       "      <th>4</th>\n",
       "      <td>район аэропорт</td>\n",
       "      <td>ленинградский проспект</td>\n",
       "    </tr>\n",
       "    <tr>\n",
       "      <th>5</th>\n",
       "      <td>обручевский район</td>\n",
       "      <td>ленинский проспект</td>\n",
       "    </tr>\n",
       "    <tr>\n",
       "      <th>6</th>\n",
       "      <td>пресненский район</td>\n",
       "      <td>пресненская набережная</td>\n",
       "    </tr>\n",
       "    <tr>\n",
       "      <th>7</th>\n",
       "      <td>район тропарёво-никулино</td>\n",
       "      <td>проспект вернадского</td>\n",
       "    </tr>\n",
       "    <tr>\n",
       "      <th>8</th>\n",
       "      <td>мещанский район</td>\n",
       "      <td>проспект мира</td>\n",
       "    </tr>\n",
       "    <tr>\n",
       "      <th>9</th>\n",
       "      <td>район коньково</td>\n",
       "      <td>профсоюзная улица</td>\n",
       "    </tr>\n",
       "  </tbody>\n",
       "</table>\n",
       "</div>"
      ],
      "text/plain": [
       "                      district                  street\n",
       "0               нагорный район        варшавское шоссе\n",
       "1   район москворечье-сабурово         каширское шоссе\n",
       "2  район чертаново центральное    кировоградская улица\n",
       "3           район дорогомилово    кутузовский проспект\n",
       "4               район аэропорт  ленинградский проспект\n",
       "5            обручевский район      ленинский проспект\n",
       "6            пресненский район  пресненская набережная\n",
       "7     район тропарёво-никулино    проспект вернадского\n",
       "8              мещанский район           проспект мира\n",
       "9               район коньково       профсоюзная улица"
      ]
     },
     "execution_count": 58,
     "metadata": {},
     "output_type": "execute_result"
    }
   ],
   "source": [
    "str_distr_grouped = rest_merged.groupby(['street', 'district'], as_index=False).agg(object_number = ('object_name','count'))\n",
    "\n",
    "str_grouped = str_distr_grouped.groupby(['street'], as_index=False)['object_number'].max()\n",
    "\n",
    "str_merged = pd.merge(str_grouped, str_distr_grouped, on=['street', 'object_number'], how='left')\n",
    "str_merged[['district', 'street']]"
   ]
  },
  {
   "cell_type": "code",
   "execution_count": 59,
   "metadata": {},
   "outputs": [
    {
     "data": {
      "application/vnd.plotly.v1+json": {
       "config": {
        "plotlyServerURL": "https://plot.ly"
       },
       "data": [
        {
         "alignmentgroup": "True",
         "hovertemplate": "district=%{x}<br>quantity=%{y}<extra></extra>",
         "legendgroup": "",
         "marker": {
          "color": "#636efa",
          "pattern": {
           "shape": ""
          }
         },
         "name": "",
         "offsetgroup": "",
         "orientation": "v",
         "showlegend": false,
         "textposition": "auto",
         "type": "bar",
         "x": [
          "мещанский район",
          "пресненский район",
          "район тропарёво-никулино",
          "район аэропорт",
          "нагорный район",
          "район коньково",
          "район чертаново центральное",
          "обручевский район",
          "район москворечье-сабурово",
          "район дорогомилово"
         ],
         "xaxis": "x",
         "y": [
          184,
          182,
          168,
          166,
          140,
          139,
          120,
          112,
          104,
          92
         ],
         "yaxis": "y"
        }
       ],
       "layout": {
        "barmode": "relative",
        "legend": {
         "tracegroupgap": 0
        },
        "template": {
         "data": {
          "bar": [
           {
            "error_x": {
             "color": "#2a3f5f"
            },
            "error_y": {
             "color": "#2a3f5f"
            },
            "marker": {
             "line": {
              "color": "#E5ECF6",
              "width": 0.5
             },
             "pattern": {
              "fillmode": "overlay",
              "size": 10,
              "solidity": 0.2
             }
            },
            "type": "bar"
           }
          ],
          "barpolar": [
           {
            "marker": {
             "line": {
              "color": "#E5ECF6",
              "width": 0.5
             },
             "pattern": {
              "fillmode": "overlay",
              "size": 10,
              "solidity": 0.2
             }
            },
            "type": "barpolar"
           }
          ],
          "carpet": [
           {
            "aaxis": {
             "endlinecolor": "#2a3f5f",
             "gridcolor": "white",
             "linecolor": "white",
             "minorgridcolor": "white",
             "startlinecolor": "#2a3f5f"
            },
            "baxis": {
             "endlinecolor": "#2a3f5f",
             "gridcolor": "white",
             "linecolor": "white",
             "minorgridcolor": "white",
             "startlinecolor": "#2a3f5f"
            },
            "type": "carpet"
           }
          ],
          "choropleth": [
           {
            "colorbar": {
             "outlinewidth": 0,
             "ticks": ""
            },
            "type": "choropleth"
           }
          ],
          "contour": [
           {
            "colorbar": {
             "outlinewidth": 0,
             "ticks": ""
            },
            "colorscale": [
             [
              0,
              "#0d0887"
             ],
             [
              0.1111111111111111,
              "#46039f"
             ],
             [
              0.2222222222222222,
              "#7201a8"
             ],
             [
              0.3333333333333333,
              "#9c179e"
             ],
             [
              0.4444444444444444,
              "#bd3786"
             ],
             [
              0.5555555555555556,
              "#d8576b"
             ],
             [
              0.6666666666666666,
              "#ed7953"
             ],
             [
              0.7777777777777778,
              "#fb9f3a"
             ],
             [
              0.8888888888888888,
              "#fdca26"
             ],
             [
              1,
              "#f0f921"
             ]
            ],
            "type": "contour"
           }
          ],
          "contourcarpet": [
           {
            "colorbar": {
             "outlinewidth": 0,
             "ticks": ""
            },
            "type": "contourcarpet"
           }
          ],
          "heatmap": [
           {
            "colorbar": {
             "outlinewidth": 0,
             "ticks": ""
            },
            "colorscale": [
             [
              0,
              "#0d0887"
             ],
             [
              0.1111111111111111,
              "#46039f"
             ],
             [
              0.2222222222222222,
              "#7201a8"
             ],
             [
              0.3333333333333333,
              "#9c179e"
             ],
             [
              0.4444444444444444,
              "#bd3786"
             ],
             [
              0.5555555555555556,
              "#d8576b"
             ],
             [
              0.6666666666666666,
              "#ed7953"
             ],
             [
              0.7777777777777778,
              "#fb9f3a"
             ],
             [
              0.8888888888888888,
              "#fdca26"
             ],
             [
              1,
              "#f0f921"
             ]
            ],
            "type": "heatmap"
           }
          ],
          "heatmapgl": [
           {
            "colorbar": {
             "outlinewidth": 0,
             "ticks": ""
            },
            "colorscale": [
             [
              0,
              "#0d0887"
             ],
             [
              0.1111111111111111,
              "#46039f"
             ],
             [
              0.2222222222222222,
              "#7201a8"
             ],
             [
              0.3333333333333333,
              "#9c179e"
             ],
             [
              0.4444444444444444,
              "#bd3786"
             ],
             [
              0.5555555555555556,
              "#d8576b"
             ],
             [
              0.6666666666666666,
              "#ed7953"
             ],
             [
              0.7777777777777778,
              "#fb9f3a"
             ],
             [
              0.8888888888888888,
              "#fdca26"
             ],
             [
              1,
              "#f0f921"
             ]
            ],
            "type": "heatmapgl"
           }
          ],
          "histogram": [
           {
            "marker": {
             "pattern": {
              "fillmode": "overlay",
              "size": 10,
              "solidity": 0.2
             }
            },
            "type": "histogram"
           }
          ],
          "histogram2d": [
           {
            "colorbar": {
             "outlinewidth": 0,
             "ticks": ""
            },
            "colorscale": [
             [
              0,
              "#0d0887"
             ],
             [
              0.1111111111111111,
              "#46039f"
             ],
             [
              0.2222222222222222,
              "#7201a8"
             ],
             [
              0.3333333333333333,
              "#9c179e"
             ],
             [
              0.4444444444444444,
              "#bd3786"
             ],
             [
              0.5555555555555556,
              "#d8576b"
             ],
             [
              0.6666666666666666,
              "#ed7953"
             ],
             [
              0.7777777777777778,
              "#fb9f3a"
             ],
             [
              0.8888888888888888,
              "#fdca26"
             ],
             [
              1,
              "#f0f921"
             ]
            ],
            "type": "histogram2d"
           }
          ],
          "histogram2dcontour": [
           {
            "colorbar": {
             "outlinewidth": 0,
             "ticks": ""
            },
            "colorscale": [
             [
              0,
              "#0d0887"
             ],
             [
              0.1111111111111111,
              "#46039f"
             ],
             [
              0.2222222222222222,
              "#7201a8"
             ],
             [
              0.3333333333333333,
              "#9c179e"
             ],
             [
              0.4444444444444444,
              "#bd3786"
             ],
             [
              0.5555555555555556,
              "#d8576b"
             ],
             [
              0.6666666666666666,
              "#ed7953"
             ],
             [
              0.7777777777777778,
              "#fb9f3a"
             ],
             [
              0.8888888888888888,
              "#fdca26"
             ],
             [
              1,
              "#f0f921"
             ]
            ],
            "type": "histogram2dcontour"
           }
          ],
          "mesh3d": [
           {
            "colorbar": {
             "outlinewidth": 0,
             "ticks": ""
            },
            "type": "mesh3d"
           }
          ],
          "parcoords": [
           {
            "line": {
             "colorbar": {
              "outlinewidth": 0,
              "ticks": ""
             }
            },
            "type": "parcoords"
           }
          ],
          "pie": [
           {
            "automargin": true,
            "type": "pie"
           }
          ],
          "scatter": [
           {
            "marker": {
             "colorbar": {
              "outlinewidth": 0,
              "ticks": ""
             }
            },
            "type": "scatter"
           }
          ],
          "scatter3d": [
           {
            "line": {
             "colorbar": {
              "outlinewidth": 0,
              "ticks": ""
             }
            },
            "marker": {
             "colorbar": {
              "outlinewidth": 0,
              "ticks": ""
             }
            },
            "type": "scatter3d"
           }
          ],
          "scattercarpet": [
           {
            "marker": {
             "colorbar": {
              "outlinewidth": 0,
              "ticks": ""
             }
            },
            "type": "scattercarpet"
           }
          ],
          "scattergeo": [
           {
            "marker": {
             "colorbar": {
              "outlinewidth": 0,
              "ticks": ""
             }
            },
            "type": "scattergeo"
           }
          ],
          "scattergl": [
           {
            "marker": {
             "colorbar": {
              "outlinewidth": 0,
              "ticks": ""
             }
            },
            "type": "scattergl"
           }
          ],
          "scattermapbox": [
           {
            "marker": {
             "colorbar": {
              "outlinewidth": 0,
              "ticks": ""
             }
            },
            "type": "scattermapbox"
           }
          ],
          "scatterpolar": [
           {
            "marker": {
             "colorbar": {
              "outlinewidth": 0,
              "ticks": ""
             }
            },
            "type": "scatterpolar"
           }
          ],
          "scatterpolargl": [
           {
            "marker": {
             "colorbar": {
              "outlinewidth": 0,
              "ticks": ""
             }
            },
            "type": "scatterpolargl"
           }
          ],
          "scatterternary": [
           {
            "marker": {
             "colorbar": {
              "outlinewidth": 0,
              "ticks": ""
             }
            },
            "type": "scatterternary"
           }
          ],
          "surface": [
           {
            "colorbar": {
             "outlinewidth": 0,
             "ticks": ""
            },
            "colorscale": [
             [
              0,
              "#0d0887"
             ],
             [
              0.1111111111111111,
              "#46039f"
             ],
             [
              0.2222222222222222,
              "#7201a8"
             ],
             [
              0.3333333333333333,
              "#9c179e"
             ],
             [
              0.4444444444444444,
              "#bd3786"
             ],
             [
              0.5555555555555556,
              "#d8576b"
             ],
             [
              0.6666666666666666,
              "#ed7953"
             ],
             [
              0.7777777777777778,
              "#fb9f3a"
             ],
             [
              0.8888888888888888,
              "#fdca26"
             ],
             [
              1,
              "#f0f921"
             ]
            ],
            "type": "surface"
           }
          ],
          "table": [
           {
            "cells": {
             "fill": {
              "color": "#EBF0F8"
             },
             "line": {
              "color": "white"
             }
            },
            "header": {
             "fill": {
              "color": "#C8D4E3"
             },
             "line": {
              "color": "white"
             }
            },
            "type": "table"
           }
          ]
         },
         "layout": {
          "annotationdefaults": {
           "arrowcolor": "#2a3f5f",
           "arrowhead": 0,
           "arrowwidth": 1
          },
          "autotypenumbers": "strict",
          "coloraxis": {
           "colorbar": {
            "outlinewidth": 0,
            "ticks": ""
           }
          },
          "colorscale": {
           "diverging": [
            [
             0,
             "#8e0152"
            ],
            [
             0.1,
             "#c51b7d"
            ],
            [
             0.2,
             "#de77ae"
            ],
            [
             0.3,
             "#f1b6da"
            ],
            [
             0.4,
             "#fde0ef"
            ],
            [
             0.5,
             "#f7f7f7"
            ],
            [
             0.6,
             "#e6f5d0"
            ],
            [
             0.7,
             "#b8e186"
            ],
            [
             0.8,
             "#7fbc41"
            ],
            [
             0.9,
             "#4d9221"
            ],
            [
             1,
             "#276419"
            ]
           ],
           "sequential": [
            [
             0,
             "#0d0887"
            ],
            [
             0.1111111111111111,
             "#46039f"
            ],
            [
             0.2222222222222222,
             "#7201a8"
            ],
            [
             0.3333333333333333,
             "#9c179e"
            ],
            [
             0.4444444444444444,
             "#bd3786"
            ],
            [
             0.5555555555555556,
             "#d8576b"
            ],
            [
             0.6666666666666666,
             "#ed7953"
            ],
            [
             0.7777777777777778,
             "#fb9f3a"
            ],
            [
             0.8888888888888888,
             "#fdca26"
            ],
            [
             1,
             "#f0f921"
            ]
           ],
           "sequentialminus": [
            [
             0,
             "#0d0887"
            ],
            [
             0.1111111111111111,
             "#46039f"
            ],
            [
             0.2222222222222222,
             "#7201a8"
            ],
            [
             0.3333333333333333,
             "#9c179e"
            ],
            [
             0.4444444444444444,
             "#bd3786"
            ],
            [
             0.5555555555555556,
             "#d8576b"
            ],
            [
             0.6666666666666666,
             "#ed7953"
            ],
            [
             0.7777777777777778,
             "#fb9f3a"
            ],
            [
             0.8888888888888888,
             "#fdca26"
            ],
            [
             1,
             "#f0f921"
            ]
           ]
          },
          "colorway": [
           "#636efa",
           "#EF553B",
           "#00cc96",
           "#ab63fa",
           "#FFA15A",
           "#19d3f3",
           "#FF6692",
           "#B6E880",
           "#FF97FF",
           "#FECB52"
          ],
          "font": {
           "color": "#2a3f5f"
          },
          "geo": {
           "bgcolor": "white",
           "lakecolor": "white",
           "landcolor": "#E5ECF6",
           "showlakes": true,
           "showland": true,
           "subunitcolor": "white"
          },
          "hoverlabel": {
           "align": "left"
          },
          "hovermode": "closest",
          "mapbox": {
           "style": "light"
          },
          "paper_bgcolor": "white",
          "plot_bgcolor": "#E5ECF6",
          "polar": {
           "angularaxis": {
            "gridcolor": "white",
            "linecolor": "white",
            "ticks": ""
           },
           "bgcolor": "#E5ECF6",
           "radialaxis": {
            "gridcolor": "white",
            "linecolor": "white",
            "ticks": ""
           }
          },
          "scene": {
           "xaxis": {
            "backgroundcolor": "#E5ECF6",
            "gridcolor": "white",
            "gridwidth": 2,
            "linecolor": "white",
            "showbackground": true,
            "ticks": "",
            "zerolinecolor": "white"
           },
           "yaxis": {
            "backgroundcolor": "#E5ECF6",
            "gridcolor": "white",
            "gridwidth": 2,
            "linecolor": "white",
            "showbackground": true,
            "ticks": "",
            "zerolinecolor": "white"
           },
           "zaxis": {
            "backgroundcolor": "#E5ECF6",
            "gridcolor": "white",
            "gridwidth": 2,
            "linecolor": "white",
            "showbackground": true,
            "ticks": "",
            "zerolinecolor": "white"
           }
          },
          "shapedefaults": {
           "line": {
            "color": "#2a3f5f"
           }
          },
          "ternary": {
           "aaxis": {
            "gridcolor": "white",
            "linecolor": "white",
            "ticks": ""
           },
           "baxis": {
            "gridcolor": "white",
            "linecolor": "white",
            "ticks": ""
           },
           "bgcolor": "#E5ECF6",
           "caxis": {
            "gridcolor": "white",
            "linecolor": "white",
            "ticks": ""
           }
          },
          "title": {
           "x": 0.05
          },
          "xaxis": {
           "automargin": true,
           "gridcolor": "white",
           "linecolor": "white",
           "ticks": "",
           "title": {
            "standoff": 15
           },
           "zerolinecolor": "white",
           "zerolinewidth": 2
          },
          "yaxis": {
           "automargin": true,
           "gridcolor": "white",
           "linecolor": "white",
           "ticks": "",
           "title": {
            "standoff": 15
           },
           "zerolinecolor": "white",
           "zerolinewidth": 2
          }
         }
        },
        "title": {
         "text": "Топ-10 районов по количеству объектов общественного питания"
        },
        "xaxis": {
         "anchor": "y",
         "domain": [
          0,
          1
         ],
         "title": {
          "text": "Район"
         }
        },
        "yaxis": {
         "anchor": "x",
         "domain": [
          0,
          1
         ],
         "title": {
          "text": "Количество"
         }
        }
       }
      },
      "text/html": [
       "<div>                            <div id=\"377f4030-b746-4e7b-a411-a486abaa21e6\" class=\"plotly-graph-div\" style=\"height:525px; width:100%;\"></div>            <script type=\"text/javascript\">                require([\"plotly\"], function(Plotly) {                    window.PLOTLYENV=window.PLOTLYENV || {};                                    if (document.getElementById(\"377f4030-b746-4e7b-a411-a486abaa21e6\")) {                    Plotly.newPlot(                        \"377f4030-b746-4e7b-a411-a486abaa21e6\",                        [{\"alignmentgroup\":\"True\",\"hovertemplate\":\"district=%{x}<br>quantity=%{y}<extra></extra>\",\"legendgroup\":\"\",\"marker\":{\"color\":\"#636efa\",\"pattern\":{\"shape\":\"\"}},\"name\":\"\",\"offsetgroup\":\"\",\"orientation\":\"v\",\"showlegend\":false,\"textposition\":\"auto\",\"x\":[\"\\u043c\\u0435\\u0449\\u0430\\u043d\\u0441\\u043a\\u0438\\u0439 \\u0440\\u0430\\u0439\\u043e\\u043d\",\"\\u043f\\u0440\\u0435\\u0441\\u043d\\u0435\\u043d\\u0441\\u043a\\u0438\\u0439 \\u0440\\u0430\\u0439\\u043e\\u043d\",\"\\u0440\\u0430\\u0439\\u043e\\u043d \\u0442\\u0440\\u043e\\u043f\\u0430\\u0440\\u0451\\u0432\\u043e-\\u043d\\u0438\\u043a\\u0443\\u043b\\u0438\\u043d\\u043e\",\"\\u0440\\u0430\\u0439\\u043e\\u043d \\u0430\\u044d\\u0440\\u043e\\u043f\\u043e\\u0440\\u0442\",\"\\u043d\\u0430\\u0433\\u043e\\u0440\\u043d\\u044b\\u0439 \\u0440\\u0430\\u0439\\u043e\\u043d\",\"\\u0440\\u0430\\u0439\\u043e\\u043d \\u043a\\u043e\\u043d\\u044c\\u043a\\u043e\\u0432\\u043e\",\"\\u0440\\u0430\\u0439\\u043e\\u043d \\u0447\\u0435\\u0440\\u0442\\u0430\\u043d\\u043e\\u0432\\u043e \\u0446\\u0435\\u043d\\u0442\\u0440\\u0430\\u043b\\u044c\\u043d\\u043e\\u0435\",\"\\u043e\\u0431\\u0440\\u0443\\u0447\\u0435\\u0432\\u0441\\u043a\\u0438\\u0439 \\u0440\\u0430\\u0439\\u043e\\u043d\",\"\\u0440\\u0430\\u0439\\u043e\\u043d \\u043c\\u043e\\u0441\\u043a\\u0432\\u043e\\u0440\\u0435\\u0447\\u044c\\u0435-\\u0441\\u0430\\u0431\\u0443\\u0440\\u043e\\u0432\\u043e\",\"\\u0440\\u0430\\u0439\\u043e\\u043d \\u0434\\u043e\\u0440\\u043e\\u0433\\u043e\\u043c\\u0438\\u043b\\u043e\\u0432\\u043e\"],\"xaxis\":\"x\",\"y\":[184,182,168,166,140,139,120,112,104,92],\"yaxis\":\"y\",\"type\":\"bar\"}],                        {\"template\":{\"data\":{\"bar\":[{\"error_x\":{\"color\":\"#2a3f5f\"},\"error_y\":{\"color\":\"#2a3f5f\"},\"marker\":{\"line\":{\"color\":\"#E5ECF6\",\"width\":0.5},\"pattern\":{\"fillmode\":\"overlay\",\"size\":10,\"solidity\":0.2}},\"type\":\"bar\"}],\"barpolar\":[{\"marker\":{\"line\":{\"color\":\"#E5ECF6\",\"width\":0.5},\"pattern\":{\"fillmode\":\"overlay\",\"size\":10,\"solidity\":0.2}},\"type\":\"barpolar\"}],\"carpet\":[{\"aaxis\":{\"endlinecolor\":\"#2a3f5f\",\"gridcolor\":\"white\",\"linecolor\":\"white\",\"minorgridcolor\":\"white\",\"startlinecolor\":\"#2a3f5f\"},\"baxis\":{\"endlinecolor\":\"#2a3f5f\",\"gridcolor\":\"white\",\"linecolor\":\"white\",\"minorgridcolor\":\"white\",\"startlinecolor\":\"#2a3f5f\"},\"type\":\"carpet\"}],\"choropleth\":[{\"colorbar\":{\"outlinewidth\":0,\"ticks\":\"\"},\"type\":\"choropleth\"}],\"contour\":[{\"colorbar\":{\"outlinewidth\":0,\"ticks\":\"\"},\"colorscale\":[[0.0,\"#0d0887\"],[0.1111111111111111,\"#46039f\"],[0.2222222222222222,\"#7201a8\"],[0.3333333333333333,\"#9c179e\"],[0.4444444444444444,\"#bd3786\"],[0.5555555555555556,\"#d8576b\"],[0.6666666666666666,\"#ed7953\"],[0.7777777777777778,\"#fb9f3a\"],[0.8888888888888888,\"#fdca26\"],[1.0,\"#f0f921\"]],\"type\":\"contour\"}],\"contourcarpet\":[{\"colorbar\":{\"outlinewidth\":0,\"ticks\":\"\"},\"type\":\"contourcarpet\"}],\"heatmap\":[{\"colorbar\":{\"outlinewidth\":0,\"ticks\":\"\"},\"colorscale\":[[0.0,\"#0d0887\"],[0.1111111111111111,\"#46039f\"],[0.2222222222222222,\"#7201a8\"],[0.3333333333333333,\"#9c179e\"],[0.4444444444444444,\"#bd3786\"],[0.5555555555555556,\"#d8576b\"],[0.6666666666666666,\"#ed7953\"],[0.7777777777777778,\"#fb9f3a\"],[0.8888888888888888,\"#fdca26\"],[1.0,\"#f0f921\"]],\"type\":\"heatmap\"}],\"heatmapgl\":[{\"colorbar\":{\"outlinewidth\":0,\"ticks\":\"\"},\"colorscale\":[[0.0,\"#0d0887\"],[0.1111111111111111,\"#46039f\"],[0.2222222222222222,\"#7201a8\"],[0.3333333333333333,\"#9c179e\"],[0.4444444444444444,\"#bd3786\"],[0.5555555555555556,\"#d8576b\"],[0.6666666666666666,\"#ed7953\"],[0.7777777777777778,\"#fb9f3a\"],[0.8888888888888888,\"#fdca26\"],[1.0,\"#f0f921\"]],\"type\":\"heatmapgl\"}],\"histogram\":[{\"marker\":{\"pattern\":{\"fillmode\":\"overlay\",\"size\":10,\"solidity\":0.2}},\"type\":\"histogram\"}],\"histogram2d\":[{\"colorbar\":{\"outlinewidth\":0,\"ticks\":\"\"},\"colorscale\":[[0.0,\"#0d0887\"],[0.1111111111111111,\"#46039f\"],[0.2222222222222222,\"#7201a8\"],[0.3333333333333333,\"#9c179e\"],[0.4444444444444444,\"#bd3786\"],[0.5555555555555556,\"#d8576b\"],[0.6666666666666666,\"#ed7953\"],[0.7777777777777778,\"#fb9f3a\"],[0.8888888888888888,\"#fdca26\"],[1.0,\"#f0f921\"]],\"type\":\"histogram2d\"}],\"histogram2dcontour\":[{\"colorbar\":{\"outlinewidth\":0,\"ticks\":\"\"},\"colorscale\":[[0.0,\"#0d0887\"],[0.1111111111111111,\"#46039f\"],[0.2222222222222222,\"#7201a8\"],[0.3333333333333333,\"#9c179e\"],[0.4444444444444444,\"#bd3786\"],[0.5555555555555556,\"#d8576b\"],[0.6666666666666666,\"#ed7953\"],[0.7777777777777778,\"#fb9f3a\"],[0.8888888888888888,\"#fdca26\"],[1.0,\"#f0f921\"]],\"type\":\"histogram2dcontour\"}],\"mesh3d\":[{\"colorbar\":{\"outlinewidth\":0,\"ticks\":\"\"},\"type\":\"mesh3d\"}],\"parcoords\":[{\"line\":{\"colorbar\":{\"outlinewidth\":0,\"ticks\":\"\"}},\"type\":\"parcoords\"}],\"pie\":[{\"automargin\":true,\"type\":\"pie\"}],\"scatter\":[{\"marker\":{\"colorbar\":{\"outlinewidth\":0,\"ticks\":\"\"}},\"type\":\"scatter\"}],\"scatter3d\":[{\"line\":{\"colorbar\":{\"outlinewidth\":0,\"ticks\":\"\"}},\"marker\":{\"colorbar\":{\"outlinewidth\":0,\"ticks\":\"\"}},\"type\":\"scatter3d\"}],\"scattercarpet\":[{\"marker\":{\"colorbar\":{\"outlinewidth\":0,\"ticks\":\"\"}},\"type\":\"scattercarpet\"}],\"scattergeo\":[{\"marker\":{\"colorbar\":{\"outlinewidth\":0,\"ticks\":\"\"}},\"type\":\"scattergeo\"}],\"scattergl\":[{\"marker\":{\"colorbar\":{\"outlinewidth\":0,\"ticks\":\"\"}},\"type\":\"scattergl\"}],\"scattermapbox\":[{\"marker\":{\"colorbar\":{\"outlinewidth\":0,\"ticks\":\"\"}},\"type\":\"scattermapbox\"}],\"scatterpolar\":[{\"marker\":{\"colorbar\":{\"outlinewidth\":0,\"ticks\":\"\"}},\"type\":\"scatterpolar\"}],\"scatterpolargl\":[{\"marker\":{\"colorbar\":{\"outlinewidth\":0,\"ticks\":\"\"}},\"type\":\"scatterpolargl\"}],\"scatterternary\":[{\"marker\":{\"colorbar\":{\"outlinewidth\":0,\"ticks\":\"\"}},\"type\":\"scatterternary\"}],\"surface\":[{\"colorbar\":{\"outlinewidth\":0,\"ticks\":\"\"},\"colorscale\":[[0.0,\"#0d0887\"],[0.1111111111111111,\"#46039f\"],[0.2222222222222222,\"#7201a8\"],[0.3333333333333333,\"#9c179e\"],[0.4444444444444444,\"#bd3786\"],[0.5555555555555556,\"#d8576b\"],[0.6666666666666666,\"#ed7953\"],[0.7777777777777778,\"#fb9f3a\"],[0.8888888888888888,\"#fdca26\"],[1.0,\"#f0f921\"]],\"type\":\"surface\"}],\"table\":[{\"cells\":{\"fill\":{\"color\":\"#EBF0F8\"},\"line\":{\"color\":\"white\"}},\"header\":{\"fill\":{\"color\":\"#C8D4E3\"},\"line\":{\"color\":\"white\"}},\"type\":\"table\"}]},\"layout\":{\"annotationdefaults\":{\"arrowcolor\":\"#2a3f5f\",\"arrowhead\":0,\"arrowwidth\":1},\"autotypenumbers\":\"strict\",\"coloraxis\":{\"colorbar\":{\"outlinewidth\":0,\"ticks\":\"\"}},\"colorscale\":{\"diverging\":[[0,\"#8e0152\"],[0.1,\"#c51b7d\"],[0.2,\"#de77ae\"],[0.3,\"#f1b6da\"],[0.4,\"#fde0ef\"],[0.5,\"#f7f7f7\"],[0.6,\"#e6f5d0\"],[0.7,\"#b8e186\"],[0.8,\"#7fbc41\"],[0.9,\"#4d9221\"],[1,\"#276419\"]],\"sequential\":[[0.0,\"#0d0887\"],[0.1111111111111111,\"#46039f\"],[0.2222222222222222,\"#7201a8\"],[0.3333333333333333,\"#9c179e\"],[0.4444444444444444,\"#bd3786\"],[0.5555555555555556,\"#d8576b\"],[0.6666666666666666,\"#ed7953\"],[0.7777777777777778,\"#fb9f3a\"],[0.8888888888888888,\"#fdca26\"],[1.0,\"#f0f921\"]],\"sequentialminus\":[[0.0,\"#0d0887\"],[0.1111111111111111,\"#46039f\"],[0.2222222222222222,\"#7201a8\"],[0.3333333333333333,\"#9c179e\"],[0.4444444444444444,\"#bd3786\"],[0.5555555555555556,\"#d8576b\"],[0.6666666666666666,\"#ed7953\"],[0.7777777777777778,\"#fb9f3a\"],[0.8888888888888888,\"#fdca26\"],[1.0,\"#f0f921\"]]},\"colorway\":[\"#636efa\",\"#EF553B\",\"#00cc96\",\"#ab63fa\",\"#FFA15A\",\"#19d3f3\",\"#FF6692\",\"#B6E880\",\"#FF97FF\",\"#FECB52\"],\"font\":{\"color\":\"#2a3f5f\"},\"geo\":{\"bgcolor\":\"white\",\"lakecolor\":\"white\",\"landcolor\":\"#E5ECF6\",\"showlakes\":true,\"showland\":true,\"subunitcolor\":\"white\"},\"hoverlabel\":{\"align\":\"left\"},\"hovermode\":\"closest\",\"mapbox\":{\"style\":\"light\"},\"paper_bgcolor\":\"white\",\"plot_bgcolor\":\"#E5ECF6\",\"polar\":{\"angularaxis\":{\"gridcolor\":\"white\",\"linecolor\":\"white\",\"ticks\":\"\"},\"bgcolor\":\"#E5ECF6\",\"radialaxis\":{\"gridcolor\":\"white\",\"linecolor\":\"white\",\"ticks\":\"\"}},\"scene\":{\"xaxis\":{\"backgroundcolor\":\"#E5ECF6\",\"gridcolor\":\"white\",\"gridwidth\":2,\"linecolor\":\"white\",\"showbackground\":true,\"ticks\":\"\",\"zerolinecolor\":\"white\"},\"yaxis\":{\"backgroundcolor\":\"#E5ECF6\",\"gridcolor\":\"white\",\"gridwidth\":2,\"linecolor\":\"white\",\"showbackground\":true,\"ticks\":\"\",\"zerolinecolor\":\"white\"},\"zaxis\":{\"backgroundcolor\":\"#E5ECF6\",\"gridcolor\":\"white\",\"gridwidth\":2,\"linecolor\":\"white\",\"showbackground\":true,\"ticks\":\"\",\"zerolinecolor\":\"white\"}},\"shapedefaults\":{\"line\":{\"color\":\"#2a3f5f\"}},\"ternary\":{\"aaxis\":{\"gridcolor\":\"white\",\"linecolor\":\"white\",\"ticks\":\"\"},\"baxis\":{\"gridcolor\":\"white\",\"linecolor\":\"white\",\"ticks\":\"\"},\"bgcolor\":\"#E5ECF6\",\"caxis\":{\"gridcolor\":\"white\",\"linecolor\":\"white\",\"ticks\":\"\"}},\"title\":{\"x\":0.05},\"xaxis\":{\"automargin\":true,\"gridcolor\":\"white\",\"linecolor\":\"white\",\"ticks\":\"\",\"title\":{\"standoff\":15},\"zerolinecolor\":\"white\",\"zerolinewidth\":2},\"yaxis\":{\"automargin\":true,\"gridcolor\":\"white\",\"linecolor\":\"white\",\"ticks\":\"\",\"title\":{\"standoff\":15},\"zerolinecolor\":\"white\",\"zerolinewidth\":2}}},\"xaxis\":{\"anchor\":\"y\",\"domain\":[0.0,1.0],\"title\":{\"text\":\"\\u0420\\u0430\\u0439\\u043e\\u043d\"}},\"yaxis\":{\"anchor\":\"x\",\"domain\":[0.0,1.0],\"title\":{\"text\":\"\\u041a\\u043e\\u043b\\u0438\\u0447\\u0435\\u0441\\u0442\\u0432\\u043e\"}},\"legend\":{\"tracegroupgap\":0},\"title\":{\"text\":\"\\u0422\\u043e\\u043f-10 \\u0440\\u0430\\u0439\\u043e\\u043d\\u043e\\u0432 \\u043f\\u043e \\u043a\\u043e\\u043b\\u0438\\u0447\\u0435\\u0441\\u0442\\u0432\\u0443 \\u043e\\u0431\\u044a\\u0435\\u043a\\u0442\\u043e\\u0432 \\u043e\\u0431\\u0449\\u0435\\u0441\\u0442\\u0432\\u0435\\u043d\\u043d\\u043e\\u0433\\u043e \\u043f\\u0438\\u0442\\u0430\\u043d\\u0438\\u044f\"},\"barmode\":\"relative\"},                        {\"responsive\": true}                    ).then(function(){\n",
       "                            \n",
       "var gd = document.getElementById('377f4030-b746-4e7b-a411-a486abaa21e6');\n",
       "var x = new MutationObserver(function (mutations, observer) {{\n",
       "        var display = window.getComputedStyle(gd).display;\n",
       "        if (!display || display === 'none') {{\n",
       "            console.log([gd, 'removed!']);\n",
       "            Plotly.purge(gd);\n",
       "            observer.disconnect();\n",
       "        }}\n",
       "}});\n",
       "\n",
       "// Listen for the removal of the full notebook cells\n",
       "var notebookContainer = gd.closest('#notebook-container');\n",
       "if (notebookContainer) {{\n",
       "    x.observe(notebookContainer, {childList: true});\n",
       "}}\n",
       "\n",
       "// Listen for the clearing of the current output cell\n",
       "var outputEl = gd.closest('.output');\n",
       "if (outputEl) {{\n",
       "    x.observe(outputEl, {childList: true});\n",
       "}}\n",
       "\n",
       "                        })                };                });            </script>        </div>"
      ]
     },
     "metadata": {},
     "output_type": "display_data"
    }
   ],
   "source": [
    "# немного изменим функцию\n",
    "def px_bar(df, column):\n",
    "    df2 = df.groupby([column], as_index=False).agg(quantity = ('address', 'count')).sort_values(by='quantity', ascending=False).head(10)\n",
    "    bar = px.bar(df2, x=column, y='quantity', title='Топ-10 районов по количеству объектов общественного питания')\n",
    "    bar.update_layout(xaxis_title='Район',\n",
    "                     yaxis_title='Количество') \n",
    "    return bar\n",
    "\n",
    "px_bar(rest_merged, 'district')"
   ]
  },
  {
   "cell_type": "markdown",
   "metadata": {},
   "source": [
    "Четыре района имеют чуть большие показатели, чем остальные: Мещанский, Пресненский, Тропарёво-Никулино, Аэропорт (от 168 до 185).\n",
    "#### Вывод\n",
    "Определили топ-10 улиц по количеству объектов питания на них. Первые пять из них: проспект Мира - 204, Профсоюзная улица - 183, Ленинградский проспект - 173, Пресненская набережная - 167, Варшавское шоссе - 162.\n",
    "\n",
    "Определили районы, в которых находятся эти улицы. Четыре района с самым большим количеством объектов общественного питания: Мещанский - 185, Пресненский - 182, Тропарёво-Никулино - 179, Аэропорт - 168."
   ]
  },
  {
   "cell_type": "markdown",
   "metadata": {},
   "source": [
    "### Определение улиц с одним объектом общественного питания\n",
    "Теперь посмотрим на улицы где находится только один объект общественного питания."
   ]
  },
  {
   "cell_type": "code",
   "execution_count": 60,
   "metadata": {},
   "outputs": [
    {
     "name": "stdout",
     "output_type": "stream",
     "text": [
      "Количество улиц с одним объектом общественного питания: 541\n"
     ]
    }
   ],
   "source": [
    "min_rest_number = rest_filtered.groupby(['street'], as_index=False).agg(rest_number = ('object_name', 'count'))\n",
    "print('Количество улиц с одним объектом общественного питания: {0}'.format(len(min_rest_number[min_rest_number['rest_number'] == 1])))"
   ]
  },
  {
   "cell_type": "code",
   "execution_count": 61,
   "metadata": {
    "scrolled": false
   },
   "outputs": [
    {
     "name": "stdout",
     "output_type": "stream",
     "text": [
      "Количество районов с улицами на которых располагается только один объект общественного питания: 99\n"
     ]
    },
    {
     "data": {
      "application/vnd.plotly.v1+json": {
       "config": {
        "plotlyServerURL": "https://plot.ly"
       },
       "data": [
        {
         "alignmentgroup": "True",
         "hovertemplate": "district=%{x}<br>quantity=%{y}<extra></extra>",
         "legendgroup": "",
         "marker": {
          "color": "#636efa",
          "pattern": {
           "shape": ""
          }
         },
         "name": "",
         "offsetgroup": "",
         "orientation": "v",
         "showlegend": false,
         "textposition": "auto",
         "type": "bar",
         "x": [
          "басманный район",
          "пресненский район",
          "таганский район",
          "тверской район",
          "район хамовники",
          "район солнцево",
          "алексеевский район",
          "район отрадное",
          "район южное бутово",
          "район замоскворечье"
         ],
         "xaxis": "x",
         "y": [
          31,
          31,
          26,
          23,
          23,
          22,
          17,
          16,
          15,
          14
         ],
         "yaxis": "y"
        }
       ],
       "layout": {
        "barmode": "relative",
        "legend": {
         "tracegroupgap": 0
        },
        "template": {
         "data": {
          "bar": [
           {
            "error_x": {
             "color": "#2a3f5f"
            },
            "error_y": {
             "color": "#2a3f5f"
            },
            "marker": {
             "line": {
              "color": "#E5ECF6",
              "width": 0.5
             },
             "pattern": {
              "fillmode": "overlay",
              "size": 10,
              "solidity": 0.2
             }
            },
            "type": "bar"
           }
          ],
          "barpolar": [
           {
            "marker": {
             "line": {
              "color": "#E5ECF6",
              "width": 0.5
             },
             "pattern": {
              "fillmode": "overlay",
              "size": 10,
              "solidity": 0.2
             }
            },
            "type": "barpolar"
           }
          ],
          "carpet": [
           {
            "aaxis": {
             "endlinecolor": "#2a3f5f",
             "gridcolor": "white",
             "linecolor": "white",
             "minorgridcolor": "white",
             "startlinecolor": "#2a3f5f"
            },
            "baxis": {
             "endlinecolor": "#2a3f5f",
             "gridcolor": "white",
             "linecolor": "white",
             "minorgridcolor": "white",
             "startlinecolor": "#2a3f5f"
            },
            "type": "carpet"
           }
          ],
          "choropleth": [
           {
            "colorbar": {
             "outlinewidth": 0,
             "ticks": ""
            },
            "type": "choropleth"
           }
          ],
          "contour": [
           {
            "colorbar": {
             "outlinewidth": 0,
             "ticks": ""
            },
            "colorscale": [
             [
              0,
              "#0d0887"
             ],
             [
              0.1111111111111111,
              "#46039f"
             ],
             [
              0.2222222222222222,
              "#7201a8"
             ],
             [
              0.3333333333333333,
              "#9c179e"
             ],
             [
              0.4444444444444444,
              "#bd3786"
             ],
             [
              0.5555555555555556,
              "#d8576b"
             ],
             [
              0.6666666666666666,
              "#ed7953"
             ],
             [
              0.7777777777777778,
              "#fb9f3a"
             ],
             [
              0.8888888888888888,
              "#fdca26"
             ],
             [
              1,
              "#f0f921"
             ]
            ],
            "type": "contour"
           }
          ],
          "contourcarpet": [
           {
            "colorbar": {
             "outlinewidth": 0,
             "ticks": ""
            },
            "type": "contourcarpet"
           }
          ],
          "heatmap": [
           {
            "colorbar": {
             "outlinewidth": 0,
             "ticks": ""
            },
            "colorscale": [
             [
              0,
              "#0d0887"
             ],
             [
              0.1111111111111111,
              "#46039f"
             ],
             [
              0.2222222222222222,
              "#7201a8"
             ],
             [
              0.3333333333333333,
              "#9c179e"
             ],
             [
              0.4444444444444444,
              "#bd3786"
             ],
             [
              0.5555555555555556,
              "#d8576b"
             ],
             [
              0.6666666666666666,
              "#ed7953"
             ],
             [
              0.7777777777777778,
              "#fb9f3a"
             ],
             [
              0.8888888888888888,
              "#fdca26"
             ],
             [
              1,
              "#f0f921"
             ]
            ],
            "type": "heatmap"
           }
          ],
          "heatmapgl": [
           {
            "colorbar": {
             "outlinewidth": 0,
             "ticks": ""
            },
            "colorscale": [
             [
              0,
              "#0d0887"
             ],
             [
              0.1111111111111111,
              "#46039f"
             ],
             [
              0.2222222222222222,
              "#7201a8"
             ],
             [
              0.3333333333333333,
              "#9c179e"
             ],
             [
              0.4444444444444444,
              "#bd3786"
             ],
             [
              0.5555555555555556,
              "#d8576b"
             ],
             [
              0.6666666666666666,
              "#ed7953"
             ],
             [
              0.7777777777777778,
              "#fb9f3a"
             ],
             [
              0.8888888888888888,
              "#fdca26"
             ],
             [
              1,
              "#f0f921"
             ]
            ],
            "type": "heatmapgl"
           }
          ],
          "histogram": [
           {
            "marker": {
             "pattern": {
              "fillmode": "overlay",
              "size": 10,
              "solidity": 0.2
             }
            },
            "type": "histogram"
           }
          ],
          "histogram2d": [
           {
            "colorbar": {
             "outlinewidth": 0,
             "ticks": ""
            },
            "colorscale": [
             [
              0,
              "#0d0887"
             ],
             [
              0.1111111111111111,
              "#46039f"
             ],
             [
              0.2222222222222222,
              "#7201a8"
             ],
             [
              0.3333333333333333,
              "#9c179e"
             ],
             [
              0.4444444444444444,
              "#bd3786"
             ],
             [
              0.5555555555555556,
              "#d8576b"
             ],
             [
              0.6666666666666666,
              "#ed7953"
             ],
             [
              0.7777777777777778,
              "#fb9f3a"
             ],
             [
              0.8888888888888888,
              "#fdca26"
             ],
             [
              1,
              "#f0f921"
             ]
            ],
            "type": "histogram2d"
           }
          ],
          "histogram2dcontour": [
           {
            "colorbar": {
             "outlinewidth": 0,
             "ticks": ""
            },
            "colorscale": [
             [
              0,
              "#0d0887"
             ],
             [
              0.1111111111111111,
              "#46039f"
             ],
             [
              0.2222222222222222,
              "#7201a8"
             ],
             [
              0.3333333333333333,
              "#9c179e"
             ],
             [
              0.4444444444444444,
              "#bd3786"
             ],
             [
              0.5555555555555556,
              "#d8576b"
             ],
             [
              0.6666666666666666,
              "#ed7953"
             ],
             [
              0.7777777777777778,
              "#fb9f3a"
             ],
             [
              0.8888888888888888,
              "#fdca26"
             ],
             [
              1,
              "#f0f921"
             ]
            ],
            "type": "histogram2dcontour"
           }
          ],
          "mesh3d": [
           {
            "colorbar": {
             "outlinewidth": 0,
             "ticks": ""
            },
            "type": "mesh3d"
           }
          ],
          "parcoords": [
           {
            "line": {
             "colorbar": {
              "outlinewidth": 0,
              "ticks": ""
             }
            },
            "type": "parcoords"
           }
          ],
          "pie": [
           {
            "automargin": true,
            "type": "pie"
           }
          ],
          "scatter": [
           {
            "marker": {
             "colorbar": {
              "outlinewidth": 0,
              "ticks": ""
             }
            },
            "type": "scatter"
           }
          ],
          "scatter3d": [
           {
            "line": {
             "colorbar": {
              "outlinewidth": 0,
              "ticks": ""
             }
            },
            "marker": {
             "colorbar": {
              "outlinewidth": 0,
              "ticks": ""
             }
            },
            "type": "scatter3d"
           }
          ],
          "scattercarpet": [
           {
            "marker": {
             "colorbar": {
              "outlinewidth": 0,
              "ticks": ""
             }
            },
            "type": "scattercarpet"
           }
          ],
          "scattergeo": [
           {
            "marker": {
             "colorbar": {
              "outlinewidth": 0,
              "ticks": ""
             }
            },
            "type": "scattergeo"
           }
          ],
          "scattergl": [
           {
            "marker": {
             "colorbar": {
              "outlinewidth": 0,
              "ticks": ""
             }
            },
            "type": "scattergl"
           }
          ],
          "scattermapbox": [
           {
            "marker": {
             "colorbar": {
              "outlinewidth": 0,
              "ticks": ""
             }
            },
            "type": "scattermapbox"
           }
          ],
          "scatterpolar": [
           {
            "marker": {
             "colorbar": {
              "outlinewidth": 0,
              "ticks": ""
             }
            },
            "type": "scatterpolar"
           }
          ],
          "scatterpolargl": [
           {
            "marker": {
             "colorbar": {
              "outlinewidth": 0,
              "ticks": ""
             }
            },
            "type": "scatterpolargl"
           }
          ],
          "scatterternary": [
           {
            "marker": {
             "colorbar": {
              "outlinewidth": 0,
              "ticks": ""
             }
            },
            "type": "scatterternary"
           }
          ],
          "surface": [
           {
            "colorbar": {
             "outlinewidth": 0,
             "ticks": ""
            },
            "colorscale": [
             [
              0,
              "#0d0887"
             ],
             [
              0.1111111111111111,
              "#46039f"
             ],
             [
              0.2222222222222222,
              "#7201a8"
             ],
             [
              0.3333333333333333,
              "#9c179e"
             ],
             [
              0.4444444444444444,
              "#bd3786"
             ],
             [
              0.5555555555555556,
              "#d8576b"
             ],
             [
              0.6666666666666666,
              "#ed7953"
             ],
             [
              0.7777777777777778,
              "#fb9f3a"
             ],
             [
              0.8888888888888888,
              "#fdca26"
             ],
             [
              1,
              "#f0f921"
             ]
            ],
            "type": "surface"
           }
          ],
          "table": [
           {
            "cells": {
             "fill": {
              "color": "#EBF0F8"
             },
             "line": {
              "color": "white"
             }
            },
            "header": {
             "fill": {
              "color": "#C8D4E3"
             },
             "line": {
              "color": "white"
             }
            },
            "type": "table"
           }
          ]
         },
         "layout": {
          "annotationdefaults": {
           "arrowcolor": "#2a3f5f",
           "arrowhead": 0,
           "arrowwidth": 1
          },
          "autotypenumbers": "strict",
          "coloraxis": {
           "colorbar": {
            "outlinewidth": 0,
            "ticks": ""
           }
          },
          "colorscale": {
           "diverging": [
            [
             0,
             "#8e0152"
            ],
            [
             0.1,
             "#c51b7d"
            ],
            [
             0.2,
             "#de77ae"
            ],
            [
             0.3,
             "#f1b6da"
            ],
            [
             0.4,
             "#fde0ef"
            ],
            [
             0.5,
             "#f7f7f7"
            ],
            [
             0.6,
             "#e6f5d0"
            ],
            [
             0.7,
             "#b8e186"
            ],
            [
             0.8,
             "#7fbc41"
            ],
            [
             0.9,
             "#4d9221"
            ],
            [
             1,
             "#276419"
            ]
           ],
           "sequential": [
            [
             0,
             "#0d0887"
            ],
            [
             0.1111111111111111,
             "#46039f"
            ],
            [
             0.2222222222222222,
             "#7201a8"
            ],
            [
             0.3333333333333333,
             "#9c179e"
            ],
            [
             0.4444444444444444,
             "#bd3786"
            ],
            [
             0.5555555555555556,
             "#d8576b"
            ],
            [
             0.6666666666666666,
             "#ed7953"
            ],
            [
             0.7777777777777778,
             "#fb9f3a"
            ],
            [
             0.8888888888888888,
             "#fdca26"
            ],
            [
             1,
             "#f0f921"
            ]
           ],
           "sequentialminus": [
            [
             0,
             "#0d0887"
            ],
            [
             0.1111111111111111,
             "#46039f"
            ],
            [
             0.2222222222222222,
             "#7201a8"
            ],
            [
             0.3333333333333333,
             "#9c179e"
            ],
            [
             0.4444444444444444,
             "#bd3786"
            ],
            [
             0.5555555555555556,
             "#d8576b"
            ],
            [
             0.6666666666666666,
             "#ed7953"
            ],
            [
             0.7777777777777778,
             "#fb9f3a"
            ],
            [
             0.8888888888888888,
             "#fdca26"
            ],
            [
             1,
             "#f0f921"
            ]
           ]
          },
          "colorway": [
           "#636efa",
           "#EF553B",
           "#00cc96",
           "#ab63fa",
           "#FFA15A",
           "#19d3f3",
           "#FF6692",
           "#B6E880",
           "#FF97FF",
           "#FECB52"
          ],
          "font": {
           "color": "#2a3f5f"
          },
          "geo": {
           "bgcolor": "white",
           "lakecolor": "white",
           "landcolor": "#E5ECF6",
           "showlakes": true,
           "showland": true,
           "subunitcolor": "white"
          },
          "hoverlabel": {
           "align": "left"
          },
          "hovermode": "closest",
          "mapbox": {
           "style": "light"
          },
          "paper_bgcolor": "white",
          "plot_bgcolor": "#E5ECF6",
          "polar": {
           "angularaxis": {
            "gridcolor": "white",
            "linecolor": "white",
            "ticks": ""
           },
           "bgcolor": "#E5ECF6",
           "radialaxis": {
            "gridcolor": "white",
            "linecolor": "white",
            "ticks": ""
           }
          },
          "scene": {
           "xaxis": {
            "backgroundcolor": "#E5ECF6",
            "gridcolor": "white",
            "gridwidth": 2,
            "linecolor": "white",
            "showbackground": true,
            "ticks": "",
            "zerolinecolor": "white"
           },
           "yaxis": {
            "backgroundcolor": "#E5ECF6",
            "gridcolor": "white",
            "gridwidth": 2,
            "linecolor": "white",
            "showbackground": true,
            "ticks": "",
            "zerolinecolor": "white"
           },
           "zaxis": {
            "backgroundcolor": "#E5ECF6",
            "gridcolor": "white",
            "gridwidth": 2,
            "linecolor": "white",
            "showbackground": true,
            "ticks": "",
            "zerolinecolor": "white"
           }
          },
          "shapedefaults": {
           "line": {
            "color": "#2a3f5f"
           }
          },
          "ternary": {
           "aaxis": {
            "gridcolor": "white",
            "linecolor": "white",
            "ticks": ""
           },
           "baxis": {
            "gridcolor": "white",
            "linecolor": "white",
            "ticks": ""
           },
           "bgcolor": "#E5ECF6",
           "caxis": {
            "gridcolor": "white",
            "linecolor": "white",
            "ticks": ""
           }
          },
          "title": {
           "x": 0.05
          },
          "xaxis": {
           "automargin": true,
           "gridcolor": "white",
           "linecolor": "white",
           "ticks": "",
           "title": {
            "standoff": 15
           },
           "zerolinecolor": "white",
           "zerolinewidth": 2
          },
          "yaxis": {
           "automargin": true,
           "gridcolor": "white",
           "linecolor": "white",
           "ticks": "",
           "title": {
            "standoff": 15
           },
           "zerolinecolor": "white",
           "zerolinewidth": 2
          }
         }
        },
        "title": {
         "text": "Топ-10 районов по количеству улиц с 1 объектом общественного питания"
        },
        "xaxis": {
         "anchor": "y",
         "domain": [
          0,
          1
         ],
         "title": {
          "text": "Район"
         }
        },
        "yaxis": {
         "anchor": "x",
         "domain": [
          0,
          1
         ],
         "title": {
          "text": "Количество улиц"
         }
        }
       }
      },
      "text/html": [
       "<div>                            <div id=\"998f4318-6705-4153-a43a-cf800548e439\" class=\"plotly-graph-div\" style=\"height:525px; width:100%;\"></div>            <script type=\"text/javascript\">                require([\"plotly\"], function(Plotly) {                    window.PLOTLYENV=window.PLOTLYENV || {};                                    if (document.getElementById(\"998f4318-6705-4153-a43a-cf800548e439\")) {                    Plotly.newPlot(                        \"998f4318-6705-4153-a43a-cf800548e439\",                        [{\"alignmentgroup\":\"True\",\"hovertemplate\":\"district=%{x}<br>quantity=%{y}<extra></extra>\",\"legendgroup\":\"\",\"marker\":{\"color\":\"#636efa\",\"pattern\":{\"shape\":\"\"}},\"name\":\"\",\"offsetgroup\":\"\",\"orientation\":\"v\",\"showlegend\":false,\"textposition\":\"auto\",\"x\":[\"\\u0431\\u0430\\u0441\\u043c\\u0430\\u043d\\u043d\\u044b\\u0439 \\u0440\\u0430\\u0439\\u043e\\u043d\",\"\\u043f\\u0440\\u0435\\u0441\\u043d\\u0435\\u043d\\u0441\\u043a\\u0438\\u0439 \\u0440\\u0430\\u0439\\u043e\\u043d\",\"\\u0442\\u0430\\u0433\\u0430\\u043d\\u0441\\u043a\\u0438\\u0439 \\u0440\\u0430\\u0439\\u043e\\u043d\",\"\\u0442\\u0432\\u0435\\u0440\\u0441\\u043a\\u043e\\u0439 \\u0440\\u0430\\u0439\\u043e\\u043d\",\"\\u0440\\u0430\\u0439\\u043e\\u043d \\u0445\\u0430\\u043c\\u043e\\u0432\\u043d\\u0438\\u043a\\u0438\",\"\\u0440\\u0430\\u0439\\u043e\\u043d \\u0441\\u043e\\u043b\\u043d\\u0446\\u0435\\u0432\\u043e\",\"\\u0430\\u043b\\u0435\\u043a\\u0441\\u0435\\u0435\\u0432\\u0441\\u043a\\u0438\\u0439 \\u0440\\u0430\\u0439\\u043e\\u043d\",\"\\u0440\\u0430\\u0439\\u043e\\u043d \\u043e\\u0442\\u0440\\u0430\\u0434\\u043d\\u043e\\u0435\",\"\\u0440\\u0430\\u0439\\u043e\\u043d \\u044e\\u0436\\u043d\\u043e\\u0435 \\u0431\\u0443\\u0442\\u043e\\u0432\\u043e\",\"\\u0440\\u0430\\u0439\\u043e\\u043d \\u0437\\u0430\\u043c\\u043e\\u0441\\u043a\\u0432\\u043e\\u0440\\u0435\\u0447\\u044c\\u0435\"],\"xaxis\":\"x\",\"y\":[31,31,26,23,23,22,17,16,15,14],\"yaxis\":\"y\",\"type\":\"bar\"}],                        {\"template\":{\"data\":{\"bar\":[{\"error_x\":{\"color\":\"#2a3f5f\"},\"error_y\":{\"color\":\"#2a3f5f\"},\"marker\":{\"line\":{\"color\":\"#E5ECF6\",\"width\":0.5},\"pattern\":{\"fillmode\":\"overlay\",\"size\":10,\"solidity\":0.2}},\"type\":\"bar\"}],\"barpolar\":[{\"marker\":{\"line\":{\"color\":\"#E5ECF6\",\"width\":0.5},\"pattern\":{\"fillmode\":\"overlay\",\"size\":10,\"solidity\":0.2}},\"type\":\"barpolar\"}],\"carpet\":[{\"aaxis\":{\"endlinecolor\":\"#2a3f5f\",\"gridcolor\":\"white\",\"linecolor\":\"white\",\"minorgridcolor\":\"white\",\"startlinecolor\":\"#2a3f5f\"},\"baxis\":{\"endlinecolor\":\"#2a3f5f\",\"gridcolor\":\"white\",\"linecolor\":\"white\",\"minorgridcolor\":\"white\",\"startlinecolor\":\"#2a3f5f\"},\"type\":\"carpet\"}],\"choropleth\":[{\"colorbar\":{\"outlinewidth\":0,\"ticks\":\"\"},\"type\":\"choropleth\"}],\"contour\":[{\"colorbar\":{\"outlinewidth\":0,\"ticks\":\"\"},\"colorscale\":[[0.0,\"#0d0887\"],[0.1111111111111111,\"#46039f\"],[0.2222222222222222,\"#7201a8\"],[0.3333333333333333,\"#9c179e\"],[0.4444444444444444,\"#bd3786\"],[0.5555555555555556,\"#d8576b\"],[0.6666666666666666,\"#ed7953\"],[0.7777777777777778,\"#fb9f3a\"],[0.8888888888888888,\"#fdca26\"],[1.0,\"#f0f921\"]],\"type\":\"contour\"}],\"contourcarpet\":[{\"colorbar\":{\"outlinewidth\":0,\"ticks\":\"\"},\"type\":\"contourcarpet\"}],\"heatmap\":[{\"colorbar\":{\"outlinewidth\":0,\"ticks\":\"\"},\"colorscale\":[[0.0,\"#0d0887\"],[0.1111111111111111,\"#46039f\"],[0.2222222222222222,\"#7201a8\"],[0.3333333333333333,\"#9c179e\"],[0.4444444444444444,\"#bd3786\"],[0.5555555555555556,\"#d8576b\"],[0.6666666666666666,\"#ed7953\"],[0.7777777777777778,\"#fb9f3a\"],[0.8888888888888888,\"#fdca26\"],[1.0,\"#f0f921\"]],\"type\":\"heatmap\"}],\"heatmapgl\":[{\"colorbar\":{\"outlinewidth\":0,\"ticks\":\"\"},\"colorscale\":[[0.0,\"#0d0887\"],[0.1111111111111111,\"#46039f\"],[0.2222222222222222,\"#7201a8\"],[0.3333333333333333,\"#9c179e\"],[0.4444444444444444,\"#bd3786\"],[0.5555555555555556,\"#d8576b\"],[0.6666666666666666,\"#ed7953\"],[0.7777777777777778,\"#fb9f3a\"],[0.8888888888888888,\"#fdca26\"],[1.0,\"#f0f921\"]],\"type\":\"heatmapgl\"}],\"histogram\":[{\"marker\":{\"pattern\":{\"fillmode\":\"overlay\",\"size\":10,\"solidity\":0.2}},\"type\":\"histogram\"}],\"histogram2d\":[{\"colorbar\":{\"outlinewidth\":0,\"ticks\":\"\"},\"colorscale\":[[0.0,\"#0d0887\"],[0.1111111111111111,\"#46039f\"],[0.2222222222222222,\"#7201a8\"],[0.3333333333333333,\"#9c179e\"],[0.4444444444444444,\"#bd3786\"],[0.5555555555555556,\"#d8576b\"],[0.6666666666666666,\"#ed7953\"],[0.7777777777777778,\"#fb9f3a\"],[0.8888888888888888,\"#fdca26\"],[1.0,\"#f0f921\"]],\"type\":\"histogram2d\"}],\"histogram2dcontour\":[{\"colorbar\":{\"outlinewidth\":0,\"ticks\":\"\"},\"colorscale\":[[0.0,\"#0d0887\"],[0.1111111111111111,\"#46039f\"],[0.2222222222222222,\"#7201a8\"],[0.3333333333333333,\"#9c179e\"],[0.4444444444444444,\"#bd3786\"],[0.5555555555555556,\"#d8576b\"],[0.6666666666666666,\"#ed7953\"],[0.7777777777777778,\"#fb9f3a\"],[0.8888888888888888,\"#fdca26\"],[1.0,\"#f0f921\"]],\"type\":\"histogram2dcontour\"}],\"mesh3d\":[{\"colorbar\":{\"outlinewidth\":0,\"ticks\":\"\"},\"type\":\"mesh3d\"}],\"parcoords\":[{\"line\":{\"colorbar\":{\"outlinewidth\":0,\"ticks\":\"\"}},\"type\":\"parcoords\"}],\"pie\":[{\"automargin\":true,\"type\":\"pie\"}],\"scatter\":[{\"marker\":{\"colorbar\":{\"outlinewidth\":0,\"ticks\":\"\"}},\"type\":\"scatter\"}],\"scatter3d\":[{\"line\":{\"colorbar\":{\"outlinewidth\":0,\"ticks\":\"\"}},\"marker\":{\"colorbar\":{\"outlinewidth\":0,\"ticks\":\"\"}},\"type\":\"scatter3d\"}],\"scattercarpet\":[{\"marker\":{\"colorbar\":{\"outlinewidth\":0,\"ticks\":\"\"}},\"type\":\"scattercarpet\"}],\"scattergeo\":[{\"marker\":{\"colorbar\":{\"outlinewidth\":0,\"ticks\":\"\"}},\"type\":\"scattergeo\"}],\"scattergl\":[{\"marker\":{\"colorbar\":{\"outlinewidth\":0,\"ticks\":\"\"}},\"type\":\"scattergl\"}],\"scattermapbox\":[{\"marker\":{\"colorbar\":{\"outlinewidth\":0,\"ticks\":\"\"}},\"type\":\"scattermapbox\"}],\"scatterpolar\":[{\"marker\":{\"colorbar\":{\"outlinewidth\":0,\"ticks\":\"\"}},\"type\":\"scatterpolar\"}],\"scatterpolargl\":[{\"marker\":{\"colorbar\":{\"outlinewidth\":0,\"ticks\":\"\"}},\"type\":\"scatterpolargl\"}],\"scatterternary\":[{\"marker\":{\"colorbar\":{\"outlinewidth\":0,\"ticks\":\"\"}},\"type\":\"scatterternary\"}],\"surface\":[{\"colorbar\":{\"outlinewidth\":0,\"ticks\":\"\"},\"colorscale\":[[0.0,\"#0d0887\"],[0.1111111111111111,\"#46039f\"],[0.2222222222222222,\"#7201a8\"],[0.3333333333333333,\"#9c179e\"],[0.4444444444444444,\"#bd3786\"],[0.5555555555555556,\"#d8576b\"],[0.6666666666666666,\"#ed7953\"],[0.7777777777777778,\"#fb9f3a\"],[0.8888888888888888,\"#fdca26\"],[1.0,\"#f0f921\"]],\"type\":\"surface\"}],\"table\":[{\"cells\":{\"fill\":{\"color\":\"#EBF0F8\"},\"line\":{\"color\":\"white\"}},\"header\":{\"fill\":{\"color\":\"#C8D4E3\"},\"line\":{\"color\":\"white\"}},\"type\":\"table\"}]},\"layout\":{\"annotationdefaults\":{\"arrowcolor\":\"#2a3f5f\",\"arrowhead\":0,\"arrowwidth\":1},\"autotypenumbers\":\"strict\",\"coloraxis\":{\"colorbar\":{\"outlinewidth\":0,\"ticks\":\"\"}},\"colorscale\":{\"diverging\":[[0,\"#8e0152\"],[0.1,\"#c51b7d\"],[0.2,\"#de77ae\"],[0.3,\"#f1b6da\"],[0.4,\"#fde0ef\"],[0.5,\"#f7f7f7\"],[0.6,\"#e6f5d0\"],[0.7,\"#b8e186\"],[0.8,\"#7fbc41\"],[0.9,\"#4d9221\"],[1,\"#276419\"]],\"sequential\":[[0.0,\"#0d0887\"],[0.1111111111111111,\"#46039f\"],[0.2222222222222222,\"#7201a8\"],[0.3333333333333333,\"#9c179e\"],[0.4444444444444444,\"#bd3786\"],[0.5555555555555556,\"#d8576b\"],[0.6666666666666666,\"#ed7953\"],[0.7777777777777778,\"#fb9f3a\"],[0.8888888888888888,\"#fdca26\"],[1.0,\"#f0f921\"]],\"sequentialminus\":[[0.0,\"#0d0887\"],[0.1111111111111111,\"#46039f\"],[0.2222222222222222,\"#7201a8\"],[0.3333333333333333,\"#9c179e\"],[0.4444444444444444,\"#bd3786\"],[0.5555555555555556,\"#d8576b\"],[0.6666666666666666,\"#ed7953\"],[0.7777777777777778,\"#fb9f3a\"],[0.8888888888888888,\"#fdca26\"],[1.0,\"#f0f921\"]]},\"colorway\":[\"#636efa\",\"#EF553B\",\"#00cc96\",\"#ab63fa\",\"#FFA15A\",\"#19d3f3\",\"#FF6692\",\"#B6E880\",\"#FF97FF\",\"#FECB52\"],\"font\":{\"color\":\"#2a3f5f\"},\"geo\":{\"bgcolor\":\"white\",\"lakecolor\":\"white\",\"landcolor\":\"#E5ECF6\",\"showlakes\":true,\"showland\":true,\"subunitcolor\":\"white\"},\"hoverlabel\":{\"align\":\"left\"},\"hovermode\":\"closest\",\"mapbox\":{\"style\":\"light\"},\"paper_bgcolor\":\"white\",\"plot_bgcolor\":\"#E5ECF6\",\"polar\":{\"angularaxis\":{\"gridcolor\":\"white\",\"linecolor\":\"white\",\"ticks\":\"\"},\"bgcolor\":\"#E5ECF6\",\"radialaxis\":{\"gridcolor\":\"white\",\"linecolor\":\"white\",\"ticks\":\"\"}},\"scene\":{\"xaxis\":{\"backgroundcolor\":\"#E5ECF6\",\"gridcolor\":\"white\",\"gridwidth\":2,\"linecolor\":\"white\",\"showbackground\":true,\"ticks\":\"\",\"zerolinecolor\":\"white\"},\"yaxis\":{\"backgroundcolor\":\"#E5ECF6\",\"gridcolor\":\"white\",\"gridwidth\":2,\"linecolor\":\"white\",\"showbackground\":true,\"ticks\":\"\",\"zerolinecolor\":\"white\"},\"zaxis\":{\"backgroundcolor\":\"#E5ECF6\",\"gridcolor\":\"white\",\"gridwidth\":2,\"linecolor\":\"white\",\"showbackground\":true,\"ticks\":\"\",\"zerolinecolor\":\"white\"}},\"shapedefaults\":{\"line\":{\"color\":\"#2a3f5f\"}},\"ternary\":{\"aaxis\":{\"gridcolor\":\"white\",\"linecolor\":\"white\",\"ticks\":\"\"},\"baxis\":{\"gridcolor\":\"white\",\"linecolor\":\"white\",\"ticks\":\"\"},\"bgcolor\":\"#E5ECF6\",\"caxis\":{\"gridcolor\":\"white\",\"linecolor\":\"white\",\"ticks\":\"\"}},\"title\":{\"x\":0.05},\"xaxis\":{\"automargin\":true,\"gridcolor\":\"white\",\"linecolor\":\"white\",\"ticks\":\"\",\"title\":{\"standoff\":15},\"zerolinecolor\":\"white\",\"zerolinewidth\":2},\"yaxis\":{\"automargin\":true,\"gridcolor\":\"white\",\"linecolor\":\"white\",\"ticks\":\"\",\"title\":{\"standoff\":15},\"zerolinecolor\":\"white\",\"zerolinewidth\":2}}},\"xaxis\":{\"anchor\":\"y\",\"domain\":[0.0,1.0],\"title\":{\"text\":\"\\u0420\\u0430\\u0439\\u043e\\u043d\"}},\"yaxis\":{\"anchor\":\"x\",\"domain\":[0.0,1.0],\"title\":{\"text\":\"\\u041a\\u043e\\u043b\\u0438\\u0447\\u0435\\u0441\\u0442\\u0432\\u043e \\u0443\\u043b\\u0438\\u0446\"}},\"legend\":{\"tracegroupgap\":0},\"title\":{\"text\":\"\\u0422\\u043e\\u043f-10 \\u0440\\u0430\\u0439\\u043e\\u043d\\u043e\\u0432 \\u043f\\u043e \\u043a\\u043e\\u043b\\u0438\\u0447\\u0435\\u0441\\u0442\\u0432\\u0443 \\u0443\\u043b\\u0438\\u0446 \\u0441 1 \\u043e\\u0431\\u044a\\u0435\\u043a\\u0442\\u043e\\u043c \\u043e\\u0431\\u0449\\u0435\\u0441\\u0442\\u0432\\u0435\\u043d\\u043d\\u043e\\u0433\\u043e \\u043f\\u0438\\u0442\\u0430\\u043d\\u0438\\u044f\"},\"barmode\":\"relative\"},                        {\"responsive\": true}                    ).then(function(){\n",
       "                            \n",
       "var gd = document.getElementById('998f4318-6705-4153-a43a-cf800548e439');\n",
       "var x = new MutationObserver(function (mutations, observer) {{\n",
       "        var display = window.getComputedStyle(gd).display;\n",
       "        if (!display || display === 'none') {{\n",
       "            console.log([gd, 'removed!']);\n",
       "            Plotly.purge(gd);\n",
       "            observer.disconnect();\n",
       "        }}\n",
       "}});\n",
       "\n",
       "// Listen for the removal of the full notebook cells\n",
       "var notebookContainer = gd.closest('#notebook-container');\n",
       "if (notebookContainer) {{\n",
       "    x.observe(notebookContainer, {childList: true});\n",
       "}}\n",
       "\n",
       "// Listen for the clearing of the current output cell\n",
       "var outputEl = gd.closest('.output');\n",
       "if (outputEl) {{\n",
       "    x.observe(outputEl, {childList: true});\n",
       "}}\n",
       "\n",
       "                        })                };                });            </script>        </div>"
      ]
     },
     "metadata": {},
     "output_type": "display_data"
    }
   ],
   "source": [
    "min_street_filter = list(min_rest_number[min_rest_number['rest_number'] == 1]['street'])\n",
    "\n",
    "external_df_obj_min = external_df.query('street == @min_street_filter')\n",
    "print('Количество районов с улицами на которых располагается только один объект общественного питания: {0}'.format(len(external_df_obj_min['district'].unique())))\n",
    "\n",
    "def px_bar(df, column):\n",
    "    df2 = df.groupby([column], as_index=False).agg(quantity = ('address', 'count')).sort_values(by='quantity', ascending=False).head(10)\n",
    "    bar = px.bar(df2, x=column, y='quantity', title='Топ-10 районов по количеству улиц с 1 объектом общественного питания')\n",
    "    bar.update_layout(xaxis_title='Район',\n",
    "                     yaxis_title='Количество улиц') \n",
    "    return bar\n",
    "\n",
    "px_bar(external_df_obj_min, 'district')"
   ]
  },
  {
   "cell_type": "markdown",
   "metadata": {},
   "source": [
    "#### Вывод\n",
    "541 улица Москвы имеет только один объект общественного питания."
   ]
  },
  {
   "cell_type": "markdown",
   "metadata": {},
   "source": [
    "### Распределение количества посадочных мест для улиц с большим количеством объектов общественного питания"
   ]
  },
  {
   "cell_type": "markdown",
   "metadata": {},
   "source": [
    "Посмотрим как распределяются посадочные места в заведениях на топ-10 популярных улиц."
   ]
  },
  {
   "cell_type": "code",
   "execution_count": 62,
   "metadata": {
    "scrolled": false
   },
   "outputs": [
    {
     "data": {
      "image/png": "[encoded data removed]",
      "text/plain": [
       "<Figure size 1440x648 with 1 Axes>"
      ]
     },
     "metadata": {},
     "output_type": "display_data"
    }
   ],
   "source": [
    "top_street_rests = rest_filtered.query('street == @street_filter')\n",
    "\n",
    "plt.figure(figsize=(20, 9))\n",
    "sns.violinplot(x='street', y='number', data=top_street_rests)\n",
    "plt.ylim(-100,350)\n",
    "plt.title('Распределение количества посадочных мест по улицам', fontsize=20)\n",
    "plt.ylabel('Количество посадочных мест', fontsize=15)\n",
    "plt.xlabel('Улица', fontsize=15)\n",
    "plt.xticks(rotation=30, fontsize=13)\n",
    "plt.show()"
   ]
  },
  {
   "cell_type": "markdown",
   "metadata": {},
   "source": [
    "По графику можно выделить следующие общие моменты: \n",
    "- медианное значение посадочных мест относительно небольшое и варьируется от 25 до 50;\n",
    "- в 75% заведений на всех улицах количество посадочных мест не превышает 100 штук.\n",
    "\n",
    "Посмотрим какой вид объектов общественного питания преобладает на этих улицах."
   ]
  },
  {
   "cell_type": "code",
   "execution_count": 63,
   "metadata": {},
   "outputs": [
    {
     "data": {
      "text/html": [
       "<div>\n",
       "<style scoped>\n",
       "    .dataframe tbody tr th:only-of-type {\n",
       "        vertical-align: middle;\n",
       "    }\n",
       "\n",
       "    .dataframe tbody tr th {\n",
       "        vertical-align: top;\n",
       "    }\n",
       "\n",
       "    .dataframe thead th {\n",
       "        text-align: right;\n",
       "    }\n",
       "</style>\n",
       "<table border=\"1\" class=\"dataframe\">\n",
       "  <thead>\n",
       "    <tr style=\"text-align: right;\">\n",
       "      <th></th>\n",
       "      <th>street</th>\n",
       "      <th>rest_number</th>\n",
       "      <th>object_type</th>\n",
       "    </tr>\n",
       "  </thead>\n",
       "  <tbody>\n",
       "    <tr>\n",
       "      <th>0</th>\n",
       "      <td>варшавское шоссе</td>\n",
       "      <td>63</td>\n",
       "      <td>кафе</td>\n",
       "    </tr>\n",
       "    <tr>\n",
       "      <th>1</th>\n",
       "      <td>каширское шоссе</td>\n",
       "      <td>42</td>\n",
       "      <td>предприятие быстрого обслуживания</td>\n",
       "    </tr>\n",
       "    <tr>\n",
       "      <th>2</th>\n",
       "      <td>кировоградская улица</td>\n",
       "      <td>46</td>\n",
       "      <td>предприятие быстрого обслуживания</td>\n",
       "    </tr>\n",
       "    <tr>\n",
       "      <th>3</th>\n",
       "      <td>кутузовский проспект</td>\n",
       "      <td>48</td>\n",
       "      <td>ресторан</td>\n",
       "    </tr>\n",
       "    <tr>\n",
       "      <th>4</th>\n",
       "      <td>ленинградский проспект</td>\n",
       "      <td>70</td>\n",
       "      <td>кафе</td>\n",
       "    </tr>\n",
       "    <tr>\n",
       "      <th>5</th>\n",
       "      <td>ленинский проспект</td>\n",
       "      <td>64</td>\n",
       "      <td>кафе</td>\n",
       "    </tr>\n",
       "    <tr>\n",
       "      <th>6</th>\n",
       "      <td>пресненская набережная</td>\n",
       "      <td>98</td>\n",
       "      <td>кафе</td>\n",
       "    </tr>\n",
       "    <tr>\n",
       "      <th>7</th>\n",
       "      <td>проспект вернадского</td>\n",
       "      <td>55</td>\n",
       "      <td>кафе</td>\n",
       "    </tr>\n",
       "    <tr>\n",
       "      <th>8</th>\n",
       "      <td>проспект мира</td>\n",
       "      <td>103</td>\n",
       "      <td>кафе</td>\n",
       "    </tr>\n",
       "    <tr>\n",
       "      <th>9</th>\n",
       "      <td>профсоюзная улица</td>\n",
       "      <td>90</td>\n",
       "      <td>кафе</td>\n",
       "    </tr>\n",
       "  </tbody>\n",
       "</table>\n",
       "</div>"
      ],
      "text/plain": [
       "                   street  rest_number                        object_type\n",
       "0        варшавское шоссе           63                               кафе\n",
       "1         каширское шоссе           42  предприятие быстрого обслуживания\n",
       "2    кировоградская улица           46  предприятие быстрого обслуживания\n",
       "3    кутузовский проспект           48                           ресторан\n",
       "4  ленинградский проспект           70                               кафе\n",
       "5      ленинский проспект           64                               кафе\n",
       "6  пресненская набережная           98                               кафе\n",
       "7    проспект вернадского           55                               кафе\n",
       "8           проспект мира          103                               кафе\n",
       "9       профсоюзная улица           90                               кафе"
      ]
     },
     "execution_count": 63,
     "metadata": {},
     "output_type": "execute_result"
    }
   ],
   "source": [
    "top_street_rests_grouped = top_street_rests.groupby(['street', 'object_type'], as_index=False).agg(rest_number =('object_name','count'))\n",
    "top_street_rests_grouped\n",
    "obj = top_street_rests_grouped.groupby(['street'], as_index=False)['rest_number'].max()\n",
    "obj_merge = pd.merge(obj, top_street_rests_grouped, on=['street', 'rest_number'], how='left')\n",
    "obj_merge"
   ]
  },
  {
   "cell_type": "markdown",
   "metadata": {},
   "source": [
    "Также как и в целом по городу кафе более распространённый вид объекта общественного питания, но есть и исключения. \n",
    "#### Вывод\n",
    "- медианное значение посадочных мест относительно небольшое и варьируется от 25 до 50;\n",
    "- в 75% заведений на всех улицах количество посадочных мест не превышает 100 штук.\n",
    "\n",
    "Такие значения характерны для небольших заведений. Дальнейшая группировка также подтверждает этот вывод. На этих улицах кафе является наиболее распространённым видом объекта общественного питания."
   ]
  },
  {
   "cell_type": "markdown",
   "metadata": {},
   "source": [
    "## Вывод"
   ]
  },
  {
   "cell_type": "markdown",
   "metadata": {},
   "source": [
    "В процессе выполнения провели следующие действия:\n",
    "- загрузили данные, ознакомились с ними\n",
    "- рассмотрели объекты общественного питания по видам\n",
    "- определили характерные черты сетевых заведений\n",
    "- определили количество посадочных мест для всех видов объектов общественного питания\n",
    "- рассмотрели местонахождение объектов на территории Москвы.\n",
    "\n",
    "Нами установлено: \n",
    "- большую часть рынка занимают кафе - 40%\n",
    "- сетевые заведения составляют только 20% от общего количества\n",
    "- сетевое распространение характерно для предприятий быстрого обслуживания\n",
    "- для сетевых объектов характерно много объектов с небольшим количеством посадочных мест\n",
    "- самое большое количество посадочных мест располагается в столовых, затем по убыванию идут рестораны, бары, кафе\n",
    "- в сетевых заведениях медианное значение посадочных мест, как правило, выше по сравнению с несетевыми\n",
    "- улицы с самым большим количеством объектов общественного питания: проспект Мира - 204, Профсоюзная улица - 183, Ленинградский проспект - 173, Пресненская набережная - 167, Варшавское шоссе - 162\n",
    "- районы с самым большим количеством объектов общественного питания: Мещанский - 185, Пресненский - 182, Тропарёво-Никулино - 179, Аэропорт - 168\n",
    "- есть улицы с одним объектом общественного питания. Их количество 541, располагаются они в 99 районах\n",
    "- на улицах с самым большим количеством объектов общественного питания преобладают небольшие заведения с медианным значением посадочных мест от 25 до 50, в 75% заведений количество посадочных мест не превышает 100 штук.\n",
    "\n",
    "Рекомендации:\n",
    "Если брать во внимание намерение открыть небольшое заведение, то стоит рассмотреть форматы кафе и предприятие быстрого обслуживания. Но в заведениях фастфуда, как правило, нет официантов, тогда формат кафе будет более предпочтительным (самый популярный формат в городе). \n",
    "\n",
    "Оптимальным количеством посадочных мест будет от 25 до 50.\n",
    "\n",
    "За основу выбора расположения заведения можно взять районы с самым большим количеством объектов общественного питания: Мещанский, Пресненский, Тропарёво-Никулино, Аэропорт. Каждый из которых имеет свои плюсы.\n",
    "\n",
    "Мещанский район - большое количество исторических зданий, культурных сооружений, СК \"Олимпийский\" всё это привлекает много жителей и гостей города.\n",
    "\n",
    "Пресненский район - хорошо известен благодаря бизнес-центру \"Москва-Сити\", также на территории района располагается Московский зоопарк. Помимо деловых кругов привлекает много туристического трафика.\n",
    "\n",
    "Тропарёво-Никулино - это большой массив жилых домов и административных зданий, пользуется репутацией интеллектуального и научного центра. Характерная черта района — учреждения науки. Здесь находятся 6 высших учебных заведений, из них 3 академии. Молодые люди охотнее принимают и используют новые веяния.\n",
    "\n",
    "Район Аэропорт развивался как район для жизни и учёбы, поэтому здесь расположено несколько высших учебных заведений и студенческих общежитий. На первый взгляд схож с предыдущим районом в плане его контингента.\n",
    "\n",
    "В случае развития сети небольшое заведение предоставляет больше возможностей при выборе площадки для нового заведения. И при стабильной популярности можно относительно легко масштабировать сеть. Что мы и увидели в исследовании, крупные сети имеют заведения с количеством посадочных мест близким к медианному или даже ниже его. В рекомендациях указано медианные значения в зависимости от района."
   ]
  },
  {
   "cell_type": "markdown",
   "metadata": {},
   "source": [
    "Презентация: https://drive.google.com/file/d/1uQMoEMa6zSkxeqLn-MV9Fy7ixHAm19p2/view?usp=sharing"
   ]
  }
 ],
 "metadata": {
  "ExecuteTimeLog": [
   {
    "duration": 2,
    "start_time": "2022-04-29T11:30:34.481Z"
   },
   {
    "duration": 75,
    "start_time": "2022-04-29T11:30:34.485Z"
   },
   {
    "duration": 15,
    "start_time": "2022-04-29T11:31:48.185Z"
   },
   {
    "duration": 6,
    "start_time": "2022-04-29T11:35:09.601Z"
   },
   {
    "duration": 8,
    "start_time": "2022-04-29T11:35:37.246Z"
   },
   {
    "duration": 6,
    "start_time": "2022-04-29T11:36:36.533Z"
   },
   {
    "duration": 7,
    "start_time": "2022-04-29T11:36:58.350Z"
   },
   {
    "duration": 11,
    "start_time": "2022-04-29T11:41:13.643Z"
   },
   {
    "duration": 10,
    "start_time": "2022-04-29T11:44:05.569Z"
   },
   {
    "duration": 17,
    "start_time": "2022-04-29T11:44:31.385Z"
   },
   {
    "duration": 23,
    "start_time": "2022-04-29T11:45:04.522Z"
   },
   {
    "duration": 6,
    "start_time": "2022-04-29T11:50:58.483Z"
   },
   {
    "duration": 25,
    "start_time": "2022-04-29T11:53:10.084Z"
   },
   {
    "duration": 3,
    "start_time": "2022-04-29T11:53:19.348Z"
   },
   {
    "duration": 100,
    "start_time": "2022-04-29T11:53:19.353Z"
   },
   {
    "duration": 46,
    "start_time": "2022-04-29T11:53:19.455Z"
   },
   {
    "duration": 18,
    "start_time": "2022-04-29T11:53:19.504Z"
   },
   {
    "duration": 11,
    "start_time": "2022-04-29T11:54:23.981Z"
   },
   {
    "duration": 16,
    "start_time": "2022-04-29T11:55:09.247Z"
   },
   {
    "duration": 198,
    "start_time": "2022-04-29T11:57:39.085Z"
   },
   {
    "duration": 14,
    "start_time": "2022-04-29T11:57:53.994Z"
   },
   {
    "duration": 190,
    "start_time": "2022-04-29T12:03:07.221Z"
   },
   {
    "duration": 11,
    "start_time": "2022-04-29T12:03:17.245Z"
   },
   {
    "duration": 197,
    "start_time": "2022-04-29T12:03:48.668Z"
   },
   {
    "duration": 16,
    "start_time": "2022-04-29T12:04:35.268Z"
   },
   {
    "duration": 31,
    "start_time": "2022-04-29T12:07:56.373Z"
   },
   {
    "duration": 39,
    "start_time": "2022-04-29T12:08:13.140Z"
   },
   {
    "duration": 50,
    "start_time": "2022-04-29T12:09:01.185Z"
   },
   {
    "duration": 3,
    "start_time": "2022-04-29T12:11:02.642Z"
   },
   {
    "duration": 74,
    "start_time": "2022-04-29T12:11:02.649Z"
   },
   {
    "duration": 48,
    "start_time": "2022-04-29T12:11:02.724Z"
   },
   {
    "duration": 6,
    "start_time": "2022-04-29T12:13:29.350Z"
   },
   {
    "duration": 9,
    "start_time": "2022-04-29T12:13:41.749Z"
   },
   {
    "duration": 6,
    "start_time": "2022-04-29T12:14:04.676Z"
   },
   {
    "duration": 7,
    "start_time": "2022-04-29T12:14:32.946Z"
   },
   {
    "duration": 10,
    "start_time": "2022-04-29T12:15:33.123Z"
   },
   {
    "duration": 8,
    "start_time": "2022-04-29T12:16:50.632Z"
   },
   {
    "duration": 8,
    "start_time": "2022-04-29T12:17:26.911Z"
   },
   {
    "duration": 4,
    "start_time": "2022-04-29T12:17:35.643Z"
   },
   {
    "duration": 3225,
    "start_time": "2022-04-29T12:17:55.904Z"
   },
   {
    "duration": 3345,
    "start_time": "2022-04-29T12:18:16.602Z"
   },
   {
    "duration": 5,
    "start_time": "2022-04-29T12:18:51.196Z"
   },
   {
    "duration": 9,
    "start_time": "2022-04-29T12:19:06.776Z"
   },
   {
    "duration": 11,
    "start_time": "2022-04-29T13:26:44.541Z"
   },
   {
    "duration": 8,
    "start_time": "2022-04-29T13:27:30.895Z"
   },
   {
    "duration": 8,
    "start_time": "2022-04-29T13:31:34.736Z"
   },
   {
    "duration": 19,
    "start_time": "2022-04-29T13:31:44.649Z"
   },
   {
    "duration": 6,
    "start_time": "2022-04-29T13:32:52.125Z"
   },
   {
    "duration": 10,
    "start_time": "2022-04-29T13:33:06.429Z"
   },
   {
    "duration": 147,
    "start_time": "2022-04-29T13:33:55.208Z"
   },
   {
    "duration": 147,
    "start_time": "2022-04-29T13:37:33.042Z"
   },
   {
    "duration": 157,
    "start_time": "2022-04-29T13:38:00.574Z"
   },
   {
    "duration": 169,
    "start_time": "2022-04-29T13:38:59.571Z"
   },
   {
    "duration": 106,
    "start_time": "2022-04-29T13:41:05.055Z"
   },
   {
    "duration": 146,
    "start_time": "2022-04-29T13:41:35.672Z"
   },
   {
    "duration": 103,
    "start_time": "2022-04-29T13:46:59.425Z"
   },
   {
    "duration": 12,
    "start_time": "2022-04-29T13:49:06.350Z"
   },
   {
    "duration": 160,
    "start_time": "2022-04-29T13:49:29.895Z"
   },
   {
    "duration": 163,
    "start_time": "2022-04-29T13:50:00.954Z"
   },
   {
    "duration": 14,
    "start_time": "2022-04-29T13:50:29.425Z"
   },
   {
    "duration": 19,
    "start_time": "2022-04-29T13:50:50.906Z"
   },
   {
    "duration": 207,
    "start_time": "2022-04-29T13:51:01.350Z"
   },
   {
    "duration": 13,
    "start_time": "2022-04-29T13:51:21.983Z"
   },
   {
    "duration": 0,
    "start_time": "2022-04-29T18:18:51.296Z"
   },
   {
    "duration": 0,
    "start_time": "2022-04-29T18:18:51.298Z"
   },
   {
    "duration": 1,
    "start_time": "2022-04-29T18:18:51.299Z"
   },
   {
    "duration": 0,
    "start_time": "2022-04-29T18:18:51.301Z"
   },
   {
    "duration": 0,
    "start_time": "2022-04-29T18:18:51.302Z"
   },
   {
    "duration": 1519,
    "start_time": "2022-04-29T18:18:55.990Z"
   },
   {
    "duration": 88,
    "start_time": "2022-04-29T18:18:57.512Z"
   },
   {
    "duration": 71,
    "start_time": "2022-04-29T18:18:57.603Z"
   },
   {
    "duration": 18,
    "start_time": "2022-04-29T18:18:57.677Z"
   },
   {
    "duration": 98,
    "start_time": "2022-04-29T18:18:57.698Z"
   },
   {
    "duration": 20,
    "start_time": "2022-04-29T18:21:56.689Z"
   },
   {
    "duration": 15,
    "start_time": "2022-04-29T18:25:37.907Z"
   },
   {
    "duration": 12,
    "start_time": "2022-04-29T18:26:29.759Z"
   },
   {
    "duration": 10,
    "start_time": "2022-04-29T18:26:42.427Z"
   },
   {
    "duration": 241,
    "start_time": "2022-04-29T18:33:36.190Z"
   },
   {
    "duration": 16,
    "start_time": "2022-04-29T18:34:55.698Z"
   },
   {
    "duration": 15,
    "start_time": "2022-04-29T18:35:36.027Z"
   },
   {
    "duration": 181,
    "start_time": "2022-04-29T18:35:53.411Z"
   },
   {
    "duration": 167,
    "start_time": "2022-04-29T18:42:07.158Z"
   },
   {
    "duration": 144,
    "start_time": "2022-04-29T18:42:47.586Z"
   },
   {
    "duration": 263,
    "start_time": "2022-04-29T18:43:20.612Z"
   },
   {
    "duration": 156,
    "start_time": "2022-04-29T18:43:59.461Z"
   },
   {
    "duration": 212,
    "start_time": "2022-04-29T18:44:26.772Z"
   },
   {
    "duration": 189,
    "start_time": "2022-04-29T18:45:56.822Z"
   },
   {
    "duration": 181,
    "start_time": "2022-04-29T18:46:38.833Z"
   },
   {
    "duration": 292,
    "start_time": "2022-04-29T18:46:46.780Z"
   },
   {
    "duration": 193,
    "start_time": "2022-04-29T18:46:56.621Z"
   },
   {
    "duration": 222,
    "start_time": "2022-04-29T18:47:39.130Z"
   },
   {
    "duration": 188,
    "start_time": "2022-04-29T18:47:59.058Z"
   },
   {
    "duration": 162,
    "start_time": "2022-04-29T18:51:32.330Z"
   },
   {
    "duration": 167,
    "start_time": "2022-04-29T18:59:43.082Z"
   },
   {
    "duration": 7,
    "start_time": "2022-04-29T19:00:28.816Z"
   },
   {
    "duration": 186,
    "start_time": "2022-04-29T19:03:30.251Z"
   },
   {
    "duration": 258,
    "start_time": "2022-04-29T19:03:53.875Z"
   },
   {
    "duration": 215,
    "start_time": "2022-04-29T19:06:46.628Z"
   },
   {
    "duration": 184,
    "start_time": "2022-04-29T19:06:56.272Z"
   },
   {
    "duration": 198,
    "start_time": "2022-04-29T19:07:17.317Z"
   },
   {
    "duration": 213,
    "start_time": "2022-04-29T19:07:36.529Z"
   },
   {
    "duration": 324,
    "start_time": "2022-04-29T19:07:55.724Z"
   },
   {
    "duration": 4,
    "start_time": "2022-04-29T19:11:04.342Z"
   },
   {
    "duration": 242,
    "start_time": "2022-04-29T19:11:55.482Z"
   },
   {
    "duration": 243,
    "start_time": "2022-04-29T19:12:32.985Z"
   },
   {
    "duration": 149,
    "start_time": "2022-04-29T19:12:58.041Z"
   },
   {
    "duration": 262,
    "start_time": "2022-04-29T19:13:13.435Z"
   },
   {
    "duration": 133,
    "start_time": "2022-04-29T19:28:33.095Z"
   },
   {
    "duration": 190,
    "start_time": "2022-04-29T19:29:21.498Z"
   },
   {
    "duration": 187,
    "start_time": "2022-04-29T19:29:45.072Z"
   },
   {
    "duration": 10,
    "start_time": "2022-04-29T19:34:33.391Z"
   },
   {
    "duration": 35,
    "start_time": "2022-04-29T19:34:38.325Z"
   },
   {
    "duration": 84,
    "start_time": "2022-04-29T19:34:38.362Z"
   },
   {
    "duration": 70,
    "start_time": "2022-04-29T19:34:38.448Z"
   },
   {
    "duration": 272,
    "start_time": "2022-04-29T19:34:38.520Z"
   },
   {
    "duration": 36,
    "start_time": "2022-04-29T19:34:38.794Z"
   },
   {
    "duration": 0,
    "start_time": "2022-04-29T19:34:38.832Z"
   },
   {
    "duration": 313,
    "start_time": "2022-04-29T19:34:54.027Z"
   },
   {
    "duration": 18,
    "start_time": "2022-04-29T19:37:17.708Z"
   },
   {
    "duration": 112,
    "start_time": "2022-04-29T19:37:43.562Z"
   },
   {
    "duration": 32,
    "start_time": "2022-04-29T19:37:59.554Z"
   },
   {
    "duration": 23,
    "start_time": "2022-04-29T19:39:32.062Z"
   },
   {
    "duration": 186,
    "start_time": "2022-04-29T19:42:22.792Z"
   },
   {
    "duration": 25,
    "start_time": "2022-04-29T19:42:47.534Z"
   },
   {
    "duration": 129,
    "start_time": "2022-04-29T19:43:54.946Z"
   },
   {
    "duration": 79,
    "start_time": "2022-04-29T19:48:23.368Z"
   },
   {
    "duration": 227,
    "start_time": "2022-04-29T19:50:38.078Z"
   },
   {
    "duration": 140,
    "start_time": "2022-04-29T19:51:40.502Z"
   },
   {
    "duration": 139,
    "start_time": "2022-04-29T19:51:47.219Z"
   },
   {
    "duration": 150,
    "start_time": "2022-04-29T19:51:58.854Z"
   },
   {
    "duration": 145,
    "start_time": "2022-04-29T19:52:18.687Z"
   },
   {
    "duration": 55,
    "start_time": "2022-04-29T19:52:43.638Z"
   },
   {
    "duration": 111,
    "start_time": "2022-04-29T19:54:29.796Z"
   },
   {
    "duration": 49,
    "start_time": "2022-04-29T19:54:41.586Z"
   },
   {
    "duration": 55,
    "start_time": "2022-04-29T19:58:31.415Z"
   },
   {
    "duration": 79,
    "start_time": "2022-04-29T19:59:01.696Z"
   },
   {
    "duration": 54,
    "start_time": "2022-04-29T19:59:20.043Z"
   },
   {
    "duration": 52,
    "start_time": "2022-04-29T20:00:17.076Z"
   },
   {
    "duration": 108,
    "start_time": "2022-04-29T20:00:50.480Z"
   },
   {
    "duration": 11,
    "start_time": "2022-04-29T20:02:40.584Z"
   },
   {
    "duration": 13,
    "start_time": "2022-04-29T20:04:51.321Z"
   },
   {
    "duration": 11,
    "start_time": "2022-04-29T20:05:11.521Z"
   },
   {
    "duration": 10,
    "start_time": "2022-04-29T20:05:38.901Z"
   },
   {
    "duration": 3,
    "start_time": "2022-04-29T20:07:09.217Z"
   },
   {
    "duration": 81,
    "start_time": "2022-04-29T20:07:09.222Z"
   },
   {
    "duration": 64,
    "start_time": "2022-04-29T20:07:09.305Z"
   },
   {
    "duration": 57,
    "start_time": "2022-04-29T20:07:09.370Z"
   },
   {
    "duration": 11,
    "start_time": "2022-04-29T20:07:09.429Z"
   },
   {
    "duration": 1805,
    "start_time": "2022-04-30T14:50:39.427Z"
   },
   {
    "duration": 112,
    "start_time": "2022-04-30T14:50:41.234Z"
   },
   {
    "duration": 80,
    "start_time": "2022-04-30T14:50:41.348Z"
   },
   {
    "duration": 556,
    "start_time": "2022-04-30T14:50:41.431Z"
   },
   {
    "duration": 16,
    "start_time": "2022-04-30T14:50:41.989Z"
   },
   {
    "duration": 195,
    "start_time": "2022-04-30T14:55:26.240Z"
   },
   {
    "duration": 3637,
    "start_time": "2022-04-30T14:57:21.781Z"
   },
   {
    "duration": 3892,
    "start_time": "2022-04-30T14:58:28.955Z"
   },
   {
    "duration": 5,
    "start_time": "2022-04-30T14:58:59.049Z"
   },
   {
    "duration": 159,
    "start_time": "2022-04-30T14:58:59.057Z"
   },
   {
    "duration": 141,
    "start_time": "2022-04-30T14:58:59.219Z"
   },
   {
    "duration": 162,
    "start_time": "2022-04-30T14:58:59.364Z"
   },
   {
    "duration": 21,
    "start_time": "2022-04-30T14:58:59.530Z"
   },
   {
    "duration": 3955,
    "start_time": "2022-04-30T14:58:59.554Z"
   },
   {
    "duration": 0,
    "start_time": "2022-04-30T14:59:03.512Z"
   },
   {
    "duration": 11,
    "start_time": "2022-04-30T14:59:42.079Z"
   },
   {
    "duration": 160,
    "start_time": "2022-04-30T15:00:02.628Z"
   },
   {
    "duration": 253,
    "start_time": "2022-04-30T15:05:11.801Z"
   },
   {
    "duration": 24,
    "start_time": "2022-04-30T15:05:48.714Z"
   },
   {
    "duration": 32,
    "start_time": "2022-04-30T15:13:20.052Z"
   },
   {
    "duration": 30,
    "start_time": "2022-04-30T15:17:03.739Z"
   },
   {
    "duration": 6,
    "start_time": "2022-04-30T15:19:05.859Z"
   },
   {
    "duration": 43,
    "start_time": "2022-04-30T15:19:52.003Z"
   },
   {
    "duration": 25,
    "start_time": "2022-04-30T15:28:39.730Z"
   },
   {
    "duration": 11,
    "start_time": "2022-04-30T15:29:29.214Z"
   },
   {
    "duration": 11,
    "start_time": "2022-04-30T15:37:09.940Z"
   },
   {
    "duration": 3361,
    "start_time": "2022-04-30T15:39:03.563Z"
   },
   {
    "duration": 33,
    "start_time": "2022-04-30T15:41:42.080Z"
   },
   {
    "duration": 29,
    "start_time": "2022-04-30T15:44:54.314Z"
   },
   {
    "duration": 29,
    "start_time": "2022-04-30T15:45:41.369Z"
   },
   {
    "duration": 29,
    "start_time": "2022-04-30T15:46:09.761Z"
   },
   {
    "duration": 5,
    "start_time": "2022-04-30T15:57:55.898Z"
   },
   {
    "duration": 21,
    "start_time": "2022-04-30T15:59:02.569Z"
   },
   {
    "duration": 12,
    "start_time": "2022-04-30T15:59:18.070Z"
   },
   {
    "duration": 22,
    "start_time": "2022-04-30T15:59:28.007Z"
   },
   {
    "duration": 5,
    "start_time": "2022-04-30T16:00:24.465Z"
   },
   {
    "duration": 20,
    "start_time": "2022-04-30T16:00:29.883Z"
   },
   {
    "duration": 200,
    "start_time": "2022-04-30T16:00:59.539Z"
   },
   {
    "duration": 5,
    "start_time": "2022-04-30T16:01:34.599Z"
   },
   {
    "duration": 26,
    "start_time": "2022-04-30T16:01:41.735Z"
   },
   {
    "duration": 30,
    "start_time": "2022-04-30T16:05:32.950Z"
   },
   {
    "duration": 8,
    "start_time": "2022-04-30T16:08:47.916Z"
   },
   {
    "duration": 85,
    "start_time": "2022-04-30T16:09:18.085Z"
   },
   {
    "duration": 6,
    "start_time": "2022-04-30T16:13:58.465Z"
   },
   {
    "duration": 27,
    "start_time": "2022-04-30T16:14:01.975Z"
   },
   {
    "duration": 3397,
    "start_time": "2022-04-30T16:14:23.221Z"
   },
   {
    "duration": 7,
    "start_time": "2022-04-30T16:15:01.963Z"
   },
   {
    "duration": 131,
    "start_time": "2022-04-30T16:15:05.850Z"
   },
   {
    "duration": 6,
    "start_time": "2022-04-30T16:16:54.227Z"
   },
   {
    "duration": 7,
    "start_time": "2022-04-30T16:19:00.032Z"
   },
   {
    "duration": 125,
    "start_time": "2022-04-30T16:19:28.595Z"
   },
   {
    "duration": 117,
    "start_time": "2022-04-30T16:20:09.392Z"
   },
   {
    "duration": 7,
    "start_time": "2022-04-30T16:21:03.612Z"
   },
   {
    "duration": 6,
    "start_time": "2022-04-30T16:23:31.377Z"
   },
   {
    "duration": 6,
    "start_time": "2022-04-30T16:23:48.824Z"
   },
   {
    "duration": 101,
    "start_time": "2022-04-30T16:24:29.949Z"
   },
   {
    "duration": 101,
    "start_time": "2022-04-30T16:24:50.938Z"
   },
   {
    "duration": 102,
    "start_time": "2022-04-30T16:26:07.946Z"
   },
   {
    "duration": 103,
    "start_time": "2022-04-30T16:26:25.028Z"
   },
   {
    "duration": 113,
    "start_time": "2022-04-30T16:27:33.694Z"
   },
   {
    "duration": 147,
    "start_time": "2022-04-30T16:30:11.419Z"
   },
   {
    "duration": 5,
    "start_time": "2022-04-30T17:37:04.322Z"
   },
   {
    "duration": 110,
    "start_time": "2022-04-30T17:37:04.329Z"
   },
   {
    "duration": 81,
    "start_time": "2022-04-30T17:37:04.442Z"
   },
   {
    "duration": 5,
    "start_time": "2022-04-30T17:37:04.527Z"
   },
   {
    "duration": 8,
    "start_time": "2022-04-30T17:37:04.534Z"
   },
   {
    "duration": 127,
    "start_time": "2022-04-30T17:37:04.544Z"
   },
   {
    "duration": 133,
    "start_time": "2022-04-30T17:37:04.673Z"
   },
   {
    "duration": 120,
    "start_time": "2022-04-30T17:37:04.808Z"
   },
   {
    "duration": 75,
    "start_time": "2022-04-30T17:39:05.932Z"
   },
   {
    "duration": 1725,
    "start_time": "2022-04-30T17:39:10.284Z"
   },
   {
    "duration": 95,
    "start_time": "2022-04-30T17:39:12.012Z"
   },
   {
    "duration": 69,
    "start_time": "2022-04-30T17:39:12.109Z"
   },
   {
    "duration": 6,
    "start_time": "2022-04-30T17:39:12.192Z"
   },
   {
    "duration": 6,
    "start_time": "2022-04-30T17:39:12.201Z"
   },
   {
    "duration": 591,
    "start_time": "2022-04-30T17:39:12.210Z"
   },
   {
    "duration": 296,
    "start_time": "2022-04-30T17:39:12.804Z"
   },
   {
    "duration": 132,
    "start_time": "2022-04-30T17:39:13.102Z"
   },
   {
    "duration": 13,
    "start_time": "2022-04-30T17:39:13.236Z"
   },
   {
    "duration": 287,
    "start_time": "2022-04-30T17:40:54.272Z"
   },
   {
    "duration": 23,
    "start_time": "2022-04-30T17:41:07.970Z"
   },
   {
    "duration": 43,
    "start_time": "2022-04-30T17:41:34.832Z"
   },
   {
    "duration": 10,
    "start_time": "2022-04-30T17:42:08.665Z"
   },
   {
    "duration": 10,
    "start_time": "2022-04-30T17:42:17.440Z"
   },
   {
    "duration": 10,
    "start_time": "2022-04-30T17:42:19.401Z"
   },
   {
    "duration": 13,
    "start_time": "2022-04-30T17:42:35.321Z"
   },
   {
    "duration": 11,
    "start_time": "2022-04-30T17:43:21.221Z"
   },
   {
    "duration": 13,
    "start_time": "2022-04-30T17:44:36.370Z"
   },
   {
    "duration": 18,
    "start_time": "2022-04-30T17:44:54.114Z"
   },
   {
    "duration": 25,
    "start_time": "2022-04-30T17:55:00.992Z"
   },
   {
    "duration": 44,
    "start_time": "2022-04-30T18:07:49.428Z"
   },
   {
    "duration": 43,
    "start_time": "2022-04-30T18:10:56.773Z"
   },
   {
    "duration": 63,
    "start_time": "2022-04-30T18:14:07.819Z"
   },
   {
    "duration": 43,
    "start_time": "2022-04-30T18:15:55.247Z"
   },
   {
    "duration": 45,
    "start_time": "2022-04-30T18:16:25.927Z"
   },
   {
    "duration": 57,
    "start_time": "2022-04-30T18:16:36.284Z"
   },
   {
    "duration": 56,
    "start_time": "2022-04-30T18:16:50.351Z"
   },
   {
    "duration": 44,
    "start_time": "2022-04-30T18:19:48.173Z"
   },
   {
    "duration": 50,
    "start_time": "2022-04-30T18:21:02.211Z"
   },
   {
    "duration": 35,
    "start_time": "2022-04-30T18:21:12.300Z"
   },
   {
    "duration": 43,
    "start_time": "2022-04-30T18:21:25.181Z"
   },
   {
    "duration": 60,
    "start_time": "2022-04-30T18:22:48.446Z"
   },
   {
    "duration": 69,
    "start_time": "2022-04-30T18:29:16.231Z"
   },
   {
    "duration": 221,
    "start_time": "2022-04-30T18:30:05.638Z"
   },
   {
    "duration": 152,
    "start_time": "2022-04-30T18:30:18.328Z"
   },
   {
    "duration": 218,
    "start_time": "2022-04-30T18:38:17.802Z"
   },
   {
    "duration": 215,
    "start_time": "2022-04-30T18:38:26.240Z"
   },
   {
    "duration": 75,
    "start_time": "2022-04-30T18:38:42.657Z"
   },
   {
    "duration": 75,
    "start_time": "2022-04-30T18:39:43.859Z"
   },
   {
    "duration": 75,
    "start_time": "2022-04-30T18:40:03.102Z"
   },
   {
    "duration": 36,
    "start_time": "2022-04-30T18:40:51.342Z"
   },
   {
    "duration": 22,
    "start_time": "2022-04-30T19:25:36.160Z"
   },
   {
    "duration": 230,
    "start_time": "2022-04-30T19:32:35.305Z"
   },
   {
    "duration": 176,
    "start_time": "2022-04-30T19:33:28.430Z"
   },
   {
    "duration": 16,
    "start_time": "2022-04-30T19:36:18.327Z"
   },
   {
    "duration": 18,
    "start_time": "2022-04-30T19:36:28.571Z"
   },
   {
    "duration": 13,
    "start_time": "2022-04-30T19:37:12.664Z"
   },
   {
    "duration": 18,
    "start_time": "2022-04-30T19:37:37.163Z"
   },
   {
    "duration": 160,
    "start_time": "2022-04-30T19:38:09.859Z"
   },
   {
    "duration": 178,
    "start_time": "2022-04-30T19:38:50.111Z"
   },
   {
    "duration": 1491,
    "start_time": "2022-05-01T10:01:46.974Z"
   },
   {
    "duration": 94,
    "start_time": "2022-05-01T10:01:48.468Z"
   },
   {
    "duration": 54,
    "start_time": "2022-05-01T10:01:48.563Z"
   },
   {
    "duration": 9,
    "start_time": "2022-05-01T10:01:48.634Z"
   },
   {
    "duration": 12,
    "start_time": "2022-05-01T10:01:48.645Z"
   },
   {
    "duration": 461,
    "start_time": "2022-05-01T10:01:48.659Z"
   },
   {
    "duration": 143,
    "start_time": "2022-05-01T10:01:49.122Z"
   },
   {
    "duration": 116,
    "start_time": "2022-05-01T10:01:49.266Z"
   },
   {
    "duration": 28,
    "start_time": "2022-05-01T10:01:49.383Z"
   },
   {
    "duration": 84,
    "start_time": "2022-05-01T10:01:49.413Z"
   },
   {
    "duration": 34,
    "start_time": "2022-05-01T10:01:49.500Z"
   },
   {
    "duration": 232,
    "start_time": "2022-05-01T10:01:49.537Z"
   },
   {
    "duration": 102,
    "start_time": "2022-05-01T10:01:49.771Z"
   },
   {
    "duration": 13,
    "start_time": "2022-05-01T10:02:17.830Z"
   },
   {
    "duration": 15,
    "start_time": "2022-05-01T10:03:25.719Z"
   },
   {
    "duration": 17,
    "start_time": "2022-05-01T10:07:11.744Z"
   },
   {
    "duration": 156,
    "start_time": "2022-05-01T10:09:25.877Z"
   },
   {
    "duration": 16,
    "start_time": "2022-05-01T10:09:44.886Z"
   },
   {
    "duration": 17,
    "start_time": "2022-05-01T10:12:11.610Z"
   },
   {
    "duration": 950,
    "start_time": "2022-05-01T10:17:48.513Z"
   },
   {
    "duration": 14,
    "start_time": "2022-05-01T10:34:42.322Z"
   },
   {
    "duration": 9,
    "start_time": "2022-05-01T10:35:52.502Z"
   },
   {
    "duration": 15,
    "start_time": "2022-05-01T10:35:58.635Z"
   },
   {
    "duration": 22,
    "start_time": "2022-05-01T10:47:44.519Z"
   },
   {
    "duration": 17,
    "start_time": "2022-05-01T10:48:37.210Z"
   },
   {
    "duration": 16,
    "start_time": "2022-05-01T10:48:43.086Z"
   },
   {
    "duration": 1333,
    "start_time": "2022-05-01T10:49:46.031Z"
   },
   {
    "duration": 1234,
    "start_time": "2022-05-01T10:50:09.747Z"
   },
   {
    "duration": 13,
    "start_time": "2022-05-01T10:51:52.367Z"
   },
   {
    "duration": 297,
    "start_time": "2022-05-01T10:54:46.630Z"
   },
   {
    "duration": 362,
    "start_time": "2022-05-01T10:55:11.348Z"
   },
   {
    "duration": 483,
    "start_time": "2022-05-01T10:55:39.188Z"
   },
   {
    "duration": 56,
    "start_time": "2022-05-01T10:57:39.256Z"
   },
   {
    "duration": 19,
    "start_time": "2022-05-01T10:59:19.573Z"
   },
   {
    "duration": 1234,
    "start_time": "2022-05-01T10:59:28.238Z"
   },
   {
    "duration": 52,
    "start_time": "2022-05-01T10:59:52.605Z"
   },
   {
    "duration": 59,
    "start_time": "2022-05-01T11:00:16.569Z"
   },
   {
    "duration": 50,
    "start_time": "2022-05-01T11:00:28.801Z"
   },
   {
    "duration": 1128,
    "start_time": "2022-05-01T11:02:34.089Z"
   },
   {
    "duration": 954,
    "start_time": "2022-05-01T11:07:05.511Z"
   },
   {
    "duration": 1153,
    "start_time": "2022-05-01T11:07:45.072Z"
   },
   {
    "duration": 1029,
    "start_time": "2022-05-01T11:10:30.968Z"
   },
   {
    "duration": 1197,
    "start_time": "2022-05-01T11:12:08.021Z"
   },
   {
    "duration": 161,
    "start_time": "2022-05-01T11:12:46.633Z"
   },
   {
    "duration": 870,
    "start_time": "2022-05-01T11:13:07.957Z"
   },
   {
    "duration": 1128,
    "start_time": "2022-05-01T11:13:21.398Z"
   },
   {
    "duration": 962,
    "start_time": "2022-05-01T11:14:31.809Z"
   },
   {
    "duration": 965,
    "start_time": "2022-05-01T11:15:47.394Z"
   },
   {
    "duration": 1296,
    "start_time": "2022-05-01T11:16:10.074Z"
   },
   {
    "duration": 1045,
    "start_time": "2022-05-01T11:16:41.998Z"
   },
   {
    "duration": 1216,
    "start_time": "2022-05-01T11:17:47.375Z"
   },
   {
    "duration": 1003,
    "start_time": "2022-05-01T11:18:11.651Z"
   },
   {
    "duration": 171,
    "start_time": "2022-05-01T11:19:33.643Z"
   },
   {
    "duration": 163,
    "start_time": "2022-05-01T11:20:00.363Z"
   },
   {
    "duration": 1288,
    "start_time": "2022-05-01T11:20:11.539Z"
   },
   {
    "duration": 1087,
    "start_time": "2022-05-01T11:20:22.239Z"
   },
   {
    "duration": 1268,
    "start_time": "2022-05-01T11:20:52.447Z"
   },
   {
    "duration": 1120,
    "start_time": "2022-05-01T11:21:00.647Z"
   },
   {
    "duration": 1013,
    "start_time": "2022-05-01T11:21:15.048Z"
   },
   {
    "duration": 1339,
    "start_time": "2022-05-01T11:21:27.177Z"
   },
   {
    "duration": 1054,
    "start_time": "2022-05-01T11:23:14.260Z"
   },
   {
    "duration": 1385,
    "start_time": "2022-05-01T11:28:22.306Z"
   },
   {
    "duration": 1129,
    "start_time": "2022-05-01T11:28:35.330Z"
   },
   {
    "duration": 1371,
    "start_time": "2022-05-01T11:29:17.718Z"
   },
   {
    "duration": 1134,
    "start_time": "2022-05-01T11:30:59.219Z"
   },
   {
    "duration": 1113,
    "start_time": "2022-05-01T11:31:10.733Z"
   },
   {
    "duration": 1329,
    "start_time": "2022-05-01T11:33:02.460Z"
   },
   {
    "duration": 1092,
    "start_time": "2022-05-01T11:34:11.435Z"
   },
   {
    "duration": 1306,
    "start_time": "2022-05-01T11:34:21.616Z"
   },
   {
    "duration": 1072,
    "start_time": "2022-05-01T11:35:14.364Z"
   },
   {
    "duration": 1299,
    "start_time": "2022-05-01T11:35:27.812Z"
   },
   {
    "duration": 1055,
    "start_time": "2022-05-01T11:35:47.107Z"
   },
   {
    "duration": 1392,
    "start_time": "2022-05-01T11:36:08.641Z"
   },
   {
    "duration": 1140,
    "start_time": "2022-05-01T11:36:18.888Z"
   },
   {
    "duration": 1302,
    "start_time": "2022-05-01T11:36:49.485Z"
   },
   {
    "duration": 1168,
    "start_time": "2022-05-01T11:37:05.243Z"
   },
   {
    "duration": 57,
    "start_time": "2022-05-01T11:39:48.775Z"
   },
   {
    "duration": 60,
    "start_time": "2022-05-01T11:41:48.186Z"
   },
   {
    "duration": 58,
    "start_time": "2022-05-01T11:43:01.139Z"
   },
   {
    "duration": 64,
    "start_time": "2022-05-01T11:44:41.879Z"
   },
   {
    "duration": 148,
    "start_time": "2022-05-01T11:46:25.815Z"
   },
   {
    "duration": 104,
    "start_time": "2022-05-01T11:47:08.952Z"
   },
   {
    "duration": 13,
    "start_time": "2022-05-01T11:52:36.457Z"
   },
   {
    "duration": 14,
    "start_time": "2022-05-01T11:53:33.501Z"
   },
   {
    "duration": 58,
    "start_time": "2022-05-01T11:57:06.250Z"
   },
   {
    "duration": 1323,
    "start_time": "2022-05-01T12:11:51.673Z"
   },
   {
    "duration": 1098,
    "start_time": "2022-05-01T12:15:55.551Z"
   },
   {
    "duration": 1228,
    "start_time": "2022-05-01T12:24:22.289Z"
   },
   {
    "duration": 1084,
    "start_time": "2022-05-01T12:25:21.434Z"
   },
   {
    "duration": 165,
    "start_time": "2022-05-01T12:27:31.083Z"
   },
   {
    "duration": 1051,
    "start_time": "2022-05-01T12:28:38.543Z"
   },
   {
    "duration": 1305,
    "start_time": "2022-05-01T12:28:52.023Z"
   },
   {
    "duration": 1070,
    "start_time": "2022-05-01T12:29:34.644Z"
   },
   {
    "duration": 169,
    "start_time": "2022-05-01T12:30:01.252Z"
   },
   {
    "duration": 1329,
    "start_time": "2022-05-01T12:30:32.744Z"
   },
   {
    "duration": 1044,
    "start_time": "2022-05-01T12:39:50.242Z"
   },
   {
    "duration": 1064,
    "start_time": "2022-05-01T12:40:58.227Z"
   },
   {
    "duration": 1281,
    "start_time": "2022-05-01T13:50:16.723Z"
   },
   {
    "duration": 1012,
    "start_time": "2022-05-01T13:50:40.343Z"
   },
   {
    "duration": 1215,
    "start_time": "2022-05-01T13:51:07.107Z"
   },
   {
    "duration": 1004,
    "start_time": "2022-05-01T13:53:49.868Z"
   },
   {
    "duration": 1006,
    "start_time": "2022-05-01T13:53:59.272Z"
   },
   {
    "duration": 1276,
    "start_time": "2022-05-01T13:54:06.112Z"
   },
   {
    "duration": 1020,
    "start_time": "2022-05-01T13:54:51.080Z"
   },
   {
    "duration": 1009,
    "start_time": "2022-05-01T13:55:09.612Z"
   },
   {
    "duration": 1417,
    "start_time": "2022-05-01T13:55:29.137Z"
   },
   {
    "duration": 1013,
    "start_time": "2022-05-01T13:55:35.796Z"
   },
   {
    "duration": 1032,
    "start_time": "2022-05-01T13:56:32.980Z"
   },
   {
    "duration": 1370,
    "start_time": "2022-05-01T13:56:55.125Z"
   },
   {
    "duration": 1035,
    "start_time": "2022-05-01T13:57:04.705Z"
   },
   {
    "duration": 1027,
    "start_time": "2022-05-01T13:58:14.405Z"
   },
   {
    "duration": 15,
    "start_time": "2022-05-01T14:02:45.882Z"
   },
   {
    "duration": 14,
    "start_time": "2022-05-01T14:03:40.795Z"
   },
   {
    "duration": 160,
    "start_time": "2022-05-01T14:04:31.703Z"
   },
   {
    "duration": 13,
    "start_time": "2022-05-01T14:04:53.376Z"
   },
   {
    "duration": 13,
    "start_time": "2022-05-01T14:05:06.095Z"
   },
   {
    "duration": 170,
    "start_time": "2022-05-01T14:07:27.240Z"
   },
   {
    "duration": 176,
    "start_time": "2022-05-01T14:08:03.212Z"
   },
   {
    "duration": 13,
    "start_time": "2022-05-01T14:08:13.132Z"
   },
   {
    "duration": 11,
    "start_time": "2022-05-01T14:08:36.396Z"
   },
   {
    "duration": 13,
    "start_time": "2022-05-01T14:08:46.096Z"
   },
   {
    "duration": 14,
    "start_time": "2022-05-01T14:10:21.404Z"
   },
   {
    "duration": 19,
    "start_time": "2022-05-01T14:10:33.264Z"
   },
   {
    "duration": 13,
    "start_time": "2022-05-01T14:10:54.132Z"
   },
   {
    "duration": 15,
    "start_time": "2022-05-01T14:11:02.276Z"
   },
   {
    "duration": 16,
    "start_time": "2022-05-01T14:11:08.432Z"
   },
   {
    "duration": 17,
    "start_time": "2022-05-01T14:11:54.675Z"
   },
   {
    "duration": 14,
    "start_time": "2022-05-01T14:12:10.825Z"
   },
   {
    "duration": 240,
    "start_time": "2022-05-01T14:16:16.854Z"
   },
   {
    "duration": 234,
    "start_time": "2022-05-01T14:17:36.552Z"
   },
   {
    "duration": 11,
    "start_time": "2022-05-01T14:18:47.902Z"
   },
   {
    "duration": 745,
    "start_time": "2022-05-01T14:19:10.745Z"
   },
   {
    "duration": 15,
    "start_time": "2022-05-01T14:21:12.570Z"
   },
   {
    "duration": 14,
    "start_time": "2022-05-01T14:21:22.915Z"
   },
   {
    "duration": 163,
    "start_time": "2022-05-01T14:22:31.059Z"
   },
   {
    "duration": 190,
    "start_time": "2022-05-01T14:23:10.195Z"
   },
   {
    "duration": 2862,
    "start_time": "2022-05-01T14:24:03.948Z"
   },
   {
    "duration": 18,
    "start_time": "2022-05-01T14:24:33.744Z"
   },
   {
    "duration": 10,
    "start_time": "2022-05-01T14:27:03.772Z"
   },
   {
    "duration": 237,
    "start_time": "2022-05-01T14:27:14.276Z"
   },
   {
    "duration": 599,
    "start_time": "2022-05-01T14:32:17.410Z"
   },
   {
    "duration": 613,
    "start_time": "2022-05-01T14:34:20.131Z"
   },
   {
    "duration": 627,
    "start_time": "2022-05-01T14:34:28.334Z"
   },
   {
    "duration": 692,
    "start_time": "2022-05-01T14:34:34.294Z"
   },
   {
    "duration": 605,
    "start_time": "2022-05-01T14:34:48.314Z"
   },
   {
    "duration": 167,
    "start_time": "2022-05-01T14:35:19.858Z"
   },
   {
    "duration": 443,
    "start_time": "2022-05-01T14:35:51.639Z"
   },
   {
    "duration": 436,
    "start_time": "2022-05-01T14:36:37.658Z"
   },
   {
    "duration": 448,
    "start_time": "2022-05-01T14:36:49.895Z"
   },
   {
    "duration": 744,
    "start_time": "2022-05-01T14:37:06.855Z"
   },
   {
    "duration": 462,
    "start_time": "2022-05-01T14:37:30.423Z"
   },
   {
    "duration": 444,
    "start_time": "2022-05-01T14:40:21.503Z"
   },
   {
    "duration": 446,
    "start_time": "2022-05-01T14:40:32.252Z"
   },
   {
    "duration": 444,
    "start_time": "2022-05-01T14:40:40.656Z"
   },
   {
    "duration": 509,
    "start_time": "2022-05-01T14:41:11.980Z"
   },
   {
    "duration": 504,
    "start_time": "2022-05-01T14:41:22.528Z"
   },
   {
    "duration": 504,
    "start_time": "2022-05-01T14:42:21.405Z"
   },
   {
    "duration": 504,
    "start_time": "2022-05-01T14:42:27.232Z"
   },
   {
    "duration": 520,
    "start_time": "2022-05-01T14:44:02.221Z"
   },
   {
    "duration": 178,
    "start_time": "2022-05-01T14:48:25.605Z"
   },
   {
    "duration": 176,
    "start_time": "2022-05-01T14:48:41.542Z"
   },
   {
    "duration": 36,
    "start_time": "2022-05-01T14:48:51.986Z"
   },
   {
    "duration": 37,
    "start_time": "2022-05-01T14:50:41.983Z"
   },
   {
    "duration": 40,
    "start_time": "2022-05-01T14:50:58.343Z"
   },
   {
    "duration": 836,
    "start_time": "2022-05-01T14:51:32.135Z"
   },
   {
    "duration": 524,
    "start_time": "2022-05-01T14:52:44.616Z"
   },
   {
    "duration": 530,
    "start_time": "2022-05-01T14:52:59.883Z"
   },
   {
    "duration": 553,
    "start_time": "2022-05-01T14:54:16.100Z"
   },
   {
    "duration": 516,
    "start_time": "2022-05-01T14:59:42.657Z"
   },
   {
    "duration": 514,
    "start_time": "2022-05-01T15:00:38.597Z"
   },
   {
    "duration": 3,
    "start_time": "2022-05-01T15:09:14.084Z"
   },
   {
    "duration": 78,
    "start_time": "2022-05-01T15:09:14.089Z"
   },
   {
    "duration": 55,
    "start_time": "2022-05-01T15:09:14.168Z"
   },
   {
    "duration": 10,
    "start_time": "2022-05-01T15:09:14.224Z"
   },
   {
    "duration": 4,
    "start_time": "2022-05-01T15:09:14.236Z"
   },
   {
    "duration": 92,
    "start_time": "2022-05-01T15:09:14.242Z"
   },
   {
    "duration": 66,
    "start_time": "2022-05-01T15:09:14.336Z"
   },
   {
    "duration": 89,
    "start_time": "2022-05-01T15:09:14.404Z"
   },
   {
    "duration": 39,
    "start_time": "2022-05-01T15:09:14.494Z"
   },
   {
    "duration": 50,
    "start_time": "2022-05-01T15:09:14.535Z"
   },
   {
    "duration": 1060,
    "start_time": "2022-05-01T15:09:14.587Z"
   },
   {
    "duration": 523,
    "start_time": "2022-05-01T15:09:15.649Z"
   },
   {
    "duration": 1964,
    "start_time": "2022-05-02T09:41:31.350Z"
   },
   {
    "duration": 95,
    "start_time": "2022-05-02T09:41:33.316Z"
   },
   {
    "duration": 78,
    "start_time": "2022-05-02T09:41:33.413Z"
   },
   {
    "duration": 6,
    "start_time": "2022-05-02T09:41:33.493Z"
   },
   {
    "duration": 11,
    "start_time": "2022-05-02T09:41:33.503Z"
   },
   {
    "duration": 599,
    "start_time": "2022-05-02T09:41:33.516Z"
   },
   {
    "duration": 185,
    "start_time": "2022-05-02T09:41:34.117Z"
   },
   {
    "duration": 134,
    "start_time": "2022-05-02T09:41:34.304Z"
   },
   {
    "duration": 34,
    "start_time": "2022-05-02T09:41:34.452Z"
   },
   {
    "duration": 106,
    "start_time": "2022-05-02T09:41:34.488Z"
   },
   {
    "duration": 1664,
    "start_time": "2022-05-02T09:41:34.596Z"
   },
   {
    "duration": 771,
    "start_time": "2022-05-02T09:41:36.262Z"
   },
   {
    "duration": 1637,
    "start_time": "2022-05-02T09:41:57.609Z"
   },
   {
    "duration": 1508,
    "start_time": "2022-05-02T09:42:13.777Z"
   },
   {
    "duration": 1475,
    "start_time": "2022-05-02T09:42:20.445Z"
   },
   {
    "duration": 15,
    "start_time": "2022-05-02T09:43:22.828Z"
   },
   {
    "duration": 10,
    "start_time": "2022-05-02T09:44:29.774Z"
   },
   {
    "duration": 16,
    "start_time": "2022-05-02T09:45:04.909Z"
   },
   {
    "duration": 15,
    "start_time": "2022-05-02T10:01:02.387Z"
   },
   {
    "duration": 5,
    "start_time": "2022-05-02T10:02:50.851Z"
   },
   {
    "duration": 6,
    "start_time": "2022-05-02T10:03:32.298Z"
   },
   {
    "duration": 4,
    "start_time": "2022-05-02T10:05:49.680Z"
   },
   {
    "duration": 230,
    "start_time": "2022-05-02T10:05:51.730Z"
   },
   {
    "duration": 5,
    "start_time": "2022-05-02T10:06:12.459Z"
   },
   {
    "duration": 5,
    "start_time": "2022-05-02T10:06:55.664Z"
   },
   {
    "duration": 5,
    "start_time": "2022-05-02T10:07:08.848Z"
   },
   {
    "duration": 6,
    "start_time": "2022-05-02T10:09:16.481Z"
   },
   {
    "duration": 6,
    "start_time": "2022-05-02T10:09:20.366Z"
   },
   {
    "duration": 5,
    "start_time": "2022-05-02T10:10:24.693Z"
   },
   {
    "duration": 4,
    "start_time": "2022-05-02T10:10:29.493Z"
   },
   {
    "duration": 452,
    "start_time": "2022-05-02T10:11:33.234Z"
   },
   {
    "duration": 330,
    "start_time": "2022-05-02T10:12:40.925Z"
   },
   {
    "duration": 193,
    "start_time": "2022-05-02T10:13:02.515Z"
   },
   {
    "duration": 4,
    "start_time": "2022-05-02T10:13:38.630Z"
   },
   {
    "duration": 97,
    "start_time": "2022-05-02T10:13:38.638Z"
   },
   {
    "duration": 78,
    "start_time": "2022-05-02T10:13:38.737Z"
   },
   {
    "duration": 5,
    "start_time": "2022-05-02T10:13:38.818Z"
   },
   {
    "duration": 27,
    "start_time": "2022-05-02T10:13:38.825Z"
   },
   {
    "duration": 118,
    "start_time": "2022-05-02T10:13:38.854Z"
   },
   {
    "duration": 129,
    "start_time": "2022-05-02T10:13:38.974Z"
   },
   {
    "duration": 124,
    "start_time": "2022-05-02T10:13:39.105Z"
   },
   {
    "duration": 46,
    "start_time": "2022-05-02T10:13:39.233Z"
   },
   {
    "duration": 90,
    "start_time": "2022-05-02T10:13:39.282Z"
   },
   {
    "duration": 1634,
    "start_time": "2022-05-02T10:13:39.374Z"
   },
   {
    "duration": 765,
    "start_time": "2022-05-02T10:13:41.010Z"
   },
   {
    "duration": 12,
    "start_time": "2022-05-02T10:13:41.777Z"
   },
   {
    "duration": 15,
    "start_time": "2022-05-02T10:13:41.791Z"
   },
   {
    "duration": 8,
    "start_time": "2022-05-02T10:13:41.808Z"
   },
   {
    "duration": 37,
    "start_time": "2022-05-02T10:13:41.818Z"
   },
   {
    "duration": 5,
    "start_time": "2022-05-02T10:13:41.858Z"
   },
   {
    "duration": 4,
    "start_time": "2022-05-02T10:15:20.432Z"
   },
   {
    "duration": 170,
    "start_time": "2022-05-02T10:15:28.959Z"
   },
   {
    "duration": 31,
    "start_time": "2022-05-02T10:15:50.516Z"
   },
   {
    "duration": 303,
    "start_time": "2022-05-02T10:16:29.388Z"
   },
   {
    "duration": 27,
    "start_time": "2022-05-02T10:16:42.992Z"
   },
   {
    "duration": 178,
    "start_time": "2022-05-02T10:16:49.756Z"
   },
   {
    "duration": 5,
    "start_time": "2022-05-02T10:18:28.016Z"
   },
   {
    "duration": 242,
    "start_time": "2022-05-02T10:18:30.964Z"
   },
   {
    "duration": 87,
    "start_time": "2022-05-02T10:19:19.685Z"
   },
   {
    "duration": 103,
    "start_time": "2022-05-02T10:21:03.501Z"
   },
   {
    "duration": 117,
    "start_time": "2022-05-02T10:21:35.549Z"
   },
   {
    "duration": 5,
    "start_time": "2022-05-02T10:22:18.329Z"
   },
   {
    "duration": 22,
    "start_time": "2022-05-02T10:22:39.166Z"
   },
   {
    "duration": 5,
    "start_time": "2022-05-02T10:23:47.310Z"
   },
   {
    "duration": 485,
    "start_time": "2022-05-02T10:24:20.166Z"
   },
   {
    "duration": 5,
    "start_time": "2022-05-02T10:31:16.933Z"
   },
   {
    "duration": 93,
    "start_time": "2022-05-02T10:31:16.940Z"
   },
   {
    "duration": 84,
    "start_time": "2022-05-02T10:31:17.036Z"
   },
   {
    "duration": 6,
    "start_time": "2022-05-02T10:31:17.123Z"
   },
   {
    "duration": 6,
    "start_time": "2022-05-02T10:31:17.152Z"
   },
   {
    "duration": 123,
    "start_time": "2022-05-02T10:31:17.160Z"
   },
   {
    "duration": 121,
    "start_time": "2022-05-02T10:31:17.285Z"
   },
   {
    "duration": 127,
    "start_time": "2022-05-02T10:31:17.410Z"
   },
   {
    "duration": 47,
    "start_time": "2022-05-02T10:31:17.540Z"
   },
   {
    "duration": 109,
    "start_time": "2022-05-02T10:31:17.589Z"
   },
   {
    "duration": 1793,
    "start_time": "2022-05-02T10:31:17.701Z"
   },
   {
    "duration": 784,
    "start_time": "2022-05-02T10:31:19.497Z"
   },
   {
    "duration": 12,
    "start_time": "2022-05-02T10:31:20.283Z"
   },
   {
    "duration": 6,
    "start_time": "2022-05-02T10:31:20.297Z"
   },
   {
    "duration": 12,
    "start_time": "2022-05-02T10:31:20.305Z"
   },
   {
    "duration": 34,
    "start_time": "2022-05-02T10:31:20.319Z"
   },
   {
    "duration": 7,
    "start_time": "2022-05-02T10:31:20.355Z"
   },
   {
    "duration": 12,
    "start_time": "2022-05-02T10:31:53.604Z"
   },
   {
    "duration": 5,
    "start_time": "2022-05-02T10:32:14.697Z"
   },
   {
    "duration": 22211,
    "start_time": "2022-05-02T10:32:17.456Z"
   },
   {
    "duration": 19,
    "start_time": "2022-05-02T10:32:39.671Z"
   },
   {
    "duration": 5,
    "start_time": "2022-05-02T10:33:18.237Z"
   },
   {
    "duration": 872,
    "start_time": "2022-05-02T10:33:21.054Z"
   },
   {
    "duration": 20,
    "start_time": "2022-05-02T10:33:23.485Z"
   },
   {
    "duration": 924,
    "start_time": "2022-05-02T10:35:08.309Z"
   },
   {
    "duration": 24,
    "start_time": "2022-05-02T10:38:13.791Z"
   },
   {
    "duration": 15490,
    "start_time": "2022-05-02T10:41:03.745Z"
   },
   {
    "duration": 847,
    "start_time": "2022-05-02T10:41:48.171Z"
   },
   {
    "duration": 854,
    "start_time": "2022-05-02T10:43:20.881Z"
   },
   {
    "duration": 498,
    "start_time": "2022-05-02T10:45:23.448Z"
   },
   {
    "duration": 98,
    "start_time": "2022-05-02T10:45:49.197Z"
   },
   {
    "duration": 501,
    "start_time": "2022-05-02T10:45:56.588Z"
   },
   {
    "duration": 30,
    "start_time": "2022-05-02T10:49:06.105Z"
   },
   {
    "duration": 524,
    "start_time": "2022-05-02T10:49:27.686Z"
   },
   {
    "duration": 1154,
    "start_time": "2022-05-02T10:50:03.361Z"
   },
   {
    "duration": 542,
    "start_time": "2022-05-02T10:50:31.965Z"
   },
   {
    "duration": 864,
    "start_time": "2022-05-02T10:51:33.630Z"
   },
   {
    "duration": 17,
    "start_time": "2022-05-02T10:52:08.654Z"
   },
   {
    "duration": 23,
    "start_time": "2022-05-02T10:52:20.498Z"
   },
   {
    "duration": 33,
    "start_time": "2022-05-02T10:52:37.794Z"
   },
   {
    "duration": 17,
    "start_time": "2022-05-02T10:57:16.743Z"
   },
   {
    "duration": 8,
    "start_time": "2022-05-02T11:01:26.112Z"
   },
   {
    "duration": 266,
    "start_time": "2022-05-02T11:05:35.817Z"
   },
   {
    "duration": 243,
    "start_time": "2022-05-02T11:05:59.205Z"
   },
   {
    "duration": 358,
    "start_time": "2022-05-02T11:06:15.922Z"
   },
   {
    "duration": 371,
    "start_time": "2022-05-02T11:06:31.413Z"
   },
   {
    "duration": 397,
    "start_time": "2022-05-02T11:06:56.146Z"
   },
   {
    "duration": 398,
    "start_time": "2022-05-02T11:07:08.106Z"
   },
   {
    "duration": 27,
    "start_time": "2022-05-02T11:14:37.419Z"
   },
   {
    "duration": 26,
    "start_time": "2022-05-02T11:15:45.796Z"
   },
   {
    "duration": 12,
    "start_time": "2022-05-02T11:15:59.587Z"
   },
   {
    "duration": 4,
    "start_time": "2022-05-02T11:39:10.531Z"
   },
   {
    "duration": 13,
    "start_time": "2022-05-02T11:39:15.063Z"
   },
   {
    "duration": 4,
    "start_time": "2022-05-02T11:39:33.571Z"
   },
   {
    "duration": 113,
    "start_time": "2022-05-02T11:39:33.578Z"
   },
   {
    "duration": 103,
    "start_time": "2022-05-02T11:39:33.694Z"
   },
   {
    "duration": 7,
    "start_time": "2022-05-02T11:39:33.801Z"
   },
   {
    "duration": 13,
    "start_time": "2022-05-02T11:39:33.811Z"
   },
   {
    "duration": 270,
    "start_time": "2022-05-02T11:39:33.827Z"
   },
   {
    "duration": 117,
    "start_time": "2022-05-02T11:39:34.100Z"
   },
   {
    "duration": 121,
    "start_time": "2022-05-02T11:39:34.219Z"
   },
   {
    "duration": 32,
    "start_time": "2022-05-02T11:39:34.352Z"
   },
   {
    "duration": 89,
    "start_time": "2022-05-02T11:39:34.387Z"
   },
   {
    "duration": 2279,
    "start_time": "2022-05-02T11:39:34.479Z"
   },
   {
    "duration": 1201,
    "start_time": "2022-05-02T11:39:36.762Z"
   },
   {
    "duration": 22009,
    "start_time": "2022-05-02T11:39:37.965Z"
   },
   {
    "duration": 15276,
    "start_time": "2022-05-02T11:39:59.977Z"
   },
   {
    "duration": 4,
    "start_time": "2022-05-02T11:40:15.257Z"
   },
   {
    "duration": 37,
    "start_time": "2022-05-02T11:40:15.264Z"
   },
   {
    "duration": 15,
    "start_time": "2022-05-02T11:40:15.303Z"
   },
   {
    "duration": 53,
    "start_time": "2022-05-02T11:40:15.320Z"
   },
   {
    "duration": 24,
    "start_time": "2022-05-02T11:41:36.947Z"
   },
   {
    "duration": 4,
    "start_time": "2022-05-02T11:41:41.676Z"
   },
   {
    "duration": 25,
    "start_time": "2022-05-02T11:41:52.168Z"
   },
   {
    "duration": 104,
    "start_time": "2022-05-02T12:08:25.010Z"
   },
   {
    "duration": 107,
    "start_time": "2022-05-02T12:08:42.500Z"
   },
   {
    "duration": 92,
    "start_time": "2022-05-02T12:10:34.544Z"
   },
   {
    "duration": 91,
    "start_time": "2022-05-02T12:10:57.636Z"
   },
   {
    "duration": 5,
    "start_time": "2022-05-02T12:11:05.209Z"
   },
   {
    "duration": 106,
    "start_time": "2022-05-02T12:12:21.373Z"
   },
   {
    "duration": 109,
    "start_time": "2022-05-02T12:13:46.109Z"
   },
   {
    "duration": 1598,
    "start_time": "2022-05-02T12:51:47.376Z"
   },
   {
    "duration": 102,
    "start_time": "2022-05-02T12:51:48.977Z"
   },
   {
    "duration": 142,
    "start_time": "2022-05-02T12:51:49.082Z"
   },
   {
    "duration": 8,
    "start_time": "2022-05-02T12:51:49.227Z"
   },
   {
    "duration": 5,
    "start_time": "2022-05-02T12:51:49.251Z"
   },
   {
    "duration": 587,
    "start_time": "2022-05-02T12:51:49.259Z"
   },
   {
    "duration": 116,
    "start_time": "2022-05-02T12:51:49.849Z"
   },
   {
    "duration": 112,
    "start_time": "2022-05-02T12:51:49.967Z"
   },
   {
    "duration": 44,
    "start_time": "2022-05-02T12:51:50.081Z"
   },
   {
    "duration": 76,
    "start_time": "2022-05-02T12:51:50.129Z"
   },
   {
    "duration": 2775,
    "start_time": "2022-05-02T12:51:50.208Z"
   },
   {
    "duration": 791,
    "start_time": "2022-05-02T12:51:52.985Z"
   },
   {
    "duration": 0,
    "start_time": "2022-05-02T12:56:27.690Z"
   },
   {
    "duration": 20,
    "start_time": "2022-05-02T12:57:02.826Z"
   },
   {
    "duration": 1617,
    "start_time": "2022-05-02T13:04:19.064Z"
   },
   {
    "duration": 106,
    "start_time": "2022-05-02T13:04:20.684Z"
   },
   {
    "duration": 88,
    "start_time": "2022-05-02T13:04:20.792Z"
   },
   {
    "duration": 7,
    "start_time": "2022-05-02T13:04:20.882Z"
   },
   {
    "duration": 14,
    "start_time": "2022-05-02T13:04:20.891Z"
   },
   {
    "duration": 750,
    "start_time": "2022-05-02T13:04:20.907Z"
   },
   {
    "duration": 212,
    "start_time": "2022-05-02T13:04:21.659Z"
   },
   {
    "duration": 157,
    "start_time": "2022-05-02T13:04:21.874Z"
   },
   {
    "duration": 67,
    "start_time": "2022-05-02T13:04:22.034Z"
   },
   {
    "duration": 137,
    "start_time": "2022-05-02T13:04:22.105Z"
   },
   {
    "duration": 1562,
    "start_time": "2022-05-02T13:04:22.244Z"
   },
   {
    "duration": 801,
    "start_time": "2022-05-02T13:04:23.808Z"
   },
   {
    "duration": 15203,
    "start_time": "2022-05-02T13:04:24.611Z"
   },
   {
    "duration": 15545,
    "start_time": "2022-05-02T13:04:39.816Z"
   },
   {
    "duration": 16,
    "start_time": "2022-05-02T13:04:55.364Z"
   },
   {
    "duration": 11,
    "start_time": "2022-05-02T13:05:53.493Z"
   },
   {
    "duration": 29,
    "start_time": "2022-05-02T13:06:39.813Z"
   },
   {
    "duration": 38,
    "start_time": "2022-05-02T13:06:57.685Z"
   },
   {
    "duration": 16,
    "start_time": "2022-05-02T13:07:33.491Z"
   },
   {
    "duration": 26,
    "start_time": "2022-05-02T13:07:58.225Z"
   },
   {
    "duration": 28,
    "start_time": "2022-05-02T13:08:20.037Z"
   },
   {
    "duration": 533,
    "start_time": "2022-05-02T14:08:49.288Z"
   },
   {
    "duration": 264,
    "start_time": "2022-05-02T14:11:54.530Z"
   },
   {
    "duration": 31,
    "start_time": "2022-05-02T14:12:29.482Z"
   },
   {
    "duration": 622,
    "start_time": "2022-05-02T14:13:28.616Z"
   },
   {
    "duration": 35,
    "start_time": "2022-05-02T14:15:08.043Z"
   },
   {
    "duration": 39,
    "start_time": "2022-05-02T14:15:21.651Z"
   },
   {
    "duration": 17,
    "start_time": "2022-05-02T14:18:15.524Z"
   },
   {
    "duration": 96,
    "start_time": "2022-05-02T14:19:00.780Z"
   },
   {
    "duration": 27,
    "start_time": "2022-05-02T14:19:13.466Z"
   },
   {
    "duration": 20,
    "start_time": "2022-05-02T14:19:50.117Z"
   },
   {
    "duration": 21,
    "start_time": "2022-05-02T14:19:59.204Z"
   },
   {
    "duration": 1133,
    "start_time": "2022-05-02T14:20:08.917Z"
   },
   {
    "duration": 32,
    "start_time": "2022-05-02T14:21:10.092Z"
   },
   {
    "duration": 17,
    "start_time": "2022-05-02T14:22:03.466Z"
   },
   {
    "duration": 24,
    "start_time": "2022-05-02T14:22:57.435Z"
   },
   {
    "duration": 30,
    "start_time": "2022-05-02T14:23:09.473Z"
   },
   {
    "duration": 126,
    "start_time": "2022-05-02T14:33:24.816Z"
   },
   {
    "duration": 6,
    "start_time": "2022-05-02T14:35:21.067Z"
   },
   {
    "duration": 108,
    "start_time": "2022-05-02T14:41:16.897Z"
   },
   {
    "duration": 93,
    "start_time": "2022-05-02T14:55:48.163Z"
   },
   {
    "duration": 42,
    "start_time": "2022-05-02T14:57:19.523Z"
   },
   {
    "duration": 76,
    "start_time": "2022-05-02T14:58:49.831Z"
   },
   {
    "duration": 19,
    "start_time": "2022-05-02T15:10:07.198Z"
   },
   {
    "duration": 21,
    "start_time": "2022-05-02T15:10:15.358Z"
   },
   {
    "duration": 21,
    "start_time": "2022-05-02T15:13:46.014Z"
   },
   {
    "duration": 22,
    "start_time": "2022-05-02T15:14:01.566Z"
   },
   {
    "duration": 19,
    "start_time": "2022-05-02T15:14:10.159Z"
   },
   {
    "duration": 5,
    "start_time": "2022-05-02T15:16:56.456Z"
   },
   {
    "duration": 1106,
    "start_time": "2022-05-02T15:18:25.481Z"
   },
   {
    "duration": 113,
    "start_time": "2022-05-02T15:24:29.703Z"
   },
   {
    "duration": 27,
    "start_time": "2022-05-02T15:25:18.570Z"
   },
   {
    "duration": 23,
    "start_time": "2022-05-02T15:28:38.988Z"
   },
   {
    "duration": 1460,
    "start_time": "2022-05-02T16:17:55.751Z"
   },
   {
    "duration": 651,
    "start_time": "2022-05-02T16:17:57.213Z"
   },
   {
    "duration": 56,
    "start_time": "2022-05-02T16:17:57.865Z"
   },
   {
    "duration": 10,
    "start_time": "2022-05-02T16:17:57.923Z"
   },
   {
    "duration": 5,
    "start_time": "2022-05-02T16:17:57.935Z"
   },
   {
    "duration": 407,
    "start_time": "2022-05-02T16:17:57.941Z"
   },
   {
    "duration": 113,
    "start_time": "2022-05-02T16:17:58.350Z"
   },
   {
    "duration": 115,
    "start_time": "2022-05-02T16:17:58.465Z"
   },
   {
    "duration": 25,
    "start_time": "2022-05-02T16:17:58.581Z"
   },
   {
    "duration": 72,
    "start_time": "2022-05-02T16:17:58.609Z"
   },
   {
    "duration": 1192,
    "start_time": "2022-05-02T16:17:58.683Z"
   },
   {
    "duration": 534,
    "start_time": "2022-05-02T16:17:59.877Z"
   },
   {
    "duration": 7988,
    "start_time": "2022-05-02T16:18:00.413Z"
   },
   {
    "duration": 7614,
    "start_time": "2022-05-02T16:18:08.403Z"
   },
   {
    "duration": 70,
    "start_time": "2022-05-02T16:18:16.018Z"
   },
   {
    "duration": 4109,
    "start_time": "2022-05-02T16:18:16.090Z"
   },
   {
    "duration": 4162,
    "start_time": "2022-05-02T16:19:34.494Z"
   },
   {
    "duration": 3,
    "start_time": "2022-05-02T16:19:58.367Z"
   },
   {
    "duration": 88,
    "start_time": "2022-05-02T16:19:58.374Z"
   },
   {
    "duration": 54,
    "start_time": "2022-05-02T16:19:58.464Z"
   },
   {
    "duration": 14,
    "start_time": "2022-05-02T16:19:58.520Z"
   },
   {
    "duration": 6,
    "start_time": "2022-05-02T16:19:58.536Z"
   },
   {
    "duration": 91,
    "start_time": "2022-05-02T16:19:58.545Z"
   },
   {
    "duration": 68,
    "start_time": "2022-05-02T16:19:58.638Z"
   },
   {
    "duration": 74,
    "start_time": "2022-05-02T16:19:58.708Z"
   },
   {
    "duration": 24,
    "start_time": "2022-05-02T16:19:58.784Z"
   },
   {
    "duration": 52,
    "start_time": "2022-05-02T16:19:58.810Z"
   },
   {
    "duration": 1208,
    "start_time": "2022-05-02T16:19:58.864Z"
   },
   {
    "duration": 535,
    "start_time": "2022-05-02T16:20:00.074Z"
   },
   {
    "duration": 8633,
    "start_time": "2022-05-02T16:20:00.610Z"
   },
   {
    "duration": 8158,
    "start_time": "2022-05-02T16:20:09.244Z"
   },
   {
    "duration": 69,
    "start_time": "2022-05-02T16:20:17.405Z"
   },
   {
    "duration": 6704,
    "start_time": "2022-05-02T16:20:17.476Z"
   },
   {
    "duration": 4061,
    "start_time": "2022-05-02T16:22:43.631Z"
   },
   {
    "duration": 3863,
    "start_time": "2022-05-02T16:25:23.060Z"
   },
   {
    "duration": 1361,
    "start_time": "2022-05-03T08:39:15.607Z"
   },
   {
    "duration": 68,
    "start_time": "2022-05-03T08:39:16.970Z"
   },
   {
    "duration": 46,
    "start_time": "2022-05-03T08:39:17.039Z"
   },
   {
    "duration": 4,
    "start_time": "2022-05-03T08:39:17.087Z"
   },
   {
    "duration": 6,
    "start_time": "2022-05-03T08:39:17.093Z"
   },
   {
    "duration": 393,
    "start_time": "2022-05-03T08:39:17.101Z"
   },
   {
    "duration": 153,
    "start_time": "2022-05-03T08:39:17.496Z"
   },
   {
    "duration": 120,
    "start_time": "2022-05-03T08:39:17.651Z"
   },
   {
    "duration": 34,
    "start_time": "2022-05-03T08:39:17.773Z"
   },
   {
    "duration": 73,
    "start_time": "2022-05-03T08:39:17.823Z"
   },
   {
    "duration": 1687,
    "start_time": "2022-05-03T08:39:17.898Z"
   },
   {
    "duration": 780,
    "start_time": "2022-05-03T08:39:19.587Z"
   },
   {
    "duration": 12430,
    "start_time": "2022-05-03T08:39:20.369Z"
   },
   {
    "duration": 8004,
    "start_time": "2022-05-03T08:39:32.800Z"
   },
   {
    "duration": 73,
    "start_time": "2022-05-03T08:39:40.806Z"
   },
   {
    "duration": 3160,
    "start_time": "2022-05-03T08:39:40.881Z"
   },
   {
    "duration": 3,
    "start_time": "2022-05-03T08:44:05.627Z"
   },
   {
    "duration": 71,
    "start_time": "2022-05-03T08:44:05.634Z"
   },
   {
    "duration": 87,
    "start_time": "2022-05-03T08:44:05.708Z"
   },
   {
    "duration": 5,
    "start_time": "2022-05-03T08:44:05.797Z"
   },
   {
    "duration": 21,
    "start_time": "2022-05-03T08:44:05.805Z"
   },
   {
    "duration": 117,
    "start_time": "2022-05-03T08:44:05.828Z"
   },
   {
    "duration": 112,
    "start_time": "2022-05-03T08:44:05.947Z"
   },
   {
    "duration": 105,
    "start_time": "2022-05-03T08:44:06.061Z"
   },
   {
    "duration": 34,
    "start_time": "2022-05-03T08:44:06.168Z"
   },
   {
    "duration": 84,
    "start_time": "2022-05-03T08:44:06.204Z"
   },
   {
    "duration": 1581,
    "start_time": "2022-05-03T08:44:06.292Z"
   },
   {
    "duration": 491,
    "start_time": "2022-05-03T08:44:07.875Z"
   },
   {
    "duration": 11267,
    "start_time": "2022-05-03T08:44:08.368Z"
   },
   {
    "duration": 10855,
    "start_time": "2022-05-03T08:44:19.637Z"
   },
   {
    "duration": 77,
    "start_time": "2022-05-03T08:44:30.494Z"
   },
   {
    "duration": 2009,
    "start_time": "2022-05-03T08:44:30.573Z"
   },
   {
    "duration": 2733,
    "start_time": "2022-05-03T09:13:26.397Z"
   },
   {
    "duration": 2009,
    "start_time": "2022-05-03T09:13:44.965Z"
   },
   {
    "duration": 2039,
    "start_time": "2022-05-03T09:16:11.098Z"
   },
   {
    "duration": 1963,
    "start_time": "2022-05-03T09:16:45.978Z"
   },
   {
    "duration": 2010,
    "start_time": "2022-05-03T09:17:15.426Z"
   },
   {
    "duration": 1934,
    "start_time": "2022-05-03T09:18:04.291Z"
   },
   {
    "duration": 1967,
    "start_time": "2022-05-03T09:19:13.531Z"
   },
   {
    "duration": 2477,
    "start_time": "2022-05-03T09:20:41.903Z"
   },
   {
    "duration": 1961,
    "start_time": "2022-05-03T09:21:54.909Z"
   },
   {
    "duration": 2169,
    "start_time": "2022-05-03T09:22:22.272Z"
   },
   {
    "duration": 1965,
    "start_time": "2022-05-03T09:23:56.337Z"
   },
   {
    "duration": 1873,
    "start_time": "2022-05-03T09:24:39.168Z"
   },
   {
    "duration": 3035,
    "start_time": "2022-05-03T09:27:13.537Z"
   },
   {
    "duration": 1834,
    "start_time": "2022-05-03T09:27:42.046Z"
   },
   {
    "duration": 1939,
    "start_time": "2022-05-03T09:28:15.830Z"
   },
   {
    "duration": 2058,
    "start_time": "2022-05-03T09:31:12.907Z"
   },
   {
    "duration": 2220,
    "start_time": "2022-05-03T09:32:28.706Z"
   },
   {
    "duration": 1922,
    "start_time": "2022-05-03T09:32:59.834Z"
   },
   {
    "duration": 2091,
    "start_time": "2022-05-03T09:34:06.499Z"
   },
   {
    "duration": 21,
    "start_time": "2022-05-03T09:46:31.323Z"
   },
   {
    "duration": 26,
    "start_time": "2022-05-03T09:47:09.231Z"
   },
   {
    "duration": 20,
    "start_time": "2022-05-03T09:49:35.597Z"
   },
   {
    "duration": 22,
    "start_time": "2022-05-03T09:49:56.060Z"
   },
   {
    "duration": 16,
    "start_time": "2022-05-03T09:50:13.512Z"
   },
   {
    "duration": 24,
    "start_time": "2022-05-03T09:51:15.440Z"
   },
   {
    "duration": 13,
    "start_time": "2022-05-03T09:51:59.900Z"
   },
   {
    "duration": 6,
    "start_time": "2022-05-03T09:56:54.030Z"
   },
   {
    "duration": 2067,
    "start_time": "2022-05-03T09:59:06.143Z"
   },
   {
    "duration": 1950,
    "start_time": "2022-05-03T09:59:34.731Z"
   },
   {
    "duration": 2033,
    "start_time": "2022-05-03T09:59:47.495Z"
   },
   {
    "duration": 1948,
    "start_time": "2022-05-03T10:00:21.935Z"
   },
   {
    "duration": 2156,
    "start_time": "2022-05-03T10:00:29.589Z"
   },
   {
    "duration": 2107,
    "start_time": "2022-05-03T10:00:41.051Z"
   },
   {
    "duration": 1991,
    "start_time": "2022-05-03T10:01:25.368Z"
   },
   {
    "duration": 1928,
    "start_time": "2022-05-03T10:02:37.184Z"
   },
   {
    "duration": 1902,
    "start_time": "2022-05-03T10:03:23.249Z"
   },
   {
    "duration": 5,
    "start_time": "2022-05-03T10:03:35.220Z"
   },
   {
    "duration": 2050,
    "start_time": "2022-05-03T10:04:10.675Z"
   },
   {
    "duration": 5,
    "start_time": "2022-05-03T10:04:19.464Z"
   },
   {
    "duration": 9400,
    "start_time": "2022-05-03T10:05:29.849Z"
   },
   {
    "duration": 3212,
    "start_time": "2022-05-03T10:10:15.732Z"
   },
   {
    "duration": 6,
    "start_time": "2022-05-03T10:10:25.690Z"
   },
   {
    "duration": 10767,
    "start_time": "2022-05-03T10:10:28.822Z"
   },
   {
    "duration": 123,
    "start_time": "2022-05-03T10:15:42.394Z"
   },
   {
    "duration": 9135,
    "start_time": "2022-05-03T10:16:51.830Z"
   },
   {
    "duration": 8,
    "start_time": "2022-05-03T10:36:26.785Z"
   },
   {
    "duration": 10,
    "start_time": "2022-05-03T10:37:12.429Z"
   },
   {
    "duration": 9,
    "start_time": "2022-05-03T10:39:16.485Z"
   },
   {
    "duration": 14,
    "start_time": "2022-05-03T10:40:06.854Z"
   },
   {
    "duration": 8,
    "start_time": "2022-05-03T10:41:00.246Z"
   },
   {
    "duration": 27,
    "start_time": "2022-05-03T10:43:15.187Z"
   },
   {
    "duration": 3,
    "start_time": "2022-05-03T10:44:13.376Z"
   },
   {
    "duration": 86,
    "start_time": "2022-05-03T10:44:13.380Z"
   },
   {
    "duration": 62,
    "start_time": "2022-05-03T10:44:13.467Z"
   },
   {
    "duration": 9,
    "start_time": "2022-05-03T10:44:13.531Z"
   },
   {
    "duration": 6,
    "start_time": "2022-05-03T10:44:13.542Z"
   },
   {
    "duration": 81,
    "start_time": "2022-05-03T10:44:13.550Z"
   },
   {
    "duration": 65,
    "start_time": "2022-05-03T10:44:13.632Z"
   },
   {
    "duration": 85,
    "start_time": "2022-05-03T10:44:13.698Z"
   },
   {
    "duration": 24,
    "start_time": "2022-05-03T10:44:13.786Z"
   },
   {
    "duration": 56,
    "start_time": "2022-05-03T10:44:13.811Z"
   },
   {
    "duration": 1023,
    "start_time": "2022-05-03T10:44:13.868Z"
   },
   {
    "duration": 457,
    "start_time": "2022-05-03T10:44:14.892Z"
   },
   {
    "duration": 8072,
    "start_time": "2022-05-03T10:44:15.351Z"
   },
   {
    "duration": 7983,
    "start_time": "2022-05-03T10:44:23.425Z"
   },
   {
    "duration": 75,
    "start_time": "2022-05-03T10:44:31.410Z"
   },
   {
    "duration": 3541,
    "start_time": "2022-05-03T10:44:31.486Z"
   },
   {
    "duration": 4,
    "start_time": "2022-05-03T10:44:35.028Z"
   },
   {
    "duration": 9415,
    "start_time": "2022-05-03T10:44:35.033Z"
   },
   {
    "duration": 8955,
    "start_time": "2022-05-03T10:44:44.450Z"
   },
   {
    "duration": 9,
    "start_time": "2022-05-03T10:44:53.406Z"
   },
   {
    "duration": 11,
    "start_time": "2022-05-03T10:44:53.424Z"
   },
   {
    "duration": 9,
    "start_time": "2022-05-03T10:44:53.436Z"
   },
   {
    "duration": 11,
    "start_time": "2022-05-03T10:44:53.446Z"
   },
   {
    "duration": 6,
    "start_time": "2022-05-03T10:46:12.000Z"
   },
   {
    "duration": 3,
    "start_time": "2022-05-03T10:46:45.426Z"
   },
   {
    "duration": 5,
    "start_time": "2022-05-03T10:49:13.025Z"
   },
   {
    "duration": 7,
    "start_time": "2022-05-03T10:49:45.273Z"
   },
   {
    "duration": 5,
    "start_time": "2022-05-03T10:49:57.414Z"
   },
   {
    "duration": 28,
    "start_time": "2022-05-03T10:50:04.426Z"
   },
   {
    "duration": 4,
    "start_time": "2022-05-03T10:51:11.998Z"
   },
   {
    "duration": 16,
    "start_time": "2022-05-03T10:51:32.422Z"
   },
   {
    "duration": 14,
    "start_time": "2022-05-03T10:52:59.535Z"
   },
   {
    "duration": 6,
    "start_time": "2022-05-03T10:53:22.070Z"
   },
   {
    "duration": 9,
    "start_time": "2022-05-03T10:54:11.846Z"
   },
   {
    "duration": 9,
    "start_time": "2022-05-03T10:58:41.628Z"
   },
   {
    "duration": 7,
    "start_time": "2022-05-03T10:59:00.640Z"
   },
   {
    "duration": 4,
    "start_time": "2022-05-03T11:02:11.606Z"
   },
   {
    "duration": 16,
    "start_time": "2022-05-03T11:02:18.626Z"
   },
   {
    "duration": 5,
    "start_time": "2022-05-03T11:02:38.732Z"
   },
   {
    "duration": 4,
    "start_time": "2022-05-03T11:02:48.942Z"
   },
   {
    "duration": 137,
    "start_time": "2022-05-03T11:03:02.878Z"
   },
   {
    "duration": 6,
    "start_time": "2022-05-03T11:03:07.770Z"
   },
   {
    "duration": 6,
    "start_time": "2022-05-03T11:04:02.210Z"
   },
   {
    "duration": 5,
    "start_time": "2022-05-03T11:04:11.709Z"
   },
   {
    "duration": 6,
    "start_time": "2022-05-03T11:04:38.254Z"
   },
   {
    "duration": 100,
    "start_time": "2022-05-03T11:09:52.954Z"
   },
   {
    "duration": 54,
    "start_time": "2022-05-03T11:10:08.704Z"
   },
   {
    "duration": 4,
    "start_time": "2022-05-03T11:11:18.048Z"
   },
   {
    "duration": 85,
    "start_time": "2022-05-03T11:11:18.054Z"
   },
   {
    "duration": 96,
    "start_time": "2022-05-03T11:11:18.142Z"
   },
   {
    "duration": 5,
    "start_time": "2022-05-03T11:11:18.241Z"
   },
   {
    "duration": 12,
    "start_time": "2022-05-03T11:11:18.248Z"
   },
   {
    "duration": 78,
    "start_time": "2022-05-03T11:11:18.262Z"
   },
   {
    "duration": 82,
    "start_time": "2022-05-03T11:11:18.342Z"
   },
   {
    "duration": 70,
    "start_time": "2022-05-03T11:11:18.426Z"
   },
   {
    "duration": 46,
    "start_time": "2022-05-03T11:11:18.498Z"
   },
   {
    "duration": 47,
    "start_time": "2022-05-03T11:11:18.546Z"
   },
   {
    "duration": 1081,
    "start_time": "2022-05-03T11:11:18.597Z"
   },
   {
    "duration": 487,
    "start_time": "2022-05-03T11:11:19.680Z"
   },
   {
    "duration": 8375,
    "start_time": "2022-05-03T11:11:20.168Z"
   },
   {
    "duration": 8308,
    "start_time": "2022-05-03T11:11:28.545Z"
   },
   {
    "duration": 82,
    "start_time": "2022-05-03T11:11:36.855Z"
   },
   {
    "duration": 3515,
    "start_time": "2022-05-03T11:11:36.939Z"
   },
   {
    "duration": 4,
    "start_time": "2022-05-03T11:11:40.456Z"
   },
   {
    "duration": 8809,
    "start_time": "2022-05-03T11:11:40.462Z"
   },
   {
    "duration": 9021,
    "start_time": "2022-05-03T11:11:49.273Z"
   },
   {
    "duration": 8,
    "start_time": "2022-05-03T11:11:58.296Z"
   },
   {
    "duration": 19,
    "start_time": "2022-05-03T11:11:58.306Z"
   },
   {
    "duration": 4,
    "start_time": "2022-05-03T11:11:58.327Z"
   },
   {
    "duration": 23,
    "start_time": "2022-05-03T11:11:58.333Z"
   },
   {
    "duration": 9,
    "start_time": "2022-05-03T11:11:58.358Z"
   },
   {
    "duration": 112,
    "start_time": "2022-05-03T11:11:58.369Z"
   },
   {
    "duration": 14,
    "start_time": "2022-05-03T11:11:58.483Z"
   },
   {
    "duration": 2011,
    "start_time": "2022-05-03T11:12:58.553Z"
   },
   {
    "duration": 2148,
    "start_time": "2022-05-03T11:14:15.542Z"
   },
   {
    "duration": 2094,
    "start_time": "2022-05-03T11:14:40.605Z"
   },
   {
    "duration": 2045,
    "start_time": "2022-05-03T11:14:56.061Z"
   },
   {
    "duration": 14,
    "start_time": "2022-05-03T11:20:48.382Z"
   },
   {
    "duration": 9039,
    "start_time": "2022-05-03T11:21:45.885Z"
   },
   {
    "duration": 246,
    "start_time": "2022-05-03T11:22:59.332Z"
   },
   {
    "duration": 9257,
    "start_time": "2022-05-03T11:24:58.138Z"
   },
   {
    "duration": 12,
    "start_time": "2022-05-03T11:31:21.138Z"
   },
   {
    "duration": 128,
    "start_time": "2022-05-03T11:34:11.175Z"
   },
   {
    "duration": 57,
    "start_time": "2022-05-03T11:37:28.904Z"
   },
   {
    "duration": 3,
    "start_time": "2022-05-03T13:17:44.853Z"
   },
   {
    "duration": 4,
    "start_time": "2022-05-03T13:18:09.324Z"
   },
   {
    "duration": 67,
    "start_time": "2022-05-03T13:18:09.331Z"
   },
   {
    "duration": 87,
    "start_time": "2022-05-03T13:18:09.400Z"
   },
   {
    "duration": 5,
    "start_time": "2022-05-03T13:18:09.489Z"
   },
   {
    "duration": 28,
    "start_time": "2022-05-03T13:18:09.496Z"
   },
   {
    "duration": 73,
    "start_time": "2022-05-03T13:18:09.526Z"
   },
   {
    "duration": 82,
    "start_time": "2022-05-03T13:18:09.601Z"
   },
   {
    "duration": 85,
    "start_time": "2022-05-03T13:18:09.685Z"
   },
   {
    "duration": 23,
    "start_time": "2022-05-03T13:18:09.771Z"
   },
   {
    "duration": 89,
    "start_time": "2022-05-03T13:18:09.796Z"
   },
   {
    "duration": 1180,
    "start_time": "2022-05-03T13:18:09.887Z"
   },
   {
    "duration": 478,
    "start_time": "2022-05-03T13:18:11.069Z"
   },
   {
    "duration": 8141,
    "start_time": "2022-05-03T13:18:11.549Z"
   },
   {
    "duration": 10963,
    "start_time": "2022-05-03T13:18:19.691Z"
   },
   {
    "duration": 69,
    "start_time": "2022-05-03T13:18:30.655Z"
   },
   {
    "duration": 3554,
    "start_time": "2022-05-03T13:18:30.726Z"
   },
   {
    "duration": 16773,
    "start_time": "2022-05-03T13:18:34.282Z"
   },
   {
    "duration": 9502,
    "start_time": "2022-05-03T13:18:51.056Z"
   },
   {
    "duration": 13,
    "start_time": "2022-05-03T13:19:00.560Z"
   },
   {
    "duration": 81,
    "start_time": "2022-05-03T13:19:00.574Z"
   },
   {
    "duration": 9,
    "start_time": "2022-05-03T13:21:14.794Z"
   },
   {
    "duration": 8,
    "start_time": "2022-05-03T13:21:56.389Z"
   },
   {
    "duration": 20,
    "start_time": "2022-05-03T13:23:15.786Z"
   },
   {
    "duration": 22,
    "start_time": "2022-05-03T13:24:36.343Z"
   },
   {
    "duration": 17,
    "start_time": "2022-05-03T13:24:56.015Z"
   },
   {
    "duration": 128,
    "start_time": "2022-05-03T13:28:48.788Z"
   },
   {
    "duration": 121,
    "start_time": "2022-05-03T13:29:36.913Z"
   },
   {
    "duration": 15,
    "start_time": "2022-05-03T13:30:47.289Z"
   },
   {
    "duration": 16,
    "start_time": "2022-05-03T13:32:06.506Z"
   },
   {
    "duration": 16,
    "start_time": "2022-05-03T13:33:20.141Z"
   },
   {
    "duration": 9,
    "start_time": "2022-05-03T13:33:31.070Z"
   },
   {
    "duration": 10,
    "start_time": "2022-05-03T13:33:48.645Z"
   },
   {
    "duration": 11,
    "start_time": "2022-05-03T13:34:07.394Z"
   },
   {
    "duration": 22,
    "start_time": "2022-05-03T13:34:44.053Z"
   },
   {
    "duration": 3,
    "start_time": "2022-05-03T13:34:51.389Z"
   },
   {
    "duration": 87,
    "start_time": "2022-05-03T13:34:51.394Z"
   },
   {
    "duration": 73,
    "start_time": "2022-05-03T13:34:51.483Z"
   },
   {
    "duration": 4,
    "start_time": "2022-05-03T13:34:51.558Z"
   },
   {
    "duration": 10,
    "start_time": "2022-05-03T13:34:51.563Z"
   },
   {
    "duration": 88,
    "start_time": "2022-05-03T13:34:51.575Z"
   },
   {
    "duration": 82,
    "start_time": "2022-05-03T13:34:51.665Z"
   },
   {
    "duration": 93,
    "start_time": "2022-05-03T13:34:51.749Z"
   },
   {
    "duration": 23,
    "start_time": "2022-05-03T13:34:51.845Z"
   },
   {
    "duration": 71,
    "start_time": "2022-05-03T13:34:51.869Z"
   },
   {
    "duration": 1159,
    "start_time": "2022-05-03T13:34:51.942Z"
   },
   {
    "duration": 491,
    "start_time": "2022-05-03T13:34:53.103Z"
   },
   {
    "duration": 12506,
    "start_time": "2022-05-03T13:34:53.596Z"
   },
   {
    "duration": 8998,
    "start_time": "2022-05-03T13:35:06.104Z"
   },
   {
    "duration": 71,
    "start_time": "2022-05-03T13:35:15.104Z"
   },
   {
    "duration": 3073,
    "start_time": "2022-05-03T13:35:15.176Z"
   },
   {
    "duration": 11213,
    "start_time": "2022-05-03T13:35:18.251Z"
   },
   {
    "duration": 9929,
    "start_time": "2022-05-03T13:35:29.465Z"
   },
   {
    "duration": 12,
    "start_time": "2022-05-03T13:35:39.396Z"
   },
   {
    "duration": 62,
    "start_time": "2022-05-03T13:35:39.409Z"
   },
   {
    "duration": 16,
    "start_time": "2022-05-03T13:35:39.472Z"
   },
   {
    "duration": 56,
    "start_time": "2022-05-03T13:37:26.419Z"
   },
   {
    "duration": 12,
    "start_time": "2022-05-03T13:43:32.059Z"
   },
   {
    "duration": 6,
    "start_time": "2022-05-03T13:43:55.812Z"
   },
   {
    "duration": 7,
    "start_time": "2022-05-03T13:44:11.912Z"
   },
   {
    "duration": 4,
    "start_time": "2022-05-03T13:44:52.508Z"
   },
   {
    "duration": 10,
    "start_time": "2022-05-03T13:47:00.793Z"
   },
   {
    "duration": 6,
    "start_time": "2022-05-03T13:47:26.777Z"
   },
   {
    "duration": 9,
    "start_time": "2022-05-03T13:47:53.777Z"
   },
   {
    "duration": 4,
    "start_time": "2022-05-03T13:48:26.793Z"
   },
   {
    "duration": 16,
    "start_time": "2022-05-03T13:50:03.310Z"
   },
   {
    "duration": 15,
    "start_time": "2022-05-03T13:51:05.410Z"
   },
   {
    "duration": 15,
    "start_time": "2022-05-03T13:51:34.433Z"
   },
   {
    "duration": 10,
    "start_time": "2022-05-03T13:55:32.539Z"
   },
   {
    "duration": 10,
    "start_time": "2022-05-03T13:55:44.351Z"
   },
   {
    "duration": 10,
    "start_time": "2022-05-03T14:02:48.038Z"
   },
   {
    "duration": 26,
    "start_time": "2022-05-03T14:04:19.133Z"
   },
   {
    "duration": 13,
    "start_time": "2022-05-03T14:11:50.375Z"
   },
   {
    "duration": 13,
    "start_time": "2022-05-03T14:13:39.336Z"
   },
   {
    "duration": 209,
    "start_time": "2022-05-03T14:15:03.180Z"
   },
   {
    "duration": 200,
    "start_time": "2022-05-03T14:16:06.953Z"
   },
   {
    "duration": 195,
    "start_time": "2022-05-03T14:17:15.445Z"
   },
   {
    "duration": 10,
    "start_time": "2022-05-03T14:17:23.221Z"
   },
   {
    "duration": 10,
    "start_time": "2022-05-03T14:17:30.557Z"
   },
   {
    "duration": 221,
    "start_time": "2022-05-03T14:18:30.305Z"
   },
   {
    "duration": 223,
    "start_time": "2022-05-03T14:19:00.733Z"
   },
   {
    "duration": 410,
    "start_time": "2022-05-03T14:19:32.362Z"
   },
   {
    "duration": 249,
    "start_time": "2022-05-03T14:19:41.041Z"
   },
   {
    "duration": 338,
    "start_time": "2022-05-03T14:22:30.949Z"
   },
   {
    "duration": 362,
    "start_time": "2022-05-03T14:23:10.167Z"
   },
   {
    "duration": 329,
    "start_time": "2022-05-03T14:23:56.258Z"
   },
   {
    "duration": 345,
    "start_time": "2022-05-03T14:24:06.406Z"
   },
   {
    "duration": 409,
    "start_time": "2022-05-03T14:28:58.772Z"
   },
   {
    "duration": 1460,
    "start_time": "2022-05-03T14:29:37.332Z"
   },
   {
    "duration": 338,
    "start_time": "2022-05-03T14:30:20.440Z"
   },
   {
    "duration": 419,
    "start_time": "2022-05-03T14:34:05.617Z"
   },
   {
    "duration": 599,
    "start_time": "2022-05-03T14:34:33.414Z"
   },
   {
    "duration": 534,
    "start_time": "2022-05-03T14:34:53.322Z"
   },
   {
    "duration": 3,
    "start_time": "2022-05-03T14:51:36.655Z"
   },
   {
    "duration": 12,
    "start_time": "2022-05-03T14:51:43.898Z"
   },
   {
    "duration": 9,
    "start_time": "2022-05-03T14:52:01.171Z"
   },
   {
    "duration": 13,
    "start_time": "2022-05-03T14:52:19.845Z"
   },
   {
    "duration": 10,
    "start_time": "2022-05-03T14:54:08.555Z"
   },
   {
    "duration": 12,
    "start_time": "2022-05-03T14:54:18.971Z"
   },
   {
    "duration": 5,
    "start_time": "2022-05-03T14:54:25.887Z"
   },
   {
    "duration": 403,
    "start_time": "2022-05-03T15:05:41.770Z"
   },
   {
    "duration": 3,
    "start_time": "2022-05-03T15:05:46.770Z"
   },
   {
    "duration": 90,
    "start_time": "2022-05-03T15:05:46.775Z"
   },
   {
    "duration": 71,
    "start_time": "2022-05-03T15:05:46.867Z"
   },
   {
    "duration": 4,
    "start_time": "2022-05-03T15:05:46.940Z"
   },
   {
    "duration": 26,
    "start_time": "2022-05-03T15:05:46.947Z"
   },
   {
    "duration": 97,
    "start_time": "2022-05-03T15:05:46.975Z"
   },
   {
    "duration": 80,
    "start_time": "2022-05-03T15:05:47.073Z"
   },
   {
    "duration": 77,
    "start_time": "2022-05-03T15:05:47.154Z"
   },
   {
    "duration": 22,
    "start_time": "2022-05-03T15:05:47.232Z"
   },
   {
    "duration": 51,
    "start_time": "2022-05-03T15:05:47.256Z"
   },
   {
    "duration": 999,
    "start_time": "2022-05-03T15:05:47.310Z"
   },
   {
    "duration": 476,
    "start_time": "2022-05-03T15:05:48.311Z"
   },
   {
    "duration": 8394,
    "start_time": "2022-05-03T15:05:48.789Z"
   },
   {
    "duration": 8525,
    "start_time": "2022-05-03T15:05:57.185Z"
   },
   {
    "duration": 221,
    "start_time": "2022-05-03T15:06:05.712Z"
   },
   {
    "duration": 8860,
    "start_time": "2022-05-03T15:06:05.934Z"
   },
   {
    "duration": 9183,
    "start_time": "2022-05-03T15:06:14.796Z"
   },
   {
    "duration": 9513,
    "start_time": "2022-05-03T15:06:23.981Z"
   },
   {
    "duration": 11,
    "start_time": "2022-05-03T15:06:33.496Z"
   },
   {
    "duration": 54,
    "start_time": "2022-05-03T15:06:33.532Z"
   },
   {
    "duration": 15,
    "start_time": "2022-05-03T15:06:33.587Z"
   },
   {
    "duration": 28,
    "start_time": "2022-05-03T15:06:33.604Z"
   },
   {
    "duration": 393,
    "start_time": "2022-05-03T15:06:33.634Z"
   },
   {
    "duration": 2668,
    "start_time": "2022-05-03T16:39:27.569Z"
   },
   {
    "duration": 2496,
    "start_time": "2022-05-03T16:40:13.762Z"
   },
   {
    "duration": 1934,
    "start_time": "2022-05-03T16:40:39.036Z"
   },
   {
    "duration": 15974,
    "start_time": "2022-05-03T16:40:40.972Z"
   },
   {
    "duration": 15949,
    "start_time": "2022-05-03T16:40:56.948Z"
   },
   {
    "duration": 26,
    "start_time": "2022-05-03T16:41:12.900Z"
   },
   {
    "duration": 99,
    "start_time": "2022-05-03T16:41:12.928Z"
   },
   {
    "duration": 16,
    "start_time": "2022-05-03T16:41:13.029Z"
   },
   {
    "duration": 10,
    "start_time": "2022-05-03T16:41:13.047Z"
   },
   {
    "duration": 422,
    "start_time": "2022-05-03T16:41:13.059Z"
   },
   {
    "duration": 1965,
    "start_time": "2022-05-03T16:42:18.726Z"
   },
   {
    "duration": 84,
    "start_time": "2022-05-03T16:42:20.693Z"
   },
   {
    "duration": 9288,
    "start_time": "2022-05-03T16:42:20.779Z"
   },
   {
    "duration": 9044,
    "start_time": "2022-05-03T16:42:30.069Z"
   },
   {
    "duration": 19,
    "start_time": "2022-05-03T16:42:39.115Z"
   },
   {
    "duration": 52,
    "start_time": "2022-05-03T16:42:39.136Z"
   },
   {
    "duration": 36,
    "start_time": "2022-05-03T16:42:39.190Z"
   },
   {
    "duration": 10,
    "start_time": "2022-05-03T16:42:39.228Z"
   },
   {
    "duration": 471,
    "start_time": "2022-05-03T16:42:39.240Z"
   },
   {
    "duration": 11,
    "start_time": "2022-05-03T16:46:23.074Z"
   },
   {
    "duration": 8,
    "start_time": "2022-05-03T16:47:35.524Z"
   },
   {
    "duration": 22,
    "start_time": "2022-05-03T16:47:53.100Z"
   },
   {
    "duration": 2427,
    "start_time": "2022-05-03T16:51:09.665Z"
   },
   {
    "duration": 123,
    "start_time": "2022-05-03T16:51:49.153Z"
   },
   {
    "duration": 23,
    "start_time": "2022-05-03T16:52:29.197Z"
   },
   {
    "duration": 35,
    "start_time": "2022-05-03T16:54:17.014Z"
   },
   {
    "duration": 9,
    "start_time": "2022-05-03T16:55:01.155Z"
   },
   {
    "duration": 20,
    "start_time": "2022-05-03T17:00:35.443Z"
   },
   {
    "duration": 25,
    "start_time": "2022-05-03T17:02:29.664Z"
   },
   {
    "duration": 25,
    "start_time": "2022-05-03T17:05:19.182Z"
   },
   {
    "duration": 24,
    "start_time": "2022-05-03T17:07:03.713Z"
   },
   {
    "duration": 25,
    "start_time": "2022-05-03T17:08:02.461Z"
   },
   {
    "duration": 6,
    "start_time": "2022-05-03T17:08:23.165Z"
   },
   {
    "duration": 25,
    "start_time": "2022-05-03T17:54:40.391Z"
   },
   {
    "duration": 15,
    "start_time": "2022-05-03T17:57:54.212Z"
   },
   {
    "duration": 11,
    "start_time": "2022-05-03T17:58:22.572Z"
   },
   {
    "duration": 6,
    "start_time": "2022-05-03T17:59:14.881Z"
   },
   {
    "duration": 4,
    "start_time": "2022-05-03T17:59:40.185Z"
   },
   {
    "duration": 91,
    "start_time": "2022-05-03T17:59:40.191Z"
   },
   {
    "duration": 69,
    "start_time": "2022-05-03T17:59:40.283Z"
   },
   {
    "duration": 4,
    "start_time": "2022-05-03T17:59:40.355Z"
   },
   {
    "duration": 5,
    "start_time": "2022-05-03T17:59:40.361Z"
   },
   {
    "duration": 86,
    "start_time": "2022-05-03T17:59:40.368Z"
   },
   {
    "duration": 80,
    "start_time": "2022-05-03T17:59:40.456Z"
   },
   {
    "duration": 66,
    "start_time": "2022-05-03T17:59:40.538Z"
   },
   {
    "duration": 27,
    "start_time": "2022-05-03T17:59:40.624Z"
   },
   {
    "duration": 75,
    "start_time": "2022-05-03T17:59:40.653Z"
   },
   {
    "duration": 945,
    "start_time": "2022-05-03T17:59:40.730Z"
   },
   {
    "duration": 596,
    "start_time": "2022-05-03T17:59:41.676Z"
   },
   {
    "duration": 8180,
    "start_time": "2022-05-03T17:59:42.274Z"
   },
   {
    "duration": 8108,
    "start_time": "2022-05-03T17:59:50.456Z"
   },
   {
    "duration": 75,
    "start_time": "2022-05-03T17:59:58.566Z"
   },
   {
    "duration": 3561,
    "start_time": "2022-05-03T17:59:58.642Z"
   },
   {
    "duration": 53,
    "start_time": "2022-05-03T18:00:02.204Z"
   },
   {
    "duration": 9659,
    "start_time": "2022-05-03T18:00:02.258Z"
   },
   {
    "duration": 9185,
    "start_time": "2022-05-03T18:00:11.918Z"
   },
   {
    "duration": 21,
    "start_time": "2022-05-03T18:00:21.105Z"
   },
   {
    "duration": 25,
    "start_time": "2022-05-03T18:00:21.128Z"
   },
   {
    "duration": 11,
    "start_time": "2022-05-03T18:00:21.155Z"
   },
   {
    "duration": 8,
    "start_time": "2022-05-03T18:00:21.168Z"
   },
   {
    "duration": 5,
    "start_time": "2022-05-03T18:00:21.179Z"
   },
   {
    "duration": 86,
    "start_time": "2022-05-03T18:00:21.185Z"
   },
   {
    "duration": 15,
    "start_time": "2022-05-03T18:00:21.273Z"
   },
   {
    "duration": 9,
    "start_time": "2022-05-03T18:00:21.290Z"
   },
   {
    "duration": 429,
    "start_time": "2022-05-03T18:00:21.300Z"
   },
   {
    "duration": 26,
    "start_time": "2022-05-03T18:06:37.398Z"
   },
   {
    "duration": 10,
    "start_time": "2022-05-03T18:09:16.160Z"
   },
   {
    "duration": 4,
    "start_time": "2022-05-03T18:09:23.435Z"
   },
   {
    "duration": 6,
    "start_time": "2022-05-03T18:09:32.747Z"
   },
   {
    "duration": 9,
    "start_time": "2022-05-03T18:09:54.843Z"
   },
   {
    "duration": 13,
    "start_time": "2022-05-03T18:13:52.629Z"
   },
   {
    "duration": 5,
    "start_time": "2022-05-03T18:13:56.255Z"
   },
   {
    "duration": 5,
    "start_time": "2022-05-03T18:13:59.296Z"
   },
   {
    "duration": 4,
    "start_time": "2022-05-03T18:14:22.590Z"
   },
   {
    "duration": 71,
    "start_time": "2022-05-03T18:14:22.597Z"
   },
   {
    "duration": 85,
    "start_time": "2022-05-03T18:14:22.669Z"
   },
   {
    "duration": 4,
    "start_time": "2022-05-03T18:14:22.756Z"
   },
   {
    "duration": 4,
    "start_time": "2022-05-03T18:14:22.762Z"
   },
   {
    "duration": 98,
    "start_time": "2022-05-03T18:14:22.768Z"
   },
   {
    "duration": 92,
    "start_time": "2022-05-03T18:14:22.868Z"
   },
   {
    "duration": 139,
    "start_time": "2022-05-03T18:14:22.962Z"
   },
   {
    "duration": 40,
    "start_time": "2022-05-03T18:14:23.103Z"
   },
   {
    "duration": 52,
    "start_time": "2022-05-03T18:14:23.145Z"
   },
   {
    "duration": 981,
    "start_time": "2022-05-03T18:14:23.199Z"
   },
   {
    "duration": 625,
    "start_time": "2022-05-03T18:14:24.182Z"
   },
   {
    "duration": 8497,
    "start_time": "2022-05-03T18:14:24.808Z"
   },
   {
    "duration": 8302,
    "start_time": "2022-05-03T18:14:33.307Z"
   },
   {
    "duration": 76,
    "start_time": "2022-05-03T18:14:41.611Z"
   },
   {
    "duration": 3166,
    "start_time": "2022-05-03T18:14:41.689Z"
   },
   {
    "duration": 53,
    "start_time": "2022-05-03T18:14:44.856Z"
   },
   {
    "duration": 9156,
    "start_time": "2022-05-03T18:14:44.911Z"
   },
   {
    "duration": 9835,
    "start_time": "2022-05-03T18:14:54.069Z"
   },
   {
    "duration": 36,
    "start_time": "2022-05-03T18:15:03.905Z"
   },
   {
    "duration": 12,
    "start_time": "2022-05-03T18:15:03.942Z"
   },
   {
    "duration": 7,
    "start_time": "2022-05-03T18:15:03.955Z"
   },
   {
    "duration": 7,
    "start_time": "2022-05-03T18:15:03.964Z"
   },
   {
    "duration": 81,
    "start_time": "2022-05-03T18:15:03.973Z"
   },
   {
    "duration": 17,
    "start_time": "2022-05-03T18:15:04.056Z"
   },
   {
    "duration": 10,
    "start_time": "2022-05-03T18:15:04.074Z"
   },
   {
    "duration": 420,
    "start_time": "2022-05-03T18:15:04.085Z"
   },
   {
    "duration": 5,
    "start_time": "2022-05-03T18:15:50.521Z"
   },
   {
    "duration": 54,
    "start_time": "2022-05-03T18:16:26.985Z"
   },
   {
    "duration": 385,
    "start_time": "2022-05-03T18:25:50.260Z"
   },
   {
    "duration": 11,
    "start_time": "2022-05-03T18:47:19.622Z"
   },
   {
    "duration": 30,
    "start_time": "2022-05-03T18:47:29.928Z"
   },
   {
    "duration": 9,
    "start_time": "2022-05-03T18:48:14.042Z"
   },
   {
    "duration": 15,
    "start_time": "2022-05-03T18:48:40.861Z"
   },
   {
    "duration": 9,
    "start_time": "2022-05-03T18:49:09.402Z"
   },
   {
    "duration": 10,
    "start_time": "2022-05-03T18:50:01.287Z"
   },
   {
    "duration": 1546,
    "start_time": "2022-05-04T09:10:00.018Z"
   },
   {
    "duration": 75,
    "start_time": "2022-05-04T09:10:01.567Z"
   },
   {
    "duration": 64,
    "start_time": "2022-05-04T09:10:01.647Z"
   },
   {
    "duration": 4,
    "start_time": "2022-05-04T09:10:01.713Z"
   },
   {
    "duration": 6,
    "start_time": "2022-05-04T09:10:01.718Z"
   },
   {
    "duration": 456,
    "start_time": "2022-05-04T09:10:01.726Z"
   },
   {
    "duration": 169,
    "start_time": "2022-05-04T09:10:02.184Z"
   },
   {
    "duration": 165,
    "start_time": "2022-05-04T09:10:02.357Z"
   },
   {
    "duration": 38,
    "start_time": "2022-05-04T09:10:02.524Z"
   },
   {
    "duration": 67,
    "start_time": "2022-05-04T09:10:02.566Z"
   },
   {
    "duration": 1077,
    "start_time": "2022-05-04T09:10:02.635Z"
   },
   {
    "duration": 760,
    "start_time": "2022-05-04T09:10:03.714Z"
   },
   {
    "duration": 11135,
    "start_time": "2022-05-04T09:10:04.477Z"
   },
   {
    "duration": 10865,
    "start_time": "2022-05-04T09:10:15.614Z"
   },
   {
    "duration": 73,
    "start_time": "2022-05-04T09:10:26.480Z"
   },
   {
    "duration": 3442,
    "start_time": "2022-05-04T09:10:26.555Z"
   },
   {
    "duration": 62,
    "start_time": "2022-05-04T09:10:29.998Z"
   },
   {
    "duration": 9357,
    "start_time": "2022-05-04T09:10:30.062Z"
   },
   {
    "duration": 9637,
    "start_time": "2022-05-04T09:10:39.420Z"
   },
   {
    "duration": 28,
    "start_time": "2022-05-04T09:10:49.059Z"
   },
   {
    "duration": 10,
    "start_time": "2022-05-04T09:10:49.089Z"
   },
   {
    "duration": 7,
    "start_time": "2022-05-04T09:10:49.100Z"
   },
   {
    "duration": 6,
    "start_time": "2022-05-04T09:10:49.109Z"
   },
   {
    "duration": 81,
    "start_time": "2022-05-04T09:10:49.116Z"
   },
   {
    "duration": 14,
    "start_time": "2022-05-04T09:10:49.199Z"
   },
   {
    "duration": 10,
    "start_time": "2022-05-04T09:10:49.214Z"
   },
   {
    "duration": 414,
    "start_time": "2022-05-04T09:10:49.226Z"
   },
   {
    "duration": 9,
    "start_time": "2022-05-04T09:10:49.647Z"
   },
   {
    "duration": 15,
    "start_time": "2022-05-04T09:10:49.658Z"
   },
   {
    "duration": 311,
    "start_time": "2022-05-04T09:39:31.593Z"
   },
   {
    "duration": 122,
    "start_time": "2022-05-04T09:39:55.297Z"
   },
   {
    "duration": 121,
    "start_time": "2022-05-04T09:40:17.181Z"
   },
   {
    "duration": 139,
    "start_time": "2022-05-04T09:42:17.972Z"
   },
   {
    "duration": 4,
    "start_time": "2022-05-04T09:42:39.944Z"
   },
   {
    "duration": 90,
    "start_time": "2022-05-04T09:42:39.950Z"
   },
   {
    "duration": 60,
    "start_time": "2022-05-04T09:42:40.049Z"
   },
   {
    "duration": 4,
    "start_time": "2022-05-04T09:42:40.110Z"
   },
   {
    "duration": 6,
    "start_time": "2022-05-04T09:42:40.117Z"
   },
   {
    "duration": 110,
    "start_time": "2022-05-04T09:42:40.125Z"
   },
   {
    "duration": 76,
    "start_time": "2022-05-04T09:42:40.237Z"
   },
   {
    "duration": 86,
    "start_time": "2022-05-04T09:42:40.315Z"
   },
   {
    "duration": 24,
    "start_time": "2022-05-04T09:42:40.403Z"
   },
   {
    "duration": 69,
    "start_time": "2022-05-04T09:42:40.429Z"
   },
   {
    "duration": 960,
    "start_time": "2022-05-04T09:42:40.500Z"
   },
   {
    "duration": 286,
    "start_time": "2022-05-04T09:42:41.463Z"
   },
   {
    "duration": 473,
    "start_time": "2022-05-04T09:42:41.752Z"
   },
   {
    "duration": 9401,
    "start_time": "2022-05-04T09:42:42.227Z"
   },
   {
    "duration": 8257,
    "start_time": "2022-05-04T09:42:51.630Z"
   },
   {
    "duration": 79,
    "start_time": "2022-05-04T09:42:59.888Z"
   },
   {
    "duration": 3076,
    "start_time": "2022-05-04T09:42:59.968Z"
   },
   {
    "duration": 81,
    "start_time": "2022-05-04T09:43:03.046Z"
   },
   {
    "duration": 13325,
    "start_time": "2022-05-04T09:43:03.129Z"
   },
   {
    "duration": 9232,
    "start_time": "2022-05-04T09:43:16.456Z"
   },
   {
    "duration": 28,
    "start_time": "2022-05-04T09:43:25.689Z"
   },
   {
    "duration": 33,
    "start_time": "2022-05-04T09:43:25.719Z"
   },
   {
    "duration": 5,
    "start_time": "2022-05-04T09:43:25.755Z"
   },
   {
    "duration": 7,
    "start_time": "2022-05-04T09:43:25.762Z"
   },
   {
    "duration": 50,
    "start_time": "2022-05-04T09:43:25.770Z"
   },
   {
    "duration": 43,
    "start_time": "2022-05-04T09:43:25.821Z"
   },
   {
    "duration": 10,
    "start_time": "2022-05-04T09:43:25.866Z"
   },
   {
    "duration": 619,
    "start_time": "2022-05-04T09:43:25.878Z"
   },
   {
    "duration": 9,
    "start_time": "2022-05-04T09:43:26.501Z"
   },
   {
    "duration": 7,
    "start_time": "2022-05-04T09:43:26.512Z"
   },
   {
    "duration": 119,
    "start_time": "2022-05-04T09:44:15.512Z"
   },
   {
    "duration": 16,
    "start_time": "2022-05-04T10:02:17.961Z"
   },
   {
    "duration": 7,
    "start_time": "2022-05-04T10:03:13.830Z"
   },
   {
    "duration": 9,
    "start_time": "2022-05-04T10:04:15.827Z"
   },
   {
    "duration": 14,
    "start_time": "2022-05-04T10:04:39.599Z"
   },
   {
    "duration": 179,
    "start_time": "2022-05-04T10:06:52.623Z"
   },
   {
    "duration": 30,
    "start_time": "2022-05-04T10:07:34.247Z"
   },
   {
    "duration": 14,
    "start_time": "2022-05-04T10:08:18.821Z"
   },
   {
    "duration": 18,
    "start_time": "2022-05-04T10:10:11.619Z"
   },
   {
    "duration": 11,
    "start_time": "2022-05-04T10:11:18.869Z"
   },
   {
    "duration": 151,
    "start_time": "2022-05-04T10:12:43.313Z"
   },
   {
    "duration": 16,
    "start_time": "2022-05-04T10:13:24.973Z"
   },
   {
    "duration": 21,
    "start_time": "2022-05-04T10:22:01.187Z"
   },
   {
    "duration": 14,
    "start_time": "2022-05-04T10:22:33.707Z"
   },
   {
    "duration": 31,
    "start_time": "2022-05-04T10:22:58.743Z"
   },
   {
    "duration": 28,
    "start_time": "2022-05-04T10:23:13.531Z"
   },
   {
    "duration": 23,
    "start_time": "2022-05-04T10:26:15.207Z"
   },
   {
    "duration": 22,
    "start_time": "2022-05-04T10:26:27.069Z"
   },
   {
    "duration": 19,
    "start_time": "2022-05-04T10:27:07.661Z"
   },
   {
    "duration": 25,
    "start_time": "2022-05-04T10:28:23.072Z"
   },
   {
    "duration": 3418,
    "start_time": "2022-05-04T10:28:49.289Z"
   },
   {
    "duration": 12,
    "start_time": "2022-05-04T10:29:15.673Z"
   },
   {
    "duration": 27,
    "start_time": "2022-05-04T10:30:41.245Z"
   },
   {
    "duration": 17,
    "start_time": "2022-05-04T10:30:57.223Z"
   },
   {
    "duration": 11,
    "start_time": "2022-05-04T10:31:12.666Z"
   },
   {
    "duration": 133,
    "start_time": "2022-05-04T10:36:22.873Z"
   },
   {
    "duration": 14,
    "start_time": "2022-05-04T10:36:32.299Z"
   },
   {
    "duration": 22,
    "start_time": "2022-05-04T10:37:35.227Z"
   },
   {
    "duration": 17,
    "start_time": "2022-05-04T10:37:47.915Z"
   },
   {
    "duration": 15,
    "start_time": "2022-05-04T10:39:33.036Z"
   },
   {
    "duration": 16,
    "start_time": "2022-05-04T10:39:39.476Z"
   },
   {
    "duration": 14,
    "start_time": "2022-05-04T10:39:45.952Z"
   },
   {
    "duration": 19,
    "start_time": "2022-05-04T10:42:45.358Z"
   },
   {
    "duration": 18,
    "start_time": "2022-05-04T10:44:02.697Z"
   },
   {
    "duration": 23,
    "start_time": "2022-05-04T10:44:29.310Z"
   },
   {
    "duration": 18,
    "start_time": "2022-05-04T10:44:53.065Z"
   },
   {
    "duration": 37,
    "start_time": "2022-05-04T11:32:22.202Z"
   },
   {
    "duration": 25,
    "start_time": "2022-05-04T11:32:35.354Z"
   },
   {
    "duration": 31,
    "start_time": "2022-05-04T11:32:49.641Z"
   },
   {
    "duration": 18,
    "start_time": "2022-05-04T11:33:07.913Z"
   },
   {
    "duration": 28,
    "start_time": "2022-05-04T11:39:01.440Z"
   },
   {
    "duration": 23,
    "start_time": "2022-05-04T11:39:38.880Z"
   },
   {
    "duration": 12,
    "start_time": "2022-05-04T11:44:48.765Z"
   },
   {
    "duration": 19,
    "start_time": "2022-05-04T11:44:56.342Z"
   },
   {
    "duration": 22,
    "start_time": "2022-05-04T11:54:54.076Z"
   },
   {
    "duration": 28,
    "start_time": "2022-05-04T12:03:10.781Z"
   },
   {
    "duration": 15,
    "start_time": "2022-05-04T12:03:40.985Z"
   },
   {
    "duration": 188,
    "start_time": "2022-05-04T12:04:15.953Z"
   },
   {
    "duration": 19,
    "start_time": "2022-05-04T12:04:42.647Z"
   },
   {
    "duration": 393,
    "start_time": "2022-05-04T12:09:00.336Z"
   },
   {
    "duration": 24,
    "start_time": "2022-05-04T12:09:24.717Z"
   },
   {
    "duration": 10,
    "start_time": "2022-05-04T12:10:14.435Z"
   },
   {
    "duration": 3,
    "start_time": "2022-05-04T13:12:35.405Z"
   },
   {
    "duration": 64,
    "start_time": "2022-05-04T13:12:35.410Z"
   },
   {
    "duration": 48,
    "start_time": "2022-05-04T13:12:35.476Z"
   },
   {
    "duration": 3,
    "start_time": "2022-05-04T13:12:35.548Z"
   },
   {
    "duration": 8,
    "start_time": "2022-05-04T13:12:35.553Z"
   },
   {
    "duration": 85,
    "start_time": "2022-05-04T13:12:35.563Z"
   },
   {
    "duration": 61,
    "start_time": "2022-05-04T13:12:35.649Z"
   },
   {
    "duration": 81,
    "start_time": "2022-05-04T13:12:35.711Z"
   },
   {
    "duration": 23,
    "start_time": "2022-05-04T13:12:35.793Z"
   },
   {
    "duration": 55,
    "start_time": "2022-05-04T13:12:35.818Z"
   },
   {
    "duration": 1011,
    "start_time": "2022-05-04T13:12:35.876Z"
   },
   {
    "duration": 110,
    "start_time": "2022-05-04T13:12:36.889Z"
   },
   {
    "duration": 472,
    "start_time": "2022-05-04T13:12:37.000Z"
   },
   {
    "duration": 8859,
    "start_time": "2022-05-04T13:12:37.474Z"
   },
   {
    "duration": 7612,
    "start_time": "2022-05-04T13:12:46.335Z"
   },
   {
    "duration": 61,
    "start_time": "2022-05-04T13:12:53.949Z"
   },
   {
    "duration": 2492,
    "start_time": "2022-05-04T13:12:54.012Z"
   },
   {
    "duration": 55,
    "start_time": "2022-05-04T13:12:56.505Z"
   },
   {
    "duration": 8367,
    "start_time": "2022-05-04T13:12:56.562Z"
   },
   {
    "duration": 10219,
    "start_time": "2022-05-04T13:13:04.931Z"
   },
   {
    "duration": 26,
    "start_time": "2022-05-04T13:13:15.152Z"
   },
   {
    "duration": 10,
    "start_time": "2022-05-04T13:13:15.179Z"
   },
   {
    "duration": 4,
    "start_time": "2022-05-04T13:13:15.191Z"
   },
   {
    "duration": 8,
    "start_time": "2022-05-04T13:13:15.196Z"
   },
   {
    "duration": 78,
    "start_time": "2022-05-04T13:13:15.206Z"
   },
   {
    "duration": 16,
    "start_time": "2022-05-04T13:13:15.285Z"
   },
   {
    "duration": 9,
    "start_time": "2022-05-04T13:13:15.303Z"
   },
   {
    "duration": 394,
    "start_time": "2022-05-04T13:13:15.314Z"
   },
   {
    "duration": 40,
    "start_time": "2022-05-04T13:13:15.712Z"
   },
   {
    "duration": 126,
    "start_time": "2022-05-04T13:13:15.755Z"
   },
   {
    "duration": 112,
    "start_time": "2022-05-04T13:13:56.429Z"
   },
   {
    "duration": 15,
    "start_time": "2022-05-04T13:14:03.219Z"
   },
   {
    "duration": 7,
    "start_time": "2022-05-04T13:14:18.042Z"
   },
   {
    "duration": 7,
    "start_time": "2022-05-04T13:14:27.186Z"
   },
   {
    "duration": 7,
    "start_time": "2022-05-04T13:14:50.620Z"
   },
   {
    "duration": 3,
    "start_time": "2022-05-04T13:16:31.844Z"
   },
   {
    "duration": 119,
    "start_time": "2022-05-04T13:16:31.851Z"
   },
   {
    "duration": 51,
    "start_time": "2022-05-04T13:16:31.972Z"
   },
   {
    "duration": 25,
    "start_time": "2022-05-04T13:16:32.024Z"
   },
   {
    "duration": 5,
    "start_time": "2022-05-04T13:16:32.051Z"
   },
   {
    "duration": 71,
    "start_time": "2022-05-04T13:16:32.057Z"
   },
   {
    "duration": 77,
    "start_time": "2022-05-04T13:16:32.130Z"
   },
   {
    "duration": 85,
    "start_time": "2022-05-04T13:16:32.209Z"
   },
   {
    "duration": 21,
    "start_time": "2022-05-04T13:16:32.296Z"
   },
   {
    "duration": 60,
    "start_time": "2022-05-04T13:16:32.319Z"
   },
   {
    "duration": 1066,
    "start_time": "2022-05-04T13:16:32.381Z"
   },
   {
    "duration": 113,
    "start_time": "2022-05-04T13:16:33.449Z"
   },
   {
    "duration": 430,
    "start_time": "2022-05-04T13:16:33.564Z"
   },
   {
    "duration": 7595,
    "start_time": "2022-05-04T13:16:33.996Z"
   },
   {
    "duration": 7751,
    "start_time": "2022-05-04T13:16:41.592Z"
   },
   {
    "duration": 62,
    "start_time": "2022-05-04T13:16:49.348Z"
   },
   {
    "duration": 1708,
    "start_time": "2022-05-04T13:16:49.411Z"
   },
   {
    "duration": 53,
    "start_time": "2022-05-04T13:16:51.120Z"
   },
   {
    "duration": 8653,
    "start_time": "2022-05-04T13:16:51.175Z"
   },
   {
    "duration": 8449,
    "start_time": "2022-05-04T13:16:59.830Z"
   },
   {
    "duration": 27,
    "start_time": "2022-05-04T13:17:08.281Z"
   },
   {
    "duration": 11,
    "start_time": "2022-05-04T13:17:08.309Z"
   },
   {
    "duration": 27,
    "start_time": "2022-05-04T13:17:08.321Z"
   },
   {
    "duration": 5,
    "start_time": "2022-05-04T13:17:08.350Z"
   },
   {
    "duration": 53,
    "start_time": "2022-05-04T13:17:08.356Z"
   },
   {
    "duration": 15,
    "start_time": "2022-05-04T13:17:08.410Z"
   },
   {
    "duration": 28,
    "start_time": "2022-05-04T13:17:08.426Z"
   },
   {
    "duration": 385,
    "start_time": "2022-05-04T13:17:08.456Z"
   },
   {
    "duration": 22,
    "start_time": "2022-05-04T13:17:08.847Z"
   },
   {
    "duration": 7,
    "start_time": "2022-05-04T13:17:08.871Z"
   },
   {
    "duration": 6,
    "start_time": "2022-05-04T13:17:08.880Z"
   },
   {
    "duration": 8,
    "start_time": "2022-05-04T13:17:08.889Z"
   },
   {
    "duration": 6,
    "start_time": "2022-05-04T13:17:37.705Z"
   },
   {
    "duration": 6,
    "start_time": "2022-05-04T13:18:11.337Z"
   },
   {
    "duration": 21,
    "start_time": "2022-05-04T13:29:45.164Z"
   },
   {
    "duration": 384,
    "start_time": "2022-05-04T13:38:00.570Z"
   },
   {
    "duration": 59,
    "start_time": "2022-05-04T13:38:50.238Z"
   },
   {
    "duration": 3,
    "start_time": "2022-05-04T13:47:51.195Z"
   },
   {
    "duration": 64,
    "start_time": "2022-05-04T13:47:51.202Z"
   },
   {
    "duration": 50,
    "start_time": "2022-05-04T13:47:51.267Z"
   },
   {
    "duration": 4,
    "start_time": "2022-05-04T13:47:51.319Z"
   },
   {
    "duration": 6,
    "start_time": "2022-05-04T13:47:51.347Z"
   },
   {
    "duration": 235,
    "start_time": "2022-05-04T13:47:51.354Z"
   },
   {
    "duration": 78,
    "start_time": "2022-05-04T13:47:51.591Z"
   },
   {
    "duration": 82,
    "start_time": "2022-05-04T13:47:51.671Z"
   },
   {
    "duration": 23,
    "start_time": "2022-05-04T13:47:51.755Z"
   },
   {
    "duration": 43,
    "start_time": "2022-05-04T13:47:51.780Z"
   },
   {
    "duration": 879,
    "start_time": "2022-05-04T13:47:51.849Z"
   },
   {
    "duration": 109,
    "start_time": "2022-05-04T13:47:52.729Z"
   },
   {
    "duration": 440,
    "start_time": "2022-05-04T13:47:52.840Z"
   },
   {
    "duration": 7540,
    "start_time": "2022-05-04T13:47:53.281Z"
   },
   {
    "duration": 7688,
    "start_time": "2022-05-04T13:48:00.823Z"
   },
   {
    "duration": 68,
    "start_time": "2022-05-04T13:48:08.513Z"
   },
   {
    "duration": 3267,
    "start_time": "2022-05-04T13:48:08.582Z"
   },
   {
    "duration": 71,
    "start_time": "2022-05-04T13:48:11.851Z"
   },
   {
    "duration": 8934,
    "start_time": "2022-05-04T13:48:11.925Z"
   },
   {
    "duration": 8845,
    "start_time": "2022-05-04T13:48:20.860Z"
   },
   {
    "duration": 26,
    "start_time": "2022-05-04T13:48:29.706Z"
   },
   {
    "duration": 22,
    "start_time": "2022-05-04T13:48:29.734Z"
   },
   {
    "duration": 5,
    "start_time": "2022-05-04T13:48:29.757Z"
   },
   {
    "duration": 7,
    "start_time": "2022-05-04T13:48:29.763Z"
   },
   {
    "duration": 210,
    "start_time": "2022-05-04T13:48:29.771Z"
   },
   {
    "duration": 15,
    "start_time": "2022-05-04T13:48:29.982Z"
   },
   {
    "duration": 9,
    "start_time": "2022-05-04T13:48:29.998Z"
   },
   {
    "duration": 401,
    "start_time": "2022-05-04T13:48:30.008Z"
   },
   {
    "duration": 20,
    "start_time": "2022-05-04T13:48:30.412Z"
   },
   {
    "duration": 1159,
    "start_time": "2022-05-04T13:51:47.382Z"
   },
   {
    "duration": 70,
    "start_time": "2022-05-04T13:51:48.543Z"
   },
   {
    "duration": 55,
    "start_time": "2022-05-04T13:51:48.614Z"
   },
   {
    "duration": 3,
    "start_time": "2022-05-04T13:51:48.672Z"
   },
   {
    "duration": 4,
    "start_time": "2022-05-04T13:51:48.677Z"
   },
   {
    "duration": 370,
    "start_time": "2022-05-04T13:51:48.683Z"
   },
   {
    "duration": 119,
    "start_time": "2022-05-04T13:51:49.054Z"
   },
   {
    "duration": 160,
    "start_time": "2022-05-04T13:51:49.174Z"
   },
   {
    "duration": 23,
    "start_time": "2022-05-04T13:51:49.347Z"
   },
   {
    "duration": 42,
    "start_time": "2022-05-04T13:51:49.373Z"
   },
   {
    "duration": 823,
    "start_time": "2022-05-04T13:51:49.417Z"
   },
   {
    "duration": 111,
    "start_time": "2022-05-04T13:51:50.242Z"
   },
   {
    "duration": 423,
    "start_time": "2022-05-04T13:51:50.354Z"
   },
   {
    "duration": 7306,
    "start_time": "2022-05-04T13:51:50.779Z"
   },
   {
    "duration": 7662,
    "start_time": "2022-05-04T13:51:58.087Z"
   },
   {
    "duration": 61,
    "start_time": "2022-05-04T13:52:05.751Z"
   },
   {
    "duration": 1807,
    "start_time": "2022-05-04T13:52:05.814Z"
   },
   {
    "duration": 57,
    "start_time": "2022-05-04T13:52:07.623Z"
   },
   {
    "duration": 8731,
    "start_time": "2022-05-04T13:52:07.682Z"
   },
   {
    "duration": 8498,
    "start_time": "2022-05-04T13:52:16.415Z"
   },
   {
    "duration": 35,
    "start_time": "2022-05-04T13:52:24.915Z"
   },
   {
    "duration": 10,
    "start_time": "2022-05-04T13:52:24.952Z"
   },
   {
    "duration": 6,
    "start_time": "2022-05-04T13:52:24.964Z"
   },
   {
    "duration": 6,
    "start_time": "2022-05-04T13:52:24.971Z"
   },
   {
    "duration": 72,
    "start_time": "2022-05-04T13:52:24.978Z"
   },
   {
    "duration": 15,
    "start_time": "2022-05-04T13:52:25.052Z"
   },
   {
    "duration": 8,
    "start_time": "2022-05-04T13:52:25.069Z"
   },
   {
    "duration": 497,
    "start_time": "2022-05-04T13:52:25.080Z"
   },
   {
    "duration": 21,
    "start_time": "2022-05-04T13:52:25.579Z"
   },
   {
    "duration": 13,
    "start_time": "2022-05-04T14:13:50.110Z"
   },
   {
    "duration": 18,
    "start_time": "2022-05-04T14:21:23.573Z"
   },
   {
    "duration": 23,
    "start_time": "2022-05-04T14:26:48.842Z"
   },
   {
    "duration": 15,
    "start_time": "2022-05-04T14:27:04.686Z"
   },
   {
    "duration": 63,
    "start_time": "2022-05-04T17:47:59.485Z"
   },
   {
    "duration": 4,
    "start_time": "2022-05-04T17:49:37.810Z"
   },
   {
    "duration": 90,
    "start_time": "2022-05-04T17:49:37.817Z"
   },
   {
    "duration": 80,
    "start_time": "2022-05-04T17:49:37.908Z"
   },
   {
    "duration": 4,
    "start_time": "2022-05-04T17:49:37.990Z"
   },
   {
    "duration": 5,
    "start_time": "2022-05-04T17:49:37.996Z"
   },
   {
    "duration": 108,
    "start_time": "2022-05-04T17:49:38.003Z"
   },
   {
    "duration": 104,
    "start_time": "2022-05-04T17:49:38.113Z"
   },
   {
    "duration": 96,
    "start_time": "2022-05-04T17:49:38.219Z"
   },
   {
    "duration": 45,
    "start_time": "2022-05-04T17:49:38.318Z"
   },
   {
    "duration": 67,
    "start_time": "2022-05-04T17:49:38.366Z"
   },
   {
    "duration": 1004,
    "start_time": "2022-05-04T17:49:38.436Z"
   },
   {
    "duration": 178,
    "start_time": "2022-05-04T17:49:39.441Z"
   },
   {
    "duration": 889,
    "start_time": "2022-05-04T17:49:39.622Z"
   },
   {
    "duration": 10582,
    "start_time": "2022-05-04T17:49:40.514Z"
   },
   {
    "duration": 8502,
    "start_time": "2022-05-04T17:49:51.098Z"
   },
   {
    "duration": 79,
    "start_time": "2022-05-04T17:49:59.602Z"
   },
   {
    "duration": 2335,
    "start_time": "2022-05-04T17:49:59.682Z"
   },
   {
    "duration": 64,
    "start_time": "2022-05-04T17:50:02.019Z"
   },
   {
    "duration": 9894,
    "start_time": "2022-05-04T17:50:02.085Z"
   },
   {
    "duration": 10145,
    "start_time": "2022-05-04T17:50:11.981Z"
   },
   {
    "duration": 46,
    "start_time": "2022-05-04T17:50:22.127Z"
   },
   {
    "duration": 11,
    "start_time": "2022-05-04T17:50:22.175Z"
   },
   {
    "duration": 9,
    "start_time": "2022-05-04T17:50:22.187Z"
   },
   {
    "duration": 6,
    "start_time": "2022-05-04T17:50:22.200Z"
   },
   {
    "duration": 88,
    "start_time": "2022-05-04T17:50:22.208Z"
   },
   {
    "duration": 15,
    "start_time": "2022-05-04T17:50:22.297Z"
   },
   {
    "duration": 9,
    "start_time": "2022-05-04T17:50:22.313Z"
   },
   {
    "duration": 468,
    "start_time": "2022-05-04T17:50:22.324Z"
   },
   {
    "duration": 32,
    "start_time": "2022-05-04T17:50:22.794Z"
   },
   {
    "duration": 4,
    "start_time": "2022-05-04T20:50:08.599Z"
   },
   {
    "duration": 68,
    "start_time": "2022-05-04T20:50:08.605Z"
   },
   {
    "duration": 84,
    "start_time": "2022-05-04T20:50:08.675Z"
   },
   {
    "duration": 3,
    "start_time": "2022-05-04T20:50:08.761Z"
   },
   {
    "duration": 6,
    "start_time": "2022-05-04T20:50:08.767Z"
   },
   {
    "duration": 102,
    "start_time": "2022-05-04T20:50:08.775Z"
   },
   {
    "duration": 90,
    "start_time": "2022-05-04T20:50:08.878Z"
   },
   {
    "duration": 90,
    "start_time": "2022-05-04T20:50:08.969Z"
   },
   {
    "duration": 26,
    "start_time": "2022-05-04T20:50:09.061Z"
   },
   {
    "duration": 82,
    "start_time": "2022-05-04T20:50:09.089Z"
   },
   {
    "duration": 973,
    "start_time": "2022-05-04T20:50:09.174Z"
   },
   {
    "duration": 125,
    "start_time": "2022-05-04T20:50:10.149Z"
   },
   {
    "duration": 607,
    "start_time": "2022-05-04T20:50:10.276Z"
   },
   {
    "duration": 7847,
    "start_time": "2022-05-04T20:50:10.885Z"
   },
   {
    "duration": 7978,
    "start_time": "2022-05-04T20:50:18.734Z"
   },
   {
    "duration": 76,
    "start_time": "2022-05-04T20:50:26.714Z"
   },
   {
    "duration": 3233,
    "start_time": "2022-05-04T20:50:26.792Z"
   },
   {
    "duration": 93,
    "start_time": "2022-05-04T20:50:30.027Z"
   },
   {
    "duration": 10742,
    "start_time": "2022-05-04T20:50:30.122Z"
   },
   {
    "duration": 13347,
    "start_time": "2022-05-04T20:50:40.866Z"
   },
   {
    "duration": 54,
    "start_time": "2022-05-04T20:50:54.215Z"
   },
   {
    "duration": 14,
    "start_time": "2022-05-04T20:50:54.272Z"
   },
   {
    "duration": 7,
    "start_time": "2022-05-04T20:50:54.287Z"
   },
   {
    "duration": 7,
    "start_time": "2022-05-04T20:50:54.296Z"
   },
   {
    "duration": 82,
    "start_time": "2022-05-04T20:50:54.305Z"
   },
   {
    "duration": 24,
    "start_time": "2022-05-04T20:50:54.389Z"
   },
   {
    "duration": 35,
    "start_time": "2022-05-04T20:50:54.415Z"
   },
   {
    "duration": 401,
    "start_time": "2022-05-04T20:50:54.452Z"
   },
   {
    "duration": 25,
    "start_time": "2022-05-04T20:50:54.856Z"
   },
   {
    "duration": 2319,
    "start_time": "2022-05-05T02:07:41.854Z"
   },
   {
    "duration": 192,
    "start_time": "2022-05-05T02:07:44.175Z"
   },
   {
    "duration": 90,
    "start_time": "2022-05-05T02:07:44.369Z"
   },
   {
    "duration": 5,
    "start_time": "2022-05-05T02:07:44.461Z"
   },
   {
    "duration": 7,
    "start_time": "2022-05-05T02:07:44.467Z"
   },
   {
    "duration": 584,
    "start_time": "2022-05-05T02:07:44.476Z"
   },
   {
    "duration": 196,
    "start_time": "2022-05-05T02:07:45.062Z"
   },
   {
    "duration": 184,
    "start_time": "2022-05-05T02:07:45.259Z"
   },
   {
    "duration": 28,
    "start_time": "2022-05-05T02:07:45.447Z"
   },
   {
    "duration": 75,
    "start_time": "2022-05-05T02:07:45.478Z"
   },
   {
    "duration": 1206,
    "start_time": "2022-05-05T02:07:45.554Z"
   },
   {
    "duration": 147,
    "start_time": "2022-05-05T02:07:46.762Z"
   },
   {
    "duration": 604,
    "start_time": "2022-05-05T02:07:46.911Z"
   },
   {
    "duration": 9044,
    "start_time": "2022-05-05T02:07:47.516Z"
   },
   {
    "duration": 9271,
    "start_time": "2022-05-05T02:07:56.562Z"
   },
   {
    "duration": 81,
    "start_time": "2022-05-05T02:08:05.836Z"
   },
   {
    "duration": 3110,
    "start_time": "2022-05-05T02:08:05.919Z"
   },
   {
    "duration": 60,
    "start_time": "2022-05-05T02:08:09.031Z"
   },
   {
    "duration": 9681,
    "start_time": "2022-05-05T02:08:09.092Z"
   },
   {
    "duration": 8950,
    "start_time": "2022-05-05T02:08:18.775Z"
   },
   {
    "duration": 31,
    "start_time": "2022-05-05T02:08:27.726Z"
   },
   {
    "duration": 11,
    "start_time": "2022-05-05T02:08:27.758Z"
   },
   {
    "duration": 4,
    "start_time": "2022-05-05T02:08:27.771Z"
   },
   {
    "duration": 25,
    "start_time": "2022-05-05T02:08:27.777Z"
   },
   {
    "duration": 95,
    "start_time": "2022-05-05T02:08:27.804Z"
   },
   {
    "duration": 16,
    "start_time": "2022-05-05T02:08:27.900Z"
   },
   {
    "duration": 23,
    "start_time": "2022-05-05T02:08:27.918Z"
   },
   {
    "duration": 571,
    "start_time": "2022-05-05T02:08:27.945Z"
   },
   {
    "duration": 33,
    "start_time": "2022-05-05T02:08:28.517Z"
   },
   {
    "duration": 1427,
    "start_time": "2022-05-05T09:55:28.878Z"
   },
   {
    "duration": 73,
    "start_time": "2022-05-05T09:55:30.307Z"
   },
   {
    "duration": 135,
    "start_time": "2022-05-05T09:55:30.382Z"
   },
   {
    "duration": 0,
    "start_time": "2022-05-05T09:55:30.520Z"
   },
   {
    "duration": 0,
    "start_time": "2022-05-05T09:55:30.521Z"
   },
   {
    "duration": 0,
    "start_time": "2022-05-05T09:55:30.522Z"
   },
   {
    "duration": 0,
    "start_time": "2022-05-05T09:55:30.523Z"
   },
   {
    "duration": 0,
    "start_time": "2022-05-05T09:55:30.524Z"
   },
   {
    "duration": 0,
    "start_time": "2022-05-05T09:55:30.525Z"
   },
   {
    "duration": 0,
    "start_time": "2022-05-05T09:55:30.526Z"
   },
   {
    "duration": 0,
    "start_time": "2022-05-05T09:55:30.527Z"
   },
   {
    "duration": 0,
    "start_time": "2022-05-05T09:55:30.528Z"
   },
   {
    "duration": 0,
    "start_time": "2022-05-05T09:55:30.529Z"
   },
   {
    "duration": 0,
    "start_time": "2022-05-05T09:55:30.530Z"
   },
   {
    "duration": 0,
    "start_time": "2022-05-05T09:55:30.531Z"
   },
   {
    "duration": 0,
    "start_time": "2022-05-05T09:55:30.532Z"
   },
   {
    "duration": 0,
    "start_time": "2022-05-05T09:55:30.533Z"
   },
   {
    "duration": 0,
    "start_time": "2022-05-05T09:55:30.534Z"
   },
   {
    "duration": 0,
    "start_time": "2022-05-05T09:55:30.535Z"
   },
   {
    "duration": 0,
    "start_time": "2022-05-05T09:55:30.536Z"
   },
   {
    "duration": 0,
    "start_time": "2022-05-05T09:55:30.537Z"
   },
   {
    "duration": 0,
    "start_time": "2022-05-05T09:55:30.538Z"
   },
   {
    "duration": 0,
    "start_time": "2022-05-05T09:55:30.539Z"
   },
   {
    "duration": 0,
    "start_time": "2022-05-05T09:55:30.540Z"
   },
   {
    "duration": 0,
    "start_time": "2022-05-05T09:55:30.540Z"
   },
   {
    "duration": 0,
    "start_time": "2022-05-05T09:55:30.541Z"
   },
   {
    "duration": 0,
    "start_time": "2022-05-05T09:55:30.542Z"
   },
   {
    "duration": 0,
    "start_time": "2022-05-05T09:55:30.543Z"
   },
   {
    "duration": 0,
    "start_time": "2022-05-05T09:55:30.544Z"
   },
   {
    "duration": 40,
    "start_time": "2022-05-05T09:57:06.519Z"
   },
   {
    "duration": 52,
    "start_time": "2022-05-05T09:57:23.585Z"
   },
   {
    "duration": 72,
    "start_time": "2022-05-05T09:59:20.496Z"
   },
   {
    "duration": 73,
    "start_time": "2022-05-05T09:59:35.932Z"
   },
   {
    "duration": 77,
    "start_time": "2022-05-05T09:59:55.900Z"
   },
   {
    "duration": 18,
    "start_time": "2022-05-05T10:00:13.225Z"
   },
   {
    "duration": 53,
    "start_time": "2022-05-05T10:01:30.673Z"
   },
   {
    "duration": 3,
    "start_time": "2022-05-05T10:01:36.721Z"
   },
   {
    "duration": 91,
    "start_time": "2022-05-05T10:01:36.728Z"
   },
   {
    "duration": 50,
    "start_time": "2022-05-05T10:01:36.821Z"
   },
   {
    "duration": 50,
    "start_time": "2022-05-05T10:01:36.873Z"
   },
   {
    "duration": 3,
    "start_time": "2022-05-05T10:01:36.925Z"
   },
   {
    "duration": 19,
    "start_time": "2022-05-05T10:01:36.930Z"
   },
   {
    "duration": 420,
    "start_time": "2022-05-05T10:01:36.951Z"
   },
   {
    "duration": 76,
    "start_time": "2022-05-05T10:01:37.373Z"
   },
   {
    "duration": 187,
    "start_time": "2022-05-05T10:01:37.451Z"
   },
   {
    "duration": 23,
    "start_time": "2022-05-05T10:01:37.640Z"
   },
   {
    "duration": 68,
    "start_time": "2022-05-05T10:01:37.666Z"
   },
   {
    "duration": 894,
    "start_time": "2022-05-05T10:01:37.736Z"
   },
   {
    "duration": 110,
    "start_time": "2022-05-05T10:01:38.632Z"
   },
   {
    "duration": 419,
    "start_time": "2022-05-05T10:01:38.744Z"
   },
   {
    "duration": 8492,
    "start_time": "2022-05-05T10:01:39.165Z"
   },
   {
    "duration": 8070,
    "start_time": "2022-05-05T10:01:47.658Z"
   },
   {
    "duration": 57,
    "start_time": "2022-05-05T10:01:55.730Z"
   },
   {
    "duration": 2990,
    "start_time": "2022-05-05T10:01:55.799Z"
   },
   {
    "duration": 50,
    "start_time": "2022-05-05T10:01:58.790Z"
   },
   {
    "duration": 8369,
    "start_time": "2022-05-05T10:01:58.841Z"
   },
   {
    "duration": 8409,
    "start_time": "2022-05-05T10:02:07.212Z"
   },
   {
    "duration": 25,
    "start_time": "2022-05-05T10:02:15.623Z"
   },
   {
    "duration": 17,
    "start_time": "2022-05-05T10:02:15.649Z"
   },
   {
    "duration": 7,
    "start_time": "2022-05-05T10:02:15.668Z"
   },
   {
    "duration": 8,
    "start_time": "2022-05-05T10:02:15.676Z"
   },
   {
    "duration": 146,
    "start_time": "2022-05-05T10:02:15.685Z"
   },
   {
    "duration": 16,
    "start_time": "2022-05-05T10:02:15.833Z"
   },
   {
    "duration": 18,
    "start_time": "2022-05-05T10:02:15.850Z"
   },
   {
    "duration": 397,
    "start_time": "2022-05-05T10:02:15.872Z"
   },
   {
    "duration": 35,
    "start_time": "2022-05-05T10:02:16.271Z"
   },
   {
    "duration": 17,
    "start_time": "2022-05-05T10:04:36.406Z"
   },
   {
    "duration": 15,
    "start_time": "2022-05-05T10:04:52.810Z"
   },
   {
    "duration": 26,
    "start_time": "2022-05-05T10:05:20.730Z"
   },
   {
    "duration": 960,
    "start_time": "2022-05-05T10:20:35.381Z"
   },
   {
    "duration": 974,
    "start_time": "2022-05-05T10:21:26.980Z"
   },
   {
    "duration": 842,
    "start_time": "2022-05-05T10:22:36.436Z"
   },
   {
    "duration": 1106,
    "start_time": "2022-05-05T10:22:52.886Z"
   },
   {
    "duration": 5,
    "start_time": "2022-05-05T10:23:17.021Z"
   },
   {
    "duration": 4,
    "start_time": "2022-05-05T10:25:15.228Z"
   },
   {
    "duration": 12,
    "start_time": "2022-05-05T10:26:10.951Z"
   },
   {
    "duration": 7,
    "start_time": "2022-05-05T10:27:07.289Z"
   },
   {
    "duration": 34,
    "start_time": "2022-05-05T10:28:52.438Z"
   },
   {
    "duration": 780,
    "start_time": "2022-05-05T10:29:17.884Z"
   },
   {
    "duration": 4,
    "start_time": "2022-05-05T10:30:29.803Z"
   },
   {
    "duration": 7,
    "start_time": "2022-05-05T10:31:38.652Z"
   },
   {
    "duration": 10,
    "start_time": "2022-05-05T13:00:46.053Z"
   },
   {
    "duration": 809,
    "start_time": "2022-05-05T13:03:08.579Z"
   },
   {
    "duration": 983,
    "start_time": "2022-05-05T13:03:52.365Z"
   },
   {
    "duration": 1132,
    "start_time": "2022-05-05T13:07:14.547Z"
   },
   {
    "duration": 940,
    "start_time": "2022-05-05T13:07:30.642Z"
   },
   {
    "duration": 840,
    "start_time": "2022-05-05T13:10:36.727Z"
   },
   {
    "duration": 98,
    "start_time": "2022-05-05T13:18:01.257Z"
   },
   {
    "duration": 5,
    "start_time": "2022-05-05T13:23:28.403Z"
   },
   {
    "duration": 6,
    "start_time": "2022-05-05T13:27:06.047Z"
   },
   {
    "duration": 2837,
    "start_time": "2022-05-05T17:24:27.498Z"
   },
   {
    "duration": 145,
    "start_time": "2022-05-05T17:24:30.339Z"
   },
   {
    "duration": 140,
    "start_time": "2022-05-05T17:24:30.487Z"
   },
   {
    "duration": 52,
    "start_time": "2022-05-05T17:24:30.631Z"
   },
   {
    "duration": 6,
    "start_time": "2022-05-05T17:24:30.685Z"
   },
   {
    "duration": 22,
    "start_time": "2022-05-05T17:24:30.694Z"
   },
   {
    "duration": 268,
    "start_time": "2022-05-05T17:24:30.719Z"
   },
   {
    "duration": 27,
    "start_time": "2022-05-05T17:24:30.989Z"
   },
   {
    "duration": 52,
    "start_time": "2022-05-05T17:24:31.019Z"
   },
   {
    "duration": 95,
    "start_time": "2022-05-05T17:24:31.075Z"
   },
   {
    "duration": 367,
    "start_time": "2022-05-05T17:24:31.173Z"
   },
   {
    "duration": 1304,
    "start_time": "2022-05-05T17:24:31.542Z"
   },
   {
    "duration": 209,
    "start_time": "2022-05-05T17:24:32.851Z"
   },
   {
    "duration": 1293,
    "start_time": "2022-05-05T17:24:33.063Z"
   },
   {
    "duration": 21193,
    "start_time": "2022-05-05T17:24:34.359Z"
   },
   {
    "duration": 14672,
    "start_time": "2022-05-05T17:24:55.555Z"
   },
   {
    "duration": 111,
    "start_time": "2022-05-05T17:25:10.230Z"
   },
   {
    "duration": 3276,
    "start_time": "2022-05-05T17:25:10.352Z"
   },
   {
    "duration": 141,
    "start_time": "2022-05-05T17:25:13.631Z"
   },
   {
    "duration": 24941,
    "start_time": "2022-05-05T17:25:13.775Z"
   },
   {
    "duration": 16505,
    "start_time": "2022-05-05T17:25:38.718Z"
   },
   {
    "duration": 50,
    "start_time": "2022-05-05T17:25:55.226Z"
   },
   {
    "duration": 16,
    "start_time": "2022-05-05T17:25:55.279Z"
   },
   {
    "duration": 8,
    "start_time": "2022-05-05T17:25:55.297Z"
   },
   {
    "duration": 8,
    "start_time": "2022-05-05T17:25:55.307Z"
   },
   {
    "duration": 182,
    "start_time": "2022-05-05T17:25:55.317Z"
   },
   {
    "duration": 52,
    "start_time": "2022-05-05T17:25:55.502Z"
   },
   {
    "duration": 18,
    "start_time": "2022-05-05T17:25:55.560Z"
   },
   {
    "duration": 748,
    "start_time": "2022-05-05T17:25:55.581Z"
   },
   {
    "duration": 45,
    "start_time": "2022-05-05T17:25:56.331Z"
   },
   {
    "duration": 25,
    "start_time": "2022-05-05T17:28:30.471Z"
   },
   {
    "duration": 11,
    "start_time": "2022-05-05T17:30:30.028Z"
   },
   {
    "duration": 31,
    "start_time": "2022-05-05T17:32:41.409Z"
   },
   {
    "duration": 229,
    "start_time": "2022-05-05T17:35:06.712Z"
   },
   {
    "duration": 30,
    "start_time": "2022-05-05T17:35:30.089Z"
   },
   {
    "duration": 462,
    "start_time": "2022-05-05T17:42:53.809Z"
   },
   {
    "duration": 27,
    "start_time": "2022-05-05T17:43:43.389Z"
   },
   {
    "duration": 28,
    "start_time": "2022-05-05T17:44:40.589Z"
   },
   {
    "duration": 30,
    "start_time": "2022-05-05T17:44:47.664Z"
   },
   {
    "duration": 30,
    "start_time": "2022-05-05T17:46:15.140Z"
   },
   {
    "duration": 29,
    "start_time": "2022-05-05T17:46:23.293Z"
   },
   {
    "duration": 35,
    "start_time": "2022-05-05T17:46:56.533Z"
   },
   {
    "duration": 36,
    "start_time": "2022-05-05T17:47:47.189Z"
   },
   {
    "duration": 99,
    "start_time": "2022-05-05T17:52:59.328Z"
   },
   {
    "duration": 35,
    "start_time": "2022-05-05T17:54:52.672Z"
   },
   {
    "duration": 16,
    "start_time": "2022-05-05T18:00:40.277Z"
   },
   {
    "duration": 26,
    "start_time": "2022-05-05T18:04:23.483Z"
   },
   {
    "duration": 18,
    "start_time": "2022-05-05T18:06:31.293Z"
   },
   {
    "duration": 47,
    "start_time": "2022-05-05T18:08:35.096Z"
   },
   {
    "duration": 47,
    "start_time": "2022-05-05T18:09:24.213Z"
   },
   {
    "duration": 16,
    "start_time": "2022-05-05T18:12:19.658Z"
   },
   {
    "duration": 103,
    "start_time": "2022-05-05T18:13:31.031Z"
   },
   {
    "duration": 124,
    "start_time": "2022-05-05T18:15:09.948Z"
   },
   {
    "duration": 2024,
    "start_time": "2022-05-06T09:56:20.512Z"
   },
   {
    "duration": 98,
    "start_time": "2022-05-06T09:56:22.539Z"
   },
   {
    "duration": 90,
    "start_time": "2022-05-06T09:56:22.639Z"
   },
   {
    "duration": 40,
    "start_time": "2022-05-06T09:56:22.732Z"
   },
   {
    "duration": 6,
    "start_time": "2022-05-06T09:56:22.774Z"
   },
   {
    "duration": 8,
    "start_time": "2022-05-06T09:56:22.782Z"
   },
   {
    "duration": 246,
    "start_time": "2022-05-06T09:56:22.792Z"
   },
   {
    "duration": 28,
    "start_time": "2022-05-06T09:56:23.040Z"
   },
   {
    "duration": 88,
    "start_time": "2022-05-06T09:56:23.070Z"
   },
   {
    "duration": 108,
    "start_time": "2022-05-06T09:56:23.162Z"
   },
   {
    "duration": 351,
    "start_time": "2022-05-06T09:56:23.325Z"
   },
   {
    "duration": 1363,
    "start_time": "2022-05-06T09:56:23.678Z"
   },
   {
    "duration": 214,
    "start_time": "2022-05-06T09:56:25.043Z"
   },
   {
    "duration": 900,
    "start_time": "2022-05-06T09:56:25.260Z"
   },
   {
    "duration": 21668,
    "start_time": "2022-05-06T09:56:26.162Z"
   },
   {
    "duration": 22035,
    "start_time": "2022-05-06T09:56:47.833Z"
   },
   {
    "duration": 170,
    "start_time": "2022-05-06T09:57:09.870Z"
   },
   {
    "duration": 3062,
    "start_time": "2022-05-06T09:57:10.044Z"
   },
   {
    "duration": 89,
    "start_time": "2022-05-06T09:57:13.108Z"
   },
   {
    "duration": 16175,
    "start_time": "2022-05-06T09:57:13.200Z"
   },
   {
    "duration": 18664,
    "start_time": "2022-05-06T09:57:29.377Z"
   },
   {
    "duration": 61,
    "start_time": "2022-05-06T09:57:48.044Z"
   },
   {
    "duration": 19,
    "start_time": "2022-05-06T09:57:48.123Z"
   },
   {
    "duration": 7,
    "start_time": "2022-05-06T09:57:48.145Z"
   },
   {
    "duration": 13,
    "start_time": "2022-05-06T09:57:48.155Z"
   },
   {
    "duration": 87,
    "start_time": "2022-05-06T09:57:48.171Z"
   },
   {
    "duration": 162,
    "start_time": "2022-05-06T09:57:48.262Z"
   },
   {
    "duration": 32,
    "start_time": "2022-05-06T09:57:48.432Z"
   },
   {
    "duration": 176,
    "start_time": "2022-05-06T09:57:48.468Z"
   },
   {
    "duration": 758,
    "start_time": "2022-05-06T09:57:48.646Z"
   },
   {
    "duration": 54,
    "start_time": "2022-05-06T09:57:49.409Z"
   },
   {
    "duration": 1799,
    "start_time": "2022-05-06T15:09:05.085Z"
   },
   {
    "duration": 200,
    "start_time": "2022-05-06T15:09:06.887Z"
   },
   {
    "duration": 107,
    "start_time": "2022-05-06T15:09:07.090Z"
   },
   {
    "duration": 54,
    "start_time": "2022-05-06T15:09:07.200Z"
   },
   {
    "duration": 8,
    "start_time": "2022-05-06T15:09:07.256Z"
   },
   {
    "duration": 8,
    "start_time": "2022-05-06T15:09:07.266Z"
   },
   {
    "duration": 295,
    "start_time": "2022-05-06T15:09:07.276Z"
   },
   {
    "duration": 66,
    "start_time": "2022-05-06T15:09:07.573Z"
   },
   {
    "duration": 30,
    "start_time": "2022-05-06T15:09:07.642Z"
   },
   {
    "duration": 97,
    "start_time": "2022-05-06T15:09:07.677Z"
   },
   {
    "duration": 411,
    "start_time": "2022-05-06T15:09:07.777Z"
   },
   {
    "duration": 1276,
    "start_time": "2022-05-06T15:09:08.190Z"
   },
   {
    "duration": 222,
    "start_time": "2022-05-06T15:09:09.468Z"
   },
   {
    "duration": 819,
    "start_time": "2022-05-06T15:09:09.692Z"
   },
   {
    "duration": 15148,
    "start_time": "2022-05-06T15:09:10.514Z"
   },
   {
    "duration": 15268,
    "start_time": "2022-05-06T15:09:25.664Z"
   },
   {
    "duration": 120,
    "start_time": "2022-05-06T15:09:40.934Z"
   },
   {
    "duration": 3499,
    "start_time": "2022-05-06T15:09:41.056Z"
   },
   {
    "duration": 91,
    "start_time": "2022-05-06T15:09:44.557Z"
   },
   {
    "duration": 19525,
    "start_time": "2022-05-06T15:09:44.650Z"
   },
   {
    "duration": 17318,
    "start_time": "2022-05-06T15:10:04.177Z"
   },
   {
    "duration": 59,
    "start_time": "2022-05-06T15:10:21.497Z"
   },
   {
    "duration": 17,
    "start_time": "2022-05-06T15:10:21.558Z"
   },
   {
    "duration": 7,
    "start_time": "2022-05-06T15:10:21.577Z"
   },
   {
    "duration": 7,
    "start_time": "2022-05-06T15:10:21.586Z"
   },
   {
    "duration": 37,
    "start_time": "2022-05-06T15:10:21.631Z"
   },
   {
    "duration": 104,
    "start_time": "2022-05-06T15:10:21.670Z"
   },
   {
    "duration": 22,
    "start_time": "2022-05-06T15:10:21.778Z"
   },
   {
    "duration": 123,
    "start_time": "2022-05-06T15:10:21.802Z"
   },
   {
    "duration": 766,
    "start_time": "2022-05-06T15:10:21.928Z"
   },
   {
    "duration": 49,
    "start_time": "2022-05-06T15:10:22.697Z"
   },
   {
    "duration": 1351,
    "start_time": "2022-06-13T11:38:25.728Z"
   },
   {
    "duration": 132,
    "start_time": "2022-06-13T11:38:27.081Z"
   },
   {
    "duration": 48,
    "start_time": "2022-06-13T11:38:27.215Z"
   },
   {
    "duration": 57,
    "start_time": "2022-06-13T11:38:27.266Z"
   },
   {
    "duration": 5,
    "start_time": "2022-06-13T11:38:27.324Z"
   },
   {
    "duration": 10,
    "start_time": "2022-06-13T11:38:27.332Z"
   },
   {
    "duration": 205,
    "start_time": "2022-06-13T11:38:27.344Z"
   },
   {
    "duration": 25,
    "start_time": "2022-06-13T11:38:27.551Z"
   },
   {
    "duration": 26,
    "start_time": "2022-06-13T11:38:27.594Z"
   },
   {
    "duration": 70,
    "start_time": "2022-06-13T11:38:27.624Z"
   },
   {
    "duration": 221,
    "start_time": "2022-06-13T11:38:27.696Z"
   },
   {
    "duration": 911,
    "start_time": "2022-06-13T11:38:27.919Z"
   },
   {
    "duration": 119,
    "start_time": "2022-06-13T11:38:28.831Z"
   },
   {
    "duration": 460,
    "start_time": "2022-06-13T11:38:28.951Z"
   },
   {
    "duration": 8200,
    "start_time": "2022-06-13T11:38:29.412Z"
   },
   {
    "duration": 7256,
    "start_time": "2022-06-13T11:38:37.613Z"
   },
   {
    "duration": 63,
    "start_time": "2022-06-13T11:38:44.871Z"
   },
   {
    "duration": 3428,
    "start_time": "2022-06-13T11:38:44.936Z"
   },
   {
    "duration": 49,
    "start_time": "2022-06-13T11:38:48.366Z"
   },
   {
    "duration": 8898,
    "start_time": "2022-06-13T11:38:48.416Z"
   },
   {
    "duration": 1163,
    "start_time": "2022-07-03T11:02:51.817Z"
   },
   {
    "duration": 117,
    "start_time": "2022-07-03T11:02:52.982Z"
   },
   {
    "duration": 50,
    "start_time": "2022-07-03T11:02:53.101Z"
   },
   {
    "duration": 27,
    "start_time": "2022-07-03T11:02:53.153Z"
   },
   {
    "duration": 4,
    "start_time": "2022-07-03T11:02:53.181Z"
   },
   {
    "duration": 6,
    "start_time": "2022-07-03T11:02:53.187Z"
   },
   {
    "duration": 186,
    "start_time": "2022-07-03T11:02:53.195Z"
   },
   {
    "duration": 18,
    "start_time": "2022-07-03T11:02:53.383Z"
   },
   {
    "duration": 17,
    "start_time": "2022-07-03T11:02:53.403Z"
   },
   {
    "duration": 36,
    "start_time": "2022-07-03T11:02:53.450Z"
   },
   {
    "duration": 249,
    "start_time": "2022-07-03T11:02:53.490Z"
   },
   {
    "duration": 903,
    "start_time": "2022-07-03T11:02:53.741Z"
   },
   {
    "duration": 114,
    "start_time": "2022-07-03T11:02:54.646Z"
   },
   {
    "duration": 484,
    "start_time": "2022-07-03T11:02:54.763Z"
   },
   {
    "duration": 7561,
    "start_time": "2022-07-03T11:02:55.248Z"
   },
   {
    "duration": 7673,
    "start_time": "2022-07-03T11:03:02.810Z"
   },
   {
    "duration": 68,
    "start_time": "2022-07-03T11:03:10.485Z"
   },
   {
    "duration": 6514,
    "start_time": "2022-07-03T11:03:10.555Z"
   },
   {
    "duration": 55,
    "start_time": "2022-07-03T11:03:17.071Z"
   },
   {
    "duration": 8512,
    "start_time": "2022-07-03T11:03:17.128Z"
   },
   {
    "duration": 8742,
    "start_time": "2022-07-03T11:03:25.642Z"
   },
   {
    "duration": 33,
    "start_time": "2022-07-03T11:03:34.386Z"
   },
   {
    "duration": 12,
    "start_time": "2022-07-03T11:03:34.422Z"
   },
   {
    "duration": 23,
    "start_time": "2022-07-03T11:03:34.435Z"
   },
   {
    "duration": 19,
    "start_time": "2022-07-03T11:03:34.461Z"
   },
   {
    "duration": 33,
    "start_time": "2022-07-03T11:03:34.482Z"
   },
   {
    "duration": 89,
    "start_time": "2022-07-03T11:03:34.517Z"
   },
   {
    "duration": 17,
    "start_time": "2022-07-03T11:03:34.609Z"
   },
   {
    "duration": 72,
    "start_time": "2022-07-03T11:03:34.628Z"
   },
   {
    "duration": 413,
    "start_time": "2022-07-03T11:03:34.702Z"
   },
   {
    "duration": 37,
    "start_time": "2022-07-03T11:03:35.117Z"
   },
   {
    "duration": 1179,
    "start_time": "2022-07-04T10:02:03.460Z"
   },
   {
    "duration": 276,
    "start_time": "2022-07-04T10:02:04.641Z"
   },
   {
    "duration": 62,
    "start_time": "2022-07-04T10:02:04.918Z"
   },
   {
    "duration": 29,
    "start_time": "2022-07-04T10:02:04.981Z"
   },
   {
    "duration": 4,
    "start_time": "2022-07-04T10:02:05.012Z"
   },
   {
    "duration": 15,
    "start_time": "2022-07-04T10:02:05.017Z"
   },
   {
    "duration": 179,
    "start_time": "2022-07-04T10:02:05.043Z"
   },
   {
    "duration": 27,
    "start_time": "2022-07-04T10:02:05.224Z"
   },
   {
    "duration": 24,
    "start_time": "2022-07-04T10:02:05.252Z"
   },
   {
    "duration": 83,
    "start_time": "2022-07-04T10:02:05.279Z"
   },
   {
    "duration": 279,
    "start_time": "2022-07-04T10:02:05.364Z"
   },
   {
    "duration": 933,
    "start_time": "2022-07-04T10:02:05.645Z"
   },
   {
    "duration": 114,
    "start_time": "2022-07-04T10:02:06.580Z"
   },
   {
    "duration": 514,
    "start_time": "2022-07-04T10:02:06.696Z"
   },
   {
    "duration": 8329,
    "start_time": "2022-07-04T10:02:07.211Z"
   },
   {
    "duration": 8279,
    "start_time": "2022-07-04T10:02:15.542Z"
   },
   {
    "duration": 88,
    "start_time": "2022-07-04T10:02:23.823Z"
   },
   {
    "duration": 3008,
    "start_time": "2022-07-04T10:02:23.912Z"
   },
   {
    "duration": 48,
    "start_time": "2022-07-04T10:02:26.921Z"
   },
   {
    "duration": 9417,
    "start_time": "2022-07-04T10:02:26.971Z"
   },
   {
    "duration": 9326,
    "start_time": "2022-07-04T10:02:36.390Z"
   },
   {
    "duration": 31,
    "start_time": "2022-07-04T10:02:45.717Z"
   },
   {
    "duration": 14,
    "start_time": "2022-07-04T10:02:45.750Z"
   },
   {
    "duration": 4,
    "start_time": "2022-07-04T10:02:45.765Z"
   },
   {
    "duration": 6,
    "start_time": "2022-07-04T10:02:45.770Z"
   },
   {
    "duration": 21,
    "start_time": "2022-07-04T10:02:45.777Z"
   },
   {
    "duration": 74,
    "start_time": "2022-07-04T10:02:45.799Z"
   },
   {
    "duration": 15,
    "start_time": "2022-07-04T10:02:45.876Z"
   },
   {
    "duration": 74,
    "start_time": "2022-07-04T10:02:45.892Z"
   },
   {
    "duration": 495,
    "start_time": "2022-07-04T10:02:45.967Z"
   },
   {
    "duration": 24,
    "start_time": "2022-07-04T10:02:46.464Z"
   },
   {
    "duration": 1545,
    "start_time": "2022-08-14T11:43:40.899Z"
   },
   {
    "duration": 373,
    "start_time": "2022-08-14T11:43:42.446Z"
   },
   {
    "duration": 59,
    "start_time": "2022-08-14T11:43:42.820Z"
   },
   {
    "duration": 33,
    "start_time": "2022-08-14T11:43:42.882Z"
   },
   {
    "duration": 5,
    "start_time": "2022-08-14T11:43:42.917Z"
   },
   {
    "duration": 7,
    "start_time": "2022-08-14T11:43:42.925Z"
   },
   {
    "duration": 233,
    "start_time": "2022-08-14T11:43:42.934Z"
   },
   {
    "duration": 20,
    "start_time": "2022-08-14T11:43:43.169Z"
   },
   {
    "duration": 30,
    "start_time": "2022-08-14T11:43:43.191Z"
   },
   {
    "duration": 34,
    "start_time": "2022-08-14T11:43:43.259Z"
   },
   {
    "duration": 315,
    "start_time": "2022-08-14T11:43:43.295Z"
   },
   {
    "duration": 1010,
    "start_time": "2022-08-14T11:43:43.612Z"
   },
   {
    "duration": 156,
    "start_time": "2022-08-14T11:43:44.624Z"
   },
   {
    "duration": 618,
    "start_time": "2022-08-14T11:43:44.785Z"
   },
   {
    "duration": 9308,
    "start_time": "2022-08-14T11:43:45.405Z"
   },
   {
    "duration": 11275,
    "start_time": "2022-08-14T11:43:54.715Z"
   },
   {
    "duration": 83,
    "start_time": "2022-08-14T11:44:05.994Z"
   },
   {
    "duration": 3245,
    "start_time": "2022-08-14T11:44:06.078Z"
   },
   {
    "duration": 80,
    "start_time": "2022-08-14T11:44:09.325Z"
   },
   {
    "duration": 10432,
    "start_time": "2022-08-14T11:44:09.407Z"
   },
   {
    "duration": 10291,
    "start_time": "2022-08-14T11:44:19.841Z"
   },
   {
    "duration": 56,
    "start_time": "2022-08-14T11:44:30.134Z"
   },
   {
    "duration": 17,
    "start_time": "2022-08-14T11:44:30.193Z"
   },
   {
    "duration": 6,
    "start_time": "2022-08-14T11:44:30.212Z"
   },
   {
    "duration": 21,
    "start_time": "2022-08-14T11:44:30.220Z"
   },
   {
    "duration": 48,
    "start_time": "2022-08-14T11:44:30.243Z"
   },
   {
    "duration": 105,
    "start_time": "2022-08-14T11:44:30.295Z"
   },
   {
    "duration": 15,
    "start_time": "2022-08-14T11:44:30.406Z"
   },
   {
    "duration": 105,
    "start_time": "2022-08-14T11:44:30.423Z"
   },
   {
    "duration": 487,
    "start_time": "2022-08-14T11:44:30.529Z"
   },
   {
    "duration": 46,
    "start_time": "2022-08-14T11:44:31.018Z"
   },
   {
    "duration": 23,
    "start_time": "2022-08-14T11:45:20.380Z"
   },
   {
    "duration": 8,
    "start_time": "2022-08-14T11:52:01.157Z"
   },
   {
    "duration": 141,
    "start_time": "2022-08-14T11:52:01.176Z"
   },
   {
    "duration": 85,
    "start_time": "2022-08-14T11:52:01.319Z"
   },
   {
    "duration": 38,
    "start_time": "2022-08-14T11:52:01.406Z"
   },
   {
    "duration": 5,
    "start_time": "2022-08-14T11:52:01.445Z"
   },
   {
    "duration": 18,
    "start_time": "2022-08-14T11:52:01.466Z"
   },
   {
    "duration": 55,
    "start_time": "2022-08-14T11:52:01.485Z"
   },
   {
    "duration": 25,
    "start_time": "2022-08-14T11:52:01.543Z"
   },
   {
    "duration": 29,
    "start_time": "2022-08-14T11:52:01.570Z"
   },
   {
    "duration": 35,
    "start_time": "2022-08-14T11:52:01.601Z"
   },
   {
    "duration": 69,
    "start_time": "2022-08-14T11:52:01.638Z"
   },
   {
    "duration": 1031,
    "start_time": "2022-08-14T11:52:01.708Z"
   },
   {
    "duration": 152,
    "start_time": "2022-08-14T11:52:02.741Z"
   },
   {
    "duration": 581,
    "start_time": "2022-08-14T11:52:02.899Z"
   },
   {
    "duration": 9329,
    "start_time": "2022-08-14T11:52:03.485Z"
   },
   {
    "duration": 9310,
    "start_time": "2022-08-14T11:52:12.816Z"
   },
   {
    "duration": 79,
    "start_time": "2022-08-14T11:52:22.128Z"
   },
   {
    "duration": 3290,
    "start_time": "2022-08-14T11:52:22.209Z"
   },
   {
    "duration": 85,
    "start_time": "2022-08-14T11:52:25.501Z"
   },
   {
    "duration": 10903,
    "start_time": "2022-08-14T11:52:25.591Z"
   },
   {
    "duration": 10198,
    "start_time": "2022-08-14T11:52:36.496Z"
   },
   {
    "duration": 28,
    "start_time": "2022-08-14T11:52:46.696Z"
   },
   {
    "duration": 9,
    "start_time": "2022-08-14T11:52:46.726Z"
   },
   {
    "duration": 48,
    "start_time": "2022-08-14T11:52:46.737Z"
   },
   {
    "duration": 11,
    "start_time": "2022-08-14T11:52:46.786Z"
   },
   {
    "duration": 26,
    "start_time": "2022-08-14T11:52:46.799Z"
   },
   {
    "duration": 67,
    "start_time": "2022-08-14T11:52:46.827Z"
   },
   {
    "duration": 15,
    "start_time": "2022-08-14T11:52:46.895Z"
   },
   {
    "duration": 81,
    "start_time": "2022-08-14T11:52:46.912Z"
   },
   {
    "duration": 496,
    "start_time": "2022-08-14T11:52:46.995Z"
   },
   {
    "duration": 24,
    "start_time": "2022-08-14T11:52:47.494Z"
   }
  ],
  "kernelspec": {
   "display_name": "Python 3 (ipykernel)",
   "language": "python",
   "name": "python3"
  },
  "language_info": {
   "codemirror_mode": {
    "name": "ipython",
    "version": 3
   },
   "file_extension": ".py",
   "mimetype": "text/x-python",
   "name": "python",
   "nbconvert_exporter": "python",
   "pygments_lexer": "ipython3",
   "version": "3.9.5"
  },
  "toc": {
   "base_numbering": 1,
   "nav_menu": {},
   "number_sections": true,
   "sideBar": true,
   "skip_h1_title": true,
   "title_cell": "Table of Contents",
   "title_sidebar": "Contents",
   "toc_cell": false,
   "toc_position": {
    "height": "calc(100% - 180px)",
    "left": "10px",
    "top": "150px",
    "width": "324px"
   },
   "toc_section_display": true,
   "toc_window_display": true
  }
 },
 "nbformat": 4,
 "nbformat_minor": 2
}
