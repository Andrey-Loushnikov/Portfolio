{
 "cells": [
  {
   "cell_type": "markdown",
   "metadata": {},
   "source": [
    "# Определение перспективного тарифа для телеком-компании"
   ]
  },
  {
   "cell_type": "markdown",
   "metadata": {},
   "source": [
    "Компания «Мегалайн» — федеральный оператор сотовой связи. Клиентам предлагают два тарифных плана: «Смарт» и «Ультра». Чтобы скорректировать рекламный бюджет, коммерческий департамент хочет понять, какой тариф приносит больше денег.\n",
    "\n",
    "В нашем распоряжении выборка данных из 500 пользователей «Мегалайна»: кто они, откуда, каким тарифом пользуются, сколько звонков и сообщений каждый отправил за 2018 год. Нужно проанализировать поведение клиентов и сделать вывод — какой тариф лучше.\n",
    "\n",
    "В ходе исследования проверим две гипотезы:\n",
    "- средняя выручка пользователей тарифов «Ультра» и «Смарт» различаются;\n",
    "- средняя выручка пользователей из Москвы отличается от выручки пользователей из других регионов."
   ]
  },
  {
   "cell_type": "markdown",
   "metadata": {},
   "source": [
    "## Изучение данных из файла"
   ]
  },
  {
   "cell_type": "code",
   "execution_count": 22,
   "metadata": {},
   "outputs": [],
   "source": [
    "import pandas as pd\n",
    "import matplotlib.pyplot as plt\n",
    "import numpy as np\n",
    "from scipy import stats as st"
   ]
  },
  {
   "cell_type": "code",
   "execution_count": 23,
   "metadata": {},
   "outputs": [
    {
     "data": {
      "text/html": [
       "<div>\n",
       "<style scoped>\n",
       "    .dataframe tbody tr th:only-of-type {\n",
       "        vertical-align: middle;\n",
       "    }\n",
       "\n",
       "    .dataframe tbody tr th {\n",
       "        vertical-align: top;\n",
       "    }\n",
       "\n",
       "    .dataframe thead th {\n",
       "        text-align: right;\n",
       "    }\n",
       "</style>\n",
       "<table border=\"1\" class=\"dataframe\">\n",
       "  <thead>\n",
       "    <tr style=\"text-align: right;\">\n",
       "      <th></th>\n",
       "      <th>id</th>\n",
       "      <th>call_date</th>\n",
       "      <th>duration</th>\n",
       "      <th>user_id</th>\n",
       "    </tr>\n",
       "  </thead>\n",
       "  <tbody>\n",
       "    <tr>\n",
       "      <th>0</th>\n",
       "      <td>1000_0</td>\n",
       "      <td>2018-07-25</td>\n",
       "      <td>0.00</td>\n",
       "      <td>1000</td>\n",
       "    </tr>\n",
       "    <tr>\n",
       "      <th>1</th>\n",
       "      <td>1000_1</td>\n",
       "      <td>2018-08-17</td>\n",
       "      <td>0.00</td>\n",
       "      <td>1000</td>\n",
       "    </tr>\n",
       "    <tr>\n",
       "      <th>2</th>\n",
       "      <td>1000_2</td>\n",
       "      <td>2018-06-11</td>\n",
       "      <td>2.85</td>\n",
       "      <td>1000</td>\n",
       "    </tr>\n",
       "    <tr>\n",
       "      <th>3</th>\n",
       "      <td>1000_3</td>\n",
       "      <td>2018-09-21</td>\n",
       "      <td>13.80</td>\n",
       "      <td>1000</td>\n",
       "    </tr>\n",
       "    <tr>\n",
       "      <th>4</th>\n",
       "      <td>1000_4</td>\n",
       "      <td>2018-12-15</td>\n",
       "      <td>5.18</td>\n",
       "      <td>1000</td>\n",
       "    </tr>\n",
       "  </tbody>\n",
       "</table>\n",
       "</div>"
      ],
      "text/plain": [
       "       id   call_date  duration  user_id\n",
       "0  1000_0  2018-07-25      0.00     1000\n",
       "1  1000_1  2018-08-17      0.00     1000\n",
       "2  1000_2  2018-06-11      2.85     1000\n",
       "3  1000_3  2018-09-21     13.80     1000\n",
       "4  1000_4  2018-12-15      5.18     1000"
      ]
     },
     "metadata": {},
     "output_type": "display_data"
    },
    {
     "name": "stdout",
     "output_type": "stream",
     "text": [
      "<class 'pandas.core.frame.DataFrame'>\n",
      "RangeIndex: 202607 entries, 0 to 202606\n",
      "Data columns (total 4 columns):\n",
      " #   Column     Non-Null Count   Dtype  \n",
      "---  ------     --------------   -----  \n",
      " 0   id         202607 non-null  object \n",
      " 1   call_date  202607 non-null  object \n",
      " 2   duration   202607 non-null  float64\n",
      " 3   user_id    202607 non-null  int64  \n",
      "dtypes: float64(1), int64(1), object(2)\n",
      "memory usage: 6.2+ MB\n"
     ]
    }
   ],
   "source": [
    "calls = pd.read_csv('/datasets/calls.csv')\n",
    "display(calls.head())\n",
    "calls.info()"
   ]
  },
  {
   "cell_type": "code",
   "execution_count": 24,
   "metadata": {},
   "outputs": [
    {
     "data": {
      "text/html": [
       "<div>\n",
       "<style scoped>\n",
       "    .dataframe tbody tr th:only-of-type {\n",
       "        vertical-align: middle;\n",
       "    }\n",
       "\n",
       "    .dataframe tbody tr th {\n",
       "        vertical-align: top;\n",
       "    }\n",
       "\n",
       "    .dataframe thead th {\n",
       "        text-align: right;\n",
       "    }\n",
       "</style>\n",
       "<table border=\"1\" class=\"dataframe\">\n",
       "  <thead>\n",
       "    <tr style=\"text-align: right;\">\n",
       "      <th></th>\n",
       "      <th>Unnamed: 0</th>\n",
       "      <th>id</th>\n",
       "      <th>mb_used</th>\n",
       "      <th>session_date</th>\n",
       "      <th>user_id</th>\n",
       "    </tr>\n",
       "  </thead>\n",
       "  <tbody>\n",
       "    <tr>\n",
       "      <th>0</th>\n",
       "      <td>0</td>\n",
       "      <td>1000_0</td>\n",
       "      <td>112.95</td>\n",
       "      <td>2018-11-25</td>\n",
       "      <td>1000</td>\n",
       "    </tr>\n",
       "    <tr>\n",
       "      <th>1</th>\n",
       "      <td>1</td>\n",
       "      <td>1000_1</td>\n",
       "      <td>1052.81</td>\n",
       "      <td>2018-09-07</td>\n",
       "      <td>1000</td>\n",
       "    </tr>\n",
       "    <tr>\n",
       "      <th>2</th>\n",
       "      <td>2</td>\n",
       "      <td>1000_2</td>\n",
       "      <td>1197.26</td>\n",
       "      <td>2018-06-25</td>\n",
       "      <td>1000</td>\n",
       "    </tr>\n",
       "    <tr>\n",
       "      <th>3</th>\n",
       "      <td>3</td>\n",
       "      <td>1000_3</td>\n",
       "      <td>550.27</td>\n",
       "      <td>2018-08-22</td>\n",
       "      <td>1000</td>\n",
       "    </tr>\n",
       "    <tr>\n",
       "      <th>4</th>\n",
       "      <td>4</td>\n",
       "      <td>1000_4</td>\n",
       "      <td>302.56</td>\n",
       "      <td>2018-09-24</td>\n",
       "      <td>1000</td>\n",
       "    </tr>\n",
       "  </tbody>\n",
       "</table>\n",
       "</div>"
      ],
      "text/plain": [
       "   Unnamed: 0      id  mb_used session_date  user_id\n",
       "0           0  1000_0   112.95   2018-11-25     1000\n",
       "1           1  1000_1  1052.81   2018-09-07     1000\n",
       "2           2  1000_2  1197.26   2018-06-25     1000\n",
       "3           3  1000_3   550.27   2018-08-22     1000\n",
       "4           4  1000_4   302.56   2018-09-24     1000"
      ]
     },
     "metadata": {},
     "output_type": "display_data"
    },
    {
     "name": "stdout",
     "output_type": "stream",
     "text": [
      "<class 'pandas.core.frame.DataFrame'>\n",
      "RangeIndex: 149396 entries, 0 to 149395\n",
      "Data columns (total 5 columns):\n",
      " #   Column        Non-Null Count   Dtype  \n",
      "---  ------        --------------   -----  \n",
      " 0   Unnamed: 0    149396 non-null  int64  \n",
      " 1   id            149396 non-null  object \n",
      " 2   mb_used       149396 non-null  float64\n",
      " 3   session_date  149396 non-null  object \n",
      " 4   user_id       149396 non-null  int64  \n",
      "dtypes: float64(1), int64(2), object(2)\n",
      "memory usage: 5.7+ MB\n"
     ]
    }
   ],
   "source": [
    "internet = pd.read_csv('/datasets/internet.csv')\n",
    "display(internet.head())\n",
    "internet.info()"
   ]
  },
  {
   "cell_type": "code",
   "execution_count": 25,
   "metadata": {},
   "outputs": [
    {
     "data": {
      "text/html": [
       "<div>\n",
       "<style scoped>\n",
       "    .dataframe tbody tr th:only-of-type {\n",
       "        vertical-align: middle;\n",
       "    }\n",
       "\n",
       "    .dataframe tbody tr th {\n",
       "        vertical-align: top;\n",
       "    }\n",
       "\n",
       "    .dataframe thead th {\n",
       "        text-align: right;\n",
       "    }\n",
       "</style>\n",
       "<table border=\"1\" class=\"dataframe\">\n",
       "  <thead>\n",
       "    <tr style=\"text-align: right;\">\n",
       "      <th></th>\n",
       "      <th>id</th>\n",
       "      <th>message_date</th>\n",
       "      <th>user_id</th>\n",
       "    </tr>\n",
       "  </thead>\n",
       "  <tbody>\n",
       "    <tr>\n",
       "      <th>0</th>\n",
       "      <td>1000_0</td>\n",
       "      <td>2018-06-27</td>\n",
       "      <td>1000</td>\n",
       "    </tr>\n",
       "    <tr>\n",
       "      <th>1</th>\n",
       "      <td>1000_1</td>\n",
       "      <td>2018-10-08</td>\n",
       "      <td>1000</td>\n",
       "    </tr>\n",
       "    <tr>\n",
       "      <th>2</th>\n",
       "      <td>1000_2</td>\n",
       "      <td>2018-08-04</td>\n",
       "      <td>1000</td>\n",
       "    </tr>\n",
       "    <tr>\n",
       "      <th>3</th>\n",
       "      <td>1000_3</td>\n",
       "      <td>2018-06-16</td>\n",
       "      <td>1000</td>\n",
       "    </tr>\n",
       "    <tr>\n",
       "      <th>4</th>\n",
       "      <td>1000_4</td>\n",
       "      <td>2018-12-05</td>\n",
       "      <td>1000</td>\n",
       "    </tr>\n",
       "  </tbody>\n",
       "</table>\n",
       "</div>"
      ],
      "text/plain": [
       "       id message_date  user_id\n",
       "0  1000_0   2018-06-27     1000\n",
       "1  1000_1   2018-10-08     1000\n",
       "2  1000_2   2018-08-04     1000\n",
       "3  1000_3   2018-06-16     1000\n",
       "4  1000_4   2018-12-05     1000"
      ]
     },
     "metadata": {},
     "output_type": "display_data"
    },
    {
     "name": "stdout",
     "output_type": "stream",
     "text": [
      "<class 'pandas.core.frame.DataFrame'>\n",
      "RangeIndex: 123036 entries, 0 to 123035\n",
      "Data columns (total 3 columns):\n",
      " #   Column        Non-Null Count   Dtype \n",
      "---  ------        --------------   ----- \n",
      " 0   id            123036 non-null  object\n",
      " 1   message_date  123036 non-null  object\n",
      " 2   user_id       123036 non-null  int64 \n",
      "dtypes: int64(1), object(2)\n",
      "memory usage: 2.8+ MB\n"
     ]
    }
   ],
   "source": [
    "messages = pd.read_csv('/datasets/messages.csv')\n",
    "display(messages.head())\n",
    "messages.info()"
   ]
  },
  {
   "cell_type": "code",
   "execution_count": 26,
   "metadata": {},
   "outputs": [
    {
     "data": {
      "text/html": [
       "<div>\n",
       "<style scoped>\n",
       "    .dataframe tbody tr th:only-of-type {\n",
       "        vertical-align: middle;\n",
       "    }\n",
       "\n",
       "    .dataframe tbody tr th {\n",
       "        vertical-align: top;\n",
       "    }\n",
       "\n",
       "    .dataframe thead th {\n",
       "        text-align: right;\n",
       "    }\n",
       "</style>\n",
       "<table border=\"1\" class=\"dataframe\">\n",
       "  <thead>\n",
       "    <tr style=\"text-align: right;\">\n",
       "      <th></th>\n",
       "      <th>messages_included</th>\n",
       "      <th>mb_per_month_included</th>\n",
       "      <th>minutes_included</th>\n",
       "      <th>rub_monthly_fee</th>\n",
       "      <th>rub_per_gb</th>\n",
       "      <th>rub_per_message</th>\n",
       "      <th>rub_per_minute</th>\n",
       "      <th>tariff_name</th>\n",
       "    </tr>\n",
       "  </thead>\n",
       "  <tbody>\n",
       "    <tr>\n",
       "      <th>0</th>\n",
       "      <td>50</td>\n",
       "      <td>15360</td>\n",
       "      <td>500</td>\n",
       "      <td>550</td>\n",
       "      <td>200</td>\n",
       "      <td>3</td>\n",
       "      <td>3</td>\n",
       "      <td>smart</td>\n",
       "    </tr>\n",
       "    <tr>\n",
       "      <th>1</th>\n",
       "      <td>1000</td>\n",
       "      <td>30720</td>\n",
       "      <td>3000</td>\n",
       "      <td>1950</td>\n",
       "      <td>150</td>\n",
       "      <td>1</td>\n",
       "      <td>1</td>\n",
       "      <td>ultra</td>\n",
       "    </tr>\n",
       "  </tbody>\n",
       "</table>\n",
       "</div>"
      ],
      "text/plain": [
       "   messages_included  mb_per_month_included  minutes_included  \\\n",
       "0                 50                  15360               500   \n",
       "1               1000                  30720              3000   \n",
       "\n",
       "   rub_monthly_fee  rub_per_gb  rub_per_message  rub_per_minute tariff_name  \n",
       "0              550         200                3               3       smart  \n",
       "1             1950         150                1               1       ultra  "
      ]
     },
     "execution_count": 26,
     "metadata": {},
     "output_type": "execute_result"
    }
   ],
   "source": [
    "tariffs = pd.read_csv('/datasets/tariffs.csv')\n",
    "tariffs.head()"
   ]
  },
  {
   "cell_type": "code",
   "execution_count": 27,
   "metadata": {},
   "outputs": [
    {
     "data": {
      "text/html": [
       "<div>\n",
       "<style scoped>\n",
       "    .dataframe tbody tr th:only-of-type {\n",
       "        vertical-align: middle;\n",
       "    }\n",
       "\n",
       "    .dataframe tbody tr th {\n",
       "        vertical-align: top;\n",
       "    }\n",
       "\n",
       "    .dataframe thead th {\n",
       "        text-align: right;\n",
       "    }\n",
       "</style>\n",
       "<table border=\"1\" class=\"dataframe\">\n",
       "  <thead>\n",
       "    <tr style=\"text-align: right;\">\n",
       "      <th></th>\n",
       "      <th>user_id</th>\n",
       "      <th>age</th>\n",
       "      <th>churn_date</th>\n",
       "      <th>city</th>\n",
       "      <th>first_name</th>\n",
       "      <th>last_name</th>\n",
       "      <th>reg_date</th>\n",
       "      <th>tariff</th>\n",
       "    </tr>\n",
       "  </thead>\n",
       "  <tbody>\n",
       "    <tr>\n",
       "      <th>0</th>\n",
       "      <td>1000</td>\n",
       "      <td>52</td>\n",
       "      <td>NaN</td>\n",
       "      <td>Краснодар</td>\n",
       "      <td>Рафаил</td>\n",
       "      <td>Верещагин</td>\n",
       "      <td>2018-05-25</td>\n",
       "      <td>ultra</td>\n",
       "    </tr>\n",
       "    <tr>\n",
       "      <th>1</th>\n",
       "      <td>1001</td>\n",
       "      <td>41</td>\n",
       "      <td>NaN</td>\n",
       "      <td>Москва</td>\n",
       "      <td>Иван</td>\n",
       "      <td>Ежов</td>\n",
       "      <td>2018-11-01</td>\n",
       "      <td>smart</td>\n",
       "    </tr>\n",
       "    <tr>\n",
       "      <th>2</th>\n",
       "      <td>1002</td>\n",
       "      <td>59</td>\n",
       "      <td>NaN</td>\n",
       "      <td>Стерлитамак</td>\n",
       "      <td>Евгений</td>\n",
       "      <td>Абрамович</td>\n",
       "      <td>2018-06-17</td>\n",
       "      <td>smart</td>\n",
       "    </tr>\n",
       "    <tr>\n",
       "      <th>3</th>\n",
       "      <td>1003</td>\n",
       "      <td>23</td>\n",
       "      <td>NaN</td>\n",
       "      <td>Москва</td>\n",
       "      <td>Белла</td>\n",
       "      <td>Белякова</td>\n",
       "      <td>2018-08-17</td>\n",
       "      <td>ultra</td>\n",
       "    </tr>\n",
       "    <tr>\n",
       "      <th>4</th>\n",
       "      <td>1004</td>\n",
       "      <td>68</td>\n",
       "      <td>NaN</td>\n",
       "      <td>Новокузнецк</td>\n",
       "      <td>Татьяна</td>\n",
       "      <td>Авдеенко</td>\n",
       "      <td>2018-05-14</td>\n",
       "      <td>ultra</td>\n",
       "    </tr>\n",
       "  </tbody>\n",
       "</table>\n",
       "</div>"
      ],
      "text/plain": [
       "   user_id  age churn_date         city first_name  last_name    reg_date  \\\n",
       "0     1000   52        NaN    Краснодар     Рафаил  Верещагин  2018-05-25   \n",
       "1     1001   41        NaN       Москва       Иван       Ежов  2018-11-01   \n",
       "2     1002   59        NaN  Стерлитамак    Евгений  Абрамович  2018-06-17   \n",
       "3     1003   23        NaN       Москва      Белла   Белякова  2018-08-17   \n",
       "4     1004   68        NaN  Новокузнецк    Татьяна   Авдеенко  2018-05-14   \n",
       "\n",
       "  tariff  \n",
       "0  ultra  \n",
       "1  smart  \n",
       "2  smart  \n",
       "3  ultra  \n",
       "4  ultra  "
      ]
     },
     "metadata": {},
     "output_type": "display_data"
    },
    {
     "name": "stdout",
     "output_type": "stream",
     "text": [
      "<class 'pandas.core.frame.DataFrame'>\n",
      "RangeIndex: 500 entries, 0 to 499\n",
      "Data columns (total 8 columns):\n",
      " #   Column      Non-Null Count  Dtype \n",
      "---  ------      --------------  ----- \n",
      " 0   user_id     500 non-null    int64 \n",
      " 1   age         500 non-null    int64 \n",
      " 2   churn_date  38 non-null     object\n",
      " 3   city        500 non-null    object\n",
      " 4   first_name  500 non-null    object\n",
      " 5   last_name   500 non-null    object\n",
      " 6   reg_date    500 non-null    object\n",
      " 7   tariff      500 non-null    object\n",
      "dtypes: int64(2), object(6)\n",
      "memory usage: 31.4+ KB\n"
     ]
    }
   ],
   "source": [
    "users = pd.read_csv('/datasets/users.csv')\n",
    "display(users.head())\n",
    "users.info()"
   ]
  },
  {
   "cell_type": "markdown",
   "metadata": {},
   "source": [
    "### Вывод"
   ]
  },
  {
   "cell_type": "markdown",
   "metadata": {},
   "source": [
    "Все данные разделены на пять таблиц, в которых описывается информация о клиенте (возраст, город проживания, ФИО, тариф, дата подключения) и как он пользовался услугами Компании (информация о звонках, сообщениях, интернет-сессиях). \n",
    "\n",
    "Пропущенные значения обнаружены только в столбце `churn_date` таблицы `users`. Согласно документации пропущенное значение свидетельствует о действующем тарифе на момент выгрузки данных. "
   ]
  },
  {
   "cell_type": "markdown",
   "metadata": {},
   "source": [
    "## Предобработка данных"
   ]
  },
  {
   "cell_type": "markdown",
   "metadata": {},
   "source": [
    "Согласно документации, длительность звонков и потребляемый трафик округляется в большую сторону с секунд до минут и с Мб до Гб.\n",
    "\n",
    "Приведём фактические значения к округлённым для удобства расчёта, а также изменим тип данных в столбцах с датой."
   ]
  },
  {
   "cell_type": "code",
   "execution_count": 28,
   "metadata": {},
   "outputs": [],
   "source": [
    "calls['call_date'] = calls['call_date'].astype('datetime64')\n",
    "calls['duration'] = calls['duration'].apply(np.ceil).astype(int)"
   ]
  },
  {
   "cell_type": "code",
   "execution_count": 29,
   "metadata": {
    "scrolled": true
   },
   "outputs": [],
   "source": [
    "internet['session_date'] = internet['session_date'].astype('datetime64')"
   ]
  },
  {
   "cell_type": "code",
   "execution_count": 30,
   "metadata": {},
   "outputs": [],
   "source": [
    "messages['message_date'] = messages['message_date'].astype('datetime64')"
   ]
  },
  {
   "cell_type": "code",
   "execution_count": 31,
   "metadata": {
    "scrolled": true
   },
   "outputs": [],
   "source": [
    "tariffs = tariffs.rename(columns={'tariff_name': 'tariff', 'mb_per_month_included': 'gb_per_month_included'})\n",
    "tariffs['gb_per_month_included'] = tariffs['gb_per_month_included'] / 1024\n",
    "tariffs['gb_per_month_included'] = tariffs['gb_per_month_included'].astype(int)"
   ]
  },
  {
   "cell_type": "markdown",
   "metadata": {},
   "source": [
    "### Вывод"
   ]
  },
  {
   "cell_type": "markdown",
   "metadata": {},
   "source": [
    "Данные в таблицах подготовлены для дальнейших группировок и расчётов."
   ]
  },
  {
   "cell_type": "markdown",
   "metadata": {},
   "source": [
    "## Расчёты и группировка результатов "
   ]
  },
  {
   "cell_type": "markdown",
   "metadata": {},
   "source": [
    "Сгруппируем по каждому клиенту и месяцу количество звонков и их суммарную длительность."
   ]
  },
  {
   "cell_type": "code",
   "execution_count": 32,
   "metadata": {
    "scrolled": false
   },
   "outputs": [
    {
     "data": {
      "text/html": [
       "<div>\n",
       "<style scoped>\n",
       "    .dataframe tbody tr th:only-of-type {\n",
       "        vertical-align: middle;\n",
       "    }\n",
       "\n",
       "    .dataframe tbody tr th {\n",
       "        vertical-align: top;\n",
       "    }\n",
       "\n",
       "    .dataframe thead th {\n",
       "        text-align: right;\n",
       "    }\n",
       "</style>\n",
       "<table border=\"1\" class=\"dataframe\">\n",
       "  <thead>\n",
       "    <tr style=\"text-align: right;\">\n",
       "      <th></th>\n",
       "      <th></th>\n",
       "      <th>count_call</th>\n",
       "      <th>sum_call</th>\n",
       "    </tr>\n",
       "    <tr>\n",
       "      <th>user_id</th>\n",
       "      <th>month</th>\n",
       "      <th></th>\n",
       "      <th></th>\n",
       "    </tr>\n",
       "  </thead>\n",
       "  <tbody>\n",
       "    <tr>\n",
       "      <th rowspan=\"5\" valign=\"top\">1000</th>\n",
       "      <th>5</th>\n",
       "      <td>22</td>\n",
       "      <td>159</td>\n",
       "    </tr>\n",
       "    <tr>\n",
       "      <th>6</th>\n",
       "      <td>43</td>\n",
       "      <td>172</td>\n",
       "    </tr>\n",
       "    <tr>\n",
       "      <th>7</th>\n",
       "      <td>47</td>\n",
       "      <td>340</td>\n",
       "    </tr>\n",
       "    <tr>\n",
       "      <th>8</th>\n",
       "      <td>52</td>\n",
       "      <td>408</td>\n",
       "    </tr>\n",
       "    <tr>\n",
       "      <th>9</th>\n",
       "      <td>58</td>\n",
       "      <td>466</td>\n",
       "    </tr>\n",
       "    <tr>\n",
       "      <th>...</th>\n",
       "      <th>...</th>\n",
       "      <td>...</td>\n",
       "      <td>...</td>\n",
       "    </tr>\n",
       "    <tr>\n",
       "      <th>1498</th>\n",
       "      <th>10</th>\n",
       "      <td>41</td>\n",
       "      <td>247</td>\n",
       "    </tr>\n",
       "    <tr>\n",
       "      <th rowspan=\"4\" valign=\"top\">1499</th>\n",
       "      <th>9</th>\n",
       "      <td>9</td>\n",
       "      <td>70</td>\n",
       "    </tr>\n",
       "    <tr>\n",
       "      <th>10</th>\n",
       "      <td>68</td>\n",
       "      <td>449</td>\n",
       "    </tr>\n",
       "    <tr>\n",
       "      <th>11</th>\n",
       "      <td>74</td>\n",
       "      <td>612</td>\n",
       "    </tr>\n",
       "    <tr>\n",
       "      <th>12</th>\n",
       "      <td>69</td>\n",
       "      <td>492</td>\n",
       "    </tr>\n",
       "  </tbody>\n",
       "</table>\n",
       "<p>3174 rows × 2 columns</p>\n",
       "</div>"
      ],
      "text/plain": [
       "               count_call  sum_call\n",
       "user_id month                      \n",
       "1000    5              22       159\n",
       "        6              43       172\n",
       "        7              47       340\n",
       "        8              52       408\n",
       "        9              58       466\n",
       "...                   ...       ...\n",
       "1498    10             41       247\n",
       "1499    9               9        70\n",
       "        10             68       449\n",
       "        11             74       612\n",
       "        12             69       492\n",
       "\n",
       "[3174 rows x 2 columns]"
      ]
     },
     "metadata": {},
     "output_type": "display_data"
    }
   ],
   "source": [
    "calls['month'] = calls['call_date'].dt.month\n",
    "calls_grouped = calls.pivot_table(index=['user_id', 'month'], values='duration', aggfunc=['count', 'sum'])\n",
    "calls_grouped.columns = ['count_call', 'sum_call']\n",
    "display(calls_grouped)"
   ]
  },
  {
   "cell_type": "markdown",
   "metadata": {},
   "source": [
    "Такая же группировка с сообщениями."
   ]
  },
  {
   "cell_type": "code",
   "execution_count": 33,
   "metadata": {},
   "outputs": [
    {
     "data": {
      "text/html": [
       "<div>\n",
       "<style scoped>\n",
       "    .dataframe tbody tr th:only-of-type {\n",
       "        vertical-align: middle;\n",
       "    }\n",
       "\n",
       "    .dataframe tbody tr th {\n",
       "        vertical-align: top;\n",
       "    }\n",
       "\n",
       "    .dataframe thead th {\n",
       "        text-align: right;\n",
       "    }\n",
       "</style>\n",
       "<table border=\"1\" class=\"dataframe\">\n",
       "  <thead>\n",
       "    <tr style=\"text-align: right;\">\n",
       "      <th></th>\n",
       "      <th></th>\n",
       "      <th>count_message</th>\n",
       "    </tr>\n",
       "    <tr>\n",
       "      <th>user_id</th>\n",
       "      <th>month</th>\n",
       "      <th></th>\n",
       "    </tr>\n",
       "  </thead>\n",
       "  <tbody>\n",
       "    <tr>\n",
       "      <th rowspan=\"5\" valign=\"top\">1000</th>\n",
       "      <th>5</th>\n",
       "      <td>22</td>\n",
       "    </tr>\n",
       "    <tr>\n",
       "      <th>6</th>\n",
       "      <td>60</td>\n",
       "    </tr>\n",
       "    <tr>\n",
       "      <th>7</th>\n",
       "      <td>75</td>\n",
       "    </tr>\n",
       "    <tr>\n",
       "      <th>8</th>\n",
       "      <td>81</td>\n",
       "    </tr>\n",
       "    <tr>\n",
       "      <th>9</th>\n",
       "      <td>57</td>\n",
       "    </tr>\n",
       "    <tr>\n",
       "      <th>...</th>\n",
       "      <th>...</th>\n",
       "      <td>...</td>\n",
       "    </tr>\n",
       "    <tr>\n",
       "      <th>1498</th>\n",
       "      <th>10</th>\n",
       "      <td>42</td>\n",
       "    </tr>\n",
       "    <tr>\n",
       "      <th rowspan=\"4\" valign=\"top\">1499</th>\n",
       "      <th>9</th>\n",
       "      <td>11</td>\n",
       "    </tr>\n",
       "    <tr>\n",
       "      <th>10</th>\n",
       "      <td>48</td>\n",
       "    </tr>\n",
       "    <tr>\n",
       "      <th>11</th>\n",
       "      <td>59</td>\n",
       "    </tr>\n",
       "    <tr>\n",
       "      <th>12</th>\n",
       "      <td>66</td>\n",
       "    </tr>\n",
       "  </tbody>\n",
       "</table>\n",
       "<p>2717 rows × 1 columns</p>\n",
       "</div>"
      ],
      "text/plain": [
       "               count_message\n",
       "user_id month               \n",
       "1000    5                 22\n",
       "        6                 60\n",
       "        7                 75\n",
       "        8                 81\n",
       "        9                 57\n",
       "...                      ...\n",
       "1498    10                42\n",
       "1499    9                 11\n",
       "        10                48\n",
       "        11                59\n",
       "        12                66\n",
       "\n",
       "[2717 rows x 1 columns]"
      ]
     },
     "metadata": {},
     "output_type": "display_data"
    }
   ],
   "source": [
    "messages['month'] = messages['message_date'].dt.month\n",
    "messages_grouped = messages.pivot_table(index=['user_id', 'month'], values='id', aggfunc='count')\n",
    "messages_grouped.columns = ['count_message']\n",
    "display(messages_grouped)"
   ]
  },
  {
   "cell_type": "markdown",
   "metadata": {},
   "source": [
    "Группировка с использованным трафиком."
   ]
  },
  {
   "cell_type": "code",
   "execution_count": 34,
   "metadata": {
    "scrolled": false
   },
   "outputs": [
    {
     "data": {
      "text/html": [
       "<div>\n",
       "<style scoped>\n",
       "    .dataframe tbody tr th:only-of-type {\n",
       "        vertical-align: middle;\n",
       "    }\n",
       "\n",
       "    .dataframe tbody tr th {\n",
       "        vertical-align: top;\n",
       "    }\n",
       "\n",
       "    .dataframe thead th {\n",
       "        text-align: right;\n",
       "    }\n",
       "</style>\n",
       "<table border=\"1\" class=\"dataframe\">\n",
       "  <thead>\n",
       "    <tr style=\"text-align: right;\">\n",
       "      <th></th>\n",
       "      <th></th>\n",
       "      <th>gb_used</th>\n",
       "    </tr>\n",
       "    <tr>\n",
       "      <th>user_id</th>\n",
       "      <th>month</th>\n",
       "      <th></th>\n",
       "    </tr>\n",
       "  </thead>\n",
       "  <tbody>\n",
       "    <tr>\n",
       "      <th rowspan=\"5\" valign=\"top\">1000</th>\n",
       "      <th>5</th>\n",
       "      <td>3</td>\n",
       "    </tr>\n",
       "    <tr>\n",
       "      <th>6</th>\n",
       "      <td>23</td>\n",
       "    </tr>\n",
       "    <tr>\n",
       "      <th>7</th>\n",
       "      <td>14</td>\n",
       "    </tr>\n",
       "    <tr>\n",
       "      <th>8</th>\n",
       "      <td>14</td>\n",
       "    </tr>\n",
       "    <tr>\n",
       "      <th>9</th>\n",
       "      <td>15</td>\n",
       "    </tr>\n",
       "    <tr>\n",
       "      <th>...</th>\n",
       "      <th>...</th>\n",
       "      <td>...</td>\n",
       "    </tr>\n",
       "    <tr>\n",
       "      <th>1498</th>\n",
       "      <th>10</th>\n",
       "      <td>21</td>\n",
       "    </tr>\n",
       "    <tr>\n",
       "      <th rowspan=\"4\" valign=\"top\">1499</th>\n",
       "      <th>9</th>\n",
       "      <td>2</td>\n",
       "    </tr>\n",
       "    <tr>\n",
       "      <th>10</th>\n",
       "      <td>18</td>\n",
       "    </tr>\n",
       "    <tr>\n",
       "      <th>11</th>\n",
       "      <td>18</td>\n",
       "    </tr>\n",
       "    <tr>\n",
       "      <th>12</th>\n",
       "      <td>13</td>\n",
       "    </tr>\n",
       "  </tbody>\n",
       "</table>\n",
       "<p>3203 rows × 1 columns</p>\n",
       "</div>"
      ],
      "text/plain": [
       "               gb_used\n",
       "user_id month         \n",
       "1000    5            3\n",
       "        6           23\n",
       "        7           14\n",
       "        8           14\n",
       "        9           15\n",
       "...                ...\n",
       "1498    10          21\n",
       "1499    9            2\n",
       "        10          18\n",
       "        11          18\n",
       "        12          13\n",
       "\n",
       "[3203 rows x 1 columns]"
      ]
     },
     "metadata": {},
     "output_type": "display_data"
    }
   ],
   "source": [
    "internet['month'] = internet['session_date'].dt.month\n",
    "internet_grouped = internet.pivot_table(index=['user_id', 'month'], values='mb_used', aggfunc='sum')\n",
    "internet_grouped['mb_used'] = internet_grouped['mb_used'] / 1024\n",
    "internet_grouped['mb_used'] = internet_grouped['mb_used'].apply(np.ceil).astype(int)\n",
    "internet_grouped = internet_grouped.rename(columns={'mb_used': 'gb_used'})\n",
    "display(internet_grouped)"
   ]
  },
  {
   "cell_type": "markdown",
   "metadata": {},
   "source": [
    "Объединяем информацию по пользователям по звонкам, сообщениям и интернету."
   ]
  },
  {
   "cell_type": "code",
   "execution_count": 35,
   "metadata": {
    "scrolled": false
   },
   "outputs": [
    {
     "data": {
      "text/html": [
       "<div>\n",
       "<style scoped>\n",
       "    .dataframe tbody tr th:only-of-type {\n",
       "        vertical-align: middle;\n",
       "    }\n",
       "\n",
       "    .dataframe tbody tr th {\n",
       "        vertical-align: top;\n",
       "    }\n",
       "\n",
       "    .dataframe thead th {\n",
       "        text-align: right;\n",
       "    }\n",
       "</style>\n",
       "<table border=\"1\" class=\"dataframe\">\n",
       "  <thead>\n",
       "    <tr style=\"text-align: right;\">\n",
       "      <th></th>\n",
       "      <th></th>\n",
       "      <th>count_call</th>\n",
       "      <th>sum_call</th>\n",
       "      <th>count_message</th>\n",
       "      <th>gb_used</th>\n",
       "    </tr>\n",
       "    <tr>\n",
       "      <th>user_id</th>\n",
       "      <th>month</th>\n",
       "      <th></th>\n",
       "      <th></th>\n",
       "      <th></th>\n",
       "      <th></th>\n",
       "    </tr>\n",
       "  </thead>\n",
       "  <tbody>\n",
       "    <tr>\n",
       "      <th rowspan=\"5\" valign=\"top\">1000</th>\n",
       "      <th>5</th>\n",
       "      <td>22.0</td>\n",
       "      <td>159.0</td>\n",
       "      <td>22.0</td>\n",
       "      <td>3.0</td>\n",
       "    </tr>\n",
       "    <tr>\n",
       "      <th>6</th>\n",
       "      <td>43.0</td>\n",
       "      <td>172.0</td>\n",
       "      <td>60.0</td>\n",
       "      <td>23.0</td>\n",
       "    </tr>\n",
       "    <tr>\n",
       "      <th>7</th>\n",
       "      <td>47.0</td>\n",
       "      <td>340.0</td>\n",
       "      <td>75.0</td>\n",
       "      <td>14.0</td>\n",
       "    </tr>\n",
       "    <tr>\n",
       "      <th>8</th>\n",
       "      <td>52.0</td>\n",
       "      <td>408.0</td>\n",
       "      <td>81.0</td>\n",
       "      <td>14.0</td>\n",
       "    </tr>\n",
       "    <tr>\n",
       "      <th>9</th>\n",
       "      <td>58.0</td>\n",
       "      <td>466.0</td>\n",
       "      <td>57.0</td>\n",
       "      <td>15.0</td>\n",
       "    </tr>\n",
       "    <tr>\n",
       "      <th>...</th>\n",
       "      <th>...</th>\n",
       "      <td>...</td>\n",
       "      <td>...</td>\n",
       "      <td>...</td>\n",
       "      <td>...</td>\n",
       "    </tr>\n",
       "    <tr>\n",
       "      <th>1498</th>\n",
       "      <th>10</th>\n",
       "      <td>41.0</td>\n",
       "      <td>247.0</td>\n",
       "      <td>42.0</td>\n",
       "      <td>21.0</td>\n",
       "    </tr>\n",
       "    <tr>\n",
       "      <th rowspan=\"4\" valign=\"top\">1499</th>\n",
       "      <th>9</th>\n",
       "      <td>9.0</td>\n",
       "      <td>70.0</td>\n",
       "      <td>11.0</td>\n",
       "      <td>2.0</td>\n",
       "    </tr>\n",
       "    <tr>\n",
       "      <th>10</th>\n",
       "      <td>68.0</td>\n",
       "      <td>449.0</td>\n",
       "      <td>48.0</td>\n",
       "      <td>18.0</td>\n",
       "    </tr>\n",
       "    <tr>\n",
       "      <th>11</th>\n",
       "      <td>74.0</td>\n",
       "      <td>612.0</td>\n",
       "      <td>59.0</td>\n",
       "      <td>18.0</td>\n",
       "    </tr>\n",
       "    <tr>\n",
       "      <th>12</th>\n",
       "      <td>69.0</td>\n",
       "      <td>492.0</td>\n",
       "      <td>66.0</td>\n",
       "      <td>13.0</td>\n",
       "    </tr>\n",
       "  </tbody>\n",
       "</table>\n",
       "<p>3214 rows × 4 columns</p>\n",
       "</div>"
      ],
      "text/plain": [
       "               count_call  sum_call  count_message  gb_used\n",
       "user_id month                                              \n",
       "1000    5            22.0     159.0           22.0      3.0\n",
       "        6            43.0     172.0           60.0     23.0\n",
       "        7            47.0     340.0           75.0     14.0\n",
       "        8            52.0     408.0           81.0     14.0\n",
       "        9            58.0     466.0           57.0     15.0\n",
       "...                   ...       ...            ...      ...\n",
       "1498    10           41.0     247.0           42.0     21.0\n",
       "1499    9             9.0      70.0           11.0      2.0\n",
       "        10           68.0     449.0           48.0     18.0\n",
       "        11           74.0     612.0           59.0     18.0\n",
       "        12           69.0     492.0           66.0     13.0\n",
       "\n",
       "[3214 rows x 4 columns]"
      ]
     },
     "metadata": {},
     "output_type": "display_data"
    }
   ],
   "source": [
    "total_df = calls_grouped.join([messages_grouped, internet_grouped], how='outer')\n",
    "display(total_df)"
   ]
  },
  {
   "cell_type": "markdown",
   "metadata": {},
   "source": [
    "Добавляем к объединённой таблице личную информацию по пользователям."
   ]
  },
  {
   "cell_type": "code",
   "execution_count": 36,
   "metadata": {
    "scrolled": false
   },
   "outputs": [
    {
     "data": {
      "text/html": [
       "<div>\n",
       "<style scoped>\n",
       "    .dataframe tbody tr th:only-of-type {\n",
       "        vertical-align: middle;\n",
       "    }\n",
       "\n",
       "    .dataframe tbody tr th {\n",
       "        vertical-align: top;\n",
       "    }\n",
       "\n",
       "    .dataframe thead th {\n",
       "        text-align: right;\n",
       "    }\n",
       "</style>\n",
       "<table border=\"1\" class=\"dataframe\">\n",
       "  <thead>\n",
       "    <tr style=\"text-align: right;\">\n",
       "      <th></th>\n",
       "      <th>user_id</th>\n",
       "      <th>month</th>\n",
       "      <th>count_call</th>\n",
       "      <th>sum_call</th>\n",
       "      <th>count_message</th>\n",
       "      <th>gb_used</th>\n",
       "      <th>age</th>\n",
       "      <th>churn_date</th>\n",
       "      <th>city</th>\n",
       "      <th>first_name</th>\n",
       "      <th>last_name</th>\n",
       "      <th>reg_date</th>\n",
       "      <th>tariff</th>\n",
       "    </tr>\n",
       "  </thead>\n",
       "  <tbody>\n",
       "    <tr>\n",
       "      <th>0</th>\n",
       "      <td>1000</td>\n",
       "      <td>5.0</td>\n",
       "      <td>22.0</td>\n",
       "      <td>159.0</td>\n",
       "      <td>22.0</td>\n",
       "      <td>3.0</td>\n",
       "      <td>52</td>\n",
       "      <td>NaN</td>\n",
       "      <td>Краснодар</td>\n",
       "      <td>Рафаил</td>\n",
       "      <td>Верещагин</td>\n",
       "      <td>2018-05-25</td>\n",
       "      <td>ultra</td>\n",
       "    </tr>\n",
       "    <tr>\n",
       "      <th>1</th>\n",
       "      <td>1000</td>\n",
       "      <td>6.0</td>\n",
       "      <td>43.0</td>\n",
       "      <td>172.0</td>\n",
       "      <td>60.0</td>\n",
       "      <td>23.0</td>\n",
       "      <td>52</td>\n",
       "      <td>NaN</td>\n",
       "      <td>Краснодар</td>\n",
       "      <td>Рафаил</td>\n",
       "      <td>Верещагин</td>\n",
       "      <td>2018-05-25</td>\n",
       "      <td>ultra</td>\n",
       "    </tr>\n",
       "    <tr>\n",
       "      <th>2</th>\n",
       "      <td>1000</td>\n",
       "      <td>7.0</td>\n",
       "      <td>47.0</td>\n",
       "      <td>340.0</td>\n",
       "      <td>75.0</td>\n",
       "      <td>14.0</td>\n",
       "      <td>52</td>\n",
       "      <td>NaN</td>\n",
       "      <td>Краснодар</td>\n",
       "      <td>Рафаил</td>\n",
       "      <td>Верещагин</td>\n",
       "      <td>2018-05-25</td>\n",
       "      <td>ultra</td>\n",
       "    </tr>\n",
       "    <tr>\n",
       "      <th>3</th>\n",
       "      <td>1000</td>\n",
       "      <td>8.0</td>\n",
       "      <td>52.0</td>\n",
       "      <td>408.0</td>\n",
       "      <td>81.0</td>\n",
       "      <td>14.0</td>\n",
       "      <td>52</td>\n",
       "      <td>NaN</td>\n",
       "      <td>Краснодар</td>\n",
       "      <td>Рафаил</td>\n",
       "      <td>Верещагин</td>\n",
       "      <td>2018-05-25</td>\n",
       "      <td>ultra</td>\n",
       "    </tr>\n",
       "    <tr>\n",
       "      <th>4</th>\n",
       "      <td>1000</td>\n",
       "      <td>9.0</td>\n",
       "      <td>58.0</td>\n",
       "      <td>466.0</td>\n",
       "      <td>57.0</td>\n",
       "      <td>15.0</td>\n",
       "      <td>52</td>\n",
       "      <td>NaN</td>\n",
       "      <td>Краснодар</td>\n",
       "      <td>Рафаил</td>\n",
       "      <td>Верещагин</td>\n",
       "      <td>2018-05-25</td>\n",
       "      <td>ultra</td>\n",
       "    </tr>\n",
       "    <tr>\n",
       "      <th>...</th>\n",
       "      <td>...</td>\n",
       "      <td>...</td>\n",
       "      <td>...</td>\n",
       "      <td>...</td>\n",
       "      <td>...</td>\n",
       "      <td>...</td>\n",
       "      <td>...</td>\n",
       "      <td>...</td>\n",
       "      <td>...</td>\n",
       "      <td>...</td>\n",
       "      <td>...</td>\n",
       "      <td>...</td>\n",
       "      <td>...</td>\n",
       "    </tr>\n",
       "    <tr>\n",
       "      <th>3211</th>\n",
       "      <td>1499</td>\n",
       "      <td>10.0</td>\n",
       "      <td>68.0</td>\n",
       "      <td>449.0</td>\n",
       "      <td>48.0</td>\n",
       "      <td>18.0</td>\n",
       "      <td>35</td>\n",
       "      <td>NaN</td>\n",
       "      <td>Пермь</td>\n",
       "      <td>Гектор</td>\n",
       "      <td>Корнилов</td>\n",
       "      <td>2018-09-27</td>\n",
       "      <td>smart</td>\n",
       "    </tr>\n",
       "    <tr>\n",
       "      <th>3212</th>\n",
       "      <td>1499</td>\n",
       "      <td>11.0</td>\n",
       "      <td>74.0</td>\n",
       "      <td>612.0</td>\n",
       "      <td>59.0</td>\n",
       "      <td>18.0</td>\n",
       "      <td>35</td>\n",
       "      <td>NaN</td>\n",
       "      <td>Пермь</td>\n",
       "      <td>Гектор</td>\n",
       "      <td>Корнилов</td>\n",
       "      <td>2018-09-27</td>\n",
       "      <td>smart</td>\n",
       "    </tr>\n",
       "    <tr>\n",
       "      <th>3213</th>\n",
       "      <td>1499</td>\n",
       "      <td>12.0</td>\n",
       "      <td>69.0</td>\n",
       "      <td>492.0</td>\n",
       "      <td>66.0</td>\n",
       "      <td>13.0</td>\n",
       "      <td>35</td>\n",
       "      <td>NaN</td>\n",
       "      <td>Пермь</td>\n",
       "      <td>Гектор</td>\n",
       "      <td>Корнилов</td>\n",
       "      <td>2018-09-27</td>\n",
       "      <td>smart</td>\n",
       "    </tr>\n",
       "    <tr>\n",
       "      <th>3214</th>\n",
       "      <td>1128</td>\n",
       "      <td>NaN</td>\n",
       "      <td>NaN</td>\n",
       "      <td>NaN</td>\n",
       "      <td>NaN</td>\n",
       "      <td>NaN</td>\n",
       "      <td>51</td>\n",
       "      <td>2018-12-23</td>\n",
       "      <td>Волжский</td>\n",
       "      <td>Ксения</td>\n",
       "      <td>Агаева</td>\n",
       "      <td>2018-12-15</td>\n",
       "      <td>ultra</td>\n",
       "    </tr>\n",
       "    <tr>\n",
       "      <th>3215</th>\n",
       "      <td>1371</td>\n",
       "      <td>NaN</td>\n",
       "      <td>NaN</td>\n",
       "      <td>NaN</td>\n",
       "      <td>NaN</td>\n",
       "      <td>NaN</td>\n",
       "      <td>50</td>\n",
       "      <td>2018-12-30</td>\n",
       "      <td>Омск</td>\n",
       "      <td>Ириней</td>\n",
       "      <td>Трофимов</td>\n",
       "      <td>2018-12-25</td>\n",
       "      <td>smart</td>\n",
       "    </tr>\n",
       "  </tbody>\n",
       "</table>\n",
       "<p>3216 rows × 13 columns</p>\n",
       "</div>"
      ],
      "text/plain": [
       "      user_id  month  count_call  sum_call  count_message  gb_used  age  \\\n",
       "0        1000    5.0        22.0     159.0           22.0      3.0   52   \n",
       "1        1000    6.0        43.0     172.0           60.0     23.0   52   \n",
       "2        1000    7.0        47.0     340.0           75.0     14.0   52   \n",
       "3        1000    8.0        52.0     408.0           81.0     14.0   52   \n",
       "4        1000    9.0        58.0     466.0           57.0     15.0   52   \n",
       "...       ...    ...         ...       ...            ...      ...  ...   \n",
       "3211     1499   10.0        68.0     449.0           48.0     18.0   35   \n",
       "3212     1499   11.0        74.0     612.0           59.0     18.0   35   \n",
       "3213     1499   12.0        69.0     492.0           66.0     13.0   35   \n",
       "3214     1128    NaN         NaN       NaN            NaN      NaN   51   \n",
       "3215     1371    NaN         NaN       NaN            NaN      NaN   50   \n",
       "\n",
       "      churn_date       city first_name  last_name    reg_date tariff  \n",
       "0            NaN  Краснодар     Рафаил  Верещагин  2018-05-25  ultra  \n",
       "1            NaN  Краснодар     Рафаил  Верещагин  2018-05-25  ultra  \n",
       "2            NaN  Краснодар     Рафаил  Верещагин  2018-05-25  ultra  \n",
       "3            NaN  Краснодар     Рафаил  Верещагин  2018-05-25  ultra  \n",
       "4            NaN  Краснодар     Рафаил  Верещагин  2018-05-25  ultra  \n",
       "...          ...        ...        ...        ...         ...    ...  \n",
       "3211         NaN      Пермь     Гектор   Корнилов  2018-09-27  smart  \n",
       "3212         NaN      Пермь     Гектор   Корнилов  2018-09-27  smart  \n",
       "3213         NaN      Пермь     Гектор   Корнилов  2018-09-27  smart  \n",
       "3214  2018-12-23   Волжский     Ксения     Агаева  2018-12-15  ultra  \n",
       "3215  2018-12-30       Омск     Ириней   Трофимов  2018-12-25  smart  \n",
       "\n",
       "[3216 rows x 13 columns]"
      ]
     },
     "metadata": {},
     "output_type": "display_data"
    }
   ],
   "source": [
    "total_df = total_df.reset_index()\n",
    "total_df = total_df.merge(users, on='user_id', how='outer')\n",
    "display(total_df)"
   ]
  },
  {
   "cell_type": "markdown",
   "metadata": {},
   "source": [
    "Для удобства расчёта выручки с каждого пользователя добавляем таблицу с информацией по тарифам."
   ]
  },
  {
   "cell_type": "code",
   "execution_count": 37,
   "metadata": {
    "scrolled": false
   },
   "outputs": [
    {
     "data": {
      "text/html": [
       "<div>\n",
       "<style scoped>\n",
       "    .dataframe tbody tr th:only-of-type {\n",
       "        vertical-align: middle;\n",
       "    }\n",
       "\n",
       "    .dataframe tbody tr th {\n",
       "        vertical-align: top;\n",
       "    }\n",
       "\n",
       "    .dataframe thead th {\n",
       "        text-align: right;\n",
       "    }\n",
       "</style>\n",
       "<table border=\"1\" class=\"dataframe\">\n",
       "  <thead>\n",
       "    <tr style=\"text-align: right;\">\n",
       "      <th></th>\n",
       "      <th>user_id</th>\n",
       "      <th>month</th>\n",
       "      <th>count_call</th>\n",
       "      <th>sum_call</th>\n",
       "      <th>count_message</th>\n",
       "      <th>gb_used</th>\n",
       "      <th>age</th>\n",
       "      <th>churn_date</th>\n",
       "      <th>city</th>\n",
       "      <th>first_name</th>\n",
       "      <th>last_name</th>\n",
       "      <th>reg_date</th>\n",
       "      <th>tariff</th>\n",
       "      <th>messages_included</th>\n",
       "      <th>gb_per_month_included</th>\n",
       "      <th>minutes_included</th>\n",
       "      <th>rub_monthly_fee</th>\n",
       "      <th>rub_per_gb</th>\n",
       "      <th>rub_per_message</th>\n",
       "      <th>rub_per_minute</th>\n",
       "    </tr>\n",
       "  </thead>\n",
       "  <tbody>\n",
       "    <tr>\n",
       "      <th>0</th>\n",
       "      <td>1000</td>\n",
       "      <td>5.0</td>\n",
       "      <td>22.0</td>\n",
       "      <td>159.0</td>\n",
       "      <td>22.0</td>\n",
       "      <td>3.0</td>\n",
       "      <td>52</td>\n",
       "      <td>NaN</td>\n",
       "      <td>Краснодар</td>\n",
       "      <td>Рафаил</td>\n",
       "      <td>Верещагин</td>\n",
       "      <td>2018-05-25</td>\n",
       "      <td>ultra</td>\n",
       "      <td>1000</td>\n",
       "      <td>30</td>\n",
       "      <td>3000</td>\n",
       "      <td>1950</td>\n",
       "      <td>150</td>\n",
       "      <td>1</td>\n",
       "      <td>1</td>\n",
       "    </tr>\n",
       "    <tr>\n",
       "      <th>1</th>\n",
       "      <td>1000</td>\n",
       "      <td>6.0</td>\n",
       "      <td>43.0</td>\n",
       "      <td>172.0</td>\n",
       "      <td>60.0</td>\n",
       "      <td>23.0</td>\n",
       "      <td>52</td>\n",
       "      <td>NaN</td>\n",
       "      <td>Краснодар</td>\n",
       "      <td>Рафаил</td>\n",
       "      <td>Верещагин</td>\n",
       "      <td>2018-05-25</td>\n",
       "      <td>ultra</td>\n",
       "      <td>1000</td>\n",
       "      <td>30</td>\n",
       "      <td>3000</td>\n",
       "      <td>1950</td>\n",
       "      <td>150</td>\n",
       "      <td>1</td>\n",
       "      <td>1</td>\n",
       "    </tr>\n",
       "    <tr>\n",
       "      <th>2</th>\n",
       "      <td>1000</td>\n",
       "      <td>7.0</td>\n",
       "      <td>47.0</td>\n",
       "      <td>340.0</td>\n",
       "      <td>75.0</td>\n",
       "      <td>14.0</td>\n",
       "      <td>52</td>\n",
       "      <td>NaN</td>\n",
       "      <td>Краснодар</td>\n",
       "      <td>Рафаил</td>\n",
       "      <td>Верещагин</td>\n",
       "      <td>2018-05-25</td>\n",
       "      <td>ultra</td>\n",
       "      <td>1000</td>\n",
       "      <td>30</td>\n",
       "      <td>3000</td>\n",
       "      <td>1950</td>\n",
       "      <td>150</td>\n",
       "      <td>1</td>\n",
       "      <td>1</td>\n",
       "    </tr>\n",
       "    <tr>\n",
       "      <th>3</th>\n",
       "      <td>1000</td>\n",
       "      <td>8.0</td>\n",
       "      <td>52.0</td>\n",
       "      <td>408.0</td>\n",
       "      <td>81.0</td>\n",
       "      <td>14.0</td>\n",
       "      <td>52</td>\n",
       "      <td>NaN</td>\n",
       "      <td>Краснодар</td>\n",
       "      <td>Рафаил</td>\n",
       "      <td>Верещагин</td>\n",
       "      <td>2018-05-25</td>\n",
       "      <td>ultra</td>\n",
       "      <td>1000</td>\n",
       "      <td>30</td>\n",
       "      <td>3000</td>\n",
       "      <td>1950</td>\n",
       "      <td>150</td>\n",
       "      <td>1</td>\n",
       "      <td>1</td>\n",
       "    </tr>\n",
       "    <tr>\n",
       "      <th>4</th>\n",
       "      <td>1000</td>\n",
       "      <td>9.0</td>\n",
       "      <td>58.0</td>\n",
       "      <td>466.0</td>\n",
       "      <td>57.0</td>\n",
       "      <td>15.0</td>\n",
       "      <td>52</td>\n",
       "      <td>NaN</td>\n",
       "      <td>Краснодар</td>\n",
       "      <td>Рафаил</td>\n",
       "      <td>Верещагин</td>\n",
       "      <td>2018-05-25</td>\n",
       "      <td>ultra</td>\n",
       "      <td>1000</td>\n",
       "      <td>30</td>\n",
       "      <td>3000</td>\n",
       "      <td>1950</td>\n",
       "      <td>150</td>\n",
       "      <td>1</td>\n",
       "      <td>1</td>\n",
       "    </tr>\n",
       "    <tr>\n",
       "      <th>...</th>\n",
       "      <td>...</td>\n",
       "      <td>...</td>\n",
       "      <td>...</td>\n",
       "      <td>...</td>\n",
       "      <td>...</td>\n",
       "      <td>...</td>\n",
       "      <td>...</td>\n",
       "      <td>...</td>\n",
       "      <td>...</td>\n",
       "      <td>...</td>\n",
       "      <td>...</td>\n",
       "      <td>...</td>\n",
       "      <td>...</td>\n",
       "      <td>...</td>\n",
       "      <td>...</td>\n",
       "      <td>...</td>\n",
       "      <td>...</td>\n",
       "      <td>...</td>\n",
       "      <td>...</td>\n",
       "      <td>...</td>\n",
       "    </tr>\n",
       "    <tr>\n",
       "      <th>3211</th>\n",
       "      <td>1499</td>\n",
       "      <td>9.0</td>\n",
       "      <td>9.0</td>\n",
       "      <td>70.0</td>\n",
       "      <td>11.0</td>\n",
       "      <td>2.0</td>\n",
       "      <td>35</td>\n",
       "      <td>NaN</td>\n",
       "      <td>Пермь</td>\n",
       "      <td>Гектор</td>\n",
       "      <td>Корнилов</td>\n",
       "      <td>2018-09-27</td>\n",
       "      <td>smart</td>\n",
       "      <td>50</td>\n",
       "      <td>15</td>\n",
       "      <td>500</td>\n",
       "      <td>550</td>\n",
       "      <td>200</td>\n",
       "      <td>3</td>\n",
       "      <td>3</td>\n",
       "    </tr>\n",
       "    <tr>\n",
       "      <th>3212</th>\n",
       "      <td>1499</td>\n",
       "      <td>10.0</td>\n",
       "      <td>68.0</td>\n",
       "      <td>449.0</td>\n",
       "      <td>48.0</td>\n",
       "      <td>18.0</td>\n",
       "      <td>35</td>\n",
       "      <td>NaN</td>\n",
       "      <td>Пермь</td>\n",
       "      <td>Гектор</td>\n",
       "      <td>Корнилов</td>\n",
       "      <td>2018-09-27</td>\n",
       "      <td>smart</td>\n",
       "      <td>50</td>\n",
       "      <td>15</td>\n",
       "      <td>500</td>\n",
       "      <td>550</td>\n",
       "      <td>200</td>\n",
       "      <td>3</td>\n",
       "      <td>3</td>\n",
       "    </tr>\n",
       "    <tr>\n",
       "      <th>3213</th>\n",
       "      <td>1499</td>\n",
       "      <td>11.0</td>\n",
       "      <td>74.0</td>\n",
       "      <td>612.0</td>\n",
       "      <td>59.0</td>\n",
       "      <td>18.0</td>\n",
       "      <td>35</td>\n",
       "      <td>NaN</td>\n",
       "      <td>Пермь</td>\n",
       "      <td>Гектор</td>\n",
       "      <td>Корнилов</td>\n",
       "      <td>2018-09-27</td>\n",
       "      <td>smart</td>\n",
       "      <td>50</td>\n",
       "      <td>15</td>\n",
       "      <td>500</td>\n",
       "      <td>550</td>\n",
       "      <td>200</td>\n",
       "      <td>3</td>\n",
       "      <td>3</td>\n",
       "    </tr>\n",
       "    <tr>\n",
       "      <th>3214</th>\n",
       "      <td>1499</td>\n",
       "      <td>12.0</td>\n",
       "      <td>69.0</td>\n",
       "      <td>492.0</td>\n",
       "      <td>66.0</td>\n",
       "      <td>13.0</td>\n",
       "      <td>35</td>\n",
       "      <td>NaN</td>\n",
       "      <td>Пермь</td>\n",
       "      <td>Гектор</td>\n",
       "      <td>Корнилов</td>\n",
       "      <td>2018-09-27</td>\n",
       "      <td>smart</td>\n",
       "      <td>50</td>\n",
       "      <td>15</td>\n",
       "      <td>500</td>\n",
       "      <td>550</td>\n",
       "      <td>200</td>\n",
       "      <td>3</td>\n",
       "      <td>3</td>\n",
       "    </tr>\n",
       "    <tr>\n",
       "      <th>3215</th>\n",
       "      <td>1371</td>\n",
       "      <td>NaN</td>\n",
       "      <td>NaN</td>\n",
       "      <td>NaN</td>\n",
       "      <td>NaN</td>\n",
       "      <td>NaN</td>\n",
       "      <td>50</td>\n",
       "      <td>2018-12-30</td>\n",
       "      <td>Омск</td>\n",
       "      <td>Ириней</td>\n",
       "      <td>Трофимов</td>\n",
       "      <td>2018-12-25</td>\n",
       "      <td>smart</td>\n",
       "      <td>50</td>\n",
       "      <td>15</td>\n",
       "      <td>500</td>\n",
       "      <td>550</td>\n",
       "      <td>200</td>\n",
       "      <td>3</td>\n",
       "      <td>3</td>\n",
       "    </tr>\n",
       "  </tbody>\n",
       "</table>\n",
       "<p>3216 rows × 20 columns</p>\n",
       "</div>"
      ],
      "text/plain": [
       "      user_id  month  count_call  sum_call  count_message  gb_used  age  \\\n",
       "0        1000    5.0        22.0     159.0           22.0      3.0   52   \n",
       "1        1000    6.0        43.0     172.0           60.0     23.0   52   \n",
       "2        1000    7.0        47.0     340.0           75.0     14.0   52   \n",
       "3        1000    8.0        52.0     408.0           81.0     14.0   52   \n",
       "4        1000    9.0        58.0     466.0           57.0     15.0   52   \n",
       "...       ...    ...         ...       ...            ...      ...  ...   \n",
       "3211     1499    9.0         9.0      70.0           11.0      2.0   35   \n",
       "3212     1499   10.0        68.0     449.0           48.0     18.0   35   \n",
       "3213     1499   11.0        74.0     612.0           59.0     18.0   35   \n",
       "3214     1499   12.0        69.0     492.0           66.0     13.0   35   \n",
       "3215     1371    NaN         NaN       NaN            NaN      NaN   50   \n",
       "\n",
       "      churn_date       city first_name  last_name    reg_date tariff  \\\n",
       "0            NaN  Краснодар     Рафаил  Верещагин  2018-05-25  ultra   \n",
       "1            NaN  Краснодар     Рафаил  Верещагин  2018-05-25  ultra   \n",
       "2            NaN  Краснодар     Рафаил  Верещагин  2018-05-25  ultra   \n",
       "3            NaN  Краснодар     Рафаил  Верещагин  2018-05-25  ultra   \n",
       "4            NaN  Краснодар     Рафаил  Верещагин  2018-05-25  ultra   \n",
       "...          ...        ...        ...        ...         ...    ...   \n",
       "3211         NaN      Пермь     Гектор   Корнилов  2018-09-27  smart   \n",
       "3212         NaN      Пермь     Гектор   Корнилов  2018-09-27  smart   \n",
       "3213         NaN      Пермь     Гектор   Корнилов  2018-09-27  smart   \n",
       "3214         NaN      Пермь     Гектор   Корнилов  2018-09-27  smart   \n",
       "3215  2018-12-30       Омск     Ириней   Трофимов  2018-12-25  smart   \n",
       "\n",
       "      messages_included  gb_per_month_included  minutes_included  \\\n",
       "0                  1000                     30              3000   \n",
       "1                  1000                     30              3000   \n",
       "2                  1000                     30              3000   \n",
       "3                  1000                     30              3000   \n",
       "4                  1000                     30              3000   \n",
       "...                 ...                    ...               ...   \n",
       "3211                 50                     15               500   \n",
       "3212                 50                     15               500   \n",
       "3213                 50                     15               500   \n",
       "3214                 50                     15               500   \n",
       "3215                 50                     15               500   \n",
       "\n",
       "      rub_monthly_fee  rub_per_gb  rub_per_message  rub_per_minute  \n",
       "0                1950         150                1               1  \n",
       "1                1950         150                1               1  \n",
       "2                1950         150                1               1  \n",
       "3                1950         150                1               1  \n",
       "4                1950         150                1               1  \n",
       "...               ...         ...              ...             ...  \n",
       "3211              550         200                3               3  \n",
       "3212              550         200                3               3  \n",
       "3213              550         200                3               3  \n",
       "3214              550         200                3               3  \n",
       "3215              550         200                3               3  \n",
       "\n",
       "[3216 rows x 20 columns]"
      ]
     },
     "metadata": {},
     "output_type": "display_data"
    }
   ],
   "source": [
    "total_df = total_df.merge(tariffs, on='tariff')\n",
    "display(total_df)"
   ]
  },
  {
   "cell_type": "markdown",
   "metadata": {},
   "source": [
    "Производим помесячный расчёт выручки по каждому пользователю и добавляем соответствующий столбец в таблицу."
   ]
  },
  {
   "cell_type": "code",
   "execution_count": 38,
   "metadata": {
    "scrolled": false
   },
   "outputs": [
    {
     "data": {
      "text/html": [
       "<div>\n",
       "<style scoped>\n",
       "    .dataframe tbody tr th:only-of-type {\n",
       "        vertical-align: middle;\n",
       "    }\n",
       "\n",
       "    .dataframe tbody tr th {\n",
       "        vertical-align: top;\n",
       "    }\n",
       "\n",
       "    .dataframe thead th {\n",
       "        text-align: right;\n",
       "    }\n",
       "</style>\n",
       "<table border=\"1\" class=\"dataframe\">\n",
       "  <thead>\n",
       "    <tr style=\"text-align: right;\">\n",
       "      <th></th>\n",
       "      <th>user_id</th>\n",
       "      <th>month</th>\n",
       "      <th>count_call</th>\n",
       "      <th>sum_call</th>\n",
       "      <th>count_message</th>\n",
       "      <th>gb_used</th>\n",
       "      <th>age</th>\n",
       "      <th>churn_date</th>\n",
       "      <th>city</th>\n",
       "      <th>first_name</th>\n",
       "      <th>...</th>\n",
       "      <th>reg_date</th>\n",
       "      <th>tariff</th>\n",
       "      <th>messages_included</th>\n",
       "      <th>gb_per_month_included</th>\n",
       "      <th>minutes_included</th>\n",
       "      <th>rub_monthly_fee</th>\n",
       "      <th>rub_per_gb</th>\n",
       "      <th>rub_per_message</th>\n",
       "      <th>rub_per_minute</th>\n",
       "      <th>revenue_for_month</th>\n",
       "    </tr>\n",
       "  </thead>\n",
       "  <tbody>\n",
       "    <tr>\n",
       "      <th>0</th>\n",
       "      <td>1000</td>\n",
       "      <td>5.0</td>\n",
       "      <td>22.0</td>\n",
       "      <td>159.0</td>\n",
       "      <td>22.0</td>\n",
       "      <td>3.0</td>\n",
       "      <td>52</td>\n",
       "      <td>NaN</td>\n",
       "      <td>Краснодар</td>\n",
       "      <td>Рафаил</td>\n",
       "      <td>...</td>\n",
       "      <td>2018-05-25</td>\n",
       "      <td>ultra</td>\n",
       "      <td>1000</td>\n",
       "      <td>30</td>\n",
       "      <td>3000</td>\n",
       "      <td>1950</td>\n",
       "      <td>150</td>\n",
       "      <td>1</td>\n",
       "      <td>1</td>\n",
       "      <td>1950.0</td>\n",
       "    </tr>\n",
       "    <tr>\n",
       "      <th>1</th>\n",
       "      <td>1000</td>\n",
       "      <td>6.0</td>\n",
       "      <td>43.0</td>\n",
       "      <td>172.0</td>\n",
       "      <td>60.0</td>\n",
       "      <td>23.0</td>\n",
       "      <td>52</td>\n",
       "      <td>NaN</td>\n",
       "      <td>Краснодар</td>\n",
       "      <td>Рафаил</td>\n",
       "      <td>...</td>\n",
       "      <td>2018-05-25</td>\n",
       "      <td>ultra</td>\n",
       "      <td>1000</td>\n",
       "      <td>30</td>\n",
       "      <td>3000</td>\n",
       "      <td>1950</td>\n",
       "      <td>150</td>\n",
       "      <td>1</td>\n",
       "      <td>1</td>\n",
       "      <td>1950.0</td>\n",
       "    </tr>\n",
       "    <tr>\n",
       "      <th>2</th>\n",
       "      <td>1000</td>\n",
       "      <td>7.0</td>\n",
       "      <td>47.0</td>\n",
       "      <td>340.0</td>\n",
       "      <td>75.0</td>\n",
       "      <td>14.0</td>\n",
       "      <td>52</td>\n",
       "      <td>NaN</td>\n",
       "      <td>Краснодар</td>\n",
       "      <td>Рафаил</td>\n",
       "      <td>...</td>\n",
       "      <td>2018-05-25</td>\n",
       "      <td>ultra</td>\n",
       "      <td>1000</td>\n",
       "      <td>30</td>\n",
       "      <td>3000</td>\n",
       "      <td>1950</td>\n",
       "      <td>150</td>\n",
       "      <td>1</td>\n",
       "      <td>1</td>\n",
       "      <td>1950.0</td>\n",
       "    </tr>\n",
       "    <tr>\n",
       "      <th>3</th>\n",
       "      <td>1000</td>\n",
       "      <td>8.0</td>\n",
       "      <td>52.0</td>\n",
       "      <td>408.0</td>\n",
       "      <td>81.0</td>\n",
       "      <td>14.0</td>\n",
       "      <td>52</td>\n",
       "      <td>NaN</td>\n",
       "      <td>Краснодар</td>\n",
       "      <td>Рафаил</td>\n",
       "      <td>...</td>\n",
       "      <td>2018-05-25</td>\n",
       "      <td>ultra</td>\n",
       "      <td>1000</td>\n",
       "      <td>30</td>\n",
       "      <td>3000</td>\n",
       "      <td>1950</td>\n",
       "      <td>150</td>\n",
       "      <td>1</td>\n",
       "      <td>1</td>\n",
       "      <td>1950.0</td>\n",
       "    </tr>\n",
       "    <tr>\n",
       "      <th>4</th>\n",
       "      <td>1000</td>\n",
       "      <td>9.0</td>\n",
       "      <td>58.0</td>\n",
       "      <td>466.0</td>\n",
       "      <td>57.0</td>\n",
       "      <td>15.0</td>\n",
       "      <td>52</td>\n",
       "      <td>NaN</td>\n",
       "      <td>Краснодар</td>\n",
       "      <td>Рафаил</td>\n",
       "      <td>...</td>\n",
       "      <td>2018-05-25</td>\n",
       "      <td>ultra</td>\n",
       "      <td>1000</td>\n",
       "      <td>30</td>\n",
       "      <td>3000</td>\n",
       "      <td>1950</td>\n",
       "      <td>150</td>\n",
       "      <td>1</td>\n",
       "      <td>1</td>\n",
       "      <td>1950.0</td>\n",
       "    </tr>\n",
       "    <tr>\n",
       "      <th>...</th>\n",
       "      <td>...</td>\n",
       "      <td>...</td>\n",
       "      <td>...</td>\n",
       "      <td>...</td>\n",
       "      <td>...</td>\n",
       "      <td>...</td>\n",
       "      <td>...</td>\n",
       "      <td>...</td>\n",
       "      <td>...</td>\n",
       "      <td>...</td>\n",
       "      <td>...</td>\n",
       "      <td>...</td>\n",
       "      <td>...</td>\n",
       "      <td>...</td>\n",
       "      <td>...</td>\n",
       "      <td>...</td>\n",
       "      <td>...</td>\n",
       "      <td>...</td>\n",
       "      <td>...</td>\n",
       "      <td>...</td>\n",
       "      <td>...</td>\n",
       "    </tr>\n",
       "    <tr>\n",
       "      <th>3211</th>\n",
       "      <td>1499</td>\n",
       "      <td>9.0</td>\n",
       "      <td>9.0</td>\n",
       "      <td>70.0</td>\n",
       "      <td>11.0</td>\n",
       "      <td>2.0</td>\n",
       "      <td>35</td>\n",
       "      <td>NaN</td>\n",
       "      <td>Пермь</td>\n",
       "      <td>Гектор</td>\n",
       "      <td>...</td>\n",
       "      <td>2018-09-27</td>\n",
       "      <td>smart</td>\n",
       "      <td>50</td>\n",
       "      <td>15</td>\n",
       "      <td>500</td>\n",
       "      <td>550</td>\n",
       "      <td>200</td>\n",
       "      <td>3</td>\n",
       "      <td>3</td>\n",
       "      <td>550.0</td>\n",
       "    </tr>\n",
       "    <tr>\n",
       "      <th>3212</th>\n",
       "      <td>1499</td>\n",
       "      <td>10.0</td>\n",
       "      <td>68.0</td>\n",
       "      <td>449.0</td>\n",
       "      <td>48.0</td>\n",
       "      <td>18.0</td>\n",
       "      <td>35</td>\n",
       "      <td>NaN</td>\n",
       "      <td>Пермь</td>\n",
       "      <td>Гектор</td>\n",
       "      <td>...</td>\n",
       "      <td>2018-09-27</td>\n",
       "      <td>smart</td>\n",
       "      <td>50</td>\n",
       "      <td>15</td>\n",
       "      <td>500</td>\n",
       "      <td>550</td>\n",
       "      <td>200</td>\n",
       "      <td>3</td>\n",
       "      <td>3</td>\n",
       "      <td>1150.0</td>\n",
       "    </tr>\n",
       "    <tr>\n",
       "      <th>3213</th>\n",
       "      <td>1499</td>\n",
       "      <td>11.0</td>\n",
       "      <td>74.0</td>\n",
       "      <td>612.0</td>\n",
       "      <td>59.0</td>\n",
       "      <td>18.0</td>\n",
       "      <td>35</td>\n",
       "      <td>NaN</td>\n",
       "      <td>Пермь</td>\n",
       "      <td>Гектор</td>\n",
       "      <td>...</td>\n",
       "      <td>2018-09-27</td>\n",
       "      <td>smart</td>\n",
       "      <td>50</td>\n",
       "      <td>15</td>\n",
       "      <td>500</td>\n",
       "      <td>550</td>\n",
       "      <td>200</td>\n",
       "      <td>3</td>\n",
       "      <td>3</td>\n",
       "      <td>1513.0</td>\n",
       "    </tr>\n",
       "    <tr>\n",
       "      <th>3214</th>\n",
       "      <td>1499</td>\n",
       "      <td>12.0</td>\n",
       "      <td>69.0</td>\n",
       "      <td>492.0</td>\n",
       "      <td>66.0</td>\n",
       "      <td>13.0</td>\n",
       "      <td>35</td>\n",
       "      <td>NaN</td>\n",
       "      <td>Пермь</td>\n",
       "      <td>Гектор</td>\n",
       "      <td>...</td>\n",
       "      <td>2018-09-27</td>\n",
       "      <td>smart</td>\n",
       "      <td>50</td>\n",
       "      <td>15</td>\n",
       "      <td>500</td>\n",
       "      <td>550</td>\n",
       "      <td>200</td>\n",
       "      <td>3</td>\n",
       "      <td>3</td>\n",
       "      <td>598.0</td>\n",
       "    </tr>\n",
       "    <tr>\n",
       "      <th>3215</th>\n",
       "      <td>1371</td>\n",
       "      <td>NaN</td>\n",
       "      <td>NaN</td>\n",
       "      <td>NaN</td>\n",
       "      <td>NaN</td>\n",
       "      <td>NaN</td>\n",
       "      <td>50</td>\n",
       "      <td>2018-12-30</td>\n",
       "      <td>Омск</td>\n",
       "      <td>Ириней</td>\n",
       "      <td>...</td>\n",
       "      <td>2018-12-25</td>\n",
       "      <td>smart</td>\n",
       "      <td>50</td>\n",
       "      <td>15</td>\n",
       "      <td>500</td>\n",
       "      <td>550</td>\n",
       "      <td>200</td>\n",
       "      <td>3</td>\n",
       "      <td>3</td>\n",
       "      <td>550.0</td>\n",
       "    </tr>\n",
       "  </tbody>\n",
       "</table>\n",
       "<p>3216 rows × 21 columns</p>\n",
       "</div>"
      ],
      "text/plain": [
       "      user_id  month  count_call  sum_call  count_message  gb_used  age  \\\n",
       "0        1000    5.0        22.0     159.0           22.0      3.0   52   \n",
       "1        1000    6.0        43.0     172.0           60.0     23.0   52   \n",
       "2        1000    7.0        47.0     340.0           75.0     14.0   52   \n",
       "3        1000    8.0        52.0     408.0           81.0     14.0   52   \n",
       "4        1000    9.0        58.0     466.0           57.0     15.0   52   \n",
       "...       ...    ...         ...       ...            ...      ...  ...   \n",
       "3211     1499    9.0         9.0      70.0           11.0      2.0   35   \n",
       "3212     1499   10.0        68.0     449.0           48.0     18.0   35   \n",
       "3213     1499   11.0        74.0     612.0           59.0     18.0   35   \n",
       "3214     1499   12.0        69.0     492.0           66.0     13.0   35   \n",
       "3215     1371    NaN         NaN       NaN            NaN      NaN   50   \n",
       "\n",
       "      churn_date       city first_name  ...    reg_date tariff  \\\n",
       "0            NaN  Краснодар     Рафаил  ...  2018-05-25  ultra   \n",
       "1            NaN  Краснодар     Рафаил  ...  2018-05-25  ultra   \n",
       "2            NaN  Краснодар     Рафаил  ...  2018-05-25  ultra   \n",
       "3            NaN  Краснодар     Рафаил  ...  2018-05-25  ultra   \n",
       "4            NaN  Краснодар     Рафаил  ...  2018-05-25  ultra   \n",
       "...          ...        ...        ...  ...         ...    ...   \n",
       "3211         NaN      Пермь     Гектор  ...  2018-09-27  smart   \n",
       "3212         NaN      Пермь     Гектор  ...  2018-09-27  smart   \n",
       "3213         NaN      Пермь     Гектор  ...  2018-09-27  smart   \n",
       "3214         NaN      Пермь     Гектор  ...  2018-09-27  smart   \n",
       "3215  2018-12-30       Омск     Ириней  ...  2018-12-25  smart   \n",
       "\n",
       "     messages_included  gb_per_month_included  minutes_included  \\\n",
       "0                 1000                     30              3000   \n",
       "1                 1000                     30              3000   \n",
       "2                 1000                     30              3000   \n",
       "3                 1000                     30              3000   \n",
       "4                 1000                     30              3000   \n",
       "...                ...                    ...               ...   \n",
       "3211                50                     15               500   \n",
       "3212                50                     15               500   \n",
       "3213                50                     15               500   \n",
       "3214                50                     15               500   \n",
       "3215                50                     15               500   \n",
       "\n",
       "      rub_monthly_fee  rub_per_gb  rub_per_message  rub_per_minute  \\\n",
       "0                1950         150                1               1   \n",
       "1                1950         150                1               1   \n",
       "2                1950         150                1               1   \n",
       "3                1950         150                1               1   \n",
       "4                1950         150                1               1   \n",
       "...               ...         ...              ...             ...   \n",
       "3211              550         200                3               3   \n",
       "3212              550         200                3               3   \n",
       "3213              550         200                3               3   \n",
       "3214              550         200                3               3   \n",
       "3215              550         200                3               3   \n",
       "\n",
       "      revenue_for_month  \n",
       "0                1950.0  \n",
       "1                1950.0  \n",
       "2                1950.0  \n",
       "3                1950.0  \n",
       "4                1950.0  \n",
       "...                 ...  \n",
       "3211              550.0  \n",
       "3212             1150.0  \n",
       "3213             1513.0  \n",
       "3214              598.0  \n",
       "3215              550.0  \n",
       "\n",
       "[3216 rows x 21 columns]"
      ]
     },
     "execution_count": 38,
     "metadata": {},
     "output_type": "execute_result"
    }
   ],
   "source": [
    "def revenue_for_month(row):\n",
    "    calls = (row['sum_call'] - row['minutes_included']) * row['rub_per_minute']\n",
    "    messages = (row['count_message'] - row['messages_included']) * row['rub_per_message']\n",
    "    gb = (row['gb_used'] - row['gb_per_month_included']) * row['rub_per_gb']\n",
    "    revenue = 0\n",
    "    for x in [calls, messages, gb]:\n",
    "        if x > 0:\n",
    "            revenue += x\n",
    "    return revenue + row['rub_monthly_fee']\n",
    "   \n",
    "total_df['revenue_for_month'] = total_df.apply(revenue_for_month, axis=1)  \n",
    "total_df"
   ]
  },
  {
   "cell_type": "markdown",
   "metadata": {},
   "source": [
    "### Вывод"
   ]
  },
  {
   "cell_type": "markdown",
   "metadata": {},
   "source": [
    "Провели необходимые расчёты и объединение данных в одну общую таблицу.\n",
    "\n",
    "Можно проводить анализ получившихся данных и проверку гипотез."
   ]
  },
  {
   "cell_type": "markdown",
   "metadata": {},
   "source": [
    "## Исследовательский анализ данных"
   ]
  },
  {
   "cell_type": "markdown",
   "metadata": {},
   "source": [
    "Сравним \"поведение\" клиентов двух тарифов."
   ]
  },
  {
   "cell_type": "code",
   "execution_count": 39,
   "metadata": {},
   "outputs": [
    {
     "name": "stdout",
     "output_type": "stream",
     "text": [
      "sum_call, среднее: 545.4511041009464\n",
      "дисперсия: 94203.41839614809\n",
      "стандартное отклонение: 306.9257538821858\n",
      "\n",
      "count_message, среднее: 61.161006289308176\n",
      "дисперсия: 2109.6591828651995\n",
      "стандартное отклонение: 45.93102636416042\n",
      "\n",
      "gb_used, среднее: 19.694358974358973\n",
      "дисперсия: 94.14673405991681\n",
      "стандартное отклонение: 9.70292399536948\n",
      "\n",
      "revenue_for_month, среднее: 2070.030425963489\n",
      "дисперсия: 141387.7148093615\n",
      "стандартное отклонение: 376.0155778812382\n",
      "\n"
     ]
    }
   ],
   "source": [
    "ultra = total_df.query('tariff == \"ultra\"')\n",
    "smart = total_df.query('tariff == \"smart\"')\n",
    "\n",
    "for column in ['sum_call', 'count_message', 'gb_used', 'revenue_for_month']:\n",
    "    print(f'{column}, среднее: {ultra[column].mean()}')\n",
    "    print(f'дисперсия: {np.var(ultra[column], ddof=1)}')\n",
    "    print(f'стандартное отклонение: {np.std(ultra[column], ddof=1)}')\n",
    "    print()"
   ]
  },
  {
   "cell_type": "code",
   "execution_count": 40,
   "metadata": {
    "scrolled": false
   },
   "outputs": [
    {
     "name": "stdout",
     "output_type": "stream",
     "text": [
      "sum_call, среднее: 419.0629779577148\n",
      "дисперсия: 35844.1895513438\n",
      "стандартное отклонение: 189.3256177894154\n",
      "\n",
      "count_message, среднее: 38.71644120707596\n",
      "дисперсия: 717.5942011753547\n",
      "стандартное отклонение: 26.787948804926344\n",
      "\n",
      "gb_used, среднее: 16.33617594254937\n",
      "дисперсия: 32.92375582354312\n",
      "стандартное отклонение: 5.737922605224221\n",
      "\n",
      "revenue_for_month, среднее: 1289.6417040358745\n",
      "дисперсия: 669730.763894807\n",
      "стандартное отклонение: 818.370798534996\n",
      "\n"
     ]
    }
   ],
   "source": [
    "for column in ['sum_call', 'count_message', 'gb_used', 'revenue_for_month']:\n",
    "    print(f'{column}, среднее: {smart[column].mean()}')\n",
    "    print(f'дисперсия: {np.var(smart[column], ddof=1)}')\n",
    "    print(f'стандартное отклонение: {np.std(smart[column], ddof=1)}')\n",
    "    print()"
   ]
  },
  {
   "cell_type": "code",
   "execution_count": 41,
   "metadata": {},
   "outputs": [
    {
     "data": {
      "image/png": "[encoded data removed]",
      "text/plain": [
       "<Figure size 432x288 with 1 Axes>"
      ]
     },
     "metadata": {
      "needs_background": "light"
     },
     "output_type": "display_data"
    },
    {
     "data": {
      "image/png": "[encoded data removed]",
      "text/plain": [
       "<Figure size 432x288 with 1 Axes>"
      ]
     },
     "metadata": {
      "needs_background": "light"
     },
     "output_type": "display_data"
    },
    {
     "data": {
      "image/png": "[encoded data removed]",
      "text/plain": [
       "<Figure size 432x288 with 1 Axes>"
      ]
     },
     "metadata": {
      "needs_background": "light"
     },
     "output_type": "display_data"
    },
    {
     "data": {
      "image/png": "[encoded data removed]",
      "text/plain": [
       "<Figure size 432x288 with 1 Axes>"
      ]
     },
     "metadata": {
      "needs_background": "light"
     },
     "output_type": "display_data"
    }
   ],
   "source": [
    "ultra = total_df.query('tariff == \"ultra\"')\n",
    "smart = total_df.query('tariff == \"smart\"')\n",
    "\n",
    "for column in ['sum_call', 'count_message', 'gb_used', 'revenue_for_month']:\n",
    "    plt.hist(ultra[column], bins=30, alpha = 0.5, label='ultra')\n",
    "    plt.hist(smart[column], bins=30, alpha = 0.5, label='smart')\n",
    "    plt.legend(loc='upper right')\n",
    "    plt.title(column)\n",
    "    plt.show()"
   ]
  },
  {
   "cell_type": "code",
   "execution_count": 42,
   "metadata": {
    "scrolled": true
   },
   "outputs": [
    {
     "name": "stdout",
     "output_type": "stream",
     "text": [
      "149\n"
     ]
    },
    {
     "data": {
      "text/plain": [
       "351"
      ]
     },
     "execution_count": 42,
     "metadata": {},
     "output_type": "execute_result"
    }
   ],
   "source": [
    "print(len(ultra['user_id'].unique()))\n",
    "len(smart['user_id'].unique())"
   ]
  },
  {
   "cell_type": "markdown",
   "metadata": {},
   "source": [
    "### Вывод\n",
    "У тарифа \"Смарт\" дешевле абонентская плата и пользователей у него больше, чем у тарифа \"Ультра\" в 2,3 раза. Поэтому на гистограммах тариф \"Ультра\" меньше выделяется, но можно определить характерные черты, различия и сходства тарифов.\n",
    "\n",
    "- количество использованных минут в тарифе \"Смарт\" нормально распределено, среднее в районе 500 минут; в тарифе \"Ультра\" есть пик на уровне чуть больше 500 минут, но разброс не такой большой и основная масса использует от 250 до 870 минут;\n",
    "- гистограммы сообщений в обоих тарифах скошены вправо. В тарифе \"Смарт\" используют, в основном, до 50 сообщений, в тарифе \"Ультра\" - до 100;\n",
    "- в тарифе \"Смарт\" основная масса клиентов использует от 35 до 60 Гб, в тарифе \"Ультра\" нет таких явных различий -  равномерное распределение с пиками около 40 и 50 Гб;\n",
    "- большая часть пользователей обоих тарифов укладываются в лимиты и оплачивают только абонентскую плату. \n",
    "- среднее использованное количество минут и сообщений у клиентов тарифа \"Ультра\" больше, чем у клиентов тарифа \"Смарт\" (545 минут и 61 сообщение против 419 минут и 39 сообщений). Это объяснимо - в тарифе \"Ультра\" заложены большие лимиты и пользователи, его выбирающие, изначально нацелены на большее пользование услугами связи. Использованный траффик не сильно различается между тарифами (20 Гб - \"Ультра\" против 16 Гб - \"Смарт\").\n"
   ]
  },
  {
   "cell_type": "markdown",
   "metadata": {},
   "source": [
    "## Проверка гипотез"
   ]
  },
  {
   "cell_type": "markdown",
   "metadata": {},
   "source": [
    "### Сравнение выручки клиентов двух тарифов"
   ]
  },
  {
   "cell_type": "markdown",
   "metadata": {},
   "source": [
    "Согласно первой гипотезы: средняя выручка пользователей тарифов «Ультра» и «Смарт» различаются.\n",
    "\n",
    "Нулевая гипотеза будет звучать так: средняя выручка пользователей тарифов «Ультра» и «Смарт» равны.\n",
    "\n",
    "Расчёты средних значений выручки показали, что выручка тарифа \"Ультра\" больше. Альтернативную гипотезу сформулируем так: средняя выручка пользователей тарифа «Ультра» выше, чем пользователей тарифа \"Смарт\"."
   ]
  },
  {
   "cell_type": "code",
   "execution_count": 43,
   "metadata": {
    "scrolled": false
   },
   "outputs": [
    {
     "name": "stdout",
     "output_type": "stream",
     "text": [
      "p-значение: 9.1248456e-316\n",
      "Отвергаем нулевую гипотезу\n"
     ]
    }
   ],
   "source": [
    "ultra_mean = 2070\n",
    "alpha = .05\n",
    "\n",
    "results = st.ttest_1samp(smart['revenue_for_month'], ultra_mean)\n",
    "print('p-значение:', results.pvalue / 2)\n",
    "\n",
    "if (results.pvalue / 2 < alpha) and (smart['revenue_for_month'].mean() < ultra_mean):\n",
    "    print(\"Отвергаем нулевую гипотезу\")\n",
    "else:\n",
    "    print(\"Не отвергаем нулевую гипотезу\") \n",
    "                               "
   ]
  },
  {
   "cell_type": "markdown",
   "metadata": {},
   "source": [
    "Полученное значение p-value говорит о том, что вероятность получить такое или большее различие случайно чрезвычайно низкая. Проведённая проверка показала, что можно отвергнуть гипотезу о равенстве выручек пользователей двух тарифов и при этом верна гипотеза о том, что выручка клиентов тарифа \"Ультра\" выше выручки пользователей тарифа \"Смарт\".  "
   ]
  },
  {
   "cell_type": "markdown",
   "metadata": {},
   "source": [
    "### Сравнение выручки пользователей из Москвы и пользователей из других регионов"
   ]
  },
  {
   "cell_type": "markdown",
   "metadata": {},
   "source": [
    "Вторая гипотеза говорит о том, что средняя выручка пользователей из Москвы отличается от выручки пользователей из других регионов.\n",
    "\n",
    "Нулевая гипотеза: выручка пользователей из Москвы и других регионов равны.\n",
    "\n",
    "Альтернативная гипотеза: выручка пользователей из Москвы и других регионов различаются."
   ]
  },
  {
   "cell_type": "code",
   "execution_count": 44,
   "metadata": {},
   "outputs": [],
   "source": [
    "msc = total_df.query('city == \"Москва\"')\n",
    "regions = total_df.query('city != \"Москва\"')"
   ]
  },
  {
   "cell_type": "code",
   "execution_count": 45,
   "metadata": {},
   "outputs": [
    {
     "name": "stdout",
     "output_type": "stream",
     "text": [
      "p-значение:  0.5400751614511182\n",
      "Не получилось отвергнуть нулевую гипотезу\n"
     ]
    }
   ],
   "source": [
    "alpha = .05\n",
    "results = st.ttest_ind(msc['revenue_for_month'], regions['revenue_for_month'])\n",
    "\n",
    "print('p-значение: ', results.pvalue)\n",
    "\n",
    "if results.pvalue < alpha:\n",
    "    print(\"Отвергаем нулевую гипотезу\")\n",
    "else:\n",
    "    print(\"Не получилось отвергнуть нулевую гипотезу\") "
   ]
  },
  {
   "cell_type": "markdown",
   "metadata": {},
   "source": [
    "При проверке данной гипотезы выявили, что вероятность получить такое или большее различие случайно почти 54%. Это слишком большая вероятность, чтобы делать вывод о значимом различии между выручками пользователей из Москвы и других регионов."
   ]
  },
  {
   "cell_type": "markdown",
   "metadata": {},
   "source": [
    "## Общий вывод"
   ]
  },
  {
   "cell_type": "markdown",
   "metadata": {},
   "source": [
    "В процессе выполнения работы было сделано следующее:\n",
    "\n",
    "- ознакомились с полученными данными на предмет соответствия, стоящей перед нами задачей;\n",
    "- подготовили данные для анализа: округлили цифры в соответствии с документацией, объединили в общую таблицу, рассчитали выручку по каждому пользователю;\n",
    "- по выборке описали поведение клиентов оператора;\n",
    "- проверили гипотезы: различия выручки пользователей тарифов «Ультра» и «Смарт», различия выручки пользователей из Москвы и пользователей из других регионов.\n",
    "\n",
    "В ходе изучения данных установили:\n",
    "\n",
    "- пользователей тарифа \"Смарт\" больше примерно в 2,3 раза;\n",
    "- пользователи тарифа \"Ультра\", в среднем, больше разговаривают по телефону и посылают сообщений, чем пользователи тарифа \"Смарт\" (545 минут и 61 сообщение против 419 минут и 39 сообщений), использование трафика чуть больше в пользу клиентов тарифа \"Ультра\" (20 Гб против 16 Гб);\n",
    "- отвергнули гипотезу о равенстве выручек пользователей двух тарифов и приняли гипотезу о том, что выручка клиентов тарифа \"Ультра\" выше выручки пользователей тарифа \"Смарт\" (стоит это учесть при корректировке рекламного бюджета);\n",
    "- сравнение выручки пользователей из Москвы и пользователей из других регионов показало, что верна гипотеза о равенстве выручек таких пользователей. \n",
    "    \n"
   ]
  }
 ],
 "metadata": {
  "ExecuteTimeLog": [
   {
    "duration": 1867,
    "start_time": "2022-02-20T10:47:14.503Z"
   },
   {
    "duration": 301,
    "start_time": "2022-02-20T10:47:28.853Z"
   },
   {
    "duration": 180,
    "start_time": "2022-02-20T10:48:58.647Z"
   },
   {
    "duration": 133,
    "start_time": "2022-02-20T10:50:42.338Z"
   },
   {
    "duration": 27,
    "start_time": "2022-02-20T10:54:01.504Z"
   },
   {
    "duration": 31,
    "start_time": "2022-02-20T10:57:57.532Z"
   },
   {
    "duration": 209,
    "start_time": "2022-02-20T10:58:59.943Z"
   },
   {
    "duration": 231,
    "start_time": "2022-02-20T10:59:34.097Z"
   },
   {
    "duration": 254,
    "start_time": "2022-02-20T11:00:01.445Z"
   },
   {
    "duration": 204,
    "start_time": "2022-02-20T11:01:38.583Z"
   },
   {
    "duration": 139,
    "start_time": "2022-02-20T11:03:17.722Z"
   },
   {
    "duration": 24,
    "start_time": "2022-02-20T11:04:28.445Z"
   },
   {
    "duration": 23,
    "start_time": "2022-02-20T11:04:54.992Z"
   },
   {
    "duration": 725,
    "start_time": "2022-02-20T11:05:23.739Z"
   },
   {
    "duration": 51,
    "start_time": "2022-02-20T12:40:54.919Z"
   },
   {
    "duration": 24,
    "start_time": "2022-02-20T12:41:08.530Z"
   },
   {
    "duration": 29,
    "start_time": "2022-02-20T12:43:53.603Z"
   },
   {
    "duration": 20,
    "start_time": "2022-02-20T13:07:53.190Z"
   },
   {
    "duration": 137,
    "start_time": "2022-02-20T13:08:16.707Z"
   },
   {
    "duration": 129,
    "start_time": "2022-02-20T13:08:34.957Z"
   },
   {
    "duration": 99,
    "start_time": "2022-02-20T13:08:44.334Z"
   },
   {
    "duration": 11,
    "start_time": "2022-02-20T13:08:52.874Z"
   },
   {
    "duration": 7,
    "start_time": "2022-02-20T13:14:04.668Z"
   },
   {
    "duration": 6,
    "start_time": "2022-02-20T13:14:19.000Z"
   },
   {
    "duration": 419,
    "start_time": "2022-02-20T13:14:37.964Z"
   },
   {
    "duration": 281,
    "start_time": "2022-02-20T13:15:14.157Z"
   },
   {
    "duration": 270,
    "start_time": "2022-02-20T13:15:24.236Z"
   },
   {
    "duration": 271,
    "start_time": "2022-02-20T13:15:36.594Z"
   },
   {
    "duration": 287,
    "start_time": "2022-02-20T13:17:12.105Z"
   },
   {
    "duration": 6,
    "start_time": "2022-02-20T13:17:53.669Z"
   },
   {
    "duration": 6802,
    "start_time": "2022-02-20T13:24:53.996Z"
   },
   {
    "duration": 290,
    "start_time": "2022-02-20T13:25:33.168Z"
   },
   {
    "duration": 8035,
    "start_time": "2022-02-20T13:25:49.940Z"
   },
   {
    "duration": 32,
    "start_time": "2022-02-20T13:26:16.752Z"
   },
   {
    "duration": 1576,
    "start_time": "2022-02-20T13:30:07.635Z"
   },
   {
    "duration": 6333,
    "start_time": "2022-02-20T13:31:34.670Z"
   },
   {
    "duration": 288,
    "start_time": "2022-02-20T13:33:37.020Z"
   },
   {
    "duration": 261,
    "start_time": "2022-02-20T13:34:58.531Z"
   },
   {
    "duration": 98,
    "start_time": "2022-02-20T13:37:55.348Z"
   },
   {
    "duration": 998,
    "start_time": "2022-02-20T13:38:10.388Z"
   },
   {
    "duration": 7077,
    "start_time": "2022-02-20T13:41:55.961Z"
   },
   {
    "duration": 301,
    "start_time": "2022-02-20T13:42:29.369Z"
   },
   {
    "duration": 253,
    "start_time": "2022-02-20T13:42:29.673Z"
   },
   {
    "duration": 157,
    "start_time": "2022-02-20T13:42:29.929Z"
   },
   {
    "duration": 39,
    "start_time": "2022-02-20T13:42:30.089Z"
   },
   {
    "duration": 61,
    "start_time": "2022-02-20T13:42:30.130Z"
   },
   {
    "duration": 11109,
    "start_time": "2022-02-20T13:42:30.194Z"
   },
   {
    "duration": 1211,
    "start_time": "2022-02-20T13:42:40.095Z"
   },
   {
    "duration": 7096,
    "start_time": "2022-02-20T13:48:07.795Z"
   },
   {
    "duration": 259,
    "start_time": "2022-02-20T13:48:52.378Z"
   },
   {
    "duration": 341,
    "start_time": "2022-02-20T13:49:35.307Z"
   },
   {
    "duration": 261,
    "start_time": "2022-02-20T13:50:18.435Z"
   },
   {
    "duration": 7931,
    "start_time": "2022-02-20T13:50:29.928Z"
   },
   {
    "duration": 110,
    "start_time": "2022-02-20T13:53:23.725Z"
   },
   {
    "duration": 273,
    "start_time": "2022-02-20T13:53:35.208Z"
   },
   {
    "duration": 277,
    "start_time": "2022-02-20T13:54:19.173Z"
   },
   {
    "duration": 5,
    "start_time": "2022-02-20T13:54:32.854Z"
   },
   {
    "duration": 24,
    "start_time": "2022-02-20T13:54:37.748Z"
   },
   {
    "duration": 342,
    "start_time": "2022-02-20T13:56:00.985Z"
   },
   {
    "duration": 251,
    "start_time": "2022-02-20T13:56:49.153Z"
   },
   {
    "duration": 281,
    "start_time": "2022-02-20T13:57:10.650Z"
   },
   {
    "duration": 364,
    "start_time": "2022-02-20T13:57:26.867Z"
   },
   {
    "duration": 322,
    "start_time": "2022-02-20T13:57:27.235Z"
   },
   {
    "duration": 250,
    "start_time": "2022-02-20T13:57:27.562Z"
   },
   {
    "duration": 32,
    "start_time": "2022-02-20T13:57:27.825Z"
   },
   {
    "duration": 74,
    "start_time": "2022-02-20T13:57:27.860Z"
   },
   {
    "duration": 91,
    "start_time": "2022-02-20T13:57:27.937Z"
   },
   {
    "duration": 292,
    "start_time": "2022-02-20T13:57:28.031Z"
   },
   {
    "duration": 283,
    "start_time": "2022-02-20T14:01:40.860Z"
   },
   {
    "duration": 404,
    "start_time": "2022-02-20T14:02:04.347Z"
   },
   {
    "duration": 268,
    "start_time": "2022-02-20T14:02:11.589Z"
   },
   {
    "duration": 245,
    "start_time": "2022-02-20T14:02:11.861Z"
   },
   {
    "duration": 159,
    "start_time": "2022-02-20T14:02:12.109Z"
   },
   {
    "duration": 25,
    "start_time": "2022-02-20T14:02:12.272Z"
   },
   {
    "duration": 66,
    "start_time": "2022-02-20T14:02:12.301Z"
   },
   {
    "duration": 49,
    "start_time": "2022-02-20T14:02:12.369Z"
   },
   {
    "duration": 299,
    "start_time": "2022-02-20T14:02:12.427Z"
   },
   {
    "duration": 1570,
    "start_time": "2022-02-20T14:02:51.760Z"
   },
   {
    "duration": 21,
    "start_time": "2022-02-20T14:03:06.789Z"
   },
   {
    "duration": 13,
    "start_time": "2022-02-20T14:03:23.540Z"
   },
   {
    "duration": 6,
    "start_time": "2022-02-20T14:04:39.216Z"
   },
   {
    "duration": 12,
    "start_time": "2022-02-20T14:04:44.057Z"
   },
   {
    "duration": 11,
    "start_time": "2022-02-20T14:09:25.758Z"
   },
   {
    "duration": 12,
    "start_time": "2022-02-20T14:11:31.051Z"
   },
   {
    "duration": 9,
    "start_time": "2022-02-20T14:11:41.464Z"
   },
   {
    "duration": 327,
    "start_time": "2022-02-20T14:16:52.072Z"
   },
   {
    "duration": 8,
    "start_time": "2022-02-20T14:17:05.668Z"
   },
   {
    "duration": 16,
    "start_time": "2022-02-20T14:17:10.453Z"
   },
   {
    "duration": 247,
    "start_time": "2022-02-20T14:17:16.200Z"
   },
   {
    "duration": 329,
    "start_time": "2022-02-20T14:17:16.451Z"
   },
   {
    "duration": 226,
    "start_time": "2022-02-20T14:17:16.784Z"
   },
   {
    "duration": 27,
    "start_time": "2022-02-20T14:17:17.014Z"
   },
   {
    "duration": 56,
    "start_time": "2022-02-20T14:17:17.044Z"
   },
   {
    "duration": 82,
    "start_time": "2022-02-20T14:17:17.103Z"
   },
   {
    "duration": 8,
    "start_time": "2022-02-20T14:17:17.188Z"
   },
   {
    "duration": 42,
    "start_time": "2022-02-20T14:17:17.201Z"
   },
   {
    "duration": 13,
    "start_time": "2022-02-20T14:17:52.973Z"
   },
   {
    "duration": 13,
    "start_time": "2022-02-20T14:17:55.999Z"
   },
   {
    "duration": 23,
    "start_time": "2022-02-20T14:18:23.622Z"
   },
   {
    "duration": 310,
    "start_time": "2022-02-20T15:38:50.492Z"
   },
   {
    "duration": 49,
    "start_time": "2022-02-20T15:38:59.868Z"
   },
   {
    "duration": 10,
    "start_time": "2022-02-20T15:39:33.502Z"
   },
   {
    "duration": 166,
    "start_time": "2022-02-20T15:40:51.857Z"
   },
   {
    "duration": 13,
    "start_time": "2022-02-20T15:41:41.997Z"
   },
   {
    "duration": 11,
    "start_time": "2022-02-20T15:41:48.126Z"
   },
   {
    "duration": 241,
    "start_time": "2022-02-20T15:42:23.217Z"
   },
   {
    "duration": 230,
    "start_time": "2022-02-20T15:42:23.461Z"
   },
   {
    "duration": 154,
    "start_time": "2022-02-20T15:42:23.695Z"
   },
   {
    "duration": 25,
    "start_time": "2022-02-20T15:42:23.852Z"
   },
   {
    "duration": 47,
    "start_time": "2022-02-20T15:42:23.879Z"
   },
   {
    "duration": 50,
    "start_time": "2022-02-20T15:42:23.929Z"
   },
   {
    "duration": 59,
    "start_time": "2022-02-20T15:42:23.982Z"
   },
   {
    "duration": 238,
    "start_time": "2022-02-20T15:43:14.546Z"
   },
   {
    "duration": 257,
    "start_time": "2022-02-20T15:43:14.787Z"
   },
   {
    "duration": 153,
    "start_time": "2022-02-20T15:43:15.047Z"
   },
   {
    "duration": 26,
    "start_time": "2022-02-20T15:43:15.203Z"
   },
   {
    "duration": 48,
    "start_time": "2022-02-20T15:43:15.231Z"
   },
   {
    "duration": 64,
    "start_time": "2022-02-20T15:43:15.282Z"
   },
   {
    "duration": 49,
    "start_time": "2022-02-20T15:43:15.349Z"
   },
   {
    "duration": 9,
    "start_time": "2022-02-20T15:44:28.866Z"
   },
   {
    "duration": 9,
    "start_time": "2022-02-20T15:44:31.433Z"
   },
   {
    "duration": 233,
    "start_time": "2022-02-20T15:46:19.839Z"
   },
   {
    "duration": 223,
    "start_time": "2022-02-20T15:46:20.074Z"
   },
   {
    "duration": 142,
    "start_time": "2022-02-20T15:46:20.301Z"
   },
   {
    "duration": 22,
    "start_time": "2022-02-20T15:46:20.446Z"
   },
   {
    "duration": 60,
    "start_time": "2022-02-20T15:46:20.471Z"
   },
   {
    "duration": 50,
    "start_time": "2022-02-20T15:46:20.535Z"
   },
   {
    "duration": 66,
    "start_time": "2022-02-20T15:46:20.587Z"
   },
   {
    "duration": 237,
    "start_time": "2022-02-20T15:46:33.995Z"
   },
   {
    "duration": 224,
    "start_time": "2022-02-20T15:46:37.913Z"
   },
   {
    "duration": 129,
    "start_time": "2022-02-20T15:46:41.299Z"
   },
   {
    "duration": 1478,
    "start_time": "2022-02-20T15:46:45.104Z"
   },
   {
    "duration": 49,
    "start_time": "2022-02-20T15:46:49.503Z"
   },
   {
    "duration": 49,
    "start_time": "2022-02-20T15:46:57.881Z"
   },
   {
    "duration": 41,
    "start_time": "2022-02-20T15:47:00.853Z"
   },
   {
    "duration": 27,
    "start_time": "2022-02-20T15:49:01.792Z"
   },
   {
    "duration": 19,
    "start_time": "2022-02-20T15:49:24.192Z"
   },
   {
    "duration": 229,
    "start_time": "2022-02-20T15:49:51.060Z"
   },
   {
    "duration": 218,
    "start_time": "2022-02-20T15:49:51.291Z"
   },
   {
    "duration": 144,
    "start_time": "2022-02-20T15:49:51.512Z"
   },
   {
    "duration": 22,
    "start_time": "2022-02-20T15:49:51.659Z"
   },
   {
    "duration": 51,
    "start_time": "2022-02-20T15:49:51.683Z"
   },
   {
    "duration": 49,
    "start_time": "2022-02-20T15:49:51.736Z"
   },
   {
    "duration": 67,
    "start_time": "2022-02-20T15:49:51.787Z"
   },
   {
    "duration": 10,
    "start_time": "2022-02-20T15:50:24.008Z"
   },
   {
    "duration": 8,
    "start_time": "2022-02-20T15:50:34.909Z"
   },
   {
    "duration": 9,
    "start_time": "2022-02-20T15:50:37.077Z"
   },
   {
    "duration": 245,
    "start_time": "2022-02-20T15:50:42.373Z"
   },
   {
    "duration": 220,
    "start_time": "2022-02-20T15:50:42.627Z"
   },
   {
    "duration": 155,
    "start_time": "2022-02-20T15:50:42.850Z"
   },
   {
    "duration": 28,
    "start_time": "2022-02-20T15:50:43.008Z"
   },
   {
    "duration": 46,
    "start_time": "2022-02-20T15:50:43.039Z"
   },
   {
    "duration": 63,
    "start_time": "2022-02-20T15:50:43.088Z"
   },
   {
    "duration": 42,
    "start_time": "2022-02-20T15:50:43.154Z"
   },
   {
    "duration": 42,
    "start_time": "2022-02-20T15:52:50.009Z"
   },
   {
    "duration": 42,
    "start_time": "2022-02-20T15:57:01.019Z"
   },
   {
    "duration": 317,
    "start_time": "2022-02-20T16:00:07.432Z"
   },
   {
    "duration": 92,
    "start_time": "2022-02-20T16:00:17.436Z"
   },
   {
    "duration": 131,
    "start_time": "2022-02-20T16:00:51.472Z"
   },
   {
    "duration": 104,
    "start_time": "2022-02-20T16:03:24.590Z"
   },
   {
    "duration": 141,
    "start_time": "2022-02-20T16:11:01.202Z"
   },
   {
    "duration": 97,
    "start_time": "2022-02-20T16:15:13.904Z"
   },
   {
    "duration": 99,
    "start_time": "2022-02-20T16:20:54.201Z"
   },
   {
    "duration": 81,
    "start_time": "2022-02-20T16:21:15.239Z"
   },
   {
    "duration": 65,
    "start_time": "2022-02-20T16:25:56.726Z"
   },
   {
    "duration": 63,
    "start_time": "2022-02-20T16:27:05.025Z"
   },
   {
    "duration": 64,
    "start_time": "2022-02-20T16:30:44.950Z"
   },
   {
    "duration": 228,
    "start_time": "2022-02-20T16:41:14.061Z"
   },
   {
    "duration": 212,
    "start_time": "2022-02-20T16:41:14.292Z"
   },
   {
    "duration": 136,
    "start_time": "2022-02-20T16:41:14.506Z"
   },
   {
    "duration": 23,
    "start_time": "2022-02-20T16:41:14.646Z"
   },
   {
    "duration": 40,
    "start_time": "2022-02-20T16:41:14.671Z"
   },
   {
    "duration": 66,
    "start_time": "2022-02-20T16:41:14.713Z"
   },
   {
    "duration": 56,
    "start_time": "2022-02-20T16:41:14.781Z"
   },
   {
    "duration": 29,
    "start_time": "2022-02-20T16:41:14.840Z"
   },
   {
    "duration": 100,
    "start_time": "2022-02-20T16:41:14.872Z"
   },
   {
    "duration": 64,
    "start_time": "2022-02-20T16:41:14.974Z"
   },
   {
    "duration": 50,
    "start_time": "2022-02-20T16:41:15.041Z"
   },
   {
    "duration": 96,
    "start_time": "2022-02-20T18:05:17.980Z"
   },
   {
    "duration": 64,
    "start_time": "2022-02-20T18:05:44.540Z"
   },
   {
    "duration": 84,
    "start_time": "2022-02-20T18:06:11.425Z"
   },
   {
    "duration": 267,
    "start_time": "2022-02-21T09:13:32.901Z"
   },
   {
    "duration": 218,
    "start_time": "2022-02-21T09:13:33.171Z"
   },
   {
    "duration": 149,
    "start_time": "2022-02-21T09:13:33.392Z"
   },
   {
    "duration": 23,
    "start_time": "2022-02-21T09:13:33.543Z"
   },
   {
    "duration": 43,
    "start_time": "2022-02-21T09:13:33.569Z"
   },
   {
    "duration": 47,
    "start_time": "2022-02-21T09:13:33.626Z"
   },
   {
    "duration": 60,
    "start_time": "2022-02-21T09:13:33.676Z"
   },
   {
    "duration": 30,
    "start_time": "2022-02-21T09:13:33.738Z"
   },
   {
    "duration": 115,
    "start_time": "2022-02-21T09:13:33.771Z"
   },
   {
    "duration": 76,
    "start_time": "2022-02-21T09:13:33.889Z"
   },
   {
    "duration": 72,
    "start_time": "2022-02-21T09:13:33.968Z"
   },
   {
    "duration": 403,
    "start_time": "2022-02-21T09:23:35.540Z"
   },
   {
    "duration": 54,
    "start_time": "2022-02-21T09:23:59.001Z"
   },
   {
    "duration": 40,
    "start_time": "2022-02-21T09:27:54.721Z"
   },
   {
    "duration": 97,
    "start_time": "2022-02-21T09:28:05.961Z"
   },
   {
    "duration": 52,
    "start_time": "2022-02-21T09:28:55.642Z"
   },
   {
    "duration": 59,
    "start_time": "2022-02-21T09:30:09.110Z"
   },
   {
    "duration": 47,
    "start_time": "2022-02-21T09:31:25.786Z"
   },
   {
    "duration": 7958,
    "start_time": "2022-02-21T10:00:06.351Z"
   },
   {
    "duration": 238,
    "start_time": "2022-02-21T10:00:38.688Z"
   },
   {
    "duration": 213,
    "start_time": "2022-02-21T10:00:38.929Z"
   },
   {
    "duration": 143,
    "start_time": "2022-02-21T10:00:39.146Z"
   },
   {
    "duration": 33,
    "start_time": "2022-02-21T10:00:39.293Z"
   },
   {
    "duration": 41,
    "start_time": "2022-02-21T10:00:39.329Z"
   },
   {
    "duration": 84,
    "start_time": "2022-02-21T10:00:39.372Z"
   },
   {
    "duration": 69,
    "start_time": "2022-02-21T10:00:39.459Z"
   },
   {
    "duration": 42,
    "start_time": "2022-02-21T10:00:39.533Z"
   },
   {
    "duration": 117,
    "start_time": "2022-02-21T10:00:39.578Z"
   },
   {
    "duration": 72,
    "start_time": "2022-02-21T10:00:39.697Z"
   },
   {
    "duration": 75,
    "start_time": "2022-02-21T10:00:39.772Z"
   },
   {
    "duration": 50,
    "start_time": "2022-02-21T10:00:39.850Z"
   },
   {
    "duration": 8,
    "start_time": "2022-02-21T10:01:14.052Z"
   },
   {
    "duration": 21,
    "start_time": "2022-02-21T10:02:57.029Z"
   },
   {
    "duration": 19,
    "start_time": "2022-02-21T10:11:02.179Z"
   },
   {
    "duration": 22,
    "start_time": "2022-02-21T10:11:06.255Z"
   },
   {
    "duration": 7,
    "start_time": "2022-02-21T10:11:44.984Z"
   },
   {
    "duration": 21,
    "start_time": "2022-02-21T10:11:47.955Z"
   },
   {
    "duration": 1206,
    "start_time": "2022-02-21T10:14:49.828Z"
   },
   {
    "duration": 47,
    "start_time": "2022-02-21T10:16:13.089Z"
   },
   {
    "duration": 38,
    "start_time": "2022-02-21T10:21:21.698Z"
   },
   {
    "duration": 9334,
    "start_time": "2022-02-21T10:23:59.367Z"
   },
   {
    "duration": 11385,
    "start_time": "2022-02-21T10:25:11.271Z"
   },
   {
    "duration": 116,
    "start_time": "2022-02-21T10:26:33.984Z"
   },
   {
    "duration": 6,
    "start_time": "2022-02-21T10:43:11.947Z"
   },
   {
    "duration": 320,
    "start_time": "2022-02-21T10:45:56.869Z"
   },
   {
    "duration": 273,
    "start_time": "2022-02-21T10:48:16.060Z"
   },
   {
    "duration": 290,
    "start_time": "2022-02-21T10:48:56.804Z"
   },
   {
    "duration": 431,
    "start_time": "2022-02-21T10:49:32.332Z"
   },
   {
    "duration": 39,
    "start_time": "2022-02-21T10:51:52.461Z"
   },
   {
    "duration": 290,
    "start_time": "2022-02-21T10:52:41.144Z"
   },
   {
    "duration": 258,
    "start_time": "2022-02-21T10:52:52.769Z"
   },
   {
    "duration": 58,
    "start_time": "2022-02-21T10:53:06.841Z"
   },
   {
    "duration": 284,
    "start_time": "2022-02-21T10:55:52.850Z"
   },
   {
    "duration": 290,
    "start_time": "2022-02-21T10:56:09.710Z"
   },
   {
    "duration": 313,
    "start_time": "2022-02-21T10:56:26.434Z"
   },
   {
    "duration": 243,
    "start_time": "2022-02-21T10:56:35.058Z"
   },
   {
    "duration": 213,
    "start_time": "2022-02-21T10:56:35.304Z"
   },
   {
    "duration": 145,
    "start_time": "2022-02-21T10:56:35.520Z"
   },
   {
    "duration": 22,
    "start_time": "2022-02-21T10:56:35.668Z"
   },
   {
    "duration": 50,
    "start_time": "2022-02-21T10:56:35.693Z"
   },
   {
    "duration": 49,
    "start_time": "2022-02-21T10:56:35.746Z"
   },
   {
    "duration": 52,
    "start_time": "2022-02-21T10:56:35.798Z"
   },
   {
    "duration": 28,
    "start_time": "2022-02-21T10:56:35.854Z"
   },
   {
    "duration": 118,
    "start_time": "2022-02-21T10:56:35.885Z"
   },
   {
    "duration": 73,
    "start_time": "2022-02-21T10:56:36.006Z"
   },
   {
    "duration": 78,
    "start_time": "2022-02-21T10:56:36.081Z"
   },
   {
    "duration": 52,
    "start_time": "2022-02-21T10:56:36.161Z"
   },
   {
    "duration": 323,
    "start_time": "2022-02-21T10:56:44.147Z"
   },
   {
    "duration": 478,
    "start_time": "2022-02-21T10:57:18.494Z"
   },
   {
    "duration": 496,
    "start_time": "2022-02-21T10:58:19.639Z"
   },
   {
    "duration": 51,
    "start_time": "2022-02-21T11:32:15.842Z"
   },
   {
    "duration": 286,
    "start_time": "2022-02-21T11:32:20.709Z"
   },
   {
    "duration": 263,
    "start_time": "2022-02-21T11:32:44.422Z"
   },
   {
    "duration": 264,
    "start_time": "2022-02-21T11:33:17.823Z"
   },
   {
    "duration": 227,
    "start_time": "2022-02-21T11:33:22.891Z"
   },
   {
    "duration": 204,
    "start_time": "2022-02-21T11:33:23.126Z"
   },
   {
    "duration": 152,
    "start_time": "2022-02-21T11:33:23.334Z"
   },
   {
    "duration": 22,
    "start_time": "2022-02-21T11:33:23.489Z"
   },
   {
    "duration": 37,
    "start_time": "2022-02-21T11:33:23.514Z"
   },
   {
    "duration": 46,
    "start_time": "2022-02-21T11:33:23.553Z"
   },
   {
    "duration": 38,
    "start_time": "2022-02-21T11:33:23.626Z"
   },
   {
    "duration": 29,
    "start_time": "2022-02-21T11:33:23.667Z"
   },
   {
    "duration": 115,
    "start_time": "2022-02-21T11:33:23.698Z"
   },
   {
    "duration": 69,
    "start_time": "2022-02-21T11:33:23.826Z"
   },
   {
    "duration": 82,
    "start_time": "2022-02-21T11:33:23.898Z"
   },
   {
    "duration": 67,
    "start_time": "2022-02-21T11:33:23.983Z"
   },
   {
    "duration": 37,
    "start_time": "2022-02-21T11:33:24.052Z"
   },
   {
    "duration": 293,
    "start_time": "2022-02-21T11:39:03.181Z"
   },
   {
    "duration": 247,
    "start_time": "2022-02-21T11:39:09.645Z"
   },
   {
    "duration": 318,
    "start_time": "2022-02-21T11:39:09.895Z"
   },
   {
    "duration": 151,
    "start_time": "2022-02-21T11:39:10.216Z"
   },
   {
    "duration": 22,
    "start_time": "2022-02-21T11:39:10.370Z"
   },
   {
    "duration": 41,
    "start_time": "2022-02-21T11:39:10.394Z"
   },
   {
    "duration": 50,
    "start_time": "2022-02-21T11:39:10.438Z"
   },
   {
    "duration": 63,
    "start_time": "2022-02-21T11:39:10.491Z"
   },
   {
    "duration": 29,
    "start_time": "2022-02-21T11:39:10.557Z"
   },
   {
    "duration": 273,
    "start_time": "2022-02-21T11:39:10.590Z"
   },
   {
    "duration": 1071,
    "start_time": "2022-02-21T11:39:09.795Z"
   },
   {
    "duration": 1063,
    "start_time": "2022-02-21T11:39:09.804Z"
   },
   {
    "duration": 1053,
    "start_time": "2022-02-21T11:39:09.816Z"
   },
   {
    "duration": 1051,
    "start_time": "2022-02-21T11:39:09.820Z"
   },
   {
    "duration": 1042,
    "start_time": "2022-02-21T11:39:09.830Z"
   },
   {
    "duration": 1040,
    "start_time": "2022-02-21T11:39:09.834Z"
   },
   {
    "duration": 14,
    "start_time": "2022-02-21T11:39:52.777Z"
   },
   {
    "duration": 279,
    "start_time": "2022-02-21T11:40:19.978Z"
   },
   {
    "duration": 37,
    "start_time": "2022-02-21T11:40:47.501Z"
   },
   {
    "duration": 7,
    "start_time": "2022-02-21T11:40:47.541Z"
   },
   {
    "duration": 9,
    "start_time": "2022-02-21T11:40:47.551Z"
   },
   {
    "duration": 4,
    "start_time": "2022-02-21T11:40:47.563Z"
   },
   {
    "duration": 16,
    "start_time": "2022-02-21T11:40:47.569Z"
   },
   {
    "duration": 140,
    "start_time": "2022-02-21T11:40:47.587Z"
   },
   {
    "duration": 66,
    "start_time": "2022-02-21T11:40:47.730Z"
   },
   {
    "duration": 77,
    "start_time": "2022-02-21T11:40:47.799Z"
   },
   {
    "duration": 119,
    "start_time": "2022-02-21T11:40:47.879Z"
   },
   {
    "duration": 47,
    "start_time": "2022-02-21T11:40:48.001Z"
   },
   {
    "duration": 412,
    "start_time": "2022-02-21T11:40:48.050Z"
   },
   {
    "duration": 272,
    "start_time": "2022-02-21T11:41:10.109Z"
   },
   {
    "duration": 403,
    "start_time": "2022-02-21T11:42:51.849Z"
   },
   {
    "duration": 279,
    "start_time": "2022-02-21T11:44:46.454Z"
   },
   {
    "duration": 305,
    "start_time": "2022-02-21T11:45:19.562Z"
   },
   {
    "duration": 263,
    "start_time": "2022-02-21T11:46:00.575Z"
   },
   {
    "duration": 221,
    "start_time": "2022-02-21T11:46:00.841Z"
   },
   {
    "duration": 152,
    "start_time": "2022-02-21T11:46:01.065Z"
   },
   {
    "duration": 22,
    "start_time": "2022-02-21T11:46:01.227Z"
   },
   {
    "duration": 45,
    "start_time": "2022-02-21T11:46:01.252Z"
   },
   {
    "duration": 58,
    "start_time": "2022-02-21T11:46:01.299Z"
   },
   {
    "duration": 37,
    "start_time": "2022-02-21T11:46:01.360Z"
   },
   {
    "duration": 46,
    "start_time": "2022-02-21T11:46:01.401Z"
   },
   {
    "duration": 14,
    "start_time": "2022-02-21T11:46:01.450Z"
   },
   {
    "duration": 123,
    "start_time": "2022-02-21T11:46:01.466Z"
   },
   {
    "duration": 86,
    "start_time": "2022-02-21T11:46:01.592Z"
   },
   {
    "duration": 78,
    "start_time": "2022-02-21T11:46:01.681Z"
   },
   {
    "duration": 51,
    "start_time": "2022-02-21T11:46:01.762Z"
   },
   {
    "duration": 38,
    "start_time": "2022-02-21T11:46:01.827Z"
   },
   {
    "duration": 282,
    "start_time": "2022-02-21T11:46:01.868Z"
   },
   {
    "duration": 263,
    "start_time": "2022-02-21T11:46:50.013Z"
   },
   {
    "duration": 212,
    "start_time": "2022-02-21T11:46:50.279Z"
   },
   {
    "duration": 148,
    "start_time": "2022-02-21T11:46:50.493Z"
   },
   {
    "duration": 23,
    "start_time": "2022-02-21T11:46:50.644Z"
   },
   {
    "duration": 41,
    "start_time": "2022-02-21T11:46:50.670Z"
   },
   {
    "duration": 58,
    "start_time": "2022-02-21T11:46:50.714Z"
   },
   {
    "duration": 55,
    "start_time": "2022-02-21T11:46:50.775Z"
   },
   {
    "duration": 29,
    "start_time": "2022-02-21T11:46:50.833Z"
   },
   {
    "duration": 19,
    "start_time": "2022-02-21T11:46:50.866Z"
   },
   {
    "duration": 155,
    "start_time": "2022-02-21T11:46:50.887Z"
   },
   {
    "duration": 62,
    "start_time": "2022-02-21T11:46:51.045Z"
   },
   {
    "duration": 73,
    "start_time": "2022-02-21T11:46:51.109Z"
   },
   {
    "duration": 101,
    "start_time": "2022-02-21T11:46:51.186Z"
   },
   {
    "duration": 56,
    "start_time": "2022-02-21T11:46:51.290Z"
   },
   {
    "duration": 271,
    "start_time": "2022-02-21T11:46:51.348Z"
   },
   {
    "duration": 283,
    "start_time": "2022-02-21T11:58:31.006Z"
   },
   {
    "duration": 236,
    "start_time": "2022-02-21T11:59:42.379Z"
   },
   {
    "duration": 203,
    "start_time": "2022-02-21T11:59:42.618Z"
   },
   {
    "duration": 142,
    "start_time": "2022-02-21T11:59:42.827Z"
   },
   {
    "duration": 22,
    "start_time": "2022-02-21T11:59:42.972Z"
   },
   {
    "duration": 45,
    "start_time": "2022-02-21T11:59:42.996Z"
   },
   {
    "duration": 46,
    "start_time": "2022-02-21T11:59:43.043Z"
   },
   {
    "duration": 58,
    "start_time": "2022-02-21T11:59:43.092Z"
   },
   {
    "duration": 31,
    "start_time": "2022-02-21T11:59:43.153Z"
   },
   {
    "duration": 14,
    "start_time": "2022-02-21T11:59:43.187Z"
   },
   {
    "duration": 109,
    "start_time": "2022-02-21T11:59:43.228Z"
   },
   {
    "duration": 67,
    "start_time": "2022-02-21T11:59:43.340Z"
   },
   {
    "duration": 75,
    "start_time": "2022-02-21T11:59:43.410Z"
   },
   {
    "duration": 76,
    "start_time": "2022-02-21T11:59:43.488Z"
   },
   {
    "duration": 38,
    "start_time": "2022-02-21T11:59:43.567Z"
   },
   {
    "duration": 308,
    "start_time": "2022-02-21T11:59:43.627Z"
   },
   {
    "duration": 287,
    "start_time": "2022-02-21T12:00:48.459Z"
   },
   {
    "duration": 570,
    "start_time": "2022-02-21T12:00:58.027Z"
   },
   {
    "duration": 274,
    "start_time": "2022-02-21T12:01:26.207Z"
   },
   {
    "duration": 227,
    "start_time": "2022-02-21T12:02:25.648Z"
   },
   {
    "duration": 208,
    "start_time": "2022-02-21T12:02:25.878Z"
   },
   {
    "duration": 164,
    "start_time": "2022-02-21T12:02:26.089Z"
   },
   {
    "duration": 32,
    "start_time": "2022-02-21T12:02:26.257Z"
   },
   {
    "duration": 54,
    "start_time": "2022-02-21T12:02:26.291Z"
   },
   {
    "duration": 52,
    "start_time": "2022-02-21T12:02:26.349Z"
   },
   {
    "duration": 59,
    "start_time": "2022-02-21T12:02:26.403Z"
   },
   {
    "duration": 28,
    "start_time": "2022-02-21T12:02:26.466Z"
   },
   {
    "duration": 36,
    "start_time": "2022-02-21T12:02:26.497Z"
   },
   {
    "duration": 125,
    "start_time": "2022-02-21T12:02:26.536Z"
   },
   {
    "duration": 108,
    "start_time": "2022-02-21T12:02:26.664Z"
   },
   {
    "duration": 81,
    "start_time": "2022-02-21T12:02:26.776Z"
   },
   {
    "duration": 52,
    "start_time": "2022-02-21T12:02:26.860Z"
   },
   {
    "duration": 38,
    "start_time": "2022-02-21T12:02:26.926Z"
   },
   {
    "duration": 281,
    "start_time": "2022-02-21T12:02:26.966Z"
   },
   {
    "duration": 276,
    "start_time": "2022-02-21T12:02:56.590Z"
   },
   {
    "duration": 290,
    "start_time": "2022-02-21T12:03:05.171Z"
   },
   {
    "duration": 352,
    "start_time": "2022-02-21T12:03:45.271Z"
   },
   {
    "duration": 239,
    "start_time": "2022-02-21T12:03:52.651Z"
   },
   {
    "duration": 225,
    "start_time": "2022-02-21T12:03:52.893Z"
   },
   {
    "duration": 217,
    "start_time": "2022-02-21T12:03:53.128Z"
   },
   {
    "duration": 30,
    "start_time": "2022-02-21T12:03:53.349Z"
   },
   {
    "duration": 58,
    "start_time": "2022-02-21T12:03:53.382Z"
   },
   {
    "duration": 49,
    "start_time": "2022-02-21T12:03:53.443Z"
   },
   {
    "duration": 52,
    "start_time": "2022-02-21T12:03:53.495Z"
   },
   {
    "duration": 29,
    "start_time": "2022-02-21T12:03:53.551Z"
   },
   {
    "duration": 13,
    "start_time": "2022-02-21T12:03:53.583Z"
   },
   {
    "duration": 106,
    "start_time": "2022-02-21T12:03:53.627Z"
   },
   {
    "duration": 64,
    "start_time": "2022-02-21T12:03:53.735Z"
   },
   {
    "duration": 80,
    "start_time": "2022-02-21T12:03:53.801Z"
   },
   {
    "duration": 133,
    "start_time": "2022-02-21T12:03:53.883Z"
   },
   {
    "duration": 37,
    "start_time": "2022-02-21T12:03:54.027Z"
   },
   {
    "duration": 313,
    "start_time": "2022-02-21T12:03:54.067Z"
   },
   {
    "duration": 250,
    "start_time": "2022-02-21T12:06:55.521Z"
   },
   {
    "duration": 218,
    "start_time": "2022-02-21T12:06:55.774Z"
   },
   {
    "duration": 154,
    "start_time": "2022-02-21T12:06:55.995Z"
   },
   {
    "duration": 21,
    "start_time": "2022-02-21T12:06:56.153Z"
   },
   {
    "duration": 49,
    "start_time": "2022-02-21T12:06:56.177Z"
   },
   {
    "duration": 48,
    "start_time": "2022-02-21T12:06:56.229Z"
   },
   {
    "duration": 61,
    "start_time": "2022-02-21T12:06:56.280Z"
   },
   {
    "duration": 31,
    "start_time": "2022-02-21T12:06:56.344Z"
   },
   {
    "duration": 19,
    "start_time": "2022-02-21T12:06:56.379Z"
   },
   {
    "duration": 112,
    "start_time": "2022-02-21T12:06:56.429Z"
   },
   {
    "duration": 85,
    "start_time": "2022-02-21T12:06:56.543Z"
   },
   {
    "duration": 63,
    "start_time": "2022-02-21T12:06:56.632Z"
   },
   {
    "duration": 75,
    "start_time": "2022-02-21T12:06:56.698Z"
   },
   {
    "duration": 61,
    "start_time": "2022-02-21T12:06:56.777Z"
   },
   {
    "duration": 326,
    "start_time": "2022-02-21T12:06:56.840Z"
   },
   {
    "duration": 19,
    "start_time": "2022-02-21T12:08:48.894Z"
   },
   {
    "duration": 24,
    "start_time": "2022-02-21T12:08:57.633Z"
   },
   {
    "duration": 249,
    "start_time": "2022-02-21T12:09:40.886Z"
   },
   {
    "duration": 200,
    "start_time": "2022-02-21T12:09:41.138Z"
   },
   {
    "duration": 146,
    "start_time": "2022-02-21T12:09:41.341Z"
   },
   {
    "duration": 21,
    "start_time": "2022-02-21T12:09:41.490Z"
   },
   {
    "duration": 35,
    "start_time": "2022-02-21T12:09:41.526Z"
   },
   {
    "duration": 65,
    "start_time": "2022-02-21T12:09:41.564Z"
   },
   {
    "duration": 40,
    "start_time": "2022-02-21T12:09:41.632Z"
   },
   {
    "duration": 49,
    "start_time": "2022-02-21T12:09:41.677Z"
   },
   {
    "duration": 14,
    "start_time": "2022-02-21T12:09:41.729Z"
   },
   {
    "duration": 160,
    "start_time": "2022-02-21T12:09:41.746Z"
   },
   {
    "duration": 92,
    "start_time": "2022-02-21T12:09:41.909Z"
   },
   {
    "duration": 91,
    "start_time": "2022-02-21T12:09:42.004Z"
   },
   {
    "duration": 96,
    "start_time": "2022-02-21T12:09:42.098Z"
   },
   {
    "duration": 50,
    "start_time": "2022-02-21T12:09:42.197Z"
   },
   {
    "duration": 356,
    "start_time": "2022-02-21T12:09:42.249Z"
   },
   {
    "duration": 242,
    "start_time": "2022-02-21T12:10:06.492Z"
   },
   {
    "duration": 212,
    "start_time": "2022-02-21T12:10:06.737Z"
   },
   {
    "duration": 149,
    "start_time": "2022-02-21T12:10:06.952Z"
   },
   {
    "duration": 26,
    "start_time": "2022-02-21T12:10:07.103Z"
   },
   {
    "duration": 40,
    "start_time": "2022-02-21T12:10:07.131Z"
   },
   {
    "duration": 68,
    "start_time": "2022-02-21T12:10:07.173Z"
   },
   {
    "duration": 37,
    "start_time": "2022-02-21T12:10:07.243Z"
   },
   {
    "duration": 50,
    "start_time": "2022-02-21T12:10:07.283Z"
   },
   {
    "duration": 15,
    "start_time": "2022-02-21T12:10:07.336Z"
   },
   {
    "duration": 118,
    "start_time": "2022-02-21T12:10:07.354Z"
   },
   {
    "duration": 84,
    "start_time": "2022-02-21T12:10:07.475Z"
   },
   {
    "duration": 81,
    "start_time": "2022-02-21T12:10:07.562Z"
   },
   {
    "duration": 55,
    "start_time": "2022-02-21T12:10:07.646Z"
   },
   {
    "duration": 57,
    "start_time": "2022-02-21T12:10:07.703Z"
   },
   {
    "duration": 266,
    "start_time": "2022-02-21T12:10:07.763Z"
   },
   {
    "duration": 404,
    "start_time": "2022-02-21T12:13:06.619Z"
   },
   {
    "duration": 306,
    "start_time": "2022-02-21T12:13:30.027Z"
   },
   {
    "duration": 382,
    "start_time": "2022-02-21T12:13:43.624Z"
   },
   {
    "duration": 277,
    "start_time": "2022-02-21T12:13:51.839Z"
   },
   {
    "duration": 13,
    "start_time": "2022-02-21T12:14:45.054Z"
   },
   {
    "duration": 331,
    "start_time": "2022-02-21T12:16:45.416Z"
   },
   {
    "duration": 300,
    "start_time": "2022-02-21T12:39:13.350Z"
   },
   {
    "duration": 244,
    "start_time": "2022-02-21T12:39:23.818Z"
   },
   {
    "duration": 217,
    "start_time": "2022-02-21T12:39:24.065Z"
   },
   {
    "duration": 194,
    "start_time": "2022-02-21T12:39:24.286Z"
   },
   {
    "duration": 22,
    "start_time": "2022-02-21T12:39:24.484Z"
   },
   {
    "duration": 51,
    "start_time": "2022-02-21T12:39:24.508Z"
   },
   {
    "duration": 47,
    "start_time": "2022-02-21T12:39:24.563Z"
   },
   {
    "duration": 38,
    "start_time": "2022-02-21T12:39:24.626Z"
   },
   {
    "duration": 30,
    "start_time": "2022-02-21T12:39:24.668Z"
   },
   {
    "duration": 35,
    "start_time": "2022-02-21T12:39:24.702Z"
   },
   {
    "duration": 117,
    "start_time": "2022-02-21T12:39:24.740Z"
   },
   {
    "duration": 78,
    "start_time": "2022-02-21T12:39:24.860Z"
   },
   {
    "duration": 63,
    "start_time": "2022-02-21T12:39:24.941Z"
   },
   {
    "duration": 53,
    "start_time": "2022-02-21T12:39:25.026Z"
   },
   {
    "duration": 55,
    "start_time": "2022-02-21T12:39:25.082Z"
   },
   {
    "duration": 275,
    "start_time": "2022-02-21T12:39:25.140Z"
   },
   {
    "duration": 288,
    "start_time": "2022-02-21T12:41:28.167Z"
   },
   {
    "duration": 243,
    "start_time": "2022-02-21T12:41:38.043Z"
   },
   {
    "duration": 212,
    "start_time": "2022-02-21T12:41:38.289Z"
   },
   {
    "duration": 145,
    "start_time": "2022-02-21T12:41:38.505Z"
   },
   {
    "duration": 25,
    "start_time": "2022-02-21T12:41:38.653Z"
   },
   {
    "duration": 57,
    "start_time": "2022-02-21T12:41:38.681Z"
   },
   {
    "duration": 49,
    "start_time": "2022-02-21T12:41:38.740Z"
   },
   {
    "duration": 53,
    "start_time": "2022-02-21T12:41:38.791Z"
   },
   {
    "duration": 29,
    "start_time": "2022-02-21T12:41:38.848Z"
   },
   {
    "duration": 15,
    "start_time": "2022-02-21T12:41:38.880Z"
   },
   {
    "duration": 131,
    "start_time": "2022-02-21T12:41:38.898Z"
   },
   {
    "duration": 67,
    "start_time": "2022-02-21T12:41:39.031Z"
   },
   {
    "duration": 80,
    "start_time": "2022-02-21T12:41:39.100Z"
   },
   {
    "duration": 137,
    "start_time": "2022-02-21T12:41:39.183Z"
   },
   {
    "duration": 45,
    "start_time": "2022-02-21T12:41:39.325Z"
   },
   {
    "duration": 272,
    "start_time": "2022-02-21T12:41:39.372Z"
   },
   {
    "duration": 58,
    "start_time": "2022-02-21T12:41:48.484Z"
   },
   {
    "duration": 278,
    "start_time": "2022-02-21T12:42:35.763Z"
   },
   {
    "duration": 372,
    "start_time": "2022-02-21T12:46:36.177Z"
   },
   {
    "duration": 290,
    "start_time": "2022-02-21T12:52:22.770Z"
   },
   {
    "duration": 6,
    "start_time": "2022-02-21T12:53:00.766Z"
   },
   {
    "duration": 526,
    "start_time": "2022-02-21T12:53:09.675Z"
   },
   {
    "duration": 274,
    "start_time": "2022-02-21T12:53:10.204Z"
   },
   {
    "duration": 267,
    "start_time": "2022-02-21T12:53:10.481Z"
   },
   {
    "duration": 37,
    "start_time": "2022-02-21T12:53:10.751Z"
   },
   {
    "duration": 42,
    "start_time": "2022-02-21T12:53:10.791Z"
   },
   {
    "duration": 48,
    "start_time": "2022-02-21T12:53:10.837Z"
   },
   {
    "duration": 69,
    "start_time": "2022-02-21T12:53:10.888Z"
   },
   {
    "duration": 31,
    "start_time": "2022-02-21T12:53:10.961Z"
   },
   {
    "duration": 30,
    "start_time": "2022-02-21T12:53:10.996Z"
   },
   {
    "duration": 7,
    "start_time": "2022-02-21T12:53:11.029Z"
   },
   {
    "duration": 174,
    "start_time": "2022-02-21T12:53:11.039Z"
   },
   {
    "duration": 71,
    "start_time": "2022-02-21T12:53:11.216Z"
   },
   {
    "duration": 83,
    "start_time": "2022-02-21T12:53:11.290Z"
   },
   {
    "duration": 67,
    "start_time": "2022-02-21T12:53:11.376Z"
   },
   {
    "duration": 57,
    "start_time": "2022-02-21T12:53:11.447Z"
   },
   {
    "duration": 271,
    "start_time": "2022-02-21T12:53:11.527Z"
   },
   {
    "duration": 5,
    "start_time": "2022-02-21T12:54:20.497Z"
   },
   {
    "duration": 6,
    "start_time": "2022-02-21T12:54:31.899Z"
   },
   {
    "duration": 50,
    "start_time": "2022-02-21T12:54:42.798Z"
   },
   {
    "duration": 65,
    "start_time": "2022-02-21T12:57:54.360Z"
   },
   {
    "duration": 234,
    "start_time": "2022-02-21T13:00:16.169Z"
   },
   {
    "duration": 225,
    "start_time": "2022-02-21T13:00:16.407Z"
   },
   {
    "duration": 157,
    "start_time": "2022-02-21T13:00:16.638Z"
   },
   {
    "duration": 35,
    "start_time": "2022-02-21T13:00:16.799Z"
   },
   {
    "duration": 55,
    "start_time": "2022-02-21T13:00:16.838Z"
   },
   {
    "duration": 58,
    "start_time": "2022-02-21T13:00:16.896Z"
   },
   {
    "duration": 45,
    "start_time": "2022-02-21T13:00:16.957Z"
   },
   {
    "duration": 52,
    "start_time": "2022-02-21T13:00:17.007Z"
   },
   {
    "duration": 20,
    "start_time": "2022-02-21T13:00:17.063Z"
   },
   {
    "duration": 6,
    "start_time": "2022-02-21T13:00:17.086Z"
   },
   {
    "duration": 37,
    "start_time": "2022-02-21T13:00:17.095Z"
   },
   {
    "duration": 136,
    "start_time": "2022-02-21T13:00:17.135Z"
   },
   {
    "duration": 67,
    "start_time": "2022-02-21T13:00:17.274Z"
   },
   {
    "duration": 84,
    "start_time": "2022-02-21T13:00:17.348Z"
   },
   {
    "duration": 56,
    "start_time": "2022-02-21T13:00:17.435Z"
   },
   {
    "duration": 61,
    "start_time": "2022-02-21T13:00:17.493Z"
   },
   {
    "duration": 74,
    "start_time": "2022-02-21T13:00:17.557Z"
   },
   {
    "duration": 74,
    "start_time": "2022-02-21T13:02:42.546Z"
   },
   {
    "duration": 47,
    "start_time": "2022-02-21T13:03:10.218Z"
   },
   {
    "duration": 52,
    "start_time": "2022-02-21T13:03:27.490Z"
   },
   {
    "duration": 293,
    "start_time": "2022-02-21T13:03:54.108Z"
   },
   {
    "duration": 247,
    "start_time": "2022-02-21T13:04:12.534Z"
   },
   {
    "duration": 208,
    "start_time": "2022-02-21T13:04:12.784Z"
   },
   {
    "duration": 152,
    "start_time": "2022-02-21T13:04:12.995Z"
   },
   {
    "duration": 22,
    "start_time": "2022-02-21T13:04:13.151Z"
   },
   {
    "duration": 52,
    "start_time": "2022-02-21T13:04:13.175Z"
   },
   {
    "duration": 47,
    "start_time": "2022-02-21T13:04:13.230Z"
   },
   {
    "duration": 65,
    "start_time": "2022-02-21T13:04:13.280Z"
   },
   {
    "duration": 45,
    "start_time": "2022-02-21T13:04:13.351Z"
   },
   {
    "duration": 35,
    "start_time": "2022-02-21T13:04:13.400Z"
   },
   {
    "duration": 5,
    "start_time": "2022-02-21T13:04:13.438Z"
   },
   {
    "duration": 9,
    "start_time": "2022-02-21T13:04:13.446Z"
   },
   {
    "duration": 129,
    "start_time": "2022-02-21T13:04:13.457Z"
   },
   {
    "duration": 79,
    "start_time": "2022-02-21T13:04:13.588Z"
   },
   {
    "duration": 76,
    "start_time": "2022-02-21T13:04:13.670Z"
   },
   {
    "duration": 54,
    "start_time": "2022-02-21T13:04:13.749Z"
   },
   {
    "duration": 56,
    "start_time": "2022-02-21T13:04:13.806Z"
   },
   {
    "duration": 246,
    "start_time": "2022-02-21T13:04:13.865Z"
   },
   {
    "duration": 5,
    "start_time": "2022-02-21T13:05:23.551Z"
   },
   {
    "duration": 6,
    "start_time": "2022-02-21T13:05:45.706Z"
   },
   {
    "duration": 263,
    "start_time": "2022-02-21T13:06:10.587Z"
   },
   {
    "duration": 209,
    "start_time": "2022-02-21T13:06:10.855Z"
   },
   {
    "duration": 154,
    "start_time": "2022-02-21T13:06:11.067Z"
   },
   {
    "duration": 23,
    "start_time": "2022-02-21T13:06:11.227Z"
   },
   {
    "duration": 38,
    "start_time": "2022-02-21T13:06:11.253Z"
   },
   {
    "duration": 72,
    "start_time": "2022-02-21T13:06:11.293Z"
   },
   {
    "duration": 39,
    "start_time": "2022-02-21T13:06:11.367Z"
   },
   {
    "duration": 46,
    "start_time": "2022-02-21T13:06:11.426Z"
   },
   {
    "duration": 8,
    "start_time": "2022-02-21T13:06:11.476Z"
   },
   {
    "duration": 246,
    "start_time": "2022-02-21T13:06:11.487Z"
   },
   {
    "duration": 64,
    "start_time": "2022-02-21T13:06:11.736Z"
   },
   {
    "duration": 77,
    "start_time": "2022-02-21T13:06:11.803Z"
   },
   {
    "duration": 74,
    "start_time": "2022-02-21T13:06:11.882Z"
   },
   {
    "duration": 37,
    "start_time": "2022-02-21T13:06:11.958Z"
   },
   {
    "duration": 255,
    "start_time": "2022-02-21T13:06:11.999Z"
   },
   {
    "duration": 293,
    "start_time": "2022-02-21T13:06:21.675Z"
   },
   {
    "duration": 264,
    "start_time": "2022-02-21T13:06:34.512Z"
   },
   {
    "duration": 212,
    "start_time": "2022-02-21T13:06:34.779Z"
   },
   {
    "duration": 148,
    "start_time": "2022-02-21T13:06:34.995Z"
   },
   {
    "duration": 23,
    "start_time": "2022-02-21T13:06:35.147Z"
   },
   {
    "duration": 39,
    "start_time": "2022-02-21T13:06:35.173Z"
   },
   {
    "duration": 51,
    "start_time": "2022-02-21T13:06:35.227Z"
   },
   {
    "duration": 64,
    "start_time": "2022-02-21T13:06:35.281Z"
   },
   {
    "duration": 28,
    "start_time": "2022-02-21T13:06:35.349Z"
   },
   {
    "duration": 5,
    "start_time": "2022-02-21T13:06:35.380Z"
   },
   {
    "duration": 124,
    "start_time": "2022-02-21T13:06:35.388Z"
   },
   {
    "duration": 82,
    "start_time": "2022-02-21T13:06:35.514Z"
   },
   {
    "duration": 74,
    "start_time": "2022-02-21T13:06:35.599Z"
   },
   {
    "duration": 69,
    "start_time": "2022-02-21T13:06:35.675Z"
   },
   {
    "duration": 80,
    "start_time": "2022-02-21T13:06:35.748Z"
   },
   {
    "duration": 50,
    "start_time": "2022-02-21T13:06:35.831Z"
   },
   {
    "duration": 58,
    "start_time": "2022-02-21T13:07:49.028Z"
   },
   {
    "duration": 234,
    "start_time": "2022-02-21T13:09:45.788Z"
   },
   {
    "duration": 218,
    "start_time": "2022-02-21T13:09:46.026Z"
   },
   {
    "duration": 220,
    "start_time": "2022-02-21T13:09:46.248Z"
   },
   {
    "duration": 31,
    "start_time": "2022-02-21T13:09:46.472Z"
   },
   {
    "duration": 66,
    "start_time": "2022-02-21T13:09:46.507Z"
   },
   {
    "duration": 93,
    "start_time": "2022-02-21T13:09:46.576Z"
   },
   {
    "duration": 54,
    "start_time": "2022-02-21T13:09:46.672Z"
   },
   {
    "duration": 29,
    "start_time": "2022-02-21T13:09:46.730Z"
   },
   {
    "duration": 6,
    "start_time": "2022-02-21T13:09:46.762Z"
   },
   {
    "duration": 126,
    "start_time": "2022-02-21T13:09:46.771Z"
   },
   {
    "duration": 77,
    "start_time": "2022-02-21T13:09:46.899Z"
   },
   {
    "duration": 75,
    "start_time": "2022-02-21T13:09:46.978Z"
   },
   {
    "duration": 54,
    "start_time": "2022-02-21T13:09:47.055Z"
   },
   {
    "duration": 42,
    "start_time": "2022-02-21T13:09:47.127Z"
   },
   {
    "duration": 54,
    "start_time": "2022-02-21T13:10:58.197Z"
   },
   {
    "duration": 44,
    "start_time": "2022-02-21T13:12:41.957Z"
   },
   {
    "duration": 73,
    "start_time": "2022-02-21T13:13:06.246Z"
   },
   {
    "duration": 58,
    "start_time": "2022-02-21T13:15:56.434Z"
   },
   {
    "duration": 346,
    "start_time": "2022-02-21T13:16:20.764Z"
   },
   {
    "duration": 214,
    "start_time": "2022-02-21T13:16:21.113Z"
   },
   {
    "duration": 143,
    "start_time": "2022-02-21T13:16:21.330Z"
   },
   {
    "duration": 22,
    "start_time": "2022-02-21T13:16:21.475Z"
   },
   {
    "duration": 44,
    "start_time": "2022-02-21T13:16:21.500Z"
   },
   {
    "duration": 47,
    "start_time": "2022-02-21T13:16:21.547Z"
   },
   {
    "duration": 55,
    "start_time": "2022-02-21T13:16:21.596Z"
   },
   {
    "duration": 29,
    "start_time": "2022-02-21T13:16:21.654Z"
   },
   {
    "duration": 5,
    "start_time": "2022-02-21T13:16:21.686Z"
   },
   {
    "duration": 199,
    "start_time": "2022-02-21T13:16:21.693Z"
   },
   {
    "duration": 78,
    "start_time": "2022-02-21T13:16:21.895Z"
   },
   {
    "duration": 71,
    "start_time": "2022-02-21T13:16:21.976Z"
   },
   {
    "duration": 53,
    "start_time": "2022-02-21T13:16:22.049Z"
   },
   {
    "duration": 53,
    "start_time": "2022-02-21T13:16:22.105Z"
   },
   {
    "duration": 42,
    "start_time": "2022-02-21T13:16:22.161Z"
   },
   {
    "duration": 11,
    "start_time": "2022-02-21T13:18:08.471Z"
   },
   {
    "duration": 46,
    "start_time": "2022-02-21T13:18:34.915Z"
   },
   {
    "duration": 263,
    "start_time": "2022-02-21T13:18:48.631Z"
   },
   {
    "duration": 232,
    "start_time": "2022-02-21T13:18:48.898Z"
   },
   {
    "duration": 143,
    "start_time": "2022-02-21T13:18:49.134Z"
   },
   {
    "duration": 22,
    "start_time": "2022-02-21T13:18:49.280Z"
   },
   {
    "duration": 51,
    "start_time": "2022-02-21T13:18:49.306Z"
   },
   {
    "duration": 48,
    "start_time": "2022-02-21T13:18:49.360Z"
   },
   {
    "duration": 50,
    "start_time": "2022-02-21T13:18:49.410Z"
   },
   {
    "duration": 31,
    "start_time": "2022-02-21T13:18:49.463Z"
   },
   {
    "duration": 6,
    "start_time": "2022-02-21T13:18:49.496Z"
   },
   {
    "duration": 129,
    "start_time": "2022-02-21T13:18:49.504Z"
   },
   {
    "duration": 65,
    "start_time": "2022-02-21T13:18:49.635Z"
   },
   {
    "duration": 72,
    "start_time": "2022-02-21T13:18:49.703Z"
   },
   {
    "duration": 72,
    "start_time": "2022-02-21T13:18:49.778Z"
   },
   {
    "duration": 37,
    "start_time": "2022-02-21T13:18:49.852Z"
   },
   {
    "duration": 76,
    "start_time": "2022-02-21T13:18:49.891Z"
   },
   {
    "duration": 17,
    "start_time": "2022-02-21T13:33:04.391Z"
   },
   {
    "duration": 450,
    "start_time": "2022-02-21T13:33:21.452Z"
   },
   {
    "duration": 247,
    "start_time": "2022-02-21T13:33:34.184Z"
   },
   {
    "duration": 204,
    "start_time": "2022-02-21T13:33:34.434Z"
   },
   {
    "duration": 146,
    "start_time": "2022-02-21T13:33:34.642Z"
   },
   {
    "duration": 21,
    "start_time": "2022-02-21T13:33:34.791Z"
   },
   {
    "duration": 36,
    "start_time": "2022-02-21T13:33:34.827Z"
   },
   {
    "duration": 67,
    "start_time": "2022-02-21T13:33:34.866Z"
   },
   {
    "duration": 7394,
    "start_time": "2022-02-21T13:33:34.936Z"
   },
   {
    "duration": 1140,
    "start_time": "2022-02-21T13:33:41.192Z"
   },
   {
    "duration": 1124,
    "start_time": "2022-02-21T13:33:41.210Z"
   },
   {
    "duration": 1114,
    "start_time": "2022-02-21T13:33:41.221Z"
   },
   {
    "duration": 1110,
    "start_time": "2022-02-21T13:33:41.226Z"
   },
   {
    "duration": 1109,
    "start_time": "2022-02-21T13:33:41.229Z"
   },
   {
    "duration": 1106,
    "start_time": "2022-02-21T13:33:41.234Z"
   },
   {
    "duration": 1101,
    "start_time": "2022-02-21T13:33:41.240Z"
   },
   {
    "duration": 1091,
    "start_time": "2022-02-21T13:33:41.252Z"
   },
   {
    "duration": 1087,
    "start_time": "2022-02-21T13:33:41.257Z"
   },
   {
    "duration": 20,
    "start_time": "2022-02-21T13:34:20.660Z"
   },
   {
    "duration": 31,
    "start_time": "2022-02-21T13:34:26.608Z"
   },
   {
    "duration": 280,
    "start_time": "2022-02-21T13:34:28.806Z"
   },
   {
    "duration": 17,
    "start_time": "2022-02-21T13:35:14.629Z"
   },
   {
    "duration": 851,
    "start_time": "2022-02-21T13:35:22.637Z"
   },
   {
    "duration": 219,
    "start_time": "2022-02-21T13:35:23.491Z"
   },
   {
    "duration": 139,
    "start_time": "2022-02-21T13:35:23.725Z"
   },
   {
    "duration": 21,
    "start_time": "2022-02-21T13:35:23.867Z"
   },
   {
    "duration": 79,
    "start_time": "2022-02-21T13:35:23.891Z"
   },
   {
    "duration": 49,
    "start_time": "2022-02-21T13:35:23.973Z"
   },
   {
    "duration": 50,
    "start_time": "2022-02-21T13:35:24.025Z"
   },
   {
    "duration": 49,
    "start_time": "2022-02-21T13:35:24.079Z"
   },
   {
    "duration": 18,
    "start_time": "2022-02-21T13:35:24.131Z"
   },
   {
    "duration": 128,
    "start_time": "2022-02-21T13:35:24.152Z"
   },
   {
    "duration": 94,
    "start_time": "2022-02-21T13:35:24.282Z"
   },
   {
    "duration": 316,
    "start_time": "2022-02-21T13:35:24.379Z"
   },
   {
    "duration": 1165,
    "start_time": "2022-02-21T13:35:23.533Z"
   },
   {
    "duration": 1153,
    "start_time": "2022-02-21T13:35:23.546Z"
   },
   {
    "duration": 1151,
    "start_time": "2022-02-21T13:35:23.550Z"
   },
   {
    "duration": 1150,
    "start_time": "2022-02-21T13:35:23.553Z"
   },
   {
    "duration": 237,
    "start_time": "2022-02-21T13:36:16.789Z"
   },
   {
    "duration": 764,
    "start_time": "2022-02-21T13:36:17.029Z"
   },
   {
    "duration": 246,
    "start_time": "2022-02-21T13:36:17.796Z"
   },
   {
    "duration": 296,
    "start_time": "2022-02-21T13:36:18.045Z"
   },
   {
    "duration": 225,
    "start_time": "2022-02-21T13:36:18.344Z"
   },
   {
    "duration": 47,
    "start_time": "2022-02-21T13:36:18.572Z"
   },
   {
    "duration": 51,
    "start_time": "2022-02-21T13:36:18.621Z"
   },
   {
    "duration": 30,
    "start_time": "2022-02-21T13:36:18.677Z"
   },
   {
    "duration": 19,
    "start_time": "2022-02-21T13:36:18.728Z"
   },
   {
    "duration": 124,
    "start_time": "2022-02-21T13:36:18.750Z"
   },
   {
    "duration": 77,
    "start_time": "2022-02-21T13:36:18.876Z"
   },
   {
    "duration": 73,
    "start_time": "2022-02-21T13:36:18.955Z"
   },
   {
    "duration": 59,
    "start_time": "2022-02-21T13:36:19.031Z"
   },
   {
    "duration": 64,
    "start_time": "2022-02-21T13:36:19.092Z"
   },
   {
    "duration": 42,
    "start_time": "2022-02-21T13:36:19.159Z"
   },
   {
    "duration": 107,
    "start_time": "2022-02-21T13:36:19.203Z"
   },
   {
    "duration": 471,
    "start_time": "2022-02-21T13:38:37.214Z"
   },
   {
    "duration": 356,
    "start_time": "2022-02-21T13:39:20.070Z"
   },
   {
    "duration": 398,
    "start_time": "2022-02-21T13:39:45.254Z"
   },
   {
    "duration": 408,
    "start_time": "2022-02-21T13:40:51.774Z"
   },
   {
    "duration": 93,
    "start_time": "2022-02-21T15:17:38.933Z"
   },
   {
    "duration": 259,
    "start_time": "2022-02-21T15:19:34.029Z"
   },
   {
    "duration": 205,
    "start_time": "2022-02-21T15:19:34.291Z"
   },
   {
    "duration": 141,
    "start_time": "2022-02-21T15:19:34.499Z"
   },
   {
    "duration": 26,
    "start_time": "2022-02-21T15:19:34.643Z"
   },
   {
    "duration": 37,
    "start_time": "2022-02-21T15:19:34.672Z"
   },
   {
    "duration": 61,
    "start_time": "2022-02-21T15:19:34.712Z"
   },
   {
    "duration": 70,
    "start_time": "2022-02-21T15:19:34.776Z"
   },
   {
    "duration": 29,
    "start_time": "2022-02-21T15:19:34.850Z"
   },
   {
    "duration": 17,
    "start_time": "2022-02-21T15:19:34.882Z"
   },
   {
    "duration": 132,
    "start_time": "2022-02-21T15:19:34.901Z"
   },
   {
    "duration": 68,
    "start_time": "2022-02-21T15:19:35.036Z"
   },
   {
    "duration": 83,
    "start_time": "2022-02-21T15:19:35.106Z"
   },
   {
    "duration": 83,
    "start_time": "2022-02-21T15:19:35.191Z"
   },
   {
    "duration": 50,
    "start_time": "2022-02-21T15:19:35.276Z"
   },
   {
    "duration": 41,
    "start_time": "2022-02-21T15:19:35.328Z"
   },
   {
    "duration": 90,
    "start_time": "2022-02-21T15:19:35.371Z"
   },
   {
    "duration": 378,
    "start_time": "2022-02-21T15:24:28.992Z"
   },
   {
    "duration": 392,
    "start_time": "2022-02-21T15:38:51.312Z"
   },
   {
    "duration": 191,
    "start_time": "2022-02-21T15:42:34.188Z"
   },
   {
    "duration": 383,
    "start_time": "2022-02-21T15:51:24.881Z"
   },
   {
    "duration": 256,
    "start_time": "2022-02-21T15:54:00.896Z"
   },
   {
    "duration": 216,
    "start_time": "2022-02-21T15:54:01.155Z"
   },
   {
    "duration": 141,
    "start_time": "2022-02-21T15:54:01.374Z"
   },
   {
    "duration": 21,
    "start_time": "2022-02-21T15:54:01.518Z"
   },
   {
    "duration": 43,
    "start_time": "2022-02-21T15:54:01.542Z"
   },
   {
    "duration": 60,
    "start_time": "2022-02-21T15:54:01.587Z"
   },
   {
    "duration": 51,
    "start_time": "2022-02-21T15:54:01.650Z"
   },
   {
    "duration": 42,
    "start_time": "2022-02-21T15:54:01.705Z"
   },
   {
    "duration": 17,
    "start_time": "2022-02-21T15:54:01.750Z"
   },
   {
    "duration": 132,
    "start_time": "2022-02-21T15:54:01.770Z"
   },
   {
    "duration": 74,
    "start_time": "2022-02-21T15:54:01.905Z"
   },
   {
    "duration": 79,
    "start_time": "2022-02-21T15:54:01.981Z"
   },
   {
    "duration": 64,
    "start_time": "2022-02-21T15:54:02.063Z"
   },
   {
    "duration": 39,
    "start_time": "2022-02-21T15:54:02.130Z"
   },
   {
    "duration": 70,
    "start_time": "2022-02-21T15:54:02.172Z"
   },
   {
    "duration": 282,
    "start_time": "2022-02-21T15:54:02.244Z"
   },
   {
    "duration": 170,
    "start_time": "2022-02-21T15:55:41.870Z"
   },
   {
    "duration": 84,
    "start_time": "2022-02-21T15:56:01.847Z"
   },
   {
    "duration": 169,
    "start_time": "2022-02-21T15:57:07.079Z"
   },
   {
    "duration": 89,
    "start_time": "2022-02-21T15:57:19.111Z"
   },
   {
    "duration": 170,
    "start_time": "2022-02-21T16:00:08.629Z"
   },
   {
    "duration": 252,
    "start_time": "2022-02-21T16:05:01.734Z"
   },
   {
    "duration": 229,
    "start_time": "2022-02-21T16:05:01.989Z"
   },
   {
    "duration": 142,
    "start_time": "2022-02-21T16:05:02.227Z"
   },
   {
    "duration": 21,
    "start_time": "2022-02-21T16:05:02.372Z"
   },
   {
    "duration": 48,
    "start_time": "2022-02-21T16:05:02.396Z"
   },
   {
    "duration": 49,
    "start_time": "2022-02-21T16:05:02.447Z"
   },
   {
    "duration": 67,
    "start_time": "2022-02-21T16:05:02.498Z"
   },
   {
    "duration": 29,
    "start_time": "2022-02-21T16:05:02.569Z"
   },
   {
    "duration": 38,
    "start_time": "2022-02-21T16:05:02.600Z"
   },
   {
    "duration": 117,
    "start_time": "2022-02-21T16:05:02.641Z"
   },
   {
    "duration": 79,
    "start_time": "2022-02-21T16:05:02.761Z"
   },
   {
    "duration": 62,
    "start_time": "2022-02-21T16:05:02.842Z"
   },
   {
    "duration": 154,
    "start_time": "2022-02-21T16:05:02.907Z"
   },
   {
    "duration": 38,
    "start_time": "2022-02-21T16:05:03.063Z"
   },
   {
    "duration": 62,
    "start_time": "2022-02-21T16:05:03.105Z"
   },
   {
    "duration": 192,
    "start_time": "2022-02-21T16:05:03.170Z"
   },
   {
    "duration": 156,
    "start_time": "2022-02-21T16:05:54.131Z"
   },
   {
    "duration": 152,
    "start_time": "2022-02-21T16:07:36.015Z"
   },
   {
    "duration": 90,
    "start_time": "2022-02-21T16:14:09.502Z"
   },
   {
    "duration": 108,
    "start_time": "2022-02-21T16:15:51.586Z"
   },
   {
    "duration": 101,
    "start_time": "2022-02-21T16:17:24.719Z"
   },
   {
    "duration": 272,
    "start_time": "2022-02-21T16:17:31.789Z"
   },
   {
    "duration": 230,
    "start_time": "2022-02-21T16:17:32.064Z"
   },
   {
    "duration": 157,
    "start_time": "2022-02-21T16:17:32.297Z"
   },
   {
    "duration": 22,
    "start_time": "2022-02-21T16:17:32.457Z"
   },
   {
    "duration": 52,
    "start_time": "2022-02-21T16:17:32.482Z"
   },
   {
    "duration": 50,
    "start_time": "2022-02-21T16:17:32.537Z"
   },
   {
    "duration": 68,
    "start_time": "2022-02-21T16:17:32.590Z"
   },
   {
    "duration": 30,
    "start_time": "2022-02-21T16:17:32.662Z"
   },
   {
    "duration": 38,
    "start_time": "2022-02-21T16:17:32.695Z"
   },
   {
    "duration": 117,
    "start_time": "2022-02-21T16:17:32.736Z"
   },
   {
    "duration": 77,
    "start_time": "2022-02-21T16:17:32.855Z"
   },
   {
    "duration": 63,
    "start_time": "2022-02-21T16:17:32.935Z"
   },
   {
    "duration": 75,
    "start_time": "2022-02-21T16:17:33.002Z"
   },
   {
    "duration": 60,
    "start_time": "2022-02-21T16:17:33.080Z"
   },
   {
    "duration": 42,
    "start_time": "2022-02-21T16:17:33.142Z"
   },
   {
    "duration": 100,
    "start_time": "2022-02-21T16:17:33.187Z"
   },
   {
    "duration": 1020,
    "start_time": "2022-02-21T16:17:32.270Z"
   },
   {
    "duration": 115,
    "start_time": "2022-02-21T16:20:08.412Z"
   },
   {
    "duration": 286,
    "start_time": "2022-02-21T16:20:54.473Z"
   },
   {
    "duration": 513,
    "start_time": "2022-02-21T16:21:15.804Z"
   },
   {
    "duration": 308,
    "start_time": "2022-02-21T16:22:06.952Z"
   },
   {
    "duration": 241,
    "start_time": "2022-02-21T16:23:05.959Z"
   },
   {
    "duration": 228,
    "start_time": "2022-02-21T16:23:06.204Z"
   },
   {
    "duration": 142,
    "start_time": "2022-02-21T16:23:06.436Z"
   },
   {
    "duration": 22,
    "start_time": "2022-02-21T16:23:06.580Z"
   },
   {
    "duration": 44,
    "start_time": "2022-02-21T16:23:06.604Z"
   },
   {
    "duration": 46,
    "start_time": "2022-02-21T16:23:06.651Z"
   },
   {
    "duration": 72,
    "start_time": "2022-02-21T16:23:06.700Z"
   },
   {
    "duration": 28,
    "start_time": "2022-02-21T16:23:06.775Z"
   },
   {
    "duration": 33,
    "start_time": "2022-02-21T16:23:06.806Z"
   },
   {
    "duration": 113,
    "start_time": "2022-02-21T16:23:06.841Z"
   },
   {
    "duration": 78,
    "start_time": "2022-02-21T16:23:06.956Z"
   },
   {
    "duration": 62,
    "start_time": "2022-02-21T16:23:07.036Z"
   },
   {
    "duration": 71,
    "start_time": "2022-02-21T16:23:07.101Z"
   },
   {
    "duration": 34,
    "start_time": "2022-02-21T16:23:07.174Z"
   },
   {
    "duration": 43,
    "start_time": "2022-02-21T16:23:07.225Z"
   },
   {
    "duration": 360,
    "start_time": "2022-02-21T16:23:07.270Z"
   },
   {
    "duration": 92,
    "start_time": "2022-02-21T16:54:24.162Z"
   },
   {
    "duration": 386,
    "start_time": "2022-02-21T16:54:38.657Z"
   },
   {
    "duration": 326,
    "start_time": "2022-02-21T16:57:23.294Z"
   },
   {
    "duration": 19,
    "start_time": "2022-02-21T16:57:51.471Z"
   },
   {
    "duration": 414,
    "start_time": "2022-02-21T16:58:27.914Z"
   },
   {
    "duration": 1343,
    "start_time": "2022-02-24T09:33:22.693Z"
   },
   {
    "duration": 156,
    "start_time": "2022-02-24T09:33:24.038Z"
   },
   {
    "duration": 108,
    "start_time": "2022-02-24T09:33:24.196Z"
   },
   {
    "duration": 17,
    "start_time": "2022-02-24T09:33:24.305Z"
   },
   {
    "duration": 30,
    "start_time": "2022-02-24T09:33:24.324Z"
   },
   {
    "duration": 46,
    "start_time": "2022-02-24T09:33:24.355Z"
   },
   {
    "duration": 39,
    "start_time": "2022-02-24T09:33:24.403Z"
   },
   {
    "duration": 33,
    "start_time": "2022-02-24T09:33:24.444Z"
   },
   {
    "duration": 11,
    "start_time": "2022-02-24T09:33:24.483Z"
   },
   {
    "duration": 96,
    "start_time": "2022-02-24T09:33:24.496Z"
   },
   {
    "duration": 45,
    "start_time": "2022-02-24T09:33:24.593Z"
   },
   {
    "duration": 59,
    "start_time": "2022-02-24T09:33:24.639Z"
   },
   {
    "duration": 33,
    "start_time": "2022-02-24T09:33:24.699Z"
   },
   {
    "duration": 41,
    "start_time": "2022-02-24T09:33:24.734Z"
   },
   {
    "duration": 28,
    "start_time": "2022-02-24T09:33:24.777Z"
   },
   {
    "duration": 264,
    "start_time": "2022-02-24T09:33:24.807Z"
   },
   {
    "duration": 250,
    "start_time": "2022-02-24T09:37:45.674Z"
   },
   {
    "duration": 277,
    "start_time": "2022-02-24T09:38:19.194Z"
   },
   {
    "duration": 273,
    "start_time": "2022-02-24T09:38:57.896Z"
   },
   {
    "duration": 323,
    "start_time": "2022-02-24T09:39:15.273Z"
   },
   {
    "duration": 356,
    "start_time": "2022-02-24T09:39:57.016Z"
   },
   {
    "duration": 299,
    "start_time": "2022-02-24T09:40:05.843Z"
   },
   {
    "duration": 248,
    "start_time": "2022-02-24T09:40:59.507Z"
   },
   {
    "duration": 254,
    "start_time": "2022-02-24T09:41:28.911Z"
   },
   {
    "duration": 6,
    "start_time": "2022-02-24T09:43:03.612Z"
   },
   {
    "duration": 5,
    "start_time": "2022-02-24T09:45:14.517Z"
   },
   {
    "duration": 5,
    "start_time": "2022-02-24T09:45:22.844Z"
   },
   {
    "duration": 5511,
    "start_time": "2022-02-24T09:45:45.848Z"
   },
   {
    "duration": 7,
    "start_time": "2022-02-24T09:46:14.557Z"
   },
   {
    "duration": 5,
    "start_time": "2022-02-24T09:46:30.227Z"
   },
   {
    "duration": 47,
    "start_time": "2022-02-24T09:48:35.945Z"
   },
   {
    "duration": 207,
    "start_time": "2022-02-24T09:48:53.333Z"
   },
   {
    "duration": 175,
    "start_time": "2022-02-24T09:48:53.542Z"
   },
   {
    "duration": 110,
    "start_time": "2022-02-24T09:48:53.719Z"
   },
   {
    "duration": 25,
    "start_time": "2022-02-24T09:48:53.831Z"
   },
   {
    "duration": 62,
    "start_time": "2022-02-24T09:48:53.858Z"
   },
   {
    "duration": 51,
    "start_time": "2022-02-24T09:48:53.921Z"
   },
   {
    "duration": 39,
    "start_time": "2022-02-24T09:48:53.974Z"
   },
   {
    "duration": 21,
    "start_time": "2022-02-24T09:48:54.016Z"
   },
   {
    "duration": 36,
    "start_time": "2022-02-24T09:48:54.039Z"
   },
   {
    "duration": 83,
    "start_time": "2022-02-24T09:48:54.077Z"
   },
   {
    "duration": 48,
    "start_time": "2022-02-24T09:48:54.163Z"
   },
   {
    "duration": 53,
    "start_time": "2022-02-24T09:48:54.212Z"
   },
   {
    "duration": 40,
    "start_time": "2022-02-24T09:48:54.267Z"
   },
   {
    "duration": 24,
    "start_time": "2022-02-24T09:48:54.308Z"
   },
   {
    "duration": 51,
    "start_time": "2022-02-24T09:48:54.334Z"
   },
   {
    "duration": 260,
    "start_time": "2022-02-24T09:48:54.387Z"
   },
   {
    "duration": 16,
    "start_time": "2022-02-24T09:48:54.648Z"
   },
   {
    "duration": 251,
    "start_time": "2022-02-24T09:48:54.667Z"
   },
   {
    "duration": 242,
    "start_time": "2022-02-24T09:50:05.028Z"
   },
   {
    "duration": 178,
    "start_time": "2022-02-24T09:50:19.098Z"
   },
   {
    "duration": 155,
    "start_time": "2022-02-24T09:50:19.278Z"
   },
   {
    "duration": 107,
    "start_time": "2022-02-24T09:50:19.435Z"
   },
   {
    "duration": 20,
    "start_time": "2022-02-24T09:50:19.543Z"
   },
   {
    "duration": 37,
    "start_time": "2022-02-24T09:50:19.564Z"
   },
   {
    "duration": 4,
    "start_time": "2022-02-24T09:50:29.618Z"
   },
   {
    "duration": 5,
    "start_time": "2022-02-24T09:52:03.190Z"
   },
   {
    "duration": 38,
    "start_time": "2022-02-24T09:52:03.198Z"
   },
   {
    "duration": 45,
    "start_time": "2022-02-24T09:52:03.239Z"
   },
   {
    "duration": 22,
    "start_time": "2022-02-24T09:52:03.287Z"
   },
   {
    "duration": 13,
    "start_time": "2022-02-24T09:52:03.311Z"
   },
   {
    "duration": 87,
    "start_time": "2022-02-24T09:52:03.325Z"
   },
   {
    "duration": 47,
    "start_time": "2022-02-24T09:52:03.414Z"
   },
   {
    "duration": 43,
    "start_time": "2022-02-24T09:52:03.466Z"
   },
   {
    "duration": 138,
    "start_time": "2022-02-24T09:52:03.510Z"
   },
   {
    "duration": 39,
    "start_time": "2022-02-24T09:52:03.650Z"
   },
   {
    "duration": 26,
    "start_time": "2022-02-24T09:52:03.691Z"
   },
   {
    "duration": 267,
    "start_time": "2022-02-24T09:52:03.719Z"
   },
   {
    "duration": 5,
    "start_time": "2022-02-24T09:52:03.988Z"
   },
   {
    "duration": 284,
    "start_time": "2022-02-24T09:52:03.995Z"
   },
   {
    "duration": 1035,
    "start_time": "2022-02-24T10:04:35.910Z"
   },
   {
    "duration": 2197,
    "start_time": "2022-02-24T10:08:18.450Z"
   },
   {
    "duration": 409,
    "start_time": "2022-02-24T11:15:09.733Z"
   },
   {
    "duration": 397,
    "start_time": "2022-02-24T11:18:18.067Z"
   },
   {
    "duration": 164,
    "start_time": "2022-02-24T11:19:24.207Z"
   },
   {
    "duration": 145,
    "start_time": "2022-02-24T11:19:24.373Z"
   },
   {
    "duration": 102,
    "start_time": "2022-02-24T11:19:24.520Z"
   },
   {
    "duration": 17,
    "start_time": "2022-02-24T11:19:24.624Z"
   },
   {
    "duration": 31,
    "start_time": "2022-02-24T11:19:24.643Z"
   },
   {
    "duration": 35,
    "start_time": "2022-02-24T11:19:24.676Z"
   },
   {
    "duration": 47,
    "start_time": "2022-02-24T11:19:24.712Z"
   },
   {
    "duration": 20,
    "start_time": "2022-02-24T11:19:24.761Z"
   },
   {
    "duration": 11,
    "start_time": "2022-02-24T11:19:24.783Z"
   },
   {
    "duration": 86,
    "start_time": "2022-02-24T11:19:24.796Z"
   },
   {
    "duration": 44,
    "start_time": "2022-02-24T11:19:24.884Z"
   },
   {
    "duration": 57,
    "start_time": "2022-02-24T11:19:24.930Z"
   },
   {
    "duration": 34,
    "start_time": "2022-02-24T11:19:24.989Z"
   },
   {
    "duration": 45,
    "start_time": "2022-02-24T11:19:25.025Z"
   },
   {
    "duration": 26,
    "start_time": "2022-02-24T11:19:25.072Z"
   },
   {
    "duration": 251,
    "start_time": "2022-02-24T11:19:25.100Z"
   },
   {
    "duration": 397,
    "start_time": "2022-02-24T11:19:31.476Z"
   },
   {
    "duration": 74,
    "start_time": "2022-02-24T11:27:05.327Z"
   },
   {
    "duration": 69,
    "start_time": "2022-02-24T11:27:15.058Z"
   },
   {
    "duration": 141,
    "start_time": "2022-02-24T11:28:38.435Z"
   },
   {
    "duration": 64,
    "start_time": "2022-02-24T11:28:42.872Z"
   },
   {
    "duration": 390,
    "start_time": "2022-02-24T11:28:58.413Z"
   },
   {
    "duration": 241,
    "start_time": "2022-02-24T11:30:51.779Z"
   },
   {
    "duration": 216,
    "start_time": "2022-02-24T11:34:54.341Z"
   },
   {
    "duration": 176,
    "start_time": "2022-02-24T11:35:02.708Z"
   },
   {
    "duration": 156,
    "start_time": "2022-02-24T11:35:02.886Z"
   },
   {
    "duration": 102,
    "start_time": "2022-02-24T11:35:03.045Z"
   },
   {
    "duration": 18,
    "start_time": "2022-02-24T11:35:03.149Z"
   },
   {
    "duration": 45,
    "start_time": "2022-02-24T11:35:03.168Z"
   },
   {
    "duration": 40,
    "start_time": "2022-02-24T11:35:03.215Z"
   },
   {
    "duration": 35,
    "start_time": "2022-02-24T11:35:03.257Z"
   },
   {
    "duration": 21,
    "start_time": "2022-02-24T11:35:03.295Z"
   },
   {
    "duration": 20,
    "start_time": "2022-02-24T11:35:03.318Z"
   },
   {
    "duration": 100,
    "start_time": "2022-02-24T11:35:03.340Z"
   },
   {
    "duration": 45,
    "start_time": "2022-02-24T11:35:03.441Z"
   },
   {
    "duration": 42,
    "start_time": "2022-02-24T11:35:03.487Z"
   },
   {
    "duration": 48,
    "start_time": "2022-02-24T11:35:03.530Z"
   },
   {
    "duration": 22,
    "start_time": "2022-02-24T11:35:03.579Z"
   },
   {
    "duration": 25,
    "start_time": "2022-02-24T11:35:03.603Z"
   },
   {
    "duration": 247,
    "start_time": "2022-02-24T11:35:03.630Z"
   },
   {
    "duration": 328,
    "start_time": "2022-02-24T11:35:03.879Z"
   },
   {
    "duration": 251,
    "start_time": "2022-02-24T11:35:12.303Z"
   },
   {
    "duration": 1699,
    "start_time": "2022-02-24T11:35:59.647Z"
   },
   {
    "duration": 405,
    "start_time": "2022-02-24T11:41:04.413Z"
   },
   {
    "duration": 1641,
    "start_time": "2022-02-24T11:48:51.619Z"
   },
   {
    "duration": 1737,
    "start_time": "2022-02-24T11:50:04.858Z"
   },
   {
    "duration": 212,
    "start_time": "2022-02-24T11:52:58.853Z"
   },
   {
    "duration": 1715,
    "start_time": "2022-02-24T11:53:14.660Z"
   },
   {
    "duration": 318,
    "start_time": "2022-02-24T11:59:53.284Z"
   },
   {
    "duration": 265,
    "start_time": "2022-02-24T12:04:09.608Z"
   },
   {
    "duration": 1636,
    "start_time": "2022-02-24T12:04:40.218Z"
   },
   {
    "duration": 1925,
    "start_time": "2022-02-24T12:09:29.672Z"
   },
   {
    "duration": 451,
    "start_time": "2022-02-24T12:14:07.574Z"
   },
   {
    "duration": 428,
    "start_time": "2022-02-24T12:16:32.401Z"
   },
   {
    "duration": 192,
    "start_time": "2022-02-24T12:16:44.222Z"
   },
   {
    "duration": 264,
    "start_time": "2022-02-24T12:16:44.416Z"
   },
   {
    "duration": 110,
    "start_time": "2022-02-24T12:16:44.682Z"
   },
   {
    "duration": 17,
    "start_time": "2022-02-24T12:16:44.794Z"
   },
   {
    "duration": 45,
    "start_time": "2022-02-24T12:16:44.813Z"
   },
   {
    "duration": 36,
    "start_time": "2022-02-24T12:16:44.868Z"
   },
   {
    "duration": 35,
    "start_time": "2022-02-24T12:16:44.906Z"
   },
   {
    "duration": 36,
    "start_time": "2022-02-24T12:16:44.944Z"
   },
   {
    "duration": 11,
    "start_time": "2022-02-24T12:16:44.983Z"
   },
   {
    "duration": 100,
    "start_time": "2022-02-24T12:16:44.996Z"
   },
   {
    "duration": 48,
    "start_time": "2022-02-24T12:16:45.097Z"
   },
   {
    "duration": 55,
    "start_time": "2022-02-24T12:16:45.147Z"
   },
   {
    "duration": 35,
    "start_time": "2022-02-24T12:16:45.204Z"
   },
   {
    "duration": 29,
    "start_time": "2022-02-24T12:16:45.264Z"
   },
   {
    "duration": 29,
    "start_time": "2022-02-24T12:16:45.295Z"
   },
   {
    "duration": 274,
    "start_time": "2022-02-24T12:16:45.326Z"
   },
   {
    "duration": 287,
    "start_time": "2022-02-24T12:16:45.602Z"
   },
   {
    "duration": 455,
    "start_time": "2022-02-24T12:16:57.756Z"
   },
   {
    "duration": 67,
    "start_time": "2022-02-24T12:17:50.719Z"
   },
   {
    "duration": 5177,
    "start_time": "2022-02-24T12:18:00.259Z"
   },
   {
    "duration": 190,
    "start_time": "2022-02-24T12:18:36.534Z"
   },
   {
    "duration": 433,
    "start_time": "2022-02-24T12:18:51.772Z"
   },
   {
    "duration": 519,
    "start_time": "2022-02-24T12:19:51.882Z"
   },
   {
    "duration": 77,
    "start_time": "2022-02-24T12:20:55.629Z"
   },
   {
    "duration": 586,
    "start_time": "2022-02-24T12:21:12.480Z"
   },
   {
    "duration": 73,
    "start_time": "2022-02-24T12:40:31.796Z"
   },
   {
    "duration": 200,
    "start_time": "2022-02-24T12:40:55.793Z"
   },
   {
    "duration": 267,
    "start_time": "2022-02-24T12:44:00.371Z"
   },
   {
    "duration": 544,
    "start_time": "2022-02-24T12:46:35.572Z"
   },
   {
    "duration": 554,
    "start_time": "2022-02-24T12:47:58.707Z"
   },
   {
    "duration": 1332,
    "start_time": "2022-02-24T12:50:09.240Z"
   },
   {
    "duration": 1437,
    "start_time": "2022-02-24T12:50:59.797Z"
   },
   {
    "duration": 468,
    "start_time": "2022-02-24T12:51:33.953Z"
   },
   {
    "duration": 489,
    "start_time": "2022-02-24T12:51:48.116Z"
   },
   {
    "duration": 442,
    "start_time": "2022-02-24T12:52:13.020Z"
   },
   {
    "duration": 1404,
    "start_time": "2022-02-24T12:52:22.044Z"
   },
   {
    "duration": 1314,
    "start_time": "2022-02-24T12:54:57.273Z"
   },
   {
    "duration": 8,
    "start_time": "2022-02-24T13:03:34.765Z"
   },
   {
    "duration": 8,
    "start_time": "2022-02-24T13:03:52.489Z"
   },
   {
    "duration": 8,
    "start_time": "2022-02-24T13:04:05.885Z"
   },
   {
    "duration": 11,
    "start_time": "2022-02-24T13:05:45.019Z"
   },
   {
    "duration": 7,
    "start_time": "2022-02-24T13:06:17.152Z"
   },
   {
    "duration": 7,
    "start_time": "2022-02-24T13:06:40.803Z"
   },
   {
    "duration": 187,
    "start_time": "2022-02-24T13:07:12.925Z"
   },
   {
    "duration": 157,
    "start_time": "2022-02-24T13:07:13.114Z"
   },
   {
    "duration": 108,
    "start_time": "2022-02-24T13:07:13.273Z"
   },
   {
    "duration": 19,
    "start_time": "2022-02-24T13:07:13.383Z"
   },
   {
    "duration": 47,
    "start_time": "2022-02-24T13:07:13.404Z"
   },
   {
    "duration": 36,
    "start_time": "2022-02-24T13:07:13.453Z"
   },
   {
    "duration": 34,
    "start_time": "2022-02-24T13:07:13.491Z"
   },
   {
    "duration": 36,
    "start_time": "2022-02-24T13:07:13.528Z"
   },
   {
    "duration": 12,
    "start_time": "2022-02-24T13:07:13.567Z"
   },
   {
    "duration": 84,
    "start_time": "2022-02-24T13:07:13.581Z"
   },
   {
    "duration": 46,
    "start_time": "2022-02-24T13:07:13.666Z"
   },
   {
    "duration": 62,
    "start_time": "2022-02-24T13:07:13.714Z"
   },
   {
    "duration": 36,
    "start_time": "2022-02-24T13:07:13.778Z"
   },
   {
    "duration": 47,
    "start_time": "2022-02-24T13:07:13.816Z"
   },
   {
    "duration": 27,
    "start_time": "2022-02-24T13:07:13.865Z"
   },
   {
    "duration": 241,
    "start_time": "2022-02-24T13:07:13.894Z"
   },
   {
    "duration": 62,
    "start_time": "2022-02-24T13:07:14.137Z"
   },
   {
    "duration": 3089,
    "start_time": "2022-02-24T13:07:11.112Z"
   },
   {
    "duration": 3085,
    "start_time": "2022-02-24T13:07:11.117Z"
   },
   {
    "duration": 3075,
    "start_time": "2022-02-24T13:07:11.128Z"
   },
   {
    "duration": 3070,
    "start_time": "2022-02-24T13:07:11.134Z"
   },
   {
    "duration": 9,
    "start_time": "2022-02-24T13:07:30.826Z"
   },
   {
    "duration": 7,
    "start_time": "2022-02-24T13:07:35.251Z"
   },
   {
    "duration": 11,
    "start_time": "2022-02-24T13:07:35.260Z"
   },
   {
    "duration": 11,
    "start_time": "2022-02-24T13:07:35.273Z"
   },
   {
    "duration": 21,
    "start_time": "2022-02-24T13:07:35.286Z"
   },
   {
    "duration": 1197,
    "start_time": "2022-02-24T13:07:35.309Z"
   },
   {
    "duration": 10,
    "start_time": "2022-02-24T13:08:24.746Z"
   },
   {
    "duration": 11,
    "start_time": "2022-02-24T13:08:29.559Z"
   },
   {
    "duration": 5,
    "start_time": "2022-02-24T13:10:06.752Z"
   },
   {
    "duration": 1525,
    "start_time": "2022-02-25T09:06:01.104Z"
   },
   {
    "duration": 238,
    "start_time": "2022-02-25T09:06:02.631Z"
   },
   {
    "duration": 145,
    "start_time": "2022-02-25T09:06:02.872Z"
   },
   {
    "duration": 15,
    "start_time": "2022-02-25T09:06:03.019Z"
   },
   {
    "duration": 37,
    "start_time": "2022-02-25T09:06:03.036Z"
   },
   {
    "duration": 40,
    "start_time": "2022-02-25T09:06:03.074Z"
   },
   {
    "duration": 40,
    "start_time": "2022-02-25T09:06:03.116Z"
   },
   {
    "duration": 19,
    "start_time": "2022-02-25T09:06:03.159Z"
   },
   {
    "duration": 23,
    "start_time": "2022-02-25T09:06:03.180Z"
   },
   {
    "duration": 90,
    "start_time": "2022-02-25T09:06:03.205Z"
   },
   {
    "duration": 45,
    "start_time": "2022-02-25T09:06:03.297Z"
   },
   {
    "duration": 60,
    "start_time": "2022-02-25T09:06:03.344Z"
   },
   {
    "duration": 37,
    "start_time": "2022-02-25T09:06:03.406Z"
   },
   {
    "duration": 24,
    "start_time": "2022-02-25T09:06:03.445Z"
   },
   {
    "duration": 28,
    "start_time": "2022-02-25T09:06:03.494Z"
   },
   {
    "duration": 249,
    "start_time": "2022-02-25T09:06:03.524Z"
   },
   {
    "duration": 1193,
    "start_time": "2022-02-25T09:06:03.775Z"
   },
   {
    "duration": 4,
    "start_time": "2022-02-25T09:13:03.100Z"
   },
   {
    "duration": 341,
    "start_time": "2022-02-25T09:13:10.831Z"
   },
   {
    "duration": 5,
    "start_time": "2022-02-25T09:13:30.571Z"
   },
   {
    "duration": 6,
    "start_time": "2022-02-25T09:13:48.699Z"
   },
   {
    "duration": 6,
    "start_time": "2022-02-25T09:14:57.736Z"
   },
   {
    "duration": 6,
    "start_time": "2022-02-25T09:15:10.232Z"
   },
   {
    "duration": 7,
    "start_time": "2022-02-25T09:59:16.458Z"
   },
   {
    "duration": 6,
    "start_time": "2022-02-25T09:59:41.258Z"
   },
   {
    "duration": 6,
    "start_time": "2022-02-25T10:00:09.238Z"
   },
   {
    "duration": 1290,
    "start_time": "2022-02-25T10:06:04.312Z"
   },
   {
    "duration": 1837,
    "start_time": "2022-02-25T10:07:12.360Z"
   },
   {
    "duration": 16,
    "start_time": "2022-02-25T11:30:38.679Z"
   },
   {
    "duration": 56,
    "start_time": "2022-02-25T11:32:11.611Z"
   },
   {
    "duration": 16,
    "start_time": "2022-02-25T11:47:26.060Z"
   },
   {
    "duration": 15,
    "start_time": "2022-02-25T11:47:45.040Z"
   },
   {
    "duration": 116,
    "start_time": "2022-02-25T12:03:09.548Z"
   },
   {
    "duration": 82,
    "start_time": "2022-02-25T12:07:14.176Z"
   },
   {
    "duration": 93,
    "start_time": "2022-02-25T12:07:21.128Z"
   },
   {
    "duration": 84,
    "start_time": "2022-02-25T12:07:39.587Z"
   },
   {
    "duration": 82,
    "start_time": "2022-02-25T12:08:10.639Z"
   },
   {
    "duration": 79,
    "start_time": "2022-02-25T12:09:44.644Z"
   },
   {
    "duration": 14,
    "start_time": "2022-02-25T12:09:56.900Z"
   },
   {
    "duration": 15,
    "start_time": "2022-02-25T12:10:28.489Z"
   },
   {
    "duration": 15,
    "start_time": "2022-02-25T12:11:04.994Z"
   },
   {
    "duration": 15,
    "start_time": "2022-02-25T12:13:39.073Z"
   },
   {
    "duration": 16,
    "start_time": "2022-02-25T12:13:51.870Z"
   },
   {
    "duration": 6,
    "start_time": "2022-02-25T12:14:01.022Z"
   },
   {
    "duration": 14,
    "start_time": "2022-02-25T12:14:05.678Z"
   },
   {
    "duration": 1432,
    "start_time": "2022-02-25T12:48:38.590Z"
   },
   {
    "duration": 16,
    "start_time": "2022-02-25T12:48:53.325Z"
   },
   {
    "duration": 15,
    "start_time": "2022-02-25T12:51:04.166Z"
   },
   {
    "duration": 283,
    "start_time": "2022-02-25T12:53:18.635Z"
   },
   {
    "duration": 15,
    "start_time": "2022-02-25T12:56:04.176Z"
   },
   {
    "duration": 17,
    "start_time": "2022-02-25T12:57:04.423Z"
   },
   {
    "duration": 14,
    "start_time": "2022-02-25T12:57:40.237Z"
   },
   {
    "duration": 387,
    "start_time": "2022-02-25T13:00:52.129Z"
   },
   {
    "duration": 110,
    "start_time": "2022-02-25T13:01:21.578Z"
   },
   {
    "duration": 16,
    "start_time": "2022-02-25T13:02:24.063Z"
   },
   {
    "duration": 10,
    "start_time": "2022-02-25T13:03:38.599Z"
   },
   {
    "duration": 14,
    "start_time": "2022-02-25T13:04:15.799Z"
   },
   {
    "duration": 2357,
    "start_time": "2022-02-25T13:13:17.885Z"
   },
   {
    "duration": 1248,
    "start_time": "2022-02-25T13:15:48.076Z"
   },
   {
    "duration": 5,
    "start_time": "2022-02-25T13:23:29.209Z"
   },
   {
    "duration": 185,
    "start_time": "2022-02-25T14:11:20.895Z"
   },
   {
    "duration": 178,
    "start_time": "2022-02-25T14:11:25.007Z"
   },
   {
    "duration": 162,
    "start_time": "2022-02-25T14:11:25.187Z"
   },
   {
    "duration": 114,
    "start_time": "2022-02-25T14:11:25.352Z"
   },
   {
    "duration": 16,
    "start_time": "2022-02-25T14:11:25.469Z"
   },
   {
    "duration": 27,
    "start_time": "2022-02-25T14:11:25.497Z"
   },
   {
    "duration": 36,
    "start_time": "2022-02-25T14:11:25.525Z"
   },
   {
    "duration": 50,
    "start_time": "2022-02-25T14:11:25.563Z"
   },
   {
    "duration": 22,
    "start_time": "2022-02-25T14:11:25.616Z"
   },
   {
    "duration": 12,
    "start_time": "2022-02-25T14:11:25.640Z"
   },
   {
    "duration": 91,
    "start_time": "2022-02-25T14:11:25.653Z"
   },
   {
    "duration": 58,
    "start_time": "2022-02-25T14:11:25.746Z"
   },
   {
    "duration": 49,
    "start_time": "2022-02-25T14:11:25.806Z"
   },
   {
    "duration": 57,
    "start_time": "2022-02-25T14:11:25.857Z"
   },
   {
    "duration": 25,
    "start_time": "2022-02-25T14:11:25.915Z"
   },
   {
    "duration": 28,
    "start_time": "2022-02-25T14:11:25.942Z"
   },
   {
    "duration": 286,
    "start_time": "2022-02-25T14:11:25.971Z"
   },
   {
    "duration": 17,
    "start_time": "2022-02-25T14:11:26.259Z"
   },
   {
    "duration": 11,
    "start_time": "2022-02-25T14:11:26.293Z"
   },
   {
    "duration": 1380,
    "start_time": "2022-02-25T14:11:26.306Z"
   },
   {
    "duration": 6,
    "start_time": "2022-02-25T14:11:27.695Z"
   },
   {
    "duration": 7,
    "start_time": "2022-02-25T14:22:01.423Z"
   },
   {
    "duration": 471,
    "start_time": "2022-02-25T14:29:14.490Z"
   },
   {
    "duration": 5,
    "start_time": "2022-02-25T14:29:50.738Z"
   },
   {
    "duration": 476,
    "start_time": "2022-02-25T14:29:53.358Z"
   },
   {
    "duration": 5,
    "start_time": "2022-02-25T14:30:40.362Z"
   },
   {
    "duration": 8,
    "start_time": "2022-02-25T14:38:21.605Z"
   },
   {
    "duration": 31,
    "start_time": "2022-02-25T14:38:29.881Z"
   },
   {
    "duration": 5,
    "start_time": "2022-02-25T14:39:40.417Z"
   },
   {
    "duration": 9,
    "start_time": "2022-02-25T14:39:59.342Z"
   },
   {
    "duration": 6,
    "start_time": "2022-02-25T14:40:36.982Z"
   },
   {
    "duration": 316,
    "start_time": "2022-02-27T11:30:05.587Z"
   },
   {
    "duration": 1151,
    "start_time": "2022-02-27T11:30:10.696Z"
   },
   {
    "duration": 142,
    "start_time": "2022-02-27T11:30:11.849Z"
   },
   {
    "duration": 98,
    "start_time": "2022-02-27T11:30:11.994Z"
   },
   {
    "duration": 16,
    "start_time": "2022-02-27T11:30:12.094Z"
   },
   {
    "duration": 30,
    "start_time": "2022-02-27T11:30:12.111Z"
   },
   {
    "duration": 41,
    "start_time": "2022-02-27T11:30:12.143Z"
   },
   {
    "duration": 37,
    "start_time": "2022-02-27T11:30:12.186Z"
   },
   {
    "duration": 34,
    "start_time": "2022-02-27T11:30:12.225Z"
   },
   {
    "duration": 4,
    "start_time": "2022-02-27T11:30:12.262Z"
   },
   {
    "duration": 67,
    "start_time": "2022-02-27T11:30:12.268Z"
   },
   {
    "duration": 55,
    "start_time": "2022-02-27T11:30:12.336Z"
   },
   {
    "duration": 41,
    "start_time": "2022-02-27T11:30:12.393Z"
   },
   {
    "duration": 50,
    "start_time": "2022-02-27T11:30:12.436Z"
   },
   {
    "duration": 23,
    "start_time": "2022-02-27T11:30:12.487Z"
   },
   {
    "duration": 24,
    "start_time": "2022-02-27T11:30:12.511Z"
   },
   {
    "duration": 279,
    "start_time": "2022-02-27T11:30:12.536Z"
   },
   {
    "duration": 14,
    "start_time": "2022-02-27T11:30:12.817Z"
   },
   {
    "duration": 29,
    "start_time": "2022-02-27T11:30:12.833Z"
   },
   {
    "duration": 1231,
    "start_time": "2022-02-27T11:30:12.864Z"
   },
   {
    "duration": 5,
    "start_time": "2022-02-27T11:30:14.097Z"
   },
   {
    "duration": 6,
    "start_time": "2022-02-27T11:30:14.103Z"
   },
   {
    "duration": 5,
    "start_time": "2022-02-27T11:30:14.111Z"
   },
   {
    "duration": 8,
    "start_time": "2022-02-27T11:30:14.118Z"
   },
   {
    "duration": 4,
    "start_time": "2022-02-27T11:30:14.128Z"
   },
   {
    "duration": 55,
    "start_time": "2022-02-27T11:35:28.169Z"
   },
   {
    "duration": 56,
    "start_time": "2022-02-27T11:40:03.983Z"
   },
   {
    "duration": 120,
    "start_time": "2022-02-27T11:44:07.108Z"
   },
   {
    "duration": 63,
    "start_time": "2022-02-27T11:47:59.900Z"
   },
   {
    "duration": 5,
    "start_time": "2022-02-27T12:52:16.826Z"
   },
   {
    "duration": 5,
    "start_time": "2022-02-27T12:56:09.097Z"
   },
   {
    "duration": 5,
    "start_time": "2022-02-27T12:56:47.984Z"
   },
   {
    "duration": 7,
    "start_time": "2022-02-27T12:58:25.952Z"
   },
   {
    "duration": 5,
    "start_time": "2022-02-27T13:22:03.530Z"
   },
   {
    "duration": 29,
    "start_time": "2022-02-27T13:23:21.616Z"
   },
   {
    "duration": 317,
    "start_time": "2022-02-27T13:23:46.794Z"
   },
   {
    "duration": 3,
    "start_time": "2022-02-27T13:26:13.838Z"
   },
   {
    "duration": 30,
    "start_time": "2022-02-27T13:26:47.156Z"
   },
   {
    "duration": 9,
    "start_time": "2022-02-27T13:29:04.989Z"
   },
   {
    "duration": 8,
    "start_time": "2022-02-27T13:29:21.709Z"
   },
   {
    "duration": 6,
    "start_time": "2022-02-27T13:30:50.733Z"
   },
   {
    "duration": 10,
    "start_time": "2022-02-27T13:31:26.303Z"
   },
   {
    "duration": 19,
    "start_time": "2022-02-27T13:38:13.305Z"
   },
   {
    "duration": 12,
    "start_time": "2022-02-27T13:40:19.061Z"
   },
   {
    "duration": 250,
    "start_time": "2022-02-27T13:42:15.090Z"
   },
   {
    "duration": 217,
    "start_time": "2022-02-27T13:42:34.886Z"
   },
   {
    "duration": 1474,
    "start_time": "2022-02-27T13:43:24.279Z"
   },
   {
    "duration": 35,
    "start_time": "2022-02-27T13:43:36.359Z"
   },
   {
    "duration": 20,
    "start_time": "2022-02-27T13:44:19.511Z"
   },
   {
    "duration": 5060,
    "start_time": "2022-02-27T13:46:15.852Z"
   },
   {
    "duration": 20,
    "start_time": "2022-02-27T13:46:54.889Z"
   },
   {
    "duration": 8,
    "start_time": "2022-02-27T13:47:37.580Z"
   },
   {
    "duration": 8,
    "start_time": "2022-02-27T13:49:27.654Z"
   },
   {
    "duration": 8,
    "start_time": "2022-02-27T13:49:36.961Z"
   },
   {
    "duration": 2718,
    "start_time": "2022-02-27T13:57:38.536Z"
   },
   {
    "duration": 10,
    "start_time": "2022-02-27T13:58:15.141Z"
   },
   {
    "duration": 2556,
    "start_time": "2022-02-27T14:00:24.532Z"
   },
   {
    "duration": 8,
    "start_time": "2022-02-27T14:00:40.186Z"
   },
   {
    "duration": 204,
    "start_time": "2022-03-07T12:43:43.691Z"
   },
   {
    "duration": 1198,
    "start_time": "2022-03-07T12:43:48.138Z"
   },
   {
    "duration": 148,
    "start_time": "2022-03-07T12:43:49.338Z"
   },
   {
    "duration": 111,
    "start_time": "2022-03-07T12:43:49.489Z"
   },
   {
    "duration": 16,
    "start_time": "2022-03-07T12:43:49.602Z"
   },
   {
    "duration": 55,
    "start_time": "2022-03-07T12:43:49.620Z"
   },
   {
    "duration": 39,
    "start_time": "2022-03-07T12:43:49.677Z"
   },
   {
    "duration": 40,
    "start_time": "2022-03-07T12:43:49.718Z"
   },
   {
    "duration": 19,
    "start_time": "2022-03-07T12:43:49.760Z"
   },
   {
    "duration": 6,
    "start_time": "2022-03-07T12:43:49.781Z"
   },
   {
    "duration": 14,
    "start_time": "2022-03-07T12:43:50.612Z"
   },
   {
    "duration": 1610,
    "start_time": "2022-03-07T14:14:41.569Z"
   },
   {
    "duration": 208,
    "start_time": "2022-03-07T14:14:43.183Z"
   },
   {
    "duration": 162,
    "start_time": "2022-03-07T14:14:43.396Z"
   },
   {
    "duration": 21,
    "start_time": "2022-03-07T14:14:43.573Z"
   },
   {
    "duration": 42,
    "start_time": "2022-03-07T14:14:43.597Z"
   },
   {
    "duration": 78,
    "start_time": "2022-03-07T14:14:43.642Z"
   },
   {
    "duration": 58,
    "start_time": "2022-03-07T14:14:43.723Z"
   },
   {
    "duration": 30,
    "start_time": "2022-03-07T14:14:43.786Z"
   },
   {
    "duration": 12,
    "start_time": "2022-03-07T14:14:43.820Z"
   },
   {
    "duration": 163,
    "start_time": "2022-03-07T14:14:43.835Z"
   },
   {
    "duration": 83,
    "start_time": "2022-03-07T14:14:44.001Z"
   },
   {
    "duration": 418,
    "start_time": "2022-03-07T14:14:44.087Z"
   },
   {
    "duration": 896,
    "start_time": "2022-03-07T14:14:43.611Z"
   },
   {
    "duration": 889,
    "start_time": "2022-03-07T14:14:43.620Z"
   },
   {
    "duration": 882,
    "start_time": "2022-03-07T14:14:43.628Z"
   },
   {
    "duration": 874,
    "start_time": "2022-03-07T14:14:43.638Z"
   },
   {
    "duration": 869,
    "start_time": "2022-03-07T14:14:43.644Z"
   },
   {
    "duration": 864,
    "start_time": "2022-03-07T14:14:43.650Z"
   },
   {
    "duration": 856,
    "start_time": "2022-03-07T14:14:43.659Z"
   },
   {
    "duration": 845,
    "start_time": "2022-03-07T14:14:43.672Z"
   },
   {
    "duration": 841,
    "start_time": "2022-03-07T14:14:43.677Z"
   },
   {
    "duration": 835,
    "start_time": "2022-03-07T14:14:43.685Z"
   },
   {
    "duration": 825,
    "start_time": "2022-03-07T14:14:43.696Z"
   },
   {
    "duration": 70,
    "start_time": "2022-03-07T14:15:27.241Z"
   },
   {
    "duration": 83,
    "start_time": "2022-03-07T14:18:01.098Z"
   },
   {
    "duration": 58,
    "start_time": "2022-03-07T14:18:18.496Z"
   },
   {
    "duration": 57,
    "start_time": "2022-03-07T14:18:42.114Z"
   },
   {
    "duration": 60,
    "start_time": "2022-03-07T14:19:06.690Z"
   },
   {
    "duration": 65,
    "start_time": "2022-03-07T14:19:43.027Z"
   },
   {
    "duration": 58,
    "start_time": "2022-03-07T14:21:04.727Z"
   },
   {
    "duration": 64,
    "start_time": "2022-03-07T14:23:29.947Z"
   },
   {
    "duration": 263,
    "start_time": "2022-03-07T14:23:45.563Z"
   },
   {
    "duration": 216,
    "start_time": "2022-03-07T14:23:45.829Z"
   },
   {
    "duration": 161,
    "start_time": "2022-03-07T14:23:46.049Z"
   },
   {
    "duration": 22,
    "start_time": "2022-03-07T14:23:46.214Z"
   },
   {
    "duration": 55,
    "start_time": "2022-03-07T14:23:46.239Z"
   },
   {
    "duration": 47,
    "start_time": "2022-03-07T14:23:46.296Z"
   },
   {
    "duration": 53,
    "start_time": "2022-03-07T14:23:46.345Z"
   },
   {
    "duration": 28,
    "start_time": "2022-03-07T14:23:46.402Z"
   },
   {
    "duration": 7,
    "start_time": "2022-03-07T14:23:46.433Z"
   },
   {
    "duration": 114,
    "start_time": "2022-03-07T14:23:46.473Z"
   },
   {
    "duration": 62,
    "start_time": "2022-03-07T14:23:46.590Z"
   },
   {
    "duration": 80,
    "start_time": "2022-03-07T14:23:46.654Z"
   },
   {
    "duration": 75,
    "start_time": "2022-03-07T14:23:46.736Z"
   },
   {
    "duration": 37,
    "start_time": "2022-03-07T14:23:46.813Z"
   },
   {
    "duration": 59,
    "start_time": "2022-03-07T14:23:46.853Z"
   },
   {
    "duration": 530,
    "start_time": "2022-03-07T14:23:46.915Z"
   },
   {
    "duration": 35,
    "start_time": "2022-03-07T14:23:47.447Z"
   },
   {
    "duration": 13,
    "start_time": "2022-03-07T14:23:47.484Z"
   },
   {
    "duration": 1960,
    "start_time": "2022-03-07T14:23:47.499Z"
   },
   {
    "duration": 8,
    "start_time": "2022-03-07T14:23:49.474Z"
   },
   {
    "duration": 9,
    "start_time": "2022-03-07T14:23:49.484Z"
   },
   {
    "duration": 12,
    "start_time": "2022-03-07T14:23:49.495Z"
   },
   {
    "duration": 7,
    "start_time": "2022-03-07T14:23:49.511Z"
   },
   {
    "duration": 246,
    "start_time": "2022-03-07T14:26:18.280Z"
   },
   {
    "duration": 207,
    "start_time": "2022-03-07T14:26:18.528Z"
   },
   {
    "duration": 158,
    "start_time": "2022-03-07T14:26:18.738Z"
   },
   {
    "duration": 21,
    "start_time": "2022-03-07T14:26:18.899Z"
   },
   {
    "duration": 60,
    "start_time": "2022-03-07T14:26:18.923Z"
   },
   {
    "duration": 46,
    "start_time": "2022-03-07T14:26:18.985Z"
   },
   {
    "duration": 57,
    "start_time": "2022-03-07T14:26:19.034Z"
   },
   {
    "duration": 29,
    "start_time": "2022-03-07T14:26:19.096Z"
   },
   {
    "duration": 8,
    "start_time": "2022-03-07T14:26:19.128Z"
   },
   {
    "duration": 226,
    "start_time": "2022-03-07T14:26:19.139Z"
   },
   {
    "duration": 69,
    "start_time": "2022-03-07T14:26:19.368Z"
   },
   {
    "duration": 89,
    "start_time": "2022-03-07T14:26:19.440Z"
   },
   {
    "duration": 86,
    "start_time": "2022-03-07T14:26:19.532Z"
   },
   {
    "duration": 62,
    "start_time": "2022-03-07T14:26:19.621Z"
   },
   {
    "duration": 44,
    "start_time": "2022-03-07T14:26:19.686Z"
   },
   {
    "duration": 450,
    "start_time": "2022-03-07T14:26:19.733Z"
   },
   {
    "duration": 27,
    "start_time": "2022-03-07T14:26:20.186Z"
   },
   {
    "duration": 62,
    "start_time": "2022-03-07T14:26:20.216Z"
   },
   {
    "duration": 1846,
    "start_time": "2022-03-07T14:26:20.281Z"
   },
   {
    "duration": 7,
    "start_time": "2022-03-07T14:26:22.130Z"
   },
   {
    "duration": 36,
    "start_time": "2022-03-07T14:26:22.139Z"
   },
   {
    "duration": 13,
    "start_time": "2022-03-07T14:26:22.178Z"
   },
   {
    "duration": 8,
    "start_time": "2022-03-07T14:26:22.195Z"
   },
   {
    "duration": 256,
    "start_time": "2022-03-07T14:32:21.320Z"
   },
   {
    "duration": 212,
    "start_time": "2022-03-07T14:32:21.579Z"
   },
   {
    "duration": 162,
    "start_time": "2022-03-07T14:32:21.793Z"
   },
   {
    "duration": 34,
    "start_time": "2022-03-07T14:32:21.959Z"
   },
   {
    "duration": 44,
    "start_time": "2022-03-07T14:32:21.997Z"
   },
   {
    "duration": 66,
    "start_time": "2022-03-07T14:32:22.044Z"
   },
   {
    "duration": 70,
    "start_time": "2022-03-07T14:32:22.113Z"
   },
   {
    "duration": 30,
    "start_time": "2022-03-07T14:32:22.187Z"
   },
   {
    "duration": 8,
    "start_time": "2022-03-07T14:32:22.220Z"
   },
   {
    "duration": 142,
    "start_time": "2022-03-07T14:32:22.231Z"
   },
   {
    "duration": 64,
    "start_time": "2022-03-07T14:32:22.375Z"
   },
   {
    "duration": 86,
    "start_time": "2022-03-07T14:32:22.442Z"
   },
   {
    "duration": 149,
    "start_time": "2022-03-07T14:32:22.531Z"
   },
   {
    "duration": 45,
    "start_time": "2022-03-07T14:32:22.683Z"
   },
   {
    "duration": 81,
    "start_time": "2022-03-07T14:32:22.731Z"
   },
   {
    "duration": 428,
    "start_time": "2022-03-07T14:32:22.815Z"
   },
   {
    "duration": 35,
    "start_time": "2022-03-07T14:32:23.245Z"
   },
   {
    "duration": 14,
    "start_time": "2022-03-07T14:32:23.282Z"
   },
   {
    "duration": 1865,
    "start_time": "2022-03-07T14:32:23.299Z"
   },
   {
    "duration": 11,
    "start_time": "2022-03-07T14:32:25.166Z"
   },
   {
    "duration": 7,
    "start_time": "2022-03-07T14:32:25.180Z"
   },
   {
    "duration": 13,
    "start_time": "2022-03-07T14:32:25.189Z"
   },
   {
    "duration": 7,
    "start_time": "2022-03-07T14:32:25.206Z"
   },
   {
    "duration": 236,
    "start_time": "2022-03-07T14:48:11.124Z"
   },
   {
    "duration": 219,
    "start_time": "2022-03-07T14:48:11.375Z"
   },
   {
    "duration": 153,
    "start_time": "2022-03-07T14:48:11.596Z"
   },
   {
    "duration": 31,
    "start_time": "2022-03-07T14:48:11.753Z"
   },
   {
    "duration": 38,
    "start_time": "2022-03-07T14:48:11.787Z"
   },
   {
    "duration": 85,
    "start_time": "2022-03-07T14:48:11.828Z"
   },
   {
    "duration": 59,
    "start_time": "2022-03-07T14:48:11.916Z"
   },
   {
    "duration": 29,
    "start_time": "2022-03-07T14:48:11.978Z"
   },
   {
    "duration": 7,
    "start_time": "2022-03-07T14:48:12.010Z"
   },
   {
    "duration": 130,
    "start_time": "2022-03-07T14:48:12.019Z"
   },
   {
    "duration": 76,
    "start_time": "2022-03-07T14:48:12.152Z"
   },
   {
    "duration": 79,
    "start_time": "2022-03-07T14:48:12.230Z"
   },
   {
    "duration": 138,
    "start_time": "2022-03-07T14:48:12.312Z"
   },
   {
    "duration": 53,
    "start_time": "2022-03-07T14:48:12.452Z"
   },
   {
    "duration": 69,
    "start_time": "2022-03-07T14:48:12.508Z"
   },
   {
    "duration": 522,
    "start_time": "2022-03-07T14:48:12.580Z"
   },
   {
    "duration": 30,
    "start_time": "2022-03-07T14:48:13.104Z"
   },
   {
    "duration": 42,
    "start_time": "2022-03-07T14:48:13.137Z"
   },
   {
    "duration": 1844,
    "start_time": "2022-03-07T14:48:13.182Z"
   },
   {
    "duration": 8,
    "start_time": "2022-03-07T14:48:15.028Z"
   },
   {
    "duration": 38,
    "start_time": "2022-03-07T14:48:15.039Z"
   },
   {
    "duration": 13,
    "start_time": "2022-03-07T14:48:15.079Z"
   },
   {
    "duration": 11,
    "start_time": "2022-03-07T14:48:15.097Z"
   },
   {
    "duration": 7,
    "start_time": "2022-03-07T14:48:58.808Z"
   },
   {
    "duration": 254,
    "start_time": "2022-03-07T14:49:20.728Z"
   },
   {
    "duration": 226,
    "start_time": "2022-03-07T14:49:20.985Z"
   },
   {
    "duration": 147,
    "start_time": "2022-03-07T14:49:21.214Z"
   },
   {
    "duration": 30,
    "start_time": "2022-03-07T14:49:21.363Z"
   },
   {
    "duration": 35,
    "start_time": "2022-03-07T14:49:21.395Z"
   },
   {
    "duration": 74,
    "start_time": "2022-03-07T14:49:21.433Z"
   },
   {
    "duration": 33,
    "start_time": "2022-03-07T14:49:21.509Z"
   },
   {
    "duration": 45,
    "start_time": "2022-03-07T14:49:21.546Z"
   },
   {
    "duration": 7,
    "start_time": "2022-03-07T14:49:21.594Z"
   },
   {
    "duration": 118,
    "start_time": "2022-03-07T14:49:21.603Z"
   },
   {
    "duration": 81,
    "start_time": "2022-03-07T14:49:21.724Z"
   },
   {
    "duration": 78,
    "start_time": "2022-03-07T14:49:21.807Z"
   },
   {
    "duration": 145,
    "start_time": "2022-03-07T14:49:21.887Z"
   },
   {
    "duration": 64,
    "start_time": "2022-03-07T14:49:22.035Z"
   },
   {
    "duration": 71,
    "start_time": "2022-03-07T14:49:22.102Z"
   },
   {
    "duration": 435,
    "start_time": "2022-03-07T14:49:22.176Z"
   },
   {
    "duration": 22,
    "start_time": "2022-03-07T14:49:22.613Z"
   },
   {
    "duration": 43,
    "start_time": "2022-03-07T14:49:22.638Z"
   },
   {
    "duration": 1854,
    "start_time": "2022-03-07T14:49:22.683Z"
   },
   {
    "duration": 7,
    "start_time": "2022-03-07T14:49:24.539Z"
   },
   {
    "duration": 29,
    "start_time": "2022-03-07T14:49:24.549Z"
   },
   {
    "duration": 13,
    "start_time": "2022-03-07T14:49:24.581Z"
   },
   {
    "duration": 8,
    "start_time": "2022-03-07T14:49:24.598Z"
   },
   {
    "duration": 8,
    "start_time": "2022-03-07T14:49:40.064Z"
   },
   {
    "duration": 1467,
    "start_time": "2022-08-11T13:02:26.890Z"
   },
   {
    "duration": 2,
    "start_time": "2022-08-11T13:12:44.425Z"
   },
   {
    "duration": 270,
    "start_time": "2022-08-11T13:12:44.430Z"
   },
   {
    "duration": 342,
    "start_time": "2022-08-11T13:12:44.703Z"
   },
   {
    "duration": 346,
    "start_time": "2022-08-11T13:12:45.047Z"
   },
   {
    "duration": 66,
    "start_time": "2022-08-11T13:12:45.395Z"
   },
   {
    "duration": 82,
    "start_time": "2022-08-11T13:12:45.462Z"
   },
   {
    "duration": 40,
    "start_time": "2022-08-11T13:12:45.546Z"
   },
   {
    "duration": 26,
    "start_time": "2022-08-11T13:12:45.587Z"
   },
   {
    "duration": 21,
    "start_time": "2022-08-11T13:12:45.615Z"
   },
   {
    "duration": 43,
    "start_time": "2022-08-11T13:12:45.638Z"
   },
   {
    "duration": 78,
    "start_time": "2022-08-11T13:12:45.683Z"
   },
   {
    "duration": 50,
    "start_time": "2022-08-11T13:12:45.763Z"
   },
   {
    "duration": 42,
    "start_time": "2022-08-11T13:12:45.815Z"
   },
   {
    "duration": 31,
    "start_time": "2022-08-11T13:12:45.859Z"
   },
   {
    "duration": 40,
    "start_time": "2022-08-11T13:12:45.892Z"
   },
   {
    "duration": 31,
    "start_time": "2022-08-11T13:12:45.935Z"
   },
   {
    "duration": 176,
    "start_time": "2022-08-11T13:12:45.968Z"
   },
   {
    "duration": 15,
    "start_time": "2022-08-11T13:12:46.145Z"
   },
   {
    "duration": 8,
    "start_time": "2022-08-11T13:12:46.161Z"
   },
   {
    "duration": 843,
    "start_time": "2022-08-11T13:12:49.922Z"
   },
   {
    "duration": 3,
    "start_time": "2022-08-11T13:17:59.793Z"
   },
   {
    "duration": 195,
    "start_time": "2022-08-11T13:17:59.798Z"
   },
   {
    "duration": 150,
    "start_time": "2022-08-11T13:17:59.995Z"
   },
   {
    "duration": 106,
    "start_time": "2022-08-11T13:18:00.147Z"
   },
   {
    "duration": 21,
    "start_time": "2022-08-11T13:18:00.255Z"
   },
   {
    "duration": 41,
    "start_time": "2022-08-11T13:18:00.277Z"
   },
   {
    "duration": 35,
    "start_time": "2022-08-11T13:18:00.319Z"
   },
   {
    "duration": 25,
    "start_time": "2022-08-11T13:18:00.356Z"
   },
   {
    "duration": 41,
    "start_time": "2022-08-11T13:18:00.382Z"
   },
   {
    "duration": 37,
    "start_time": "2022-08-11T13:18:00.424Z"
   },
   {
    "duration": 80,
    "start_time": "2022-08-11T13:18:00.464Z"
   },
   {
    "duration": 38,
    "start_time": "2022-08-11T13:18:00.546Z"
   },
   {
    "duration": 45,
    "start_time": "2022-08-11T13:18:00.586Z"
   },
   {
    "duration": 30,
    "start_time": "2022-08-11T13:18:00.633Z"
   },
   {
    "duration": 23,
    "start_time": "2022-08-11T13:18:00.665Z"
   },
   {
    "duration": 26,
    "start_time": "2022-08-11T13:18:00.709Z"
   },
   {
    "duration": 126,
    "start_time": "2022-08-11T13:18:00.736Z"
   },
   {
    "duration": 15,
    "start_time": "2022-08-11T13:18:00.863Z"
   },
   {
    "duration": 47,
    "start_time": "2022-08-11T13:18:00.880Z"
   },
   {
    "duration": 853,
    "start_time": "2022-08-11T13:18:00.928Z"
   },
   {
    "duration": 5,
    "start_time": "2022-08-11T13:18:01.783Z"
   },
   {
    "duration": 21,
    "start_time": "2022-08-11T13:18:01.790Z"
   },
   {
    "duration": 27,
    "start_time": "2022-08-11T13:18:01.813Z"
   },
   {
    "duration": 15,
    "start_time": "2022-08-11T13:18:01.842Z"
   }
  ],
  "kernelspec": {
   "display_name": "Python 3 (ipykernel)",
   "language": "python",
   "name": "python3"
  },
  "language_info": {
   "codemirror_mode": {
    "name": "ipython",
    "version": 3
   },
   "file_extension": ".py",
   "mimetype": "text/x-python",
   "name": "python",
   "nbconvert_exporter": "python",
   "pygments_lexer": "ipython3",
   "version": "3.9.5"
  },
  "toc": {
   "base_numbering": 1,
   "nav_menu": {},
   "number_sections": true,
   "sideBar": true,
   "skip_h1_title": true,
   "title_cell": "Table of Contents",
   "title_sidebar": "Contents",
   "toc_cell": false,
   "toc_position": {},
   "toc_section_display": true,
   "toc_window_display": true
  }
 },
 "nbformat": 4,
 "nbformat_minor": 2
}
