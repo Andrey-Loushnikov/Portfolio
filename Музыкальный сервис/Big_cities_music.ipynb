{
 "cells": [
  {
   "cell_type": "markdown",
   "metadata": {
    "id": "E0vqbgi9ay0H"
   },
   "source": [
    "# Яндекс.Музыка"
   ]
  },
  {
   "cell_type": "markdown",
   "metadata": {
    "id": "VUC88oWjTJw2"
   },
   "source": [
    "Сравнение Москвы и Петербурга окружено мифами. Например:\n",
    " * Москва — мегаполис, подчинённый жёсткому ритму рабочей недели;\n",
    " * Петербург — культурная столица, со своими вкусами.\n",
    "\n",
    "На данных Яндекс.Музыки мы сравним поведение пользователей двух столиц.\n",
    "\n",
    "**Цель исследования** — проверить три гипотезы:\n",
    "1. Активность пользователей зависит от дня недели. Причём в Москве и Петербурге это проявляется по-разному.\n",
    "2. В понедельник утром в Москве преобладают одни жанры, а в Петербурге — другие. Так же и вечером пятницы преобладают разные жанры — в зависимости от города. \n",
    "3. Москва и Петербург предпочитают разные жанры музыки. В Москве чаще слушают поп-музыку, в Петербурге — русский рэп.\n",
    "\n",
    "В процессе работы нам необходимо будет:\n",
    "1. Рассмотреть имеющиеся данные.\n",
    "2. Предобработать их, если потребуется.\n",
    "3. Проверить наши гипотезы."
   ]
  },
  {
   "cell_type": "markdown",
   "metadata": {
    "id": "Ml1hmfXC_Zcs"
   },
   "source": [
    "## Обзор данных"
   ]
  },
  {
   "cell_type": "code",
   "execution_count": 3,
   "metadata": {
    "id": "AXN7PHPN_Zcs"
   },
   "outputs": [],
   "source": [
    "import pandas as pd"
   ]
  },
  {
   "cell_type": "code",
   "execution_count": 4,
   "metadata": {
    "id": "fFVu7vqh_Zct"
   },
   "outputs": [],
   "source": [
    "df = pd.read_csv('/datasets/yandex_music_project.csv')\n",
    "                "
   ]
  },
  {
   "cell_type": "markdown",
   "metadata": {
    "id": "rDoOMd3uTqnZ"
   },
   "source": [
    "Выведем на экран первые десять строк таблицы."
   ]
  },
  {
   "cell_type": "code",
   "execution_count": 5,
   "metadata": {
    "id": "oWTVX3gW_Zct",
    "scrolled": true
   },
   "outputs": [
    {
     "data": {
      "text/html": [
       "<div>\n",
       "<style scoped>\n",
       "    .dataframe tbody tr th:only-of-type {\n",
       "        vertical-align: middle;\n",
       "    }\n",
       "\n",
       "    .dataframe tbody tr th {\n",
       "        vertical-align: top;\n",
       "    }\n",
       "\n",
       "    .dataframe thead th {\n",
       "        text-align: right;\n",
       "    }\n",
       "</style>\n",
       "<table border=\"1\" class=\"dataframe\">\n",
       "  <thead>\n",
       "    <tr style=\"text-align: right;\">\n",
       "      <th></th>\n",
       "      <th>userID</th>\n",
       "      <th>Track</th>\n",
       "      <th>artist</th>\n",
       "      <th>genre</th>\n",
       "      <th>City</th>\n",
       "      <th>time</th>\n",
       "      <th>Day</th>\n",
       "    </tr>\n",
       "  </thead>\n",
       "  <tbody>\n",
       "    <tr>\n",
       "      <th>0</th>\n",
       "      <td>FFB692EC</td>\n",
       "      <td>Kamigata To Boots</td>\n",
       "      <td>The Mass Missile</td>\n",
       "      <td>rock</td>\n",
       "      <td>Saint-Petersburg</td>\n",
       "      <td>20:28:33</td>\n",
       "      <td>Wednesday</td>\n",
       "    </tr>\n",
       "    <tr>\n",
       "      <th>1</th>\n",
       "      <td>55204538</td>\n",
       "      <td>Delayed Because of Accident</td>\n",
       "      <td>Andreas Rönnberg</td>\n",
       "      <td>rock</td>\n",
       "      <td>Moscow</td>\n",
       "      <td>14:07:09</td>\n",
       "      <td>Friday</td>\n",
       "    </tr>\n",
       "    <tr>\n",
       "      <th>2</th>\n",
       "      <td>20EC38</td>\n",
       "      <td>Funiculì funiculà</td>\n",
       "      <td>Mario Lanza</td>\n",
       "      <td>pop</td>\n",
       "      <td>Saint-Petersburg</td>\n",
       "      <td>20:58:07</td>\n",
       "      <td>Wednesday</td>\n",
       "    </tr>\n",
       "    <tr>\n",
       "      <th>3</th>\n",
       "      <td>A3DD03C9</td>\n",
       "      <td>Dragons in the Sunset</td>\n",
       "      <td>Fire + Ice</td>\n",
       "      <td>folk</td>\n",
       "      <td>Saint-Petersburg</td>\n",
       "      <td>08:37:09</td>\n",
       "      <td>Monday</td>\n",
       "    </tr>\n",
       "    <tr>\n",
       "      <th>4</th>\n",
       "      <td>E2DC1FAE</td>\n",
       "      <td>Soul People</td>\n",
       "      <td>Space Echo</td>\n",
       "      <td>dance</td>\n",
       "      <td>Moscow</td>\n",
       "      <td>08:34:34</td>\n",
       "      <td>Monday</td>\n",
       "    </tr>\n",
       "    <tr>\n",
       "      <th>5</th>\n",
       "      <td>842029A1</td>\n",
       "      <td>Преданная</td>\n",
       "      <td>IMPERVTOR</td>\n",
       "      <td>rusrap</td>\n",
       "      <td>Saint-Petersburg</td>\n",
       "      <td>13:09:41</td>\n",
       "      <td>Friday</td>\n",
       "    </tr>\n",
       "    <tr>\n",
       "      <th>6</th>\n",
       "      <td>4CB90AA5</td>\n",
       "      <td>True</td>\n",
       "      <td>Roman Messer</td>\n",
       "      <td>dance</td>\n",
       "      <td>Moscow</td>\n",
       "      <td>13:00:07</td>\n",
       "      <td>Wednesday</td>\n",
       "    </tr>\n",
       "    <tr>\n",
       "      <th>7</th>\n",
       "      <td>F03E1C1F</td>\n",
       "      <td>Feeling This Way</td>\n",
       "      <td>Polina Griffith</td>\n",
       "      <td>dance</td>\n",
       "      <td>Moscow</td>\n",
       "      <td>20:47:49</td>\n",
       "      <td>Wednesday</td>\n",
       "    </tr>\n",
       "    <tr>\n",
       "      <th>8</th>\n",
       "      <td>8FA1D3BE</td>\n",
       "      <td>И вновь продолжается бой</td>\n",
       "      <td>NaN</td>\n",
       "      <td>ruspop</td>\n",
       "      <td>Moscow</td>\n",
       "      <td>09:17:40</td>\n",
       "      <td>Friday</td>\n",
       "    </tr>\n",
       "    <tr>\n",
       "      <th>9</th>\n",
       "      <td>E772D5C0</td>\n",
       "      <td>Pessimist</td>\n",
       "      <td>NaN</td>\n",
       "      <td>dance</td>\n",
       "      <td>Saint-Petersburg</td>\n",
       "      <td>21:20:49</td>\n",
       "      <td>Wednesday</td>\n",
       "    </tr>\n",
       "  </tbody>\n",
       "</table>\n",
       "</div>"
      ],
      "text/plain": [
       "     userID                        Track            artist   genre  \\\n",
       "0  FFB692EC            Kamigata To Boots  The Mass Missile    rock   \n",
       "1  55204538  Delayed Because of Accident  Andreas Rönnberg    rock   \n",
       "2    20EC38            Funiculì funiculà       Mario Lanza     pop   \n",
       "3  A3DD03C9        Dragons in the Sunset        Fire + Ice    folk   \n",
       "4  E2DC1FAE                  Soul People        Space Echo   dance   \n",
       "5  842029A1                    Преданная         IMPERVTOR  rusrap   \n",
       "6  4CB90AA5                         True      Roman Messer   dance   \n",
       "7  F03E1C1F             Feeling This Way   Polina Griffith   dance   \n",
       "8  8FA1D3BE     И вновь продолжается бой               NaN  ruspop   \n",
       "9  E772D5C0                    Pessimist               NaN   dance   \n",
       "\n",
       "             City        time        Day  \n",
       "0  Saint-Petersburg  20:28:33  Wednesday  \n",
       "1            Moscow  14:07:09     Friday  \n",
       "2  Saint-Petersburg  20:58:07  Wednesday  \n",
       "3  Saint-Petersburg  08:37:09     Monday  \n",
       "4            Moscow  08:34:34     Monday  \n",
       "5  Saint-Petersburg  13:09:41     Friday  \n",
       "6            Moscow  13:00:07  Wednesday  \n",
       "7            Moscow  20:47:49  Wednesday  \n",
       "8            Moscow  09:17:40     Friday  \n",
       "9  Saint-Petersburg  21:20:49  Wednesday  "
      ]
     },
     "execution_count": 5,
     "metadata": {},
     "output_type": "execute_result"
    }
   ],
   "source": [
    "df.head(10)"
   ]
  },
  {
   "cell_type": "code",
   "execution_count": 6,
   "metadata": {
    "id": "DSf2kIb-_Zct"
   },
   "outputs": [
    {
     "name": "stdout",
     "output_type": "stream",
     "text": [
      "<class 'pandas.core.frame.DataFrame'>\n",
      "RangeIndex: 65079 entries, 0 to 65078\n",
      "Data columns (total 7 columns):\n",
      " #   Column    Non-Null Count  Dtype \n",
      "---  ------    --------------  ----- \n",
      " 0     userID  65079 non-null  object\n",
      " 1   Track     63848 non-null  object\n",
      " 2   artist    57876 non-null  object\n",
      " 3   genre     63881 non-null  object\n",
      " 4     City    65079 non-null  object\n",
      " 5   time      65079 non-null  object\n",
      " 6   Day       65079 non-null  object\n",
      "dtypes: object(7)\n",
      "memory usage: 3.5+ MB\n"
     ]
    }
   ],
   "source": [
    "df.info()"
   ]
  },
  {
   "cell_type": "markdown",
   "metadata": {
    "id": "TaQ2Iwbr_Zct"
   },
   "source": [
    "Итак, в таблице семь столбцов. Тип данных во всех столбцах — `object`.\n",
    "\n",
    "Согласно документации к данным:\n",
    "* `userID` — идентификатор пользователя;\n",
    "* `Track` — название трека;  \n",
    "* `artist` — имя исполнителя;\n",
    "* `genre` — название жанра;\n",
    "* `City` — город пользователя;\n",
    "* `time` — время начала прослушивания;\n",
    "* `Day` — день недели.\n",
    "\n",
    "В названиях колонок видны три нарушения стиля:\n",
    "1. Строчные буквы сочетаются с прописными.\n",
    "2. Встречаются пробелы.\n",
    "3. Составное название колонки лучше указывать в \"змеином регистре\", а не слитно.\n",
    "\n",
    "\n",
    "\n",
    "Количество значений в столбцах различается. Значит, в данных есть пропущенные значения.\n"
   ]
  },
  {
   "cell_type": "markdown",
   "metadata": {
    "id": "MCB6-dXG_Zct"
   },
   "source": [
    "**Выводы**\n",
    "\n",
    "В каждой строке таблицы — данные о прослушанном треке. Часть колонок описывает саму композицию: название, исполнителя и жанр. Остальные данные рассказывают о пользователе: из какого он города, когда он слушал музыку. \n",
    "\n",
    "Предварительно можно утверждать, что, данных достаточно для проверки гипотез. Но встречаются пропуски в данных, а в названиях колонок — расхождения с хорошим стилем.\n",
    "\n",
    "Чтобы двигаться дальше, нужно устранить проблемы в данных."
   ]
  },
  {
   "cell_type": "markdown",
   "metadata": {
    "id": "SjYF6Ub9_Zct"
   },
   "source": [
    "## Предобработка данных"
   ]
  },
  {
   "cell_type": "markdown",
   "metadata": {
    "id": "dIaKXr29_Zct"
   },
   "source": [
    "### Стиль заголовков"
   ]
  },
  {
   "cell_type": "code",
   "execution_count": 7,
   "metadata": {
    "id": "oKOTdF_Q_Zct"
   },
   "outputs": [
    {
     "data": {
      "text/plain": [
       "Index(['  userID', 'Track', 'artist', 'genre', '  City  ', 'time', 'Day'], dtype='object')"
      ]
     },
     "execution_count": 7,
     "metadata": {},
     "output_type": "execute_result"
    }
   ],
   "source": [
    "df.columns"
   ]
  },
  {
   "cell_type": "markdown",
   "metadata": {
    "id": "zj5534cv_Zct"
   },
   "source": [
    "Приведём названия в соответствие с хорошим стилем."
   ]
  },
  {
   "cell_type": "code",
   "execution_count": 8,
   "metadata": {
    "id": "ISlFqs5y_Zct"
   },
   "outputs": [],
   "source": [
    "df = df.rename(columns={'  userID':'user_id', 'Track':'track', '  City  ':'city', 'Day':'day'})"
   ]
  },
  {
   "cell_type": "code",
   "execution_count": 9,
   "metadata": {
    "id": "d4NOAmTW_Zct"
   },
   "outputs": [
    {
     "data": {
      "text/plain": [
       "Index(['user_id', 'track', 'artist', 'genre', 'city', 'time', 'day'], dtype='object')"
      ]
     },
     "execution_count": 9,
     "metadata": {},
     "output_type": "execute_result"
    }
   ],
   "source": [
    "df.columns"
   ]
  },
  {
   "cell_type": "markdown",
   "metadata": {
    "id": "5ISfbcfY_Zct"
   },
   "source": [
    "### Пропуски значений\n",
    "Посмотрим где есть пропуски и посчитаем их количество."
   ]
  },
  {
   "cell_type": "code",
   "execution_count": 10,
   "metadata": {
    "id": "RskX29qr_Zct"
   },
   "outputs": [
    {
     "data": {
      "text/plain": [
       "user_id       0\n",
       "track      1231\n",
       "artist     7203\n",
       "genre      1198\n",
       "city          0\n",
       "time          0\n",
       "day           0\n",
       "dtype: int64"
      ]
     },
     "metadata": {},
     "output_type": "display_data"
    }
   ],
   "source": [
    "display(df.isna().sum())"
   ]
  },
  {
   "cell_type": "markdown",
   "metadata": {
    "id": "qubhgnlO_Zct"
   },
   "source": [
    "Не все пропущенные значения влияют на исследование. Так в `track` и `artist` пропуски не важны для нашей работы. Достаточно заменить их явными обозначениями.\n",
    "\n",
    "Но пропуски в `genre` могут помешать сравнению музыкальных вкусов в Москве и Санкт-Петербурге. На практике было бы правильно установить причину пропусков и восстановить данные. Такой возможности у нас нет. Придётся:\n",
    "* заполнить и эти пропуски явными обозначениями,\n",
    "* оценить, насколько они повредят расчётам. "
   ]
  },
  {
   "cell_type": "code",
   "execution_count": 11,
   "metadata": {
    "id": "KplB5qWs_Zct"
   },
   "outputs": [],
   "source": [
    "columns_to_replace = ['track', 'artist', 'genre']\n",
    "for column in columns_to_replace:\n",
    "    df[column] = df[column].fillna('unknown')\n",
    "    "
   ]
  },
  {
   "cell_type": "code",
   "execution_count": 12,
   "metadata": {
    "id": "Tq4nYRX4_Zct",
    "scrolled": true
   },
   "outputs": [
    {
     "data": {
      "text/plain": [
       "user_id    0\n",
       "track      0\n",
       "artist     0\n",
       "genre      0\n",
       "city       0\n",
       "time       0\n",
       "day        0\n",
       "dtype: int64"
      ]
     },
     "metadata": {},
     "output_type": "display_data"
    }
   ],
   "source": [
    "display(df.isna().sum())"
   ]
  },
  {
   "cell_type": "markdown",
   "metadata": {
    "id": "BWKRtBJ3_Zct"
   },
   "source": [
    "### Дубликаты\n",
    "Проверим наличие явных дубликатов."
   ]
  },
  {
   "cell_type": "code",
   "execution_count": 13,
   "metadata": {
    "id": "36eES_S0_Zct"
   },
   "outputs": [
    {
     "data": {
      "text/plain": [
       "3826"
      ]
     },
     "execution_count": 13,
     "metadata": {},
     "output_type": "execute_result"
    }
   ],
   "source": [
    "df.duplicated().sum()"
   ]
  },
  {
   "cell_type": "code",
   "execution_count": 14,
   "metadata": {
    "id": "exFHq6tt_Zct"
   },
   "outputs": [],
   "source": [
    "df = df.drop_duplicates().reset_index(drop=True)"
   ]
  },
  {
   "cell_type": "code",
   "execution_count": 15,
   "metadata": {
    "id": "-8PuNWQ0_Zct"
   },
   "outputs": [
    {
     "data": {
      "text/plain": [
       "0"
      ]
     },
     "execution_count": 15,
     "metadata": {},
     "output_type": "execute_result"
    }
   ],
   "source": [
    "df.duplicated().sum()"
   ]
  },
  {
   "cell_type": "markdown",
   "metadata": {
    "id": "QlFBsxAr_Zct"
   },
   "source": [
    "Проверим наличие неявных дубликатов в колонке `genre`. Например, название одного и того же жанра может быть записано немного по-разному. Такие ошибки тоже повлияют на результат исследования."
   ]
  },
  {
   "cell_type": "code",
   "execution_count": 16,
   "metadata": {
    "id": "JIUcqzZN_Zct"
   },
   "outputs": [
    {
     "data": {
      "text/plain": [
       "['acid',\n",
       " 'acoustic',\n",
       " 'action',\n",
       " 'adult',\n",
       " 'africa',\n",
       " 'afrikaans',\n",
       " 'alternative',\n",
       " 'alternativepunk',\n",
       " 'ambient',\n",
       " 'americana',\n",
       " 'animated',\n",
       " 'anime',\n",
       " 'arabesk',\n",
       " 'arabic',\n",
       " 'arena',\n",
       " 'argentinetango',\n",
       " 'art',\n",
       " 'audiobook',\n",
       " 'author',\n",
       " 'avantgarde',\n",
       " 'axé',\n",
       " 'baile',\n",
       " 'balkan',\n",
       " 'beats',\n",
       " 'bigroom',\n",
       " 'black',\n",
       " 'bluegrass',\n",
       " 'blues',\n",
       " 'bollywood',\n",
       " 'bossa',\n",
       " 'brazilian',\n",
       " 'breakbeat',\n",
       " 'breaks',\n",
       " 'broadway',\n",
       " 'cantautori',\n",
       " 'cantopop',\n",
       " 'canzone',\n",
       " 'caribbean',\n",
       " 'caucasian',\n",
       " 'celtic',\n",
       " 'chamber',\n",
       " 'chanson',\n",
       " 'children',\n",
       " 'chill',\n",
       " 'chinese',\n",
       " 'choral',\n",
       " 'christian',\n",
       " 'christmas',\n",
       " 'classical',\n",
       " 'classicmetal',\n",
       " 'club',\n",
       " 'colombian',\n",
       " 'comedy',\n",
       " 'conjazz',\n",
       " 'contemporary',\n",
       " 'country',\n",
       " 'cuban',\n",
       " 'dance',\n",
       " 'dancehall',\n",
       " 'dancepop',\n",
       " 'dark',\n",
       " 'death',\n",
       " 'deep',\n",
       " 'deutschrock',\n",
       " 'deutschspr',\n",
       " 'dirty',\n",
       " 'disco',\n",
       " 'dnb',\n",
       " 'documentary',\n",
       " 'downbeat',\n",
       " 'downtempo',\n",
       " 'drum',\n",
       " 'dub',\n",
       " 'dubstep',\n",
       " 'eastern',\n",
       " 'easy',\n",
       " 'electronic',\n",
       " 'electropop',\n",
       " 'emo',\n",
       " 'entehno',\n",
       " 'epicmetal',\n",
       " 'estrada',\n",
       " 'ethnic',\n",
       " 'eurofolk',\n",
       " 'european',\n",
       " 'experimental',\n",
       " 'extrememetal',\n",
       " 'fado',\n",
       " 'fairytail',\n",
       " 'film',\n",
       " 'fitness',\n",
       " 'flamenco',\n",
       " 'folk',\n",
       " 'folklore',\n",
       " 'folkmetal',\n",
       " 'folkrock',\n",
       " 'folktronica',\n",
       " 'forró',\n",
       " 'frankreich',\n",
       " 'französisch',\n",
       " 'french',\n",
       " 'funk',\n",
       " 'future',\n",
       " 'gangsta',\n",
       " 'garage',\n",
       " 'german',\n",
       " 'ghazal',\n",
       " 'gitarre',\n",
       " 'glitch',\n",
       " 'gospel',\n",
       " 'gothic',\n",
       " 'grime',\n",
       " 'grunge',\n",
       " 'gypsy',\n",
       " 'handsup',\n",
       " \"hard'n'heavy\",\n",
       " 'hardcore',\n",
       " 'hardstyle',\n",
       " 'hardtechno',\n",
       " 'hip',\n",
       " 'hip-hop',\n",
       " 'hiphop',\n",
       " 'historisch',\n",
       " 'holiday',\n",
       " 'hop',\n",
       " 'horror',\n",
       " 'house',\n",
       " 'hymn',\n",
       " 'idm',\n",
       " 'independent',\n",
       " 'indian',\n",
       " 'indie',\n",
       " 'indipop',\n",
       " 'industrial',\n",
       " 'inspirational',\n",
       " 'instrumental',\n",
       " 'international',\n",
       " 'irish',\n",
       " 'jam',\n",
       " 'japanese',\n",
       " 'jazz',\n",
       " 'jewish',\n",
       " 'jpop',\n",
       " 'jungle',\n",
       " 'k-pop',\n",
       " 'karadeniz',\n",
       " 'karaoke',\n",
       " 'kayokyoku',\n",
       " 'korean',\n",
       " 'laiko',\n",
       " 'latin',\n",
       " 'latino',\n",
       " 'leftfield',\n",
       " 'local',\n",
       " 'lounge',\n",
       " 'loungeelectronic',\n",
       " 'lovers',\n",
       " 'malaysian',\n",
       " 'mandopop',\n",
       " 'marschmusik',\n",
       " 'meditative',\n",
       " 'mediterranean',\n",
       " 'melodic',\n",
       " 'metal',\n",
       " 'metalcore',\n",
       " 'mexican',\n",
       " 'middle',\n",
       " 'minimal',\n",
       " 'miscellaneous',\n",
       " 'modern',\n",
       " 'mood',\n",
       " 'mpb',\n",
       " 'muslim',\n",
       " 'native',\n",
       " 'neoklassik',\n",
       " 'neue',\n",
       " 'new',\n",
       " 'newage',\n",
       " 'newwave',\n",
       " 'nu',\n",
       " 'nujazz',\n",
       " 'numetal',\n",
       " 'oceania',\n",
       " 'old',\n",
       " 'opera',\n",
       " 'orchestral',\n",
       " 'other',\n",
       " 'piano',\n",
       " 'podcasts',\n",
       " 'pop',\n",
       " 'popdance',\n",
       " 'popelectronic',\n",
       " 'popeurodance',\n",
       " 'poprussian',\n",
       " 'post',\n",
       " 'posthardcore',\n",
       " 'postrock',\n",
       " 'power',\n",
       " 'progmetal',\n",
       " 'progressive',\n",
       " 'psychedelic',\n",
       " 'punjabi',\n",
       " 'punk',\n",
       " 'quebecois',\n",
       " 'ragga',\n",
       " 'ram',\n",
       " 'rancheras',\n",
       " 'rap',\n",
       " 'rave',\n",
       " 'reggae',\n",
       " 'reggaeton',\n",
       " 'regional',\n",
       " 'relax',\n",
       " 'religious',\n",
       " 'retro',\n",
       " 'rhythm',\n",
       " 'rnb',\n",
       " 'rnr',\n",
       " 'rock',\n",
       " 'rockabilly',\n",
       " 'rockalternative',\n",
       " 'rockindie',\n",
       " 'rockother',\n",
       " 'romance',\n",
       " 'roots',\n",
       " 'ruspop',\n",
       " 'rusrap',\n",
       " 'rusrock',\n",
       " 'russian',\n",
       " 'salsa',\n",
       " 'samba',\n",
       " 'scenic',\n",
       " 'schlager',\n",
       " 'self',\n",
       " 'sertanejo',\n",
       " 'shanson',\n",
       " 'shoegazing',\n",
       " 'showtunes',\n",
       " 'singer',\n",
       " 'ska',\n",
       " 'skarock',\n",
       " 'slow',\n",
       " 'smooth',\n",
       " 'soft',\n",
       " 'soul',\n",
       " 'soulful',\n",
       " 'sound',\n",
       " 'soundtrack',\n",
       " 'southern',\n",
       " 'specialty',\n",
       " 'speech',\n",
       " 'spiritual',\n",
       " 'sport',\n",
       " 'stonerrock',\n",
       " 'surf',\n",
       " 'swing',\n",
       " 'synthpop',\n",
       " 'synthrock',\n",
       " 'sängerportrait',\n",
       " 'tango',\n",
       " 'tanzorchester',\n",
       " 'taraftar',\n",
       " 'tatar',\n",
       " 'tech',\n",
       " 'techno',\n",
       " 'teen',\n",
       " 'thrash',\n",
       " 'top',\n",
       " 'traditional',\n",
       " 'tradjazz',\n",
       " 'trance',\n",
       " 'tribal',\n",
       " 'trip',\n",
       " 'triphop',\n",
       " 'tropical',\n",
       " 'türk',\n",
       " 'türkçe',\n",
       " 'ukrrock',\n",
       " 'unknown',\n",
       " 'urban',\n",
       " 'uzbek',\n",
       " 'variété',\n",
       " 'vi',\n",
       " 'videogame',\n",
       " 'vocal',\n",
       " 'western',\n",
       " 'world',\n",
       " 'worldbeat',\n",
       " 'ïîï',\n",
       " 'электроника']"
      ]
     },
     "execution_count": 16,
     "metadata": {},
     "output_type": "execute_result"
    }
   ],
   "source": [
    "sorted(df['genre'].unique())"
   ]
  },
  {
   "cell_type": "markdown",
   "metadata": {
    "id": "qej-Qmuo_Zct"
   },
   "source": [
    "При просмотре списка видим неявные дубликаты названия `hiphop`. Это могут быть названия с ошибками или альтернативные названия того же жанра. Создадим функцию для замены неявных дубликатов. "
   ]
  },
  {
   "cell_type": "code",
   "execution_count": 17,
   "metadata": {
    "id": "ErNDkmns_Zct"
   },
   "outputs": [],
   "source": [
    "'''Функция для замены неявных дубликатов'''\n",
    "def replace_wrong_genres(wrong_genres, correct_genre):\n",
    "    for wrong_genre in wrong_genres:\n",
    "        df['genre'] = df['genre'].replace(wrong_genres, correct_genre)"
   ]
  },
  {
   "cell_type": "code",
   "execution_count": 18,
   "metadata": {
    "id": "YN5i2hpmSo09"
   },
   "outputs": [],
   "source": [
    "replace_wrong_genres(['hip', 'hop', 'hip-hop'], 'hiphop')"
   ]
  },
  {
   "cell_type": "code",
   "execution_count": 19,
   "metadata": {
    "id": "wvixALnFG15m"
   },
   "outputs": [
    {
     "data": {
      "text/plain": [
       "['acid',\n",
       " 'acoustic',\n",
       " 'action',\n",
       " 'adult',\n",
       " 'africa',\n",
       " 'afrikaans',\n",
       " 'alternative',\n",
       " 'alternativepunk',\n",
       " 'ambient',\n",
       " 'americana',\n",
       " 'animated',\n",
       " 'anime',\n",
       " 'arabesk',\n",
       " 'arabic',\n",
       " 'arena',\n",
       " 'argentinetango',\n",
       " 'art',\n",
       " 'audiobook',\n",
       " 'author',\n",
       " 'avantgarde',\n",
       " 'axé',\n",
       " 'baile',\n",
       " 'balkan',\n",
       " 'beats',\n",
       " 'bigroom',\n",
       " 'black',\n",
       " 'bluegrass',\n",
       " 'blues',\n",
       " 'bollywood',\n",
       " 'bossa',\n",
       " 'brazilian',\n",
       " 'breakbeat',\n",
       " 'breaks',\n",
       " 'broadway',\n",
       " 'cantautori',\n",
       " 'cantopop',\n",
       " 'canzone',\n",
       " 'caribbean',\n",
       " 'caucasian',\n",
       " 'celtic',\n",
       " 'chamber',\n",
       " 'chanson',\n",
       " 'children',\n",
       " 'chill',\n",
       " 'chinese',\n",
       " 'choral',\n",
       " 'christian',\n",
       " 'christmas',\n",
       " 'classical',\n",
       " 'classicmetal',\n",
       " 'club',\n",
       " 'colombian',\n",
       " 'comedy',\n",
       " 'conjazz',\n",
       " 'contemporary',\n",
       " 'country',\n",
       " 'cuban',\n",
       " 'dance',\n",
       " 'dancehall',\n",
       " 'dancepop',\n",
       " 'dark',\n",
       " 'death',\n",
       " 'deep',\n",
       " 'deutschrock',\n",
       " 'deutschspr',\n",
       " 'dirty',\n",
       " 'disco',\n",
       " 'dnb',\n",
       " 'documentary',\n",
       " 'downbeat',\n",
       " 'downtempo',\n",
       " 'drum',\n",
       " 'dub',\n",
       " 'dubstep',\n",
       " 'eastern',\n",
       " 'easy',\n",
       " 'electronic',\n",
       " 'electropop',\n",
       " 'emo',\n",
       " 'entehno',\n",
       " 'epicmetal',\n",
       " 'estrada',\n",
       " 'ethnic',\n",
       " 'eurofolk',\n",
       " 'european',\n",
       " 'experimental',\n",
       " 'extrememetal',\n",
       " 'fado',\n",
       " 'fairytail',\n",
       " 'film',\n",
       " 'fitness',\n",
       " 'flamenco',\n",
       " 'folk',\n",
       " 'folklore',\n",
       " 'folkmetal',\n",
       " 'folkrock',\n",
       " 'folktronica',\n",
       " 'forró',\n",
       " 'frankreich',\n",
       " 'französisch',\n",
       " 'french',\n",
       " 'funk',\n",
       " 'future',\n",
       " 'gangsta',\n",
       " 'garage',\n",
       " 'german',\n",
       " 'ghazal',\n",
       " 'gitarre',\n",
       " 'glitch',\n",
       " 'gospel',\n",
       " 'gothic',\n",
       " 'grime',\n",
       " 'grunge',\n",
       " 'gypsy',\n",
       " 'handsup',\n",
       " \"hard'n'heavy\",\n",
       " 'hardcore',\n",
       " 'hardstyle',\n",
       " 'hardtechno',\n",
       " 'hiphop',\n",
       " 'historisch',\n",
       " 'holiday',\n",
       " 'horror',\n",
       " 'house',\n",
       " 'hymn',\n",
       " 'idm',\n",
       " 'independent',\n",
       " 'indian',\n",
       " 'indie',\n",
       " 'indipop',\n",
       " 'industrial',\n",
       " 'inspirational',\n",
       " 'instrumental',\n",
       " 'international',\n",
       " 'irish',\n",
       " 'jam',\n",
       " 'japanese',\n",
       " 'jazz',\n",
       " 'jewish',\n",
       " 'jpop',\n",
       " 'jungle',\n",
       " 'k-pop',\n",
       " 'karadeniz',\n",
       " 'karaoke',\n",
       " 'kayokyoku',\n",
       " 'korean',\n",
       " 'laiko',\n",
       " 'latin',\n",
       " 'latino',\n",
       " 'leftfield',\n",
       " 'local',\n",
       " 'lounge',\n",
       " 'loungeelectronic',\n",
       " 'lovers',\n",
       " 'malaysian',\n",
       " 'mandopop',\n",
       " 'marschmusik',\n",
       " 'meditative',\n",
       " 'mediterranean',\n",
       " 'melodic',\n",
       " 'metal',\n",
       " 'metalcore',\n",
       " 'mexican',\n",
       " 'middle',\n",
       " 'minimal',\n",
       " 'miscellaneous',\n",
       " 'modern',\n",
       " 'mood',\n",
       " 'mpb',\n",
       " 'muslim',\n",
       " 'native',\n",
       " 'neoklassik',\n",
       " 'neue',\n",
       " 'new',\n",
       " 'newage',\n",
       " 'newwave',\n",
       " 'nu',\n",
       " 'nujazz',\n",
       " 'numetal',\n",
       " 'oceania',\n",
       " 'old',\n",
       " 'opera',\n",
       " 'orchestral',\n",
       " 'other',\n",
       " 'piano',\n",
       " 'podcasts',\n",
       " 'pop',\n",
       " 'popdance',\n",
       " 'popelectronic',\n",
       " 'popeurodance',\n",
       " 'poprussian',\n",
       " 'post',\n",
       " 'posthardcore',\n",
       " 'postrock',\n",
       " 'power',\n",
       " 'progmetal',\n",
       " 'progressive',\n",
       " 'psychedelic',\n",
       " 'punjabi',\n",
       " 'punk',\n",
       " 'quebecois',\n",
       " 'ragga',\n",
       " 'ram',\n",
       " 'rancheras',\n",
       " 'rap',\n",
       " 'rave',\n",
       " 'reggae',\n",
       " 'reggaeton',\n",
       " 'regional',\n",
       " 'relax',\n",
       " 'religious',\n",
       " 'retro',\n",
       " 'rhythm',\n",
       " 'rnb',\n",
       " 'rnr',\n",
       " 'rock',\n",
       " 'rockabilly',\n",
       " 'rockalternative',\n",
       " 'rockindie',\n",
       " 'rockother',\n",
       " 'romance',\n",
       " 'roots',\n",
       " 'ruspop',\n",
       " 'rusrap',\n",
       " 'rusrock',\n",
       " 'russian',\n",
       " 'salsa',\n",
       " 'samba',\n",
       " 'scenic',\n",
       " 'schlager',\n",
       " 'self',\n",
       " 'sertanejo',\n",
       " 'shanson',\n",
       " 'shoegazing',\n",
       " 'showtunes',\n",
       " 'singer',\n",
       " 'ska',\n",
       " 'skarock',\n",
       " 'slow',\n",
       " 'smooth',\n",
       " 'soft',\n",
       " 'soul',\n",
       " 'soulful',\n",
       " 'sound',\n",
       " 'soundtrack',\n",
       " 'southern',\n",
       " 'specialty',\n",
       " 'speech',\n",
       " 'spiritual',\n",
       " 'sport',\n",
       " 'stonerrock',\n",
       " 'surf',\n",
       " 'swing',\n",
       " 'synthpop',\n",
       " 'synthrock',\n",
       " 'sängerportrait',\n",
       " 'tango',\n",
       " 'tanzorchester',\n",
       " 'taraftar',\n",
       " 'tatar',\n",
       " 'tech',\n",
       " 'techno',\n",
       " 'teen',\n",
       " 'thrash',\n",
       " 'top',\n",
       " 'traditional',\n",
       " 'tradjazz',\n",
       " 'trance',\n",
       " 'tribal',\n",
       " 'trip',\n",
       " 'triphop',\n",
       " 'tropical',\n",
       " 'türk',\n",
       " 'türkçe',\n",
       " 'ukrrock',\n",
       " 'unknown',\n",
       " 'urban',\n",
       " 'uzbek',\n",
       " 'variété',\n",
       " 'vi',\n",
       " 'videogame',\n",
       " 'vocal',\n",
       " 'western',\n",
       " 'world',\n",
       " 'worldbeat',\n",
       " 'ïîï',\n",
       " 'электроника']"
      ]
     },
     "execution_count": 19,
     "metadata": {},
     "output_type": "execute_result"
    }
   ],
   "source": [
    "sorted(df['genre'].unique())"
   ]
  },
  {
   "cell_type": "markdown",
   "metadata": {
    "id": "jz6a9-7HQUDd"
   },
   "source": [
    "**Выводы**\n",
    "\n",
    "Предобработка обнаружила три проблемы в данных:\n",
    "\n",
    "- нарушения в стиле заголовков,\n",
    "- пропущенные значения,\n",
    "- дубликаты — явные и неявные.\n",
    "\n",
    "Исправили заголовки, чтобы упростить работу с таблицей. Без дубликатов исследование станет более точным.\n",
    "\n",
    "Пропущенные значения заменили на `'unknown'`. Ещё предстоит увидеть, не повредят ли исследованию пропуски в колонке `genre`.\n",
    "\n",
    "Теперь можно перейти к проверке гипотез. "
   ]
  },
  {
   "cell_type": "markdown",
   "metadata": {
    "id": "WttZHXH0SqKk"
   },
   "source": [
    "## Проверка гипотез"
   ]
  },
  {
   "cell_type": "markdown",
   "metadata": {
    "id": "Im936VVi_Zcu"
   },
   "source": [
    "### Сравнение поведения пользователей двух столиц"
   ]
  },
  {
   "cell_type": "markdown",
   "metadata": {
    "id": "nwt_MuaL_Zcu"
   },
   "source": [
    "Первая гипотеза утверждает, что пользователи по-разному слушают музыку в Москве и Санкт-Петербурге. Проверим это предположение по данным о трёх днях недели — понедельнике, среде и пятнице. Для этого:\n",
    "\n",
    "* Разделим пользователей Москвы и Санкт-Петербурга\n",
    "* Сравним сколько треков послушала каждая группа пользователей в понедельник, среду и пятницу.\n"
   ]
  },
  {
   "cell_type": "markdown",
   "metadata": {
    "id": "8Dw_YMmT_Zcu"
   },
   "source": [
    "Оценим активность пользователей в каждом городе. Сгруппируем данные по городу и посчитаем прослушивания в каждой группе."
   ]
  },
  {
   "cell_type": "code",
   "execution_count": 20,
   "metadata": {
    "id": "0_Qs96oh_Zcu"
   },
   "outputs": [
    {
     "data": {
      "text/plain": [
       "city\n",
       "Moscow              42741\n",
       "Saint-Petersburg    18512\n",
       "Name: user_id, dtype: int64"
      ]
     },
     "execution_count": 20,
     "metadata": {},
     "output_type": "execute_result"
    }
   ],
   "source": [
    "df.groupby('city')['user_id'].count()"
   ]
  },
  {
   "cell_type": "markdown",
   "metadata": {
    "id": "dzli3w8o_Zcu"
   },
   "source": [
    "В Москве прослушиваний больше, чем в Петербурге. Из этого не следует, что московские пользователи чаще слушают музыку. Просто самих пользователей в Москве больше.\n",
    "\n",
    "Теперь сгруппируем данные по дню недели и подсчитаем прослушивания в понедельник, среду и пятницу."
   ]
  },
  {
   "cell_type": "code",
   "execution_count": 21,
   "metadata": {
    "id": "uZMKjiJz_Zcu"
   },
   "outputs": [
    {
     "data": {
      "text/plain": [
       "day\n",
       "Friday       21840\n",
       "Monday       21354\n",
       "Wednesday    18059\n",
       "Name: user_id, dtype: int64"
      ]
     },
     "execution_count": 21,
     "metadata": {},
     "output_type": "execute_result"
    }
   ],
   "source": [
    "df.groupby('day')['user_id'].count()"
   ]
  },
  {
   "cell_type": "markdown",
   "metadata": {
    "id": "cC2tNrlL_Zcu"
   },
   "source": [
    "В среднем пользователи из двух городов менее активны по средам. Но картина может измениться, если рассмотреть каждый город в отдельности."
   ]
  },
  {
   "cell_type": "markdown",
   "metadata": {
    "id": "POzs8bGa_Zcu"
   },
   "source": [
    "Создадим функцию `number_tracks()`, которая посчитает прослушивания для заданного дня и города. "
   ]
  },
  {
   "cell_type": "code",
   "execution_count": 22,
   "metadata": {
    "id": "Nz3GdQB1_Zcu"
   },
   "outputs": [],
   "source": [
    "def number_tracks(day, city):\n",
    "    track_list = df[(df['day'] == day) & (df['city'] == city)]\n",
    "    track_list_count = track_list['user_id'].count()\n",
    "    return track_list_count"
   ]
  },
  {
   "cell_type": "code",
   "execution_count": 23,
   "metadata": {
    "id": "rJcRATNQ_Zcu"
   },
   "outputs": [
    {
     "data": {
      "text/plain": [
       "15740"
      ]
     },
     "execution_count": 23,
     "metadata": {},
     "output_type": "execute_result"
    }
   ],
   "source": [
    "number_tracks('Monday', 'Moscow')"
   ]
  },
  {
   "cell_type": "code",
   "execution_count": 24,
   "metadata": {
    "id": "hq_ncZ5T_Zcu"
   },
   "outputs": [
    {
     "data": {
      "text/plain": [
       "5614"
      ]
     },
     "execution_count": 24,
     "metadata": {},
     "output_type": "execute_result"
    }
   ],
   "source": [
    "number_tracks('Monday', 'Saint-Petersburg')"
   ]
  },
  {
   "cell_type": "code",
   "execution_count": 25,
   "metadata": {
    "id": "_NTy2VPU_Zcu"
   },
   "outputs": [
    {
     "data": {
      "text/plain": [
       "11056"
      ]
     },
     "execution_count": 25,
     "metadata": {},
     "output_type": "execute_result"
    }
   ],
   "source": [
    "number_tracks('Wednesday', 'Moscow')"
   ]
  },
  {
   "cell_type": "code",
   "execution_count": 26,
   "metadata": {
    "id": "j2y3TAwo_Zcu"
   },
   "outputs": [
    {
     "data": {
      "text/plain": [
       "7003"
      ]
     },
     "execution_count": 26,
     "metadata": {},
     "output_type": "execute_result"
    }
   ],
   "source": [
    "number_tracks('Wednesday', 'Saint-Petersburg')"
   ]
  },
  {
   "cell_type": "code",
   "execution_count": 27,
   "metadata": {
    "id": "vYDw5u_K_Zcu"
   },
   "outputs": [
    {
     "data": {
      "text/plain": [
       "15945"
      ]
     },
     "execution_count": 27,
     "metadata": {},
     "output_type": "execute_result"
    }
   ],
   "source": [
    "number_tracks('Friday', 'Moscow')"
   ]
  },
  {
   "cell_type": "code",
   "execution_count": 28,
   "metadata": {
    "id": "8_yzFtW3_Zcu"
   },
   "outputs": [
    {
     "data": {
      "text/plain": [
       "5895"
      ]
     },
     "execution_count": 28,
     "metadata": {},
     "output_type": "execute_result"
    }
   ],
   "source": [
    "number_tracks('Friday', 'Saint-Petersburg')"
   ]
  },
  {
   "cell_type": "markdown",
   "metadata": {
    "id": "7QXffbO-_Zcu"
   },
   "source": [
    "Создадим таблицу с получившимися результатами."
   ]
  },
  {
   "cell_type": "code",
   "execution_count": 29,
   "metadata": {
    "id": "APAcLpOr_Zcu"
   },
   "outputs": [
    {
     "data": {
      "text/html": [
       "<div>\n",
       "<style scoped>\n",
       "    .dataframe tbody tr th:only-of-type {\n",
       "        vertical-align: middle;\n",
       "    }\n",
       "\n",
       "    .dataframe tbody tr th {\n",
       "        vertical-align: top;\n",
       "    }\n",
       "\n",
       "    .dataframe thead th {\n",
       "        text-align: right;\n",
       "    }\n",
       "</style>\n",
       "<table border=\"1\" class=\"dataframe\">\n",
       "  <thead>\n",
       "    <tr style=\"text-align: right;\">\n",
       "      <th></th>\n",
       "      <th>city</th>\n",
       "      <th>monday</th>\n",
       "      <th>wednesday</th>\n",
       "      <th>friday</th>\n",
       "    </tr>\n",
       "  </thead>\n",
       "  <tbody>\n",
       "    <tr>\n",
       "      <th>0</th>\n",
       "      <td>Moscow</td>\n",
       "      <td>15740</td>\n",
       "      <td>11056</td>\n",
       "      <td>15945</td>\n",
       "    </tr>\n",
       "    <tr>\n",
       "      <th>1</th>\n",
       "      <td>Saint-Petersburg</td>\n",
       "      <td>5614</td>\n",
       "      <td>7003</td>\n",
       "      <td>5895</td>\n",
       "    </tr>\n",
       "  </tbody>\n",
       "</table>\n",
       "</div>"
      ],
      "text/plain": [
       "               city  monday  wednesday  friday\n",
       "0            Moscow   15740      11056   15945\n",
       "1  Saint-Petersburg    5614       7003    5895"
      ]
     },
     "execution_count": 29,
     "metadata": {},
     "output_type": "execute_result"
    }
   ],
   "source": [
    "columns = ['city', 'monday', 'wednesday', 'friday']\n",
    "number_tracks = [['Moscow', 15740, 11056, 15945], ['Saint-Petersburg', 5614, 7003, 5895]]\n",
    "pd.DataFrame(data=number_tracks, columns=columns)"
   ]
  },
  {
   "cell_type": "markdown",
   "metadata": {
    "id": "-EgPIHYu_Zcu"
   },
   "source": [
    "**Выводы**\n",
    "\n",
    "Данные показывают разницу поведения пользователей:\n",
    "\n",
    "- В Москве пик прослушиваний приходится на понедельник и пятницу, а в среду заметен спад.\n",
    "- В Петербурге, наоборот, больше слушают музыку по средам. Активность в понедельник и пятницу здесь почти в равной мере уступает среде.\n",
    "\n",
    "Значит, данные говорят в пользу первой гипотезы."
   ]
  },
  {
   "cell_type": "markdown",
   "metadata": {
    "id": "atZAxtq4_Zcu"
   },
   "source": [
    "### Музыка в начале и в конце недели"
   ]
  },
  {
   "cell_type": "markdown",
   "metadata": {
    "id": "eXrQqXFH_Zcu"
   },
   "source": [
    "Согласно второй гипотезе, утром в понедельник в Москве преобладают одни жанры, а в Петербурге — другие. Так же и вечером пятницы преобладают разные жанры — в зависимости от города."
   ]
  },
  {
   "cell_type": "code",
   "execution_count": 30,
   "metadata": {
    "id": "qeaFfM_P_Zcu"
   },
   "outputs": [],
   "source": [
    "moscow_general = df[df['city'] == 'Moscow']\n",
    "spb_general = df[df['city'] == 'Saint-Petersburg']\n"
   ]
  },
  {
   "cell_type": "markdown",
   "metadata": {
    "id": "MEJV-CX2_Zcu"
   },
   "source": [
    "Создадим функцию, которая вернёт топ-10 жанров тех треков, которые прослушивали в указанный день, в промежутке между двумя отметками времени. "
   ]
  },
  {
   "cell_type": "code",
   "execution_count": 31,
   "metadata": {
    "id": "laJT9BYl_Zcu"
   },
   "outputs": [],
   "source": [
    "def genre_weekday(table, day, time1, time2):\n",
    "    genre_df = table[(table['day'] == day) & (table['time'] > time1) & (table['time'] < time2)]\n",
    "    genre_df_count = genre_df.groupby('genre')['track'].count()\n",
    "    genre_df_sorted = genre_df_count.sort_values(ascending=False)\n",
    "    return genre_df_sorted.head(10)"
   ]
  },
  {
   "cell_type": "markdown",
   "metadata": {
    "id": "la2s2_PF_Zcu"
   },
   "source": [
    "Cравним результаты функции `genre_weekday()` для Москвы и Санкт-Петербурга в понедельник утром (с 7:00 до 11:00) и в пятницу вечером (с 17:00 до 23:00)."
   ]
  },
  {
   "cell_type": "code",
   "execution_count": 32,
   "metadata": {
    "id": "yz7itPUQ_Zcu"
   },
   "outputs": [
    {
     "data": {
      "text/plain": [
       "genre\n",
       "pop            781\n",
       "dance          549\n",
       "electronic     480\n",
       "rock           474\n",
       "hiphop         286\n",
       "ruspop         186\n",
       "world          181\n",
       "rusrap         175\n",
       "alternative    164\n",
       "unknown        161\n",
       "Name: track, dtype: int64"
      ]
     },
     "execution_count": 32,
     "metadata": {},
     "output_type": "execute_result"
    }
   ],
   "source": [
    "genre_weekday(moscow_general, 'Monday', '07:00', '11:00')"
   ]
  },
  {
   "cell_type": "code",
   "execution_count": 33,
   "metadata": {
    "id": "kwUcHPdy_Zcu"
   },
   "outputs": [
    {
     "data": {
      "text/plain": [
       "genre\n",
       "pop            218\n",
       "dance          182\n",
       "rock           162\n",
       "electronic     147\n",
       "hiphop          80\n",
       "ruspop          64\n",
       "alternative     58\n",
       "rusrap          55\n",
       "jazz            44\n",
       "classical       40\n",
       "Name: track, dtype: int64"
      ]
     },
     "execution_count": 33,
     "metadata": {},
     "output_type": "execute_result"
    }
   ],
   "source": [
    "genre_weekday(spb_general, 'Monday', '07:00', '11:00')"
   ]
  },
  {
   "cell_type": "code",
   "execution_count": 34,
   "metadata": {
    "id": "EzXVRE1o_Zcu"
   },
   "outputs": [
    {
     "data": {
      "text/plain": [
       "genre\n",
       "pop            713\n",
       "rock           517\n",
       "dance          495\n",
       "electronic     482\n",
       "hiphop         273\n",
       "world          208\n",
       "ruspop         170\n",
       "alternative    163\n",
       "classical      163\n",
       "rusrap         142\n",
       "Name: track, dtype: int64"
      ]
     },
     "execution_count": 34,
     "metadata": {},
     "output_type": "execute_result"
    }
   ],
   "source": [
    "genre_weekday(moscow_general, 'Friday', '17:00', '23:00')"
   ]
  },
  {
   "cell_type": "code",
   "execution_count": 35,
   "metadata": {
    "id": "JZaEKu5v_Zcu"
   },
   "outputs": [
    {
     "data": {
      "text/plain": [
       "genre\n",
       "pop            256\n",
       "electronic     216\n",
       "rock           216\n",
       "dance          210\n",
       "hiphop          97\n",
       "alternative     63\n",
       "jazz            61\n",
       "classical       60\n",
       "rusrap          59\n",
       "world           54\n",
       "Name: track, dtype: int64"
      ]
     },
     "execution_count": 35,
     "metadata": {},
     "output_type": "execute_result"
    }
   ],
   "source": [
    "genre_weekday(spb_general, 'Friday', '17:00', '23:00')"
   ]
  },
  {
   "cell_type": "markdown",
   "metadata": {
    "id": "wrCe4MNX_Zcu"
   },
   "source": [
    "**Выводы**\n",
    "\n",
    "Если сравнить топ-10 жанров в понедельник утром, можно сделать такие выводы:\n",
    "\n",
    "1. В Москве и Петербурге слушают похожую музыку. Единственное отличие — в московский рейтинг вошёл жанр “world”, а в петербургский — джаз и классика.\n",
    "\n",
    "2. В Москве пропущенных значений оказалось так много, что значение `'unknown'` заняло десятое место среди самых популярных жанров. Значит, пропущенные значения занимают существенную долю в данных и угрожают достоверности исследования.\n",
    "\n",
    "Вечер пятницы не меняет эту картину. Некоторые жанры поднимаются немного выше, другие спускаются, но в целом топ-10 остаётся тем же самым.\n",
    "\n",
    "Таким образом, вторая гипотеза подтвердилась лишь частично:\n",
    "* Пользователи слушают похожую музыку в начале недели и в конце.\n",
    "* Разница между Москвой и Петербургом не слишком выражена. В Москве чаще слушают русскую популярную музыку, в Петербурге — джаз.\n",
    "\n",
    "Однако пропуски в данных ставят под сомнение этот результат. В Москве их так много, что рейтинг топ-10 мог бы выглядеть иначе, если бы не утерянные  данные о жанрах."
   ]
  },
  {
   "cell_type": "markdown",
   "metadata": {
    "id": "JolODAqr_Zcu"
   },
   "source": [
    "### Жанровые предпочтения в Москве и Петербурге\n",
    "\n",
    "Гипотеза: Петербург — столица рэпа, музыку этого жанра там слушают чаще, чем в Москве.  А Москва — город контрастов, в котором, тем не менее, преобладает поп-музыка."
   ]
  },
  {
   "cell_type": "code",
   "execution_count": 37,
   "metadata": {
    "id": "r19lIPke_Zcu"
   },
   "outputs": [
    {
     "data": {
      "text/plain": [
       "genre\n",
       "pop            5892\n",
       "dance          4435\n",
       "rock           3965\n",
       "electronic     3786\n",
       "hiphop         2096\n",
       "classical      1616\n",
       "world          1432\n",
       "alternative    1379\n",
       "ruspop         1372\n",
       "rusrap         1161\n",
       "Name: track, dtype: int64"
      ]
     },
     "execution_count": 37,
     "metadata": {},
     "output_type": "execute_result"
    }
   ],
   "source": [
    "moscow_genres = moscow_general.groupby('genre')['track'].count().sort_values(ascending=False)\n",
    "moscow_genres.head(10)"
   ]
  },
  {
   "cell_type": "code",
   "execution_count": 38,
   "metadata": {
    "id": "gluLIpE7_Zcv"
   },
   "outputs": [
    {
     "data": {
      "text/plain": [
       "genre\n",
       "pop            2431\n",
       "dance          1932\n",
       "rock           1879\n",
       "electronic     1736\n",
       "hiphop          960\n",
       "alternative     649\n",
       "classical       646\n",
       "rusrap          564\n",
       "ruspop          538\n",
       "world           515\n",
       "Name: track, dtype: int64"
      ]
     },
     "execution_count": 38,
     "metadata": {},
     "output_type": "execute_result"
    }
   ],
   "source": [
    "spb_genres = spb_general.groupby('genre')['track'].count().sort_values(ascending=False)\n",
    "spb_genres.head(10)"
   ]
  },
  {
   "cell_type": "markdown",
   "metadata": {
    "id": "RY51YJYu_Zcv"
   },
   "source": [
    "**Выводы**"
   ]
  },
  {
   "cell_type": "markdown",
   "metadata": {
    "id": "nVhnJEm__Zcv"
   },
   "source": [
    "Гипотеза частично подтвердилась:\n",
    "* Поп-музыка — самый популярный жанр в Москве, как и предполагала гипотеза. Более того, в топ-10 жанров встречается близкий жанр — русская популярная музыка.\n",
    "* Вопреки ожиданиям, рэп одинаково популярен в Москве и Петербурге. \n"
   ]
  },
  {
   "cell_type": "markdown",
   "metadata": {
    "id": "ykKQ0N65_Zcv"
   },
   "source": [
    "## Итоги исследования"
   ]
  },
  {
   "cell_type": "markdown",
   "metadata": {
    "id": "tjUwbHb3_Zcv"
   },
   "source": [
    "Мы проверили три гипотезы и установили:\n",
    "\n",
    "1. День недели по-разному влияет на активность пользователей в Москве и Петербурге. \n",
    "\n",
    "Первая гипотеза полностью подтвердилась.\n",
    "\n",
    "2. Музыкальные предпочтения не сильно меняются в течение недели — будь то Москва или Петербург. Небольшие различия заметны в начале недели, по понедельникам:\n",
    "* в Москве слушают музыку жанра “world”,\n",
    "* в Петербурге — джаз и классику.\n",
    "\n",
    "Таким образом, вторая гипотеза подтвердилась лишь отчасти. Этот результат мог оказаться иным, если бы не пропуски в данных.\n",
    "\n",
    "3. Во вкусах пользователей Москвы и Петербурга больше общего чем различий. Вопреки ожиданиям, предпочтения жанров в Петербурге напоминают московские.\n",
    "\n",
    "Третья гипотеза не подтвердилась. Если различия в предпочтениях и существуют, на основной массе пользователей они незаметны."
   ]
  }
 ],
 "metadata": {
  "ExecuteTimeLog": [
   {
    "duration": 579,
    "start_time": "2022-01-07T15:18:07.657Z"
   },
   {
    "duration": 81,
    "start_time": "2022-01-07T15:20:16.815Z"
   },
   {
    "duration": 75,
    "start_time": "2022-01-07T15:20:27.372Z"
   },
   {
    "duration": 91,
    "start_time": "2022-01-07T15:20:43.366Z"
   },
   {
    "duration": 320,
    "start_time": "2022-01-07T15:21:00.531Z"
   },
   {
    "duration": 135,
    "start_time": "2022-01-07T15:31:52.260Z"
   },
   {
    "duration": 159,
    "start_time": "2022-01-07T15:32:40.879Z"
   },
   {
    "duration": 12,
    "start_time": "2022-01-07T15:33:17.137Z"
   },
   {
    "duration": 10,
    "start_time": "2022-01-07T15:33:28.544Z"
   },
   {
    "duration": 9,
    "start_time": "2022-01-07T15:34:47.589Z"
   },
   {
    "duration": 26,
    "start_time": "2022-01-07T15:35:59.537Z"
   },
   {
    "duration": 5,
    "start_time": "2022-01-07T15:50:41.182Z"
   },
   {
    "duration": 3,
    "start_time": "2022-01-07T15:53:22.807Z"
   },
   {
    "duration": 97,
    "start_time": "2022-01-07T15:57:00.308Z"
   },
   {
    "duration": 19,
    "start_time": "2022-01-07T15:57:45.855Z"
   },
   {
    "duration": 4,
    "start_time": "2022-01-07T15:58:31.636Z"
   },
   {
    "duration": 15,
    "start_time": "2022-01-07T15:59:09.505Z"
   },
   {
    "duration": 20,
    "start_time": "2022-01-07T16:02:11.102Z"
   },
   {
    "duration": 25,
    "start_time": "2022-01-07T16:02:32.138Z"
   },
   {
    "duration": 12,
    "start_time": "2022-01-07T16:08:42.008Z"
   },
   {
    "duration": 12,
    "start_time": "2022-01-07T16:08:59.000Z"
   },
   {
    "duration": 12,
    "start_time": "2022-01-07T16:09:17.180Z"
   },
   {
    "duration": 9,
    "start_time": "2022-01-07T16:09:30.544Z"
   },
   {
    "duration": 225,
    "start_time": "2022-01-07T16:20:47.368Z"
   },
   {
    "duration": 79,
    "start_time": "2022-01-07T16:21:26.100Z"
   },
   {
    "duration": 7273,
    "start_time": "2022-01-07T16:27:27.166Z"
   },
   {
    "duration": 7122,
    "start_time": "2022-01-07T16:28:51.003Z"
   },
   {
    "duration": 45,
    "start_time": "2022-01-07T16:31:05.706Z"
   },
   {
    "duration": 55,
    "start_time": "2022-01-07T16:31:57.068Z"
   },
   {
    "duration": 346,
    "start_time": "2022-01-08T12:06:46.090Z"
   },
   {
    "duration": 3,
    "start_time": "2022-01-08T12:07:26.791Z"
   },
   {
    "duration": 322,
    "start_time": "2022-01-08T12:07:55.259Z"
   },
   {
    "duration": 347,
    "start_time": "2022-01-08T12:08:31.859Z"
   },
   {
    "duration": 329,
    "start_time": "2022-01-08T12:08:39.129Z"
   },
   {
    "duration": 609,
    "start_time": "2022-01-08T12:09:06.767Z"
   },
   {
    "duration": 116,
    "start_time": "2022-01-08T12:09:07.378Z"
   },
   {
    "duration": 14,
    "start_time": "2022-01-08T12:09:07.496Z"
   },
   {
    "duration": 32,
    "start_time": "2022-01-08T12:09:07.511Z"
   },
   {
    "duration": 3,
    "start_time": "2022-01-08T12:09:07.544Z"
   },
   {
    "duration": 20,
    "start_time": "2022-01-08T12:09:07.548Z"
   },
   {
    "duration": 3,
    "start_time": "2022-01-08T12:09:07.569Z"
   },
   {
    "duration": 19,
    "start_time": "2022-01-08T12:09:07.574Z"
   },
   {
    "duration": 33,
    "start_time": "2022-01-08T12:09:07.595Z"
   },
   {
    "duration": 40,
    "start_time": "2022-01-08T12:09:07.630Z"
   },
   {
    "duration": 7,
    "start_time": "2022-01-08T12:09:07.672Z"
   },
   {
    "duration": 6,
    "start_time": "2022-01-08T12:09:07.680Z"
   },
   {
    "duration": 9,
    "start_time": "2022-01-08T12:09:07.687Z"
   },
   {
    "duration": 6,
    "start_time": "2022-01-08T12:09:07.697Z"
   },
   {
    "duration": 6,
    "start_time": "2022-01-08T12:09:07.705Z"
   },
   {
    "duration": 5,
    "start_time": "2022-01-08T12:09:07.712Z"
   },
   {
    "duration": 8,
    "start_time": "2022-01-08T12:09:07.719Z"
   },
   {
    "duration": 4,
    "start_time": "2022-01-08T12:09:07.729Z"
   },
   {
    "duration": 5,
    "start_time": "2022-01-08T12:09:07.734Z"
   },
   {
    "duration": 4,
    "start_time": "2022-01-08T12:09:07.741Z"
   },
   {
    "duration": 5,
    "start_time": "2022-01-08T12:09:07.747Z"
   },
   {
    "duration": 5,
    "start_time": "2022-01-08T12:09:07.753Z"
   },
   {
    "duration": 2,
    "start_time": "2022-01-08T12:09:07.761Z"
   },
   {
    "duration": 4,
    "start_time": "2022-01-08T12:09:07.765Z"
   },
   {
    "duration": 6,
    "start_time": "2022-01-08T12:09:07.770Z"
   },
   {
    "duration": 6,
    "start_time": "2022-01-08T12:09:07.777Z"
   },
   {
    "duration": 4,
    "start_time": "2022-01-08T12:09:07.785Z"
   },
   {
    "duration": 4,
    "start_time": "2022-01-08T12:09:07.790Z"
   },
   {
    "duration": 32,
    "start_time": "2022-01-08T12:09:07.795Z"
   },
   {
    "duration": 7,
    "start_time": "2022-01-08T12:09:07.828Z"
   },
   {
    "duration": 7,
    "start_time": "2022-01-08T12:09:07.837Z"
   },
   {
    "duration": 5,
    "start_time": "2022-01-08T12:09:07.845Z"
   },
   {
    "duration": 7,
    "start_time": "2022-01-08T12:09:07.851Z"
   },
   {
    "duration": 4,
    "start_time": "2022-01-08T12:09:07.859Z"
   },
   {
    "duration": 5,
    "start_time": "2022-01-08T12:09:07.864Z"
   },
   {
    "duration": 5,
    "start_time": "2022-01-08T12:09:07.870Z"
   },
   {
    "duration": 5,
    "start_time": "2022-01-08T12:09:07.876Z"
   },
   {
    "duration": 4,
    "start_time": "2022-01-08T12:09:07.882Z"
   },
   {
    "duration": 3,
    "start_time": "2022-01-08T12:10:51.860Z"
   },
   {
    "duration": 8428,
    "start_time": "2022-01-08T12:42:08.426Z"
   },
   {
    "duration": 3000,
    "start_time": "2022-01-08T12:42:13.857Z"
   },
   {
    "duration": 409,
    "start_time": "2022-01-08T12:43:46.579Z"
   },
   {
    "duration": 497,
    "start_time": "2022-01-08T12:47:16.120Z"
   },
   {
    "duration": 20,
    "start_time": "2022-01-08T12:47:22.164Z"
   },
   {
    "duration": 15,
    "start_time": "2022-01-08T13:11:35.364Z"
   },
   {
    "duration": 36,
    "start_time": "2022-01-08T13:11:39.469Z"
   },
   {
    "duration": 324,
    "start_time": "2022-01-08T13:14:48.430Z"
   },
   {
    "duration": 52,
    "start_time": "2022-01-08T13:15:04.757Z"
   },
   {
    "duration": 63,
    "start_time": "2022-01-08T13:16:23.082Z"
   },
   {
    "duration": 47,
    "start_time": "2022-01-08T13:18:50.187Z"
   },
   {
    "duration": 53,
    "start_time": "2022-01-08T13:19:34.335Z"
   },
   {
    "duration": 67,
    "start_time": "2022-01-08T13:19:40.847Z"
   },
   {
    "duration": 6,
    "start_time": "2022-01-08T13:22:06.220Z"
   },
   {
    "duration": 6,
    "start_time": "2022-01-08T13:22:40.856Z"
   },
   {
    "duration": 7,
    "start_time": "2022-01-08T13:23:03.532Z"
   },
   {
    "duration": 9,
    "start_time": "2022-01-08T13:25:40.988Z"
   },
   {
    "duration": 8,
    "start_time": "2022-01-08T13:25:54.209Z"
   },
   {
    "duration": 8,
    "start_time": "2022-01-08T13:26:12.653Z"
   },
   {
    "duration": 325,
    "start_time": "2022-01-08T14:29:51.088Z"
   },
   {
    "duration": 317,
    "start_time": "2022-01-08T14:30:07.421Z"
   },
   {
    "duration": 4,
    "start_time": "2022-01-08T14:30:35.760Z"
   },
   {
    "duration": 320,
    "start_time": "2022-01-08T14:30:39.232Z"
   },
   {
    "duration": 3,
    "start_time": "2022-01-08T14:30:55.168Z"
   },
   {
    "duration": 15,
    "start_time": "2022-01-08T14:30:58.039Z"
   },
   {
    "duration": 9,
    "start_time": "2022-01-08T14:31:40.669Z"
   },
   {
    "duration": 27,
    "start_time": "2022-01-08T14:38:21.706Z"
   },
   {
    "duration": 10,
    "start_time": "2022-01-08T14:40:58.304Z"
   },
   {
    "duration": 4,
    "start_time": "2022-01-08T14:41:14.578Z"
   },
   {
    "duration": 9,
    "start_time": "2022-01-08T14:43:23.124Z"
   },
   {
    "duration": 26,
    "start_time": "2022-01-08T14:43:59.425Z"
   },
   {
    "duration": 318,
    "start_time": "2022-01-08T15:06:31.995Z"
   },
   {
    "duration": 3,
    "start_time": "2022-01-08T15:06:36.781Z"
   },
   {
    "duration": 3,
    "start_time": "2022-01-08T15:06:39.623Z"
   },
   {
    "duration": 3,
    "start_time": "2022-01-08T15:06:41.887Z"
   },
   {
    "duration": 638,
    "start_time": "2022-01-08T15:06:54.953Z"
   },
   {
    "duration": 629,
    "start_time": "2022-01-08T15:07:33.949Z"
   },
   {
    "duration": 3,
    "start_time": "2022-01-08T15:08:13.667Z"
   },
   {
    "duration": 2091,
    "start_time": "2022-01-08T15:08:18.689Z"
   },
   {
    "duration": 3,
    "start_time": "2022-01-08T15:09:29.115Z"
   },
   {
    "duration": 1620,
    "start_time": "2022-01-08T15:09:33.201Z"
   },
   {
    "duration": 3,
    "start_time": "2022-01-08T15:42:31.565Z"
   },
   {
    "duration": 686,
    "start_time": "2022-01-08T15:43:12.922Z"
   },
   {
    "duration": 712,
    "start_time": "2022-01-08T15:43:54.042Z"
   },
   {
    "duration": 117,
    "start_time": "2022-01-08T15:43:54.763Z"
   },
   {
    "duration": 15,
    "start_time": "2022-01-08T15:43:54.882Z"
   },
   {
    "duration": 21,
    "start_time": "2022-01-08T15:43:54.899Z"
   },
   {
    "duration": 7,
    "start_time": "2022-01-08T15:43:54.922Z"
   },
   {
    "duration": 17,
    "start_time": "2022-01-08T15:43:54.930Z"
   },
   {
    "duration": 3,
    "start_time": "2022-01-08T15:43:54.949Z"
   },
   {
    "duration": 31,
    "start_time": "2022-01-08T15:43:54.954Z"
   },
   {
    "duration": 24,
    "start_time": "2022-01-08T15:43:54.987Z"
   },
   {
    "duration": 31,
    "start_time": "2022-01-08T15:43:55.012Z"
   },
   {
    "duration": 49,
    "start_time": "2022-01-08T15:43:55.045Z"
   },
   {
    "duration": 73,
    "start_time": "2022-01-08T15:43:55.095Z"
   },
   {
    "duration": 42,
    "start_time": "2022-01-08T15:43:55.170Z"
   },
   {
    "duration": 16,
    "start_time": "2022-01-08T15:43:55.213Z"
   },
   {
    "duration": 3,
    "start_time": "2022-01-08T15:43:55.230Z"
   },
   {
    "duration": 16,
    "start_time": "2022-01-08T15:43:55.234Z"
   },
   {
    "duration": 8,
    "start_time": "2022-01-08T15:43:55.251Z"
   },
   {
    "duration": 25,
    "start_time": "2022-01-08T15:43:55.260Z"
   },
   {
    "duration": 57,
    "start_time": "2022-01-08T15:43:55.286Z"
   },
   {
    "duration": 2,
    "start_time": "2022-01-08T15:43:55.345Z"
   },
   {
    "duration": 672,
    "start_time": "2022-01-08T15:43:55.349Z"
   },
   {
    "duration": 2809,
    "start_time": "2022-01-08T15:43:53.214Z"
   },
   {
    "duration": 2801,
    "start_time": "2022-01-08T15:43:53.223Z"
   },
   {
    "duration": 2796,
    "start_time": "2022-01-08T15:43:53.229Z"
   },
   {
    "duration": 2788,
    "start_time": "2022-01-08T15:43:53.238Z"
   },
   {
    "duration": 2782,
    "start_time": "2022-01-08T15:43:53.245Z"
   },
   {
    "duration": 2772,
    "start_time": "2022-01-08T15:43:53.256Z"
   },
   {
    "duration": 2767,
    "start_time": "2022-01-08T15:43:53.261Z"
   },
   {
    "duration": 2759,
    "start_time": "2022-01-08T15:43:53.270Z"
   },
   {
    "duration": 2754,
    "start_time": "2022-01-08T15:43:53.276Z"
   },
   {
    "duration": 2746,
    "start_time": "2022-01-08T15:43:53.285Z"
   },
   {
    "duration": 2740,
    "start_time": "2022-01-08T15:43:53.292Z"
   },
   {
    "duration": 2732,
    "start_time": "2022-01-08T15:43:53.301Z"
   },
   {
    "duration": 2728,
    "start_time": "2022-01-08T15:43:53.306Z"
   },
   {
    "duration": 2710,
    "start_time": "2022-01-08T15:43:53.325Z"
   },
   {
    "duration": 2696,
    "start_time": "2022-01-08T15:43:53.340Z"
   },
   {
    "duration": 2676,
    "start_time": "2022-01-08T15:43:53.361Z"
   },
   {
    "duration": 2661,
    "start_time": "2022-01-08T15:43:53.377Z"
   },
   {
    "duration": 654,
    "start_time": "2022-01-08T15:44:09.510Z"
   },
   {
    "duration": 113,
    "start_time": "2022-01-08T15:49:34.780Z"
   },
   {
    "duration": 104,
    "start_time": "2022-01-08T15:50:19.544Z"
   },
   {
    "duration": 8155,
    "start_time": "2022-01-08T15:51:35.008Z"
   },
   {
    "duration": 9055,
    "start_time": "2022-01-08T15:51:43.496Z"
   },
   {
    "duration": 162,
    "start_time": "2022-01-08T16:05:58.449Z"
   },
   {
    "duration": 3,
    "start_time": "2022-01-08T16:07:05.938Z"
   },
   {
    "duration": 635,
    "start_time": "2022-01-08T16:07:14.161Z"
   },
   {
    "duration": 3,
    "start_time": "2022-01-08T16:07:53.906Z"
   },
   {
    "duration": 15,
    "start_time": "2022-01-08T16:07:59.841Z"
   },
   {
    "duration": 20,
    "start_time": "2022-01-08T16:09:09.186Z"
   },
   {
    "duration": 14,
    "start_time": "2022-01-08T16:12:13.587Z"
   },
   {
    "duration": 13,
    "start_time": "2022-01-08T16:12:16.355Z"
   },
   {
    "duration": 14,
    "start_time": "2022-01-08T16:12:18.951Z"
   },
   {
    "duration": 19,
    "start_time": "2022-01-08T16:12:21.620Z"
   },
   {
    "duration": 450,
    "start_time": "2022-01-08T16:14:39.171Z"
   },
   {
    "duration": 8,
    "start_time": "2022-01-08T16:21:25.978Z"
   },
   {
    "duration": 353,
    "start_time": "2022-01-09T10:25:31.243Z"
   },
   {
    "duration": 771,
    "start_time": "2022-01-09T10:25:55.299Z"
   },
   {
    "duration": 171,
    "start_time": "2022-01-09T10:25:56.073Z"
   },
   {
    "duration": 25,
    "start_time": "2022-01-09T10:25:56.247Z"
   },
   {
    "duration": 48,
    "start_time": "2022-01-09T10:25:56.275Z"
   },
   {
    "duration": 4,
    "start_time": "2022-01-09T10:25:56.326Z"
   },
   {
    "duration": 31,
    "start_time": "2022-01-09T10:25:56.333Z"
   },
   {
    "duration": 6,
    "start_time": "2022-01-09T10:25:56.367Z"
   },
   {
    "duration": 60,
    "start_time": "2022-01-09T10:25:56.376Z"
   },
   {
    "duration": 32,
    "start_time": "2022-01-09T10:25:56.439Z"
   },
   {
    "duration": 29,
    "start_time": "2022-01-09T10:25:56.473Z"
   },
   {
    "duration": 93,
    "start_time": "2022-01-09T10:25:56.504Z"
   },
   {
    "duration": 110,
    "start_time": "2022-01-09T10:25:56.600Z"
   },
   {
    "duration": 75,
    "start_time": "2022-01-09T10:25:56.713Z"
   },
   {
    "duration": 33,
    "start_time": "2022-01-09T10:25:56.790Z"
   },
   {
    "duration": 5,
    "start_time": "2022-01-09T10:25:56.825Z"
   },
   {
    "duration": 27,
    "start_time": "2022-01-09T10:25:56.832Z"
   },
   {
    "duration": 14,
    "start_time": "2022-01-09T10:25:56.861Z"
   },
   {
    "duration": 70,
    "start_time": "2022-01-09T10:25:56.877Z"
   },
   {
    "duration": 41,
    "start_time": "2022-01-09T10:25:56.950Z"
   },
   {
    "duration": 5,
    "start_time": "2022-01-09T10:25:56.993Z"
   },
   {
    "duration": 19,
    "start_time": "2022-01-09T10:25:57.024Z"
   },
   {
    "duration": 16,
    "start_time": "2022-01-09T10:25:57.046Z"
   },
   {
    "duration": 37,
    "start_time": "2022-01-09T10:25:57.067Z"
   },
   {
    "duration": 29,
    "start_time": "2022-01-09T10:25:57.107Z"
   },
   {
    "duration": 20,
    "start_time": "2022-01-09T10:25:57.138Z"
   },
   {
    "duration": 16,
    "start_time": "2022-01-09T10:25:57.160Z"
   },
   {
    "duration": 11,
    "start_time": "2022-01-09T10:25:57.178Z"
   },
   {
    "duration": 28,
    "start_time": "2022-01-09T10:25:57.223Z"
   },
   {
    "duration": 3,
    "start_time": "2022-01-09T10:25:57.253Z"
   },
   {
    "duration": 6,
    "start_time": "2022-01-09T10:25:57.258Z"
   },
   {
    "duration": 7,
    "start_time": "2022-01-09T10:25:57.266Z"
   },
   {
    "duration": 7,
    "start_time": "2022-01-09T10:25:57.275Z"
   },
   {
    "duration": 43,
    "start_time": "2022-01-09T10:25:57.284Z"
   },
   {
    "duration": 4,
    "start_time": "2022-01-09T10:25:57.329Z"
   },
   {
    "duration": 4,
    "start_time": "2022-01-09T10:25:57.336Z"
   },
   {
    "duration": 6,
    "start_time": "2022-01-09T10:25:57.342Z"
   },
   {
    "duration": 6,
    "start_time": "2022-01-09T10:25:57.350Z"
   },
   {
    "duration": 6,
    "start_time": "2022-01-09T10:25:57.358Z"
   },
   {
    "duration": 18,
    "start_time": "2022-01-09T10:27:21.069Z"
   },
   {
    "duration": 27,
    "start_time": "2022-01-09T10:29:00.513Z"
   },
   {
    "duration": 13,
    "start_time": "2022-01-09T10:29:19.880Z"
   },
   {
    "duration": 20,
    "start_time": "2022-01-09T10:51:22.284Z"
   },
   {
    "duration": 18,
    "start_time": "2022-01-09T10:51:38.166Z"
   },
   {
    "duration": 420,
    "start_time": "2022-01-09T10:59:49.401Z"
   },
   {
    "duration": 7,
    "start_time": "2022-01-09T11:00:09.574Z"
   },
   {
    "duration": 43,
    "start_time": "2022-01-09T11:00:16.905Z"
   },
   {
    "duration": 29,
    "start_time": "2022-01-09T11:01:42.774Z"
   },
   {
    "duration": 5,
    "start_time": "2022-01-09T11:04:13.440Z"
   },
   {
    "duration": 25,
    "start_time": "2022-01-09T11:04:22.622Z"
   },
   {
    "duration": 16,
    "start_time": "2022-01-09T11:05:04.844Z"
   },
   {
    "duration": 37,
    "start_time": "2022-01-09T11:06:43.802Z"
   },
   {
    "duration": 25,
    "start_time": "2022-01-09T11:07:36.777Z"
   },
   {
    "duration": 17,
    "start_time": "2022-01-09T11:08:30.875Z"
   },
   {
    "duration": 26,
    "start_time": "2022-01-09T11:08:50.343Z"
   },
   {
    "duration": 305,
    "start_time": "2022-01-09T11:16:23.559Z"
   },
   {
    "duration": 29,
    "start_time": "2022-01-09T11:17:12.052Z"
   },
   {
    "duration": 12,
    "start_time": "2022-01-09T11:17:17.135Z"
   },
   {
    "duration": 293,
    "start_time": "2022-01-09T11:20:40.767Z"
   },
   {
    "duration": 12,
    "start_time": "2022-01-09T11:20:56.440Z"
   },
   {
    "duration": 7,
    "start_time": "2022-01-09T11:21:00.146Z"
   },
   {
    "duration": 9,
    "start_time": "2022-01-09T11:24:03.604Z"
   },
   {
    "duration": 6,
    "start_time": "2022-01-09T11:24:07.265Z"
   },
   {
    "duration": 592,
    "start_time": "2022-01-10T10:22:21.425Z"
   },
   {
    "duration": 138,
    "start_time": "2022-01-10T10:22:22.019Z"
   },
   {
    "duration": 16,
    "start_time": "2022-01-10T10:22:22.159Z"
   },
   {
    "duration": 23,
    "start_time": "2022-01-10T10:22:22.177Z"
   },
   {
    "duration": 4,
    "start_time": "2022-01-10T10:22:22.202Z"
   },
   {
    "duration": 31,
    "start_time": "2022-01-10T10:22:22.208Z"
   },
   {
    "duration": 5,
    "start_time": "2022-01-10T10:22:22.240Z"
   },
   {
    "duration": 20,
    "start_time": "2022-01-10T10:22:22.247Z"
   },
   {
    "duration": 14,
    "start_time": "2022-01-10T10:22:22.269Z"
   },
   {
    "duration": 44,
    "start_time": "2022-01-10T10:22:22.285Z"
   },
   {
    "duration": 50,
    "start_time": "2022-01-10T10:22:22.331Z"
   },
   {
    "duration": 66,
    "start_time": "2022-01-10T10:22:22.383Z"
   },
   {
    "duration": 44,
    "start_time": "2022-01-10T10:22:22.451Z"
   },
   {
    "duration": 10,
    "start_time": "2022-01-10T10:22:22.496Z"
   },
   {
    "duration": 19,
    "start_time": "2022-01-10T10:22:22.508Z"
   },
   {
    "duration": 14,
    "start_time": "2022-01-10T10:22:22.528Z"
   },
   {
    "duration": 8,
    "start_time": "2022-01-10T10:22:22.543Z"
   },
   {
    "duration": 28,
    "start_time": "2022-01-10T10:22:22.552Z"
   },
   {
    "duration": 54,
    "start_time": "2022-01-10T10:22:22.581Z"
   },
   {
    "duration": 3,
    "start_time": "2022-01-10T10:22:22.636Z"
   },
   {
    "duration": 23,
    "start_time": "2022-01-10T10:22:22.641Z"
   },
   {
    "duration": 13,
    "start_time": "2022-01-10T10:22:22.665Z"
   },
   {
    "duration": 14,
    "start_time": "2022-01-10T10:22:22.680Z"
   },
   {
    "duration": 13,
    "start_time": "2022-01-10T10:22:22.695Z"
   },
   {
    "duration": 15,
    "start_time": "2022-01-10T10:22:22.727Z"
   },
   {
    "duration": 13,
    "start_time": "2022-01-10T10:22:22.743Z"
   },
   {
    "duration": 8,
    "start_time": "2022-01-10T10:22:22.758Z"
   },
   {
    "duration": 11,
    "start_time": "2022-01-10T10:22:22.768Z"
   },
   {
    "duration": 7,
    "start_time": "2022-01-10T10:22:22.781Z"
   },
   {
    "duration": 37,
    "start_time": "2022-01-10T10:22:22.790Z"
   },
   {
    "duration": 22,
    "start_time": "2022-01-10T10:22:22.829Z"
   },
   {
    "duration": 10,
    "start_time": "2022-01-10T10:22:22.852Z"
   },
   {
    "duration": 17,
    "start_time": "2022-01-10T10:22:22.863Z"
   },
   {
    "duration": 11,
    "start_time": "2022-01-10T10:22:22.881Z"
   },
   {
    "duration": 7,
    "start_time": "2022-01-10T10:22:22.894Z"
   },
   {
    "duration": 26,
    "start_time": "2022-01-10T10:22:22.902Z"
   },
   {
    "duration": 7,
    "start_time": "2022-01-10T10:22:22.929Z"
   },
   {
    "duration": 4,
    "start_time": "2022-01-10T10:22:22.937Z"
   },
   {
    "duration": 621,
    "start_time": "2022-01-10T16:04:23.385Z"
   },
   {
    "duration": 296,
    "start_time": "2022-01-10T16:04:45.856Z"
   },
   {
    "duration": 833,
    "start_time": "2022-01-10T16:04:56.840Z"
   },
   {
    "duration": 206,
    "start_time": "2022-01-10T16:04:57.676Z"
   },
   {
    "duration": 11,
    "start_time": "2022-01-10T16:04:57.885Z"
   },
   {
    "duration": 35,
    "start_time": "2022-01-10T16:04:57.900Z"
   },
   {
    "duration": 28,
    "start_time": "2022-01-10T16:04:57.937Z"
   },
   {
    "duration": 35,
    "start_time": "2022-01-10T16:04:57.968Z"
   },
   {
    "duration": 9,
    "start_time": "2022-01-10T16:04:58.006Z"
   },
   {
    "duration": 87,
    "start_time": "2022-01-10T16:04:58.019Z"
   },
   {
    "duration": 24,
    "start_time": "2022-01-10T16:04:58.109Z"
   },
   {
    "duration": 50,
    "start_time": "2022-01-10T16:04:58.135Z"
   },
   {
    "duration": 112,
    "start_time": "2022-01-10T16:04:58.188Z"
   },
   {
    "duration": 108,
    "start_time": "2022-01-10T16:04:58.302Z"
   },
   {
    "duration": 105,
    "start_time": "2022-01-10T16:04:58.413Z"
   },
   {
    "duration": 16,
    "start_time": "2022-01-10T16:04:58.520Z"
   },
   {
    "duration": 25,
    "start_time": "2022-01-10T16:04:58.538Z"
   },
   {
    "duration": 27,
    "start_time": "2022-01-10T16:04:58.567Z"
   },
   {
    "duration": 14,
    "start_time": "2022-01-10T16:04:58.596Z"
   },
   {
    "duration": 84,
    "start_time": "2022-01-10T16:04:58.613Z"
   },
   {
    "duration": 43,
    "start_time": "2022-01-10T16:04:58.700Z"
   },
   {
    "duration": 23,
    "start_time": "2022-01-10T16:04:58.745Z"
   },
   {
    "duration": 24,
    "start_time": "2022-01-10T16:04:58.777Z"
   },
   {
    "duration": 17,
    "start_time": "2022-01-10T16:04:58.803Z"
   },
   {
    "duration": 52,
    "start_time": "2022-01-10T16:04:58.826Z"
   },
   {
    "duration": 18,
    "start_time": "2022-01-10T16:04:58.881Z"
   },
   {
    "duration": 24,
    "start_time": "2022-01-10T16:04:58.901Z"
   },
   {
    "duration": 61,
    "start_time": "2022-01-10T16:04:58.927Z"
   },
   {
    "duration": 20,
    "start_time": "2022-01-10T16:04:58.990Z"
   },
   {
    "duration": 16,
    "start_time": "2022-01-10T16:04:59.013Z"
   },
   {
    "duration": 34,
    "start_time": "2022-01-10T16:04:59.032Z"
   },
   {
    "duration": 7,
    "start_time": "2022-01-10T16:04:59.071Z"
   },
   {
    "duration": 54,
    "start_time": "2022-01-10T16:04:59.081Z"
   },
   {
    "duration": 37,
    "start_time": "2022-01-10T16:04:59.138Z"
   },
   {
    "duration": 38,
    "start_time": "2022-01-10T16:04:59.179Z"
   },
   {
    "duration": 27,
    "start_time": "2022-01-10T16:04:59.220Z"
   },
   {
    "duration": 21,
    "start_time": "2022-01-10T16:04:59.263Z"
   },
   {
    "duration": 6,
    "start_time": "2022-01-10T16:04:59.287Z"
   },
   {
    "duration": 10,
    "start_time": "2022-01-10T16:04:59.296Z"
   },
   {
    "duration": 6,
    "start_time": "2022-01-10T16:04:59.309Z"
   },
   {
    "duration": 18,
    "start_time": "2022-01-10T16:05:29.125Z"
   },
   {
    "duration": 16,
    "start_time": "2022-01-10T16:23:24.530Z"
   },
   {
    "duration": 15,
    "start_time": "2022-01-10T16:32:52.462Z"
   },
   {
    "duration": 16,
    "start_time": "2022-01-10T16:33:22.298Z"
   },
   {
    "duration": 413,
    "start_time": "2022-01-10T16:33:50.791Z"
   },
   {
    "duration": 16,
    "start_time": "2022-01-10T16:34:03.468Z"
   },
   {
    "duration": 15,
    "start_time": "2022-01-10T16:34:41.746Z"
   },
   {
    "duration": 16,
    "start_time": "2022-01-10T16:38:00.152Z"
   },
   {
    "duration": 17,
    "start_time": "2022-01-10T16:38:03.446Z"
   },
   {
    "duration": 16,
    "start_time": "2022-01-10T16:38:09.323Z"
   },
   {
    "duration": 10,
    "start_time": "2022-01-10T16:38:31.159Z"
   },
   {
    "duration": 10,
    "start_time": "2022-01-10T16:38:35.891Z"
   },
   {
    "duration": 24,
    "start_time": "2022-01-10T16:38:45.208Z"
   },
   {
    "duration": 96,
    "start_time": "2022-01-10T16:39:41.922Z"
   },
   {
    "duration": 17,
    "start_time": "2022-01-10T16:40:06.943Z"
   },
   {
    "duration": 5,
    "start_time": "2022-01-10T16:40:46.537Z"
   },
   {
    "duration": 3,
    "start_time": "2022-01-10T16:41:21.272Z"
   },
   {
    "duration": 234,
    "start_time": "2022-01-10T16:41:21.279Z"
   },
   {
    "duration": 17,
    "start_time": "2022-01-10T16:41:21.516Z"
   },
   {
    "duration": 53,
    "start_time": "2022-01-10T16:41:21.562Z"
   },
   {
    "duration": 10,
    "start_time": "2022-01-10T16:41:21.619Z"
   },
   {
    "duration": 55,
    "start_time": "2022-01-10T16:41:21.632Z"
   },
   {
    "duration": 6,
    "start_time": "2022-01-10T16:41:21.692Z"
   },
   {
    "duration": 63,
    "start_time": "2022-01-10T16:41:21.702Z"
   },
   {
    "duration": 31,
    "start_time": "2022-01-10T16:41:21.768Z"
   },
   {
    "duration": 61,
    "start_time": "2022-01-10T16:41:21.802Z"
   },
   {
    "duration": 94,
    "start_time": "2022-01-10T16:41:21.870Z"
   },
   {
    "duration": 104,
    "start_time": "2022-01-10T16:41:21.966Z"
   },
   {
    "duration": 75,
    "start_time": "2022-01-10T16:41:22.073Z"
   },
   {
    "duration": 22,
    "start_time": "2022-01-10T16:41:22.151Z"
   },
   {
    "duration": 4,
    "start_time": "2022-01-10T16:41:22.176Z"
   },
   {
    "duration": 22,
    "start_time": "2022-01-10T16:41:22.182Z"
   },
   {
    "duration": 14,
    "start_time": "2022-01-10T16:41:22.207Z"
   },
   {
    "duration": 52,
    "start_time": "2022-01-10T16:41:22.223Z"
   },
   {
    "duration": 15,
    "start_time": "2022-01-10T16:41:22.279Z"
   },
   {
    "duration": 4,
    "start_time": "2022-01-10T16:41:22.297Z"
   },
   {
    "duration": 27,
    "start_time": "2022-01-10T16:41:22.304Z"
   },
   {
    "duration": 19,
    "start_time": "2022-01-10T16:41:22.363Z"
   },
   {
    "duration": 19,
    "start_time": "2022-01-10T16:41:22.385Z"
   },
   {
    "duration": 17,
    "start_time": "2022-01-10T16:41:22.407Z"
   },
   {
    "duration": 53,
    "start_time": "2022-01-10T16:41:22.427Z"
   },
   {
    "duration": 18,
    "start_time": "2022-01-10T16:41:22.482Z"
   },
   {
    "duration": 13,
    "start_time": "2022-01-10T16:41:22.502Z"
   },
   {
    "duration": 55,
    "start_time": "2022-01-10T16:41:22.518Z"
   },
   {
    "duration": 13,
    "start_time": "2022-01-10T16:41:22.576Z"
   },
   {
    "duration": 5,
    "start_time": "2022-01-10T16:41:22.592Z"
   },
   {
    "duration": 28,
    "start_time": "2022-01-10T16:41:22.600Z"
   },
   {
    "duration": 46,
    "start_time": "2022-01-10T16:41:22.631Z"
   },
   {
    "duration": 24,
    "start_time": "2022-01-10T16:41:22.680Z"
   },
   {
    "duration": 17,
    "start_time": "2022-01-10T16:41:22.707Z"
   },
   {
    "duration": 46,
    "start_time": "2022-01-10T16:41:22.726Z"
   },
   {
    "duration": 6,
    "start_time": "2022-01-10T16:41:22.775Z"
   },
   {
    "duration": 11,
    "start_time": "2022-01-10T16:41:22.783Z"
   },
   {
    "duration": 6,
    "start_time": "2022-01-10T16:41:22.796Z"
   },
   {
    "duration": 4,
    "start_time": "2022-01-10T16:44:51.051Z"
   },
   {
    "duration": 22,
    "start_time": "2022-01-10T16:44:54.279Z"
   },
   {
    "duration": 16,
    "start_time": "2022-01-10T16:45:02.433Z"
   },
   {
    "duration": 6,
    "start_time": "2022-01-10T16:50:01.583Z"
   },
   {
    "duration": 6,
    "start_time": "2022-01-10T16:50:17.687Z"
   },
   {
    "duration": 12,
    "start_time": "2022-01-10T16:50:49.211Z"
   },
   {
    "duration": 1207,
    "start_time": "2022-01-10T19:15:18.786Z"
   },
   {
    "duration": 197,
    "start_time": "2022-01-10T19:15:19.996Z"
   },
   {
    "duration": 27,
    "start_time": "2022-01-10T19:15:20.196Z"
   },
   {
    "duration": 68,
    "start_time": "2022-01-10T19:15:20.226Z"
   },
   {
    "duration": 7,
    "start_time": "2022-01-10T19:15:20.296Z"
   },
   {
    "duration": 57,
    "start_time": "2022-01-10T19:15:20.306Z"
   },
   {
    "duration": 13,
    "start_time": "2022-01-10T19:15:20.368Z"
   },
   {
    "duration": 35,
    "start_time": "2022-01-10T19:15:20.383Z"
   },
   {
    "duration": 50,
    "start_time": "2022-01-10T19:15:20.422Z"
   },
   {
    "duration": 31,
    "start_time": "2022-01-10T19:15:20.476Z"
   },
   {
    "duration": 114,
    "start_time": "2022-01-10T19:15:20.510Z"
   },
   {
    "duration": 111,
    "start_time": "2022-01-10T19:15:20.627Z"
   },
   {
    "duration": 83,
    "start_time": "2022-01-10T19:15:20.740Z"
   },
   {
    "duration": 13,
    "start_time": "2022-01-10T19:15:20.826Z"
   },
   {
    "duration": 21,
    "start_time": "2022-01-10T19:15:20.842Z"
   },
   {
    "duration": 31,
    "start_time": "2022-01-10T19:15:20.866Z"
   },
   {
    "duration": 14,
    "start_time": "2022-01-10T19:15:20.899Z"
   },
   {
    "duration": 54,
    "start_time": "2022-01-10T19:15:20.916Z"
   },
   {
    "duration": 20,
    "start_time": "2022-01-10T19:15:20.973Z"
   },
   {
    "duration": 5,
    "start_time": "2022-01-10T19:15:20.995Z"
   },
   {
    "duration": 29,
    "start_time": "2022-01-10T19:15:21.003Z"
   },
   {
    "duration": 45,
    "start_time": "2022-01-10T19:15:21.035Z"
   },
   {
    "duration": 26,
    "start_time": "2022-01-10T19:15:21.083Z"
   },
   {
    "duration": 50,
    "start_time": "2022-01-10T19:15:21.112Z"
   },
   {
    "duration": 30,
    "start_time": "2022-01-10T19:15:21.165Z"
   },
   {
    "duration": 62,
    "start_time": "2022-01-10T19:15:21.198Z"
   },
   {
    "duration": 16,
    "start_time": "2022-01-10T19:15:21.269Z"
   },
   {
    "duration": 16,
    "start_time": "2022-01-10T19:15:21.289Z"
   },
   {
    "duration": 12,
    "start_time": "2022-01-10T19:15:21.308Z"
   },
   {
    "duration": 8,
    "start_time": "2022-01-10T19:15:21.323Z"
   },
   {
    "duration": 48,
    "start_time": "2022-01-10T19:15:21.333Z"
   },
   {
    "duration": 21,
    "start_time": "2022-01-10T19:15:21.384Z"
   },
   {
    "duration": 64,
    "start_time": "2022-01-10T19:15:21.407Z"
   },
   {
    "duration": 22,
    "start_time": "2022-01-10T19:15:21.474Z"
   },
   {
    "duration": 70,
    "start_time": "2022-01-10T19:15:21.499Z"
   },
   {
    "duration": 8,
    "start_time": "2022-01-10T19:15:21.571Z"
   },
   {
    "duration": 19,
    "start_time": "2022-01-10T19:15:21.582Z"
   },
   {
    "duration": 7,
    "start_time": "2022-01-10T19:15:21.603Z"
   },
   {
    "duration": 69,
    "start_time": "2022-08-09T14:13:33.635Z"
   },
   {
    "duration": 438,
    "start_time": "2022-08-09T14:13:43.217Z"
   },
   {
    "duration": 276,
    "start_time": "2022-08-09T14:13:43.658Z"
   },
   {
    "duration": 19,
    "start_time": "2022-08-09T14:13:43.936Z"
   },
   {
    "duration": 43,
    "start_time": "2022-08-09T14:13:43.958Z"
   },
   {
    "duration": 10,
    "start_time": "2022-08-09T14:13:44.003Z"
   },
   {
    "duration": 13,
    "start_time": "2022-08-09T14:13:44.015Z"
   },
   {
    "duration": 7,
    "start_time": "2022-08-09T14:13:44.029Z"
   },
   {
    "duration": 41,
    "start_time": "2022-08-09T14:13:44.037Z"
   },
   {
    "duration": 18,
    "start_time": "2022-08-09T14:13:44.080Z"
   },
   {
    "duration": 23,
    "start_time": "2022-08-09T14:13:44.101Z"
   },
   {
    "duration": 88,
    "start_time": "2022-08-09T14:13:44.125Z"
   },
   {
    "duration": 101,
    "start_time": "2022-08-09T14:13:44.215Z"
   },
   {
    "duration": 87,
    "start_time": "2022-08-09T14:13:44.318Z"
   },
   {
    "duration": 11,
    "start_time": "2022-08-09T14:13:44.409Z"
   },
   {
    "duration": 9,
    "start_time": "2022-08-09T14:13:44.422Z"
   },
   {
    "duration": 47,
    "start_time": "2022-08-09T14:13:44.433Z"
   },
   {
    "duration": 12,
    "start_time": "2022-08-09T14:13:44.482Z"
   },
   {
    "duration": 17,
    "start_time": "2022-08-09T14:13:44.496Z"
   },
   {
    "duration": 18,
    "start_time": "2022-08-09T14:13:44.515Z"
   },
   {
    "duration": 25,
    "start_time": "2022-08-09T14:13:44.535Z"
   },
   {
    "duration": 42,
    "start_time": "2022-08-09T14:13:44.567Z"
   },
   {
    "duration": 18,
    "start_time": "2022-08-09T14:13:44.611Z"
   },
   {
    "duration": 19,
    "start_time": "2022-08-09T14:13:44.631Z"
   },
   {
    "duration": 22,
    "start_time": "2022-08-09T14:13:44.652Z"
   },
   {
    "duration": 22,
    "start_time": "2022-08-09T14:13:44.676Z"
   },
   {
    "duration": 15,
    "start_time": "2022-08-09T14:13:44.699Z"
   },
   {
    "duration": 9,
    "start_time": "2022-08-09T14:13:44.716Z"
   },
   {
    "duration": 32,
    "start_time": "2022-08-09T14:13:44.728Z"
   },
   {
    "duration": 16,
    "start_time": "2022-08-09T14:13:44.761Z"
   },
   {
    "duration": 7,
    "start_time": "2022-08-09T14:13:44.780Z"
   },
   {
    "duration": 23,
    "start_time": "2022-08-09T14:13:44.788Z"
   },
   {
    "duration": 13,
    "start_time": "2022-08-09T14:13:44.813Z"
   },
   {
    "duration": 47,
    "start_time": "2022-08-09T14:13:44.828Z"
   },
   {
    "duration": 18,
    "start_time": "2022-08-09T14:13:44.877Z"
   },
   {
    "duration": 11,
    "start_time": "2022-08-09T14:13:44.897Z"
   },
   {
    "duration": 13,
    "start_time": "2022-08-09T14:13:44.910Z"
   },
   {
    "duration": 14,
    "start_time": "2022-08-09T14:13:44.925Z"
   },
   {
    "duration": 7,
    "start_time": "2022-08-09T14:13:44.940Z"
   },
   {
    "duration": 31,
    "start_time": "2022-08-09T14:14:43.936Z"
   },
   {
    "duration": 3,
    "start_time": "2022-08-09T14:15:07.511Z"
   },
   {
    "duration": 211,
    "start_time": "2022-08-09T14:15:07.516Z"
   },
   {
    "duration": 11,
    "start_time": "2022-08-09T14:15:07.730Z"
   },
   {
    "duration": 65,
    "start_time": "2022-08-09T14:15:07.743Z"
   },
   {
    "duration": 5,
    "start_time": "2022-08-09T14:15:07.811Z"
   },
   {
    "duration": 17,
    "start_time": "2022-08-09T14:15:07.817Z"
   },
   {
    "duration": 13,
    "start_time": "2022-08-09T14:15:07.835Z"
   },
   {
    "duration": 57,
    "start_time": "2022-08-09T14:15:07.850Z"
   },
   {
    "duration": 21,
    "start_time": "2022-08-09T14:15:07.909Z"
   },
   {
    "duration": 41,
    "start_time": "2022-08-09T14:15:07.932Z"
   },
   {
    "duration": 98,
    "start_time": "2022-08-09T14:15:07.985Z"
   },
   {
    "duration": 92,
    "start_time": "2022-08-09T14:15:08.085Z"
   },
   {
    "duration": 62,
    "start_time": "2022-08-09T14:15:08.180Z"
   },
   {
    "duration": 28,
    "start_time": "2022-08-09T14:15:08.244Z"
   },
   {
    "duration": 26,
    "start_time": "2022-08-09T14:15:08.275Z"
   },
   {
    "duration": 34,
    "start_time": "2022-08-09T14:15:08.303Z"
   },
   {
    "duration": 9,
    "start_time": "2022-08-09T14:15:08.339Z"
   },
   {
    "duration": 40,
    "start_time": "2022-08-09T14:15:08.350Z"
   },
   {
    "duration": 11,
    "start_time": "2022-08-09T14:15:08.392Z"
   },
   {
    "duration": 9,
    "start_time": "2022-08-09T14:15:08.404Z"
   },
   {
    "duration": 19,
    "start_time": "2022-08-09T14:15:08.415Z"
   },
   {
    "duration": 31,
    "start_time": "2022-08-09T14:15:08.436Z"
   },
   {
    "duration": 28,
    "start_time": "2022-08-09T14:15:08.471Z"
   },
   {
    "duration": 17,
    "start_time": "2022-08-09T14:15:08.500Z"
   },
   {
    "duration": 21,
    "start_time": "2022-08-09T14:15:08.521Z"
   },
   {
    "duration": 34,
    "start_time": "2022-08-09T14:15:08.545Z"
   },
   {
    "duration": 14,
    "start_time": "2022-08-09T14:15:08.580Z"
   },
   {
    "duration": 19,
    "start_time": "2022-08-09T14:15:08.597Z"
   },
   {
    "duration": 11,
    "start_time": "2022-08-09T14:15:08.619Z"
   },
   {
    "duration": 6,
    "start_time": "2022-08-09T14:15:08.632Z"
   },
   {
    "duration": 40,
    "start_time": "2022-08-09T14:15:08.640Z"
   },
   {
    "duration": 20,
    "start_time": "2022-08-09T14:15:08.682Z"
   },
   {
    "duration": 22,
    "start_time": "2022-08-09T14:15:08.704Z"
   },
   {
    "duration": 12,
    "start_time": "2022-08-09T14:15:08.728Z"
   },
   {
    "duration": 39,
    "start_time": "2022-08-09T14:15:08.742Z"
   },
   {
    "duration": 6,
    "start_time": "2022-08-09T14:15:08.783Z"
   },
   {
    "duration": 13,
    "start_time": "2022-08-09T14:15:08.790Z"
   },
   {
    "duration": 5,
    "start_time": "2022-08-09T14:15:08.805Z"
   },
   {
    "duration": 4,
    "start_time": "2022-08-09T14:17:04.185Z"
   },
   {
    "duration": 3,
    "start_time": "2022-08-09T14:17:19.016Z"
   },
   {
    "duration": 185,
    "start_time": "2022-08-09T14:17:19.021Z"
   },
   {
    "duration": 10,
    "start_time": "2022-08-09T14:17:19.208Z"
   },
   {
    "duration": 42,
    "start_time": "2022-08-09T14:17:19.220Z"
   },
   {
    "duration": 4,
    "start_time": "2022-08-09T14:17:30.192Z"
   },
   {
    "duration": 8,
    "start_time": "2022-08-09T14:18:39.272Z"
   },
   {
    "duration": 4,
    "start_time": "2022-08-09T14:19:00.221Z"
   },
   {
    "duration": 24,
    "start_time": "2022-08-09T14:20:17.814Z"
   },
   {
    "duration": 18,
    "start_time": "2022-08-09T14:22:02.871Z"
   },
   {
    "duration": 24,
    "start_time": "2022-08-09T14:22:21.696Z"
   },
   {
    "duration": 78,
    "start_time": "2022-08-09T14:22:56.989Z"
   },
   {
    "duration": 79,
    "start_time": "2022-08-09T14:23:08.834Z"
   },
   {
    "duration": 73,
    "start_time": "2022-08-09T14:23:16.600Z"
   },
   {
    "duration": 10,
    "start_time": "2022-08-09T14:24:43.023Z"
   },
   {
    "duration": 15,
    "start_time": "2022-08-09T14:24:56.281Z"
   },
   {
    "duration": 3,
    "start_time": "2022-08-09T14:25:07.387Z"
   },
   {
    "duration": 179,
    "start_time": "2022-08-09T14:25:07.394Z"
   },
   {
    "duration": 13,
    "start_time": "2022-08-09T14:25:07.576Z"
   },
   {
    "duration": 42,
    "start_time": "2022-08-09T14:25:07.591Z"
   },
   {
    "duration": 5,
    "start_time": "2022-08-09T14:25:07.635Z"
   },
   {
    "duration": 46,
    "start_time": "2022-08-09T14:25:07.642Z"
   },
   {
    "duration": 5,
    "start_time": "2022-08-09T14:25:07.691Z"
   },
   {
    "duration": 39,
    "start_time": "2022-08-09T14:25:07.698Z"
   },
   {
    "duration": 19,
    "start_time": "2022-08-09T14:25:07.739Z"
   },
   {
    "duration": 29,
    "start_time": "2022-08-09T14:25:07.765Z"
   },
   {
    "duration": 77,
    "start_time": "2022-08-09T14:25:07.797Z"
   },
   {
    "duration": 68,
    "start_time": "2022-08-09T14:25:07.876Z"
   },
   {
    "duration": 72,
    "start_time": "2022-08-09T14:25:07.946Z"
   },
   {
    "duration": 9,
    "start_time": "2022-08-09T14:25:14.681Z"
   },
   {
    "duration": 3,
    "start_time": "2022-08-09T14:28:24.282Z"
   },
   {
    "duration": 4,
    "start_time": "2022-08-09T14:30:15.521Z"
   },
   {
    "duration": 28,
    "start_time": "2022-08-09T14:31:08.954Z"
   },
   {
    "duration": 9,
    "start_time": "2022-08-09T14:31:38.705Z"
   },
   {
    "duration": 19,
    "start_time": "2022-08-09T14:35:25.857Z"
   },
   {
    "duration": 14,
    "start_time": "2022-08-09T14:36:13.494Z"
   },
   {
    "duration": 4,
    "start_time": "2022-08-09T14:38:23.643Z"
   },
   {
    "duration": 16,
    "start_time": "2022-08-09T14:39:14.375Z"
   },
   {
    "duration": 20,
    "start_time": "2022-08-09T14:39:16.482Z"
   },
   {
    "duration": 12,
    "start_time": "2022-08-09T14:41:25.509Z"
   },
   {
    "duration": 10,
    "start_time": "2022-08-11T07:55:48.612Z"
   },
   {
    "duration": 47,
    "start_time": "2022-08-11T07:56:43.002Z"
   },
   {
    "duration": 431,
    "start_time": "2022-08-11T07:56:49.106Z"
   },
   {
    "duration": 182,
    "start_time": "2022-08-11T07:56:49.539Z"
   },
   {
    "duration": 18,
    "start_time": "2022-08-11T07:56:49.723Z"
   },
   {
    "duration": 31,
    "start_time": "2022-08-11T07:56:49.743Z"
   },
   {
    "duration": 4,
    "start_time": "2022-08-11T07:56:49.792Z"
   },
   {
    "duration": 13,
    "start_time": "2022-08-11T07:56:49.798Z"
   },
   {
    "duration": 7,
    "start_time": "2022-08-11T07:56:49.813Z"
   },
   {
    "duration": 34,
    "start_time": "2022-08-11T07:56:49.822Z"
   },
   {
    "duration": 34,
    "start_time": "2022-08-11T07:56:49.858Z"
   },
   {
    "duration": 27,
    "start_time": "2022-08-11T07:56:49.895Z"
   },
   {
    "duration": 97,
    "start_time": "2022-08-11T07:56:49.924Z"
   },
   {
    "duration": 92,
    "start_time": "2022-08-11T07:56:50.023Z"
   },
   {
    "duration": 76,
    "start_time": "2022-08-11T07:56:50.117Z"
   },
   {
    "duration": 10,
    "start_time": "2022-08-11T07:56:50.195Z"
   },
   {
    "duration": 5,
    "start_time": "2022-08-11T07:56:50.207Z"
   },
   {
    "duration": 29,
    "start_time": "2022-08-11T07:56:50.214Z"
   },
   {
    "duration": 11,
    "start_time": "2022-08-11T07:56:50.244Z"
   },
   {
    "duration": 39,
    "start_time": "2022-08-11T07:56:50.257Z"
   },
   {
    "duration": 14,
    "start_time": "2022-08-11T07:56:50.297Z"
   },
   {
    "duration": 3,
    "start_time": "2022-08-11T07:56:50.312Z"
   },
   {
    "duration": 24,
    "start_time": "2022-08-11T07:56:50.317Z"
   },
   {
    "duration": 16,
    "start_time": "2022-08-11T07:56:50.343Z"
   },
   {
    "duration": 19,
    "start_time": "2022-08-11T07:56:50.392Z"
   },
   {
    "duration": 17,
    "start_time": "2022-08-11T07:56:50.413Z"
   },
   {
    "duration": 19,
    "start_time": "2022-08-11T07:56:50.432Z"
   },
   {
    "duration": 51,
    "start_time": "2022-08-11T07:56:50.453Z"
   },
   {
    "duration": 9,
    "start_time": "2022-08-11T07:56:50.506Z"
   },
   {
    "duration": 34,
    "start_time": "2022-08-11T07:56:50.519Z"
   },
   {
    "duration": 3,
    "start_time": "2022-08-11T07:56:50.555Z"
   },
   {
    "duration": 18,
    "start_time": "2022-08-11T07:57:07.466Z"
   },
   {
    "duration": 13,
    "start_time": "2022-08-11T07:57:30.379Z"
   },
   {
    "duration": 18,
    "start_time": "2022-08-11T07:57:58.677Z"
   },
   {
    "duration": 13,
    "start_time": "2022-08-11T07:58:04.680Z"
   },
   {
    "duration": 12,
    "start_time": "2022-08-11T07:58:57.808Z"
   },
   {
    "duration": 12,
    "start_time": "2022-08-11T07:59:17.215Z"
   },
   {
    "duration": 9,
    "start_time": "2022-08-11T07:59:44.432Z"
   }
  ],
  "colab": {
   "collapsed_sections": [
    "E0vqbgi9ay0H",
    "VUC88oWjTJw2"
   ],
   "name": "yandex_music_project_2021.2.ipynb",
   "provenance": []
  },
  "kernelspec": {
   "display_name": "Python 3 (ipykernel)",
   "language": "python",
   "name": "python3"
  },
  "language_info": {
   "codemirror_mode": {
    "name": "ipython",
    "version": 3
   },
   "file_extension": ".py",
   "mimetype": "text/x-python",
   "name": "python",
   "nbconvert_exporter": "python",
   "pygments_lexer": "ipython3",
   "version": "3.9.5"
  },
  "toc": {
   "base_numbering": 1,
   "nav_menu": {},
   "number_sections": true,
   "sideBar": true,
   "skip_h1_title": true,
   "title_cell": "Table of Contents",
   "title_sidebar": "Contents",
   "toc_cell": false,
   "toc_position": {},
   "toc_section_display": true,
   "toc_window_display": true
  }
 },
 "nbformat": 4,
 "nbformat_minor": 1
}
