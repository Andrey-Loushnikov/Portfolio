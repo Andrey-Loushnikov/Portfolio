{
 "cells": [
  {
   "cell_type": "markdown",
   "id": "32ae957d",
   "metadata": {},
   "source": [
    "# Создание дашборда по пользовательским событиям\n",
    "Для автоматизации регулярно ставящейся задачи решено создать дашборд, который бы отвечал на вопросы:\n",
    "- Сколько взаимодействий пользователей с карточками происходит в системе с разбивкой по темам карточек?\n",
    "- Как много карточек генерируют источники с разными темами?\n",
    "- Как соотносятся темы карточек и темы источников?\n",
    "\n",
    "По результатам будет подготовлена презентация с полученными графиками.\n",
    "\n",
    "В основе дашборда данные из таблицы, в которых хранятся сырые данные, далее они трансформируются и укладываются в агрегирующую таблицу. Для работы над проектом нам необходимо будет подключится к удалённой базе для выгрузки таблицы на локальную машину и дальнейшей работы с ней в Tableau."
   ]
  },
  {
   "cell_type": "markdown",
   "id": "86d89fe0",
   "metadata": {},
   "source": [
    "[Дашборд](https://public.tableau.com/app/profile/andre8795/viz/Dzen_16541079588780/Dzen?publish=yes)\n",
    "\n",
    "[Презентация](https://docs.google.com/presentation/d/1ThcBHCTK2Ei3USFPuaCrmH8Z-qCheL5STtavw43a-DY/edit?usp=sharing)"
   ]
  }
 ],
 "metadata": {
  "kernelspec": {
   "display_name": "Python 3 (ipykernel)",
   "language": "python",
   "name": "python3"
  },
  "language_info": {
   "codemirror_mode": {
    "name": "ipython",
    "version": 3
   },
   "file_extension": ".py",
   "mimetype": "text/x-python",
   "name": "python",
   "nbconvert_exporter": "python",
   "pygments_lexer": "ipython3",
   "version": "3.9.5"
  },
  "toc": {
   "base_numbering": 1,
   "nav_menu": {},
   "number_sections": true,
   "sideBar": true,
   "skip_h1_title": true,
   "title_cell": "Table of Contents",
   "title_sidebar": "Contents",
   "toc_cell": false,
   "toc_position": {},
   "toc_section_display": true,
   "toc_window_display": false
  }
 },
 "nbformat": 4,
 "nbformat_minor": 5
}
